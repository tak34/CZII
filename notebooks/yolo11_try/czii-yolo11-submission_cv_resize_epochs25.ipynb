{
 "cells": [
  {
   "cell_type": "markdown",
   "id": "1ffbac67",
   "metadata": {
    "papermill": {
     "duration": 0.005854,
     "end_time": "2024-12-28T13:50:56.936938",
     "exception": false,
     "start_time": "2024-12-28T13:50:56.931084",
     "status": "completed"
    },
    "tags": []
   },
   "source": [
    "# Install and Import modules"
   ]
  },
  {
   "cell_type": "code",
   "execution_count": 1,
   "id": "e9488e8e",
   "metadata": {
    "execution": {
     "iopub.execute_input": "2024-12-28T13:50:56.949259Z",
     "iopub.status.busy": "2024-12-28T13:50:56.949002Z",
     "iopub.status.idle": "2024-12-28T13:51:52.752309Z",
     "shell.execute_reply": "2024-12-28T13:51:52.751353Z"
    },
    "papermill": {
     "duration": 55.811301,
     "end_time": "2024-12-28T13:51:52.754542",
     "exception": false,
     "start_time": "2024-12-28T13:50:56.943241",
     "status": "completed"
    },
    "tags": []
   },
   "outputs": [],
   "source": [
    "# !tar xfvz /kaggle/input/ultralytics-for-offline-install/archive.tar.gz\n",
    "# !pip install --no-index --find-links=./packages ultralytics\n",
    "# !rm -rf ./packages"
   ]
  },
  {
   "cell_type": "code",
   "execution_count": 2,
   "id": "bf109feb",
   "metadata": {
    "execution": {
     "iopub.execute_input": "2024-12-28T13:51:52.769693Z",
     "iopub.status.busy": "2024-12-28T13:51:52.769433Z",
     "iopub.status.idle": "2024-12-28T13:52:44.646175Z",
     "shell.execute_reply": "2024-12-28T13:52:44.645306Z"
    },
    "papermill": {
     "duration": 51.886757,
     "end_time": "2024-12-28T13:52:44.648360",
     "exception": false,
     "start_time": "2024-12-28T13:51:52.761603",
     "status": "completed"
    },
    "tags": []
   },
   "outputs": [],
   "source": [
    "# !cp -r '/kaggle/input/hengck-czii-cryo-et-01/wheel_file' '/kaggle/working/'\n",
    "# !pip install /kaggle/working/wheel_file/asciitree-0.3.3/asciitree-0.3.3\n",
    "# !pip install --no-index --find-links=/kaggle/working/wheel_file zarr"
   ]
  },
  {
   "cell_type": "code",
   "execution_count": 3,
   "id": "ea033289",
   "metadata": {
    "execution": {
     "iopub.execute_input": "2024-12-28T13:52:44.665032Z",
     "iopub.status.busy": "2024-12-28T13:52:44.664720Z",
     "iopub.status.idle": "2024-12-28T13:52:50.880505Z",
     "shell.execute_reply": "2024-12-28T13:52:50.879768Z"
    },
    "papermill": {
     "duration": 6.226218,
     "end_time": "2024-12-28T13:52:50.882460",
     "exception": false,
     "start_time": "2024-12-28T13:52:44.656242",
     "status": "completed"
    },
    "tags": []
   },
   "outputs": [],
   "source": [
    "import zarr\n",
    "from ultralytics import YOLO\n",
    "from tqdm import tqdm\n",
    "import glob, os\n",
    "import torch"
   ]
  },
  {
   "cell_type": "code",
   "execution_count": 4,
   "id": "23607970",
   "metadata": {
    "execution": {
     "iopub.execute_input": "2024-12-28T13:52:50.898970Z",
     "iopub.status.busy": "2024-12-28T13:52:50.898492Z",
     "iopub.status.idle": "2024-12-28T13:52:51.543991Z",
     "shell.execute_reply": "2024-12-28T13:52:51.543273Z"
    },
    "papermill": {
     "duration": 0.655791,
     "end_time": "2024-12-28T13:52:51.546000",
     "exception": false,
     "start_time": "2024-12-28T13:52:50.890209",
     "status": "completed"
    },
    "tags": []
   },
   "outputs": [],
   "source": [
    "import numpy as np\n",
    "import pandas as pd\n",
    "import matplotlib.pyplot as plt\n",
    "import cv2"
   ]
  },
  {
   "cell_type": "code",
   "execution_count": 5,
   "id": "a5713382",
   "metadata": {},
   "outputs": [],
   "source": [
    "DATA_KAGGLE_DIR = '../../raw'\n",
    "EXP_NAME = \"cv_mod_resize_35\"\n",
    "LIST_CV = [\n",
    "    'TS_5_4',\n",
    "    'TS_69_2',\n",
    "    'TS_6_4',\n",
    "    'TS_6_6',\n",
    "]"
   ]
  },
  {
   "cell_type": "code",
   "execution_count": 6,
   "id": "e33a38f2",
   "metadata": {},
   "outputs": [
    {
     "name": "stderr",
     "output_type": "stream",
     "text": [
      "Failed to detect the name of this notebook, you can set it manually with the WANDB_NOTEBOOK_NAME environment variable to enable code saving.\n",
      "\u001b[34m\u001b[1mwandb\u001b[0m: \u001b[33mWARNING\u001b[0m If you're specifying your api key in code, ensure this code is not shared publicly.\n",
      "\u001b[34m\u001b[1mwandb\u001b[0m: \u001b[33mWARNING\u001b[0m Consider setting the WANDB_API_KEY environment variable, or running `wandb login` from the command line.\n",
      "\u001b[34m\u001b[1mwandb\u001b[0m: Appending key for api.wandb.ai to your netrc file: /root/.netrc\n",
      "\u001b[34m\u001b[1mwandb\u001b[0m: Currently logged in as: \u001b[33mtrira7503\u001b[0m to \u001b[32mhttps://api.wandb.ai\u001b[0m. Use \u001b[1m`wandb login --relogin`\u001b[0m to force relogin\n"
     ]
    }
   ],
   "source": [
    "WANDB = True\n",
    "WANDB_EXP_NAME = f\"{EXP_NAME}\"\n",
    "# EXP_NAME = \"try\"\n",
    "\n",
    "if WANDB:\n",
    "    # !pip install wandb\n",
    "    import wandb\n",
    "    import os\n",
    "    from dotenv import load_dotenv\n",
    "    load_dotenv()\n",
    "    wandb.login(key=os.environ.get(\"WANDB_API_KEY\"))"
   ]
  },
  {
   "cell_type": "markdown",
   "id": "70884c31",
   "metadata": {
    "papermill": {
     "duration": 0.007347,
     "end_time": "2024-12-28T13:52:51.584326",
     "exception": false,
     "start_time": "2024-12-28T13:52:51.576979",
     "status": "completed"
    },
    "tags": []
   },
   "source": [
    "We use a recursive function in this notebook, and we change the settings to explore the graph deep enough."
   ]
  },
  {
   "cell_type": "code",
   "execution_count": 7,
   "id": "21014ab4",
   "metadata": {
    "execution": {
     "iopub.execute_input": "2024-12-28T13:52:51.600204Z",
     "iopub.status.busy": "2024-12-28T13:52:51.599974Z",
     "iopub.status.idle": "2024-12-28T13:52:51.603467Z",
     "shell.execute_reply": "2024-12-28T13:52:51.602826Z"
    },
    "papermill": {
     "duration": 0.013256,
     "end_time": "2024-12-28T13:52:51.604987",
     "exception": false,
     "start_time": "2024-12-28T13:52:51.591731",
     "status": "completed"
    },
    "tags": []
   },
   "outputs": [],
   "source": [
    "import sys\n",
    "sys.setrecursionlimit(10000)"
   ]
  },
  {
   "cell_type": "code",
   "execution_count": 8,
   "id": "8fe921b1",
   "metadata": {
    "execution": {
     "iopub.execute_input": "2024-12-28T13:52:51.620732Z",
     "iopub.status.busy": "2024-12-28T13:52:51.620489Z",
     "iopub.status.idle": "2024-12-28T13:52:51.624056Z",
     "shell.execute_reply": "2024-12-28T13:52:51.623253Z"
    },
    "papermill": {
     "duration": 0.013302,
     "end_time": "2024-12-28T13:52:51.625610",
     "exception": false,
     "start_time": "2024-12-28T13:52:51.612308",
     "status": "completed"
    },
    "tags": []
   },
   "outputs": [],
   "source": [
    "import warnings\n",
    "warnings.simplefilter('ignore')\n",
    "np.warnings = warnings"
   ]
  },
  {
   "cell_type": "markdown",
   "id": "0fafcefc",
   "metadata": {
    "papermill": {
     "duration": 0.007464,
     "end_time": "2024-12-28T13:52:51.640389",
     "exception": false,
     "start_time": "2024-12-28T13:52:51.632925",
     "status": "completed"
    },
    "tags": []
   },
   "source": [
    "# Prepare trained YOLO model"
   ]
  },
  {
   "cell_type": "code",
   "execution_count": 9,
   "id": "25e079b9",
   "metadata": {
    "execution": {
     "iopub.execute_input": "2024-12-28T13:52:52.758917Z",
     "iopub.status.busy": "2024-12-28T13:52:52.758639Z",
     "iopub.status.idle": "2024-12-28T13:52:52.786496Z",
     "shell.execute_reply": "2024-12-28T13:52:52.785918Z"
    },
    "papermill": {
     "duration": 0.037849,
     "end_time": "2024-12-28T13:52:52.788116",
     "exception": false,
     "start_time": "2024-12-28T13:52:52.750267",
     "status": "completed"
    },
    "tags": []
   },
   "outputs": [],
   "source": [
    "#add by @minfuka\n",
    "assert torch.cuda.device_count() == 1"
   ]
  },
  {
   "cell_type": "code",
   "execution_count": 10,
   "id": "82303360",
   "metadata": {
    "execution": {
     "iopub.execute_input": "2024-12-28T13:52:52.824897Z",
     "iopub.status.busy": "2024-12-28T13:52:52.824633Z",
     "iopub.status.idle": "2024-12-28T13:52:52.828052Z",
     "shell.execute_reply": "2024-12-28T13:52:52.827354Z"
    },
    "papermill": {
     "duration": 0.013433,
     "end_time": "2024-12-28T13:52:52.829686",
     "exception": false,
     "start_time": "2024-12-28T13:52:52.816253",
     "status": "completed"
    },
    "tags": []
   },
   "outputs": [],
   "source": [
    "particle_names = ['apo-ferritin', 'beta-amylase', 'beta-galactosidase', 'ribosome', 'thyroglobulin', 'virus-like-particle']"
   ]
  },
  {
   "cell_type": "code",
   "execution_count": 11,
   "id": "5d07d838",
   "metadata": {
    "execution": {
     "iopub.execute_input": "2024-12-28T13:52:52.845973Z",
     "iopub.status.busy": "2024-12-28T13:52:52.845699Z",
     "iopub.status.idle": "2024-12-28T13:52:52.849573Z",
     "shell.execute_reply": "2024-12-28T13:52:52.848874Z"
    },
    "papermill": {
     "duration": 0.013798,
     "end_time": "2024-12-28T13:52:52.850993",
     "exception": false,
     "start_time": "2024-12-28T13:52:52.837195",
     "status": "completed"
    },
    "tags": []
   },
   "outputs": [],
   "source": [
    "p2i_dict = {\n",
    "        'apo-ferritin': 0,\n",
    "        'beta-amylase': 1,\n",
    "        'beta-galactosidase': 2,\n",
    "        'ribosome': 3,\n",
    "        'thyroglobulin': 4,\n",
    "        'virus-like-particle': 5\n",
    "    }\n",
    "\n",
    "i2p = {v:k for k, v in p2i_dict.items()}"
   ]
  },
  {
   "cell_type": "code",
   "execution_count": 12,
   "id": "eae85cdc",
   "metadata": {
    "execution": {
     "iopub.execute_input": "2024-12-28T13:52:52.866833Z",
     "iopub.status.busy": "2024-12-28T13:52:52.866593Z",
     "iopub.status.idle": "2024-12-28T13:52:52.870153Z",
     "shell.execute_reply": "2024-12-28T13:52:52.869416Z"
    },
    "papermill": {
     "duration": 0.013306,
     "end_time": "2024-12-28T13:52:52.871707",
     "exception": false,
     "start_time": "2024-12-28T13:52:52.858401",
     "status": "completed"
    },
    "tags": []
   },
   "outputs": [],
   "source": [
    "particle_radius = {\n",
    "        'apo-ferritin': 60,\n",
    "        'beta-amylase': 65,\n",
    "        'beta-galactosidase': 90,\n",
    "        'ribosome': 150,\n",
    "        'thyroglobulin': 130,\n",
    "        'virus-like-particle': 135,\n",
    "    }"
   ]
  },
  {
   "cell_type": "markdown",
   "id": "18e3575d",
   "metadata": {
    "papermill": {
     "duration": 0.007308,
     "end_time": "2024-12-28T13:52:52.886688",
     "exception": false,
     "start_time": "2024-12-28T13:52:52.879380",
     "status": "completed"
    },
    "tags": []
   },
   "source": [
    "# define Main process class\n",
    "There are many variables and functions going back and forth. We can easily manage variables by defining classes."
   ]
  },
  {
   "cell_type": "code",
   "execution_count": 13,
   "id": "e42efbe9",
   "metadata": {
    "execution": {
     "iopub.execute_input": "2024-12-28T13:52:52.902990Z",
     "iopub.status.busy": "2024-12-28T13:52:52.902726Z",
     "iopub.status.idle": "2024-12-28T13:52:52.921460Z",
     "shell.execute_reply": "2024-12-28T13:52:52.920852Z"
    },
    "papermill": {
     "duration": 0.028882,
     "end_time": "2024-12-28T13:52:52.922977",
     "exception": false,
     "start_time": "2024-12-28T13:52:52.894095",
     "status": "completed"
    },
    "tags": []
   },
   "outputs": [],
   "source": [
    "class PredAggForYOLO:\n",
    "    def __init__(self, first_conf=0.2, final_conf=0.3, conf_coef=0.75):\n",
    "        self.first_conf = first_conf # threshold of confidence yolo\n",
    "        self.final_conf = final_conf # final threshold score (not be used in version 14)\n",
    "        self.conf_coef = conf_coef # if found many points, give bonus\n",
    "        self.particle_confs = [0.5, 0.0, 0.2, 0.5, 0.2, 0.5] # be strict to easy labels \n",
    "\n",
    "    def convert_to_8bit(self, x):\n",
    "        lower, upper = np.percentile(x, (0.5, 99.5))\n",
    "        x = np.clip(x, lower, upper)\n",
    "        x = (x - x.min()) / (x.max() - x.min() + 1e-12) * 255\n",
    "        return x.round().astype(\"uint8\")\n",
    "\n",
    "    # depth first search.\n",
    "    # aggregate the coordinates and confidence scores of connected graphs.\n",
    "    def dfs(self, v):\n",
    "        self.passed[v] = True\n",
    "        self.conf_sum += self.pdf.iloc[v].confidence\n",
    "        self.cx += self.pdf.iloc[v].x\n",
    "        self.cy += self.pdf.iloc[v].y\n",
    "        self.cz += self.pdf.iloc[v].z\n",
    "        self.nv += 1\n",
    "        for next_v in self.adjacency_list[v]:\n",
    "            if (self.passed[next_v]): continue\n",
    "            self.dfs(next_v)\n",
    "\n",
    "    # main routine.\n",
    "    # change by @minfuka\n",
    "    # def make_predict_yolo(self, r, model):\n",
    "    def make_predict_yolo(self, r, model, device_no):\n",
    "        vol = zarr.open(f'{valid_dir}/static/ExperimentRuns/{r}/VoxelSpacing10.000/denoised.zarr', mode='r')\n",
    "        vol = vol[0]\n",
    "        vol2 = self.convert_to_8bit(vol)\n",
    "        n_imgs = vol2.shape[0]\n",
    "    \n",
    "        df = pd.DataFrame()\n",
    "    \n",
    "        pts = []\n",
    "        confs = []\n",
    "        xs = []\n",
    "        ys = []\n",
    "        zs = []\n",
    "        \n",
    "        for i in range(n_imgs):\n",
    "            # Unfortunately the image size needs to be a multiple of 32.\n",
    "            tmp_img = np.zeros((630, 630))\n",
    "            tmp_img[:] = vol2[i]\n",
    "    \n",
    "            inp_arr = np.stack([tmp_img]*3,axis=-1)\n",
    "            inp_arr = cv2.resize(inp_arr, (640,640))\n",
    "\n",
    "            # change by @minfuka\n",
    "            # res = model.predict(inp_arr, save=False, imgsz=640, conf=self.first_conf, device=\"0\", batch=1, verbose=False)\n",
    "            res = model.predict(inp_arr, save=False, imgsz=640, conf=self.first_conf, device=device_no, batch=1, verbose=False)\n",
    "            for j, result in enumerate(res):\n",
    "                boxes = result.boxes # Boxes object for bounding box outputs    \n",
    "                for k in range(len(boxes.cls)):\n",
    "                    ptype = i2p[boxes.cls.cpu().numpy()[k]] # particle type\n",
    "                    conf = boxes.conf.cpu().numpy()[k] # confidence score\n",
    "                    # YOLO can infer (start_x, end_x, start_y, end_y)\n",
    "                    xc = (boxes.xyxy[k,0] + boxes.xyxy[k,2]) / 2.0 * 10.012 * (63/64)\n",
    "                    yc = (boxes.xyxy[k,1] + boxes.xyxy[k,3]) / 2.0 * 10.012 * (63/64)\n",
    "                    zc = i * 10 + 5\n",
    "    \n",
    "                    pts.append(ptype)\n",
    "                    confs.append(conf)\n",
    "                    xs.append(xc.cpu().numpy())\n",
    "                    ys.append(yc.cpu().numpy())\n",
    "                    zs.append(zc)           \n",
    "                \n",
    "        df['particle_type'] = pts\n",
    "        df['confidence'] = confs\n",
    "        df['x'] = xs\n",
    "        df['y'] = ys\n",
    "        df['z'] = zs\n",
    "\n",
    "        # df includes overall canditate of CIRCLE. \n",
    "        df = df.sort_values(['particle_type', 'z'], ascending=[True, True])\n",
    "    \n",
    "        agg_df = []\n",
    "\n",
    "        # infer center of sphere each particle types\n",
    "        for pidx, p in enumerate(particle_names):\n",
    "            if p == 'beta-amylase':\n",
    "                continue\n",
    "            pdf = df[df['particle_type']==p].reset_index(drop=True)\n",
    "            self.pdf = pdf\n",
    "            p_rad = particle_radius[p]\n",
    "\n",
    "            # The distance between the x and y coordinates of adjacent slices is expected to be very small.\n",
    "            xy_tol = p_rad / 16.0\n",
    "            xy_tol_p2 = xy_tol ** 2\n",
    "\n",
    "            # define the graph\n",
    "            self.adjacency_list = [[] for _ in range(len(pdf))]\n",
    "            # which already passed in dfs\n",
    "            self.passed = [False for _ in range(len(pdf))]\n",
    "\n",
    "            # Connect two points when they are close enough\n",
    "            for i in range(len(pdf)):\n",
    "                x1 = pdf['x'].iloc[i]\n",
    "                y1 = pdf['y'].iloc[i]\n",
    "                z1 = pdf['z'].iloc[i]\n",
    "                for j in range(i+1, len(pdf), 1):\n",
    "                    x2 = pdf['x'].iloc[j]\n",
    "                    y2 = pdf['y'].iloc[j]\n",
    "                    z2 = pdf['z'].iloc[j]\n",
    "                    # Can be pruned. thanks to min fuka (@minfuka)\n",
    "                    if abs(z1-z2)>20:\n",
    "                        break\n",
    "    \n",
    "                    dist_p2 = (x1-x2)**2 + (y1-y2)**2\n",
    "                    if dist_p2<xy_tol_p2 and dist_p2+(z1-z2)**2 < p_rad**2 and abs(z1-z2)<=20:\n",
    "                        self.adjacency_list[i].append(j)\n",
    "                        self.adjacency_list[j].append(i)\n",
    "\n",
    "            rdf = pd.DataFrame()\n",
    "            cxs = []\n",
    "            cys = []\n",
    "            czs = []\n",
    "\n",
    "            # Perform DFS on all points and find the center of the sphere from the average of the coordinates\n",
    "            for i in range(len(pdf)):\n",
    "                self.conf_sum = 0\n",
    "                self.nv = 0\n",
    "                self.cx = 0\n",
    "                self.cy = 0\n",
    "                self.cz = 0\n",
    "                if not self.passed[i]:\n",
    "                    self.dfs(i)\n",
    "\n",
    "                # Different confidence for different particle types\n",
    "                if self.nv>=2 and self.conf_sum / (self.nv**self.conf_coef) > self.particle_confs[pidx]:\n",
    "                    cxs.append(self.cx / self.nv)\n",
    "                    cys.append(self.cy / self.nv)\n",
    "                    czs.append(self.cz / self.nv)\n",
    "\n",
    "            rdf['experiment'] = [r] * len(cxs)\n",
    "            rdf['particle_type'] = [p] * len(cys)\n",
    "            rdf['x'] = cxs\n",
    "            rdf['y'] = cys\n",
    "            rdf['z'] = czs\n",
    "\n",
    "            agg_df.append(rdf)\n",
    "\n",
    "       \n",
    "        return pd.concat(agg_df, axis=0)"
   ]
  },
  {
   "cell_type": "code",
   "execution_count": 14,
   "id": "e8df31e0",
   "metadata": {
    "execution": {
     "iopub.execute_input": "2024-12-28T13:52:52.939414Z",
     "iopub.status.busy": "2024-12-28T13:52:52.939160Z",
     "iopub.status.idle": "2024-12-28T13:52:52.942630Z",
     "shell.execute_reply": "2024-12-28T13:52:52.941998Z"
    },
    "papermill": {
     "duration": 0.013362,
     "end_time": "2024-12-28T13:52:52.944208",
     "exception": false,
     "start_time": "2024-12-28T13:52:52.930846",
     "status": "completed"
    },
    "tags": []
   },
   "outputs": [],
   "source": [
    "# instance main class\n",
    "agent = PredAggForYOLO(first_conf=0.15, final_conf=0.2, conf_coef=0.5) # final_conf is not used after version 14\n",
    "# subs = []"
   ]
  },
  {
   "cell_type": "code",
   "execution_count": 15,
   "id": "b84a0e0e",
   "metadata": {
    "execution": {
     "iopub.execute_input": "2024-12-28T13:52:52.960091Z",
     "iopub.status.busy": "2024-12-28T13:52:52.959829Z",
     "iopub.status.idle": "2024-12-28T13:52:52.963038Z",
     "shell.execute_reply": "2024-12-28T13:52:52.962297Z"
    },
    "papermill": {
     "duration": 0.012998,
     "end_time": "2024-12-28T13:52:52.964581",
     "exception": false,
     "start_time": "2024-12-28T13:52:52.951583",
     "status": "completed"
    },
    "tags": []
   },
   "outputs": [],
   "source": [
    "# subs = []"
   ]
  },
  {
   "cell_type": "code",
   "execution_count": 16,
   "id": "99235435",
   "metadata": {
    "execution": {
     "iopub.execute_input": "2024-12-28T13:52:52.980852Z",
     "iopub.status.busy": "2024-12-28T13:52:52.980609Z",
     "iopub.status.idle": "2024-12-28T13:52:52.986684Z",
     "shell.execute_reply": "2024-12-28T13:52:52.985905Z"
    },
    "papermill": {
     "duration": 0.015826,
     "end_time": "2024-12-28T13:52:52.988264",
     "exception": false,
     "start_time": "2024-12-28T13:52:52.972438",
     "status": "completed"
    },
    "tags": []
   },
   "outputs": [],
   "source": [
    "import time\n",
    "#add by @minfuka\n",
    "from concurrent.futures import ProcessPoolExecutor #add by @minfuka"
   ]
  },
  {
   "cell_type": "markdown",
   "id": "9287dbdd",
   "metadata": {
    "papermill": {
     "duration": 0.007627,
     "end_time": "2024-12-28T13:52:53.003428",
     "exception": false,
     "start_time": "2024-12-28T13:52:52.995801",
     "status": "completed"
    },
    "tags": []
   },
   "source": [
    "# main loop of inference"
   ]
  },
  {
   "cell_type": "code",
   "execution_count": 17,
   "id": "71d8e57d",
   "metadata": {},
   "outputs": [],
   "source": [
    "valid_dir =f'{DATA_KAGGLE_DIR}/train'\n",
    "list_model_path = [\n",
    "    f\"../../runs/detect/{EXP_NAME}/weights/best.pt\",\n",
    "    f\"../../runs/detect/{EXP_NAME}2/weights/best.pt\",\n",
    "    f\"../../runs/detect/{EXP_NAME}3/weights/best.pt\",\n",
    "    f\"../../runs/detect/{EXP_NAME}4/weights/best.pt\",\n",
    "]"
   ]
  },
  {
   "cell_type": "code",
   "execution_count": 18,
   "id": "336f4278",
   "metadata": {
    "execution": {
     "iopub.execute_input": "2024-12-28T13:52:53.019383Z",
     "iopub.status.busy": "2024-12-28T13:52:53.019168Z",
     "iopub.status.idle": "2024-12-28T13:52:53.023022Z",
     "shell.execute_reply": "2024-12-28T13:52:53.022309Z"
    },
    "papermill": {
     "duration": 0.013677,
     "end_time": "2024-12-28T13:52:53.024636",
     "exception": false,
     "start_time": "2024-12-28T13:52:53.010959",
     "status": "completed"
    },
    "tags": []
   },
   "outputs": [],
   "source": [
    "#add by @minfuka\n",
    "def inference(runs, model, device_no):\n",
    "    subs = []\n",
    "    for r in tqdm(runs, total=len(runs)):\n",
    "        df = agent.make_predict_yolo(r, model, device_no)\n",
    "        subs.append(df)\n",
    "    \n",
    "    return subs"
   ]
  },
  {
   "cell_type": "code",
   "execution_count": 19,
   "id": "7642fff0",
   "metadata": {
    "execution": {
     "iopub.execute_input": "2024-12-28T13:52:53.040477Z",
     "iopub.status.busy": "2024-12-28T13:52:53.040228Z",
     "iopub.status.idle": "2024-12-28T13:53:16.256524Z",
     "shell.execute_reply": "2024-12-28T13:53:16.255349Z"
    },
    "papermill": {
     "duration": 23.226372,
     "end_time": "2024-12-28T13:53:16.258448",
     "exception": false,
     "start_time": "2024-12-28T13:52:53.032076",
     "status": "completed"
    },
    "tags": []
   },
   "outputs": [
    {
     "name": "stderr",
     "output_type": "stream",
     "text": [
      "100%|██████████| 4/4 [01:30<00:00, 22.65s/it]\n"
     ]
    }
   ],
   "source": [
    "\n",
    "# tick = time.time()\n",
    "#change by @minfuka\n",
    "subs = []\n",
    "for r, model_path in tqdm(zip(LIST_CV, list_model_path), total=len(LIST_CV)):\n",
    "    model = YOLO(model_path)\n",
    "    df = agent.make_predict_yolo(r, model, \"0\")\n",
    "    subs.append(df)\n",
    "# with ProcessPoolExecutor(max_workers=2) as executor:\n",
    "#     results = list(executor.map(inference, (runs1, runs2), (model, model), (\"0\", \"1\")))\n",
    "# tock = time.time()"
   ]
  },
  {
   "cell_type": "code",
   "execution_count": 20,
   "id": "29af665b",
   "metadata": {
    "execution": {
     "iopub.execute_input": "2024-12-28T13:53:16.276026Z",
     "iopub.status.busy": "2024-12-28T13:53:16.275703Z",
     "iopub.status.idle": "2024-12-28T13:53:16.280337Z",
     "shell.execute_reply": "2024-12-28T13:53:16.279457Z"
    },
    "papermill": {
     "duration": 0.015427,
     "end_time": "2024-12-28T13:53:16.282128",
     "exception": false,
     "start_time": "2024-12-28T13:53:16.266701",
     "status": "completed"
    },
    "tags": []
   },
   "outputs": [
    {
     "data": {
      "text/html": [
       "<div>\n",
       "<style scoped>\n",
       "    .dataframe tbody tr th:only-of-type {\n",
       "        vertical-align: middle;\n",
       "    }\n",
       "\n",
       "    .dataframe tbody tr th {\n",
       "        vertical-align: top;\n",
       "    }\n",
       "\n",
       "    .dataframe thead th {\n",
       "        text-align: right;\n",
       "    }\n",
       "</style>\n",
       "<table border=\"1\" class=\"dataframe\">\n",
       "  <thead>\n",
       "    <tr style=\"text-align: right;\">\n",
       "      <th></th>\n",
       "      <th>experiment</th>\n",
       "      <th>particle_type</th>\n",
       "      <th>x</th>\n",
       "      <th>y</th>\n",
       "      <th>z</th>\n",
       "    </tr>\n",
       "  </thead>\n",
       "  <tbody>\n",
       "    <tr>\n",
       "      <th>0</th>\n",
       "      <td>TS_6_6</td>\n",
       "      <td>apo-ferritin</td>\n",
       "      <td>5354.180797</td>\n",
       "      <td>451.518091</td>\n",
       "      <td>55.000000</td>\n",
       "    </tr>\n",
       "    <tr>\n",
       "      <th>1</th>\n",
       "      <td>TS_6_6</td>\n",
       "      <td>apo-ferritin</td>\n",
       "      <td>5891.810710</td>\n",
       "      <td>2167.434163</td>\n",
       "      <td>170.000000</td>\n",
       "    </tr>\n",
       "    <tr>\n",
       "      <th>2</th>\n",
       "      <td>TS_6_6</td>\n",
       "      <td>apo-ferritin</td>\n",
       "      <td>4915.947428</td>\n",
       "      <td>1095.985894</td>\n",
       "      <td>263.888889</td>\n",
       "    </tr>\n",
       "    <tr>\n",
       "      <th>3</th>\n",
       "      <td>TS_6_6</td>\n",
       "      <td>apo-ferritin</td>\n",
       "      <td>5077.562012</td>\n",
       "      <td>1958.196452</td>\n",
       "      <td>250.000000</td>\n",
       "    </tr>\n",
       "    <tr>\n",
       "      <th>4</th>\n",
       "      <td>TS_6_6</td>\n",
       "      <td>apo-ferritin</td>\n",
       "      <td>3111.616577</td>\n",
       "      <td>1284.498027</td>\n",
       "      <td>260.000000</td>\n",
       "    </tr>\n",
       "    <tr>\n",
       "      <th>...</th>\n",
       "      <td>...</td>\n",
       "      <td>...</td>\n",
       "      <td>...</td>\n",
       "      <td>...</td>\n",
       "      <td>...</td>\n",
       "    </tr>\n",
       "    <tr>\n",
       "      <th>28</th>\n",
       "      <td>TS_6_6</td>\n",
       "      <td>virus-like-particle</td>\n",
       "      <td>3557.491365</td>\n",
       "      <td>1007.426263</td>\n",
       "      <td>1185.000000</td>\n",
       "    </tr>\n",
       "    <tr>\n",
       "      <th>29</th>\n",
       "      <td>TS_6_6</td>\n",
       "      <td>virus-like-particle</td>\n",
       "      <td>432.771130</td>\n",
       "      <td>2714.858594</td>\n",
       "      <td>1105.000000</td>\n",
       "    </tr>\n",
       "    <tr>\n",
       "      <th>30</th>\n",
       "      <td>TS_6_6</td>\n",
       "      <td>virus-like-particle</td>\n",
       "      <td>2117.807129</td>\n",
       "      <td>4866.604785</td>\n",
       "      <td>1165.000000</td>\n",
       "    </tr>\n",
       "    <tr>\n",
       "      <th>31</th>\n",
       "      <td>TS_6_6</td>\n",
       "      <td>virus-like-particle</td>\n",
       "      <td>3020.198649</td>\n",
       "      <td>6175.755615</td>\n",
       "      <td>1181.666667</td>\n",
       "    </tr>\n",
       "    <tr>\n",
       "      <th>32</th>\n",
       "      <td>TS_6_6</td>\n",
       "      <td>virus-like-particle</td>\n",
       "      <td>2221.807585</td>\n",
       "      <td>4136.542502</td>\n",
       "      <td>1285.000000</td>\n",
       "    </tr>\n",
       "  </tbody>\n",
       "</table>\n",
       "<p>395 rows × 5 columns</p>\n",
       "</div>"
      ],
      "text/plain": [
       "   experiment        particle_type            x            y            z\n",
       "0      TS_6_6         apo-ferritin  5354.180797   451.518091    55.000000\n",
       "1      TS_6_6         apo-ferritin  5891.810710  2167.434163   170.000000\n",
       "2      TS_6_6         apo-ferritin  4915.947428  1095.985894   263.888889\n",
       "3      TS_6_6         apo-ferritin  5077.562012  1958.196452   250.000000\n",
       "4      TS_6_6         apo-ferritin  3111.616577  1284.498027   260.000000\n",
       "..        ...                  ...          ...          ...          ...\n",
       "28     TS_6_6  virus-like-particle  3557.491365  1007.426263  1185.000000\n",
       "29     TS_6_6  virus-like-particle   432.771130  2714.858594  1105.000000\n",
       "30     TS_6_6  virus-like-particle  2117.807129  4866.604785  1165.000000\n",
       "31     TS_6_6  virus-like-particle  3020.198649  6175.755615  1181.666667\n",
       "32     TS_6_6  virus-like-particle  2221.807585  4136.542502  1285.000000\n",
       "\n",
       "[395 rows x 5 columns]"
      ]
     },
     "execution_count": 20,
     "metadata": {},
     "output_type": "execute_result"
    }
   ],
   "source": [
    "df"
   ]
  },
  {
   "cell_type": "code",
   "execution_count": 21,
   "id": "57f059a8",
   "metadata": {
    "execution": {
     "iopub.execute_input": "2024-12-28T13:53:16.323587Z",
     "iopub.status.busy": "2024-12-28T13:53:16.322884Z",
     "iopub.status.idle": "2024-12-28T13:53:16.330575Z",
     "shell.execute_reply": "2024-12-28T13:53:16.329691Z"
    },
    "papermill": {
     "duration": 0.01832,
     "end_time": "2024-12-28T13:53:16.332330",
     "exception": false,
     "start_time": "2024-12-28T13:53:16.314010",
     "status": "completed"
    },
    "tags": []
   },
   "outputs": [],
   "source": [
    "#submission = pd.concat(subs).reset_index(drop=True)\n",
    "#change by @minfuka\n",
    "# submission1 = pd.concat(results[1])\n",
    "# if len(valid_id) == 1:\n",
    "#     submission = submission1.copy()\n",
    "# else:\n",
    "#     submission0 = pd.concat(results[0])\n",
    "#     submission = pd.concat([submission0, submission1]).reset_index(drop=True)\n",
    "submission = pd.concat(subs).reset_index(drop=True)\n",
    "submission.insert(0, 'id', range(len(submission)))"
   ]
  },
  {
   "cell_type": "code",
   "execution_count": 22,
   "id": "28a24102",
   "metadata": {
    "execution": {
     "iopub.execute_input": "2024-12-28T13:53:16.349372Z",
     "iopub.status.busy": "2024-12-28T13:53:16.349114Z",
     "iopub.status.idle": "2024-12-28T13:53:16.367307Z",
     "shell.execute_reply": "2024-12-28T13:53:16.366513Z"
    },
    "papermill": {
     "duration": 0.028586,
     "end_time": "2024-12-28T13:53:16.368800",
     "exception": false,
     "start_time": "2024-12-28T13:53:16.340214",
     "status": "completed"
    },
    "tags": []
   },
   "outputs": [
    {
     "data": {
      "text/html": [
       "<div>\n",
       "<style scoped>\n",
       "    .dataframe tbody tr th:only-of-type {\n",
       "        vertical-align: middle;\n",
       "    }\n",
       "\n",
       "    .dataframe tbody tr th {\n",
       "        vertical-align: top;\n",
       "    }\n",
       "\n",
       "    .dataframe thead th {\n",
       "        text-align: right;\n",
       "    }\n",
       "</style>\n",
       "<table border=\"1\" class=\"dataframe\">\n",
       "  <thead>\n",
       "    <tr style=\"text-align: right;\">\n",
       "      <th></th>\n",
       "      <th>id</th>\n",
       "      <th>experiment</th>\n",
       "      <th>particle_type</th>\n",
       "      <th>x</th>\n",
       "      <th>y</th>\n",
       "      <th>z</th>\n",
       "    </tr>\n",
       "  </thead>\n",
       "  <tbody>\n",
       "    <tr>\n",
       "      <th>0</th>\n",
       "      <td>0</td>\n",
       "      <td>TS_5_4</td>\n",
       "      <td>apo-ferritin</td>\n",
       "      <td>5883.136370</td>\n",
       "      <td>5132.066406</td>\n",
       "      <td>75.0</td>\n",
       "    </tr>\n",
       "    <tr>\n",
       "      <th>1</th>\n",
       "      <td>1</td>\n",
       "      <td>TS_5_4</td>\n",
       "      <td>apo-ferritin</td>\n",
       "      <td>5750.163379</td>\n",
       "      <td>5111.240820</td>\n",
       "      <td>90.0</td>\n",
       "    </tr>\n",
       "    <tr>\n",
       "      <th>2</th>\n",
       "      <td>2</td>\n",
       "      <td>TS_5_4</td>\n",
       "      <td>apo-ferritin</td>\n",
       "      <td>5473.675000</td>\n",
       "      <td>1520.864526</td>\n",
       "      <td>95.0</td>\n",
       "    </tr>\n",
       "    <tr>\n",
       "      <th>3</th>\n",
       "      <td>3</td>\n",
       "      <td>TS_5_4</td>\n",
       "      <td>apo-ferritin</td>\n",
       "      <td>5720.569824</td>\n",
       "      <td>5002.027100</td>\n",
       "      <td>90.0</td>\n",
       "    </tr>\n",
       "    <tr>\n",
       "      <th>4</th>\n",
       "      <td>4</td>\n",
       "      <td>TS_5_4</td>\n",
       "      <td>apo-ferritin</td>\n",
       "      <td>5722.604688</td>\n",
       "      <td>5007.468652</td>\n",
       "      <td>125.0</td>\n",
       "    </tr>\n",
       "  </tbody>\n",
       "</table>\n",
       "</div>"
      ],
      "text/plain": [
       "   id experiment particle_type            x            y      z\n",
       "0   0     TS_5_4  apo-ferritin  5883.136370  5132.066406   75.0\n",
       "1   1     TS_5_4  apo-ferritin  5750.163379  5111.240820   90.0\n",
       "2   2     TS_5_4  apo-ferritin  5473.675000  1520.864526   95.0\n",
       "3   3     TS_5_4  apo-ferritin  5720.569824  5002.027100   90.0\n",
       "4   4     TS_5_4  apo-ferritin  5722.604688  5007.468652  125.0"
      ]
     },
     "execution_count": 22,
     "metadata": {},
     "output_type": "execute_result"
    }
   ],
   "source": [
    "submission.to_csv(f\"../../proc/sub/submission_{EXP_NAME}.csv\", index=False)\n",
    "submission.head()"
   ]
  },
  {
   "cell_type": "markdown",
   "id": "709a0116",
   "metadata": {
    "papermill": {
     "duration": 0.00802,
     "end_time": "2024-12-28T13:53:16.385155",
     "exception": false,
     "start_time": "2024-12-28T13:53:16.377135",
     "status": "completed"
    },
    "tags": []
   },
   "source": [
    "# Scoring"
   ]
  },
  {
   "cell_type": "markdown",
   "id": "18a9c699",
   "metadata": {
    "papermill": {
     "duration": 0.007834,
     "end_time": "2024-12-28T13:53:16.401170",
     "exception": false,
     "start_time": "2024-12-28T13:53:16.393336",
     "status": "completed"
    },
    "tags": []
   },
   "source": [
    "https://www.kaggle.com/code/hengck23/3d-unet-using-2d-image-encoder/notebook"
   ]
  },
  {
   "cell_type": "code",
   "execution_count": 23,
   "id": "5d95bac2",
   "metadata": {
    "execution": {
     "iopub.execute_input": "2024-12-28T13:53:16.418150Z",
     "iopub.status.busy": "2024-12-28T13:53:16.417925Z",
     "iopub.status.idle": "2024-12-28T13:53:18.912018Z",
     "shell.execute_reply": "2024-12-28T13:53:18.911321Z"
    },
    "papermill": {
     "duration": 2.50484,
     "end_time": "2024-12-28T13:53:18.914005",
     "exception": false,
     "start_time": "2024-12-28T13:53:16.409165",
     "status": "completed"
    },
    "tags": []
   },
   "outputs": [],
   "source": [
    "import sys\n",
    "sys.path.append('hengck')\n",
    "\n",
    "from czii_helper import *\n",
    "from dataset import *\n",
    "from model2 import *\n",
    "import numpy as np\n",
    "from scipy.optimize import linear_sum_assignment"
   ]
  },
  {
   "cell_type": "code",
   "execution_count": 24,
   "id": "7fc735c2",
   "metadata": {
    "execution": {
     "iopub.execute_input": "2024-12-28T13:53:18.932784Z",
     "iopub.status.busy": "2024-12-28T13:53:18.931952Z",
     "iopub.status.idle": "2024-12-28T13:53:20.142123Z",
     "shell.execute_reply": "2024-12-28T13:53:20.141296Z"
    },
    "papermill": {
     "duration": 1.226587,
     "end_time": "2024-12-28T13:53:20.149134",
     "exception": false,
     "start_time": "2024-12-28T13:53:18.922547",
     "status": "completed"
    },
    "tags": []
   },
   "outputs": [],
   "source": [
    "def do_one_eval(truth, predict, threshold):\n",
    "    P=len(predict)\n",
    "    T=len(truth)\n",
    "\n",
    "    if P==0:\n",
    "        hit=[[],[]]\n",
    "        miss=np.arange(T).tolist()\n",
    "        fp=[]\n",
    "        metric = [P,T,len(hit[0]),len(miss),len(fp)]\n",
    "        return hit, fp, miss, metric\n",
    "\n",
    "    if T==0:\n",
    "        hit=[[],[]]\n",
    "        fp=np.arange(P).tolist()\n",
    "        miss=[]\n",
    "        metric = [P,T,len(hit[0]),len(miss),len(fp)]\n",
    "        return hit, fp, miss, metric\n",
    "\n",
    "    #---\n",
    "    distance = predict.reshape(P,1,3)-truth.reshape(1,T,3)\n",
    "    distance = distance**2\n",
    "    distance = distance.sum(axis=2)\n",
    "    distance = np.sqrt(distance)\n",
    "    p_index, t_index = linear_sum_assignment(distance)\n",
    "\n",
    "    valid = distance[p_index, t_index] <= threshold\n",
    "    p_index = p_index[valid]\n",
    "    t_index = t_index[valid]\n",
    "    hit = [p_index.tolist(), t_index.tolist()]\n",
    "    miss = np.arange(T)\n",
    "    miss = miss[~np.isin(miss,t_index)].tolist()\n",
    "    fp = np.arange(P)\n",
    "    fp = fp[~np.isin(fp,p_index)].tolist()\n",
    "\n",
    "    metric = [P,T,len(hit[0]),len(miss),len(fp)] #for lb metric F-beta copmutation\n",
    "    return hit, fp, miss, metric\n",
    "\n",
    "\n",
    "def compute_lb(submit_df, overlay_dir):\n",
    "    valid_id = list(submit_df['experiment'].unique())\n",
    "    print(valid_id)\n",
    "\n",
    "    eval_df = []\n",
    "    for id in valid_id:\n",
    "        truth = read_one_truth(id, overlay_dir) #=f'{valid_dir}/overlay/ExperimentRuns')\n",
    "        id_df = submit_df[submit_df['experiment'] == id]\n",
    "        for p in PARTICLE:\n",
    "            p = dotdict(p)\n",
    "            print('\\r', id, p.name, end='', flush=True)\n",
    "            xyz_truth = truth[p.name]\n",
    "            xyz_predict = id_df[id_df['particle_type'] == p.name][['x', 'y', 'z']].values\n",
    "            hit, fp, miss, metric = do_one_eval(xyz_truth, xyz_predict, p.radius* 0.5)\n",
    "            eval_df.append(dotdict(\n",
    "                id=id, particle_type=p.name,\n",
    "                P=metric[0], T=metric[1], hit=metric[2], miss=metric[3], fp=metric[4],\n",
    "            ))\n",
    "    print('')\n",
    "    eval_df_all = pd.DataFrame(eval_df)\n",
    "    gb_all = []\n",
    "    lb_score_all = []\n",
    "    for exp in LIST_CV:\n",
    "        eval_df = eval_df_all[eval_df_all['id'] == exp]\n",
    "        gb = eval_df.groupby('particle_type').agg('sum').drop(columns=['id'])\n",
    "        gb.loc[:, 'precision'] = gb['hit'] / gb['P']\n",
    "        gb.loc[:, 'precision'] = gb['precision'].fillna(0)\n",
    "        gb.loc[:, 'recall'] = gb['hit'] / gb['T']\n",
    "        gb.loc[:, 'recall'] = gb['recall'].fillna(0)\n",
    "        gb.loc[:, 'f-beta4'] = 17 * gb['precision'] * gb['recall'] / (16 * gb['precision'] + gb['recall'])\n",
    "        gb.loc[:, 'f-beta4'] = gb['f-beta4'].fillna(0)\n",
    "\n",
    "        gb = gb.sort_values('particle_type').reset_index(drop=False)\n",
    "        # https://www.kaggle.com/competitions/czii-cryo-et-object-identification/discussion/544895\n",
    "        gb.loc[:, 'weight'] = [1, 0, 2, 1, 2, 1]\n",
    "        lb_score = (gb['f-beta4'] * gb['weight']).sum() / gb['weight'].sum()\n",
    "        gb_all.append(gb)\n",
    "        lb_score_all.append(lb_score)\n",
    "    return gb_all, lb_score_all\n",
    "\n",
    "\n",
    "def score_submission(submission):\n",
    "    #if 1:\n",
    "    submit_df=submission.copy()\n",
    "    gb_all, lb_score_all = compute_lb(submit_df, '../../raw/train/overlay/ExperimentRuns')\n",
    "    for gb, lb_score in zip(gb_all, lb_score_all):\n",
    "        display(gb)\n",
    "        print(f'lb_score: {lb_score:.4f}')\n",
    "        print('')\n",
    "        print(\"--------------------------------\")\n",
    "\n",
    "    return lb_score_all\n",
    "\n",
    "\n",
    "    #show one ----------------------------------\n",
    "    # fig = plt.figure(figsize=(18, 8))\n",
    "\n",
    "    # id = valid_id[0]\n",
    "    # truth = read_one_truth(id,overlay_dir=f'{valid_dir}/overlay/ExperimentRuns')\n",
    "\n",
    "    # submit_df = submit_df[submit_df['experiment']==id]\n",
    "    # for p in PARTICLE:\n",
    "    #     p = dotdict(p)\n",
    "    #     xyz_truth = truth[p.name]\n",
    "    #     xyz_predict = submit_df[submit_df['particle_type']==p.name][['x','y','z']].values\n",
    "    #     hit, fp, miss, _ = do_one_eval(xyz_truth, xyz_predict, p.radius)\n",
    "    #     print(id, p.name)\n",
    "    #     print('\\t num truth   :',len(xyz_truth) )\n",
    "    #     print('\\t num predict :',len(xyz_predict) )\n",
    "    #     print('\\t num hit  :',len(hit[0]) )\n",
    "    #     print('\\t num fp   :',len(fp) )\n",
    "    #     print('\\t num miss :',len(miss) )\n",
    "\n",
    "    #     ax = fig.add_subplot(2, 3, p.label, projection='3d')\n",
    "    #     if hit[0]:\n",
    "    #         pt = xyz_predict[hit[0]]\n",
    "    #         ax.scatter(pt[:, 0], pt[:, 1], pt[:, 2], alpha=0.5, color='r')\n",
    "    #         pt = xyz_truth[hit[1]]\n",
    "    #         ax.scatter(pt[:,0], pt[:,1], pt[:,2], s=80, facecolors='none', edgecolors='r')\n",
    "    #     if fp:\n",
    "    #         pt = xyz_predict[fp]\n",
    "    #         ax.scatter(pt[:, 0], pt[:, 1], pt[:, 2], alpha=1, color='k')\n",
    "    #     if miss:\n",
    "    #         pt = xyz_truth[miss]\n",
    "    #         ax.scatter(pt[:, 0], pt[:, 1], pt[:, 2], s=160, alpha=1, facecolors='none', edgecolors='k')\n",
    "\n",
    "    #     ax.set_title(f'{p.name} ({p.difficulty})')\n",
    "\n",
    "    # plt.tight_layout()\n",
    "    # plt.show()\n",
    "    \n",
    "    # #--- \n",
    "    # zz=0"
   ]
  },
  {
   "cell_type": "code",
   "execution_count": 25,
   "id": "b42d47ab",
   "metadata": {},
   "outputs": [
    {
     "name": "stdout",
     "output_type": "stream",
     "text": [
      "['TS_5_4', 'TS_69_2', 'TS_6_4', 'TS_6_6']\n",
      " TS_6_6 virus-like-particlee\n"
     ]
    },
    {
     "data": {
      "text/html": [
       "<div>\n",
       "<style scoped>\n",
       "    .dataframe tbody tr th:only-of-type {\n",
       "        vertical-align: middle;\n",
       "    }\n",
       "\n",
       "    .dataframe tbody tr th {\n",
       "        vertical-align: top;\n",
       "    }\n",
       "\n",
       "    .dataframe thead th {\n",
       "        text-align: right;\n",
       "    }\n",
       "</style>\n",
       "<table border=\"1\" class=\"dataframe\">\n",
       "  <thead>\n",
       "    <tr style=\"text-align: right;\">\n",
       "      <th></th>\n",
       "      <th>particle_type</th>\n",
       "      <th>P</th>\n",
       "      <th>T</th>\n",
       "      <th>hit</th>\n",
       "      <th>miss</th>\n",
       "      <th>fp</th>\n",
       "      <th>precision</th>\n",
       "      <th>recall</th>\n",
       "      <th>f-beta4</th>\n",
       "      <th>weight</th>\n",
       "    </tr>\n",
       "  </thead>\n",
       "  <tbody>\n",
       "    <tr>\n",
       "      <th>0</th>\n",
       "      <td>apo-ferritin</td>\n",
       "      <td>83</td>\n",
       "      <td>46</td>\n",
       "      <td>38</td>\n",
       "      <td>8</td>\n",
       "      <td>45</td>\n",
       "      <td>0.457831</td>\n",
       "      <td>0.826087</td>\n",
       "      <td>0.788767</td>\n",
       "      <td>1</td>\n",
       "    </tr>\n",
       "    <tr>\n",
       "      <th>1</th>\n",
       "      <td>beta-amylase</td>\n",
       "      <td>0</td>\n",
       "      <td>10</td>\n",
       "      <td>0</td>\n",
       "      <td>10</td>\n",
       "      <td>0</td>\n",
       "      <td>0.000000</td>\n",
       "      <td>0.000000</td>\n",
       "      <td>0.000000</td>\n",
       "      <td>0</td>\n",
       "    </tr>\n",
       "    <tr>\n",
       "      <th>2</th>\n",
       "      <td>beta-galactosidase</td>\n",
       "      <td>13</td>\n",
       "      <td>12</td>\n",
       "      <td>5</td>\n",
       "      <td>7</td>\n",
       "      <td>8</td>\n",
       "      <td>0.384615</td>\n",
       "      <td>0.416667</td>\n",
       "      <td>0.414634</td>\n",
       "      <td>2</td>\n",
       "    </tr>\n",
       "    <tr>\n",
       "      <th>3</th>\n",
       "      <td>ribosome</td>\n",
       "      <td>49</td>\n",
       "      <td>31</td>\n",
       "      <td>23</td>\n",
       "      <td>8</td>\n",
       "      <td>26</td>\n",
       "      <td>0.469388</td>\n",
       "      <td>0.741935</td>\n",
       "      <td>0.717431</td>\n",
       "      <td>1</td>\n",
       "    </tr>\n",
       "    <tr>\n",
       "      <th>4</th>\n",
       "      <td>thyroglobulin</td>\n",
       "      <td>90</td>\n",
       "      <td>30</td>\n",
       "      <td>17</td>\n",
       "      <td>13</td>\n",
       "      <td>73</td>\n",
       "      <td>0.188889</td>\n",
       "      <td>0.566667</td>\n",
       "      <td>0.507018</td>\n",
       "      <td>2</td>\n",
       "    </tr>\n",
       "    <tr>\n",
       "      <th>5</th>\n",
       "      <td>virus-like-particle</td>\n",
       "      <td>15</td>\n",
       "      <td>11</td>\n",
       "      <td>11</td>\n",
       "      <td>0</td>\n",
       "      <td>4</td>\n",
       "      <td>0.733333</td>\n",
       "      <td>1.000000</td>\n",
       "      <td>0.979058</td>\n",
       "      <td>1</td>\n",
       "    </tr>\n",
       "  </tbody>\n",
       "</table>\n",
       "</div>"
      ],
      "text/plain": [
       "         particle_type   P   T  hit  miss  fp  precision    recall   f-beta4  \\\n",
       "0         apo-ferritin  83  46   38     8  45   0.457831  0.826087  0.788767   \n",
       "1         beta-amylase   0  10    0    10   0   0.000000  0.000000  0.000000   \n",
       "2   beta-galactosidase  13  12    5     7   8   0.384615  0.416667  0.414634   \n",
       "3             ribosome  49  31   23     8  26   0.469388  0.741935  0.717431   \n",
       "4        thyroglobulin  90  30   17    13  73   0.188889  0.566667  0.507018   \n",
       "5  virus-like-particle  15  11   11     0   4   0.733333  1.000000  0.979058   \n",
       "\n",
       "   weight  \n",
       "0       1  \n",
       "1       0  \n",
       "2       2  \n",
       "3       1  \n",
       "4       2  \n",
       "5       1  "
      ]
     },
     "metadata": {},
     "output_type": "display_data"
    },
    {
     "name": "stdout",
     "output_type": "stream",
     "text": [
      "lb_score: 0.6184\n",
      "\n",
      "--------------------------------\n"
     ]
    },
    {
     "data": {
      "text/html": [
       "<div>\n",
       "<style scoped>\n",
       "    .dataframe tbody tr th:only-of-type {\n",
       "        vertical-align: middle;\n",
       "    }\n",
       "\n",
       "    .dataframe tbody tr th {\n",
       "        vertical-align: top;\n",
       "    }\n",
       "\n",
       "    .dataframe thead th {\n",
       "        text-align: right;\n",
       "    }\n",
       "</style>\n",
       "<table border=\"1\" class=\"dataframe\">\n",
       "  <thead>\n",
       "    <tr style=\"text-align: right;\">\n",
       "      <th></th>\n",
       "      <th>particle_type</th>\n",
       "      <th>P</th>\n",
       "      <th>T</th>\n",
       "      <th>hit</th>\n",
       "      <th>miss</th>\n",
       "      <th>fp</th>\n",
       "      <th>precision</th>\n",
       "      <th>recall</th>\n",
       "      <th>f-beta4</th>\n",
       "      <th>weight</th>\n",
       "    </tr>\n",
       "  </thead>\n",
       "  <tbody>\n",
       "    <tr>\n",
       "      <th>0</th>\n",
       "      <td>apo-ferritin</td>\n",
       "      <td>65</td>\n",
       "      <td>35</td>\n",
       "      <td>35</td>\n",
       "      <td>0</td>\n",
       "      <td>30</td>\n",
       "      <td>0.538462</td>\n",
       "      <td>1.000000</td>\n",
       "      <td>0.952000</td>\n",
       "      <td>1</td>\n",
       "    </tr>\n",
       "    <tr>\n",
       "      <th>1</th>\n",
       "      <td>beta-amylase</td>\n",
       "      <td>0</td>\n",
       "      <td>12</td>\n",
       "      <td>0</td>\n",
       "      <td>12</td>\n",
       "      <td>0</td>\n",
       "      <td>0.000000</td>\n",
       "      <td>0.000000</td>\n",
       "      <td>0.000000</td>\n",
       "      <td>0</td>\n",
       "    </tr>\n",
       "    <tr>\n",
       "      <th>2</th>\n",
       "      <td>beta-galactosidase</td>\n",
       "      <td>36</td>\n",
       "      <td>16</td>\n",
       "      <td>5</td>\n",
       "      <td>11</td>\n",
       "      <td>31</td>\n",
       "      <td>0.138889</td>\n",
       "      <td>0.312500</td>\n",
       "      <td>0.291096</td>\n",
       "      <td>2</td>\n",
       "    </tr>\n",
       "    <tr>\n",
       "      <th>3</th>\n",
       "      <td>ribosome</td>\n",
       "      <td>52</td>\n",
       "      <td>37</td>\n",
       "      <td>34</td>\n",
       "      <td>3</td>\n",
       "      <td>18</td>\n",
       "      <td>0.653846</td>\n",
       "      <td>0.918919</td>\n",
       "      <td>0.897516</td>\n",
       "      <td>1</td>\n",
       "    </tr>\n",
       "    <tr>\n",
       "      <th>4</th>\n",
       "      <td>thyroglobulin</td>\n",
       "      <td>143</td>\n",
       "      <td>34</td>\n",
       "      <td>27</td>\n",
       "      <td>7</td>\n",
       "      <td>116</td>\n",
       "      <td>0.188811</td>\n",
       "      <td>0.794118</td>\n",
       "      <td>0.668122</td>\n",
       "      <td>2</td>\n",
       "    </tr>\n",
       "    <tr>\n",
       "      <th>5</th>\n",
       "      <td>virus-like-particle</td>\n",
       "      <td>17</td>\n",
       "      <td>9</td>\n",
       "      <td>9</td>\n",
       "      <td>0</td>\n",
       "      <td>8</td>\n",
       "      <td>0.529412</td>\n",
       "      <td>1.000000</td>\n",
       "      <td>0.950311</td>\n",
       "      <td>1</td>\n",
       "    </tr>\n",
       "  </tbody>\n",
       "</table>\n",
       "</div>"
      ],
      "text/plain": [
       "         particle_type    P   T  hit  miss   fp  precision    recall  \\\n",
       "0         apo-ferritin   65  35   35     0   30   0.538462  1.000000   \n",
       "1         beta-amylase    0  12    0    12    0   0.000000  0.000000   \n",
       "2   beta-galactosidase   36  16    5    11   31   0.138889  0.312500   \n",
       "3             ribosome   52  37   34     3   18   0.653846  0.918919   \n",
       "4        thyroglobulin  143  34   27     7  116   0.188811  0.794118   \n",
       "5  virus-like-particle   17   9    9     0    8   0.529412  1.000000   \n",
       "\n",
       "    f-beta4  weight  \n",
       "0  0.952000       1  \n",
       "1  0.000000       0  \n",
       "2  0.291096       2  \n",
       "3  0.897516       1  \n",
       "4  0.668122       2  \n",
       "5  0.950311       1  "
      ]
     },
     "metadata": {},
     "output_type": "display_data"
    },
    {
     "name": "stdout",
     "output_type": "stream",
     "text": [
      "lb_score: 0.6740\n",
      "\n",
      "--------------------------------\n"
     ]
    },
    {
     "data": {
      "text/html": [
       "<div>\n",
       "<style scoped>\n",
       "    .dataframe tbody tr th:only-of-type {\n",
       "        vertical-align: middle;\n",
       "    }\n",
       "\n",
       "    .dataframe tbody tr th {\n",
       "        vertical-align: top;\n",
       "    }\n",
       "\n",
       "    .dataframe thead th {\n",
       "        text-align: right;\n",
       "    }\n",
       "</style>\n",
       "<table border=\"1\" class=\"dataframe\">\n",
       "  <thead>\n",
       "    <tr style=\"text-align: right;\">\n",
       "      <th></th>\n",
       "      <th>particle_type</th>\n",
       "      <th>P</th>\n",
       "      <th>T</th>\n",
       "      <th>hit</th>\n",
       "      <th>miss</th>\n",
       "      <th>fp</th>\n",
       "      <th>precision</th>\n",
       "      <th>recall</th>\n",
       "      <th>f-beta4</th>\n",
       "      <th>weight</th>\n",
       "    </tr>\n",
       "  </thead>\n",
       "  <tbody>\n",
       "    <tr>\n",
       "      <th>0</th>\n",
       "      <td>apo-ferritin</td>\n",
       "      <td>99</td>\n",
       "      <td>58</td>\n",
       "      <td>50</td>\n",
       "      <td>8</td>\n",
       "      <td>49</td>\n",
       "      <td>0.505051</td>\n",
       "      <td>0.862069</td>\n",
       "      <td>0.827653</td>\n",
       "      <td>1</td>\n",
       "    </tr>\n",
       "    <tr>\n",
       "      <th>1</th>\n",
       "      <td>beta-amylase</td>\n",
       "      <td>0</td>\n",
       "      <td>9</td>\n",
       "      <td>0</td>\n",
       "      <td>9</td>\n",
       "      <td>0</td>\n",
       "      <td>0.000000</td>\n",
       "      <td>0.000000</td>\n",
       "      <td>0.000000</td>\n",
       "      <td>0</td>\n",
       "    </tr>\n",
       "    <tr>\n",
       "      <th>2</th>\n",
       "      <td>beta-galactosidase</td>\n",
       "      <td>14</td>\n",
       "      <td>12</td>\n",
       "      <td>5</td>\n",
       "      <td>7</td>\n",
       "      <td>9</td>\n",
       "      <td>0.357143</td>\n",
       "      <td>0.416667</td>\n",
       "      <td>0.412621</td>\n",
       "      <td>2</td>\n",
       "    </tr>\n",
       "    <tr>\n",
       "      <th>3</th>\n",
       "      <td>ribosome</td>\n",
       "      <td>171</td>\n",
       "      <td>74</td>\n",
       "      <td>68</td>\n",
       "      <td>6</td>\n",
       "      <td>103</td>\n",
       "      <td>0.397661</td>\n",
       "      <td>0.918919</td>\n",
       "      <td>0.853137</td>\n",
       "      <td>1</td>\n",
       "    </tr>\n",
       "    <tr>\n",
       "      <th>4</th>\n",
       "      <td>thyroglobulin</td>\n",
       "      <td>136</td>\n",
       "      <td>30</td>\n",
       "      <td>24</td>\n",
       "      <td>6</td>\n",
       "      <td>112</td>\n",
       "      <td>0.176471</td>\n",
       "      <td>0.800000</td>\n",
       "      <td>0.662338</td>\n",
       "      <td>2</td>\n",
       "    </tr>\n",
       "    <tr>\n",
       "      <th>5</th>\n",
       "      <td>virus-like-particle</td>\n",
       "      <td>21</td>\n",
       "      <td>10</td>\n",
       "      <td>8</td>\n",
       "      <td>2</td>\n",
       "      <td>13</td>\n",
       "      <td>0.380952</td>\n",
       "      <td>0.800000</td>\n",
       "      <td>0.751381</td>\n",
       "      <td>1</td>\n",
       "    </tr>\n",
       "  </tbody>\n",
       "</table>\n",
       "</div>"
      ],
      "text/plain": [
       "         particle_type    P   T  hit  miss   fp  precision    recall  \\\n",
       "0         apo-ferritin   99  58   50     8   49   0.505051  0.862069   \n",
       "1         beta-amylase    0   9    0     9    0   0.000000  0.000000   \n",
       "2   beta-galactosidase   14  12    5     7    9   0.357143  0.416667   \n",
       "3             ribosome  171  74   68     6  103   0.397661  0.918919   \n",
       "4        thyroglobulin  136  30   24     6  112   0.176471  0.800000   \n",
       "5  virus-like-particle   21  10    8     2   13   0.380952  0.800000   \n",
       "\n",
       "    f-beta4  weight  \n",
       "0  0.827653       1  \n",
       "1  0.000000       0  \n",
       "2  0.412621       2  \n",
       "3  0.853137       1  \n",
       "4  0.662338       2  \n",
       "5  0.751381       1  "
      ]
     },
     "metadata": {},
     "output_type": "display_data"
    },
    {
     "name": "stdout",
     "output_type": "stream",
     "text": [
      "lb_score: 0.6546\n",
      "\n",
      "--------------------------------\n"
     ]
    },
    {
     "data": {
      "text/html": [
       "<div>\n",
       "<style scoped>\n",
       "    .dataframe tbody tr th:only-of-type {\n",
       "        vertical-align: middle;\n",
       "    }\n",
       "\n",
       "    .dataframe tbody tr th {\n",
       "        vertical-align: top;\n",
       "    }\n",
       "\n",
       "    .dataframe thead th {\n",
       "        text-align: right;\n",
       "    }\n",
       "</style>\n",
       "<table border=\"1\" class=\"dataframe\">\n",
       "  <thead>\n",
       "    <tr style=\"text-align: right;\">\n",
       "      <th></th>\n",
       "      <th>particle_type</th>\n",
       "      <th>P</th>\n",
       "      <th>T</th>\n",
       "      <th>hit</th>\n",
       "      <th>miss</th>\n",
       "      <th>fp</th>\n",
       "      <th>precision</th>\n",
       "      <th>recall</th>\n",
       "      <th>f-beta4</th>\n",
       "      <th>weight</th>\n",
       "    </tr>\n",
       "  </thead>\n",
       "  <tbody>\n",
       "    <tr>\n",
       "      <th>0</th>\n",
       "      <td>apo-ferritin</td>\n",
       "      <td>73</td>\n",
       "      <td>41</td>\n",
       "      <td>40</td>\n",
       "      <td>1</td>\n",
       "      <td>33</td>\n",
       "      <td>0.547945</td>\n",
       "      <td>0.975610</td>\n",
       "      <td>0.932785</td>\n",
       "      <td>1</td>\n",
       "    </tr>\n",
       "    <tr>\n",
       "      <th>1</th>\n",
       "      <td>beta-amylase</td>\n",
       "      <td>0</td>\n",
       "      <td>14</td>\n",
       "      <td>0</td>\n",
       "      <td>14</td>\n",
       "      <td>0</td>\n",
       "      <td>0.000000</td>\n",
       "      <td>0.000000</td>\n",
       "      <td>0.000000</td>\n",
       "      <td>0</td>\n",
       "    </tr>\n",
       "    <tr>\n",
       "      <th>2</th>\n",
       "      <td>beta-galactosidase</td>\n",
       "      <td>36</td>\n",
       "      <td>11</td>\n",
       "      <td>7</td>\n",
       "      <td>4</td>\n",
       "      <td>29</td>\n",
       "      <td>0.194444</td>\n",
       "      <td>0.636364</td>\n",
       "      <td>0.561321</td>\n",
       "      <td>2</td>\n",
       "    </tr>\n",
       "    <tr>\n",
       "      <th>3</th>\n",
       "      <td>ribosome</td>\n",
       "      <td>35</td>\n",
       "      <td>23</td>\n",
       "      <td>19</td>\n",
       "      <td>4</td>\n",
       "      <td>16</td>\n",
       "      <td>0.542857</td>\n",
       "      <td>0.826087</td>\n",
       "      <td>0.801489</td>\n",
       "      <td>1</td>\n",
       "    </tr>\n",
       "    <tr>\n",
       "      <th>4</th>\n",
       "      <td>thyroglobulin</td>\n",
       "      <td>218</td>\n",
       "      <td>35</td>\n",
       "      <td>30</td>\n",
       "      <td>5</td>\n",
       "      <td>188</td>\n",
       "      <td>0.137615</td>\n",
       "      <td>0.857143</td>\n",
       "      <td>0.655527</td>\n",
       "      <td>2</td>\n",
       "    </tr>\n",
       "    <tr>\n",
       "      <th>5</th>\n",
       "      <td>virus-like-particle</td>\n",
       "      <td>33</td>\n",
       "      <td>19</td>\n",
       "      <td>19</td>\n",
       "      <td>0</td>\n",
       "      <td>14</td>\n",
       "      <td>0.575758</td>\n",
       "      <td>1.000000</td>\n",
       "      <td>0.958457</td>\n",
       "      <td>1</td>\n",
       "    </tr>\n",
       "  </tbody>\n",
       "</table>\n",
       "</div>"
      ],
      "text/plain": [
       "         particle_type    P   T  hit  miss   fp  precision    recall  \\\n",
       "0         apo-ferritin   73  41   40     1   33   0.547945  0.975610   \n",
       "1         beta-amylase    0  14    0    14    0   0.000000  0.000000   \n",
       "2   beta-galactosidase   36  11    7     4   29   0.194444  0.636364   \n",
       "3             ribosome   35  23   19     4   16   0.542857  0.826087   \n",
       "4        thyroglobulin  218  35   30     5  188   0.137615  0.857143   \n",
       "5  virus-like-particle   33  19   19     0   14   0.575758  1.000000   \n",
       "\n",
       "    f-beta4  weight  \n",
       "0  0.932785       1  \n",
       "1  0.000000       0  \n",
       "2  0.561321       2  \n",
       "3  0.801489       1  \n",
       "4  0.655527       2  \n",
       "5  0.958457       1  "
      ]
     },
     "metadata": {},
     "output_type": "display_data"
    },
    {
     "name": "stdout",
     "output_type": "stream",
     "text": [
      "lb_score: 0.7323\n",
      "\n",
      "--------------------------------\n"
     ]
    }
   ],
   "source": [
    "lb_score_all = score_submission(submission)"
   ]
  },
  {
   "cell_type": "code",
   "execution_count": 26,
   "id": "171ab5e4",
   "metadata": {
    "papermill": {
     "duration": 0.01491,
     "end_time": "2024-12-28T13:53:20.180094",
     "exception": false,
     "start_time": "2024-12-28T13:53:20.165184",
     "status": "completed"
    },
    "tags": []
   },
   "outputs": [
    {
     "name": "stderr",
     "output_type": "stream",
     "text": [
      "\u001b[34m\u001b[1mwandb\u001b[0m: Using wandb-core as the SDK backend.  Please refer to https://wandb.me/wandb-core for more information.\n"
     ]
    },
    {
     "data": {
      "text/html": [
       "Tracking run with wandb version 0.19.5"
      ],
      "text/plain": [
       "<IPython.core.display.HTML object>"
      ]
     },
     "metadata": {},
     "output_type": "display_data"
    },
    {
     "data": {
      "text/html": [
       "Run data is saved locally in <code>/workspace/CZII/notebooks/yolo11_try/wandb/run-20250131_144745-to84e613</code>"
      ],
      "text/plain": [
       "<IPython.core.display.HTML object>"
      ]
     },
     "metadata": {},
     "output_type": "display_data"
    },
    {
     "data": {
      "text/html": [
       "Syncing run <strong><a href='https://wandb.ai/trira7503/CZII/runs/to84e613' target=\"_blank\">cv_mod_resize_35</a></strong> to <a href='https://wandb.ai/trira7503/CZII' target=\"_blank\">Weights & Biases</a> (<a href='https://wandb.me/developer-guide' target=\"_blank\">docs</a>)<br>"
      ],
      "text/plain": [
       "<IPython.core.display.HTML object>"
      ]
     },
     "metadata": {},
     "output_type": "display_data"
    },
    {
     "data": {
      "text/html": [
       " View project at <a href='https://wandb.ai/trira7503/CZII' target=\"_blank\">https://wandb.ai/trira7503/CZII</a>"
      ],
      "text/plain": [
       "<IPython.core.display.HTML object>"
      ]
     },
     "metadata": {},
     "output_type": "display_data"
    },
    {
     "data": {
      "text/html": [
       " View run at <a href='https://wandb.ai/trira7503/CZII/runs/to84e613' target=\"_blank\">https://wandb.ai/trira7503/CZII/runs/to84e613</a>"
      ],
      "text/plain": [
       "<IPython.core.display.HTML object>"
      ]
     },
     "metadata": {},
     "output_type": "display_data"
    },
    {
     "name": "stdout",
     "output_type": "stream",
     "text": [
      "lb_score: 0.6184\n",
      "lb_score: 0.6740\n",
      "lb_score: 0.6546\n",
      "lb_score: 0.7323\n",
      "mean: 0.6698\n"
     ]
    },
    {
     "data": {
      "text/html": [],
      "text/plain": [
       "<IPython.core.display.HTML object>"
      ]
     },
     "metadata": {},
     "output_type": "display_data"
    },
    {
     "data": {
      "text/html": [
       "<br>    <style><br>        .wandb-row {<br>            display: flex;<br>            flex-direction: row;<br>            flex-wrap: wrap;<br>            justify-content: flex-start;<br>            width: 100%;<br>        }<br>        .wandb-col {<br>            display: flex;<br>            flex-direction: column;<br>            flex-basis: 100%;<br>            flex: 1;<br>            padding: 10px;<br>        }<br>    </style><br><div class=\"wandb-row\"><div class=\"wandb-col\"><h3>Run history:</h3><br/><table class=\"wandb\"><tr><td>lb_score_TS_5_4</td><td>▁</td></tr><tr><td>lb_score_TS_69_2</td><td>▁</td></tr><tr><td>lb_score_TS_6_4</td><td>▁</td></tr><tr><td>lb_score_TS_6_6</td><td>▁</td></tr><tr><td>mean_lb_score</td><td>▁</td></tr></table><br/></div><div class=\"wandb-col\"><h3>Run summary:</h3><br/><table class=\"wandb\"><tr><td>lb_score_TS_5_4</td><td>0.61837</td></tr><tr><td>lb_score_TS_69_2</td><td>0.67404</td></tr><tr><td>lb_score_TS_6_4</td><td>0.65458</td></tr><tr><td>lb_score_TS_6_6</td><td>0.73235</td></tr><tr><td>mean_lb_score</td><td>0.66983</td></tr></table><br/></div></div>"
      ],
      "text/plain": [
       "<IPython.core.display.HTML object>"
      ]
     },
     "metadata": {},
     "output_type": "display_data"
    },
    {
     "data": {
      "text/html": [
       " View run <strong style=\"color:#cdcd00\">cv_mod_resize_35</strong> at: <a href='https://wandb.ai/trira7503/CZII/runs/to84e613' target=\"_blank\">https://wandb.ai/trira7503/CZII/runs/to84e613</a><br> View project at: <a href='https://wandb.ai/trira7503/CZII' target=\"_blank\">https://wandb.ai/trira7503/CZII</a><br>Synced 5 W&B file(s), 0 media file(s), 0 artifact file(s) and 0 other file(s)"
      ],
      "text/plain": [
       "<IPython.core.display.HTML object>"
      ]
     },
     "metadata": {},
     "output_type": "display_data"
    },
    {
     "data": {
      "text/html": [
       "Find logs at: <code>./wandb/run-20250131_144745-to84e613/logs</code>"
      ],
      "text/plain": [
       "<IPython.core.display.HTML object>"
      ]
     },
     "metadata": {},
     "output_type": "display_data"
    }
   ],
   "source": [
    "# wandbの初期化\n",
    "if WANDB:\n",
    "    wandb_config = {\n",
    "        # ... 既存の設定 ...\n",
    "        # \"epochs\": CONFIG['epochs'],\n",
    "        # \"learning_rate\": CONFIG['learning_rate'],\n",
    "        # \"min_lr\": CONFIG[\"min_lr\"],\n",
    "        # \"weight_decay\": CONFIG[\"weight_decay\"],\n",
    "        # \"mixup_alpha\": CONFIG[\"mixup_alpha\"],\n",
    "        # \"mixup_epochs\": CONFIG[\"mixup_epochs\"],  # 新しく追加\n",
    "    }\n",
    "    wandb.init(project=\"CZII\", name=WANDB_EXP_NAME, config=wandb_config)\n",
    "\n",
    "for exp, score in zip(LIST_CV, lb_score_all):\n",
    "    print(f'lb_score: {score:.4f}')\n",
    "    if WANDB:\n",
    "        wandb.log({f\"lb_score_{exp}\": score})\n",
    "print(f'mean: {np.mean(lb_score_all):.4f}')\n",
    "if WANDB:\n",
    "    wandb.log({\"mean_lb_score\": np.mean(lb_score_all)})\n",
    "    wandb.finish()\n",
    "\n"
   ]
  },
  {
   "cell_type": "code",
   "execution_count": null,
   "id": "8971f6c9",
   "metadata": {},
   "outputs": [],
   "source": []
  }
 ],
 "metadata": {
  "kaggle": {
   "accelerator": "nvidiaTeslaT4",
   "dataSources": [
    {
     "databundleVersionId": 10033515,
     "sourceId": 84969,
     "sourceType": "competition"
    },
    {
     "datasetId": 6040935,
     "sourceId": 9867543,
     "sourceType": "datasetVersion"
    },
    {
     "datasetId": 6240616,
     "sourceId": 10127593,
     "sourceType": "datasetVersion"
    },
    {
     "sourceId": 211097053,
     "sourceType": "kernelVersion"
    },
    {
     "sourceId": 215114343,
     "sourceType": "kernelVersion"
    }
   ],
   "dockerImageVersionId": 30805,
   "isGpuEnabled": true,
   "isInternetEnabled": false,
   "language": "python",
   "sourceType": "notebook"
  },
  "kernelspec": {
   "display_name": "Python 3",
   "language": "python",
   "name": "python3"
  },
  "language_info": {
   "codemirror_mode": {
    "name": "ipython",
    "version": 3
   },
   "file_extension": ".py",
   "mimetype": "text/x-python",
   "name": "python",
   "nbconvert_exporter": "python",
   "pygments_lexer": "ipython3",
   "version": "3.12.8"
  },
  "papermill": {
   "default_parameters": {},
   "duration": 147.06916,
   "end_time": "2024-12-28T13:53:21.717540",
   "environment_variables": {},
   "exception": null,
   "input_path": "__notebook__.ipynb",
   "output_path": "__notebook__.ipynb",
   "parameters": {},
   "start_time": "2024-12-28T13:50:54.648380",
   "version": "2.6.0"
  }
 },
 "nbformat": 4,
 "nbformat_minor": 5
}
