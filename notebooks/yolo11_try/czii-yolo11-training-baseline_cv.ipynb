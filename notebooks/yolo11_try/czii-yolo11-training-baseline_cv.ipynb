{
 "cells": [
  {
   "cell_type": "markdown",
   "id": "5457bd84",
   "metadata": {
    "papermill": {
     "duration": 0.00278,
     "end_time": "2024-12-07T09:13:25.176181",
     "exception": false,
     "start_time": "2024-12-07T09:13:25.173401",
     "status": "completed"
    },
    "tags": []
   },
   "source": [
    "# CZII YOLO11 Training Baseline\n",
    " We created a training set adapted to YOLO from [the dataset baseline](https://www.kaggle.com/code/itsuki9180/czii-making-datasets-for-yolo).\n",
    "\n",
    "In this notebook, we actually use it to train YOLO so that it can infer the xy coordinates of particles through 2D object detection."
   ]
  },
  {
   "cell_type": "markdown",
   "id": "b5efeb12",
   "metadata": {
    "papermill": {
     "duration": 0.002186,
     "end_time": "2024-12-07T09:13:25.180839",
     "exception": false,
     "start_time": "2024-12-07T09:13:25.178653",
     "status": "completed"
    },
    "tags": []
   },
   "source": [
    "# Install and Import modules"
   ]
  },
  {
   "cell_type": "code",
   "execution_count": 1,
   "id": "144c5fa2",
   "metadata": {
    "execution": {
     "iopub.execute_input": "2024-12-07T09:13:25.186516Z",
     "iopub.status.busy": "2024-12-07T09:13:25.186147Z",
     "iopub.status.idle": "2024-12-07T09:14:31.505498Z",
     "shell.execute_reply": "2024-12-07T09:14:31.504422Z"
    },
    "papermill": {
     "duration": 66.324459,
     "end_time": "2024-12-07T09:14:31.507481",
     "exception": false,
     "start_time": "2024-12-07T09:13:25.183022",
     "status": "completed"
    },
    "tags": []
   },
   "outputs": [],
   "source": [
    "# !tar xfvz /kaggle/input/ultralytics-for-offline-install/archive.tar.gz\n",
    "# !pip install --no-index --find-links=./packages ultralytics\n",
    "# !rm -rf ./packages"
   ]
  },
  {
   "cell_type": "code",
   "execution_count": 2,
   "id": "93d12424",
   "metadata": {},
   "outputs": [],
   "source": [
    "EXP_NAME = \"baseline_cv\"\n",
    "LIST_CV = [\n",
    "    'TS_5_4',\n",
    "    'TS_69_2',\n",
    "    'TS_6_4',\n",
    "    'TS_6_6',\n",
    "]\n",
    "\n",
    "PROC_RAW = \"proc/yolo11_baseline_cv\"\n",
    "\n",
    "PROC = f\"../../{PROC_RAW}\"\n",
    "PROC_YAML = f\"/workspace/CZII/{PROC_RAW}\""
   ]
  },
  {
   "cell_type": "code",
   "execution_count": 3,
   "id": "473e83d1",
   "metadata": {
    "execution": {
     "iopub.execute_input": "2024-12-07T09:14:31.516733Z",
     "iopub.status.busy": "2024-12-07T09:14:31.516422Z",
     "iopub.status.idle": "2024-12-07T09:14:35.816802Z",
     "shell.execute_reply": "2024-12-07T09:14:35.815884Z"
    },
    "papermill": {
     "duration": 4.307169,
     "end_time": "2024-12-07T09:14:35.818786",
     "exception": false,
     "start_time": "2024-12-07T09:14:31.511617",
     "status": "completed"
    },
    "tags": []
   },
   "outputs": [],
   "source": [
    "from tqdm import tqdm\n",
    "import glob, os\n",
    "from ultralytics import YOLO"
   ]
  },
  {
   "cell_type": "markdown",
   "id": "1c734972",
   "metadata": {
    "papermill": {
     "duration": 0.003677,
     "end_time": "2024-12-07T09:14:35.826687",
     "exception": false,
     "start_time": "2024-12-07T09:14:35.823010",
     "status": "completed"
    },
    "tags": []
   },
   "source": [
    "# Prepare to train and instance YOLOmodel"
   ]
  },
  {
   "cell_type": "code",
   "execution_count": 4,
   "id": "b8809e32",
   "metadata": {
    "execution": {
     "iopub.execute_input": "2024-12-07T09:14:35.835958Z",
     "iopub.status.busy": "2024-12-07T09:14:35.835270Z",
     "iopub.status.idle": "2024-12-07T09:14:37.214487Z",
     "shell.execute_reply": "2024-12-07T09:14:37.213810Z"
    },
    "papermill": {
     "duration": 1.385908,
     "end_time": "2024-12-07T09:14:37.216561",
     "exception": false,
     "start_time": "2024-12-07T09:14:35.830653",
     "status": "completed"
    },
    "tags": []
   },
   "outputs": [],
   "source": [
    "yaml_content = f\"\"\"\n",
    "train: {PROC_YAML}/train.txt\n",
    "val: {PROC_YAML}/val.txt\n",
    "nc: 6\n",
    "\n",
    "# Classes\n",
    "names:\n",
    "  0: apo-ferritin\n",
    "  1: beta-amylase\n",
    "  2: beta-galactosidase\n",
    "  3: ribosome\n",
    "  4: thyroglobulin\n",
    "  5: virus-like-particle\n",
    "\"\"\"\n",
    "\n",
    "with open(f'{PROC}/cv_conf.yaml', 'w') as f:\n",
    "    f.write(yaml_content.strip())"
   ]
  },
  {
   "cell_type": "markdown",
   "id": "49f93f22",
   "metadata": {
    "papermill": {
     "duration": 0.003826,
     "end_time": "2024-12-07T09:14:37.224614",
     "exception": false,
     "start_time": "2024-12-07T09:14:37.220788",
     "status": "completed"
    },
    "tags": []
   },
   "source": [
    "# Let's train YOLO!"
   ]
  },
  {
   "cell_type": "code",
   "execution_count": 5,
   "id": "87e404b7",
   "metadata": {},
   "outputs": [],
   "source": [
    "def list_all_images(root_dir, extensions=\"png\"):\n",
    "    \"\"\"指定ディレクトリ以下の画像ファイルパスを再帰的に取得してリストで返す。\"\"\"\n",
    "    all_paths = []\n",
    "    search_pattern = os.path.join(root_dir, \"**\", f\"*.{extensions}\")\n",
    "    paths = glob.glob(search_pattern, recursive=True)\n",
    "    all_paths.extend(paths)\n",
    "    return all_paths\n",
    "\n",
    "def contains_val_keyword(path, keyword):\n",
    "    \"\"\"\n",
    "    ファイルパスのファイル名に `keyword` が含まれているか確認。\n",
    "    Trueならval、Falseならtrainとする。\n",
    "    \"\"\"\n",
    "    filename = os.path.basename(path)  # ディレクトリを除いたファイル名を取得\n",
    "    return keyword in filename\n",
    "\n",
    "def extract_train_val_paths(keyword):\n",
    "\n",
    "    image_paths = list_all_images(f\"{PROC_YAML}/images\")\n",
    "    image_paths.sort()\n",
    "    # print(image_paths)\n",
    "\n",
    "    train_paths = []\n",
    "    val_paths   = []\n",
    "\n",
    "    # ファイル名をみて振り分け\n",
    "    for p in image_paths:\n",
    "        if contains_val_keyword(p, keyword):\n",
    "            val_paths.append(p)\n",
    "        else:\n",
    "            train_paths.append(p)\n",
    "\n",
    "    print(f\"Found {len(train_paths)} train images.\")\n",
    "    print(f\"Found {len(val_paths)} val images.\")\n",
    "\n",
    "    # train.txt と val.txt に書き出し\n",
    "    with open(f\"{PROC}/train.txt\", \"w\") as f:\n",
    "        for path in train_paths:\n",
    "            f.write(path + \"\\n\")\n",
    "\n",
    "    with open(f\"{PROC}/val.txt\", \"w\") as f:\n",
    "        for path in val_paths:\n",
    "            f.write(path + \"\\n\")\n",
    "\n",
    "    print(f\"Train list saved to {f\"{PROC}/train.txt\"}\")\n",
    "    print(f\"Val list saved to {f\"{PROC}/val.txt\"}\")"
   ]
  },
  {
   "cell_type": "code",
   "execution_count": 6,
   "id": "87914741",
   "metadata": {
    "execution": {
     "iopub.execute_input": "2024-12-07T09:14:37.233466Z",
     "iopub.status.busy": "2024-12-07T09:14:37.233196Z",
     "iopub.status.idle": "2024-12-07T10:19:22.740889Z",
     "shell.execute_reply": "2024-12-07T10:19:22.740022Z"
    },
    "papermill": {
     "duration": 3885.514672,
     "end_time": "2024-12-07T10:19:22.743051",
     "exception": false,
     "start_time": "2024-12-07T09:14:37.228379",
     "status": "completed"
    },
    "tags": []
   },
   "outputs": [
    {
     "name": "stdout",
     "output_type": "stream",
     "text": [
      "====================================================================================================\n",
      "Processing TS_5_4...\n",
      "['/workspace/CZII/proc/yolo11_baseline_cv/images/TS_5_4_0.png', '/workspace/CZII/proc/yolo11_baseline_cv/images/TS_5_4_10.png', '/workspace/CZII/proc/yolo11_baseline_cv/images/TS_5_4_100.png', '/workspace/CZII/proc/yolo11_baseline_cv/images/TS_5_4_1000.png', '/workspace/CZII/proc/yolo11_baseline_cv/images/TS_5_4_1010.png', '/workspace/CZII/proc/yolo11_baseline_cv/images/TS_5_4_1020.png', '/workspace/CZII/proc/yolo11_baseline_cv/images/TS_5_4_1030.png', '/workspace/CZII/proc/yolo11_baseline_cv/images/TS_5_4_1040.png', '/workspace/CZII/proc/yolo11_baseline_cv/images/TS_5_4_1050.png', '/workspace/CZII/proc/yolo11_baseline_cv/images/TS_5_4_1060.png', '/workspace/CZII/proc/yolo11_baseline_cv/images/TS_5_4_1070.png', '/workspace/CZII/proc/yolo11_baseline_cv/images/TS_5_4_1080.png', '/workspace/CZII/proc/yolo11_baseline_cv/images/TS_5_4_1090.png', '/workspace/CZII/proc/yolo11_baseline_cv/images/TS_5_4_110.png', '/workspace/CZII/proc/yolo11_baseline_cv/images/TS_5_4_1100.png', '/workspace/CZII/proc/yolo11_baseline_cv/images/TS_5_4_1110.png', '/workspace/CZII/proc/yolo11_baseline_cv/images/TS_5_4_1120.png', '/workspace/CZII/proc/yolo11_baseline_cv/images/TS_5_4_1130.png', '/workspace/CZII/proc/yolo11_baseline_cv/images/TS_5_4_1140.png', '/workspace/CZII/proc/yolo11_baseline_cv/images/TS_5_4_1150.png', '/workspace/CZII/proc/yolo11_baseline_cv/images/TS_5_4_1160.png', '/workspace/CZII/proc/yolo11_baseline_cv/images/TS_5_4_1170.png', '/workspace/CZII/proc/yolo11_baseline_cv/images/TS_5_4_1180.png', '/workspace/CZII/proc/yolo11_baseline_cv/images/TS_5_4_1190.png', '/workspace/CZII/proc/yolo11_baseline_cv/images/TS_5_4_120.png', '/workspace/CZII/proc/yolo11_baseline_cv/images/TS_5_4_1200.png', '/workspace/CZII/proc/yolo11_baseline_cv/images/TS_5_4_1210.png', '/workspace/CZII/proc/yolo11_baseline_cv/images/TS_5_4_1220.png', '/workspace/CZII/proc/yolo11_baseline_cv/images/TS_5_4_1230.png', '/workspace/CZII/proc/yolo11_baseline_cv/images/TS_5_4_1240.png', '/workspace/CZII/proc/yolo11_baseline_cv/images/TS_5_4_1250.png', '/workspace/CZII/proc/yolo11_baseline_cv/images/TS_5_4_1260.png', '/workspace/CZII/proc/yolo11_baseline_cv/images/TS_5_4_1270.png', '/workspace/CZII/proc/yolo11_baseline_cv/images/TS_5_4_1280.png', '/workspace/CZII/proc/yolo11_baseline_cv/images/TS_5_4_1290.png', '/workspace/CZII/proc/yolo11_baseline_cv/images/TS_5_4_130.png', '/workspace/CZII/proc/yolo11_baseline_cv/images/TS_5_4_1300.png', '/workspace/CZII/proc/yolo11_baseline_cv/images/TS_5_4_1310.png', '/workspace/CZII/proc/yolo11_baseline_cv/images/TS_5_4_1320.png', '/workspace/CZII/proc/yolo11_baseline_cv/images/TS_5_4_1330.png', '/workspace/CZII/proc/yolo11_baseline_cv/images/TS_5_4_1340.png', '/workspace/CZII/proc/yolo11_baseline_cv/images/TS_5_4_1350.png', '/workspace/CZII/proc/yolo11_baseline_cv/images/TS_5_4_1360.png', '/workspace/CZII/proc/yolo11_baseline_cv/images/TS_5_4_1370.png', '/workspace/CZII/proc/yolo11_baseline_cv/images/TS_5_4_1380.png', '/workspace/CZII/proc/yolo11_baseline_cv/images/TS_5_4_1390.png', '/workspace/CZII/proc/yolo11_baseline_cv/images/TS_5_4_140.png', '/workspace/CZII/proc/yolo11_baseline_cv/images/TS_5_4_1400.png', '/workspace/CZII/proc/yolo11_baseline_cv/images/TS_5_4_1410.png', '/workspace/CZII/proc/yolo11_baseline_cv/images/TS_5_4_1420.png', '/workspace/CZII/proc/yolo11_baseline_cv/images/TS_5_4_1430.png', '/workspace/CZII/proc/yolo11_baseline_cv/images/TS_5_4_1440.png', '/workspace/CZII/proc/yolo11_baseline_cv/images/TS_5_4_1450.png', '/workspace/CZII/proc/yolo11_baseline_cv/images/TS_5_4_1460.png', '/workspace/CZII/proc/yolo11_baseline_cv/images/TS_5_4_1470.png', '/workspace/CZII/proc/yolo11_baseline_cv/images/TS_5_4_1480.png', '/workspace/CZII/proc/yolo11_baseline_cv/images/TS_5_4_1490.png', '/workspace/CZII/proc/yolo11_baseline_cv/images/TS_5_4_150.png', '/workspace/CZII/proc/yolo11_baseline_cv/images/TS_5_4_1500.png', '/workspace/CZII/proc/yolo11_baseline_cv/images/TS_5_4_1510.png', '/workspace/CZII/proc/yolo11_baseline_cv/images/TS_5_4_1520.png', '/workspace/CZII/proc/yolo11_baseline_cv/images/TS_5_4_1530.png', '/workspace/CZII/proc/yolo11_baseline_cv/images/TS_5_4_1540.png', '/workspace/CZII/proc/yolo11_baseline_cv/images/TS_5_4_1550.png', '/workspace/CZII/proc/yolo11_baseline_cv/images/TS_5_4_1560.png', '/workspace/CZII/proc/yolo11_baseline_cv/images/TS_5_4_1570.png', '/workspace/CZII/proc/yolo11_baseline_cv/images/TS_5_4_1580.png', '/workspace/CZII/proc/yolo11_baseline_cv/images/TS_5_4_1590.png', '/workspace/CZII/proc/yolo11_baseline_cv/images/TS_5_4_160.png', '/workspace/CZII/proc/yolo11_baseline_cv/images/TS_5_4_1600.png', '/workspace/CZII/proc/yolo11_baseline_cv/images/TS_5_4_1610.png', '/workspace/CZII/proc/yolo11_baseline_cv/images/TS_5_4_1620.png', '/workspace/CZII/proc/yolo11_baseline_cv/images/TS_5_4_1630.png', '/workspace/CZII/proc/yolo11_baseline_cv/images/TS_5_4_1640.png', '/workspace/CZII/proc/yolo11_baseline_cv/images/TS_5_4_1650.png', '/workspace/CZII/proc/yolo11_baseline_cv/images/TS_5_4_1660.png', '/workspace/CZII/proc/yolo11_baseline_cv/images/TS_5_4_1670.png', '/workspace/CZII/proc/yolo11_baseline_cv/images/TS_5_4_1680.png', '/workspace/CZII/proc/yolo11_baseline_cv/images/TS_5_4_1690.png', '/workspace/CZII/proc/yolo11_baseline_cv/images/TS_5_4_170.png', '/workspace/CZII/proc/yolo11_baseline_cv/images/TS_5_4_1700.png', '/workspace/CZII/proc/yolo11_baseline_cv/images/TS_5_4_1710.png', '/workspace/CZII/proc/yolo11_baseline_cv/images/TS_5_4_1720.png', '/workspace/CZII/proc/yolo11_baseline_cv/images/TS_5_4_1730.png', '/workspace/CZII/proc/yolo11_baseline_cv/images/TS_5_4_1740.png', '/workspace/CZII/proc/yolo11_baseline_cv/images/TS_5_4_1750.png', '/workspace/CZII/proc/yolo11_baseline_cv/images/TS_5_4_1760.png', '/workspace/CZII/proc/yolo11_baseline_cv/images/TS_5_4_1770.png', '/workspace/CZII/proc/yolo11_baseline_cv/images/TS_5_4_1780.png', '/workspace/CZII/proc/yolo11_baseline_cv/images/TS_5_4_1790.png', '/workspace/CZII/proc/yolo11_baseline_cv/images/TS_5_4_180.png', '/workspace/CZII/proc/yolo11_baseline_cv/images/TS_5_4_1800.png', '/workspace/CZII/proc/yolo11_baseline_cv/images/TS_5_4_1810.png', '/workspace/CZII/proc/yolo11_baseline_cv/images/TS_5_4_1820.png', '/workspace/CZII/proc/yolo11_baseline_cv/images/TS_5_4_1830.png', '/workspace/CZII/proc/yolo11_baseline_cv/images/TS_5_4_190.png', '/workspace/CZII/proc/yolo11_baseline_cv/images/TS_5_4_20.png', '/workspace/CZII/proc/yolo11_baseline_cv/images/TS_5_4_200.png', '/workspace/CZII/proc/yolo11_baseline_cv/images/TS_5_4_210.png', '/workspace/CZII/proc/yolo11_baseline_cv/images/TS_5_4_220.png', '/workspace/CZII/proc/yolo11_baseline_cv/images/TS_5_4_230.png', '/workspace/CZII/proc/yolo11_baseline_cv/images/TS_5_4_240.png', '/workspace/CZII/proc/yolo11_baseline_cv/images/TS_5_4_250.png', '/workspace/CZII/proc/yolo11_baseline_cv/images/TS_5_4_260.png', '/workspace/CZII/proc/yolo11_baseline_cv/images/TS_5_4_270.png', '/workspace/CZII/proc/yolo11_baseline_cv/images/TS_5_4_280.png', '/workspace/CZII/proc/yolo11_baseline_cv/images/TS_5_4_290.png', '/workspace/CZII/proc/yolo11_baseline_cv/images/TS_5_4_30.png', '/workspace/CZII/proc/yolo11_baseline_cv/images/TS_5_4_300.png', '/workspace/CZII/proc/yolo11_baseline_cv/images/TS_5_4_310.png', '/workspace/CZII/proc/yolo11_baseline_cv/images/TS_5_4_320.png', '/workspace/CZII/proc/yolo11_baseline_cv/images/TS_5_4_330.png', '/workspace/CZII/proc/yolo11_baseline_cv/images/TS_5_4_340.png', '/workspace/CZII/proc/yolo11_baseline_cv/images/TS_5_4_350.png', '/workspace/CZII/proc/yolo11_baseline_cv/images/TS_5_4_360.png', '/workspace/CZII/proc/yolo11_baseline_cv/images/TS_5_4_370.png', '/workspace/CZII/proc/yolo11_baseline_cv/images/TS_5_4_380.png', '/workspace/CZII/proc/yolo11_baseline_cv/images/TS_5_4_390.png', '/workspace/CZII/proc/yolo11_baseline_cv/images/TS_5_4_40.png', '/workspace/CZII/proc/yolo11_baseline_cv/images/TS_5_4_400.png', '/workspace/CZII/proc/yolo11_baseline_cv/images/TS_5_4_410.png', '/workspace/CZII/proc/yolo11_baseline_cv/images/TS_5_4_420.png', '/workspace/CZII/proc/yolo11_baseline_cv/images/TS_5_4_430.png', '/workspace/CZII/proc/yolo11_baseline_cv/images/TS_5_4_440.png', '/workspace/CZII/proc/yolo11_baseline_cv/images/TS_5_4_450.png', '/workspace/CZII/proc/yolo11_baseline_cv/images/TS_5_4_460.png', '/workspace/CZII/proc/yolo11_baseline_cv/images/TS_5_4_470.png', '/workspace/CZII/proc/yolo11_baseline_cv/images/TS_5_4_480.png', '/workspace/CZII/proc/yolo11_baseline_cv/images/TS_5_4_490.png', '/workspace/CZII/proc/yolo11_baseline_cv/images/TS_5_4_50.png', '/workspace/CZII/proc/yolo11_baseline_cv/images/TS_5_4_500.png', '/workspace/CZII/proc/yolo11_baseline_cv/images/TS_5_4_510.png', '/workspace/CZII/proc/yolo11_baseline_cv/images/TS_5_4_520.png', '/workspace/CZII/proc/yolo11_baseline_cv/images/TS_5_4_530.png', '/workspace/CZII/proc/yolo11_baseline_cv/images/TS_5_4_540.png', '/workspace/CZII/proc/yolo11_baseline_cv/images/TS_5_4_550.png', '/workspace/CZII/proc/yolo11_baseline_cv/images/TS_5_4_560.png', '/workspace/CZII/proc/yolo11_baseline_cv/images/TS_5_4_570.png', '/workspace/CZII/proc/yolo11_baseline_cv/images/TS_5_4_580.png', '/workspace/CZII/proc/yolo11_baseline_cv/images/TS_5_4_590.png', '/workspace/CZII/proc/yolo11_baseline_cv/images/TS_5_4_60.png', '/workspace/CZII/proc/yolo11_baseline_cv/images/TS_5_4_600.png', '/workspace/CZII/proc/yolo11_baseline_cv/images/TS_5_4_610.png', '/workspace/CZII/proc/yolo11_baseline_cv/images/TS_5_4_620.png', '/workspace/CZII/proc/yolo11_baseline_cv/images/TS_5_4_630.png', '/workspace/CZII/proc/yolo11_baseline_cv/images/TS_5_4_640.png', '/workspace/CZII/proc/yolo11_baseline_cv/images/TS_5_4_650.png', '/workspace/CZII/proc/yolo11_baseline_cv/images/TS_5_4_660.png', '/workspace/CZII/proc/yolo11_baseline_cv/images/TS_5_4_670.png', '/workspace/CZII/proc/yolo11_baseline_cv/images/TS_5_4_680.png', '/workspace/CZII/proc/yolo11_baseline_cv/images/TS_5_4_690.png', '/workspace/CZII/proc/yolo11_baseline_cv/images/TS_5_4_70.png', '/workspace/CZII/proc/yolo11_baseline_cv/images/TS_5_4_700.png', '/workspace/CZII/proc/yolo11_baseline_cv/images/TS_5_4_710.png', '/workspace/CZII/proc/yolo11_baseline_cv/images/TS_5_4_720.png', '/workspace/CZII/proc/yolo11_baseline_cv/images/TS_5_4_730.png', '/workspace/CZII/proc/yolo11_baseline_cv/images/TS_5_4_740.png', '/workspace/CZII/proc/yolo11_baseline_cv/images/TS_5_4_750.png', '/workspace/CZII/proc/yolo11_baseline_cv/images/TS_5_4_760.png', '/workspace/CZII/proc/yolo11_baseline_cv/images/TS_5_4_770.png', '/workspace/CZII/proc/yolo11_baseline_cv/images/TS_5_4_780.png', '/workspace/CZII/proc/yolo11_baseline_cv/images/TS_5_4_790.png', '/workspace/CZII/proc/yolo11_baseline_cv/images/TS_5_4_80.png', '/workspace/CZII/proc/yolo11_baseline_cv/images/TS_5_4_800.png', '/workspace/CZII/proc/yolo11_baseline_cv/images/TS_5_4_810.png', '/workspace/CZII/proc/yolo11_baseline_cv/images/TS_5_4_820.png', '/workspace/CZII/proc/yolo11_baseline_cv/images/TS_5_4_830.png', '/workspace/CZII/proc/yolo11_baseline_cv/images/TS_5_4_840.png', '/workspace/CZII/proc/yolo11_baseline_cv/images/TS_5_4_850.png', '/workspace/CZII/proc/yolo11_baseline_cv/images/TS_5_4_860.png', '/workspace/CZII/proc/yolo11_baseline_cv/images/TS_5_4_870.png', '/workspace/CZII/proc/yolo11_baseline_cv/images/TS_5_4_880.png', '/workspace/CZII/proc/yolo11_baseline_cv/images/TS_5_4_890.png', '/workspace/CZII/proc/yolo11_baseline_cv/images/TS_5_4_90.png', '/workspace/CZII/proc/yolo11_baseline_cv/images/TS_5_4_900.png', '/workspace/CZII/proc/yolo11_baseline_cv/images/TS_5_4_910.png', '/workspace/CZII/proc/yolo11_baseline_cv/images/TS_5_4_920.png', '/workspace/CZII/proc/yolo11_baseline_cv/images/TS_5_4_930.png', '/workspace/CZII/proc/yolo11_baseline_cv/images/TS_5_4_940.png', '/workspace/CZII/proc/yolo11_baseline_cv/images/TS_5_4_950.png', '/workspace/CZII/proc/yolo11_baseline_cv/images/TS_5_4_960.png', '/workspace/CZII/proc/yolo11_baseline_cv/images/TS_5_4_970.png', '/workspace/CZII/proc/yolo11_baseline_cv/images/TS_5_4_980.png', '/workspace/CZII/proc/yolo11_baseline_cv/images/TS_5_4_990.png', '/workspace/CZII/proc/yolo11_baseline_cv/images/TS_69_2_0.png', '/workspace/CZII/proc/yolo11_baseline_cv/images/TS_69_2_10.png', '/workspace/CZII/proc/yolo11_baseline_cv/images/TS_69_2_100.png', '/workspace/CZII/proc/yolo11_baseline_cv/images/TS_69_2_1000.png', '/workspace/CZII/proc/yolo11_baseline_cv/images/TS_69_2_1010.png', '/workspace/CZII/proc/yolo11_baseline_cv/images/TS_69_2_1020.png', '/workspace/CZII/proc/yolo11_baseline_cv/images/TS_69_2_1030.png', '/workspace/CZII/proc/yolo11_baseline_cv/images/TS_69_2_1040.png', '/workspace/CZII/proc/yolo11_baseline_cv/images/TS_69_2_1050.png', '/workspace/CZII/proc/yolo11_baseline_cv/images/TS_69_2_1060.png', '/workspace/CZII/proc/yolo11_baseline_cv/images/TS_69_2_1070.png', '/workspace/CZII/proc/yolo11_baseline_cv/images/TS_69_2_1080.png', '/workspace/CZII/proc/yolo11_baseline_cv/images/TS_69_2_1090.png', '/workspace/CZII/proc/yolo11_baseline_cv/images/TS_69_2_110.png', '/workspace/CZII/proc/yolo11_baseline_cv/images/TS_69_2_1100.png', '/workspace/CZII/proc/yolo11_baseline_cv/images/TS_69_2_1110.png', '/workspace/CZII/proc/yolo11_baseline_cv/images/TS_69_2_1120.png', '/workspace/CZII/proc/yolo11_baseline_cv/images/TS_69_2_1130.png', '/workspace/CZII/proc/yolo11_baseline_cv/images/TS_69_2_1140.png', '/workspace/CZII/proc/yolo11_baseline_cv/images/TS_69_2_1150.png', '/workspace/CZII/proc/yolo11_baseline_cv/images/TS_69_2_1160.png', '/workspace/CZII/proc/yolo11_baseline_cv/images/TS_69_2_1170.png', '/workspace/CZII/proc/yolo11_baseline_cv/images/TS_69_2_1180.png', '/workspace/CZII/proc/yolo11_baseline_cv/images/TS_69_2_1190.png', '/workspace/CZII/proc/yolo11_baseline_cv/images/TS_69_2_120.png', '/workspace/CZII/proc/yolo11_baseline_cv/images/TS_69_2_1200.png', '/workspace/CZII/proc/yolo11_baseline_cv/images/TS_69_2_1210.png', '/workspace/CZII/proc/yolo11_baseline_cv/images/TS_69_2_1220.png', '/workspace/CZII/proc/yolo11_baseline_cv/images/TS_69_2_1230.png', '/workspace/CZII/proc/yolo11_baseline_cv/images/TS_69_2_1240.png', '/workspace/CZII/proc/yolo11_baseline_cv/images/TS_69_2_1250.png', '/workspace/CZII/proc/yolo11_baseline_cv/images/TS_69_2_1260.png', '/workspace/CZII/proc/yolo11_baseline_cv/images/TS_69_2_1270.png', '/workspace/CZII/proc/yolo11_baseline_cv/images/TS_69_2_1280.png', '/workspace/CZII/proc/yolo11_baseline_cv/images/TS_69_2_1290.png', '/workspace/CZII/proc/yolo11_baseline_cv/images/TS_69_2_130.png', '/workspace/CZII/proc/yolo11_baseline_cv/images/TS_69_2_1300.png', '/workspace/CZII/proc/yolo11_baseline_cv/images/TS_69_2_1310.png', '/workspace/CZII/proc/yolo11_baseline_cv/images/TS_69_2_1320.png', '/workspace/CZII/proc/yolo11_baseline_cv/images/TS_69_2_1330.png', '/workspace/CZII/proc/yolo11_baseline_cv/images/TS_69_2_1340.png', '/workspace/CZII/proc/yolo11_baseline_cv/images/TS_69_2_1350.png', '/workspace/CZII/proc/yolo11_baseline_cv/images/TS_69_2_1360.png', '/workspace/CZII/proc/yolo11_baseline_cv/images/TS_69_2_1370.png', '/workspace/CZII/proc/yolo11_baseline_cv/images/TS_69_2_1380.png', '/workspace/CZII/proc/yolo11_baseline_cv/images/TS_69_2_1390.png', '/workspace/CZII/proc/yolo11_baseline_cv/images/TS_69_2_140.png', '/workspace/CZII/proc/yolo11_baseline_cv/images/TS_69_2_1400.png', '/workspace/CZII/proc/yolo11_baseline_cv/images/TS_69_2_1410.png', '/workspace/CZII/proc/yolo11_baseline_cv/images/TS_69_2_1420.png', '/workspace/CZII/proc/yolo11_baseline_cv/images/TS_69_2_1430.png', '/workspace/CZII/proc/yolo11_baseline_cv/images/TS_69_2_1440.png', '/workspace/CZII/proc/yolo11_baseline_cv/images/TS_69_2_1450.png', '/workspace/CZII/proc/yolo11_baseline_cv/images/TS_69_2_1460.png', '/workspace/CZII/proc/yolo11_baseline_cv/images/TS_69_2_1470.png', '/workspace/CZII/proc/yolo11_baseline_cv/images/TS_69_2_1480.png', '/workspace/CZII/proc/yolo11_baseline_cv/images/TS_69_2_1490.png', '/workspace/CZII/proc/yolo11_baseline_cv/images/TS_69_2_150.png', '/workspace/CZII/proc/yolo11_baseline_cv/images/TS_69_2_1500.png', '/workspace/CZII/proc/yolo11_baseline_cv/images/TS_69_2_1510.png', '/workspace/CZII/proc/yolo11_baseline_cv/images/TS_69_2_1520.png', '/workspace/CZII/proc/yolo11_baseline_cv/images/TS_69_2_1530.png', '/workspace/CZII/proc/yolo11_baseline_cv/images/TS_69_2_1540.png', '/workspace/CZII/proc/yolo11_baseline_cv/images/TS_69_2_1550.png', '/workspace/CZII/proc/yolo11_baseline_cv/images/TS_69_2_1560.png', '/workspace/CZII/proc/yolo11_baseline_cv/images/TS_69_2_1570.png', '/workspace/CZII/proc/yolo11_baseline_cv/images/TS_69_2_1580.png', '/workspace/CZII/proc/yolo11_baseline_cv/images/TS_69_2_1590.png', '/workspace/CZII/proc/yolo11_baseline_cv/images/TS_69_2_160.png', '/workspace/CZII/proc/yolo11_baseline_cv/images/TS_69_2_1600.png', '/workspace/CZII/proc/yolo11_baseline_cv/images/TS_69_2_1610.png', '/workspace/CZII/proc/yolo11_baseline_cv/images/TS_69_2_1620.png', '/workspace/CZII/proc/yolo11_baseline_cv/images/TS_69_2_1630.png', '/workspace/CZII/proc/yolo11_baseline_cv/images/TS_69_2_1640.png', '/workspace/CZII/proc/yolo11_baseline_cv/images/TS_69_2_1650.png', '/workspace/CZII/proc/yolo11_baseline_cv/images/TS_69_2_1660.png', '/workspace/CZII/proc/yolo11_baseline_cv/images/TS_69_2_1670.png', '/workspace/CZII/proc/yolo11_baseline_cv/images/TS_69_2_1680.png', '/workspace/CZII/proc/yolo11_baseline_cv/images/TS_69_2_1690.png', '/workspace/CZII/proc/yolo11_baseline_cv/images/TS_69_2_170.png', '/workspace/CZII/proc/yolo11_baseline_cv/images/TS_69_2_1700.png', '/workspace/CZII/proc/yolo11_baseline_cv/images/TS_69_2_1710.png', '/workspace/CZII/proc/yolo11_baseline_cv/images/TS_69_2_1720.png', '/workspace/CZII/proc/yolo11_baseline_cv/images/TS_69_2_1730.png', '/workspace/CZII/proc/yolo11_baseline_cv/images/TS_69_2_1740.png', '/workspace/CZII/proc/yolo11_baseline_cv/images/TS_69_2_1750.png', '/workspace/CZII/proc/yolo11_baseline_cv/images/TS_69_2_1760.png', '/workspace/CZII/proc/yolo11_baseline_cv/images/TS_69_2_1770.png', '/workspace/CZII/proc/yolo11_baseline_cv/images/TS_69_2_1780.png', '/workspace/CZII/proc/yolo11_baseline_cv/images/TS_69_2_1790.png', '/workspace/CZII/proc/yolo11_baseline_cv/images/TS_69_2_180.png', '/workspace/CZII/proc/yolo11_baseline_cv/images/TS_69_2_1800.png', '/workspace/CZII/proc/yolo11_baseline_cv/images/TS_69_2_1810.png', '/workspace/CZII/proc/yolo11_baseline_cv/images/TS_69_2_1820.png', '/workspace/CZII/proc/yolo11_baseline_cv/images/TS_69_2_1830.png', '/workspace/CZII/proc/yolo11_baseline_cv/images/TS_69_2_190.png', '/workspace/CZII/proc/yolo11_baseline_cv/images/TS_69_2_20.png', '/workspace/CZII/proc/yolo11_baseline_cv/images/TS_69_2_200.png', '/workspace/CZII/proc/yolo11_baseline_cv/images/TS_69_2_210.png', '/workspace/CZII/proc/yolo11_baseline_cv/images/TS_69_2_220.png', '/workspace/CZII/proc/yolo11_baseline_cv/images/TS_69_2_230.png', '/workspace/CZII/proc/yolo11_baseline_cv/images/TS_69_2_240.png', '/workspace/CZII/proc/yolo11_baseline_cv/images/TS_69_2_250.png', '/workspace/CZII/proc/yolo11_baseline_cv/images/TS_69_2_260.png', '/workspace/CZII/proc/yolo11_baseline_cv/images/TS_69_2_270.png', '/workspace/CZII/proc/yolo11_baseline_cv/images/TS_69_2_280.png', '/workspace/CZII/proc/yolo11_baseline_cv/images/TS_69_2_290.png', '/workspace/CZII/proc/yolo11_baseline_cv/images/TS_69_2_30.png', '/workspace/CZII/proc/yolo11_baseline_cv/images/TS_69_2_300.png', '/workspace/CZII/proc/yolo11_baseline_cv/images/TS_69_2_310.png', '/workspace/CZII/proc/yolo11_baseline_cv/images/TS_69_2_320.png', '/workspace/CZII/proc/yolo11_baseline_cv/images/TS_69_2_330.png', '/workspace/CZII/proc/yolo11_baseline_cv/images/TS_69_2_340.png', '/workspace/CZII/proc/yolo11_baseline_cv/images/TS_69_2_350.png', '/workspace/CZII/proc/yolo11_baseline_cv/images/TS_69_2_360.png', '/workspace/CZII/proc/yolo11_baseline_cv/images/TS_69_2_370.png', '/workspace/CZII/proc/yolo11_baseline_cv/images/TS_69_2_380.png', '/workspace/CZII/proc/yolo11_baseline_cv/images/TS_69_2_390.png', '/workspace/CZII/proc/yolo11_baseline_cv/images/TS_69_2_40.png', '/workspace/CZII/proc/yolo11_baseline_cv/images/TS_69_2_400.png', '/workspace/CZII/proc/yolo11_baseline_cv/images/TS_69_2_410.png', '/workspace/CZII/proc/yolo11_baseline_cv/images/TS_69_2_420.png', '/workspace/CZII/proc/yolo11_baseline_cv/images/TS_69_2_430.png', '/workspace/CZII/proc/yolo11_baseline_cv/images/TS_69_2_440.png', '/workspace/CZII/proc/yolo11_baseline_cv/images/TS_69_2_450.png', '/workspace/CZII/proc/yolo11_baseline_cv/images/TS_69_2_460.png', '/workspace/CZII/proc/yolo11_baseline_cv/images/TS_69_2_470.png', '/workspace/CZII/proc/yolo11_baseline_cv/images/TS_69_2_480.png', '/workspace/CZII/proc/yolo11_baseline_cv/images/TS_69_2_490.png', '/workspace/CZII/proc/yolo11_baseline_cv/images/TS_69_2_50.png', '/workspace/CZII/proc/yolo11_baseline_cv/images/TS_69_2_500.png', '/workspace/CZII/proc/yolo11_baseline_cv/images/TS_69_2_510.png', '/workspace/CZII/proc/yolo11_baseline_cv/images/TS_69_2_520.png', '/workspace/CZII/proc/yolo11_baseline_cv/images/TS_69_2_530.png', '/workspace/CZII/proc/yolo11_baseline_cv/images/TS_69_2_540.png', '/workspace/CZII/proc/yolo11_baseline_cv/images/TS_69_2_550.png', '/workspace/CZII/proc/yolo11_baseline_cv/images/TS_69_2_560.png', '/workspace/CZII/proc/yolo11_baseline_cv/images/TS_69_2_570.png', '/workspace/CZII/proc/yolo11_baseline_cv/images/TS_69_2_580.png', '/workspace/CZII/proc/yolo11_baseline_cv/images/TS_69_2_590.png', '/workspace/CZII/proc/yolo11_baseline_cv/images/TS_69_2_60.png', '/workspace/CZII/proc/yolo11_baseline_cv/images/TS_69_2_600.png', '/workspace/CZII/proc/yolo11_baseline_cv/images/TS_69_2_610.png', '/workspace/CZII/proc/yolo11_baseline_cv/images/TS_69_2_620.png', '/workspace/CZII/proc/yolo11_baseline_cv/images/TS_69_2_630.png', '/workspace/CZII/proc/yolo11_baseline_cv/images/TS_69_2_640.png', '/workspace/CZII/proc/yolo11_baseline_cv/images/TS_69_2_650.png', '/workspace/CZII/proc/yolo11_baseline_cv/images/TS_69_2_660.png', '/workspace/CZII/proc/yolo11_baseline_cv/images/TS_69_2_670.png', '/workspace/CZII/proc/yolo11_baseline_cv/images/TS_69_2_680.png', '/workspace/CZII/proc/yolo11_baseline_cv/images/TS_69_2_690.png', '/workspace/CZII/proc/yolo11_baseline_cv/images/TS_69_2_70.png', '/workspace/CZII/proc/yolo11_baseline_cv/images/TS_69_2_700.png', '/workspace/CZII/proc/yolo11_baseline_cv/images/TS_69_2_710.png', '/workspace/CZII/proc/yolo11_baseline_cv/images/TS_69_2_720.png', '/workspace/CZII/proc/yolo11_baseline_cv/images/TS_69_2_730.png', '/workspace/CZII/proc/yolo11_baseline_cv/images/TS_69_2_740.png', '/workspace/CZII/proc/yolo11_baseline_cv/images/TS_69_2_750.png', '/workspace/CZII/proc/yolo11_baseline_cv/images/TS_69_2_760.png', '/workspace/CZII/proc/yolo11_baseline_cv/images/TS_69_2_770.png', '/workspace/CZII/proc/yolo11_baseline_cv/images/TS_69_2_780.png', '/workspace/CZII/proc/yolo11_baseline_cv/images/TS_69_2_790.png', '/workspace/CZII/proc/yolo11_baseline_cv/images/TS_69_2_80.png', '/workspace/CZII/proc/yolo11_baseline_cv/images/TS_69_2_800.png', '/workspace/CZII/proc/yolo11_baseline_cv/images/TS_69_2_810.png', '/workspace/CZII/proc/yolo11_baseline_cv/images/TS_69_2_820.png', '/workspace/CZII/proc/yolo11_baseline_cv/images/TS_69_2_830.png', '/workspace/CZII/proc/yolo11_baseline_cv/images/TS_69_2_840.png', '/workspace/CZII/proc/yolo11_baseline_cv/images/TS_69_2_850.png', '/workspace/CZII/proc/yolo11_baseline_cv/images/TS_69_2_860.png', '/workspace/CZII/proc/yolo11_baseline_cv/images/TS_69_2_870.png', '/workspace/CZII/proc/yolo11_baseline_cv/images/TS_69_2_880.png', '/workspace/CZII/proc/yolo11_baseline_cv/images/TS_69_2_890.png', '/workspace/CZII/proc/yolo11_baseline_cv/images/TS_69_2_90.png', '/workspace/CZII/proc/yolo11_baseline_cv/images/TS_69_2_900.png', '/workspace/CZII/proc/yolo11_baseline_cv/images/TS_69_2_910.png', '/workspace/CZII/proc/yolo11_baseline_cv/images/TS_69_2_920.png', '/workspace/CZII/proc/yolo11_baseline_cv/images/TS_69_2_930.png', '/workspace/CZII/proc/yolo11_baseline_cv/images/TS_69_2_940.png', '/workspace/CZII/proc/yolo11_baseline_cv/images/TS_69_2_950.png', '/workspace/CZII/proc/yolo11_baseline_cv/images/TS_69_2_960.png', '/workspace/CZII/proc/yolo11_baseline_cv/images/TS_69_2_970.png', '/workspace/CZII/proc/yolo11_baseline_cv/images/TS_69_2_980.png', '/workspace/CZII/proc/yolo11_baseline_cv/images/TS_69_2_990.png', '/workspace/CZII/proc/yolo11_baseline_cv/images/TS_6_4_0.png', '/workspace/CZII/proc/yolo11_baseline_cv/images/TS_6_4_10.png', '/workspace/CZII/proc/yolo11_baseline_cv/images/TS_6_4_100.png', '/workspace/CZII/proc/yolo11_baseline_cv/images/TS_6_4_1000.png', '/workspace/CZII/proc/yolo11_baseline_cv/images/TS_6_4_1010.png', '/workspace/CZII/proc/yolo11_baseline_cv/images/TS_6_4_1020.png', '/workspace/CZII/proc/yolo11_baseline_cv/images/TS_6_4_1030.png', '/workspace/CZII/proc/yolo11_baseline_cv/images/TS_6_4_1040.png', '/workspace/CZII/proc/yolo11_baseline_cv/images/TS_6_4_1050.png', '/workspace/CZII/proc/yolo11_baseline_cv/images/TS_6_4_1060.png', '/workspace/CZII/proc/yolo11_baseline_cv/images/TS_6_4_1070.png', '/workspace/CZII/proc/yolo11_baseline_cv/images/TS_6_4_1080.png', '/workspace/CZII/proc/yolo11_baseline_cv/images/TS_6_4_1090.png', '/workspace/CZII/proc/yolo11_baseline_cv/images/TS_6_4_110.png', '/workspace/CZII/proc/yolo11_baseline_cv/images/TS_6_4_1100.png', '/workspace/CZII/proc/yolo11_baseline_cv/images/TS_6_4_1110.png', '/workspace/CZII/proc/yolo11_baseline_cv/images/TS_6_4_1120.png', '/workspace/CZII/proc/yolo11_baseline_cv/images/TS_6_4_1130.png', '/workspace/CZII/proc/yolo11_baseline_cv/images/TS_6_4_1140.png', '/workspace/CZII/proc/yolo11_baseline_cv/images/TS_6_4_1150.png', '/workspace/CZII/proc/yolo11_baseline_cv/images/TS_6_4_1160.png', '/workspace/CZII/proc/yolo11_baseline_cv/images/TS_6_4_1170.png', '/workspace/CZII/proc/yolo11_baseline_cv/images/TS_6_4_1180.png', '/workspace/CZII/proc/yolo11_baseline_cv/images/TS_6_4_1190.png', '/workspace/CZII/proc/yolo11_baseline_cv/images/TS_6_4_120.png', '/workspace/CZII/proc/yolo11_baseline_cv/images/TS_6_4_1200.png', '/workspace/CZII/proc/yolo11_baseline_cv/images/TS_6_4_1210.png', '/workspace/CZII/proc/yolo11_baseline_cv/images/TS_6_4_1220.png', '/workspace/CZII/proc/yolo11_baseline_cv/images/TS_6_4_1230.png', '/workspace/CZII/proc/yolo11_baseline_cv/images/TS_6_4_1240.png', '/workspace/CZII/proc/yolo11_baseline_cv/images/TS_6_4_1250.png', '/workspace/CZII/proc/yolo11_baseline_cv/images/TS_6_4_1260.png', '/workspace/CZII/proc/yolo11_baseline_cv/images/TS_6_4_1270.png', '/workspace/CZII/proc/yolo11_baseline_cv/images/TS_6_4_1280.png', '/workspace/CZII/proc/yolo11_baseline_cv/images/TS_6_4_1290.png', '/workspace/CZII/proc/yolo11_baseline_cv/images/TS_6_4_130.png', '/workspace/CZII/proc/yolo11_baseline_cv/images/TS_6_4_1300.png', '/workspace/CZII/proc/yolo11_baseline_cv/images/TS_6_4_1310.png', '/workspace/CZII/proc/yolo11_baseline_cv/images/TS_6_4_1320.png', '/workspace/CZII/proc/yolo11_baseline_cv/images/TS_6_4_1330.png', '/workspace/CZII/proc/yolo11_baseline_cv/images/TS_6_4_1340.png', '/workspace/CZII/proc/yolo11_baseline_cv/images/TS_6_4_1350.png', '/workspace/CZII/proc/yolo11_baseline_cv/images/TS_6_4_1360.png', '/workspace/CZII/proc/yolo11_baseline_cv/images/TS_6_4_1370.png', '/workspace/CZII/proc/yolo11_baseline_cv/images/TS_6_4_1380.png', '/workspace/CZII/proc/yolo11_baseline_cv/images/TS_6_4_1390.png', '/workspace/CZII/proc/yolo11_baseline_cv/images/TS_6_4_140.png', '/workspace/CZII/proc/yolo11_baseline_cv/images/TS_6_4_1400.png', '/workspace/CZII/proc/yolo11_baseline_cv/images/TS_6_4_1410.png', '/workspace/CZII/proc/yolo11_baseline_cv/images/TS_6_4_1420.png', '/workspace/CZII/proc/yolo11_baseline_cv/images/TS_6_4_1430.png', '/workspace/CZII/proc/yolo11_baseline_cv/images/TS_6_4_1440.png', '/workspace/CZII/proc/yolo11_baseline_cv/images/TS_6_4_1450.png', '/workspace/CZII/proc/yolo11_baseline_cv/images/TS_6_4_1460.png', '/workspace/CZII/proc/yolo11_baseline_cv/images/TS_6_4_1470.png', '/workspace/CZII/proc/yolo11_baseline_cv/images/TS_6_4_1480.png', '/workspace/CZII/proc/yolo11_baseline_cv/images/TS_6_4_1490.png', '/workspace/CZII/proc/yolo11_baseline_cv/images/TS_6_4_150.png', '/workspace/CZII/proc/yolo11_baseline_cv/images/TS_6_4_1500.png', '/workspace/CZII/proc/yolo11_baseline_cv/images/TS_6_4_1510.png', '/workspace/CZII/proc/yolo11_baseline_cv/images/TS_6_4_1520.png', '/workspace/CZII/proc/yolo11_baseline_cv/images/TS_6_4_1530.png', '/workspace/CZII/proc/yolo11_baseline_cv/images/TS_6_4_1540.png', '/workspace/CZII/proc/yolo11_baseline_cv/images/TS_6_4_1550.png', '/workspace/CZII/proc/yolo11_baseline_cv/images/TS_6_4_1560.png', '/workspace/CZII/proc/yolo11_baseline_cv/images/TS_6_4_1570.png', '/workspace/CZII/proc/yolo11_baseline_cv/images/TS_6_4_1580.png', '/workspace/CZII/proc/yolo11_baseline_cv/images/TS_6_4_1590.png', '/workspace/CZII/proc/yolo11_baseline_cv/images/TS_6_4_160.png', '/workspace/CZII/proc/yolo11_baseline_cv/images/TS_6_4_1600.png', '/workspace/CZII/proc/yolo11_baseline_cv/images/TS_6_4_1610.png', '/workspace/CZII/proc/yolo11_baseline_cv/images/TS_6_4_1620.png', '/workspace/CZII/proc/yolo11_baseline_cv/images/TS_6_4_1630.png', '/workspace/CZII/proc/yolo11_baseline_cv/images/TS_6_4_1640.png', '/workspace/CZII/proc/yolo11_baseline_cv/images/TS_6_4_1650.png', '/workspace/CZII/proc/yolo11_baseline_cv/images/TS_6_4_1660.png', '/workspace/CZII/proc/yolo11_baseline_cv/images/TS_6_4_1670.png', '/workspace/CZII/proc/yolo11_baseline_cv/images/TS_6_4_1680.png', '/workspace/CZII/proc/yolo11_baseline_cv/images/TS_6_4_1690.png', '/workspace/CZII/proc/yolo11_baseline_cv/images/TS_6_4_170.png', '/workspace/CZII/proc/yolo11_baseline_cv/images/TS_6_4_1700.png', '/workspace/CZII/proc/yolo11_baseline_cv/images/TS_6_4_1710.png', '/workspace/CZII/proc/yolo11_baseline_cv/images/TS_6_4_1720.png', '/workspace/CZII/proc/yolo11_baseline_cv/images/TS_6_4_1730.png', '/workspace/CZII/proc/yolo11_baseline_cv/images/TS_6_4_1740.png', '/workspace/CZII/proc/yolo11_baseline_cv/images/TS_6_4_1750.png', '/workspace/CZII/proc/yolo11_baseline_cv/images/TS_6_4_1760.png', '/workspace/CZII/proc/yolo11_baseline_cv/images/TS_6_4_1770.png', '/workspace/CZII/proc/yolo11_baseline_cv/images/TS_6_4_1780.png', '/workspace/CZII/proc/yolo11_baseline_cv/images/TS_6_4_1790.png', '/workspace/CZII/proc/yolo11_baseline_cv/images/TS_6_4_180.png', '/workspace/CZII/proc/yolo11_baseline_cv/images/TS_6_4_1800.png', '/workspace/CZII/proc/yolo11_baseline_cv/images/TS_6_4_1810.png', '/workspace/CZII/proc/yolo11_baseline_cv/images/TS_6_4_1820.png', '/workspace/CZII/proc/yolo11_baseline_cv/images/TS_6_4_1830.png', '/workspace/CZII/proc/yolo11_baseline_cv/images/TS_6_4_190.png', '/workspace/CZII/proc/yolo11_baseline_cv/images/TS_6_4_20.png', '/workspace/CZII/proc/yolo11_baseline_cv/images/TS_6_4_200.png', '/workspace/CZII/proc/yolo11_baseline_cv/images/TS_6_4_210.png', '/workspace/CZII/proc/yolo11_baseline_cv/images/TS_6_4_220.png', '/workspace/CZII/proc/yolo11_baseline_cv/images/TS_6_4_230.png', '/workspace/CZII/proc/yolo11_baseline_cv/images/TS_6_4_240.png', '/workspace/CZII/proc/yolo11_baseline_cv/images/TS_6_4_250.png', '/workspace/CZII/proc/yolo11_baseline_cv/images/TS_6_4_260.png', '/workspace/CZII/proc/yolo11_baseline_cv/images/TS_6_4_270.png', '/workspace/CZII/proc/yolo11_baseline_cv/images/TS_6_4_280.png', '/workspace/CZII/proc/yolo11_baseline_cv/images/TS_6_4_290.png', '/workspace/CZII/proc/yolo11_baseline_cv/images/TS_6_4_30.png', '/workspace/CZII/proc/yolo11_baseline_cv/images/TS_6_4_300.png', '/workspace/CZII/proc/yolo11_baseline_cv/images/TS_6_4_310.png', '/workspace/CZII/proc/yolo11_baseline_cv/images/TS_6_4_320.png', '/workspace/CZII/proc/yolo11_baseline_cv/images/TS_6_4_330.png', '/workspace/CZII/proc/yolo11_baseline_cv/images/TS_6_4_340.png', '/workspace/CZII/proc/yolo11_baseline_cv/images/TS_6_4_350.png', '/workspace/CZII/proc/yolo11_baseline_cv/images/TS_6_4_360.png', '/workspace/CZII/proc/yolo11_baseline_cv/images/TS_6_4_370.png', '/workspace/CZII/proc/yolo11_baseline_cv/images/TS_6_4_380.png', '/workspace/CZII/proc/yolo11_baseline_cv/images/TS_6_4_390.png', '/workspace/CZII/proc/yolo11_baseline_cv/images/TS_6_4_40.png', '/workspace/CZII/proc/yolo11_baseline_cv/images/TS_6_4_400.png', '/workspace/CZII/proc/yolo11_baseline_cv/images/TS_6_4_410.png', '/workspace/CZII/proc/yolo11_baseline_cv/images/TS_6_4_420.png', '/workspace/CZII/proc/yolo11_baseline_cv/images/TS_6_4_430.png', '/workspace/CZII/proc/yolo11_baseline_cv/images/TS_6_4_440.png', '/workspace/CZII/proc/yolo11_baseline_cv/images/TS_6_4_450.png', '/workspace/CZII/proc/yolo11_baseline_cv/images/TS_6_4_460.png', '/workspace/CZII/proc/yolo11_baseline_cv/images/TS_6_4_470.png', '/workspace/CZII/proc/yolo11_baseline_cv/images/TS_6_4_480.png', '/workspace/CZII/proc/yolo11_baseline_cv/images/TS_6_4_490.png', '/workspace/CZII/proc/yolo11_baseline_cv/images/TS_6_4_50.png', '/workspace/CZII/proc/yolo11_baseline_cv/images/TS_6_4_500.png', '/workspace/CZII/proc/yolo11_baseline_cv/images/TS_6_4_510.png', '/workspace/CZII/proc/yolo11_baseline_cv/images/TS_6_4_520.png', '/workspace/CZII/proc/yolo11_baseline_cv/images/TS_6_4_530.png', '/workspace/CZII/proc/yolo11_baseline_cv/images/TS_6_4_540.png', '/workspace/CZII/proc/yolo11_baseline_cv/images/TS_6_4_550.png', '/workspace/CZII/proc/yolo11_baseline_cv/images/TS_6_4_560.png', '/workspace/CZII/proc/yolo11_baseline_cv/images/TS_6_4_570.png', '/workspace/CZII/proc/yolo11_baseline_cv/images/TS_6_4_580.png', '/workspace/CZII/proc/yolo11_baseline_cv/images/TS_6_4_590.png', '/workspace/CZII/proc/yolo11_baseline_cv/images/TS_6_4_60.png', '/workspace/CZII/proc/yolo11_baseline_cv/images/TS_6_4_600.png', '/workspace/CZII/proc/yolo11_baseline_cv/images/TS_6_4_610.png', '/workspace/CZII/proc/yolo11_baseline_cv/images/TS_6_4_620.png', '/workspace/CZII/proc/yolo11_baseline_cv/images/TS_6_4_630.png', '/workspace/CZII/proc/yolo11_baseline_cv/images/TS_6_4_640.png', '/workspace/CZII/proc/yolo11_baseline_cv/images/TS_6_4_650.png', '/workspace/CZII/proc/yolo11_baseline_cv/images/TS_6_4_660.png', '/workspace/CZII/proc/yolo11_baseline_cv/images/TS_6_4_670.png', '/workspace/CZII/proc/yolo11_baseline_cv/images/TS_6_4_680.png', '/workspace/CZII/proc/yolo11_baseline_cv/images/TS_6_4_690.png', '/workspace/CZII/proc/yolo11_baseline_cv/images/TS_6_4_70.png', '/workspace/CZII/proc/yolo11_baseline_cv/images/TS_6_4_700.png', '/workspace/CZII/proc/yolo11_baseline_cv/images/TS_6_4_710.png', '/workspace/CZII/proc/yolo11_baseline_cv/images/TS_6_4_720.png', '/workspace/CZII/proc/yolo11_baseline_cv/images/TS_6_4_730.png', '/workspace/CZII/proc/yolo11_baseline_cv/images/TS_6_4_740.png', '/workspace/CZII/proc/yolo11_baseline_cv/images/TS_6_4_750.png', '/workspace/CZII/proc/yolo11_baseline_cv/images/TS_6_4_760.png', '/workspace/CZII/proc/yolo11_baseline_cv/images/TS_6_4_770.png', '/workspace/CZII/proc/yolo11_baseline_cv/images/TS_6_4_780.png', '/workspace/CZII/proc/yolo11_baseline_cv/images/TS_6_4_790.png', '/workspace/CZII/proc/yolo11_baseline_cv/images/TS_6_4_80.png', '/workspace/CZII/proc/yolo11_baseline_cv/images/TS_6_4_800.png', '/workspace/CZII/proc/yolo11_baseline_cv/images/TS_6_4_810.png', '/workspace/CZII/proc/yolo11_baseline_cv/images/TS_6_4_820.png', '/workspace/CZII/proc/yolo11_baseline_cv/images/TS_6_4_830.png', '/workspace/CZII/proc/yolo11_baseline_cv/images/TS_6_4_840.png', '/workspace/CZII/proc/yolo11_baseline_cv/images/TS_6_4_850.png', '/workspace/CZII/proc/yolo11_baseline_cv/images/TS_6_4_860.png', '/workspace/CZII/proc/yolo11_baseline_cv/images/TS_6_4_870.png', '/workspace/CZII/proc/yolo11_baseline_cv/images/TS_6_4_880.png', '/workspace/CZII/proc/yolo11_baseline_cv/images/TS_6_4_890.png', '/workspace/CZII/proc/yolo11_baseline_cv/images/TS_6_4_90.png', '/workspace/CZII/proc/yolo11_baseline_cv/images/TS_6_4_900.png', '/workspace/CZII/proc/yolo11_baseline_cv/images/TS_6_4_910.png', '/workspace/CZII/proc/yolo11_baseline_cv/images/TS_6_4_920.png', '/workspace/CZII/proc/yolo11_baseline_cv/images/TS_6_4_930.png', '/workspace/CZII/proc/yolo11_baseline_cv/images/TS_6_4_940.png', '/workspace/CZII/proc/yolo11_baseline_cv/images/TS_6_4_950.png', '/workspace/CZII/proc/yolo11_baseline_cv/images/TS_6_4_960.png', '/workspace/CZII/proc/yolo11_baseline_cv/images/TS_6_4_970.png', '/workspace/CZII/proc/yolo11_baseline_cv/images/TS_6_4_980.png', '/workspace/CZII/proc/yolo11_baseline_cv/images/TS_6_4_990.png', '/workspace/CZII/proc/yolo11_baseline_cv/images/TS_6_6_0.png', '/workspace/CZII/proc/yolo11_baseline_cv/images/TS_6_6_10.png', '/workspace/CZII/proc/yolo11_baseline_cv/images/TS_6_6_100.png', '/workspace/CZII/proc/yolo11_baseline_cv/images/TS_6_6_1000.png', '/workspace/CZII/proc/yolo11_baseline_cv/images/TS_6_6_1010.png', '/workspace/CZII/proc/yolo11_baseline_cv/images/TS_6_6_1020.png', '/workspace/CZII/proc/yolo11_baseline_cv/images/TS_6_6_1030.png', '/workspace/CZII/proc/yolo11_baseline_cv/images/TS_6_6_1040.png', '/workspace/CZII/proc/yolo11_baseline_cv/images/TS_6_6_1050.png', '/workspace/CZII/proc/yolo11_baseline_cv/images/TS_6_6_1060.png', '/workspace/CZII/proc/yolo11_baseline_cv/images/TS_6_6_1070.png', '/workspace/CZII/proc/yolo11_baseline_cv/images/TS_6_6_1080.png', '/workspace/CZII/proc/yolo11_baseline_cv/images/TS_6_6_1090.png', '/workspace/CZII/proc/yolo11_baseline_cv/images/TS_6_6_110.png', '/workspace/CZII/proc/yolo11_baseline_cv/images/TS_6_6_1100.png', '/workspace/CZII/proc/yolo11_baseline_cv/images/TS_6_6_1110.png', '/workspace/CZII/proc/yolo11_baseline_cv/images/TS_6_6_1120.png', '/workspace/CZII/proc/yolo11_baseline_cv/images/TS_6_6_1130.png', '/workspace/CZII/proc/yolo11_baseline_cv/images/TS_6_6_1140.png', '/workspace/CZII/proc/yolo11_baseline_cv/images/TS_6_6_1150.png', '/workspace/CZII/proc/yolo11_baseline_cv/images/TS_6_6_1160.png', '/workspace/CZII/proc/yolo11_baseline_cv/images/TS_6_6_1170.png', '/workspace/CZII/proc/yolo11_baseline_cv/images/TS_6_6_1180.png', '/workspace/CZII/proc/yolo11_baseline_cv/images/TS_6_6_1190.png', '/workspace/CZII/proc/yolo11_baseline_cv/images/TS_6_6_120.png', '/workspace/CZII/proc/yolo11_baseline_cv/images/TS_6_6_1200.png', '/workspace/CZII/proc/yolo11_baseline_cv/images/TS_6_6_1210.png', '/workspace/CZII/proc/yolo11_baseline_cv/images/TS_6_6_1220.png', '/workspace/CZII/proc/yolo11_baseline_cv/images/TS_6_6_1230.png', '/workspace/CZII/proc/yolo11_baseline_cv/images/TS_6_6_1240.png', '/workspace/CZII/proc/yolo11_baseline_cv/images/TS_6_6_1250.png', '/workspace/CZII/proc/yolo11_baseline_cv/images/TS_6_6_1260.png', '/workspace/CZII/proc/yolo11_baseline_cv/images/TS_6_6_1270.png', '/workspace/CZII/proc/yolo11_baseline_cv/images/TS_6_6_1280.png', '/workspace/CZII/proc/yolo11_baseline_cv/images/TS_6_6_1290.png', '/workspace/CZII/proc/yolo11_baseline_cv/images/TS_6_6_130.png', '/workspace/CZII/proc/yolo11_baseline_cv/images/TS_6_6_1300.png', '/workspace/CZII/proc/yolo11_baseline_cv/images/TS_6_6_1310.png', '/workspace/CZII/proc/yolo11_baseline_cv/images/TS_6_6_1320.png', '/workspace/CZII/proc/yolo11_baseline_cv/images/TS_6_6_1330.png', '/workspace/CZII/proc/yolo11_baseline_cv/images/TS_6_6_1340.png', '/workspace/CZII/proc/yolo11_baseline_cv/images/TS_6_6_1350.png', '/workspace/CZII/proc/yolo11_baseline_cv/images/TS_6_6_1360.png', '/workspace/CZII/proc/yolo11_baseline_cv/images/TS_6_6_1370.png', '/workspace/CZII/proc/yolo11_baseline_cv/images/TS_6_6_1380.png', '/workspace/CZII/proc/yolo11_baseline_cv/images/TS_6_6_1390.png', '/workspace/CZII/proc/yolo11_baseline_cv/images/TS_6_6_140.png', '/workspace/CZII/proc/yolo11_baseline_cv/images/TS_6_6_1400.png', '/workspace/CZII/proc/yolo11_baseline_cv/images/TS_6_6_1410.png', '/workspace/CZII/proc/yolo11_baseline_cv/images/TS_6_6_1420.png', '/workspace/CZII/proc/yolo11_baseline_cv/images/TS_6_6_1430.png', '/workspace/CZII/proc/yolo11_baseline_cv/images/TS_6_6_1440.png', '/workspace/CZII/proc/yolo11_baseline_cv/images/TS_6_6_1450.png', '/workspace/CZII/proc/yolo11_baseline_cv/images/TS_6_6_1460.png', '/workspace/CZII/proc/yolo11_baseline_cv/images/TS_6_6_1470.png', '/workspace/CZII/proc/yolo11_baseline_cv/images/TS_6_6_1480.png', '/workspace/CZII/proc/yolo11_baseline_cv/images/TS_6_6_1490.png', '/workspace/CZII/proc/yolo11_baseline_cv/images/TS_6_6_150.png', '/workspace/CZII/proc/yolo11_baseline_cv/images/TS_6_6_1500.png', '/workspace/CZII/proc/yolo11_baseline_cv/images/TS_6_6_1510.png', '/workspace/CZII/proc/yolo11_baseline_cv/images/TS_6_6_1520.png', '/workspace/CZII/proc/yolo11_baseline_cv/images/TS_6_6_1530.png', '/workspace/CZII/proc/yolo11_baseline_cv/images/TS_6_6_1540.png', '/workspace/CZII/proc/yolo11_baseline_cv/images/TS_6_6_1550.png', '/workspace/CZII/proc/yolo11_baseline_cv/images/TS_6_6_1560.png', '/workspace/CZII/proc/yolo11_baseline_cv/images/TS_6_6_1570.png', '/workspace/CZII/proc/yolo11_baseline_cv/images/TS_6_6_1580.png', '/workspace/CZII/proc/yolo11_baseline_cv/images/TS_6_6_1590.png', '/workspace/CZII/proc/yolo11_baseline_cv/images/TS_6_6_160.png', '/workspace/CZII/proc/yolo11_baseline_cv/images/TS_6_6_1600.png', '/workspace/CZII/proc/yolo11_baseline_cv/images/TS_6_6_1610.png', '/workspace/CZII/proc/yolo11_baseline_cv/images/TS_6_6_1620.png', '/workspace/CZII/proc/yolo11_baseline_cv/images/TS_6_6_1630.png', '/workspace/CZII/proc/yolo11_baseline_cv/images/TS_6_6_1640.png', '/workspace/CZII/proc/yolo11_baseline_cv/images/TS_6_6_1650.png', '/workspace/CZII/proc/yolo11_baseline_cv/images/TS_6_6_1660.png', '/workspace/CZII/proc/yolo11_baseline_cv/images/TS_6_6_1670.png', '/workspace/CZII/proc/yolo11_baseline_cv/images/TS_6_6_1680.png', '/workspace/CZII/proc/yolo11_baseline_cv/images/TS_6_6_1690.png', '/workspace/CZII/proc/yolo11_baseline_cv/images/TS_6_6_170.png', '/workspace/CZII/proc/yolo11_baseline_cv/images/TS_6_6_1700.png', '/workspace/CZII/proc/yolo11_baseline_cv/images/TS_6_6_1710.png', '/workspace/CZII/proc/yolo11_baseline_cv/images/TS_6_6_1720.png', '/workspace/CZII/proc/yolo11_baseline_cv/images/TS_6_6_1730.png', '/workspace/CZII/proc/yolo11_baseline_cv/images/TS_6_6_1740.png', '/workspace/CZII/proc/yolo11_baseline_cv/images/TS_6_6_1750.png', '/workspace/CZII/proc/yolo11_baseline_cv/images/TS_6_6_1760.png', '/workspace/CZII/proc/yolo11_baseline_cv/images/TS_6_6_1770.png', '/workspace/CZII/proc/yolo11_baseline_cv/images/TS_6_6_1780.png', '/workspace/CZII/proc/yolo11_baseline_cv/images/TS_6_6_1790.png', '/workspace/CZII/proc/yolo11_baseline_cv/images/TS_6_6_180.png', '/workspace/CZII/proc/yolo11_baseline_cv/images/TS_6_6_1800.png', '/workspace/CZII/proc/yolo11_baseline_cv/images/TS_6_6_1810.png', '/workspace/CZII/proc/yolo11_baseline_cv/images/TS_6_6_1820.png', '/workspace/CZII/proc/yolo11_baseline_cv/images/TS_6_6_1830.png', '/workspace/CZII/proc/yolo11_baseline_cv/images/TS_6_6_190.png', '/workspace/CZII/proc/yolo11_baseline_cv/images/TS_6_6_20.png', '/workspace/CZII/proc/yolo11_baseline_cv/images/TS_6_6_200.png', '/workspace/CZII/proc/yolo11_baseline_cv/images/TS_6_6_210.png', '/workspace/CZII/proc/yolo11_baseline_cv/images/TS_6_6_220.png', '/workspace/CZII/proc/yolo11_baseline_cv/images/TS_6_6_230.png', '/workspace/CZII/proc/yolo11_baseline_cv/images/TS_6_6_240.png', '/workspace/CZII/proc/yolo11_baseline_cv/images/TS_6_6_250.png', '/workspace/CZII/proc/yolo11_baseline_cv/images/TS_6_6_260.png', '/workspace/CZII/proc/yolo11_baseline_cv/images/TS_6_6_270.png', '/workspace/CZII/proc/yolo11_baseline_cv/images/TS_6_6_280.png', '/workspace/CZII/proc/yolo11_baseline_cv/images/TS_6_6_290.png', '/workspace/CZII/proc/yolo11_baseline_cv/images/TS_6_6_30.png', '/workspace/CZII/proc/yolo11_baseline_cv/images/TS_6_6_300.png', '/workspace/CZII/proc/yolo11_baseline_cv/images/TS_6_6_310.png', '/workspace/CZII/proc/yolo11_baseline_cv/images/TS_6_6_320.png', '/workspace/CZII/proc/yolo11_baseline_cv/images/TS_6_6_330.png', '/workspace/CZII/proc/yolo11_baseline_cv/images/TS_6_6_340.png', '/workspace/CZII/proc/yolo11_baseline_cv/images/TS_6_6_350.png', '/workspace/CZII/proc/yolo11_baseline_cv/images/TS_6_6_360.png', '/workspace/CZII/proc/yolo11_baseline_cv/images/TS_6_6_370.png', '/workspace/CZII/proc/yolo11_baseline_cv/images/TS_6_6_380.png', '/workspace/CZII/proc/yolo11_baseline_cv/images/TS_6_6_390.png', '/workspace/CZII/proc/yolo11_baseline_cv/images/TS_6_6_40.png', '/workspace/CZII/proc/yolo11_baseline_cv/images/TS_6_6_400.png', '/workspace/CZII/proc/yolo11_baseline_cv/images/TS_6_6_410.png', '/workspace/CZII/proc/yolo11_baseline_cv/images/TS_6_6_420.png', '/workspace/CZII/proc/yolo11_baseline_cv/images/TS_6_6_430.png', '/workspace/CZII/proc/yolo11_baseline_cv/images/TS_6_6_440.png', '/workspace/CZII/proc/yolo11_baseline_cv/images/TS_6_6_450.png', '/workspace/CZII/proc/yolo11_baseline_cv/images/TS_6_6_460.png', '/workspace/CZII/proc/yolo11_baseline_cv/images/TS_6_6_470.png', '/workspace/CZII/proc/yolo11_baseline_cv/images/TS_6_6_480.png', '/workspace/CZII/proc/yolo11_baseline_cv/images/TS_6_6_490.png', '/workspace/CZII/proc/yolo11_baseline_cv/images/TS_6_6_50.png', '/workspace/CZII/proc/yolo11_baseline_cv/images/TS_6_6_500.png', '/workspace/CZII/proc/yolo11_baseline_cv/images/TS_6_6_510.png', '/workspace/CZII/proc/yolo11_baseline_cv/images/TS_6_6_520.png', '/workspace/CZII/proc/yolo11_baseline_cv/images/TS_6_6_530.png', '/workspace/CZII/proc/yolo11_baseline_cv/images/TS_6_6_540.png', '/workspace/CZII/proc/yolo11_baseline_cv/images/TS_6_6_550.png', '/workspace/CZII/proc/yolo11_baseline_cv/images/TS_6_6_560.png', '/workspace/CZII/proc/yolo11_baseline_cv/images/TS_6_6_570.png', '/workspace/CZII/proc/yolo11_baseline_cv/images/TS_6_6_580.png', '/workspace/CZII/proc/yolo11_baseline_cv/images/TS_6_6_590.png', '/workspace/CZII/proc/yolo11_baseline_cv/images/TS_6_6_60.png', '/workspace/CZII/proc/yolo11_baseline_cv/images/TS_6_6_600.png', '/workspace/CZII/proc/yolo11_baseline_cv/images/TS_6_6_610.png', '/workspace/CZII/proc/yolo11_baseline_cv/images/TS_6_6_620.png', '/workspace/CZII/proc/yolo11_baseline_cv/images/TS_6_6_630.png', '/workspace/CZII/proc/yolo11_baseline_cv/images/TS_6_6_640.png', '/workspace/CZII/proc/yolo11_baseline_cv/images/TS_6_6_650.png', '/workspace/CZII/proc/yolo11_baseline_cv/images/TS_6_6_660.png', '/workspace/CZII/proc/yolo11_baseline_cv/images/TS_6_6_670.png', '/workspace/CZII/proc/yolo11_baseline_cv/images/TS_6_6_680.png', '/workspace/CZII/proc/yolo11_baseline_cv/images/TS_6_6_690.png', '/workspace/CZII/proc/yolo11_baseline_cv/images/TS_6_6_70.png', '/workspace/CZII/proc/yolo11_baseline_cv/images/TS_6_6_700.png', '/workspace/CZII/proc/yolo11_baseline_cv/images/TS_6_6_710.png', '/workspace/CZII/proc/yolo11_baseline_cv/images/TS_6_6_720.png', '/workspace/CZII/proc/yolo11_baseline_cv/images/TS_6_6_730.png', '/workspace/CZII/proc/yolo11_baseline_cv/images/TS_6_6_740.png', '/workspace/CZII/proc/yolo11_baseline_cv/images/TS_6_6_750.png', '/workspace/CZII/proc/yolo11_baseline_cv/images/TS_6_6_760.png', '/workspace/CZII/proc/yolo11_baseline_cv/images/TS_6_6_770.png', '/workspace/CZII/proc/yolo11_baseline_cv/images/TS_6_6_780.png', '/workspace/CZII/proc/yolo11_baseline_cv/images/TS_6_6_790.png', '/workspace/CZII/proc/yolo11_baseline_cv/images/TS_6_6_80.png', '/workspace/CZII/proc/yolo11_baseline_cv/images/TS_6_6_800.png', '/workspace/CZII/proc/yolo11_baseline_cv/images/TS_6_6_810.png', '/workspace/CZII/proc/yolo11_baseline_cv/images/TS_6_6_820.png', '/workspace/CZII/proc/yolo11_baseline_cv/images/TS_6_6_830.png', '/workspace/CZII/proc/yolo11_baseline_cv/images/TS_6_6_840.png', '/workspace/CZII/proc/yolo11_baseline_cv/images/TS_6_6_850.png', '/workspace/CZII/proc/yolo11_baseline_cv/images/TS_6_6_860.png', '/workspace/CZII/proc/yolo11_baseline_cv/images/TS_6_6_870.png', '/workspace/CZII/proc/yolo11_baseline_cv/images/TS_6_6_880.png', '/workspace/CZII/proc/yolo11_baseline_cv/images/TS_6_6_890.png', '/workspace/CZII/proc/yolo11_baseline_cv/images/TS_6_6_90.png', '/workspace/CZII/proc/yolo11_baseline_cv/images/TS_6_6_900.png', '/workspace/CZII/proc/yolo11_baseline_cv/images/TS_6_6_910.png', '/workspace/CZII/proc/yolo11_baseline_cv/images/TS_6_6_920.png', '/workspace/CZII/proc/yolo11_baseline_cv/images/TS_6_6_930.png', '/workspace/CZII/proc/yolo11_baseline_cv/images/TS_6_6_940.png', '/workspace/CZII/proc/yolo11_baseline_cv/images/TS_6_6_950.png', '/workspace/CZII/proc/yolo11_baseline_cv/images/TS_6_6_960.png', '/workspace/CZII/proc/yolo11_baseline_cv/images/TS_6_6_970.png', '/workspace/CZII/proc/yolo11_baseline_cv/images/TS_6_6_980.png', '/workspace/CZII/proc/yolo11_baseline_cv/images/TS_6_6_990.png', '/workspace/CZII/proc/yolo11_baseline_cv/images/TS_73_6_0.png', '/workspace/CZII/proc/yolo11_baseline_cv/images/TS_73_6_10.png', '/workspace/CZII/proc/yolo11_baseline_cv/images/TS_73_6_100.png', '/workspace/CZII/proc/yolo11_baseline_cv/images/TS_73_6_1000.png', '/workspace/CZII/proc/yolo11_baseline_cv/images/TS_73_6_1010.png', '/workspace/CZII/proc/yolo11_baseline_cv/images/TS_73_6_1020.png', '/workspace/CZII/proc/yolo11_baseline_cv/images/TS_73_6_1030.png', '/workspace/CZII/proc/yolo11_baseline_cv/images/TS_73_6_1040.png', '/workspace/CZII/proc/yolo11_baseline_cv/images/TS_73_6_1050.png', '/workspace/CZII/proc/yolo11_baseline_cv/images/TS_73_6_1060.png', '/workspace/CZII/proc/yolo11_baseline_cv/images/TS_73_6_1070.png', '/workspace/CZII/proc/yolo11_baseline_cv/images/TS_73_6_1080.png', '/workspace/CZII/proc/yolo11_baseline_cv/images/TS_73_6_1090.png', '/workspace/CZII/proc/yolo11_baseline_cv/images/TS_73_6_110.png', '/workspace/CZII/proc/yolo11_baseline_cv/images/TS_73_6_1100.png', '/workspace/CZII/proc/yolo11_baseline_cv/images/TS_73_6_1110.png', '/workspace/CZII/proc/yolo11_baseline_cv/images/TS_73_6_1120.png', '/workspace/CZII/proc/yolo11_baseline_cv/images/TS_73_6_1130.png', '/workspace/CZII/proc/yolo11_baseline_cv/images/TS_73_6_1140.png', '/workspace/CZII/proc/yolo11_baseline_cv/images/TS_73_6_1150.png', '/workspace/CZII/proc/yolo11_baseline_cv/images/TS_73_6_1160.png', '/workspace/CZII/proc/yolo11_baseline_cv/images/TS_73_6_1170.png', '/workspace/CZII/proc/yolo11_baseline_cv/images/TS_73_6_1180.png', '/workspace/CZII/proc/yolo11_baseline_cv/images/TS_73_6_1190.png', '/workspace/CZII/proc/yolo11_baseline_cv/images/TS_73_6_120.png', '/workspace/CZII/proc/yolo11_baseline_cv/images/TS_73_6_1200.png', '/workspace/CZII/proc/yolo11_baseline_cv/images/TS_73_6_1210.png', '/workspace/CZII/proc/yolo11_baseline_cv/images/TS_73_6_1220.png', '/workspace/CZII/proc/yolo11_baseline_cv/images/TS_73_6_1230.png', '/workspace/CZII/proc/yolo11_baseline_cv/images/TS_73_6_1240.png', '/workspace/CZII/proc/yolo11_baseline_cv/images/TS_73_6_1250.png', '/workspace/CZII/proc/yolo11_baseline_cv/images/TS_73_6_1260.png', '/workspace/CZII/proc/yolo11_baseline_cv/images/TS_73_6_1270.png', '/workspace/CZII/proc/yolo11_baseline_cv/images/TS_73_6_1280.png', '/workspace/CZII/proc/yolo11_baseline_cv/images/TS_73_6_1290.png', '/workspace/CZII/proc/yolo11_baseline_cv/images/TS_73_6_130.png', '/workspace/CZII/proc/yolo11_baseline_cv/images/TS_73_6_1300.png', '/workspace/CZII/proc/yolo11_baseline_cv/images/TS_73_6_1310.png', '/workspace/CZII/proc/yolo11_baseline_cv/images/TS_73_6_1320.png', '/workspace/CZII/proc/yolo11_baseline_cv/images/TS_73_6_1330.png', '/workspace/CZII/proc/yolo11_baseline_cv/images/TS_73_6_1340.png', '/workspace/CZII/proc/yolo11_baseline_cv/images/TS_73_6_1350.png', '/workspace/CZII/proc/yolo11_baseline_cv/images/TS_73_6_1360.png', '/workspace/CZII/proc/yolo11_baseline_cv/images/TS_73_6_1370.png', '/workspace/CZII/proc/yolo11_baseline_cv/images/TS_73_6_1380.png', '/workspace/CZII/proc/yolo11_baseline_cv/images/TS_73_6_1390.png', '/workspace/CZII/proc/yolo11_baseline_cv/images/TS_73_6_140.png', '/workspace/CZII/proc/yolo11_baseline_cv/images/TS_73_6_1400.png', '/workspace/CZII/proc/yolo11_baseline_cv/images/TS_73_6_1410.png', '/workspace/CZII/proc/yolo11_baseline_cv/images/TS_73_6_1420.png', '/workspace/CZII/proc/yolo11_baseline_cv/images/TS_73_6_1430.png', '/workspace/CZII/proc/yolo11_baseline_cv/images/TS_73_6_1440.png', '/workspace/CZII/proc/yolo11_baseline_cv/images/TS_73_6_1450.png', '/workspace/CZII/proc/yolo11_baseline_cv/images/TS_73_6_1460.png', '/workspace/CZII/proc/yolo11_baseline_cv/images/TS_73_6_1470.png', '/workspace/CZII/proc/yolo11_baseline_cv/images/TS_73_6_1480.png', '/workspace/CZII/proc/yolo11_baseline_cv/images/TS_73_6_1490.png', '/workspace/CZII/proc/yolo11_baseline_cv/images/TS_73_6_150.png', '/workspace/CZII/proc/yolo11_baseline_cv/images/TS_73_6_1500.png', '/workspace/CZII/proc/yolo11_baseline_cv/images/TS_73_6_1510.png', '/workspace/CZII/proc/yolo11_baseline_cv/images/TS_73_6_1520.png', '/workspace/CZII/proc/yolo11_baseline_cv/images/TS_73_6_1530.png', '/workspace/CZII/proc/yolo11_baseline_cv/images/TS_73_6_1540.png', '/workspace/CZII/proc/yolo11_baseline_cv/images/TS_73_6_1550.png', '/workspace/CZII/proc/yolo11_baseline_cv/images/TS_73_6_1560.png', '/workspace/CZII/proc/yolo11_baseline_cv/images/TS_73_6_1570.png', '/workspace/CZII/proc/yolo11_baseline_cv/images/TS_73_6_1580.png', '/workspace/CZII/proc/yolo11_baseline_cv/images/TS_73_6_1590.png', '/workspace/CZII/proc/yolo11_baseline_cv/images/TS_73_6_160.png', '/workspace/CZII/proc/yolo11_baseline_cv/images/TS_73_6_1600.png', '/workspace/CZII/proc/yolo11_baseline_cv/images/TS_73_6_1610.png', '/workspace/CZII/proc/yolo11_baseline_cv/images/TS_73_6_1620.png', '/workspace/CZII/proc/yolo11_baseline_cv/images/TS_73_6_1630.png', '/workspace/CZII/proc/yolo11_baseline_cv/images/TS_73_6_1640.png', '/workspace/CZII/proc/yolo11_baseline_cv/images/TS_73_6_1650.png', '/workspace/CZII/proc/yolo11_baseline_cv/images/TS_73_6_1660.png', '/workspace/CZII/proc/yolo11_baseline_cv/images/TS_73_6_1670.png', '/workspace/CZII/proc/yolo11_baseline_cv/images/TS_73_6_1680.png', '/workspace/CZII/proc/yolo11_baseline_cv/images/TS_73_6_1690.png', '/workspace/CZII/proc/yolo11_baseline_cv/images/TS_73_6_170.png', '/workspace/CZII/proc/yolo11_baseline_cv/images/TS_73_6_1700.png', '/workspace/CZII/proc/yolo11_baseline_cv/images/TS_73_6_1710.png', '/workspace/CZII/proc/yolo11_baseline_cv/images/TS_73_6_1720.png', '/workspace/CZII/proc/yolo11_baseline_cv/images/TS_73_6_1730.png', '/workspace/CZII/proc/yolo11_baseline_cv/images/TS_73_6_1740.png', '/workspace/CZII/proc/yolo11_baseline_cv/images/TS_73_6_1750.png', '/workspace/CZII/proc/yolo11_baseline_cv/images/TS_73_6_1760.png', '/workspace/CZII/proc/yolo11_baseline_cv/images/TS_73_6_1770.png', '/workspace/CZII/proc/yolo11_baseline_cv/images/TS_73_6_1780.png', '/workspace/CZII/proc/yolo11_baseline_cv/images/TS_73_6_1790.png', '/workspace/CZII/proc/yolo11_baseline_cv/images/TS_73_6_180.png', '/workspace/CZII/proc/yolo11_baseline_cv/images/TS_73_6_1800.png', '/workspace/CZII/proc/yolo11_baseline_cv/images/TS_73_6_1810.png', '/workspace/CZII/proc/yolo11_baseline_cv/images/TS_73_6_1820.png', '/workspace/CZII/proc/yolo11_baseline_cv/images/TS_73_6_1830.png', '/workspace/CZII/proc/yolo11_baseline_cv/images/TS_73_6_190.png', '/workspace/CZII/proc/yolo11_baseline_cv/images/TS_73_6_20.png', '/workspace/CZII/proc/yolo11_baseline_cv/images/TS_73_6_200.png', '/workspace/CZII/proc/yolo11_baseline_cv/images/TS_73_6_210.png', '/workspace/CZII/proc/yolo11_baseline_cv/images/TS_73_6_220.png', '/workspace/CZII/proc/yolo11_baseline_cv/images/TS_73_6_230.png', '/workspace/CZII/proc/yolo11_baseline_cv/images/TS_73_6_240.png', '/workspace/CZII/proc/yolo11_baseline_cv/images/TS_73_6_250.png', '/workspace/CZII/proc/yolo11_baseline_cv/images/TS_73_6_260.png', '/workspace/CZII/proc/yolo11_baseline_cv/images/TS_73_6_270.png', '/workspace/CZII/proc/yolo11_baseline_cv/images/TS_73_6_280.png', '/workspace/CZII/proc/yolo11_baseline_cv/images/TS_73_6_290.png', '/workspace/CZII/proc/yolo11_baseline_cv/images/TS_73_6_30.png', '/workspace/CZII/proc/yolo11_baseline_cv/images/TS_73_6_300.png', '/workspace/CZII/proc/yolo11_baseline_cv/images/TS_73_6_310.png', '/workspace/CZII/proc/yolo11_baseline_cv/images/TS_73_6_320.png', '/workspace/CZII/proc/yolo11_baseline_cv/images/TS_73_6_330.png', '/workspace/CZII/proc/yolo11_baseline_cv/images/TS_73_6_340.png', '/workspace/CZII/proc/yolo11_baseline_cv/images/TS_73_6_350.png', '/workspace/CZII/proc/yolo11_baseline_cv/images/TS_73_6_360.png', '/workspace/CZII/proc/yolo11_baseline_cv/images/TS_73_6_370.png', '/workspace/CZII/proc/yolo11_baseline_cv/images/TS_73_6_380.png', '/workspace/CZII/proc/yolo11_baseline_cv/images/TS_73_6_390.png', '/workspace/CZII/proc/yolo11_baseline_cv/images/TS_73_6_40.png', '/workspace/CZII/proc/yolo11_baseline_cv/images/TS_73_6_400.png', '/workspace/CZII/proc/yolo11_baseline_cv/images/TS_73_6_410.png', '/workspace/CZII/proc/yolo11_baseline_cv/images/TS_73_6_420.png', '/workspace/CZII/proc/yolo11_baseline_cv/images/TS_73_6_430.png', '/workspace/CZII/proc/yolo11_baseline_cv/images/TS_73_6_440.png', '/workspace/CZII/proc/yolo11_baseline_cv/images/TS_73_6_450.png', '/workspace/CZII/proc/yolo11_baseline_cv/images/TS_73_6_460.png', '/workspace/CZII/proc/yolo11_baseline_cv/images/TS_73_6_470.png', '/workspace/CZII/proc/yolo11_baseline_cv/images/TS_73_6_480.png', '/workspace/CZII/proc/yolo11_baseline_cv/images/TS_73_6_490.png', '/workspace/CZII/proc/yolo11_baseline_cv/images/TS_73_6_50.png', '/workspace/CZII/proc/yolo11_baseline_cv/images/TS_73_6_500.png', '/workspace/CZII/proc/yolo11_baseline_cv/images/TS_73_6_510.png', '/workspace/CZII/proc/yolo11_baseline_cv/images/TS_73_6_520.png', '/workspace/CZII/proc/yolo11_baseline_cv/images/TS_73_6_530.png', '/workspace/CZII/proc/yolo11_baseline_cv/images/TS_73_6_540.png', '/workspace/CZII/proc/yolo11_baseline_cv/images/TS_73_6_550.png', '/workspace/CZII/proc/yolo11_baseline_cv/images/TS_73_6_560.png', '/workspace/CZII/proc/yolo11_baseline_cv/images/TS_73_6_570.png', '/workspace/CZII/proc/yolo11_baseline_cv/images/TS_73_6_580.png', '/workspace/CZII/proc/yolo11_baseline_cv/images/TS_73_6_590.png', '/workspace/CZII/proc/yolo11_baseline_cv/images/TS_73_6_60.png', '/workspace/CZII/proc/yolo11_baseline_cv/images/TS_73_6_600.png', '/workspace/CZII/proc/yolo11_baseline_cv/images/TS_73_6_610.png', '/workspace/CZII/proc/yolo11_baseline_cv/images/TS_73_6_620.png', '/workspace/CZII/proc/yolo11_baseline_cv/images/TS_73_6_630.png', '/workspace/CZII/proc/yolo11_baseline_cv/images/TS_73_6_640.png', '/workspace/CZII/proc/yolo11_baseline_cv/images/TS_73_6_650.png', '/workspace/CZII/proc/yolo11_baseline_cv/images/TS_73_6_660.png', '/workspace/CZII/proc/yolo11_baseline_cv/images/TS_73_6_670.png', '/workspace/CZII/proc/yolo11_baseline_cv/images/TS_73_6_680.png', '/workspace/CZII/proc/yolo11_baseline_cv/images/TS_73_6_690.png', '/workspace/CZII/proc/yolo11_baseline_cv/images/TS_73_6_70.png', '/workspace/CZII/proc/yolo11_baseline_cv/images/TS_73_6_700.png', '/workspace/CZII/proc/yolo11_baseline_cv/images/TS_73_6_710.png', '/workspace/CZII/proc/yolo11_baseline_cv/images/TS_73_6_720.png', '/workspace/CZII/proc/yolo11_baseline_cv/images/TS_73_6_730.png', '/workspace/CZII/proc/yolo11_baseline_cv/images/TS_73_6_740.png', '/workspace/CZII/proc/yolo11_baseline_cv/images/TS_73_6_750.png', '/workspace/CZII/proc/yolo11_baseline_cv/images/TS_73_6_760.png', '/workspace/CZII/proc/yolo11_baseline_cv/images/TS_73_6_770.png', '/workspace/CZII/proc/yolo11_baseline_cv/images/TS_73_6_780.png', '/workspace/CZII/proc/yolo11_baseline_cv/images/TS_73_6_790.png', '/workspace/CZII/proc/yolo11_baseline_cv/images/TS_73_6_80.png', '/workspace/CZII/proc/yolo11_baseline_cv/images/TS_73_6_800.png', '/workspace/CZII/proc/yolo11_baseline_cv/images/TS_73_6_810.png', '/workspace/CZII/proc/yolo11_baseline_cv/images/TS_73_6_820.png', '/workspace/CZII/proc/yolo11_baseline_cv/images/TS_73_6_830.png', '/workspace/CZII/proc/yolo11_baseline_cv/images/TS_73_6_840.png', '/workspace/CZII/proc/yolo11_baseline_cv/images/TS_73_6_850.png', '/workspace/CZII/proc/yolo11_baseline_cv/images/TS_73_6_860.png', '/workspace/CZII/proc/yolo11_baseline_cv/images/TS_73_6_870.png', '/workspace/CZII/proc/yolo11_baseline_cv/images/TS_73_6_880.png', '/workspace/CZII/proc/yolo11_baseline_cv/images/TS_73_6_890.png', '/workspace/CZII/proc/yolo11_baseline_cv/images/TS_73_6_90.png', '/workspace/CZII/proc/yolo11_baseline_cv/images/TS_73_6_900.png', '/workspace/CZII/proc/yolo11_baseline_cv/images/TS_73_6_910.png', '/workspace/CZII/proc/yolo11_baseline_cv/images/TS_73_6_920.png', '/workspace/CZII/proc/yolo11_baseline_cv/images/TS_73_6_930.png', '/workspace/CZII/proc/yolo11_baseline_cv/images/TS_73_6_940.png', '/workspace/CZII/proc/yolo11_baseline_cv/images/TS_73_6_950.png', '/workspace/CZII/proc/yolo11_baseline_cv/images/TS_73_6_960.png', '/workspace/CZII/proc/yolo11_baseline_cv/images/TS_73_6_970.png', '/workspace/CZII/proc/yolo11_baseline_cv/images/TS_73_6_980.png', '/workspace/CZII/proc/yolo11_baseline_cv/images/TS_73_6_990.png', '/workspace/CZII/proc/yolo11_baseline_cv/images/TS_86_3_0.png', '/workspace/CZII/proc/yolo11_baseline_cv/images/TS_86_3_10.png', '/workspace/CZII/proc/yolo11_baseline_cv/images/TS_86_3_100.png', '/workspace/CZII/proc/yolo11_baseline_cv/images/TS_86_3_1000.png', '/workspace/CZII/proc/yolo11_baseline_cv/images/TS_86_3_1010.png', '/workspace/CZII/proc/yolo11_baseline_cv/images/TS_86_3_1020.png', '/workspace/CZII/proc/yolo11_baseline_cv/images/TS_86_3_1030.png', '/workspace/CZII/proc/yolo11_baseline_cv/images/TS_86_3_1040.png', '/workspace/CZII/proc/yolo11_baseline_cv/images/TS_86_3_1050.png', '/workspace/CZII/proc/yolo11_baseline_cv/images/TS_86_3_1060.png', '/workspace/CZII/proc/yolo11_baseline_cv/images/TS_86_3_1070.png', '/workspace/CZII/proc/yolo11_baseline_cv/images/TS_86_3_1080.png', '/workspace/CZII/proc/yolo11_baseline_cv/images/TS_86_3_1090.png', '/workspace/CZII/proc/yolo11_baseline_cv/images/TS_86_3_110.png', '/workspace/CZII/proc/yolo11_baseline_cv/images/TS_86_3_1100.png', '/workspace/CZII/proc/yolo11_baseline_cv/images/TS_86_3_1110.png', '/workspace/CZII/proc/yolo11_baseline_cv/images/TS_86_3_1120.png', '/workspace/CZII/proc/yolo11_baseline_cv/images/TS_86_3_1130.png', '/workspace/CZII/proc/yolo11_baseline_cv/images/TS_86_3_1140.png', '/workspace/CZII/proc/yolo11_baseline_cv/images/TS_86_3_1150.png', '/workspace/CZII/proc/yolo11_baseline_cv/images/TS_86_3_1160.png', '/workspace/CZII/proc/yolo11_baseline_cv/images/TS_86_3_1170.png', '/workspace/CZII/proc/yolo11_baseline_cv/images/TS_86_3_1180.png', '/workspace/CZII/proc/yolo11_baseline_cv/images/TS_86_3_1190.png', '/workspace/CZII/proc/yolo11_baseline_cv/images/TS_86_3_120.png', '/workspace/CZII/proc/yolo11_baseline_cv/images/TS_86_3_1200.png', '/workspace/CZII/proc/yolo11_baseline_cv/images/TS_86_3_1210.png', '/workspace/CZII/proc/yolo11_baseline_cv/images/TS_86_3_1220.png', '/workspace/CZII/proc/yolo11_baseline_cv/images/TS_86_3_1230.png', '/workspace/CZII/proc/yolo11_baseline_cv/images/TS_86_3_1240.png', '/workspace/CZII/proc/yolo11_baseline_cv/images/TS_86_3_1250.png', '/workspace/CZII/proc/yolo11_baseline_cv/images/TS_86_3_1260.png', '/workspace/CZII/proc/yolo11_baseline_cv/images/TS_86_3_1270.png', '/workspace/CZII/proc/yolo11_baseline_cv/images/TS_86_3_1280.png', '/workspace/CZII/proc/yolo11_baseline_cv/images/TS_86_3_1290.png', '/workspace/CZII/proc/yolo11_baseline_cv/images/TS_86_3_130.png', '/workspace/CZII/proc/yolo11_baseline_cv/images/TS_86_3_1300.png', '/workspace/CZII/proc/yolo11_baseline_cv/images/TS_86_3_1310.png', '/workspace/CZII/proc/yolo11_baseline_cv/images/TS_86_3_1320.png', '/workspace/CZII/proc/yolo11_baseline_cv/images/TS_86_3_1330.png', '/workspace/CZII/proc/yolo11_baseline_cv/images/TS_86_3_1340.png', '/workspace/CZII/proc/yolo11_baseline_cv/images/TS_86_3_1350.png', '/workspace/CZII/proc/yolo11_baseline_cv/images/TS_86_3_1360.png', '/workspace/CZII/proc/yolo11_baseline_cv/images/TS_86_3_1370.png', '/workspace/CZII/proc/yolo11_baseline_cv/images/TS_86_3_1380.png', '/workspace/CZII/proc/yolo11_baseline_cv/images/TS_86_3_1390.png', '/workspace/CZII/proc/yolo11_baseline_cv/images/TS_86_3_140.png', '/workspace/CZII/proc/yolo11_baseline_cv/images/TS_86_3_1400.png', '/workspace/CZII/proc/yolo11_baseline_cv/images/TS_86_3_1410.png', '/workspace/CZII/proc/yolo11_baseline_cv/images/TS_86_3_1420.png', '/workspace/CZII/proc/yolo11_baseline_cv/images/TS_86_3_1430.png', '/workspace/CZII/proc/yolo11_baseline_cv/images/TS_86_3_1440.png', '/workspace/CZII/proc/yolo11_baseline_cv/images/TS_86_3_1450.png', '/workspace/CZII/proc/yolo11_baseline_cv/images/TS_86_3_1460.png', '/workspace/CZII/proc/yolo11_baseline_cv/images/TS_86_3_1470.png', '/workspace/CZII/proc/yolo11_baseline_cv/images/TS_86_3_1480.png', '/workspace/CZII/proc/yolo11_baseline_cv/images/TS_86_3_1490.png', '/workspace/CZII/proc/yolo11_baseline_cv/images/TS_86_3_150.png', '/workspace/CZII/proc/yolo11_baseline_cv/images/TS_86_3_1500.png', '/workspace/CZII/proc/yolo11_baseline_cv/images/TS_86_3_1510.png', '/workspace/CZII/proc/yolo11_baseline_cv/images/TS_86_3_1520.png', '/workspace/CZII/proc/yolo11_baseline_cv/images/TS_86_3_1530.png', '/workspace/CZII/proc/yolo11_baseline_cv/images/TS_86_3_1540.png', '/workspace/CZII/proc/yolo11_baseline_cv/images/TS_86_3_1550.png', '/workspace/CZII/proc/yolo11_baseline_cv/images/TS_86_3_1560.png', '/workspace/CZII/proc/yolo11_baseline_cv/images/TS_86_3_1570.png', '/workspace/CZII/proc/yolo11_baseline_cv/images/TS_86_3_1580.png', '/workspace/CZII/proc/yolo11_baseline_cv/images/TS_86_3_1590.png', '/workspace/CZII/proc/yolo11_baseline_cv/images/TS_86_3_160.png', '/workspace/CZII/proc/yolo11_baseline_cv/images/TS_86_3_1600.png', '/workspace/CZII/proc/yolo11_baseline_cv/images/TS_86_3_1610.png', '/workspace/CZII/proc/yolo11_baseline_cv/images/TS_86_3_1620.png', '/workspace/CZII/proc/yolo11_baseline_cv/images/TS_86_3_1630.png', '/workspace/CZII/proc/yolo11_baseline_cv/images/TS_86_3_1640.png', '/workspace/CZII/proc/yolo11_baseline_cv/images/TS_86_3_1650.png', '/workspace/CZII/proc/yolo11_baseline_cv/images/TS_86_3_1660.png', '/workspace/CZII/proc/yolo11_baseline_cv/images/TS_86_3_1670.png', '/workspace/CZII/proc/yolo11_baseline_cv/images/TS_86_3_1680.png', '/workspace/CZII/proc/yolo11_baseline_cv/images/TS_86_3_1690.png', '/workspace/CZII/proc/yolo11_baseline_cv/images/TS_86_3_170.png', '/workspace/CZII/proc/yolo11_baseline_cv/images/TS_86_3_1700.png', '/workspace/CZII/proc/yolo11_baseline_cv/images/TS_86_3_1710.png', '/workspace/CZII/proc/yolo11_baseline_cv/images/TS_86_3_1720.png', '/workspace/CZII/proc/yolo11_baseline_cv/images/TS_86_3_1730.png', '/workspace/CZII/proc/yolo11_baseline_cv/images/TS_86_3_1740.png', '/workspace/CZII/proc/yolo11_baseline_cv/images/TS_86_3_1750.png', '/workspace/CZII/proc/yolo11_baseline_cv/images/TS_86_3_1760.png', '/workspace/CZII/proc/yolo11_baseline_cv/images/TS_86_3_1770.png', '/workspace/CZII/proc/yolo11_baseline_cv/images/TS_86_3_1780.png', '/workspace/CZII/proc/yolo11_baseline_cv/images/TS_86_3_1790.png', '/workspace/CZII/proc/yolo11_baseline_cv/images/TS_86_3_180.png', '/workspace/CZII/proc/yolo11_baseline_cv/images/TS_86_3_1800.png', '/workspace/CZII/proc/yolo11_baseline_cv/images/TS_86_3_1810.png', '/workspace/CZII/proc/yolo11_baseline_cv/images/TS_86_3_1820.png', '/workspace/CZII/proc/yolo11_baseline_cv/images/TS_86_3_1830.png', '/workspace/CZII/proc/yolo11_baseline_cv/images/TS_86_3_190.png', '/workspace/CZII/proc/yolo11_baseline_cv/images/TS_86_3_20.png', '/workspace/CZII/proc/yolo11_baseline_cv/images/TS_86_3_200.png', '/workspace/CZII/proc/yolo11_baseline_cv/images/TS_86_3_210.png', '/workspace/CZII/proc/yolo11_baseline_cv/images/TS_86_3_220.png', '/workspace/CZII/proc/yolo11_baseline_cv/images/TS_86_3_230.png', '/workspace/CZII/proc/yolo11_baseline_cv/images/TS_86_3_240.png', '/workspace/CZII/proc/yolo11_baseline_cv/images/TS_86_3_250.png', '/workspace/CZII/proc/yolo11_baseline_cv/images/TS_86_3_260.png', '/workspace/CZII/proc/yolo11_baseline_cv/images/TS_86_3_270.png', '/workspace/CZII/proc/yolo11_baseline_cv/images/TS_86_3_280.png', '/workspace/CZII/proc/yolo11_baseline_cv/images/TS_86_3_290.png', '/workspace/CZII/proc/yolo11_baseline_cv/images/TS_86_3_30.png', '/workspace/CZII/proc/yolo11_baseline_cv/images/TS_86_3_300.png', '/workspace/CZII/proc/yolo11_baseline_cv/images/TS_86_3_310.png', '/workspace/CZII/proc/yolo11_baseline_cv/images/TS_86_3_320.png', '/workspace/CZII/proc/yolo11_baseline_cv/images/TS_86_3_330.png', '/workspace/CZII/proc/yolo11_baseline_cv/images/TS_86_3_340.png', '/workspace/CZII/proc/yolo11_baseline_cv/images/TS_86_3_350.png', '/workspace/CZII/proc/yolo11_baseline_cv/images/TS_86_3_360.png', '/workspace/CZII/proc/yolo11_baseline_cv/images/TS_86_3_370.png', '/workspace/CZII/proc/yolo11_baseline_cv/images/TS_86_3_380.png', '/workspace/CZII/proc/yolo11_baseline_cv/images/TS_86_3_390.png', '/workspace/CZII/proc/yolo11_baseline_cv/images/TS_86_3_40.png', '/workspace/CZII/proc/yolo11_baseline_cv/images/TS_86_3_400.png', '/workspace/CZII/proc/yolo11_baseline_cv/images/TS_86_3_410.png', '/workspace/CZII/proc/yolo11_baseline_cv/images/TS_86_3_420.png', '/workspace/CZII/proc/yolo11_baseline_cv/images/TS_86_3_430.png', '/workspace/CZII/proc/yolo11_baseline_cv/images/TS_86_3_440.png', '/workspace/CZII/proc/yolo11_baseline_cv/images/TS_86_3_450.png', '/workspace/CZII/proc/yolo11_baseline_cv/images/TS_86_3_460.png', '/workspace/CZII/proc/yolo11_baseline_cv/images/TS_86_3_470.png', '/workspace/CZII/proc/yolo11_baseline_cv/images/TS_86_3_480.png', '/workspace/CZII/proc/yolo11_baseline_cv/images/TS_86_3_490.png', '/workspace/CZII/proc/yolo11_baseline_cv/images/TS_86_3_50.png', '/workspace/CZII/proc/yolo11_baseline_cv/images/TS_86_3_500.png', '/workspace/CZII/proc/yolo11_baseline_cv/images/TS_86_3_510.png', '/workspace/CZII/proc/yolo11_baseline_cv/images/TS_86_3_520.png', '/workspace/CZII/proc/yolo11_baseline_cv/images/TS_86_3_530.png', '/workspace/CZII/proc/yolo11_baseline_cv/images/TS_86_3_540.png', '/workspace/CZII/proc/yolo11_baseline_cv/images/TS_86_3_550.png', '/workspace/CZII/proc/yolo11_baseline_cv/images/TS_86_3_560.png', '/workspace/CZII/proc/yolo11_baseline_cv/images/TS_86_3_570.png', '/workspace/CZII/proc/yolo11_baseline_cv/images/TS_86_3_580.png', '/workspace/CZII/proc/yolo11_baseline_cv/images/TS_86_3_590.png', '/workspace/CZII/proc/yolo11_baseline_cv/images/TS_86_3_60.png', '/workspace/CZII/proc/yolo11_baseline_cv/images/TS_86_3_600.png', '/workspace/CZII/proc/yolo11_baseline_cv/images/TS_86_3_610.png', '/workspace/CZII/proc/yolo11_baseline_cv/images/TS_86_3_620.png', '/workspace/CZII/proc/yolo11_baseline_cv/images/TS_86_3_630.png', '/workspace/CZII/proc/yolo11_baseline_cv/images/TS_86_3_640.png', '/workspace/CZII/proc/yolo11_baseline_cv/images/TS_86_3_650.png', '/workspace/CZII/proc/yolo11_baseline_cv/images/TS_86_3_660.png', '/workspace/CZII/proc/yolo11_baseline_cv/images/TS_86_3_670.png', '/workspace/CZII/proc/yolo11_baseline_cv/images/TS_86_3_680.png', '/workspace/CZII/proc/yolo11_baseline_cv/images/TS_86_3_690.png', '/workspace/CZII/proc/yolo11_baseline_cv/images/TS_86_3_70.png', '/workspace/CZII/proc/yolo11_baseline_cv/images/TS_86_3_700.png', '/workspace/CZII/proc/yolo11_baseline_cv/images/TS_86_3_710.png', '/workspace/CZII/proc/yolo11_baseline_cv/images/TS_86_3_720.png', '/workspace/CZII/proc/yolo11_baseline_cv/images/TS_86_3_730.png', '/workspace/CZII/proc/yolo11_baseline_cv/images/TS_86_3_740.png', '/workspace/CZII/proc/yolo11_baseline_cv/images/TS_86_3_750.png', '/workspace/CZII/proc/yolo11_baseline_cv/images/TS_86_3_760.png', '/workspace/CZII/proc/yolo11_baseline_cv/images/TS_86_3_770.png', '/workspace/CZII/proc/yolo11_baseline_cv/images/TS_86_3_780.png', '/workspace/CZII/proc/yolo11_baseline_cv/images/TS_86_3_790.png', '/workspace/CZII/proc/yolo11_baseline_cv/images/TS_86_3_80.png', '/workspace/CZII/proc/yolo11_baseline_cv/images/TS_86_3_800.png', '/workspace/CZII/proc/yolo11_baseline_cv/images/TS_86_3_810.png', '/workspace/CZII/proc/yolo11_baseline_cv/images/TS_86_3_820.png', '/workspace/CZII/proc/yolo11_baseline_cv/images/TS_86_3_830.png', '/workspace/CZII/proc/yolo11_baseline_cv/images/TS_86_3_840.png', '/workspace/CZII/proc/yolo11_baseline_cv/images/TS_86_3_850.png', '/workspace/CZII/proc/yolo11_baseline_cv/images/TS_86_3_860.png', '/workspace/CZII/proc/yolo11_baseline_cv/images/TS_86_3_870.png', '/workspace/CZII/proc/yolo11_baseline_cv/images/TS_86_3_880.png', '/workspace/CZII/proc/yolo11_baseline_cv/images/TS_86_3_890.png', '/workspace/CZII/proc/yolo11_baseline_cv/images/TS_86_3_90.png', '/workspace/CZII/proc/yolo11_baseline_cv/images/TS_86_3_900.png', '/workspace/CZII/proc/yolo11_baseline_cv/images/TS_86_3_910.png', '/workspace/CZII/proc/yolo11_baseline_cv/images/TS_86_3_920.png', '/workspace/CZII/proc/yolo11_baseline_cv/images/TS_86_3_930.png', '/workspace/CZII/proc/yolo11_baseline_cv/images/TS_86_3_940.png', '/workspace/CZII/proc/yolo11_baseline_cv/images/TS_86_3_950.png', '/workspace/CZII/proc/yolo11_baseline_cv/images/TS_86_3_960.png', '/workspace/CZII/proc/yolo11_baseline_cv/images/TS_86_3_970.png', '/workspace/CZII/proc/yolo11_baseline_cv/images/TS_86_3_980.png', '/workspace/CZII/proc/yolo11_baseline_cv/images/TS_86_3_990.png', '/workspace/CZII/proc/yolo11_baseline_cv/images/TS_99_9_0.png', '/workspace/CZII/proc/yolo11_baseline_cv/images/TS_99_9_10.png', '/workspace/CZII/proc/yolo11_baseline_cv/images/TS_99_9_100.png', '/workspace/CZII/proc/yolo11_baseline_cv/images/TS_99_9_1000.png', '/workspace/CZII/proc/yolo11_baseline_cv/images/TS_99_9_1010.png', '/workspace/CZII/proc/yolo11_baseline_cv/images/TS_99_9_1020.png', '/workspace/CZII/proc/yolo11_baseline_cv/images/TS_99_9_1030.png', '/workspace/CZII/proc/yolo11_baseline_cv/images/TS_99_9_1040.png', '/workspace/CZII/proc/yolo11_baseline_cv/images/TS_99_9_1050.png', '/workspace/CZII/proc/yolo11_baseline_cv/images/TS_99_9_1060.png', '/workspace/CZII/proc/yolo11_baseline_cv/images/TS_99_9_1070.png', '/workspace/CZII/proc/yolo11_baseline_cv/images/TS_99_9_1080.png', '/workspace/CZII/proc/yolo11_baseline_cv/images/TS_99_9_1090.png', '/workspace/CZII/proc/yolo11_baseline_cv/images/TS_99_9_110.png', '/workspace/CZII/proc/yolo11_baseline_cv/images/TS_99_9_1100.png', '/workspace/CZII/proc/yolo11_baseline_cv/images/TS_99_9_1110.png', '/workspace/CZII/proc/yolo11_baseline_cv/images/TS_99_9_1120.png', '/workspace/CZII/proc/yolo11_baseline_cv/images/TS_99_9_1130.png', '/workspace/CZII/proc/yolo11_baseline_cv/images/TS_99_9_1140.png', '/workspace/CZII/proc/yolo11_baseline_cv/images/TS_99_9_1150.png', '/workspace/CZII/proc/yolo11_baseline_cv/images/TS_99_9_1160.png', '/workspace/CZII/proc/yolo11_baseline_cv/images/TS_99_9_1170.png', '/workspace/CZII/proc/yolo11_baseline_cv/images/TS_99_9_1180.png', '/workspace/CZII/proc/yolo11_baseline_cv/images/TS_99_9_1190.png', '/workspace/CZII/proc/yolo11_baseline_cv/images/TS_99_9_120.png', '/workspace/CZII/proc/yolo11_baseline_cv/images/TS_99_9_1200.png', '/workspace/CZII/proc/yolo11_baseline_cv/images/TS_99_9_1210.png', '/workspace/CZII/proc/yolo11_baseline_cv/images/TS_99_9_1220.png', '/workspace/CZII/proc/yolo11_baseline_cv/images/TS_99_9_1230.png', '/workspace/CZII/proc/yolo11_baseline_cv/images/TS_99_9_1240.png', '/workspace/CZII/proc/yolo11_baseline_cv/images/TS_99_9_1250.png', '/workspace/CZII/proc/yolo11_baseline_cv/images/TS_99_9_1260.png', '/workspace/CZII/proc/yolo11_baseline_cv/images/TS_99_9_1270.png', '/workspace/CZII/proc/yolo11_baseline_cv/images/TS_99_9_1280.png', '/workspace/CZII/proc/yolo11_baseline_cv/images/TS_99_9_1290.png', '/workspace/CZII/proc/yolo11_baseline_cv/images/TS_99_9_130.png', '/workspace/CZII/proc/yolo11_baseline_cv/images/TS_99_9_1300.png', '/workspace/CZII/proc/yolo11_baseline_cv/images/TS_99_9_1310.png', '/workspace/CZII/proc/yolo11_baseline_cv/images/TS_99_9_1320.png', '/workspace/CZII/proc/yolo11_baseline_cv/images/TS_99_9_1330.png', '/workspace/CZII/proc/yolo11_baseline_cv/images/TS_99_9_1340.png', '/workspace/CZII/proc/yolo11_baseline_cv/images/TS_99_9_1350.png', '/workspace/CZII/proc/yolo11_baseline_cv/images/TS_99_9_1360.png', '/workspace/CZII/proc/yolo11_baseline_cv/images/TS_99_9_1370.png', '/workspace/CZII/proc/yolo11_baseline_cv/images/TS_99_9_1380.png', '/workspace/CZII/proc/yolo11_baseline_cv/images/TS_99_9_1390.png', '/workspace/CZII/proc/yolo11_baseline_cv/images/TS_99_9_140.png', '/workspace/CZII/proc/yolo11_baseline_cv/images/TS_99_9_1400.png', '/workspace/CZII/proc/yolo11_baseline_cv/images/TS_99_9_1410.png', '/workspace/CZII/proc/yolo11_baseline_cv/images/TS_99_9_1420.png', '/workspace/CZII/proc/yolo11_baseline_cv/images/TS_99_9_1430.png', '/workspace/CZII/proc/yolo11_baseline_cv/images/TS_99_9_1440.png', '/workspace/CZII/proc/yolo11_baseline_cv/images/TS_99_9_1450.png', '/workspace/CZII/proc/yolo11_baseline_cv/images/TS_99_9_1460.png', '/workspace/CZII/proc/yolo11_baseline_cv/images/TS_99_9_1470.png', '/workspace/CZII/proc/yolo11_baseline_cv/images/TS_99_9_1480.png', '/workspace/CZII/proc/yolo11_baseline_cv/images/TS_99_9_1490.png', '/workspace/CZII/proc/yolo11_baseline_cv/images/TS_99_9_150.png', '/workspace/CZII/proc/yolo11_baseline_cv/images/TS_99_9_1500.png', '/workspace/CZII/proc/yolo11_baseline_cv/images/TS_99_9_1510.png', '/workspace/CZII/proc/yolo11_baseline_cv/images/TS_99_9_1520.png', '/workspace/CZII/proc/yolo11_baseline_cv/images/TS_99_9_1530.png', '/workspace/CZII/proc/yolo11_baseline_cv/images/TS_99_9_1540.png', '/workspace/CZII/proc/yolo11_baseline_cv/images/TS_99_9_1550.png', '/workspace/CZII/proc/yolo11_baseline_cv/images/TS_99_9_1560.png', '/workspace/CZII/proc/yolo11_baseline_cv/images/TS_99_9_1570.png', '/workspace/CZII/proc/yolo11_baseline_cv/images/TS_99_9_1580.png', '/workspace/CZII/proc/yolo11_baseline_cv/images/TS_99_9_1590.png', '/workspace/CZII/proc/yolo11_baseline_cv/images/TS_99_9_160.png', '/workspace/CZII/proc/yolo11_baseline_cv/images/TS_99_9_1600.png', '/workspace/CZII/proc/yolo11_baseline_cv/images/TS_99_9_1610.png', '/workspace/CZII/proc/yolo11_baseline_cv/images/TS_99_9_1620.png', '/workspace/CZII/proc/yolo11_baseline_cv/images/TS_99_9_1630.png', '/workspace/CZII/proc/yolo11_baseline_cv/images/TS_99_9_1640.png', '/workspace/CZII/proc/yolo11_baseline_cv/images/TS_99_9_1650.png', '/workspace/CZII/proc/yolo11_baseline_cv/images/TS_99_9_1660.png', '/workspace/CZII/proc/yolo11_baseline_cv/images/TS_99_9_1670.png', '/workspace/CZII/proc/yolo11_baseline_cv/images/TS_99_9_1680.png', '/workspace/CZII/proc/yolo11_baseline_cv/images/TS_99_9_1690.png', '/workspace/CZII/proc/yolo11_baseline_cv/images/TS_99_9_170.png', '/workspace/CZII/proc/yolo11_baseline_cv/images/TS_99_9_1700.png', '/workspace/CZII/proc/yolo11_baseline_cv/images/TS_99_9_1710.png', '/workspace/CZII/proc/yolo11_baseline_cv/images/TS_99_9_1720.png', '/workspace/CZII/proc/yolo11_baseline_cv/images/TS_99_9_1730.png', '/workspace/CZII/proc/yolo11_baseline_cv/images/TS_99_9_1740.png', '/workspace/CZII/proc/yolo11_baseline_cv/images/TS_99_9_1750.png', '/workspace/CZII/proc/yolo11_baseline_cv/images/TS_99_9_1760.png', '/workspace/CZII/proc/yolo11_baseline_cv/images/TS_99_9_1770.png', '/workspace/CZII/proc/yolo11_baseline_cv/images/TS_99_9_1780.png', '/workspace/CZII/proc/yolo11_baseline_cv/images/TS_99_9_1790.png', '/workspace/CZII/proc/yolo11_baseline_cv/images/TS_99_9_180.png', '/workspace/CZII/proc/yolo11_baseline_cv/images/TS_99_9_1800.png', '/workspace/CZII/proc/yolo11_baseline_cv/images/TS_99_9_1810.png', '/workspace/CZII/proc/yolo11_baseline_cv/images/TS_99_9_1820.png', '/workspace/CZII/proc/yolo11_baseline_cv/images/TS_99_9_1830.png', '/workspace/CZII/proc/yolo11_baseline_cv/images/TS_99_9_190.png', '/workspace/CZII/proc/yolo11_baseline_cv/images/TS_99_9_20.png', '/workspace/CZII/proc/yolo11_baseline_cv/images/TS_99_9_200.png', '/workspace/CZII/proc/yolo11_baseline_cv/images/TS_99_9_210.png', '/workspace/CZII/proc/yolo11_baseline_cv/images/TS_99_9_220.png', '/workspace/CZII/proc/yolo11_baseline_cv/images/TS_99_9_230.png', '/workspace/CZII/proc/yolo11_baseline_cv/images/TS_99_9_240.png', '/workspace/CZII/proc/yolo11_baseline_cv/images/TS_99_9_250.png', '/workspace/CZII/proc/yolo11_baseline_cv/images/TS_99_9_260.png', '/workspace/CZII/proc/yolo11_baseline_cv/images/TS_99_9_270.png', '/workspace/CZII/proc/yolo11_baseline_cv/images/TS_99_9_280.png', '/workspace/CZII/proc/yolo11_baseline_cv/images/TS_99_9_290.png', '/workspace/CZII/proc/yolo11_baseline_cv/images/TS_99_9_30.png', '/workspace/CZII/proc/yolo11_baseline_cv/images/TS_99_9_300.png', '/workspace/CZII/proc/yolo11_baseline_cv/images/TS_99_9_310.png', '/workspace/CZII/proc/yolo11_baseline_cv/images/TS_99_9_320.png', '/workspace/CZII/proc/yolo11_baseline_cv/images/TS_99_9_330.png', '/workspace/CZII/proc/yolo11_baseline_cv/images/TS_99_9_340.png', '/workspace/CZII/proc/yolo11_baseline_cv/images/TS_99_9_350.png', '/workspace/CZII/proc/yolo11_baseline_cv/images/TS_99_9_360.png', '/workspace/CZII/proc/yolo11_baseline_cv/images/TS_99_9_370.png', '/workspace/CZII/proc/yolo11_baseline_cv/images/TS_99_9_380.png', '/workspace/CZII/proc/yolo11_baseline_cv/images/TS_99_9_390.png', '/workspace/CZII/proc/yolo11_baseline_cv/images/TS_99_9_40.png', '/workspace/CZII/proc/yolo11_baseline_cv/images/TS_99_9_400.png', '/workspace/CZII/proc/yolo11_baseline_cv/images/TS_99_9_410.png', '/workspace/CZII/proc/yolo11_baseline_cv/images/TS_99_9_420.png', '/workspace/CZII/proc/yolo11_baseline_cv/images/TS_99_9_430.png', '/workspace/CZII/proc/yolo11_baseline_cv/images/TS_99_9_440.png', '/workspace/CZII/proc/yolo11_baseline_cv/images/TS_99_9_450.png', '/workspace/CZII/proc/yolo11_baseline_cv/images/TS_99_9_460.png', '/workspace/CZII/proc/yolo11_baseline_cv/images/TS_99_9_470.png', '/workspace/CZII/proc/yolo11_baseline_cv/images/TS_99_9_480.png', '/workspace/CZII/proc/yolo11_baseline_cv/images/TS_99_9_490.png', '/workspace/CZII/proc/yolo11_baseline_cv/images/TS_99_9_50.png', '/workspace/CZII/proc/yolo11_baseline_cv/images/TS_99_9_500.png', '/workspace/CZII/proc/yolo11_baseline_cv/images/TS_99_9_510.png', '/workspace/CZII/proc/yolo11_baseline_cv/images/TS_99_9_520.png', '/workspace/CZII/proc/yolo11_baseline_cv/images/TS_99_9_530.png', '/workspace/CZII/proc/yolo11_baseline_cv/images/TS_99_9_540.png', '/workspace/CZII/proc/yolo11_baseline_cv/images/TS_99_9_550.png', '/workspace/CZII/proc/yolo11_baseline_cv/images/TS_99_9_560.png', '/workspace/CZII/proc/yolo11_baseline_cv/images/TS_99_9_570.png', '/workspace/CZII/proc/yolo11_baseline_cv/images/TS_99_9_580.png', '/workspace/CZII/proc/yolo11_baseline_cv/images/TS_99_9_590.png', '/workspace/CZII/proc/yolo11_baseline_cv/images/TS_99_9_60.png', '/workspace/CZII/proc/yolo11_baseline_cv/images/TS_99_9_600.png', '/workspace/CZII/proc/yolo11_baseline_cv/images/TS_99_9_610.png', '/workspace/CZII/proc/yolo11_baseline_cv/images/TS_99_9_620.png', '/workspace/CZII/proc/yolo11_baseline_cv/images/TS_99_9_630.png', '/workspace/CZII/proc/yolo11_baseline_cv/images/TS_99_9_640.png', '/workspace/CZII/proc/yolo11_baseline_cv/images/TS_99_9_650.png', '/workspace/CZII/proc/yolo11_baseline_cv/images/TS_99_9_660.png', '/workspace/CZII/proc/yolo11_baseline_cv/images/TS_99_9_670.png', '/workspace/CZII/proc/yolo11_baseline_cv/images/TS_99_9_680.png', '/workspace/CZII/proc/yolo11_baseline_cv/images/TS_99_9_690.png', '/workspace/CZII/proc/yolo11_baseline_cv/images/TS_99_9_70.png', '/workspace/CZII/proc/yolo11_baseline_cv/images/TS_99_9_700.png', '/workspace/CZII/proc/yolo11_baseline_cv/images/TS_99_9_710.png', '/workspace/CZII/proc/yolo11_baseline_cv/images/TS_99_9_720.png', '/workspace/CZII/proc/yolo11_baseline_cv/images/TS_99_9_730.png', '/workspace/CZII/proc/yolo11_baseline_cv/images/TS_99_9_740.png', '/workspace/CZII/proc/yolo11_baseline_cv/images/TS_99_9_750.png', '/workspace/CZII/proc/yolo11_baseline_cv/images/TS_99_9_760.png', '/workspace/CZII/proc/yolo11_baseline_cv/images/TS_99_9_770.png', '/workspace/CZII/proc/yolo11_baseline_cv/images/TS_99_9_780.png', '/workspace/CZII/proc/yolo11_baseline_cv/images/TS_99_9_790.png', '/workspace/CZII/proc/yolo11_baseline_cv/images/TS_99_9_80.png', '/workspace/CZII/proc/yolo11_baseline_cv/images/TS_99_9_800.png', '/workspace/CZII/proc/yolo11_baseline_cv/images/TS_99_9_810.png', '/workspace/CZII/proc/yolo11_baseline_cv/images/TS_99_9_820.png', '/workspace/CZII/proc/yolo11_baseline_cv/images/TS_99_9_830.png', '/workspace/CZII/proc/yolo11_baseline_cv/images/TS_99_9_840.png', '/workspace/CZII/proc/yolo11_baseline_cv/images/TS_99_9_850.png', '/workspace/CZII/proc/yolo11_baseline_cv/images/TS_99_9_860.png', '/workspace/CZII/proc/yolo11_baseline_cv/images/TS_99_9_870.png', '/workspace/CZII/proc/yolo11_baseline_cv/images/TS_99_9_880.png', '/workspace/CZII/proc/yolo11_baseline_cv/images/TS_99_9_890.png', '/workspace/CZII/proc/yolo11_baseline_cv/images/TS_99_9_90.png', '/workspace/CZII/proc/yolo11_baseline_cv/images/TS_99_9_900.png', '/workspace/CZII/proc/yolo11_baseline_cv/images/TS_99_9_910.png', '/workspace/CZII/proc/yolo11_baseline_cv/images/TS_99_9_920.png', '/workspace/CZII/proc/yolo11_baseline_cv/images/TS_99_9_930.png', '/workspace/CZII/proc/yolo11_baseline_cv/images/TS_99_9_940.png', '/workspace/CZII/proc/yolo11_baseline_cv/images/TS_99_9_950.png', '/workspace/CZII/proc/yolo11_baseline_cv/images/TS_99_9_960.png', '/workspace/CZII/proc/yolo11_baseline_cv/images/TS_99_9_970.png', '/workspace/CZII/proc/yolo11_baseline_cv/images/TS_99_9_980.png', '/workspace/CZII/proc/yolo11_baseline_cv/images/TS_99_9_990.png']\n",
      "Found 1104 train images.\n",
      "Found 184 val images.\n",
      "Train list saved to ../../proc/yolo11_baseline_cv/train.txt\n",
      "Val list saved to ../../proc/yolo11_baseline_cv/val.txt\n"
     ]
    },
    {
     "name": "stdout",
     "output_type": "stream",
     "text": [
      "New https://pypi.org/project/ultralytics/8.3.70 available 😃 Update with 'pip install -U ultralytics'\n",
      "Ultralytics 8.3.53 🚀 Python-3.12.8 torch-2.5.1+cu124 CUDA:0 (NVIDIA RTX A4000, 16102MiB)\n",
      "\u001b[34m\u001b[1mengine/trainer: \u001b[0mtask=detect, mode=train, model=yolo11l.pt, data=../../proc/yolo11_baseline_cv/cv_conf.yaml, epochs=25, time=None, patience=100, batch=16, imgsz=640, save=True, save_period=-1, cache=False, device=0, workers=8, project=None, name=baseline_cv, exist_ok=False, pretrained=True, optimizer=AdamW, verbose=True, seed=8620, deterministic=True, single_cls=False, rect=False, cos_lr=True, close_mosaic=10, resume=False, amp=True, fraction=1.0, profile=False, freeze=None, multi_scale=False, overlap_mask=True, mask_ratio=4, dropout=0.0, val=True, split=val, save_json=False, save_hybrid=False, conf=None, iou=0.7, max_det=300, half=False, dnn=False, plots=True, source=None, vid_stride=1, stream_buffer=False, visualize=False, augment=False, agnostic_nms=False, classes=None, retina_masks=False, embed=None, show=False, save_frames=False, save_txt=False, save_conf=False, save_crop=False, show_labels=True, show_conf=True, show_boxes=True, line_width=None, format=torchscript, keras=False, optimize=False, int8=False, dynamic=False, simplify=True, opset=None, workspace=None, nms=False, lr0=5e-05, lrf=0.01, momentum=0.937, weight_decay=0.01, warmup_epochs=3, warmup_momentum=0.8, warmup_bias_lr=0.1, box=7.5, cls=0.5, dfl=1.5, pose=12.0, kobj=1.0, nbs=64, hsv_h=0.015, hsv_s=0.7, hsv_v=0.4, degrees=90, translate=0.1, scale=0, shear=5, perspective=0.0, flipud=0.5, fliplr=0.5, bgr=0.0, mosaic=1.0, mixup=0.2, copy_paste=0.25, copy_paste_mode=flip, auto_augment=randaugment, erasing=0.4, crop_fraction=1.0, cfg=None, tracker=botsort.yaml, save_dir=/workspace/CZII/runs/detect/baseline_cv\n",
      "Overriding model.yaml nc=80 with nc=6\n",
      "\n",
      "                   from  n    params  module                                       arguments                     \n",
      "  0                  -1  1      1856  ultralytics.nn.modules.conv.Conv             [3, 64, 3, 2]                 \n",
      "  1                  -1  1     73984  ultralytics.nn.modules.conv.Conv             [64, 128, 3, 2]               \n",
      "  2                  -1  2    173824  ultralytics.nn.modules.block.C3k2            [128, 256, 2, True, 0.25]     \n",
      "  3                  -1  1    590336  ultralytics.nn.modules.conv.Conv             [256, 256, 3, 2]              \n",
      "  4                  -1  2    691712  ultralytics.nn.modules.block.C3k2            [256, 512, 2, True, 0.25]     \n",
      "  5                  -1  1   2360320  ultralytics.nn.modules.conv.Conv             [512, 512, 3, 2]              \n",
      "  6                  -1  2   2234368  ultralytics.nn.modules.block.C3k2            [512, 512, 2, True]           \n",
      "  7                  -1  1   2360320  ultralytics.nn.modules.conv.Conv             [512, 512, 3, 2]              \n",
      "  8                  -1  2   2234368  ultralytics.nn.modules.block.C3k2            [512, 512, 2, True]           \n",
      "  9                  -1  1    656896  ultralytics.nn.modules.block.SPPF            [512, 512, 5]                 \n",
      " 10                  -1  2   1455616  ultralytics.nn.modules.block.C2PSA           [512, 512, 2]                 \n",
      " 11                  -1  1         0  torch.nn.modules.upsampling.Upsample         [None, 2, 'nearest']          \n",
      " 12             [-1, 6]  1         0  ultralytics.nn.modules.conv.Concat           [1]                           \n",
      " 13                  -1  2   2496512  ultralytics.nn.modules.block.C3k2            [1024, 512, 2, True]          \n",
      " 14                  -1  1         0  torch.nn.modules.upsampling.Upsample         [None, 2, 'nearest']          \n",
      " 15             [-1, 4]  1         0  ultralytics.nn.modules.conv.Concat           [1]                           \n",
      " 16                  -1  2    756736  ultralytics.nn.modules.block.C3k2            [1024, 256, 2, True]          \n",
      " 17                  -1  1    590336  ultralytics.nn.modules.conv.Conv             [256, 256, 3, 2]              \n",
      " 18            [-1, 13]  1         0  ultralytics.nn.modules.conv.Concat           [1]                           \n",
      " 19                  -1  2   2365440  ultralytics.nn.modules.block.C3k2            [768, 512, 2, True]           \n",
      " 20                  -1  1   2360320  ultralytics.nn.modules.conv.Conv             [512, 512, 3, 2]              \n",
      " 21            [-1, 10]  1         0  ultralytics.nn.modules.conv.Concat           [1]                           \n",
      " 22                  -1  2   2496512  ultralytics.nn.modules.block.C3k2            [1024, 512, 2, True]          \n",
      " 23        [16, 19, 22]  1   1415650  ultralytics.nn.modules.head.Detect           [6, [256, 512, 512]]          \n",
      "YOLO11l summary: 631 layers, 25,315,106 parameters, 25,315,090 gradients, 87.3 GFLOPs\n",
      "\n",
      "Transferred 1009/1015 items from pretrained weights\n",
      "WARNING ⚠️ ClearML installed but not initialized correctly, not logging this run. It seems ClearML is not configured on this machine!\n",
      "To get started with ClearML, setup your own 'clearml-server' or create a free account at https://app.clear.ml\n",
      "Setup instructions can be found here: https://clear.ml/docs\n",
      "\u001b[34m\u001b[1mTensorBoard: \u001b[0mStart with 'tensorboard --logdir /workspace/CZII/runs/detect/baseline_cv', view at http://localhost:6006/\n",
      "Freezing layer 'model.23.dfl.conv.weight'\n",
      "\u001b[34m\u001b[1mAMP: \u001b[0mrunning Automatic Mixed Precision (AMP) checks...\n",
      "\u001b[34m\u001b[1mAMP: \u001b[0mchecks passed ✅\n"
     ]
    },
    {
     "name": "stderr",
     "output_type": "stream",
     "text": [
      "\u001b[34m\u001b[1mtrain: \u001b[0mScanning /workspace/CZII/proc/yolo11_baseline_cv/labels... 1104 images, 272 backgrounds, 0 corrupt: 100%|██████████| 1104/1104 [00:05<00:00, 199.61it/s]"
     ]
    },
    {
     "name": "stdout",
     "output_type": "stream",
     "text": [
      "\u001b[34m\u001b[1mtrain: \u001b[0mNew cache created: /workspace/CZII/proc/yolo11_baseline_cv/labels.cache\n"
     ]
    },
    {
     "name": "stderr",
     "output_type": "stream",
     "text": [
      "\n"
     ]
    },
    {
     "name": "stdout",
     "output_type": "stream",
     "text": [
      "\u001b[34m\u001b[1malbumentations: \u001b[0mBlur(p=0.01, blur_limit=(3, 7)), MedianBlur(p=0.01, blur_limit=(3, 7)), ToGray(p=0.01, num_output_channels=3, method='weighted_average'), CLAHE(p=0.01, clip_limit=(1.0, 4.0), tile_grid_size=(8, 8))\n"
     ]
    },
    {
     "name": "stderr",
     "output_type": "stream",
     "text": [
      "/workspace/CZII/.venv/lib/python3.12/site-packages/albumentations/__init__.py:24: UserWarning: A new version of Albumentations is available: '2.0.2' (you have '2.0.0'). Upgrade using: pip install -U albumentations. To disable automatic update checks, set the environment variable NO_ALBUMENTATIONS_UPDATE to 1.\n",
      "  check_for_updates()\n",
      "/workspace/CZII/.venv/lib/python3.12/site-packages/ultralytics/data/augment.py:1850: UserWarning: Argument 'quality_lower' is not valid and will be ignored.\n",
      "  A.ImageCompression(quality_lower=75, p=0.0),\n",
      "\u001b[34m\u001b[1mval: \u001b[0mScanning /workspace/CZII/proc/yolo11_baseline_cv/labels... 184 images, 30 backgrounds, 0 corrupt: 100%|██████████| 184/184 [00:01<00:00, 161.21it/s]"
     ]
    },
    {
     "name": "stdout",
     "output_type": "stream",
     "text": [
      "\u001b[34m\u001b[1mval: \u001b[0mNew cache created: /workspace/CZII/proc/yolo11_baseline_cv/labels.cache\n"
     ]
    },
    {
     "name": "stderr",
     "output_type": "stream",
     "text": [
      "\n"
     ]
    },
    {
     "name": "stdout",
     "output_type": "stream",
     "text": [
      "Plotting labels to /workspace/CZII/runs/detect/baseline_cv/labels.jpg... \n",
      "\u001b[34m\u001b[1moptimizer:\u001b[0m AdamW(lr=5e-05, momentum=0.937) with parameter groups 167 weight(decay=0.0), 174 weight(decay=0.01), 173 bias(decay=0.0)\n",
      "\u001b[34m\u001b[1mMLflow: \u001b[0mlogging run_id(67e80c5cfdef4df0b398d6b3d09955ef) to /workspace/CZII/runs/mlflow\n",
      "\u001b[34m\u001b[1mMLflow: \u001b[0mview at http://127.0.0.1:5000 with 'mlflow server --backend-store-uri /workspace/CZII/runs/mlflow'\n",
      "\u001b[34m\u001b[1mMLflow: \u001b[0mdisable with 'yolo settings mlflow=False'\n",
      "\u001b[34m\u001b[1mTensorBoard: \u001b[0mmodel graph visualization added ✅\n",
      "Image sizes 640 train, 640 val\n",
      "Using 8 dataloader workers\n",
      "Logging results to \u001b[1m/workspace/CZII/runs/detect/baseline_cv\u001b[0m\n",
      "Starting training for 25 epochs...\n",
      "\n",
      "      Epoch    GPU_mem   box_loss   cls_loss   dfl_loss  Instances       Size\n"
     ]
    },
    {
     "name": "stderr",
     "output_type": "stream",
     "text": [
      "       1/25        11G      1.955      2.316      1.435        468        640: 100%|██████████| 69/69 [00:29<00:00,  2.32it/s]\n",
      "                 Class     Images  Instances      Box(P          R      mAP50  mAP50-95): 100%|██████████| 6/6 [00:08<00:00,  1.46s/it]"
     ]
    },
    {
     "name": "stdout",
     "output_type": "stream",
     "text": [
      "                   all        184       2640      0.413      0.224      0.262     0.0967\n"
     ]
    },
    {
     "name": "stderr",
     "output_type": "stream",
     "text": [
      "\n"
     ]
    },
    {
     "name": "stdout",
     "output_type": "stream",
     "text": [
      "\n",
      "      Epoch    GPU_mem   box_loss   cls_loss   dfl_loss  Instances       Size\n"
     ]
    },
    {
     "name": "stderr",
     "output_type": "stream",
     "text": [
      "       2/25        11G      1.385      1.429      1.115        498        640: 100%|██████████| 69/69 [00:28<00:00,  2.46it/s]\n",
      "                 Class     Images  Instances      Box(P          R      mAP50  mAP50-95): 100%|██████████| 6/6 [00:02<00:00,  2.58it/s]"
     ]
    },
    {
     "name": "stdout",
     "output_type": "stream",
     "text": [
      "                   all        184       2640      0.551      0.513      0.476      0.253\n"
     ]
    },
    {
     "name": "stderr",
     "output_type": "stream",
     "text": [
      "\n"
     ]
    },
    {
     "name": "stdout",
     "output_type": "stream",
     "text": [
      "\n",
      "      Epoch    GPU_mem   box_loss   cls_loss   dfl_loss  Instances       Size\n"
     ]
    },
    {
     "name": "stderr",
     "output_type": "stream",
     "text": [
      "       3/25        11G      1.295      1.306      1.081        303        640: 100%|██████████| 69/69 [00:27<00:00,  2.49it/s]\n",
      "                 Class     Images  Instances      Box(P          R      mAP50  mAP50-95): 100%|██████████| 6/6 [00:02<00:00,  2.89it/s]"
     ]
    },
    {
     "name": "stdout",
     "output_type": "stream",
     "text": [
      "                   all        184       2640      0.534      0.543      0.538      0.208\n"
     ]
    },
    {
     "name": "stderr",
     "output_type": "stream",
     "text": [
      "\n"
     ]
    },
    {
     "name": "stdout",
     "output_type": "stream",
     "text": [
      "\n",
      "      Epoch    GPU_mem   box_loss   cls_loss   dfl_loss  Instances       Size\n"
     ]
    },
    {
     "name": "stderr",
     "output_type": "stream",
     "text": [
      "       4/25        11G      1.264      1.267      1.065        505        640: 100%|██████████| 69/69 [00:27<00:00,  2.50it/s]\n",
      "                 Class     Images  Instances      Box(P          R      mAP50  mAP50-95): 100%|██████████| 6/6 [00:02<00:00,  2.88it/s]"
     ]
    },
    {
     "name": "stdout",
     "output_type": "stream",
     "text": [
      "                   all        184       2640      0.537      0.561      0.552      0.252\n"
     ]
    },
    {
     "name": "stderr",
     "output_type": "stream",
     "text": [
      "\n"
     ]
    },
    {
     "name": "stdout",
     "output_type": "stream",
     "text": [
      "\n",
      "      Epoch    GPU_mem   box_loss   cls_loss   dfl_loss  Instances       Size\n"
     ]
    },
    {
     "name": "stderr",
     "output_type": "stream",
     "text": [
      "       5/25        11G      1.222       1.21      1.048        526        640: 100%|██████████| 69/69 [00:27<00:00,  2.50it/s]\n",
      "                 Class     Images  Instances      Box(P          R      mAP50  mAP50-95): 100%|██████████| 6/6 [00:02<00:00,  2.91it/s]"
     ]
    },
    {
     "name": "stdout",
     "output_type": "stream",
     "text": [
      "                   all        184       2640      0.563      0.606      0.579      0.334\n"
     ]
    },
    {
     "name": "stderr",
     "output_type": "stream",
     "text": [
      "\n"
     ]
    },
    {
     "name": "stdout",
     "output_type": "stream",
     "text": [
      "\n",
      "      Epoch    GPU_mem   box_loss   cls_loss   dfl_loss  Instances       Size\n"
     ]
    },
    {
     "name": "stderr",
     "output_type": "stream",
     "text": [
      "       6/25        11G      1.198      1.196      1.042        498        640: 100%|██████████| 69/69 [00:27<00:00,  2.51it/s]\n",
      "                 Class     Images  Instances      Box(P          R      mAP50  mAP50-95): 100%|██████████| 6/6 [00:02<00:00,  2.93it/s]"
     ]
    },
    {
     "name": "stdout",
     "output_type": "stream",
     "text": [
      "                   all        184       2640      0.577      0.588      0.598      0.288\n"
     ]
    },
    {
     "name": "stderr",
     "output_type": "stream",
     "text": [
      "\n"
     ]
    },
    {
     "name": "stdout",
     "output_type": "stream",
     "text": [
      "\n",
      "      Epoch    GPU_mem   box_loss   cls_loss   dfl_loss  Instances       Size\n"
     ]
    },
    {
     "name": "stderr",
     "output_type": "stream",
     "text": [
      "       7/25        11G      1.178      1.184      1.035        266        640: 100%|██████████| 69/69 [00:27<00:00,  2.50it/s]\n",
      "                 Class     Images  Instances      Box(P          R      mAP50  mAP50-95): 100%|██████████| 6/6 [00:02<00:00,  2.90it/s]"
     ]
    },
    {
     "name": "stdout",
     "output_type": "stream",
     "text": [
      "                   all        184       2640      0.525      0.602      0.581      0.344\n"
     ]
    },
    {
     "name": "stderr",
     "output_type": "stream",
     "text": [
      "\n"
     ]
    },
    {
     "name": "stdout",
     "output_type": "stream",
     "text": [
      "\n",
      "      Epoch    GPU_mem   box_loss   cls_loss   dfl_loss  Instances       Size\n"
     ]
    },
    {
     "name": "stderr",
     "output_type": "stream",
     "text": [
      "       8/25        11G       1.16       1.16      1.027        318        640: 100%|██████████| 69/69 [00:27<00:00,  2.50it/s]\n",
      "                 Class     Images  Instances      Box(P          R      mAP50  mAP50-95): 100%|██████████| 6/6 [00:02<00:00,  2.86it/s]"
     ]
    },
    {
     "name": "stdout",
     "output_type": "stream",
     "text": [
      "                   all        184       2640      0.568      0.589      0.593      0.408\n"
     ]
    },
    {
     "name": "stderr",
     "output_type": "stream",
     "text": [
      "\n"
     ]
    },
    {
     "name": "stdout",
     "output_type": "stream",
     "text": [
      "\n",
      "      Epoch    GPU_mem   box_loss   cls_loss   dfl_loss  Instances       Size\n"
     ]
    },
    {
     "name": "stderr",
     "output_type": "stream",
     "text": [
      "       9/25      10.9G      1.159      1.149      1.023        327        640: 100%|██████████| 69/69 [00:27<00:00,  2.50it/s]\n",
      "                 Class     Images  Instances      Box(P          R      mAP50  mAP50-95): 100%|██████████| 6/6 [00:02<00:00,  2.92it/s]"
     ]
    },
    {
     "name": "stdout",
     "output_type": "stream",
     "text": [
      "                   all        184       2640       0.59      0.569      0.597      0.326\n"
     ]
    },
    {
     "name": "stderr",
     "output_type": "stream",
     "text": [
      "\n"
     ]
    },
    {
     "name": "stdout",
     "output_type": "stream",
     "text": [
      "\n",
      "      Epoch    GPU_mem   box_loss   cls_loss   dfl_loss  Instances       Size\n"
     ]
    },
    {
     "name": "stderr",
     "output_type": "stream",
     "text": [
      "      10/25      11.1G      1.126      1.116      1.014        388        640: 100%|██████████| 69/69 [00:27<00:00,  2.50it/s]\n",
      "                 Class     Images  Instances      Box(P          R      mAP50  mAP50-95): 100%|██████████| 6/6 [00:02<00:00,  2.93it/s]"
     ]
    },
    {
     "name": "stdout",
     "output_type": "stream",
     "text": [
      "                   all        184       2640      0.571      0.614      0.608      0.348\n"
     ]
    },
    {
     "name": "stderr",
     "output_type": "stream",
     "text": [
      "\n"
     ]
    },
    {
     "name": "stdout",
     "output_type": "stream",
     "text": [
      "\n",
      "      Epoch    GPU_mem   box_loss   cls_loss   dfl_loss  Instances       Size\n"
     ]
    },
    {
     "name": "stderr",
     "output_type": "stream",
     "text": [
      "      11/25      11.1G      1.107      1.115      1.011        414        640: 100%|██████████| 69/69 [00:27<00:00,  2.51it/s]\n",
      "                 Class     Images  Instances      Box(P          R      mAP50  mAP50-95): 100%|██████████| 6/6 [00:02<00:00,  2.91it/s]"
     ]
    },
    {
     "name": "stdout",
     "output_type": "stream",
     "text": [
      "                   all        184       2640      0.563      0.597      0.599      0.385\n"
     ]
    },
    {
     "name": "stderr",
     "output_type": "stream",
     "text": [
      "\n"
     ]
    },
    {
     "name": "stdout",
     "output_type": "stream",
     "text": [
      "\n",
      "      Epoch    GPU_mem   box_loss   cls_loss   dfl_loss  Instances       Size\n"
     ]
    },
    {
     "name": "stderr",
     "output_type": "stream",
     "text": [
      "      12/25        11G      1.127      1.131      1.012        416        640: 100%|██████████| 69/69 [00:27<00:00,  2.50it/s]\n",
      "                 Class     Images  Instances      Box(P          R      mAP50  mAP50-95): 100%|██████████| 6/6 [00:02<00:00,  2.91it/s]"
     ]
    },
    {
     "name": "stdout",
     "output_type": "stream",
     "text": [
      "                   all        184       2640      0.577      0.602      0.602      0.395\n"
     ]
    },
    {
     "name": "stderr",
     "output_type": "stream",
     "text": [
      "\n"
     ]
    },
    {
     "name": "stdout",
     "output_type": "stream",
     "text": [
      "\n",
      "      Epoch    GPU_mem   box_loss   cls_loss   dfl_loss  Instances       Size\n"
     ]
    },
    {
     "name": "stderr",
     "output_type": "stream",
     "text": [
      "      13/25        11G      1.111      1.089      1.007        627        640: 100%|██████████| 69/69 [00:27<00:00,  2.50it/s]\n",
      "                 Class     Images  Instances      Box(P          R      mAP50  mAP50-95): 100%|██████████| 6/6 [00:02<00:00,  2.92it/s]"
     ]
    },
    {
     "name": "stdout",
     "output_type": "stream",
     "text": [
      "                   all        184       2640      0.582       0.61      0.612       0.39\n"
     ]
    },
    {
     "name": "stderr",
     "output_type": "stream",
     "text": [
      "\n"
     ]
    },
    {
     "name": "stdout",
     "output_type": "stream",
     "text": [
      "\n",
      "      Epoch    GPU_mem   box_loss   cls_loss   dfl_loss  Instances       Size\n"
     ]
    },
    {
     "name": "stderr",
     "output_type": "stream",
     "text": [
      "      14/25        11G      1.087      1.072      1.002        463        640: 100%|██████████| 69/69 [00:27<00:00,  2.51it/s]\n",
      "                 Class     Images  Instances      Box(P          R      mAP50  mAP50-95): 100%|██████████| 6/6 [00:02<00:00,  2.93it/s]"
     ]
    },
    {
     "name": "stdout",
     "output_type": "stream",
     "text": [
      "                   all        184       2640       0.56        0.6      0.588      0.381\n"
     ]
    },
    {
     "name": "stderr",
     "output_type": "stream",
     "text": [
      "\n"
     ]
    },
    {
     "name": "stdout",
     "output_type": "stream",
     "text": [
      "\n",
      "      Epoch    GPU_mem   box_loss   cls_loss   dfl_loss  Instances       Size\n"
     ]
    },
    {
     "name": "stderr",
     "output_type": "stream",
     "text": [
      "      15/25      11.1G      1.091      1.092      1.002        333        640: 100%|██████████| 69/69 [00:27<00:00,  2.51it/s]\n",
      "                 Class     Images  Instances      Box(P          R      mAP50  mAP50-95): 100%|██████████| 6/6 [00:02<00:00,  2.91it/s]"
     ]
    },
    {
     "name": "stdout",
     "output_type": "stream",
     "text": [
      "                   all        184       2640      0.554       0.61      0.598      0.407\n"
     ]
    },
    {
     "name": "stderr",
     "output_type": "stream",
     "text": [
      "\n"
     ]
    },
    {
     "name": "stdout",
     "output_type": "stream",
     "text": [
      "Closing dataloader mosaic\n",
      "\u001b[34m\u001b[1malbumentations: \u001b[0mBlur(p=0.01, blur_limit=(3, 7)), MedianBlur(p=0.01, blur_limit=(3, 7)), ToGray(p=0.01, num_output_channels=3, method='weighted_average'), CLAHE(p=0.01, clip_limit=(1.0, 4.0), tile_grid_size=(8, 8))\n"
     ]
    },
    {
     "name": "stderr",
     "output_type": "stream",
     "text": [
      "/workspace/CZII/.venv/lib/python3.12/site-packages/ultralytics/data/augment.py:1850: UserWarning: Argument 'quality_lower' is not valid and will be ignored.\n",
      "  A.ImageCompression(quality_lower=75, p=0.0),\n"
     ]
    },
    {
     "name": "stdout",
     "output_type": "stream",
     "text": [
      "\n",
      "      Epoch    GPU_mem   box_loss   cls_loss   dfl_loss  Instances       Size\n"
     ]
    },
    {
     "name": "stderr",
     "output_type": "stream",
     "text": [
      "      16/25      10.9G     0.9866      1.027     0.9577        303        640: 100%|██████████| 69/69 [00:27<00:00,  2.47it/s]\n",
      "                 Class     Images  Instances      Box(P          R      mAP50  mAP50-95): 100%|██████████| 6/6 [00:02<00:00,  2.89it/s]"
     ]
    },
    {
     "name": "stdout",
     "output_type": "stream",
     "text": [
      "                   all        184       2640       0.58      0.583      0.601      0.371\n"
     ]
    },
    {
     "name": "stderr",
     "output_type": "stream",
     "text": [
      "\n"
     ]
    },
    {
     "name": "stdout",
     "output_type": "stream",
     "text": [
      "\n",
      "      Epoch    GPU_mem   box_loss   cls_loss   dfl_loss  Instances       Size\n"
     ]
    },
    {
     "name": "stderr",
     "output_type": "stream",
     "text": [
      "      17/25      10.9G     0.9741     0.9957     0.9544        394        640: 100%|██████████| 69/69 [00:27<00:00,  2.52it/s]\n",
      "                 Class     Images  Instances      Box(P          R      mAP50  mAP50-95): 100%|██████████| 6/6 [00:02<00:00,  2.87it/s]"
     ]
    },
    {
     "name": "stdout",
     "output_type": "stream",
     "text": [
      "                   all        184       2640      0.583      0.608      0.612      0.406\n"
     ]
    },
    {
     "name": "stderr",
     "output_type": "stream",
     "text": [
      "\n"
     ]
    },
    {
     "name": "stdout",
     "output_type": "stream",
     "text": [
      "\n",
      "      Epoch    GPU_mem   box_loss   cls_loss   dfl_loss  Instances       Size\n"
     ]
    },
    {
     "name": "stderr",
     "output_type": "stream",
     "text": [
      "      18/25      10.9G     0.9754     0.9974     0.9556        449        640: 100%|██████████| 69/69 [00:27<00:00,  2.53it/s]\n",
      "                 Class     Images  Instances      Box(P          R      mAP50  mAP50-95): 100%|██████████| 6/6 [00:02<00:00,  2.89it/s]"
     ]
    },
    {
     "name": "stdout",
     "output_type": "stream",
     "text": [
      "                   all        184       2640      0.586      0.598      0.606      0.408\n"
     ]
    },
    {
     "name": "stderr",
     "output_type": "stream",
     "text": [
      "\n"
     ]
    },
    {
     "name": "stdout",
     "output_type": "stream",
     "text": [
      "\n",
      "      Epoch    GPU_mem   box_loss   cls_loss   dfl_loss  Instances       Size\n"
     ]
    },
    {
     "name": "stderr",
     "output_type": "stream",
     "text": [
      "      19/25        11G     0.9686     0.9762     0.9536        284        640: 100%|██████████| 69/69 [00:27<00:00,  2.53it/s]\n",
      "                 Class     Images  Instances      Box(P          R      mAP50  mAP50-95): 100%|██████████| 6/6 [00:02<00:00,  2.91it/s]"
     ]
    },
    {
     "name": "stdout",
     "output_type": "stream",
     "text": [
      "                   all        184       2640      0.574      0.579      0.599      0.404\n"
     ]
    },
    {
     "name": "stderr",
     "output_type": "stream",
     "text": [
      "\n"
     ]
    },
    {
     "name": "stdout",
     "output_type": "stream",
     "text": [
      "\n",
      "      Epoch    GPU_mem   box_loss   cls_loss   dfl_loss  Instances       Size\n"
     ]
    },
    {
     "name": "stderr",
     "output_type": "stream",
     "text": [
      "      20/25        11G     0.9505     0.9648     0.9451        368        640: 100%|██████████| 69/69 [00:27<00:00,  2.52it/s]\n",
      "                 Class     Images  Instances      Box(P          R      mAP50  mAP50-95): 100%|██████████| 6/6 [00:02<00:00,  2.92it/s]"
     ]
    },
    {
     "name": "stdout",
     "output_type": "stream",
     "text": [
      "                   all        184       2640      0.569      0.583      0.592      0.402\n"
     ]
    },
    {
     "name": "stderr",
     "output_type": "stream",
     "text": [
      "\n"
     ]
    },
    {
     "name": "stdout",
     "output_type": "stream",
     "text": [
      "\n",
      "      Epoch    GPU_mem   box_loss   cls_loss   dfl_loss  Instances       Size\n"
     ]
    },
    {
     "name": "stderr",
     "output_type": "stream",
     "text": [
      "      21/25      10.9G     0.9411     0.9486     0.9463        337        640: 100%|██████████| 69/69 [00:27<00:00,  2.53it/s]\n",
      "                 Class     Images  Instances      Box(P          R      mAP50  mAP50-95): 100%|██████████| 6/6 [00:02<00:00,  2.90it/s]"
     ]
    },
    {
     "name": "stdout",
     "output_type": "stream",
     "text": [
      "                   all        184       2640      0.591      0.594      0.602      0.406\n"
     ]
    },
    {
     "name": "stderr",
     "output_type": "stream",
     "text": [
      "\n"
     ]
    },
    {
     "name": "stdout",
     "output_type": "stream",
     "text": [
      "\n",
      "      Epoch    GPU_mem   box_loss   cls_loss   dfl_loss  Instances       Size\n"
     ]
    },
    {
     "name": "stderr",
     "output_type": "stream",
     "text": [
      "      22/25        11G     0.9396     0.9476     0.9432        360        640: 100%|██████████| 69/69 [00:27<00:00,  2.53it/s]\n",
      "                 Class     Images  Instances      Box(P          R      mAP50  mAP50-95): 100%|██████████| 6/6 [00:02<00:00,  2.91it/s]"
     ]
    },
    {
     "name": "stdout",
     "output_type": "stream",
     "text": [
      "                   all        184       2640      0.573      0.584      0.597      0.411\n"
     ]
    },
    {
     "name": "stderr",
     "output_type": "stream",
     "text": [
      "\n"
     ]
    },
    {
     "name": "stdout",
     "output_type": "stream",
     "text": [
      "\n",
      "      Epoch    GPU_mem   box_loss   cls_loss   dfl_loss  Instances       Size\n"
     ]
    },
    {
     "name": "stderr",
     "output_type": "stream",
     "text": [
      "      23/25        11G     0.9406     0.9493     0.9441        201        640: 100%|██████████| 69/69 [00:27<00:00,  2.53it/s]\n",
      "                 Class     Images  Instances      Box(P          R      mAP50  mAP50-95): 100%|██████████| 6/6 [00:02<00:00,  2.88it/s]"
     ]
    },
    {
     "name": "stdout",
     "output_type": "stream",
     "text": [
      "                   all        184       2640      0.587      0.582      0.599      0.408\n"
     ]
    },
    {
     "name": "stderr",
     "output_type": "stream",
     "text": [
      "\n"
     ]
    },
    {
     "name": "stdout",
     "output_type": "stream",
     "text": [
      "\n",
      "      Epoch    GPU_mem   box_loss   cls_loss   dfl_loss  Instances       Size\n"
     ]
    },
    {
     "name": "stderr",
     "output_type": "stream",
     "text": [
      "      24/25      10.9G     0.9442     0.9436     0.9458        217        640: 100%|██████████| 69/69 [00:27<00:00,  2.53it/s]\n",
      "                 Class     Images  Instances      Box(P          R      mAP50  mAP50-95): 100%|██████████| 6/6 [00:02<00:00,  2.90it/s]"
     ]
    },
    {
     "name": "stdout",
     "output_type": "stream",
     "text": [
      "                   all        184       2640       0.59       0.58        0.6       0.41\n"
     ]
    },
    {
     "name": "stderr",
     "output_type": "stream",
     "text": [
      "\n"
     ]
    },
    {
     "name": "stdout",
     "output_type": "stream",
     "text": [
      "\n",
      "      Epoch    GPU_mem   box_loss   cls_loss   dfl_loss  Instances       Size\n"
     ]
    },
    {
     "name": "stderr",
     "output_type": "stream",
     "text": [
      "      25/25      10.9G     0.9389     0.9471     0.9443        446        640: 100%|██████████| 69/69 [00:27<00:00,  2.53it/s]\n",
      "                 Class     Images  Instances      Box(P          R      mAP50  mAP50-95): 100%|██████████| 6/6 [00:02<00:00,  2.90it/s]"
     ]
    },
    {
     "name": "stdout",
     "output_type": "stream",
     "text": [
      "                   all        184       2640      0.591      0.578      0.601       0.41\n"
     ]
    },
    {
     "name": "stderr",
     "output_type": "stream",
     "text": [
      "\n"
     ]
    },
    {
     "name": "stdout",
     "output_type": "stream",
     "text": [
      "\n",
      "25 epochs completed in 0.225 hours.\n",
      "Optimizer stripped from /workspace/CZII/runs/detect/baseline_cv/weights/last.pt, 51.2MB\n",
      "Optimizer stripped from /workspace/CZII/runs/detect/baseline_cv/weights/best.pt, 51.2MB\n",
      "\n",
      "Validating /workspace/CZII/runs/detect/baseline_cv/weights/best.pt...\n",
      "Ultralytics 8.3.53 🚀 Python-3.12.8 torch-2.5.1+cu124 CUDA:0 (NVIDIA RTX A4000, 16102MiB)\n",
      "YOLO11l summary (fused): 464 layers, 25,283,938 parameters, 0 gradients, 86.6 GFLOPs\n"
     ]
    },
    {
     "name": "stderr",
     "output_type": "stream",
     "text": [
      "                 Class     Images  Instances      Box(P          R      mAP50  mAP50-95): 100%|██████████| 6/6 [00:07<00:00,  1.18s/it]\n"
     ]
    },
    {
     "name": "stdout",
     "output_type": "stream",
     "text": [
      "                   all        184       2640      0.572      0.584      0.597      0.411\n",
      "          apo-ferritin        133        506      0.711       0.67      0.742      0.456\n",
      "    beta-galactosidase        112        200      0.335        0.2      0.224      0.128\n",
      "              ribosome        145        899       0.68      0.745      0.782      0.544\n",
      "         thyroglobulin        144        749      0.299      0.359      0.268       0.17\n",
      "   virus-like-particle        105        286      0.833      0.948       0.97      0.754\n",
      "Speed: 0.2ms preprocess, 20.5ms inference, 0.0ms loss, 12.8ms postprocess per image\n",
      "Results saved to \u001b[1m/workspace/CZII/runs/detect/baseline_cv\u001b[0m\n",
      "\u001b[34m\u001b[1mMLflow: \u001b[0mresults logged to /workspace/CZII/runs/mlflow\n",
      "\u001b[34m\u001b[1mMLflow: \u001b[0mdisable with 'yolo settings mlflow=False'\n",
      "====================================================================================================\n",
      "Processing TS_69_2...\n",
      "['/workspace/CZII/proc/yolo11_baseline_cv/images/TS_5_4_0.png', '/workspace/CZII/proc/yolo11_baseline_cv/images/TS_5_4_10.png', '/workspace/CZII/proc/yolo11_baseline_cv/images/TS_5_4_100.png', '/workspace/CZII/proc/yolo11_baseline_cv/images/TS_5_4_1000.png', '/workspace/CZII/proc/yolo11_baseline_cv/images/TS_5_4_1010.png', '/workspace/CZII/proc/yolo11_baseline_cv/images/TS_5_4_1020.png', '/workspace/CZII/proc/yolo11_baseline_cv/images/TS_5_4_1030.png', '/workspace/CZII/proc/yolo11_baseline_cv/images/TS_5_4_1040.png', '/workspace/CZII/proc/yolo11_baseline_cv/images/TS_5_4_1050.png', '/workspace/CZII/proc/yolo11_baseline_cv/images/TS_5_4_1060.png', '/workspace/CZII/proc/yolo11_baseline_cv/images/TS_5_4_1070.png', '/workspace/CZII/proc/yolo11_baseline_cv/images/TS_5_4_1080.png', '/workspace/CZII/proc/yolo11_baseline_cv/images/TS_5_4_1090.png', '/workspace/CZII/proc/yolo11_baseline_cv/images/TS_5_4_110.png', '/workspace/CZII/proc/yolo11_baseline_cv/images/TS_5_4_1100.png', '/workspace/CZII/proc/yolo11_baseline_cv/images/TS_5_4_1110.png', '/workspace/CZII/proc/yolo11_baseline_cv/images/TS_5_4_1120.png', '/workspace/CZII/proc/yolo11_baseline_cv/images/TS_5_4_1130.png', '/workspace/CZII/proc/yolo11_baseline_cv/images/TS_5_4_1140.png', '/workspace/CZII/proc/yolo11_baseline_cv/images/TS_5_4_1150.png', '/workspace/CZII/proc/yolo11_baseline_cv/images/TS_5_4_1160.png', '/workspace/CZII/proc/yolo11_baseline_cv/images/TS_5_4_1170.png', '/workspace/CZII/proc/yolo11_baseline_cv/images/TS_5_4_1180.png', '/workspace/CZII/proc/yolo11_baseline_cv/images/TS_5_4_1190.png', '/workspace/CZII/proc/yolo11_baseline_cv/images/TS_5_4_120.png', '/workspace/CZII/proc/yolo11_baseline_cv/images/TS_5_4_1200.png', '/workspace/CZII/proc/yolo11_baseline_cv/images/TS_5_4_1210.png', '/workspace/CZII/proc/yolo11_baseline_cv/images/TS_5_4_1220.png', '/workspace/CZII/proc/yolo11_baseline_cv/images/TS_5_4_1230.png', '/workspace/CZII/proc/yolo11_baseline_cv/images/TS_5_4_1240.png', '/workspace/CZII/proc/yolo11_baseline_cv/images/TS_5_4_1250.png', '/workspace/CZII/proc/yolo11_baseline_cv/images/TS_5_4_1260.png', '/workspace/CZII/proc/yolo11_baseline_cv/images/TS_5_4_1270.png', '/workspace/CZII/proc/yolo11_baseline_cv/images/TS_5_4_1280.png', '/workspace/CZII/proc/yolo11_baseline_cv/images/TS_5_4_1290.png', '/workspace/CZII/proc/yolo11_baseline_cv/images/TS_5_4_130.png', '/workspace/CZII/proc/yolo11_baseline_cv/images/TS_5_4_1300.png', '/workspace/CZII/proc/yolo11_baseline_cv/images/TS_5_4_1310.png', '/workspace/CZII/proc/yolo11_baseline_cv/images/TS_5_4_1320.png', '/workspace/CZII/proc/yolo11_baseline_cv/images/TS_5_4_1330.png', '/workspace/CZII/proc/yolo11_baseline_cv/images/TS_5_4_1340.png', '/workspace/CZII/proc/yolo11_baseline_cv/images/TS_5_4_1350.png', '/workspace/CZII/proc/yolo11_baseline_cv/images/TS_5_4_1360.png', '/workspace/CZII/proc/yolo11_baseline_cv/images/TS_5_4_1370.png', '/workspace/CZII/proc/yolo11_baseline_cv/images/TS_5_4_1380.png', '/workspace/CZII/proc/yolo11_baseline_cv/images/TS_5_4_1390.png', '/workspace/CZII/proc/yolo11_baseline_cv/images/TS_5_4_140.png', '/workspace/CZII/proc/yolo11_baseline_cv/images/TS_5_4_1400.png', '/workspace/CZII/proc/yolo11_baseline_cv/images/TS_5_4_1410.png', '/workspace/CZII/proc/yolo11_baseline_cv/images/TS_5_4_1420.png', '/workspace/CZII/proc/yolo11_baseline_cv/images/TS_5_4_1430.png', '/workspace/CZII/proc/yolo11_baseline_cv/images/TS_5_4_1440.png', '/workspace/CZII/proc/yolo11_baseline_cv/images/TS_5_4_1450.png', '/workspace/CZII/proc/yolo11_baseline_cv/images/TS_5_4_1460.png', '/workspace/CZII/proc/yolo11_baseline_cv/images/TS_5_4_1470.png', '/workspace/CZII/proc/yolo11_baseline_cv/images/TS_5_4_1480.png', '/workspace/CZII/proc/yolo11_baseline_cv/images/TS_5_4_1490.png', '/workspace/CZII/proc/yolo11_baseline_cv/images/TS_5_4_150.png', '/workspace/CZII/proc/yolo11_baseline_cv/images/TS_5_4_1500.png', '/workspace/CZII/proc/yolo11_baseline_cv/images/TS_5_4_1510.png', '/workspace/CZII/proc/yolo11_baseline_cv/images/TS_5_4_1520.png', '/workspace/CZII/proc/yolo11_baseline_cv/images/TS_5_4_1530.png', '/workspace/CZII/proc/yolo11_baseline_cv/images/TS_5_4_1540.png', '/workspace/CZII/proc/yolo11_baseline_cv/images/TS_5_4_1550.png', '/workspace/CZII/proc/yolo11_baseline_cv/images/TS_5_4_1560.png', '/workspace/CZII/proc/yolo11_baseline_cv/images/TS_5_4_1570.png', '/workspace/CZII/proc/yolo11_baseline_cv/images/TS_5_4_1580.png', '/workspace/CZII/proc/yolo11_baseline_cv/images/TS_5_4_1590.png', '/workspace/CZII/proc/yolo11_baseline_cv/images/TS_5_4_160.png', '/workspace/CZII/proc/yolo11_baseline_cv/images/TS_5_4_1600.png', '/workspace/CZII/proc/yolo11_baseline_cv/images/TS_5_4_1610.png', '/workspace/CZII/proc/yolo11_baseline_cv/images/TS_5_4_1620.png', '/workspace/CZII/proc/yolo11_baseline_cv/images/TS_5_4_1630.png', '/workspace/CZII/proc/yolo11_baseline_cv/images/TS_5_4_1640.png', '/workspace/CZII/proc/yolo11_baseline_cv/images/TS_5_4_1650.png', '/workspace/CZII/proc/yolo11_baseline_cv/images/TS_5_4_1660.png', '/workspace/CZII/proc/yolo11_baseline_cv/images/TS_5_4_1670.png', '/workspace/CZII/proc/yolo11_baseline_cv/images/TS_5_4_1680.png', '/workspace/CZII/proc/yolo11_baseline_cv/images/TS_5_4_1690.png', '/workspace/CZII/proc/yolo11_baseline_cv/images/TS_5_4_170.png', '/workspace/CZII/proc/yolo11_baseline_cv/images/TS_5_4_1700.png', '/workspace/CZII/proc/yolo11_baseline_cv/images/TS_5_4_1710.png', '/workspace/CZII/proc/yolo11_baseline_cv/images/TS_5_4_1720.png', '/workspace/CZII/proc/yolo11_baseline_cv/images/TS_5_4_1730.png', '/workspace/CZII/proc/yolo11_baseline_cv/images/TS_5_4_1740.png', '/workspace/CZII/proc/yolo11_baseline_cv/images/TS_5_4_1750.png', '/workspace/CZII/proc/yolo11_baseline_cv/images/TS_5_4_1760.png', '/workspace/CZII/proc/yolo11_baseline_cv/images/TS_5_4_1770.png', '/workspace/CZII/proc/yolo11_baseline_cv/images/TS_5_4_1780.png', '/workspace/CZII/proc/yolo11_baseline_cv/images/TS_5_4_1790.png', '/workspace/CZII/proc/yolo11_baseline_cv/images/TS_5_4_180.png', '/workspace/CZII/proc/yolo11_baseline_cv/images/TS_5_4_1800.png', '/workspace/CZII/proc/yolo11_baseline_cv/images/TS_5_4_1810.png', '/workspace/CZII/proc/yolo11_baseline_cv/images/TS_5_4_1820.png', '/workspace/CZII/proc/yolo11_baseline_cv/images/TS_5_4_1830.png', '/workspace/CZII/proc/yolo11_baseline_cv/images/TS_5_4_190.png', '/workspace/CZII/proc/yolo11_baseline_cv/images/TS_5_4_20.png', '/workspace/CZII/proc/yolo11_baseline_cv/images/TS_5_4_200.png', '/workspace/CZII/proc/yolo11_baseline_cv/images/TS_5_4_210.png', '/workspace/CZII/proc/yolo11_baseline_cv/images/TS_5_4_220.png', '/workspace/CZII/proc/yolo11_baseline_cv/images/TS_5_4_230.png', '/workspace/CZII/proc/yolo11_baseline_cv/images/TS_5_4_240.png', '/workspace/CZII/proc/yolo11_baseline_cv/images/TS_5_4_250.png', '/workspace/CZII/proc/yolo11_baseline_cv/images/TS_5_4_260.png', '/workspace/CZII/proc/yolo11_baseline_cv/images/TS_5_4_270.png', '/workspace/CZII/proc/yolo11_baseline_cv/images/TS_5_4_280.png', '/workspace/CZII/proc/yolo11_baseline_cv/images/TS_5_4_290.png', '/workspace/CZII/proc/yolo11_baseline_cv/images/TS_5_4_30.png', '/workspace/CZII/proc/yolo11_baseline_cv/images/TS_5_4_300.png', '/workspace/CZII/proc/yolo11_baseline_cv/images/TS_5_4_310.png', '/workspace/CZII/proc/yolo11_baseline_cv/images/TS_5_4_320.png', '/workspace/CZII/proc/yolo11_baseline_cv/images/TS_5_4_330.png', '/workspace/CZII/proc/yolo11_baseline_cv/images/TS_5_4_340.png', '/workspace/CZII/proc/yolo11_baseline_cv/images/TS_5_4_350.png', '/workspace/CZII/proc/yolo11_baseline_cv/images/TS_5_4_360.png', '/workspace/CZII/proc/yolo11_baseline_cv/images/TS_5_4_370.png', '/workspace/CZII/proc/yolo11_baseline_cv/images/TS_5_4_380.png', '/workspace/CZII/proc/yolo11_baseline_cv/images/TS_5_4_390.png', '/workspace/CZII/proc/yolo11_baseline_cv/images/TS_5_4_40.png', '/workspace/CZII/proc/yolo11_baseline_cv/images/TS_5_4_400.png', '/workspace/CZII/proc/yolo11_baseline_cv/images/TS_5_4_410.png', '/workspace/CZII/proc/yolo11_baseline_cv/images/TS_5_4_420.png', '/workspace/CZII/proc/yolo11_baseline_cv/images/TS_5_4_430.png', '/workspace/CZII/proc/yolo11_baseline_cv/images/TS_5_4_440.png', '/workspace/CZII/proc/yolo11_baseline_cv/images/TS_5_4_450.png', '/workspace/CZII/proc/yolo11_baseline_cv/images/TS_5_4_460.png', '/workspace/CZII/proc/yolo11_baseline_cv/images/TS_5_4_470.png', '/workspace/CZII/proc/yolo11_baseline_cv/images/TS_5_4_480.png', '/workspace/CZII/proc/yolo11_baseline_cv/images/TS_5_4_490.png', '/workspace/CZII/proc/yolo11_baseline_cv/images/TS_5_4_50.png', '/workspace/CZII/proc/yolo11_baseline_cv/images/TS_5_4_500.png', '/workspace/CZII/proc/yolo11_baseline_cv/images/TS_5_4_510.png', '/workspace/CZII/proc/yolo11_baseline_cv/images/TS_5_4_520.png', '/workspace/CZII/proc/yolo11_baseline_cv/images/TS_5_4_530.png', '/workspace/CZII/proc/yolo11_baseline_cv/images/TS_5_4_540.png', '/workspace/CZII/proc/yolo11_baseline_cv/images/TS_5_4_550.png', '/workspace/CZII/proc/yolo11_baseline_cv/images/TS_5_4_560.png', '/workspace/CZII/proc/yolo11_baseline_cv/images/TS_5_4_570.png', '/workspace/CZII/proc/yolo11_baseline_cv/images/TS_5_4_580.png', '/workspace/CZII/proc/yolo11_baseline_cv/images/TS_5_4_590.png', '/workspace/CZII/proc/yolo11_baseline_cv/images/TS_5_4_60.png', '/workspace/CZII/proc/yolo11_baseline_cv/images/TS_5_4_600.png', '/workspace/CZII/proc/yolo11_baseline_cv/images/TS_5_4_610.png', '/workspace/CZII/proc/yolo11_baseline_cv/images/TS_5_4_620.png', '/workspace/CZII/proc/yolo11_baseline_cv/images/TS_5_4_630.png', '/workspace/CZII/proc/yolo11_baseline_cv/images/TS_5_4_640.png', '/workspace/CZII/proc/yolo11_baseline_cv/images/TS_5_4_650.png', '/workspace/CZII/proc/yolo11_baseline_cv/images/TS_5_4_660.png', '/workspace/CZII/proc/yolo11_baseline_cv/images/TS_5_4_670.png', '/workspace/CZII/proc/yolo11_baseline_cv/images/TS_5_4_680.png', '/workspace/CZII/proc/yolo11_baseline_cv/images/TS_5_4_690.png', '/workspace/CZII/proc/yolo11_baseline_cv/images/TS_5_4_70.png', '/workspace/CZII/proc/yolo11_baseline_cv/images/TS_5_4_700.png', '/workspace/CZII/proc/yolo11_baseline_cv/images/TS_5_4_710.png', '/workspace/CZII/proc/yolo11_baseline_cv/images/TS_5_4_720.png', '/workspace/CZII/proc/yolo11_baseline_cv/images/TS_5_4_730.png', '/workspace/CZII/proc/yolo11_baseline_cv/images/TS_5_4_740.png', '/workspace/CZII/proc/yolo11_baseline_cv/images/TS_5_4_750.png', '/workspace/CZII/proc/yolo11_baseline_cv/images/TS_5_4_760.png', '/workspace/CZII/proc/yolo11_baseline_cv/images/TS_5_4_770.png', '/workspace/CZII/proc/yolo11_baseline_cv/images/TS_5_4_780.png', '/workspace/CZII/proc/yolo11_baseline_cv/images/TS_5_4_790.png', '/workspace/CZII/proc/yolo11_baseline_cv/images/TS_5_4_80.png', '/workspace/CZII/proc/yolo11_baseline_cv/images/TS_5_4_800.png', '/workspace/CZII/proc/yolo11_baseline_cv/images/TS_5_4_810.png', '/workspace/CZII/proc/yolo11_baseline_cv/images/TS_5_4_820.png', '/workspace/CZII/proc/yolo11_baseline_cv/images/TS_5_4_830.png', '/workspace/CZII/proc/yolo11_baseline_cv/images/TS_5_4_840.png', '/workspace/CZII/proc/yolo11_baseline_cv/images/TS_5_4_850.png', '/workspace/CZII/proc/yolo11_baseline_cv/images/TS_5_4_860.png', '/workspace/CZII/proc/yolo11_baseline_cv/images/TS_5_4_870.png', '/workspace/CZII/proc/yolo11_baseline_cv/images/TS_5_4_880.png', '/workspace/CZII/proc/yolo11_baseline_cv/images/TS_5_4_890.png', '/workspace/CZII/proc/yolo11_baseline_cv/images/TS_5_4_90.png', '/workspace/CZII/proc/yolo11_baseline_cv/images/TS_5_4_900.png', '/workspace/CZII/proc/yolo11_baseline_cv/images/TS_5_4_910.png', '/workspace/CZII/proc/yolo11_baseline_cv/images/TS_5_4_920.png', '/workspace/CZII/proc/yolo11_baseline_cv/images/TS_5_4_930.png', '/workspace/CZII/proc/yolo11_baseline_cv/images/TS_5_4_940.png', '/workspace/CZII/proc/yolo11_baseline_cv/images/TS_5_4_950.png', '/workspace/CZII/proc/yolo11_baseline_cv/images/TS_5_4_960.png', '/workspace/CZII/proc/yolo11_baseline_cv/images/TS_5_4_970.png', '/workspace/CZII/proc/yolo11_baseline_cv/images/TS_5_4_980.png', '/workspace/CZII/proc/yolo11_baseline_cv/images/TS_5_4_990.png', '/workspace/CZII/proc/yolo11_baseline_cv/images/TS_69_2_0.png', '/workspace/CZII/proc/yolo11_baseline_cv/images/TS_69_2_10.png', '/workspace/CZII/proc/yolo11_baseline_cv/images/TS_69_2_100.png', '/workspace/CZII/proc/yolo11_baseline_cv/images/TS_69_2_1000.png', '/workspace/CZII/proc/yolo11_baseline_cv/images/TS_69_2_1010.png', '/workspace/CZII/proc/yolo11_baseline_cv/images/TS_69_2_1020.png', '/workspace/CZII/proc/yolo11_baseline_cv/images/TS_69_2_1030.png', '/workspace/CZII/proc/yolo11_baseline_cv/images/TS_69_2_1040.png', '/workspace/CZII/proc/yolo11_baseline_cv/images/TS_69_2_1050.png', '/workspace/CZII/proc/yolo11_baseline_cv/images/TS_69_2_1060.png', '/workspace/CZII/proc/yolo11_baseline_cv/images/TS_69_2_1070.png', '/workspace/CZII/proc/yolo11_baseline_cv/images/TS_69_2_1080.png', '/workspace/CZII/proc/yolo11_baseline_cv/images/TS_69_2_1090.png', '/workspace/CZII/proc/yolo11_baseline_cv/images/TS_69_2_110.png', '/workspace/CZII/proc/yolo11_baseline_cv/images/TS_69_2_1100.png', '/workspace/CZII/proc/yolo11_baseline_cv/images/TS_69_2_1110.png', '/workspace/CZII/proc/yolo11_baseline_cv/images/TS_69_2_1120.png', '/workspace/CZII/proc/yolo11_baseline_cv/images/TS_69_2_1130.png', '/workspace/CZII/proc/yolo11_baseline_cv/images/TS_69_2_1140.png', '/workspace/CZII/proc/yolo11_baseline_cv/images/TS_69_2_1150.png', '/workspace/CZII/proc/yolo11_baseline_cv/images/TS_69_2_1160.png', '/workspace/CZII/proc/yolo11_baseline_cv/images/TS_69_2_1170.png', '/workspace/CZII/proc/yolo11_baseline_cv/images/TS_69_2_1180.png', '/workspace/CZII/proc/yolo11_baseline_cv/images/TS_69_2_1190.png', '/workspace/CZII/proc/yolo11_baseline_cv/images/TS_69_2_120.png', '/workspace/CZII/proc/yolo11_baseline_cv/images/TS_69_2_1200.png', '/workspace/CZII/proc/yolo11_baseline_cv/images/TS_69_2_1210.png', '/workspace/CZII/proc/yolo11_baseline_cv/images/TS_69_2_1220.png', '/workspace/CZII/proc/yolo11_baseline_cv/images/TS_69_2_1230.png', '/workspace/CZII/proc/yolo11_baseline_cv/images/TS_69_2_1240.png', '/workspace/CZII/proc/yolo11_baseline_cv/images/TS_69_2_1250.png', '/workspace/CZII/proc/yolo11_baseline_cv/images/TS_69_2_1260.png', '/workspace/CZII/proc/yolo11_baseline_cv/images/TS_69_2_1270.png', '/workspace/CZII/proc/yolo11_baseline_cv/images/TS_69_2_1280.png', '/workspace/CZII/proc/yolo11_baseline_cv/images/TS_69_2_1290.png', '/workspace/CZII/proc/yolo11_baseline_cv/images/TS_69_2_130.png', '/workspace/CZII/proc/yolo11_baseline_cv/images/TS_69_2_1300.png', '/workspace/CZII/proc/yolo11_baseline_cv/images/TS_69_2_1310.png', '/workspace/CZII/proc/yolo11_baseline_cv/images/TS_69_2_1320.png', '/workspace/CZII/proc/yolo11_baseline_cv/images/TS_69_2_1330.png', '/workspace/CZII/proc/yolo11_baseline_cv/images/TS_69_2_1340.png', '/workspace/CZII/proc/yolo11_baseline_cv/images/TS_69_2_1350.png', '/workspace/CZII/proc/yolo11_baseline_cv/images/TS_69_2_1360.png', '/workspace/CZII/proc/yolo11_baseline_cv/images/TS_69_2_1370.png', '/workspace/CZII/proc/yolo11_baseline_cv/images/TS_69_2_1380.png', '/workspace/CZII/proc/yolo11_baseline_cv/images/TS_69_2_1390.png', '/workspace/CZII/proc/yolo11_baseline_cv/images/TS_69_2_140.png', '/workspace/CZII/proc/yolo11_baseline_cv/images/TS_69_2_1400.png', '/workspace/CZII/proc/yolo11_baseline_cv/images/TS_69_2_1410.png', '/workspace/CZII/proc/yolo11_baseline_cv/images/TS_69_2_1420.png', '/workspace/CZII/proc/yolo11_baseline_cv/images/TS_69_2_1430.png', '/workspace/CZII/proc/yolo11_baseline_cv/images/TS_69_2_1440.png', '/workspace/CZII/proc/yolo11_baseline_cv/images/TS_69_2_1450.png', '/workspace/CZII/proc/yolo11_baseline_cv/images/TS_69_2_1460.png', '/workspace/CZII/proc/yolo11_baseline_cv/images/TS_69_2_1470.png', '/workspace/CZII/proc/yolo11_baseline_cv/images/TS_69_2_1480.png', '/workspace/CZII/proc/yolo11_baseline_cv/images/TS_69_2_1490.png', '/workspace/CZII/proc/yolo11_baseline_cv/images/TS_69_2_150.png', '/workspace/CZII/proc/yolo11_baseline_cv/images/TS_69_2_1500.png', '/workspace/CZII/proc/yolo11_baseline_cv/images/TS_69_2_1510.png', '/workspace/CZII/proc/yolo11_baseline_cv/images/TS_69_2_1520.png', '/workspace/CZII/proc/yolo11_baseline_cv/images/TS_69_2_1530.png', '/workspace/CZII/proc/yolo11_baseline_cv/images/TS_69_2_1540.png', '/workspace/CZII/proc/yolo11_baseline_cv/images/TS_69_2_1550.png', '/workspace/CZII/proc/yolo11_baseline_cv/images/TS_69_2_1560.png', '/workspace/CZII/proc/yolo11_baseline_cv/images/TS_69_2_1570.png', '/workspace/CZII/proc/yolo11_baseline_cv/images/TS_69_2_1580.png', '/workspace/CZII/proc/yolo11_baseline_cv/images/TS_69_2_1590.png', '/workspace/CZII/proc/yolo11_baseline_cv/images/TS_69_2_160.png', '/workspace/CZII/proc/yolo11_baseline_cv/images/TS_69_2_1600.png', '/workspace/CZII/proc/yolo11_baseline_cv/images/TS_69_2_1610.png', '/workspace/CZII/proc/yolo11_baseline_cv/images/TS_69_2_1620.png', '/workspace/CZII/proc/yolo11_baseline_cv/images/TS_69_2_1630.png', '/workspace/CZII/proc/yolo11_baseline_cv/images/TS_69_2_1640.png', '/workspace/CZII/proc/yolo11_baseline_cv/images/TS_69_2_1650.png', '/workspace/CZII/proc/yolo11_baseline_cv/images/TS_69_2_1660.png', '/workspace/CZII/proc/yolo11_baseline_cv/images/TS_69_2_1670.png', '/workspace/CZII/proc/yolo11_baseline_cv/images/TS_69_2_1680.png', '/workspace/CZII/proc/yolo11_baseline_cv/images/TS_69_2_1690.png', '/workspace/CZII/proc/yolo11_baseline_cv/images/TS_69_2_170.png', '/workspace/CZII/proc/yolo11_baseline_cv/images/TS_69_2_1700.png', '/workspace/CZII/proc/yolo11_baseline_cv/images/TS_69_2_1710.png', '/workspace/CZII/proc/yolo11_baseline_cv/images/TS_69_2_1720.png', '/workspace/CZII/proc/yolo11_baseline_cv/images/TS_69_2_1730.png', '/workspace/CZII/proc/yolo11_baseline_cv/images/TS_69_2_1740.png', '/workspace/CZII/proc/yolo11_baseline_cv/images/TS_69_2_1750.png', '/workspace/CZII/proc/yolo11_baseline_cv/images/TS_69_2_1760.png', '/workspace/CZII/proc/yolo11_baseline_cv/images/TS_69_2_1770.png', '/workspace/CZII/proc/yolo11_baseline_cv/images/TS_69_2_1780.png', '/workspace/CZII/proc/yolo11_baseline_cv/images/TS_69_2_1790.png', '/workspace/CZII/proc/yolo11_baseline_cv/images/TS_69_2_180.png', '/workspace/CZII/proc/yolo11_baseline_cv/images/TS_69_2_1800.png', '/workspace/CZII/proc/yolo11_baseline_cv/images/TS_69_2_1810.png', '/workspace/CZII/proc/yolo11_baseline_cv/images/TS_69_2_1820.png', '/workspace/CZII/proc/yolo11_baseline_cv/images/TS_69_2_1830.png', '/workspace/CZII/proc/yolo11_baseline_cv/images/TS_69_2_190.png', '/workspace/CZII/proc/yolo11_baseline_cv/images/TS_69_2_20.png', '/workspace/CZII/proc/yolo11_baseline_cv/images/TS_69_2_200.png', '/workspace/CZII/proc/yolo11_baseline_cv/images/TS_69_2_210.png', '/workspace/CZII/proc/yolo11_baseline_cv/images/TS_69_2_220.png', '/workspace/CZII/proc/yolo11_baseline_cv/images/TS_69_2_230.png', '/workspace/CZII/proc/yolo11_baseline_cv/images/TS_69_2_240.png', '/workspace/CZII/proc/yolo11_baseline_cv/images/TS_69_2_250.png', '/workspace/CZII/proc/yolo11_baseline_cv/images/TS_69_2_260.png', '/workspace/CZII/proc/yolo11_baseline_cv/images/TS_69_2_270.png', '/workspace/CZII/proc/yolo11_baseline_cv/images/TS_69_2_280.png', '/workspace/CZII/proc/yolo11_baseline_cv/images/TS_69_2_290.png', '/workspace/CZII/proc/yolo11_baseline_cv/images/TS_69_2_30.png', '/workspace/CZII/proc/yolo11_baseline_cv/images/TS_69_2_300.png', '/workspace/CZII/proc/yolo11_baseline_cv/images/TS_69_2_310.png', '/workspace/CZII/proc/yolo11_baseline_cv/images/TS_69_2_320.png', '/workspace/CZII/proc/yolo11_baseline_cv/images/TS_69_2_330.png', '/workspace/CZII/proc/yolo11_baseline_cv/images/TS_69_2_340.png', '/workspace/CZII/proc/yolo11_baseline_cv/images/TS_69_2_350.png', '/workspace/CZII/proc/yolo11_baseline_cv/images/TS_69_2_360.png', '/workspace/CZII/proc/yolo11_baseline_cv/images/TS_69_2_370.png', '/workspace/CZII/proc/yolo11_baseline_cv/images/TS_69_2_380.png', '/workspace/CZII/proc/yolo11_baseline_cv/images/TS_69_2_390.png', '/workspace/CZII/proc/yolo11_baseline_cv/images/TS_69_2_40.png', '/workspace/CZII/proc/yolo11_baseline_cv/images/TS_69_2_400.png', '/workspace/CZII/proc/yolo11_baseline_cv/images/TS_69_2_410.png', '/workspace/CZII/proc/yolo11_baseline_cv/images/TS_69_2_420.png', '/workspace/CZII/proc/yolo11_baseline_cv/images/TS_69_2_430.png', '/workspace/CZII/proc/yolo11_baseline_cv/images/TS_69_2_440.png', '/workspace/CZII/proc/yolo11_baseline_cv/images/TS_69_2_450.png', '/workspace/CZII/proc/yolo11_baseline_cv/images/TS_69_2_460.png', '/workspace/CZII/proc/yolo11_baseline_cv/images/TS_69_2_470.png', '/workspace/CZII/proc/yolo11_baseline_cv/images/TS_69_2_480.png', '/workspace/CZII/proc/yolo11_baseline_cv/images/TS_69_2_490.png', '/workspace/CZII/proc/yolo11_baseline_cv/images/TS_69_2_50.png', '/workspace/CZII/proc/yolo11_baseline_cv/images/TS_69_2_500.png', '/workspace/CZII/proc/yolo11_baseline_cv/images/TS_69_2_510.png', '/workspace/CZII/proc/yolo11_baseline_cv/images/TS_69_2_520.png', '/workspace/CZII/proc/yolo11_baseline_cv/images/TS_69_2_530.png', '/workspace/CZII/proc/yolo11_baseline_cv/images/TS_69_2_540.png', '/workspace/CZII/proc/yolo11_baseline_cv/images/TS_69_2_550.png', '/workspace/CZII/proc/yolo11_baseline_cv/images/TS_69_2_560.png', '/workspace/CZII/proc/yolo11_baseline_cv/images/TS_69_2_570.png', '/workspace/CZII/proc/yolo11_baseline_cv/images/TS_69_2_580.png', '/workspace/CZII/proc/yolo11_baseline_cv/images/TS_69_2_590.png', '/workspace/CZII/proc/yolo11_baseline_cv/images/TS_69_2_60.png', '/workspace/CZII/proc/yolo11_baseline_cv/images/TS_69_2_600.png', '/workspace/CZII/proc/yolo11_baseline_cv/images/TS_69_2_610.png', '/workspace/CZII/proc/yolo11_baseline_cv/images/TS_69_2_620.png', '/workspace/CZII/proc/yolo11_baseline_cv/images/TS_69_2_630.png', '/workspace/CZII/proc/yolo11_baseline_cv/images/TS_69_2_640.png', '/workspace/CZII/proc/yolo11_baseline_cv/images/TS_69_2_650.png', '/workspace/CZII/proc/yolo11_baseline_cv/images/TS_69_2_660.png', '/workspace/CZII/proc/yolo11_baseline_cv/images/TS_69_2_670.png', '/workspace/CZII/proc/yolo11_baseline_cv/images/TS_69_2_680.png', '/workspace/CZII/proc/yolo11_baseline_cv/images/TS_69_2_690.png', '/workspace/CZII/proc/yolo11_baseline_cv/images/TS_69_2_70.png', '/workspace/CZII/proc/yolo11_baseline_cv/images/TS_69_2_700.png', '/workspace/CZII/proc/yolo11_baseline_cv/images/TS_69_2_710.png', '/workspace/CZII/proc/yolo11_baseline_cv/images/TS_69_2_720.png', '/workspace/CZII/proc/yolo11_baseline_cv/images/TS_69_2_730.png', '/workspace/CZII/proc/yolo11_baseline_cv/images/TS_69_2_740.png', '/workspace/CZII/proc/yolo11_baseline_cv/images/TS_69_2_750.png', '/workspace/CZII/proc/yolo11_baseline_cv/images/TS_69_2_760.png', '/workspace/CZII/proc/yolo11_baseline_cv/images/TS_69_2_770.png', '/workspace/CZII/proc/yolo11_baseline_cv/images/TS_69_2_780.png', '/workspace/CZII/proc/yolo11_baseline_cv/images/TS_69_2_790.png', '/workspace/CZII/proc/yolo11_baseline_cv/images/TS_69_2_80.png', '/workspace/CZII/proc/yolo11_baseline_cv/images/TS_69_2_800.png', '/workspace/CZII/proc/yolo11_baseline_cv/images/TS_69_2_810.png', '/workspace/CZII/proc/yolo11_baseline_cv/images/TS_69_2_820.png', '/workspace/CZII/proc/yolo11_baseline_cv/images/TS_69_2_830.png', '/workspace/CZII/proc/yolo11_baseline_cv/images/TS_69_2_840.png', '/workspace/CZII/proc/yolo11_baseline_cv/images/TS_69_2_850.png', '/workspace/CZII/proc/yolo11_baseline_cv/images/TS_69_2_860.png', '/workspace/CZII/proc/yolo11_baseline_cv/images/TS_69_2_870.png', '/workspace/CZII/proc/yolo11_baseline_cv/images/TS_69_2_880.png', '/workspace/CZII/proc/yolo11_baseline_cv/images/TS_69_2_890.png', '/workspace/CZII/proc/yolo11_baseline_cv/images/TS_69_2_90.png', '/workspace/CZII/proc/yolo11_baseline_cv/images/TS_69_2_900.png', '/workspace/CZII/proc/yolo11_baseline_cv/images/TS_69_2_910.png', '/workspace/CZII/proc/yolo11_baseline_cv/images/TS_69_2_920.png', '/workspace/CZII/proc/yolo11_baseline_cv/images/TS_69_2_930.png', '/workspace/CZII/proc/yolo11_baseline_cv/images/TS_69_2_940.png', '/workspace/CZII/proc/yolo11_baseline_cv/images/TS_69_2_950.png', '/workspace/CZII/proc/yolo11_baseline_cv/images/TS_69_2_960.png', '/workspace/CZII/proc/yolo11_baseline_cv/images/TS_69_2_970.png', '/workspace/CZII/proc/yolo11_baseline_cv/images/TS_69_2_980.png', '/workspace/CZII/proc/yolo11_baseline_cv/images/TS_69_2_990.png', '/workspace/CZII/proc/yolo11_baseline_cv/images/TS_6_4_0.png', '/workspace/CZII/proc/yolo11_baseline_cv/images/TS_6_4_10.png', '/workspace/CZII/proc/yolo11_baseline_cv/images/TS_6_4_100.png', '/workspace/CZII/proc/yolo11_baseline_cv/images/TS_6_4_1000.png', '/workspace/CZII/proc/yolo11_baseline_cv/images/TS_6_4_1010.png', '/workspace/CZII/proc/yolo11_baseline_cv/images/TS_6_4_1020.png', '/workspace/CZII/proc/yolo11_baseline_cv/images/TS_6_4_1030.png', '/workspace/CZII/proc/yolo11_baseline_cv/images/TS_6_4_1040.png', '/workspace/CZII/proc/yolo11_baseline_cv/images/TS_6_4_1050.png', '/workspace/CZII/proc/yolo11_baseline_cv/images/TS_6_4_1060.png', '/workspace/CZII/proc/yolo11_baseline_cv/images/TS_6_4_1070.png', '/workspace/CZII/proc/yolo11_baseline_cv/images/TS_6_4_1080.png', '/workspace/CZII/proc/yolo11_baseline_cv/images/TS_6_4_1090.png', '/workspace/CZII/proc/yolo11_baseline_cv/images/TS_6_4_110.png', '/workspace/CZII/proc/yolo11_baseline_cv/images/TS_6_4_1100.png', '/workspace/CZII/proc/yolo11_baseline_cv/images/TS_6_4_1110.png', '/workspace/CZII/proc/yolo11_baseline_cv/images/TS_6_4_1120.png', '/workspace/CZII/proc/yolo11_baseline_cv/images/TS_6_4_1130.png', '/workspace/CZII/proc/yolo11_baseline_cv/images/TS_6_4_1140.png', '/workspace/CZII/proc/yolo11_baseline_cv/images/TS_6_4_1150.png', '/workspace/CZII/proc/yolo11_baseline_cv/images/TS_6_4_1160.png', '/workspace/CZII/proc/yolo11_baseline_cv/images/TS_6_4_1170.png', '/workspace/CZII/proc/yolo11_baseline_cv/images/TS_6_4_1180.png', '/workspace/CZII/proc/yolo11_baseline_cv/images/TS_6_4_1190.png', '/workspace/CZII/proc/yolo11_baseline_cv/images/TS_6_4_120.png', '/workspace/CZII/proc/yolo11_baseline_cv/images/TS_6_4_1200.png', '/workspace/CZII/proc/yolo11_baseline_cv/images/TS_6_4_1210.png', '/workspace/CZII/proc/yolo11_baseline_cv/images/TS_6_4_1220.png', '/workspace/CZII/proc/yolo11_baseline_cv/images/TS_6_4_1230.png', '/workspace/CZII/proc/yolo11_baseline_cv/images/TS_6_4_1240.png', '/workspace/CZII/proc/yolo11_baseline_cv/images/TS_6_4_1250.png', '/workspace/CZII/proc/yolo11_baseline_cv/images/TS_6_4_1260.png', '/workspace/CZII/proc/yolo11_baseline_cv/images/TS_6_4_1270.png', '/workspace/CZII/proc/yolo11_baseline_cv/images/TS_6_4_1280.png', '/workspace/CZII/proc/yolo11_baseline_cv/images/TS_6_4_1290.png', '/workspace/CZII/proc/yolo11_baseline_cv/images/TS_6_4_130.png', '/workspace/CZII/proc/yolo11_baseline_cv/images/TS_6_4_1300.png', '/workspace/CZII/proc/yolo11_baseline_cv/images/TS_6_4_1310.png', '/workspace/CZII/proc/yolo11_baseline_cv/images/TS_6_4_1320.png', '/workspace/CZII/proc/yolo11_baseline_cv/images/TS_6_4_1330.png', '/workspace/CZII/proc/yolo11_baseline_cv/images/TS_6_4_1340.png', '/workspace/CZII/proc/yolo11_baseline_cv/images/TS_6_4_1350.png', '/workspace/CZII/proc/yolo11_baseline_cv/images/TS_6_4_1360.png', '/workspace/CZII/proc/yolo11_baseline_cv/images/TS_6_4_1370.png', '/workspace/CZII/proc/yolo11_baseline_cv/images/TS_6_4_1380.png', '/workspace/CZII/proc/yolo11_baseline_cv/images/TS_6_4_1390.png', '/workspace/CZII/proc/yolo11_baseline_cv/images/TS_6_4_140.png', '/workspace/CZII/proc/yolo11_baseline_cv/images/TS_6_4_1400.png', '/workspace/CZII/proc/yolo11_baseline_cv/images/TS_6_4_1410.png', '/workspace/CZII/proc/yolo11_baseline_cv/images/TS_6_4_1420.png', '/workspace/CZII/proc/yolo11_baseline_cv/images/TS_6_4_1430.png', '/workspace/CZII/proc/yolo11_baseline_cv/images/TS_6_4_1440.png', '/workspace/CZII/proc/yolo11_baseline_cv/images/TS_6_4_1450.png', '/workspace/CZII/proc/yolo11_baseline_cv/images/TS_6_4_1460.png', '/workspace/CZII/proc/yolo11_baseline_cv/images/TS_6_4_1470.png', '/workspace/CZII/proc/yolo11_baseline_cv/images/TS_6_4_1480.png', '/workspace/CZII/proc/yolo11_baseline_cv/images/TS_6_4_1490.png', '/workspace/CZII/proc/yolo11_baseline_cv/images/TS_6_4_150.png', '/workspace/CZII/proc/yolo11_baseline_cv/images/TS_6_4_1500.png', '/workspace/CZII/proc/yolo11_baseline_cv/images/TS_6_4_1510.png', '/workspace/CZII/proc/yolo11_baseline_cv/images/TS_6_4_1520.png', '/workspace/CZII/proc/yolo11_baseline_cv/images/TS_6_4_1530.png', '/workspace/CZII/proc/yolo11_baseline_cv/images/TS_6_4_1540.png', '/workspace/CZII/proc/yolo11_baseline_cv/images/TS_6_4_1550.png', '/workspace/CZII/proc/yolo11_baseline_cv/images/TS_6_4_1560.png', '/workspace/CZII/proc/yolo11_baseline_cv/images/TS_6_4_1570.png', '/workspace/CZII/proc/yolo11_baseline_cv/images/TS_6_4_1580.png', '/workspace/CZII/proc/yolo11_baseline_cv/images/TS_6_4_1590.png', '/workspace/CZII/proc/yolo11_baseline_cv/images/TS_6_4_160.png', '/workspace/CZII/proc/yolo11_baseline_cv/images/TS_6_4_1600.png', '/workspace/CZII/proc/yolo11_baseline_cv/images/TS_6_4_1610.png', '/workspace/CZII/proc/yolo11_baseline_cv/images/TS_6_4_1620.png', '/workspace/CZII/proc/yolo11_baseline_cv/images/TS_6_4_1630.png', '/workspace/CZII/proc/yolo11_baseline_cv/images/TS_6_4_1640.png', '/workspace/CZII/proc/yolo11_baseline_cv/images/TS_6_4_1650.png', '/workspace/CZII/proc/yolo11_baseline_cv/images/TS_6_4_1660.png', '/workspace/CZII/proc/yolo11_baseline_cv/images/TS_6_4_1670.png', '/workspace/CZII/proc/yolo11_baseline_cv/images/TS_6_4_1680.png', '/workspace/CZII/proc/yolo11_baseline_cv/images/TS_6_4_1690.png', '/workspace/CZII/proc/yolo11_baseline_cv/images/TS_6_4_170.png', '/workspace/CZII/proc/yolo11_baseline_cv/images/TS_6_4_1700.png', '/workspace/CZII/proc/yolo11_baseline_cv/images/TS_6_4_1710.png', '/workspace/CZII/proc/yolo11_baseline_cv/images/TS_6_4_1720.png', '/workspace/CZII/proc/yolo11_baseline_cv/images/TS_6_4_1730.png', '/workspace/CZII/proc/yolo11_baseline_cv/images/TS_6_4_1740.png', '/workspace/CZII/proc/yolo11_baseline_cv/images/TS_6_4_1750.png', '/workspace/CZII/proc/yolo11_baseline_cv/images/TS_6_4_1760.png', '/workspace/CZII/proc/yolo11_baseline_cv/images/TS_6_4_1770.png', '/workspace/CZII/proc/yolo11_baseline_cv/images/TS_6_4_1780.png', '/workspace/CZII/proc/yolo11_baseline_cv/images/TS_6_4_1790.png', '/workspace/CZII/proc/yolo11_baseline_cv/images/TS_6_4_180.png', '/workspace/CZII/proc/yolo11_baseline_cv/images/TS_6_4_1800.png', '/workspace/CZII/proc/yolo11_baseline_cv/images/TS_6_4_1810.png', '/workspace/CZII/proc/yolo11_baseline_cv/images/TS_6_4_1820.png', '/workspace/CZII/proc/yolo11_baseline_cv/images/TS_6_4_1830.png', '/workspace/CZII/proc/yolo11_baseline_cv/images/TS_6_4_190.png', '/workspace/CZII/proc/yolo11_baseline_cv/images/TS_6_4_20.png', '/workspace/CZII/proc/yolo11_baseline_cv/images/TS_6_4_200.png', '/workspace/CZII/proc/yolo11_baseline_cv/images/TS_6_4_210.png', '/workspace/CZII/proc/yolo11_baseline_cv/images/TS_6_4_220.png', '/workspace/CZII/proc/yolo11_baseline_cv/images/TS_6_4_230.png', '/workspace/CZII/proc/yolo11_baseline_cv/images/TS_6_4_240.png', '/workspace/CZII/proc/yolo11_baseline_cv/images/TS_6_4_250.png', '/workspace/CZII/proc/yolo11_baseline_cv/images/TS_6_4_260.png', '/workspace/CZII/proc/yolo11_baseline_cv/images/TS_6_4_270.png', '/workspace/CZII/proc/yolo11_baseline_cv/images/TS_6_4_280.png', '/workspace/CZII/proc/yolo11_baseline_cv/images/TS_6_4_290.png', '/workspace/CZII/proc/yolo11_baseline_cv/images/TS_6_4_30.png', '/workspace/CZII/proc/yolo11_baseline_cv/images/TS_6_4_300.png', '/workspace/CZII/proc/yolo11_baseline_cv/images/TS_6_4_310.png', '/workspace/CZII/proc/yolo11_baseline_cv/images/TS_6_4_320.png', '/workspace/CZII/proc/yolo11_baseline_cv/images/TS_6_4_330.png', '/workspace/CZII/proc/yolo11_baseline_cv/images/TS_6_4_340.png', '/workspace/CZII/proc/yolo11_baseline_cv/images/TS_6_4_350.png', '/workspace/CZII/proc/yolo11_baseline_cv/images/TS_6_4_360.png', '/workspace/CZII/proc/yolo11_baseline_cv/images/TS_6_4_370.png', '/workspace/CZII/proc/yolo11_baseline_cv/images/TS_6_4_380.png', '/workspace/CZII/proc/yolo11_baseline_cv/images/TS_6_4_390.png', '/workspace/CZII/proc/yolo11_baseline_cv/images/TS_6_4_40.png', '/workspace/CZII/proc/yolo11_baseline_cv/images/TS_6_4_400.png', '/workspace/CZII/proc/yolo11_baseline_cv/images/TS_6_4_410.png', '/workspace/CZII/proc/yolo11_baseline_cv/images/TS_6_4_420.png', '/workspace/CZII/proc/yolo11_baseline_cv/images/TS_6_4_430.png', '/workspace/CZII/proc/yolo11_baseline_cv/images/TS_6_4_440.png', '/workspace/CZII/proc/yolo11_baseline_cv/images/TS_6_4_450.png', '/workspace/CZII/proc/yolo11_baseline_cv/images/TS_6_4_460.png', '/workspace/CZII/proc/yolo11_baseline_cv/images/TS_6_4_470.png', '/workspace/CZII/proc/yolo11_baseline_cv/images/TS_6_4_480.png', '/workspace/CZII/proc/yolo11_baseline_cv/images/TS_6_4_490.png', '/workspace/CZII/proc/yolo11_baseline_cv/images/TS_6_4_50.png', '/workspace/CZII/proc/yolo11_baseline_cv/images/TS_6_4_500.png', '/workspace/CZII/proc/yolo11_baseline_cv/images/TS_6_4_510.png', '/workspace/CZII/proc/yolo11_baseline_cv/images/TS_6_4_520.png', '/workspace/CZII/proc/yolo11_baseline_cv/images/TS_6_4_530.png', '/workspace/CZII/proc/yolo11_baseline_cv/images/TS_6_4_540.png', '/workspace/CZII/proc/yolo11_baseline_cv/images/TS_6_4_550.png', '/workspace/CZII/proc/yolo11_baseline_cv/images/TS_6_4_560.png', '/workspace/CZII/proc/yolo11_baseline_cv/images/TS_6_4_570.png', '/workspace/CZII/proc/yolo11_baseline_cv/images/TS_6_4_580.png', '/workspace/CZII/proc/yolo11_baseline_cv/images/TS_6_4_590.png', '/workspace/CZII/proc/yolo11_baseline_cv/images/TS_6_4_60.png', '/workspace/CZII/proc/yolo11_baseline_cv/images/TS_6_4_600.png', '/workspace/CZII/proc/yolo11_baseline_cv/images/TS_6_4_610.png', '/workspace/CZII/proc/yolo11_baseline_cv/images/TS_6_4_620.png', '/workspace/CZII/proc/yolo11_baseline_cv/images/TS_6_4_630.png', '/workspace/CZII/proc/yolo11_baseline_cv/images/TS_6_4_640.png', '/workspace/CZII/proc/yolo11_baseline_cv/images/TS_6_4_650.png', '/workspace/CZII/proc/yolo11_baseline_cv/images/TS_6_4_660.png', '/workspace/CZII/proc/yolo11_baseline_cv/images/TS_6_4_670.png', '/workspace/CZII/proc/yolo11_baseline_cv/images/TS_6_4_680.png', '/workspace/CZII/proc/yolo11_baseline_cv/images/TS_6_4_690.png', '/workspace/CZII/proc/yolo11_baseline_cv/images/TS_6_4_70.png', '/workspace/CZII/proc/yolo11_baseline_cv/images/TS_6_4_700.png', '/workspace/CZII/proc/yolo11_baseline_cv/images/TS_6_4_710.png', '/workspace/CZII/proc/yolo11_baseline_cv/images/TS_6_4_720.png', '/workspace/CZII/proc/yolo11_baseline_cv/images/TS_6_4_730.png', '/workspace/CZII/proc/yolo11_baseline_cv/images/TS_6_4_740.png', '/workspace/CZII/proc/yolo11_baseline_cv/images/TS_6_4_750.png', '/workspace/CZII/proc/yolo11_baseline_cv/images/TS_6_4_760.png', '/workspace/CZII/proc/yolo11_baseline_cv/images/TS_6_4_770.png', '/workspace/CZII/proc/yolo11_baseline_cv/images/TS_6_4_780.png', '/workspace/CZII/proc/yolo11_baseline_cv/images/TS_6_4_790.png', '/workspace/CZII/proc/yolo11_baseline_cv/images/TS_6_4_80.png', '/workspace/CZII/proc/yolo11_baseline_cv/images/TS_6_4_800.png', '/workspace/CZII/proc/yolo11_baseline_cv/images/TS_6_4_810.png', '/workspace/CZII/proc/yolo11_baseline_cv/images/TS_6_4_820.png', '/workspace/CZII/proc/yolo11_baseline_cv/images/TS_6_4_830.png', '/workspace/CZII/proc/yolo11_baseline_cv/images/TS_6_4_840.png', '/workspace/CZII/proc/yolo11_baseline_cv/images/TS_6_4_850.png', '/workspace/CZII/proc/yolo11_baseline_cv/images/TS_6_4_860.png', '/workspace/CZII/proc/yolo11_baseline_cv/images/TS_6_4_870.png', '/workspace/CZII/proc/yolo11_baseline_cv/images/TS_6_4_880.png', '/workspace/CZII/proc/yolo11_baseline_cv/images/TS_6_4_890.png', '/workspace/CZII/proc/yolo11_baseline_cv/images/TS_6_4_90.png', '/workspace/CZII/proc/yolo11_baseline_cv/images/TS_6_4_900.png', '/workspace/CZII/proc/yolo11_baseline_cv/images/TS_6_4_910.png', '/workspace/CZII/proc/yolo11_baseline_cv/images/TS_6_4_920.png', '/workspace/CZII/proc/yolo11_baseline_cv/images/TS_6_4_930.png', '/workspace/CZII/proc/yolo11_baseline_cv/images/TS_6_4_940.png', '/workspace/CZII/proc/yolo11_baseline_cv/images/TS_6_4_950.png', '/workspace/CZII/proc/yolo11_baseline_cv/images/TS_6_4_960.png', '/workspace/CZII/proc/yolo11_baseline_cv/images/TS_6_4_970.png', '/workspace/CZII/proc/yolo11_baseline_cv/images/TS_6_4_980.png', '/workspace/CZII/proc/yolo11_baseline_cv/images/TS_6_4_990.png', '/workspace/CZII/proc/yolo11_baseline_cv/images/TS_6_6_0.png', '/workspace/CZII/proc/yolo11_baseline_cv/images/TS_6_6_10.png', '/workspace/CZII/proc/yolo11_baseline_cv/images/TS_6_6_100.png', '/workspace/CZII/proc/yolo11_baseline_cv/images/TS_6_6_1000.png', '/workspace/CZII/proc/yolo11_baseline_cv/images/TS_6_6_1010.png', '/workspace/CZII/proc/yolo11_baseline_cv/images/TS_6_6_1020.png', '/workspace/CZII/proc/yolo11_baseline_cv/images/TS_6_6_1030.png', '/workspace/CZII/proc/yolo11_baseline_cv/images/TS_6_6_1040.png', '/workspace/CZII/proc/yolo11_baseline_cv/images/TS_6_6_1050.png', '/workspace/CZII/proc/yolo11_baseline_cv/images/TS_6_6_1060.png', '/workspace/CZII/proc/yolo11_baseline_cv/images/TS_6_6_1070.png', '/workspace/CZII/proc/yolo11_baseline_cv/images/TS_6_6_1080.png', '/workspace/CZII/proc/yolo11_baseline_cv/images/TS_6_6_1090.png', '/workspace/CZII/proc/yolo11_baseline_cv/images/TS_6_6_110.png', '/workspace/CZII/proc/yolo11_baseline_cv/images/TS_6_6_1100.png', '/workspace/CZII/proc/yolo11_baseline_cv/images/TS_6_6_1110.png', '/workspace/CZII/proc/yolo11_baseline_cv/images/TS_6_6_1120.png', '/workspace/CZII/proc/yolo11_baseline_cv/images/TS_6_6_1130.png', '/workspace/CZII/proc/yolo11_baseline_cv/images/TS_6_6_1140.png', '/workspace/CZII/proc/yolo11_baseline_cv/images/TS_6_6_1150.png', '/workspace/CZII/proc/yolo11_baseline_cv/images/TS_6_6_1160.png', '/workspace/CZII/proc/yolo11_baseline_cv/images/TS_6_6_1170.png', '/workspace/CZII/proc/yolo11_baseline_cv/images/TS_6_6_1180.png', '/workspace/CZII/proc/yolo11_baseline_cv/images/TS_6_6_1190.png', '/workspace/CZII/proc/yolo11_baseline_cv/images/TS_6_6_120.png', '/workspace/CZII/proc/yolo11_baseline_cv/images/TS_6_6_1200.png', '/workspace/CZII/proc/yolo11_baseline_cv/images/TS_6_6_1210.png', '/workspace/CZII/proc/yolo11_baseline_cv/images/TS_6_6_1220.png', '/workspace/CZII/proc/yolo11_baseline_cv/images/TS_6_6_1230.png', '/workspace/CZII/proc/yolo11_baseline_cv/images/TS_6_6_1240.png', '/workspace/CZII/proc/yolo11_baseline_cv/images/TS_6_6_1250.png', '/workspace/CZII/proc/yolo11_baseline_cv/images/TS_6_6_1260.png', '/workspace/CZII/proc/yolo11_baseline_cv/images/TS_6_6_1270.png', '/workspace/CZII/proc/yolo11_baseline_cv/images/TS_6_6_1280.png', '/workspace/CZII/proc/yolo11_baseline_cv/images/TS_6_6_1290.png', '/workspace/CZII/proc/yolo11_baseline_cv/images/TS_6_6_130.png', '/workspace/CZII/proc/yolo11_baseline_cv/images/TS_6_6_1300.png', '/workspace/CZII/proc/yolo11_baseline_cv/images/TS_6_6_1310.png', '/workspace/CZII/proc/yolo11_baseline_cv/images/TS_6_6_1320.png', '/workspace/CZII/proc/yolo11_baseline_cv/images/TS_6_6_1330.png', '/workspace/CZII/proc/yolo11_baseline_cv/images/TS_6_6_1340.png', '/workspace/CZII/proc/yolo11_baseline_cv/images/TS_6_6_1350.png', '/workspace/CZII/proc/yolo11_baseline_cv/images/TS_6_6_1360.png', '/workspace/CZII/proc/yolo11_baseline_cv/images/TS_6_6_1370.png', '/workspace/CZII/proc/yolo11_baseline_cv/images/TS_6_6_1380.png', '/workspace/CZII/proc/yolo11_baseline_cv/images/TS_6_6_1390.png', '/workspace/CZII/proc/yolo11_baseline_cv/images/TS_6_6_140.png', '/workspace/CZII/proc/yolo11_baseline_cv/images/TS_6_6_1400.png', '/workspace/CZII/proc/yolo11_baseline_cv/images/TS_6_6_1410.png', '/workspace/CZII/proc/yolo11_baseline_cv/images/TS_6_6_1420.png', '/workspace/CZII/proc/yolo11_baseline_cv/images/TS_6_6_1430.png', '/workspace/CZII/proc/yolo11_baseline_cv/images/TS_6_6_1440.png', '/workspace/CZII/proc/yolo11_baseline_cv/images/TS_6_6_1450.png', '/workspace/CZII/proc/yolo11_baseline_cv/images/TS_6_6_1460.png', '/workspace/CZII/proc/yolo11_baseline_cv/images/TS_6_6_1470.png', '/workspace/CZII/proc/yolo11_baseline_cv/images/TS_6_6_1480.png', '/workspace/CZII/proc/yolo11_baseline_cv/images/TS_6_6_1490.png', '/workspace/CZII/proc/yolo11_baseline_cv/images/TS_6_6_150.png', '/workspace/CZII/proc/yolo11_baseline_cv/images/TS_6_6_1500.png', '/workspace/CZII/proc/yolo11_baseline_cv/images/TS_6_6_1510.png', '/workspace/CZII/proc/yolo11_baseline_cv/images/TS_6_6_1520.png', '/workspace/CZII/proc/yolo11_baseline_cv/images/TS_6_6_1530.png', '/workspace/CZII/proc/yolo11_baseline_cv/images/TS_6_6_1540.png', '/workspace/CZII/proc/yolo11_baseline_cv/images/TS_6_6_1550.png', '/workspace/CZII/proc/yolo11_baseline_cv/images/TS_6_6_1560.png', '/workspace/CZII/proc/yolo11_baseline_cv/images/TS_6_6_1570.png', '/workspace/CZII/proc/yolo11_baseline_cv/images/TS_6_6_1580.png', '/workspace/CZII/proc/yolo11_baseline_cv/images/TS_6_6_1590.png', '/workspace/CZII/proc/yolo11_baseline_cv/images/TS_6_6_160.png', '/workspace/CZII/proc/yolo11_baseline_cv/images/TS_6_6_1600.png', '/workspace/CZII/proc/yolo11_baseline_cv/images/TS_6_6_1610.png', '/workspace/CZII/proc/yolo11_baseline_cv/images/TS_6_6_1620.png', '/workspace/CZII/proc/yolo11_baseline_cv/images/TS_6_6_1630.png', '/workspace/CZII/proc/yolo11_baseline_cv/images/TS_6_6_1640.png', '/workspace/CZII/proc/yolo11_baseline_cv/images/TS_6_6_1650.png', '/workspace/CZII/proc/yolo11_baseline_cv/images/TS_6_6_1660.png', '/workspace/CZII/proc/yolo11_baseline_cv/images/TS_6_6_1670.png', '/workspace/CZII/proc/yolo11_baseline_cv/images/TS_6_6_1680.png', '/workspace/CZII/proc/yolo11_baseline_cv/images/TS_6_6_1690.png', '/workspace/CZII/proc/yolo11_baseline_cv/images/TS_6_6_170.png', '/workspace/CZII/proc/yolo11_baseline_cv/images/TS_6_6_1700.png', '/workspace/CZII/proc/yolo11_baseline_cv/images/TS_6_6_1710.png', '/workspace/CZII/proc/yolo11_baseline_cv/images/TS_6_6_1720.png', '/workspace/CZII/proc/yolo11_baseline_cv/images/TS_6_6_1730.png', '/workspace/CZII/proc/yolo11_baseline_cv/images/TS_6_6_1740.png', '/workspace/CZII/proc/yolo11_baseline_cv/images/TS_6_6_1750.png', '/workspace/CZII/proc/yolo11_baseline_cv/images/TS_6_6_1760.png', '/workspace/CZII/proc/yolo11_baseline_cv/images/TS_6_6_1770.png', '/workspace/CZII/proc/yolo11_baseline_cv/images/TS_6_6_1780.png', '/workspace/CZII/proc/yolo11_baseline_cv/images/TS_6_6_1790.png', '/workspace/CZII/proc/yolo11_baseline_cv/images/TS_6_6_180.png', '/workspace/CZII/proc/yolo11_baseline_cv/images/TS_6_6_1800.png', '/workspace/CZII/proc/yolo11_baseline_cv/images/TS_6_6_1810.png', '/workspace/CZII/proc/yolo11_baseline_cv/images/TS_6_6_1820.png', '/workspace/CZII/proc/yolo11_baseline_cv/images/TS_6_6_1830.png', '/workspace/CZII/proc/yolo11_baseline_cv/images/TS_6_6_190.png', '/workspace/CZII/proc/yolo11_baseline_cv/images/TS_6_6_20.png', '/workspace/CZII/proc/yolo11_baseline_cv/images/TS_6_6_200.png', '/workspace/CZII/proc/yolo11_baseline_cv/images/TS_6_6_210.png', '/workspace/CZII/proc/yolo11_baseline_cv/images/TS_6_6_220.png', '/workspace/CZII/proc/yolo11_baseline_cv/images/TS_6_6_230.png', '/workspace/CZII/proc/yolo11_baseline_cv/images/TS_6_6_240.png', '/workspace/CZII/proc/yolo11_baseline_cv/images/TS_6_6_250.png', '/workspace/CZII/proc/yolo11_baseline_cv/images/TS_6_6_260.png', '/workspace/CZII/proc/yolo11_baseline_cv/images/TS_6_6_270.png', '/workspace/CZII/proc/yolo11_baseline_cv/images/TS_6_6_280.png', '/workspace/CZII/proc/yolo11_baseline_cv/images/TS_6_6_290.png', '/workspace/CZII/proc/yolo11_baseline_cv/images/TS_6_6_30.png', '/workspace/CZII/proc/yolo11_baseline_cv/images/TS_6_6_300.png', '/workspace/CZII/proc/yolo11_baseline_cv/images/TS_6_6_310.png', '/workspace/CZII/proc/yolo11_baseline_cv/images/TS_6_6_320.png', '/workspace/CZII/proc/yolo11_baseline_cv/images/TS_6_6_330.png', '/workspace/CZII/proc/yolo11_baseline_cv/images/TS_6_6_340.png', '/workspace/CZII/proc/yolo11_baseline_cv/images/TS_6_6_350.png', '/workspace/CZII/proc/yolo11_baseline_cv/images/TS_6_6_360.png', '/workspace/CZII/proc/yolo11_baseline_cv/images/TS_6_6_370.png', '/workspace/CZII/proc/yolo11_baseline_cv/images/TS_6_6_380.png', '/workspace/CZII/proc/yolo11_baseline_cv/images/TS_6_6_390.png', '/workspace/CZII/proc/yolo11_baseline_cv/images/TS_6_6_40.png', '/workspace/CZII/proc/yolo11_baseline_cv/images/TS_6_6_400.png', '/workspace/CZII/proc/yolo11_baseline_cv/images/TS_6_6_410.png', '/workspace/CZII/proc/yolo11_baseline_cv/images/TS_6_6_420.png', '/workspace/CZII/proc/yolo11_baseline_cv/images/TS_6_6_430.png', '/workspace/CZII/proc/yolo11_baseline_cv/images/TS_6_6_440.png', '/workspace/CZII/proc/yolo11_baseline_cv/images/TS_6_6_450.png', '/workspace/CZII/proc/yolo11_baseline_cv/images/TS_6_6_460.png', '/workspace/CZII/proc/yolo11_baseline_cv/images/TS_6_6_470.png', '/workspace/CZII/proc/yolo11_baseline_cv/images/TS_6_6_480.png', '/workspace/CZII/proc/yolo11_baseline_cv/images/TS_6_6_490.png', '/workspace/CZII/proc/yolo11_baseline_cv/images/TS_6_6_50.png', '/workspace/CZII/proc/yolo11_baseline_cv/images/TS_6_6_500.png', '/workspace/CZII/proc/yolo11_baseline_cv/images/TS_6_6_510.png', '/workspace/CZII/proc/yolo11_baseline_cv/images/TS_6_6_520.png', '/workspace/CZII/proc/yolo11_baseline_cv/images/TS_6_6_530.png', '/workspace/CZII/proc/yolo11_baseline_cv/images/TS_6_6_540.png', '/workspace/CZII/proc/yolo11_baseline_cv/images/TS_6_6_550.png', '/workspace/CZII/proc/yolo11_baseline_cv/images/TS_6_6_560.png', '/workspace/CZII/proc/yolo11_baseline_cv/images/TS_6_6_570.png', '/workspace/CZII/proc/yolo11_baseline_cv/images/TS_6_6_580.png', '/workspace/CZII/proc/yolo11_baseline_cv/images/TS_6_6_590.png', '/workspace/CZII/proc/yolo11_baseline_cv/images/TS_6_6_60.png', '/workspace/CZII/proc/yolo11_baseline_cv/images/TS_6_6_600.png', '/workspace/CZII/proc/yolo11_baseline_cv/images/TS_6_6_610.png', '/workspace/CZII/proc/yolo11_baseline_cv/images/TS_6_6_620.png', '/workspace/CZII/proc/yolo11_baseline_cv/images/TS_6_6_630.png', '/workspace/CZII/proc/yolo11_baseline_cv/images/TS_6_6_640.png', '/workspace/CZII/proc/yolo11_baseline_cv/images/TS_6_6_650.png', '/workspace/CZII/proc/yolo11_baseline_cv/images/TS_6_6_660.png', '/workspace/CZII/proc/yolo11_baseline_cv/images/TS_6_6_670.png', '/workspace/CZII/proc/yolo11_baseline_cv/images/TS_6_6_680.png', '/workspace/CZII/proc/yolo11_baseline_cv/images/TS_6_6_690.png', '/workspace/CZII/proc/yolo11_baseline_cv/images/TS_6_6_70.png', '/workspace/CZII/proc/yolo11_baseline_cv/images/TS_6_6_700.png', '/workspace/CZII/proc/yolo11_baseline_cv/images/TS_6_6_710.png', '/workspace/CZII/proc/yolo11_baseline_cv/images/TS_6_6_720.png', '/workspace/CZII/proc/yolo11_baseline_cv/images/TS_6_6_730.png', '/workspace/CZII/proc/yolo11_baseline_cv/images/TS_6_6_740.png', '/workspace/CZII/proc/yolo11_baseline_cv/images/TS_6_6_750.png', '/workspace/CZII/proc/yolo11_baseline_cv/images/TS_6_6_760.png', '/workspace/CZII/proc/yolo11_baseline_cv/images/TS_6_6_770.png', '/workspace/CZII/proc/yolo11_baseline_cv/images/TS_6_6_780.png', '/workspace/CZII/proc/yolo11_baseline_cv/images/TS_6_6_790.png', '/workspace/CZII/proc/yolo11_baseline_cv/images/TS_6_6_80.png', '/workspace/CZII/proc/yolo11_baseline_cv/images/TS_6_6_800.png', '/workspace/CZII/proc/yolo11_baseline_cv/images/TS_6_6_810.png', '/workspace/CZII/proc/yolo11_baseline_cv/images/TS_6_6_820.png', '/workspace/CZII/proc/yolo11_baseline_cv/images/TS_6_6_830.png', '/workspace/CZII/proc/yolo11_baseline_cv/images/TS_6_6_840.png', '/workspace/CZII/proc/yolo11_baseline_cv/images/TS_6_6_850.png', '/workspace/CZII/proc/yolo11_baseline_cv/images/TS_6_6_860.png', '/workspace/CZII/proc/yolo11_baseline_cv/images/TS_6_6_870.png', '/workspace/CZII/proc/yolo11_baseline_cv/images/TS_6_6_880.png', '/workspace/CZII/proc/yolo11_baseline_cv/images/TS_6_6_890.png', '/workspace/CZII/proc/yolo11_baseline_cv/images/TS_6_6_90.png', '/workspace/CZII/proc/yolo11_baseline_cv/images/TS_6_6_900.png', '/workspace/CZII/proc/yolo11_baseline_cv/images/TS_6_6_910.png', '/workspace/CZII/proc/yolo11_baseline_cv/images/TS_6_6_920.png', '/workspace/CZII/proc/yolo11_baseline_cv/images/TS_6_6_930.png', '/workspace/CZII/proc/yolo11_baseline_cv/images/TS_6_6_940.png', '/workspace/CZII/proc/yolo11_baseline_cv/images/TS_6_6_950.png', '/workspace/CZII/proc/yolo11_baseline_cv/images/TS_6_6_960.png', '/workspace/CZII/proc/yolo11_baseline_cv/images/TS_6_6_970.png', '/workspace/CZII/proc/yolo11_baseline_cv/images/TS_6_6_980.png', '/workspace/CZII/proc/yolo11_baseline_cv/images/TS_6_6_990.png', '/workspace/CZII/proc/yolo11_baseline_cv/images/TS_73_6_0.png', '/workspace/CZII/proc/yolo11_baseline_cv/images/TS_73_6_10.png', '/workspace/CZII/proc/yolo11_baseline_cv/images/TS_73_6_100.png', '/workspace/CZII/proc/yolo11_baseline_cv/images/TS_73_6_1000.png', '/workspace/CZII/proc/yolo11_baseline_cv/images/TS_73_6_1010.png', '/workspace/CZII/proc/yolo11_baseline_cv/images/TS_73_6_1020.png', '/workspace/CZII/proc/yolo11_baseline_cv/images/TS_73_6_1030.png', '/workspace/CZII/proc/yolo11_baseline_cv/images/TS_73_6_1040.png', '/workspace/CZII/proc/yolo11_baseline_cv/images/TS_73_6_1050.png', '/workspace/CZII/proc/yolo11_baseline_cv/images/TS_73_6_1060.png', '/workspace/CZII/proc/yolo11_baseline_cv/images/TS_73_6_1070.png', '/workspace/CZII/proc/yolo11_baseline_cv/images/TS_73_6_1080.png', '/workspace/CZII/proc/yolo11_baseline_cv/images/TS_73_6_1090.png', '/workspace/CZII/proc/yolo11_baseline_cv/images/TS_73_6_110.png', '/workspace/CZII/proc/yolo11_baseline_cv/images/TS_73_6_1100.png', '/workspace/CZII/proc/yolo11_baseline_cv/images/TS_73_6_1110.png', '/workspace/CZII/proc/yolo11_baseline_cv/images/TS_73_6_1120.png', '/workspace/CZII/proc/yolo11_baseline_cv/images/TS_73_6_1130.png', '/workspace/CZII/proc/yolo11_baseline_cv/images/TS_73_6_1140.png', '/workspace/CZII/proc/yolo11_baseline_cv/images/TS_73_6_1150.png', '/workspace/CZII/proc/yolo11_baseline_cv/images/TS_73_6_1160.png', '/workspace/CZII/proc/yolo11_baseline_cv/images/TS_73_6_1170.png', '/workspace/CZII/proc/yolo11_baseline_cv/images/TS_73_6_1180.png', '/workspace/CZII/proc/yolo11_baseline_cv/images/TS_73_6_1190.png', '/workspace/CZII/proc/yolo11_baseline_cv/images/TS_73_6_120.png', '/workspace/CZII/proc/yolo11_baseline_cv/images/TS_73_6_1200.png', '/workspace/CZII/proc/yolo11_baseline_cv/images/TS_73_6_1210.png', '/workspace/CZII/proc/yolo11_baseline_cv/images/TS_73_6_1220.png', '/workspace/CZII/proc/yolo11_baseline_cv/images/TS_73_6_1230.png', '/workspace/CZII/proc/yolo11_baseline_cv/images/TS_73_6_1240.png', '/workspace/CZII/proc/yolo11_baseline_cv/images/TS_73_6_1250.png', '/workspace/CZII/proc/yolo11_baseline_cv/images/TS_73_6_1260.png', '/workspace/CZII/proc/yolo11_baseline_cv/images/TS_73_6_1270.png', '/workspace/CZII/proc/yolo11_baseline_cv/images/TS_73_6_1280.png', '/workspace/CZII/proc/yolo11_baseline_cv/images/TS_73_6_1290.png', '/workspace/CZII/proc/yolo11_baseline_cv/images/TS_73_6_130.png', '/workspace/CZII/proc/yolo11_baseline_cv/images/TS_73_6_1300.png', '/workspace/CZII/proc/yolo11_baseline_cv/images/TS_73_6_1310.png', '/workspace/CZII/proc/yolo11_baseline_cv/images/TS_73_6_1320.png', '/workspace/CZII/proc/yolo11_baseline_cv/images/TS_73_6_1330.png', '/workspace/CZII/proc/yolo11_baseline_cv/images/TS_73_6_1340.png', '/workspace/CZII/proc/yolo11_baseline_cv/images/TS_73_6_1350.png', '/workspace/CZII/proc/yolo11_baseline_cv/images/TS_73_6_1360.png', '/workspace/CZII/proc/yolo11_baseline_cv/images/TS_73_6_1370.png', '/workspace/CZII/proc/yolo11_baseline_cv/images/TS_73_6_1380.png', '/workspace/CZII/proc/yolo11_baseline_cv/images/TS_73_6_1390.png', '/workspace/CZII/proc/yolo11_baseline_cv/images/TS_73_6_140.png', '/workspace/CZII/proc/yolo11_baseline_cv/images/TS_73_6_1400.png', '/workspace/CZII/proc/yolo11_baseline_cv/images/TS_73_6_1410.png', '/workspace/CZII/proc/yolo11_baseline_cv/images/TS_73_6_1420.png', '/workspace/CZII/proc/yolo11_baseline_cv/images/TS_73_6_1430.png', '/workspace/CZII/proc/yolo11_baseline_cv/images/TS_73_6_1440.png', '/workspace/CZII/proc/yolo11_baseline_cv/images/TS_73_6_1450.png', '/workspace/CZII/proc/yolo11_baseline_cv/images/TS_73_6_1460.png', '/workspace/CZII/proc/yolo11_baseline_cv/images/TS_73_6_1470.png', '/workspace/CZII/proc/yolo11_baseline_cv/images/TS_73_6_1480.png', '/workspace/CZII/proc/yolo11_baseline_cv/images/TS_73_6_1490.png', '/workspace/CZII/proc/yolo11_baseline_cv/images/TS_73_6_150.png', '/workspace/CZII/proc/yolo11_baseline_cv/images/TS_73_6_1500.png', '/workspace/CZII/proc/yolo11_baseline_cv/images/TS_73_6_1510.png', '/workspace/CZII/proc/yolo11_baseline_cv/images/TS_73_6_1520.png', '/workspace/CZII/proc/yolo11_baseline_cv/images/TS_73_6_1530.png', '/workspace/CZII/proc/yolo11_baseline_cv/images/TS_73_6_1540.png', '/workspace/CZII/proc/yolo11_baseline_cv/images/TS_73_6_1550.png', '/workspace/CZII/proc/yolo11_baseline_cv/images/TS_73_6_1560.png', '/workspace/CZII/proc/yolo11_baseline_cv/images/TS_73_6_1570.png', '/workspace/CZII/proc/yolo11_baseline_cv/images/TS_73_6_1580.png', '/workspace/CZII/proc/yolo11_baseline_cv/images/TS_73_6_1590.png', '/workspace/CZII/proc/yolo11_baseline_cv/images/TS_73_6_160.png', '/workspace/CZII/proc/yolo11_baseline_cv/images/TS_73_6_1600.png', '/workspace/CZII/proc/yolo11_baseline_cv/images/TS_73_6_1610.png', '/workspace/CZII/proc/yolo11_baseline_cv/images/TS_73_6_1620.png', '/workspace/CZII/proc/yolo11_baseline_cv/images/TS_73_6_1630.png', '/workspace/CZII/proc/yolo11_baseline_cv/images/TS_73_6_1640.png', '/workspace/CZII/proc/yolo11_baseline_cv/images/TS_73_6_1650.png', '/workspace/CZII/proc/yolo11_baseline_cv/images/TS_73_6_1660.png', '/workspace/CZII/proc/yolo11_baseline_cv/images/TS_73_6_1670.png', '/workspace/CZII/proc/yolo11_baseline_cv/images/TS_73_6_1680.png', '/workspace/CZII/proc/yolo11_baseline_cv/images/TS_73_6_1690.png', '/workspace/CZII/proc/yolo11_baseline_cv/images/TS_73_6_170.png', '/workspace/CZII/proc/yolo11_baseline_cv/images/TS_73_6_1700.png', '/workspace/CZII/proc/yolo11_baseline_cv/images/TS_73_6_1710.png', '/workspace/CZII/proc/yolo11_baseline_cv/images/TS_73_6_1720.png', '/workspace/CZII/proc/yolo11_baseline_cv/images/TS_73_6_1730.png', '/workspace/CZII/proc/yolo11_baseline_cv/images/TS_73_6_1740.png', '/workspace/CZII/proc/yolo11_baseline_cv/images/TS_73_6_1750.png', '/workspace/CZII/proc/yolo11_baseline_cv/images/TS_73_6_1760.png', '/workspace/CZII/proc/yolo11_baseline_cv/images/TS_73_6_1770.png', '/workspace/CZII/proc/yolo11_baseline_cv/images/TS_73_6_1780.png', '/workspace/CZII/proc/yolo11_baseline_cv/images/TS_73_6_1790.png', '/workspace/CZII/proc/yolo11_baseline_cv/images/TS_73_6_180.png', '/workspace/CZII/proc/yolo11_baseline_cv/images/TS_73_6_1800.png', '/workspace/CZII/proc/yolo11_baseline_cv/images/TS_73_6_1810.png', '/workspace/CZII/proc/yolo11_baseline_cv/images/TS_73_6_1820.png', '/workspace/CZII/proc/yolo11_baseline_cv/images/TS_73_6_1830.png', '/workspace/CZII/proc/yolo11_baseline_cv/images/TS_73_6_190.png', '/workspace/CZII/proc/yolo11_baseline_cv/images/TS_73_6_20.png', '/workspace/CZII/proc/yolo11_baseline_cv/images/TS_73_6_200.png', '/workspace/CZII/proc/yolo11_baseline_cv/images/TS_73_6_210.png', '/workspace/CZII/proc/yolo11_baseline_cv/images/TS_73_6_220.png', '/workspace/CZII/proc/yolo11_baseline_cv/images/TS_73_6_230.png', '/workspace/CZII/proc/yolo11_baseline_cv/images/TS_73_6_240.png', '/workspace/CZII/proc/yolo11_baseline_cv/images/TS_73_6_250.png', '/workspace/CZII/proc/yolo11_baseline_cv/images/TS_73_6_260.png', '/workspace/CZII/proc/yolo11_baseline_cv/images/TS_73_6_270.png', '/workspace/CZII/proc/yolo11_baseline_cv/images/TS_73_6_280.png', '/workspace/CZII/proc/yolo11_baseline_cv/images/TS_73_6_290.png', '/workspace/CZII/proc/yolo11_baseline_cv/images/TS_73_6_30.png', '/workspace/CZII/proc/yolo11_baseline_cv/images/TS_73_6_300.png', '/workspace/CZII/proc/yolo11_baseline_cv/images/TS_73_6_310.png', '/workspace/CZII/proc/yolo11_baseline_cv/images/TS_73_6_320.png', '/workspace/CZII/proc/yolo11_baseline_cv/images/TS_73_6_330.png', '/workspace/CZII/proc/yolo11_baseline_cv/images/TS_73_6_340.png', '/workspace/CZII/proc/yolo11_baseline_cv/images/TS_73_6_350.png', '/workspace/CZII/proc/yolo11_baseline_cv/images/TS_73_6_360.png', '/workspace/CZII/proc/yolo11_baseline_cv/images/TS_73_6_370.png', '/workspace/CZII/proc/yolo11_baseline_cv/images/TS_73_6_380.png', '/workspace/CZII/proc/yolo11_baseline_cv/images/TS_73_6_390.png', '/workspace/CZII/proc/yolo11_baseline_cv/images/TS_73_6_40.png', '/workspace/CZII/proc/yolo11_baseline_cv/images/TS_73_6_400.png', '/workspace/CZII/proc/yolo11_baseline_cv/images/TS_73_6_410.png', '/workspace/CZII/proc/yolo11_baseline_cv/images/TS_73_6_420.png', '/workspace/CZII/proc/yolo11_baseline_cv/images/TS_73_6_430.png', '/workspace/CZII/proc/yolo11_baseline_cv/images/TS_73_6_440.png', '/workspace/CZII/proc/yolo11_baseline_cv/images/TS_73_6_450.png', '/workspace/CZII/proc/yolo11_baseline_cv/images/TS_73_6_460.png', '/workspace/CZII/proc/yolo11_baseline_cv/images/TS_73_6_470.png', '/workspace/CZII/proc/yolo11_baseline_cv/images/TS_73_6_480.png', '/workspace/CZII/proc/yolo11_baseline_cv/images/TS_73_6_490.png', '/workspace/CZII/proc/yolo11_baseline_cv/images/TS_73_6_50.png', '/workspace/CZII/proc/yolo11_baseline_cv/images/TS_73_6_500.png', '/workspace/CZII/proc/yolo11_baseline_cv/images/TS_73_6_510.png', '/workspace/CZII/proc/yolo11_baseline_cv/images/TS_73_6_520.png', '/workspace/CZII/proc/yolo11_baseline_cv/images/TS_73_6_530.png', '/workspace/CZII/proc/yolo11_baseline_cv/images/TS_73_6_540.png', '/workspace/CZII/proc/yolo11_baseline_cv/images/TS_73_6_550.png', '/workspace/CZII/proc/yolo11_baseline_cv/images/TS_73_6_560.png', '/workspace/CZII/proc/yolo11_baseline_cv/images/TS_73_6_570.png', '/workspace/CZII/proc/yolo11_baseline_cv/images/TS_73_6_580.png', '/workspace/CZII/proc/yolo11_baseline_cv/images/TS_73_6_590.png', '/workspace/CZII/proc/yolo11_baseline_cv/images/TS_73_6_60.png', '/workspace/CZII/proc/yolo11_baseline_cv/images/TS_73_6_600.png', '/workspace/CZII/proc/yolo11_baseline_cv/images/TS_73_6_610.png', '/workspace/CZII/proc/yolo11_baseline_cv/images/TS_73_6_620.png', '/workspace/CZII/proc/yolo11_baseline_cv/images/TS_73_6_630.png', '/workspace/CZII/proc/yolo11_baseline_cv/images/TS_73_6_640.png', '/workspace/CZII/proc/yolo11_baseline_cv/images/TS_73_6_650.png', '/workspace/CZII/proc/yolo11_baseline_cv/images/TS_73_6_660.png', '/workspace/CZII/proc/yolo11_baseline_cv/images/TS_73_6_670.png', '/workspace/CZII/proc/yolo11_baseline_cv/images/TS_73_6_680.png', '/workspace/CZII/proc/yolo11_baseline_cv/images/TS_73_6_690.png', '/workspace/CZII/proc/yolo11_baseline_cv/images/TS_73_6_70.png', '/workspace/CZII/proc/yolo11_baseline_cv/images/TS_73_6_700.png', '/workspace/CZII/proc/yolo11_baseline_cv/images/TS_73_6_710.png', '/workspace/CZII/proc/yolo11_baseline_cv/images/TS_73_6_720.png', '/workspace/CZII/proc/yolo11_baseline_cv/images/TS_73_6_730.png', '/workspace/CZII/proc/yolo11_baseline_cv/images/TS_73_6_740.png', '/workspace/CZII/proc/yolo11_baseline_cv/images/TS_73_6_750.png', '/workspace/CZII/proc/yolo11_baseline_cv/images/TS_73_6_760.png', '/workspace/CZII/proc/yolo11_baseline_cv/images/TS_73_6_770.png', '/workspace/CZII/proc/yolo11_baseline_cv/images/TS_73_6_780.png', '/workspace/CZII/proc/yolo11_baseline_cv/images/TS_73_6_790.png', '/workspace/CZII/proc/yolo11_baseline_cv/images/TS_73_6_80.png', '/workspace/CZII/proc/yolo11_baseline_cv/images/TS_73_6_800.png', '/workspace/CZII/proc/yolo11_baseline_cv/images/TS_73_6_810.png', '/workspace/CZII/proc/yolo11_baseline_cv/images/TS_73_6_820.png', '/workspace/CZII/proc/yolo11_baseline_cv/images/TS_73_6_830.png', '/workspace/CZII/proc/yolo11_baseline_cv/images/TS_73_6_840.png', '/workspace/CZII/proc/yolo11_baseline_cv/images/TS_73_6_850.png', '/workspace/CZII/proc/yolo11_baseline_cv/images/TS_73_6_860.png', '/workspace/CZII/proc/yolo11_baseline_cv/images/TS_73_6_870.png', '/workspace/CZII/proc/yolo11_baseline_cv/images/TS_73_6_880.png', '/workspace/CZII/proc/yolo11_baseline_cv/images/TS_73_6_890.png', '/workspace/CZII/proc/yolo11_baseline_cv/images/TS_73_6_90.png', '/workspace/CZII/proc/yolo11_baseline_cv/images/TS_73_6_900.png', '/workspace/CZII/proc/yolo11_baseline_cv/images/TS_73_6_910.png', '/workspace/CZII/proc/yolo11_baseline_cv/images/TS_73_6_920.png', '/workspace/CZII/proc/yolo11_baseline_cv/images/TS_73_6_930.png', '/workspace/CZII/proc/yolo11_baseline_cv/images/TS_73_6_940.png', '/workspace/CZII/proc/yolo11_baseline_cv/images/TS_73_6_950.png', '/workspace/CZII/proc/yolo11_baseline_cv/images/TS_73_6_960.png', '/workspace/CZII/proc/yolo11_baseline_cv/images/TS_73_6_970.png', '/workspace/CZII/proc/yolo11_baseline_cv/images/TS_73_6_980.png', '/workspace/CZII/proc/yolo11_baseline_cv/images/TS_73_6_990.png', '/workspace/CZII/proc/yolo11_baseline_cv/images/TS_86_3_0.png', '/workspace/CZII/proc/yolo11_baseline_cv/images/TS_86_3_10.png', '/workspace/CZII/proc/yolo11_baseline_cv/images/TS_86_3_100.png', '/workspace/CZII/proc/yolo11_baseline_cv/images/TS_86_3_1000.png', '/workspace/CZII/proc/yolo11_baseline_cv/images/TS_86_3_1010.png', '/workspace/CZII/proc/yolo11_baseline_cv/images/TS_86_3_1020.png', '/workspace/CZII/proc/yolo11_baseline_cv/images/TS_86_3_1030.png', '/workspace/CZII/proc/yolo11_baseline_cv/images/TS_86_3_1040.png', '/workspace/CZII/proc/yolo11_baseline_cv/images/TS_86_3_1050.png', '/workspace/CZII/proc/yolo11_baseline_cv/images/TS_86_3_1060.png', '/workspace/CZII/proc/yolo11_baseline_cv/images/TS_86_3_1070.png', '/workspace/CZII/proc/yolo11_baseline_cv/images/TS_86_3_1080.png', '/workspace/CZII/proc/yolo11_baseline_cv/images/TS_86_3_1090.png', '/workspace/CZII/proc/yolo11_baseline_cv/images/TS_86_3_110.png', '/workspace/CZII/proc/yolo11_baseline_cv/images/TS_86_3_1100.png', '/workspace/CZII/proc/yolo11_baseline_cv/images/TS_86_3_1110.png', '/workspace/CZII/proc/yolo11_baseline_cv/images/TS_86_3_1120.png', '/workspace/CZII/proc/yolo11_baseline_cv/images/TS_86_3_1130.png', '/workspace/CZII/proc/yolo11_baseline_cv/images/TS_86_3_1140.png', '/workspace/CZII/proc/yolo11_baseline_cv/images/TS_86_3_1150.png', '/workspace/CZII/proc/yolo11_baseline_cv/images/TS_86_3_1160.png', '/workspace/CZII/proc/yolo11_baseline_cv/images/TS_86_3_1170.png', '/workspace/CZII/proc/yolo11_baseline_cv/images/TS_86_3_1180.png', '/workspace/CZII/proc/yolo11_baseline_cv/images/TS_86_3_1190.png', '/workspace/CZII/proc/yolo11_baseline_cv/images/TS_86_3_120.png', '/workspace/CZII/proc/yolo11_baseline_cv/images/TS_86_3_1200.png', '/workspace/CZII/proc/yolo11_baseline_cv/images/TS_86_3_1210.png', '/workspace/CZII/proc/yolo11_baseline_cv/images/TS_86_3_1220.png', '/workspace/CZII/proc/yolo11_baseline_cv/images/TS_86_3_1230.png', '/workspace/CZII/proc/yolo11_baseline_cv/images/TS_86_3_1240.png', '/workspace/CZII/proc/yolo11_baseline_cv/images/TS_86_3_1250.png', '/workspace/CZII/proc/yolo11_baseline_cv/images/TS_86_3_1260.png', '/workspace/CZII/proc/yolo11_baseline_cv/images/TS_86_3_1270.png', '/workspace/CZII/proc/yolo11_baseline_cv/images/TS_86_3_1280.png', '/workspace/CZII/proc/yolo11_baseline_cv/images/TS_86_3_1290.png', '/workspace/CZII/proc/yolo11_baseline_cv/images/TS_86_3_130.png', '/workspace/CZII/proc/yolo11_baseline_cv/images/TS_86_3_1300.png', '/workspace/CZII/proc/yolo11_baseline_cv/images/TS_86_3_1310.png', '/workspace/CZII/proc/yolo11_baseline_cv/images/TS_86_3_1320.png', '/workspace/CZII/proc/yolo11_baseline_cv/images/TS_86_3_1330.png', '/workspace/CZII/proc/yolo11_baseline_cv/images/TS_86_3_1340.png', '/workspace/CZII/proc/yolo11_baseline_cv/images/TS_86_3_1350.png', '/workspace/CZII/proc/yolo11_baseline_cv/images/TS_86_3_1360.png', '/workspace/CZII/proc/yolo11_baseline_cv/images/TS_86_3_1370.png', '/workspace/CZII/proc/yolo11_baseline_cv/images/TS_86_3_1380.png', '/workspace/CZII/proc/yolo11_baseline_cv/images/TS_86_3_1390.png', '/workspace/CZII/proc/yolo11_baseline_cv/images/TS_86_3_140.png', '/workspace/CZII/proc/yolo11_baseline_cv/images/TS_86_3_1400.png', '/workspace/CZII/proc/yolo11_baseline_cv/images/TS_86_3_1410.png', '/workspace/CZII/proc/yolo11_baseline_cv/images/TS_86_3_1420.png', '/workspace/CZII/proc/yolo11_baseline_cv/images/TS_86_3_1430.png', '/workspace/CZII/proc/yolo11_baseline_cv/images/TS_86_3_1440.png', '/workspace/CZII/proc/yolo11_baseline_cv/images/TS_86_3_1450.png', '/workspace/CZII/proc/yolo11_baseline_cv/images/TS_86_3_1460.png', '/workspace/CZII/proc/yolo11_baseline_cv/images/TS_86_3_1470.png', '/workspace/CZII/proc/yolo11_baseline_cv/images/TS_86_3_1480.png', '/workspace/CZII/proc/yolo11_baseline_cv/images/TS_86_3_1490.png', '/workspace/CZII/proc/yolo11_baseline_cv/images/TS_86_3_150.png', '/workspace/CZII/proc/yolo11_baseline_cv/images/TS_86_3_1500.png', '/workspace/CZII/proc/yolo11_baseline_cv/images/TS_86_3_1510.png', '/workspace/CZII/proc/yolo11_baseline_cv/images/TS_86_3_1520.png', '/workspace/CZII/proc/yolo11_baseline_cv/images/TS_86_3_1530.png', '/workspace/CZII/proc/yolo11_baseline_cv/images/TS_86_3_1540.png', '/workspace/CZII/proc/yolo11_baseline_cv/images/TS_86_3_1550.png', '/workspace/CZII/proc/yolo11_baseline_cv/images/TS_86_3_1560.png', '/workspace/CZII/proc/yolo11_baseline_cv/images/TS_86_3_1570.png', '/workspace/CZII/proc/yolo11_baseline_cv/images/TS_86_3_1580.png', '/workspace/CZII/proc/yolo11_baseline_cv/images/TS_86_3_1590.png', '/workspace/CZII/proc/yolo11_baseline_cv/images/TS_86_3_160.png', '/workspace/CZII/proc/yolo11_baseline_cv/images/TS_86_3_1600.png', '/workspace/CZII/proc/yolo11_baseline_cv/images/TS_86_3_1610.png', '/workspace/CZII/proc/yolo11_baseline_cv/images/TS_86_3_1620.png', '/workspace/CZII/proc/yolo11_baseline_cv/images/TS_86_3_1630.png', '/workspace/CZII/proc/yolo11_baseline_cv/images/TS_86_3_1640.png', '/workspace/CZII/proc/yolo11_baseline_cv/images/TS_86_3_1650.png', '/workspace/CZII/proc/yolo11_baseline_cv/images/TS_86_3_1660.png', '/workspace/CZII/proc/yolo11_baseline_cv/images/TS_86_3_1670.png', '/workspace/CZII/proc/yolo11_baseline_cv/images/TS_86_3_1680.png', '/workspace/CZII/proc/yolo11_baseline_cv/images/TS_86_3_1690.png', '/workspace/CZII/proc/yolo11_baseline_cv/images/TS_86_3_170.png', '/workspace/CZII/proc/yolo11_baseline_cv/images/TS_86_3_1700.png', '/workspace/CZII/proc/yolo11_baseline_cv/images/TS_86_3_1710.png', '/workspace/CZII/proc/yolo11_baseline_cv/images/TS_86_3_1720.png', '/workspace/CZII/proc/yolo11_baseline_cv/images/TS_86_3_1730.png', '/workspace/CZII/proc/yolo11_baseline_cv/images/TS_86_3_1740.png', '/workspace/CZII/proc/yolo11_baseline_cv/images/TS_86_3_1750.png', '/workspace/CZII/proc/yolo11_baseline_cv/images/TS_86_3_1760.png', '/workspace/CZII/proc/yolo11_baseline_cv/images/TS_86_3_1770.png', '/workspace/CZII/proc/yolo11_baseline_cv/images/TS_86_3_1780.png', '/workspace/CZII/proc/yolo11_baseline_cv/images/TS_86_3_1790.png', '/workspace/CZII/proc/yolo11_baseline_cv/images/TS_86_3_180.png', '/workspace/CZII/proc/yolo11_baseline_cv/images/TS_86_3_1800.png', '/workspace/CZII/proc/yolo11_baseline_cv/images/TS_86_3_1810.png', '/workspace/CZII/proc/yolo11_baseline_cv/images/TS_86_3_1820.png', '/workspace/CZII/proc/yolo11_baseline_cv/images/TS_86_3_1830.png', '/workspace/CZII/proc/yolo11_baseline_cv/images/TS_86_3_190.png', '/workspace/CZII/proc/yolo11_baseline_cv/images/TS_86_3_20.png', '/workspace/CZII/proc/yolo11_baseline_cv/images/TS_86_3_200.png', '/workspace/CZII/proc/yolo11_baseline_cv/images/TS_86_3_210.png', '/workspace/CZII/proc/yolo11_baseline_cv/images/TS_86_3_220.png', '/workspace/CZII/proc/yolo11_baseline_cv/images/TS_86_3_230.png', '/workspace/CZII/proc/yolo11_baseline_cv/images/TS_86_3_240.png', '/workspace/CZII/proc/yolo11_baseline_cv/images/TS_86_3_250.png', '/workspace/CZII/proc/yolo11_baseline_cv/images/TS_86_3_260.png', '/workspace/CZII/proc/yolo11_baseline_cv/images/TS_86_3_270.png', '/workspace/CZII/proc/yolo11_baseline_cv/images/TS_86_3_280.png', '/workspace/CZII/proc/yolo11_baseline_cv/images/TS_86_3_290.png', '/workspace/CZII/proc/yolo11_baseline_cv/images/TS_86_3_30.png', '/workspace/CZII/proc/yolo11_baseline_cv/images/TS_86_3_300.png', '/workspace/CZII/proc/yolo11_baseline_cv/images/TS_86_3_310.png', '/workspace/CZII/proc/yolo11_baseline_cv/images/TS_86_3_320.png', '/workspace/CZII/proc/yolo11_baseline_cv/images/TS_86_3_330.png', '/workspace/CZII/proc/yolo11_baseline_cv/images/TS_86_3_340.png', '/workspace/CZII/proc/yolo11_baseline_cv/images/TS_86_3_350.png', '/workspace/CZII/proc/yolo11_baseline_cv/images/TS_86_3_360.png', '/workspace/CZII/proc/yolo11_baseline_cv/images/TS_86_3_370.png', '/workspace/CZII/proc/yolo11_baseline_cv/images/TS_86_3_380.png', '/workspace/CZII/proc/yolo11_baseline_cv/images/TS_86_3_390.png', '/workspace/CZII/proc/yolo11_baseline_cv/images/TS_86_3_40.png', '/workspace/CZII/proc/yolo11_baseline_cv/images/TS_86_3_400.png', '/workspace/CZII/proc/yolo11_baseline_cv/images/TS_86_3_410.png', '/workspace/CZII/proc/yolo11_baseline_cv/images/TS_86_3_420.png', '/workspace/CZII/proc/yolo11_baseline_cv/images/TS_86_3_430.png', '/workspace/CZII/proc/yolo11_baseline_cv/images/TS_86_3_440.png', '/workspace/CZII/proc/yolo11_baseline_cv/images/TS_86_3_450.png', '/workspace/CZII/proc/yolo11_baseline_cv/images/TS_86_3_460.png', '/workspace/CZII/proc/yolo11_baseline_cv/images/TS_86_3_470.png', '/workspace/CZII/proc/yolo11_baseline_cv/images/TS_86_3_480.png', '/workspace/CZII/proc/yolo11_baseline_cv/images/TS_86_3_490.png', '/workspace/CZII/proc/yolo11_baseline_cv/images/TS_86_3_50.png', '/workspace/CZII/proc/yolo11_baseline_cv/images/TS_86_3_500.png', '/workspace/CZII/proc/yolo11_baseline_cv/images/TS_86_3_510.png', '/workspace/CZII/proc/yolo11_baseline_cv/images/TS_86_3_520.png', '/workspace/CZII/proc/yolo11_baseline_cv/images/TS_86_3_530.png', '/workspace/CZII/proc/yolo11_baseline_cv/images/TS_86_3_540.png', '/workspace/CZII/proc/yolo11_baseline_cv/images/TS_86_3_550.png', '/workspace/CZII/proc/yolo11_baseline_cv/images/TS_86_3_560.png', '/workspace/CZII/proc/yolo11_baseline_cv/images/TS_86_3_570.png', '/workspace/CZII/proc/yolo11_baseline_cv/images/TS_86_3_580.png', '/workspace/CZII/proc/yolo11_baseline_cv/images/TS_86_3_590.png', '/workspace/CZII/proc/yolo11_baseline_cv/images/TS_86_3_60.png', '/workspace/CZII/proc/yolo11_baseline_cv/images/TS_86_3_600.png', '/workspace/CZII/proc/yolo11_baseline_cv/images/TS_86_3_610.png', '/workspace/CZII/proc/yolo11_baseline_cv/images/TS_86_3_620.png', '/workspace/CZII/proc/yolo11_baseline_cv/images/TS_86_3_630.png', '/workspace/CZII/proc/yolo11_baseline_cv/images/TS_86_3_640.png', '/workspace/CZII/proc/yolo11_baseline_cv/images/TS_86_3_650.png', '/workspace/CZII/proc/yolo11_baseline_cv/images/TS_86_3_660.png', '/workspace/CZII/proc/yolo11_baseline_cv/images/TS_86_3_670.png', '/workspace/CZII/proc/yolo11_baseline_cv/images/TS_86_3_680.png', '/workspace/CZII/proc/yolo11_baseline_cv/images/TS_86_3_690.png', '/workspace/CZII/proc/yolo11_baseline_cv/images/TS_86_3_70.png', '/workspace/CZII/proc/yolo11_baseline_cv/images/TS_86_3_700.png', '/workspace/CZII/proc/yolo11_baseline_cv/images/TS_86_3_710.png', '/workspace/CZII/proc/yolo11_baseline_cv/images/TS_86_3_720.png', '/workspace/CZII/proc/yolo11_baseline_cv/images/TS_86_3_730.png', '/workspace/CZII/proc/yolo11_baseline_cv/images/TS_86_3_740.png', '/workspace/CZII/proc/yolo11_baseline_cv/images/TS_86_3_750.png', '/workspace/CZII/proc/yolo11_baseline_cv/images/TS_86_3_760.png', '/workspace/CZII/proc/yolo11_baseline_cv/images/TS_86_3_770.png', '/workspace/CZII/proc/yolo11_baseline_cv/images/TS_86_3_780.png', '/workspace/CZII/proc/yolo11_baseline_cv/images/TS_86_3_790.png', '/workspace/CZII/proc/yolo11_baseline_cv/images/TS_86_3_80.png', '/workspace/CZII/proc/yolo11_baseline_cv/images/TS_86_3_800.png', '/workspace/CZII/proc/yolo11_baseline_cv/images/TS_86_3_810.png', '/workspace/CZII/proc/yolo11_baseline_cv/images/TS_86_3_820.png', '/workspace/CZII/proc/yolo11_baseline_cv/images/TS_86_3_830.png', '/workspace/CZII/proc/yolo11_baseline_cv/images/TS_86_3_840.png', '/workspace/CZII/proc/yolo11_baseline_cv/images/TS_86_3_850.png', '/workspace/CZII/proc/yolo11_baseline_cv/images/TS_86_3_860.png', '/workspace/CZII/proc/yolo11_baseline_cv/images/TS_86_3_870.png', '/workspace/CZII/proc/yolo11_baseline_cv/images/TS_86_3_880.png', '/workspace/CZII/proc/yolo11_baseline_cv/images/TS_86_3_890.png', '/workspace/CZII/proc/yolo11_baseline_cv/images/TS_86_3_90.png', '/workspace/CZII/proc/yolo11_baseline_cv/images/TS_86_3_900.png', '/workspace/CZII/proc/yolo11_baseline_cv/images/TS_86_3_910.png', '/workspace/CZII/proc/yolo11_baseline_cv/images/TS_86_3_920.png', '/workspace/CZII/proc/yolo11_baseline_cv/images/TS_86_3_930.png', '/workspace/CZII/proc/yolo11_baseline_cv/images/TS_86_3_940.png', '/workspace/CZII/proc/yolo11_baseline_cv/images/TS_86_3_950.png', '/workspace/CZII/proc/yolo11_baseline_cv/images/TS_86_3_960.png', '/workspace/CZII/proc/yolo11_baseline_cv/images/TS_86_3_970.png', '/workspace/CZII/proc/yolo11_baseline_cv/images/TS_86_3_980.png', '/workspace/CZII/proc/yolo11_baseline_cv/images/TS_86_3_990.png', '/workspace/CZII/proc/yolo11_baseline_cv/images/TS_99_9_0.png', '/workspace/CZII/proc/yolo11_baseline_cv/images/TS_99_9_10.png', '/workspace/CZII/proc/yolo11_baseline_cv/images/TS_99_9_100.png', '/workspace/CZII/proc/yolo11_baseline_cv/images/TS_99_9_1000.png', '/workspace/CZII/proc/yolo11_baseline_cv/images/TS_99_9_1010.png', '/workspace/CZII/proc/yolo11_baseline_cv/images/TS_99_9_1020.png', '/workspace/CZII/proc/yolo11_baseline_cv/images/TS_99_9_1030.png', '/workspace/CZII/proc/yolo11_baseline_cv/images/TS_99_9_1040.png', '/workspace/CZII/proc/yolo11_baseline_cv/images/TS_99_9_1050.png', '/workspace/CZII/proc/yolo11_baseline_cv/images/TS_99_9_1060.png', '/workspace/CZII/proc/yolo11_baseline_cv/images/TS_99_9_1070.png', '/workspace/CZII/proc/yolo11_baseline_cv/images/TS_99_9_1080.png', '/workspace/CZII/proc/yolo11_baseline_cv/images/TS_99_9_1090.png', '/workspace/CZII/proc/yolo11_baseline_cv/images/TS_99_9_110.png', '/workspace/CZII/proc/yolo11_baseline_cv/images/TS_99_9_1100.png', '/workspace/CZII/proc/yolo11_baseline_cv/images/TS_99_9_1110.png', '/workspace/CZII/proc/yolo11_baseline_cv/images/TS_99_9_1120.png', '/workspace/CZII/proc/yolo11_baseline_cv/images/TS_99_9_1130.png', '/workspace/CZII/proc/yolo11_baseline_cv/images/TS_99_9_1140.png', '/workspace/CZII/proc/yolo11_baseline_cv/images/TS_99_9_1150.png', '/workspace/CZII/proc/yolo11_baseline_cv/images/TS_99_9_1160.png', '/workspace/CZII/proc/yolo11_baseline_cv/images/TS_99_9_1170.png', '/workspace/CZII/proc/yolo11_baseline_cv/images/TS_99_9_1180.png', '/workspace/CZII/proc/yolo11_baseline_cv/images/TS_99_9_1190.png', '/workspace/CZII/proc/yolo11_baseline_cv/images/TS_99_9_120.png', '/workspace/CZII/proc/yolo11_baseline_cv/images/TS_99_9_1200.png', '/workspace/CZII/proc/yolo11_baseline_cv/images/TS_99_9_1210.png', '/workspace/CZII/proc/yolo11_baseline_cv/images/TS_99_9_1220.png', '/workspace/CZII/proc/yolo11_baseline_cv/images/TS_99_9_1230.png', '/workspace/CZII/proc/yolo11_baseline_cv/images/TS_99_9_1240.png', '/workspace/CZII/proc/yolo11_baseline_cv/images/TS_99_9_1250.png', '/workspace/CZII/proc/yolo11_baseline_cv/images/TS_99_9_1260.png', '/workspace/CZII/proc/yolo11_baseline_cv/images/TS_99_9_1270.png', '/workspace/CZII/proc/yolo11_baseline_cv/images/TS_99_9_1280.png', '/workspace/CZII/proc/yolo11_baseline_cv/images/TS_99_9_1290.png', '/workspace/CZII/proc/yolo11_baseline_cv/images/TS_99_9_130.png', '/workspace/CZII/proc/yolo11_baseline_cv/images/TS_99_9_1300.png', '/workspace/CZII/proc/yolo11_baseline_cv/images/TS_99_9_1310.png', '/workspace/CZII/proc/yolo11_baseline_cv/images/TS_99_9_1320.png', '/workspace/CZII/proc/yolo11_baseline_cv/images/TS_99_9_1330.png', '/workspace/CZII/proc/yolo11_baseline_cv/images/TS_99_9_1340.png', '/workspace/CZII/proc/yolo11_baseline_cv/images/TS_99_9_1350.png', '/workspace/CZII/proc/yolo11_baseline_cv/images/TS_99_9_1360.png', '/workspace/CZII/proc/yolo11_baseline_cv/images/TS_99_9_1370.png', '/workspace/CZII/proc/yolo11_baseline_cv/images/TS_99_9_1380.png', '/workspace/CZII/proc/yolo11_baseline_cv/images/TS_99_9_1390.png', '/workspace/CZII/proc/yolo11_baseline_cv/images/TS_99_9_140.png', '/workspace/CZII/proc/yolo11_baseline_cv/images/TS_99_9_1400.png', '/workspace/CZII/proc/yolo11_baseline_cv/images/TS_99_9_1410.png', '/workspace/CZII/proc/yolo11_baseline_cv/images/TS_99_9_1420.png', '/workspace/CZII/proc/yolo11_baseline_cv/images/TS_99_9_1430.png', '/workspace/CZII/proc/yolo11_baseline_cv/images/TS_99_9_1440.png', '/workspace/CZII/proc/yolo11_baseline_cv/images/TS_99_9_1450.png', '/workspace/CZII/proc/yolo11_baseline_cv/images/TS_99_9_1460.png', '/workspace/CZII/proc/yolo11_baseline_cv/images/TS_99_9_1470.png', '/workspace/CZII/proc/yolo11_baseline_cv/images/TS_99_9_1480.png', '/workspace/CZII/proc/yolo11_baseline_cv/images/TS_99_9_1490.png', '/workspace/CZII/proc/yolo11_baseline_cv/images/TS_99_9_150.png', '/workspace/CZII/proc/yolo11_baseline_cv/images/TS_99_9_1500.png', '/workspace/CZII/proc/yolo11_baseline_cv/images/TS_99_9_1510.png', '/workspace/CZII/proc/yolo11_baseline_cv/images/TS_99_9_1520.png', '/workspace/CZII/proc/yolo11_baseline_cv/images/TS_99_9_1530.png', '/workspace/CZII/proc/yolo11_baseline_cv/images/TS_99_9_1540.png', '/workspace/CZII/proc/yolo11_baseline_cv/images/TS_99_9_1550.png', '/workspace/CZII/proc/yolo11_baseline_cv/images/TS_99_9_1560.png', '/workspace/CZII/proc/yolo11_baseline_cv/images/TS_99_9_1570.png', '/workspace/CZII/proc/yolo11_baseline_cv/images/TS_99_9_1580.png', '/workspace/CZII/proc/yolo11_baseline_cv/images/TS_99_9_1590.png', '/workspace/CZII/proc/yolo11_baseline_cv/images/TS_99_9_160.png', '/workspace/CZII/proc/yolo11_baseline_cv/images/TS_99_9_1600.png', '/workspace/CZII/proc/yolo11_baseline_cv/images/TS_99_9_1610.png', '/workspace/CZII/proc/yolo11_baseline_cv/images/TS_99_9_1620.png', '/workspace/CZII/proc/yolo11_baseline_cv/images/TS_99_9_1630.png', '/workspace/CZII/proc/yolo11_baseline_cv/images/TS_99_9_1640.png', '/workspace/CZII/proc/yolo11_baseline_cv/images/TS_99_9_1650.png', '/workspace/CZII/proc/yolo11_baseline_cv/images/TS_99_9_1660.png', '/workspace/CZII/proc/yolo11_baseline_cv/images/TS_99_9_1670.png', '/workspace/CZII/proc/yolo11_baseline_cv/images/TS_99_9_1680.png', '/workspace/CZII/proc/yolo11_baseline_cv/images/TS_99_9_1690.png', '/workspace/CZII/proc/yolo11_baseline_cv/images/TS_99_9_170.png', '/workspace/CZII/proc/yolo11_baseline_cv/images/TS_99_9_1700.png', '/workspace/CZII/proc/yolo11_baseline_cv/images/TS_99_9_1710.png', '/workspace/CZII/proc/yolo11_baseline_cv/images/TS_99_9_1720.png', '/workspace/CZII/proc/yolo11_baseline_cv/images/TS_99_9_1730.png', '/workspace/CZII/proc/yolo11_baseline_cv/images/TS_99_9_1740.png', '/workspace/CZII/proc/yolo11_baseline_cv/images/TS_99_9_1750.png', '/workspace/CZII/proc/yolo11_baseline_cv/images/TS_99_9_1760.png', '/workspace/CZII/proc/yolo11_baseline_cv/images/TS_99_9_1770.png', '/workspace/CZII/proc/yolo11_baseline_cv/images/TS_99_9_1780.png', '/workspace/CZII/proc/yolo11_baseline_cv/images/TS_99_9_1790.png', '/workspace/CZII/proc/yolo11_baseline_cv/images/TS_99_9_180.png', '/workspace/CZII/proc/yolo11_baseline_cv/images/TS_99_9_1800.png', '/workspace/CZII/proc/yolo11_baseline_cv/images/TS_99_9_1810.png', '/workspace/CZII/proc/yolo11_baseline_cv/images/TS_99_9_1820.png', '/workspace/CZII/proc/yolo11_baseline_cv/images/TS_99_9_1830.png', '/workspace/CZII/proc/yolo11_baseline_cv/images/TS_99_9_190.png', '/workspace/CZII/proc/yolo11_baseline_cv/images/TS_99_9_20.png', '/workspace/CZII/proc/yolo11_baseline_cv/images/TS_99_9_200.png', '/workspace/CZII/proc/yolo11_baseline_cv/images/TS_99_9_210.png', '/workspace/CZII/proc/yolo11_baseline_cv/images/TS_99_9_220.png', '/workspace/CZII/proc/yolo11_baseline_cv/images/TS_99_9_230.png', '/workspace/CZII/proc/yolo11_baseline_cv/images/TS_99_9_240.png', '/workspace/CZII/proc/yolo11_baseline_cv/images/TS_99_9_250.png', '/workspace/CZII/proc/yolo11_baseline_cv/images/TS_99_9_260.png', '/workspace/CZII/proc/yolo11_baseline_cv/images/TS_99_9_270.png', '/workspace/CZII/proc/yolo11_baseline_cv/images/TS_99_9_280.png', '/workspace/CZII/proc/yolo11_baseline_cv/images/TS_99_9_290.png', '/workspace/CZII/proc/yolo11_baseline_cv/images/TS_99_9_30.png', '/workspace/CZII/proc/yolo11_baseline_cv/images/TS_99_9_300.png', '/workspace/CZII/proc/yolo11_baseline_cv/images/TS_99_9_310.png', '/workspace/CZII/proc/yolo11_baseline_cv/images/TS_99_9_320.png', '/workspace/CZII/proc/yolo11_baseline_cv/images/TS_99_9_330.png', '/workspace/CZII/proc/yolo11_baseline_cv/images/TS_99_9_340.png', '/workspace/CZII/proc/yolo11_baseline_cv/images/TS_99_9_350.png', '/workspace/CZII/proc/yolo11_baseline_cv/images/TS_99_9_360.png', '/workspace/CZII/proc/yolo11_baseline_cv/images/TS_99_9_370.png', '/workspace/CZII/proc/yolo11_baseline_cv/images/TS_99_9_380.png', '/workspace/CZII/proc/yolo11_baseline_cv/images/TS_99_9_390.png', '/workspace/CZII/proc/yolo11_baseline_cv/images/TS_99_9_40.png', '/workspace/CZII/proc/yolo11_baseline_cv/images/TS_99_9_400.png', '/workspace/CZII/proc/yolo11_baseline_cv/images/TS_99_9_410.png', '/workspace/CZII/proc/yolo11_baseline_cv/images/TS_99_9_420.png', '/workspace/CZII/proc/yolo11_baseline_cv/images/TS_99_9_430.png', '/workspace/CZII/proc/yolo11_baseline_cv/images/TS_99_9_440.png', '/workspace/CZII/proc/yolo11_baseline_cv/images/TS_99_9_450.png', '/workspace/CZII/proc/yolo11_baseline_cv/images/TS_99_9_460.png', '/workspace/CZII/proc/yolo11_baseline_cv/images/TS_99_9_470.png', '/workspace/CZII/proc/yolo11_baseline_cv/images/TS_99_9_480.png', '/workspace/CZII/proc/yolo11_baseline_cv/images/TS_99_9_490.png', '/workspace/CZII/proc/yolo11_baseline_cv/images/TS_99_9_50.png', '/workspace/CZII/proc/yolo11_baseline_cv/images/TS_99_9_500.png', '/workspace/CZII/proc/yolo11_baseline_cv/images/TS_99_9_510.png', '/workspace/CZII/proc/yolo11_baseline_cv/images/TS_99_9_520.png', '/workspace/CZII/proc/yolo11_baseline_cv/images/TS_99_9_530.png', '/workspace/CZII/proc/yolo11_baseline_cv/images/TS_99_9_540.png', '/workspace/CZII/proc/yolo11_baseline_cv/images/TS_99_9_550.png', '/workspace/CZII/proc/yolo11_baseline_cv/images/TS_99_9_560.png', '/workspace/CZII/proc/yolo11_baseline_cv/images/TS_99_9_570.png', '/workspace/CZII/proc/yolo11_baseline_cv/images/TS_99_9_580.png', '/workspace/CZII/proc/yolo11_baseline_cv/images/TS_99_9_590.png', '/workspace/CZII/proc/yolo11_baseline_cv/images/TS_99_9_60.png', '/workspace/CZII/proc/yolo11_baseline_cv/images/TS_99_9_600.png', '/workspace/CZII/proc/yolo11_baseline_cv/images/TS_99_9_610.png', '/workspace/CZII/proc/yolo11_baseline_cv/images/TS_99_9_620.png', '/workspace/CZII/proc/yolo11_baseline_cv/images/TS_99_9_630.png', '/workspace/CZII/proc/yolo11_baseline_cv/images/TS_99_9_640.png', '/workspace/CZII/proc/yolo11_baseline_cv/images/TS_99_9_650.png', '/workspace/CZII/proc/yolo11_baseline_cv/images/TS_99_9_660.png', '/workspace/CZII/proc/yolo11_baseline_cv/images/TS_99_9_670.png', '/workspace/CZII/proc/yolo11_baseline_cv/images/TS_99_9_680.png', '/workspace/CZII/proc/yolo11_baseline_cv/images/TS_99_9_690.png', '/workspace/CZII/proc/yolo11_baseline_cv/images/TS_99_9_70.png', '/workspace/CZII/proc/yolo11_baseline_cv/images/TS_99_9_700.png', '/workspace/CZII/proc/yolo11_baseline_cv/images/TS_99_9_710.png', '/workspace/CZII/proc/yolo11_baseline_cv/images/TS_99_9_720.png', '/workspace/CZII/proc/yolo11_baseline_cv/images/TS_99_9_730.png', '/workspace/CZII/proc/yolo11_baseline_cv/images/TS_99_9_740.png', '/workspace/CZII/proc/yolo11_baseline_cv/images/TS_99_9_750.png', '/workspace/CZII/proc/yolo11_baseline_cv/images/TS_99_9_760.png', '/workspace/CZII/proc/yolo11_baseline_cv/images/TS_99_9_770.png', '/workspace/CZII/proc/yolo11_baseline_cv/images/TS_99_9_780.png', '/workspace/CZII/proc/yolo11_baseline_cv/images/TS_99_9_790.png', '/workspace/CZII/proc/yolo11_baseline_cv/images/TS_99_9_80.png', '/workspace/CZII/proc/yolo11_baseline_cv/images/TS_99_9_800.png', '/workspace/CZII/proc/yolo11_baseline_cv/images/TS_99_9_810.png', '/workspace/CZII/proc/yolo11_baseline_cv/images/TS_99_9_820.png', '/workspace/CZII/proc/yolo11_baseline_cv/images/TS_99_9_830.png', '/workspace/CZII/proc/yolo11_baseline_cv/images/TS_99_9_840.png', '/workspace/CZII/proc/yolo11_baseline_cv/images/TS_99_9_850.png', '/workspace/CZII/proc/yolo11_baseline_cv/images/TS_99_9_860.png', '/workspace/CZII/proc/yolo11_baseline_cv/images/TS_99_9_870.png', '/workspace/CZII/proc/yolo11_baseline_cv/images/TS_99_9_880.png', '/workspace/CZII/proc/yolo11_baseline_cv/images/TS_99_9_890.png', '/workspace/CZII/proc/yolo11_baseline_cv/images/TS_99_9_90.png', '/workspace/CZII/proc/yolo11_baseline_cv/images/TS_99_9_900.png', '/workspace/CZII/proc/yolo11_baseline_cv/images/TS_99_9_910.png', '/workspace/CZII/proc/yolo11_baseline_cv/images/TS_99_9_920.png', '/workspace/CZII/proc/yolo11_baseline_cv/images/TS_99_9_930.png', '/workspace/CZII/proc/yolo11_baseline_cv/images/TS_99_9_940.png', '/workspace/CZII/proc/yolo11_baseline_cv/images/TS_99_9_950.png', '/workspace/CZII/proc/yolo11_baseline_cv/images/TS_99_9_960.png', '/workspace/CZII/proc/yolo11_baseline_cv/images/TS_99_9_970.png', '/workspace/CZII/proc/yolo11_baseline_cv/images/TS_99_9_980.png', '/workspace/CZII/proc/yolo11_baseline_cv/images/TS_99_9_990.png']\n",
      "Found 1104 train images.\n",
      "Found 184 val images.\n",
      "Train list saved to ../../proc/yolo11_baseline_cv/train.txt\n",
      "Val list saved to ../../proc/yolo11_baseline_cv/val.txt\n",
      "New https://pypi.org/project/ultralytics/8.3.70 available 😃 Update with 'pip install -U ultralytics'\n",
      "Ultralytics 8.3.53 🚀 Python-3.12.8 torch-2.5.1+cu124 CUDA:0 (NVIDIA RTX A4000, 16102MiB)\n",
      "\u001b[34m\u001b[1mengine/trainer: \u001b[0mtask=detect, mode=train, model=yolo11l.pt, data=../../proc/yolo11_baseline_cv/cv_conf.yaml, epochs=25, time=None, patience=100, batch=16, imgsz=640, save=True, save_period=-1, cache=False, device=0, workers=8, project=None, name=baseline_cv2, exist_ok=False, pretrained=True, optimizer=AdamW, verbose=True, seed=8620, deterministic=True, single_cls=False, rect=False, cos_lr=True, close_mosaic=10, resume=False, amp=True, fraction=1.0, profile=False, freeze=None, multi_scale=False, overlap_mask=True, mask_ratio=4, dropout=0.0, val=True, split=val, save_json=False, save_hybrid=False, conf=None, iou=0.7, max_det=300, half=False, dnn=False, plots=True, source=None, vid_stride=1, stream_buffer=False, visualize=False, augment=False, agnostic_nms=False, classes=None, retina_masks=False, embed=None, show=False, save_frames=False, save_txt=False, save_conf=False, save_crop=False, show_labels=True, show_conf=True, show_boxes=True, line_width=None, format=torchscript, keras=False, optimize=False, int8=False, dynamic=False, simplify=True, opset=None, workspace=None, nms=False, lr0=5e-05, lrf=0.01, momentum=0.937, weight_decay=0.01, warmup_epochs=3, warmup_momentum=0.8, warmup_bias_lr=0.1, box=7.5, cls=0.5, dfl=1.5, pose=12.0, kobj=1.0, nbs=64, hsv_h=0.015, hsv_s=0.7, hsv_v=0.4, degrees=90, translate=0.1, scale=0, shear=5, perspective=0.0, flipud=0.5, fliplr=0.5, bgr=0.0, mosaic=1.0, mixup=0.2, copy_paste=0.25, copy_paste_mode=flip, auto_augment=randaugment, erasing=0.4, crop_fraction=1.0, cfg=None, tracker=botsort.yaml, save_dir=/workspace/CZII/runs/detect/baseline_cv2\n",
      "Overriding model.yaml nc=80 with nc=6\n",
      "\n",
      "                   from  n    params  module                                       arguments                     \n",
      "  0                  -1  1      1856  ultralytics.nn.modules.conv.Conv             [3, 64, 3, 2]                 \n",
      "  1                  -1  1     73984  ultralytics.nn.modules.conv.Conv             [64, 128, 3, 2]               \n",
      "  2                  -1  2    173824  ultralytics.nn.modules.block.C3k2            [128, 256, 2, True, 0.25]     \n",
      "  3                  -1  1    590336  ultralytics.nn.modules.conv.Conv             [256, 256, 3, 2]              \n",
      "  4                  -1  2    691712  ultralytics.nn.modules.block.C3k2            [256, 512, 2, True, 0.25]     \n",
      "  5                  -1  1   2360320  ultralytics.nn.modules.conv.Conv             [512, 512, 3, 2]              \n",
      "  6                  -1  2   2234368  ultralytics.nn.modules.block.C3k2            [512, 512, 2, True]           \n",
      "  7                  -1  1   2360320  ultralytics.nn.modules.conv.Conv             [512, 512, 3, 2]              \n",
      "  8                  -1  2   2234368  ultralytics.nn.modules.block.C3k2            [512, 512, 2, True]           \n",
      "  9                  -1  1    656896  ultralytics.nn.modules.block.SPPF            [512, 512, 5]                 \n",
      " 10                  -1  2   1455616  ultralytics.nn.modules.block.C2PSA           [512, 512, 2]                 \n",
      " 11                  -1  1         0  torch.nn.modules.upsampling.Upsample         [None, 2, 'nearest']          \n",
      " 12             [-1, 6]  1         0  ultralytics.nn.modules.conv.Concat           [1]                           \n",
      " 13                  -1  2   2496512  ultralytics.nn.modules.block.C3k2            [1024, 512, 2, True]          \n",
      " 14                  -1  1         0  torch.nn.modules.upsampling.Upsample         [None, 2, 'nearest']          \n",
      " 15             [-1, 4]  1         0  ultralytics.nn.modules.conv.Concat           [1]                           \n",
      " 16                  -1  2    756736  ultralytics.nn.modules.block.C3k2            [1024, 256, 2, True]          \n",
      " 17                  -1  1    590336  ultralytics.nn.modules.conv.Conv             [256, 256, 3, 2]              \n",
      " 18            [-1, 13]  1         0  ultralytics.nn.modules.conv.Concat           [1]                           \n",
      " 19                  -1  2   2365440  ultralytics.nn.modules.block.C3k2            [768, 512, 2, True]           \n",
      " 20                  -1  1   2360320  ultralytics.nn.modules.conv.Conv             [512, 512, 3, 2]              \n",
      " 21            [-1, 10]  1         0  ultralytics.nn.modules.conv.Concat           [1]                           \n",
      " 22                  -1  2   2496512  ultralytics.nn.modules.block.C3k2            [1024, 512, 2, True]          \n",
      " 23        [16, 19, 22]  1   1415650  ultralytics.nn.modules.head.Detect           [6, [256, 512, 512]]          \n",
      "YOLO11l summary: 631 layers, 25,315,106 parameters, 25,315,090 gradients, 87.3 GFLOPs\n",
      "\n",
      "Transferred 1009/1015 items from pretrained weights\n",
      "WARNING ⚠️ ClearML installed but not initialized correctly, not logging this run. It seems ClearML is not configured on this machine!\n",
      "To get started with ClearML, setup your own 'clearml-server' or create a free account at https://app.clear.ml\n",
      "Setup instructions can be found here: https://clear.ml/docs\n",
      "\u001b[34m\u001b[1mTensorBoard: \u001b[0mStart with 'tensorboard --logdir /workspace/CZII/runs/detect/baseline_cv2', view at http://localhost:6006/\n",
      "Freezing layer 'model.23.dfl.conv.weight'\n",
      "\u001b[34m\u001b[1mAMP: \u001b[0mrunning Automatic Mixed Precision (AMP) checks...\n",
      "\u001b[34m\u001b[1mAMP: \u001b[0mchecks passed ✅\n"
     ]
    },
    {
     "name": "stderr",
     "output_type": "stream",
     "text": [
      "\u001b[34m\u001b[1mtrain: \u001b[0mScanning /workspace/CZII/proc/yolo11_baseline_cv/labels... 1104 images, 220 backgrounds, 0 corrupt: 100%|██████████| 1104/1104 [00:05<00:00, 199.77it/s]"
     ]
    },
    {
     "name": "stdout",
     "output_type": "stream",
     "text": [
      "\u001b[34m\u001b[1mtrain: \u001b[0mNew cache created: /workspace/CZII/proc/yolo11_baseline_cv/labels.cache\n"
     ]
    },
    {
     "name": "stderr",
     "output_type": "stream",
     "text": [
      "\n"
     ]
    },
    {
     "name": "stdout",
     "output_type": "stream",
     "text": [
      "\u001b[34m\u001b[1malbumentations: \u001b[0mBlur(p=0.01, blur_limit=(3, 7)), MedianBlur(p=0.01, blur_limit=(3, 7)), ToGray(p=0.01, num_output_channels=3, method='weighted_average'), CLAHE(p=0.01, clip_limit=(1.0, 4.0), tile_grid_size=(8, 8))\n"
     ]
    },
    {
     "name": "stderr",
     "output_type": "stream",
     "text": [
      "/workspace/CZII/.venv/lib/python3.12/site-packages/ultralytics/data/augment.py:1850: UserWarning: Argument 'quality_lower' is not valid and will be ignored.\n",
      "  A.ImageCompression(quality_lower=75, p=0.0),\n",
      "\u001b[34m\u001b[1mval: \u001b[0mScanning /workspace/CZII/proc/yolo11_baseline_cv/labels... 184 images, 82 backgrounds, 0 corrupt: 100%|██████████| 184/184 [00:01<00:00, 178.54it/s]"
     ]
    },
    {
     "name": "stdout",
     "output_type": "stream",
     "text": [
      "\u001b[34m\u001b[1mval: \u001b[0mNew cache created: /workspace/CZII/proc/yolo11_baseline_cv/labels.cache\n"
     ]
    },
    {
     "name": "stderr",
     "output_type": "stream",
     "text": [
      "\n"
     ]
    },
    {
     "name": "stdout",
     "output_type": "stream",
     "text": [
      "Plotting labels to /workspace/CZII/runs/detect/baseline_cv2/labels.jpg... \n",
      "\u001b[34m\u001b[1moptimizer:\u001b[0m AdamW(lr=5e-05, momentum=0.937) with parameter groups 167 weight(decay=0.0), 174 weight(decay=0.01), 173 bias(decay=0.0)\n",
      "\u001b[34m\u001b[1mMLflow: \u001b[0mlogging run_id(39e02546fc22481a8c201b3e86740220) to /workspace/CZII/runs/mlflow\n",
      "\u001b[34m\u001b[1mMLflow: \u001b[0mview at http://127.0.0.1:5000 with 'mlflow server --backend-store-uri /workspace/CZII/runs/mlflow'\n",
      "\u001b[34m\u001b[1mMLflow: \u001b[0mdisable with 'yolo settings mlflow=False'\n",
      "\u001b[34m\u001b[1mTensorBoard: \u001b[0mmodel graph visualization added ✅\n",
      "Image sizes 640 train, 640 val\n",
      "Using 8 dataloader workers\n",
      "Logging results to \u001b[1m/workspace/CZII/runs/detect/baseline_cv2\u001b[0m\n",
      "Starting training for 25 epochs...\n",
      "\n",
      "      Epoch    GPU_mem   box_loss   cls_loss   dfl_loss  Instances       Size\n"
     ]
    },
    {
     "name": "stderr",
     "output_type": "stream",
     "text": [
      "       1/25      11.6G      1.951       2.34      1.431        479        640: 100%|██████████| 69/69 [00:30<00:00,  2.25it/s]\n",
      "                 Class     Images  Instances      Box(P          R      mAP50  mAP50-95): 100%|██████████| 6/6 [00:04<00:00,  1.41it/s]"
     ]
    },
    {
     "name": "stdout",
     "output_type": "stream",
     "text": [
      "                   all        184       2814      0.375      0.276      0.199      0.074\n"
     ]
    },
    {
     "name": "stderr",
     "output_type": "stream",
     "text": [
      "\n"
     ]
    },
    {
     "name": "stdout",
     "output_type": "stream",
     "text": [
      "\n",
      "      Epoch    GPU_mem   box_loss   cls_loss   dfl_loss  Instances       Size\n"
     ]
    },
    {
     "name": "stderr",
     "output_type": "stream",
     "text": [
      "       2/25      11.6G      1.377      1.434      1.112        496        640: 100%|██████████| 69/69 [00:28<00:00,  2.41it/s]\n",
      "                 Class     Images  Instances      Box(P          R      mAP50  mAP50-95): 100%|██████████| 6/6 [00:02<00:00,  2.89it/s]"
     ]
    },
    {
     "name": "stdout",
     "output_type": "stream",
     "text": [
      "                   all        184       2814      0.487      0.448      0.474      0.201\n"
     ]
    },
    {
     "name": "stderr",
     "output_type": "stream",
     "text": [
      "\n"
     ]
    },
    {
     "name": "stdout",
     "output_type": "stream",
     "text": [
      "\n",
      "      Epoch    GPU_mem   box_loss   cls_loss   dfl_loss  Instances       Size\n"
     ]
    },
    {
     "name": "stderr",
     "output_type": "stream",
     "text": [
      "       3/25      11.5G      1.304      1.314      1.083        274        640: 100%|██████████| 69/69 [00:27<00:00,  2.47it/s]\n",
      "                 Class     Images  Instances      Box(P          R      mAP50  mAP50-95): 100%|██████████| 6/6 [00:01<00:00,  3.02it/s]"
     ]
    },
    {
     "name": "stdout",
     "output_type": "stream",
     "text": [
      "                   all        184       2814      0.514      0.503      0.509     0.0863\n"
     ]
    },
    {
     "name": "stderr",
     "output_type": "stream",
     "text": [
      "\n"
     ]
    },
    {
     "name": "stdout",
     "output_type": "stream",
     "text": [
      "\n",
      "      Epoch    GPU_mem   box_loss   cls_loss   dfl_loss  Instances       Size\n"
     ]
    },
    {
     "name": "stderr",
     "output_type": "stream",
     "text": [
      "       4/25      11.6G      1.258      1.279      1.062        514        640: 100%|██████████| 69/69 [00:27<00:00,  2.48it/s]\n",
      "                 Class     Images  Instances      Box(P          R      mAP50  mAP50-95): 100%|██████████| 6/6 [00:01<00:00,  3.01it/s]"
     ]
    },
    {
     "name": "stdout",
     "output_type": "stream",
     "text": [
      "                   all        184       2814      0.516      0.515      0.544      0.263\n"
     ]
    },
    {
     "name": "stderr",
     "output_type": "stream",
     "text": [
      "\n"
     ]
    },
    {
     "name": "stdout",
     "output_type": "stream",
     "text": [
      "\n",
      "      Epoch    GPU_mem   box_loss   cls_loss   dfl_loss  Instances       Size\n"
     ]
    },
    {
     "name": "stderr",
     "output_type": "stream",
     "text": [
      "       5/25      11.6G      1.237      1.226      1.053        527        640: 100%|██████████| 69/69 [00:27<00:00,  2.48it/s]\n",
      "                 Class     Images  Instances      Box(P          R      mAP50  mAP50-95): 100%|██████████| 6/6 [00:01<00:00,  3.00it/s]"
     ]
    },
    {
     "name": "stdout",
     "output_type": "stream",
     "text": [
      "                   all        184       2814      0.506      0.562      0.555      0.327\n"
     ]
    },
    {
     "name": "stderr",
     "output_type": "stream",
     "text": [
      "\n"
     ]
    },
    {
     "name": "stdout",
     "output_type": "stream",
     "text": [
      "\n",
      "      Epoch    GPU_mem   box_loss   cls_loss   dfl_loss  Instances       Size\n"
     ]
    },
    {
     "name": "stderr",
     "output_type": "stream",
     "text": [
      "       6/25      11.6G      1.224       1.22      1.051        457        640: 100%|██████████| 69/69 [00:27<00:00,  2.49it/s]\n",
      "                 Class     Images  Instances      Box(P          R      mAP50  mAP50-95): 100%|██████████| 6/6 [00:02<00:00,  2.96it/s]"
     ]
    },
    {
     "name": "stdout",
     "output_type": "stream",
     "text": [
      "                   all        184       2814      0.503       0.56       0.56      0.249\n"
     ]
    },
    {
     "name": "stderr",
     "output_type": "stream",
     "text": [
      "\n"
     ]
    },
    {
     "name": "stdout",
     "output_type": "stream",
     "text": [
      "\n",
      "      Epoch    GPU_mem   box_loss   cls_loss   dfl_loss  Instances       Size\n"
     ]
    },
    {
     "name": "stderr",
     "output_type": "stream",
     "text": [
      "       7/25      11.6G      1.177      1.188      1.035        254        640: 100%|██████████| 69/69 [00:27<00:00,  2.48it/s]\n",
      "                 Class     Images  Instances      Box(P          R      mAP50  mAP50-95): 100%|██████████| 6/6 [00:02<00:00,  2.84it/s]"
     ]
    },
    {
     "name": "stdout",
     "output_type": "stream",
     "text": [
      "                   all        184       2814      0.554      0.546      0.562      0.336\n"
     ]
    },
    {
     "name": "stderr",
     "output_type": "stream",
     "text": [
      "\n"
     ]
    },
    {
     "name": "stdout",
     "output_type": "stream",
     "text": [
      "\n",
      "      Epoch    GPU_mem   box_loss   cls_loss   dfl_loss  Instances       Size\n"
     ]
    },
    {
     "name": "stderr",
     "output_type": "stream",
     "text": [
      "       8/25      11.6G      1.173      1.175      1.029        315        640: 100%|██████████| 69/69 [00:27<00:00,  2.48it/s]\n",
      "                 Class     Images  Instances      Box(P          R      mAP50  mAP50-95): 100%|██████████| 6/6 [00:01<00:00,  3.01it/s]"
     ]
    },
    {
     "name": "stdout",
     "output_type": "stream",
     "text": [
      "                   all        184       2814      0.565      0.553      0.579      0.311\n"
     ]
    },
    {
     "name": "stderr",
     "output_type": "stream",
     "text": [
      "\n"
     ]
    },
    {
     "name": "stdout",
     "output_type": "stream",
     "text": [
      "\n",
      "      Epoch    GPU_mem   box_loss   cls_loss   dfl_loss  Instances       Size\n"
     ]
    },
    {
     "name": "stderr",
     "output_type": "stream",
     "text": [
      "       9/25      11.6G       1.17      1.162      1.027        333        640: 100%|██████████| 69/69 [00:27<00:00,  2.50it/s]\n",
      "                 Class     Images  Instances      Box(P          R      mAP50  mAP50-95): 100%|██████████| 6/6 [00:01<00:00,  3.00it/s]"
     ]
    },
    {
     "name": "stdout",
     "output_type": "stream",
     "text": [
      "                   all        184       2814      0.539      0.532      0.574      0.338\n"
     ]
    },
    {
     "name": "stderr",
     "output_type": "stream",
     "text": [
      "\n"
     ]
    },
    {
     "name": "stdout",
     "output_type": "stream",
     "text": [
      "\n",
      "      Epoch    GPU_mem   box_loss   cls_loss   dfl_loss  Instances       Size\n"
     ]
    },
    {
     "name": "stderr",
     "output_type": "stream",
     "text": [
      "      10/25      11.7G      1.133      1.127      1.016        374        640: 100%|██████████| 69/69 [00:27<00:00,  2.49it/s]\n",
      "                 Class     Images  Instances      Box(P          R      mAP50  mAP50-95): 100%|██████████| 6/6 [00:01<00:00,  3.03it/s]"
     ]
    },
    {
     "name": "stdout",
     "output_type": "stream",
     "text": [
      "                   all        184       2814      0.576       0.57      0.579      0.261\n"
     ]
    },
    {
     "name": "stderr",
     "output_type": "stream",
     "text": [
      "\n"
     ]
    },
    {
     "name": "stdout",
     "output_type": "stream",
     "text": [
      "\n",
      "      Epoch    GPU_mem   box_loss   cls_loss   dfl_loss  Instances       Size\n"
     ]
    },
    {
     "name": "stderr",
     "output_type": "stream",
     "text": [
      "      11/25      11.6G      1.106      1.121       1.01        424        640: 100%|██████████| 69/69 [00:27<00:00,  2.50it/s]\n",
      "                 Class     Images  Instances      Box(P          R      mAP50  mAP50-95): 100%|██████████| 6/6 [00:02<00:00,  2.99it/s]"
     ]
    },
    {
     "name": "stdout",
     "output_type": "stream",
     "text": [
      "                   all        184       2814      0.586      0.577      0.588      0.394\n"
     ]
    },
    {
     "name": "stderr",
     "output_type": "stream",
     "text": [
      "\n"
     ]
    },
    {
     "name": "stdout",
     "output_type": "stream",
     "text": [
      "\n",
      "      Epoch    GPU_mem   box_loss   cls_loss   dfl_loss  Instances       Size\n"
     ]
    },
    {
     "name": "stderr",
     "output_type": "stream",
     "text": [
      "      12/25      11.6G      1.118       1.13      1.009        410        640: 100%|██████████| 69/69 [00:28<00:00,  2.46it/s]\n",
      "                 Class     Images  Instances      Box(P          R      mAP50  mAP50-95): 100%|██████████| 6/6 [00:01<00:00,  3.02it/s]"
     ]
    },
    {
     "name": "stdout",
     "output_type": "stream",
     "text": [
      "                   all        184       2814      0.556      0.592      0.585      0.398\n"
     ]
    },
    {
     "name": "stderr",
     "output_type": "stream",
     "text": [
      "\n"
     ]
    },
    {
     "name": "stdout",
     "output_type": "stream",
     "text": [
      "\n",
      "      Epoch    GPU_mem   box_loss   cls_loss   dfl_loss  Instances       Size\n"
     ]
    },
    {
     "name": "stderr",
     "output_type": "stream",
     "text": [
      "      13/25      11.6G      1.115      1.107      1.008        599        640: 100%|██████████| 69/69 [00:27<00:00,  2.49it/s]\n",
      "                 Class     Images  Instances      Box(P          R      mAP50  mAP50-95): 100%|██████████| 6/6 [00:01<00:00,  3.04it/s]"
     ]
    },
    {
     "name": "stdout",
     "output_type": "stream",
     "text": [
      "                   all        184       2814      0.546       0.58      0.582      0.393\n"
     ]
    },
    {
     "name": "stderr",
     "output_type": "stream",
     "text": [
      "\n"
     ]
    },
    {
     "name": "stdout",
     "output_type": "stream",
     "text": [
      "\n",
      "      Epoch    GPU_mem   box_loss   cls_loss   dfl_loss  Instances       Size\n"
     ]
    },
    {
     "name": "stderr",
     "output_type": "stream",
     "text": [
      "      14/25      11.7G      1.089      1.095      1.002        455        640: 100%|██████████| 69/69 [00:27<00:00,  2.49it/s]\n",
      "                 Class     Images  Instances      Box(P          R      mAP50  mAP50-95): 100%|██████████| 6/6 [00:02<00:00,  2.94it/s]"
     ]
    },
    {
     "name": "stdout",
     "output_type": "stream",
     "text": [
      "                   all        184       2814      0.581      0.592      0.581      0.407\n"
     ]
    },
    {
     "name": "stderr",
     "output_type": "stream",
     "text": [
      "\n"
     ]
    },
    {
     "name": "stdout",
     "output_type": "stream",
     "text": [
      "\n",
      "      Epoch    GPU_mem   box_loss   cls_loss   dfl_loss  Instances       Size\n"
     ]
    },
    {
     "name": "stderr",
     "output_type": "stream",
     "text": [
      "      15/25      11.7G      1.099      1.101      1.004        361        640: 100%|██████████| 69/69 [00:27<00:00,  2.49it/s]\n",
      "                 Class     Images  Instances      Box(P          R      mAP50  mAP50-95): 100%|██████████| 6/6 [00:01<00:00,  3.01it/s]"
     ]
    },
    {
     "name": "stdout",
     "output_type": "stream",
     "text": [
      "                   all        184       2814      0.609      0.577       0.59      0.432\n"
     ]
    },
    {
     "name": "stderr",
     "output_type": "stream",
     "text": [
      "\n"
     ]
    },
    {
     "name": "stdout",
     "output_type": "stream",
     "text": [
      "Closing dataloader mosaic\n",
      "\u001b[34m\u001b[1malbumentations: \u001b[0mBlur(p=0.01, blur_limit=(3, 7)), MedianBlur(p=0.01, blur_limit=(3, 7)), ToGray(p=0.01, num_output_channels=3, method='weighted_average'), CLAHE(p=0.01, clip_limit=(1.0, 4.0), tile_grid_size=(8, 8))\n"
     ]
    },
    {
     "name": "stderr",
     "output_type": "stream",
     "text": [
      "/workspace/CZII/.venv/lib/python3.12/site-packages/ultralytics/data/augment.py:1850: UserWarning: Argument 'quality_lower' is not valid and will be ignored.\n",
      "  A.ImageCompression(quality_lower=75, p=0.0),\n"
     ]
    },
    {
     "name": "stdout",
     "output_type": "stream",
     "text": [
      "\n",
      "      Epoch    GPU_mem   box_loss   cls_loss   dfl_loss  Instances       Size\n"
     ]
    },
    {
     "name": "stderr",
     "output_type": "stream",
     "text": [
      "      16/25      11.5G     0.9903      1.031     0.9593        337        640: 100%|██████████| 69/69 [00:28<00:00,  2.42it/s]\n",
      "                 Class     Images  Instances      Box(P          R      mAP50  mAP50-95): 100%|██████████| 6/6 [00:02<00:00,  2.78it/s]"
     ]
    },
    {
     "name": "stdout",
     "output_type": "stream",
     "text": [
      "                   all        184       2814      0.612       0.58      0.593      0.426\n"
     ]
    },
    {
     "name": "stderr",
     "output_type": "stream",
     "text": [
      "\n"
     ]
    },
    {
     "name": "stdout",
     "output_type": "stream",
     "text": [
      "\n",
      "      Epoch    GPU_mem   box_loss   cls_loss   dfl_loss  Instances       Size\n"
     ]
    },
    {
     "name": "stderr",
     "output_type": "stream",
     "text": [
      "      17/25      11.4G     0.9767      1.001     0.9547        370        640: 100%|██████████| 69/69 [00:27<00:00,  2.49it/s]\n",
      "                 Class     Images  Instances      Box(P          R      mAP50  mAP50-95): 100%|██████████| 6/6 [00:02<00:00,  2.81it/s]"
     ]
    },
    {
     "name": "stdout",
     "output_type": "stream",
     "text": [
      "                   all        184       2814      0.606      0.586      0.597      0.425\n"
     ]
    },
    {
     "name": "stderr",
     "output_type": "stream",
     "text": [
      "\n"
     ]
    },
    {
     "name": "stdout",
     "output_type": "stream",
     "text": [
      "\n",
      "      Epoch    GPU_mem   box_loss   cls_loss   dfl_loss  Instances       Size\n"
     ]
    },
    {
     "name": "stderr",
     "output_type": "stream",
     "text": [
      "      18/25      11.5G     0.9674     0.9974     0.9525        448        640: 100%|██████████| 69/69 [00:27<00:00,  2.50it/s]\n",
      "                 Class     Images  Instances      Box(P          R      mAP50  mAP50-95): 100%|██████████| 6/6 [00:01<00:00,  3.01it/s]"
     ]
    },
    {
     "name": "stdout",
     "output_type": "stream",
     "text": [
      "                   all        184       2814      0.612      0.595      0.596      0.426\n"
     ]
    },
    {
     "name": "stderr",
     "output_type": "stream",
     "text": [
      "\n"
     ]
    },
    {
     "name": "stdout",
     "output_type": "stream",
     "text": [
      "\n",
      "      Epoch    GPU_mem   box_loss   cls_loss   dfl_loss  Instances       Size\n"
     ]
    },
    {
     "name": "stderr",
     "output_type": "stream",
     "text": [
      "      19/25      11.6G     0.9687      0.981     0.9538        283        640: 100%|██████████| 69/69 [00:27<00:00,  2.49it/s]\n",
      "                 Class     Images  Instances      Box(P          R      mAP50  mAP50-95): 100%|██████████| 6/6 [00:02<00:00,  2.89it/s]"
     ]
    },
    {
     "name": "stdout",
     "output_type": "stream",
     "text": [
      "                   all        184       2814      0.597      0.597      0.594      0.417\n"
     ]
    },
    {
     "name": "stderr",
     "output_type": "stream",
     "text": [
      "\n"
     ]
    },
    {
     "name": "stdout",
     "output_type": "stream",
     "text": [
      "\n",
      "      Epoch    GPU_mem   box_loss   cls_loss   dfl_loss  Instances       Size\n"
     ]
    },
    {
     "name": "stderr",
     "output_type": "stream",
     "text": [
      "      20/25      11.5G     0.9574     0.9729     0.9463        348        640: 100%|██████████| 69/69 [00:27<00:00,  2.52it/s]\n",
      "                 Class     Images  Instances      Box(P          R      mAP50  mAP50-95): 100%|██████████| 6/6 [00:02<00:00,  2.89it/s]"
     ]
    },
    {
     "name": "stdout",
     "output_type": "stream",
     "text": [
      "                   all        184       2814      0.582      0.599       0.59       0.43\n"
     ]
    },
    {
     "name": "stderr",
     "output_type": "stream",
     "text": [
      "\n"
     ]
    },
    {
     "name": "stdout",
     "output_type": "stream",
     "text": [
      "\n",
      "      Epoch    GPU_mem   box_loss   cls_loss   dfl_loss  Instances       Size\n"
     ]
    },
    {
     "name": "stderr",
     "output_type": "stream",
     "text": [
      "      21/25      11.5G     0.9457     0.9598     0.9471        347        640: 100%|██████████| 69/69 [00:27<00:00,  2.53it/s]\n",
      "                 Class     Images  Instances      Box(P          R      mAP50  mAP50-95): 100%|██████████| 6/6 [00:02<00:00,  2.79it/s]"
     ]
    },
    {
     "name": "stdout",
     "output_type": "stream",
     "text": [
      "                   all        184       2814      0.597        0.6      0.593      0.429\n"
     ]
    },
    {
     "name": "stderr",
     "output_type": "stream",
     "text": [
      "\n"
     ]
    },
    {
     "name": "stdout",
     "output_type": "stream",
     "text": [
      "\n",
      "      Epoch    GPU_mem   box_loss   cls_loss   dfl_loss  Instances       Size\n"
     ]
    },
    {
     "name": "stderr",
     "output_type": "stream",
     "text": [
      "      22/25      11.6G     0.9431     0.9498     0.9441        361        640: 100%|██████████| 69/69 [00:27<00:00,  2.51it/s]\n",
      "                 Class     Images  Instances      Box(P          R      mAP50  mAP50-95): 100%|██████████| 6/6 [00:02<00:00,  2.90it/s]"
     ]
    },
    {
     "name": "stdout",
     "output_type": "stream",
     "text": [
      "                   all        184       2814      0.581      0.601      0.592      0.434\n"
     ]
    },
    {
     "name": "stderr",
     "output_type": "stream",
     "text": [
      "\n"
     ]
    },
    {
     "name": "stdout",
     "output_type": "stream",
     "text": [
      "\n",
      "      Epoch    GPU_mem   box_loss   cls_loss   dfl_loss  Instances       Size\n"
     ]
    },
    {
     "name": "stderr",
     "output_type": "stream",
     "text": [
      "      23/25      11.6G     0.9409     0.9527     0.9441        226        640: 100%|██████████| 69/69 [00:27<00:00,  2.49it/s]\n",
      "                 Class     Images  Instances      Box(P          R      mAP50  mAP50-95): 100%|██████████| 6/6 [00:02<00:00,  2.98it/s]"
     ]
    },
    {
     "name": "stdout",
     "output_type": "stream",
     "text": [
      "                   all        184       2814       0.59      0.604      0.593      0.431\n"
     ]
    },
    {
     "name": "stderr",
     "output_type": "stream",
     "text": [
      "\n"
     ]
    },
    {
     "name": "stdout",
     "output_type": "stream",
     "text": [
      "\n",
      "      Epoch    GPU_mem   box_loss   cls_loss   dfl_loss  Instances       Size\n"
     ]
    },
    {
     "name": "stderr",
     "output_type": "stream",
     "text": [
      "      24/25      11.5G     0.9435     0.9533     0.9448        204        640: 100%|██████████| 69/69 [00:27<00:00,  2.47it/s]\n",
      "                 Class     Images  Instances      Box(P          R      mAP50  mAP50-95): 100%|██████████| 6/6 [00:02<00:00,  2.79it/s]"
     ]
    },
    {
     "name": "stdout",
     "output_type": "stream",
     "text": [
      "                   all        184       2814      0.588      0.595      0.592      0.432\n"
     ]
    },
    {
     "name": "stderr",
     "output_type": "stream",
     "text": [
      "\n"
     ]
    },
    {
     "name": "stdout",
     "output_type": "stream",
     "text": [
      "\n",
      "      Epoch    GPU_mem   box_loss   cls_loss   dfl_loss  Instances       Size\n"
     ]
    },
    {
     "name": "stderr",
     "output_type": "stream",
     "text": [
      "      25/25      11.5G     0.9367     0.9466     0.9432        391        640: 100%|██████████| 69/69 [00:27<00:00,  2.48it/s]\n",
      "                 Class     Images  Instances      Box(P          R      mAP50  mAP50-95): 100%|██████████| 6/6 [00:02<00:00,  2.81it/s]"
     ]
    },
    {
     "name": "stdout",
     "output_type": "stream",
     "text": [
      "                   all        184       2814      0.591      0.589      0.592      0.431\n"
     ]
    },
    {
     "name": "stderr",
     "output_type": "stream",
     "text": [
      "\n"
     ]
    },
    {
     "name": "stdout",
     "output_type": "stream",
     "text": [
      "\n",
      "25 epochs completed in 0.227 hours.\n",
      "Optimizer stripped from /workspace/CZII/runs/detect/baseline_cv2/weights/last.pt, 51.2MB\n",
      "Optimizer stripped from /workspace/CZII/runs/detect/baseline_cv2/weights/best.pt, 51.2MB\n",
      "\n",
      "Validating /workspace/CZII/runs/detect/baseline_cv2/weights/best.pt...\n",
      "Ultralytics 8.3.53 🚀 Python-3.12.8 torch-2.5.1+cu124 CUDA:0 (NVIDIA RTX A4000, 16102MiB)\n",
      "YOLO11l summary (fused): 464 layers, 25,283,938 parameters, 0 gradients, 86.6 GFLOPs\n"
     ]
    },
    {
     "name": "stderr",
     "output_type": "stream",
     "text": [
      "                 Class     Images  Instances      Box(P          R      mAP50  mAP50-95): 100%|██████████| 6/6 [00:06<00:00,  1.07s/it]\n"
     ]
    },
    {
     "name": "stdout",
     "output_type": "stream",
     "text": [
      "                   all        184       2814      0.581      0.601      0.592      0.434\n",
      "          apo-ferritin         75        385      0.667      0.694       0.64      0.429\n",
      "    beta-galactosidase         86        272      0.285      0.232      0.191      0.107\n",
      "              ribosome         96       1073      0.841      0.782      0.886      0.655\n",
      "         thyroglobulin        100        850      0.348      0.338      0.276      0.175\n",
      "   virus-like-particle         56        234      0.763      0.961      0.965      0.806\n",
      "Speed: 1.2ms preprocess, 16.4ms inference, 0.0ms loss, 1.6ms postprocess per image\n",
      "Results saved to \u001b[1m/workspace/CZII/runs/detect/baseline_cv2\u001b[0m\n",
      "\u001b[34m\u001b[1mMLflow: \u001b[0mresults logged to /workspace/CZII/runs/mlflow\n",
      "\u001b[34m\u001b[1mMLflow: \u001b[0mdisable with 'yolo settings mlflow=False'\n",
      "====================================================================================================\n",
      "Processing TS_6_4...\n",
      "['/workspace/CZII/proc/yolo11_baseline_cv/images/TS_5_4_0.png', '/workspace/CZII/proc/yolo11_baseline_cv/images/TS_5_4_10.png', '/workspace/CZII/proc/yolo11_baseline_cv/images/TS_5_4_100.png', '/workspace/CZII/proc/yolo11_baseline_cv/images/TS_5_4_1000.png', '/workspace/CZII/proc/yolo11_baseline_cv/images/TS_5_4_1010.png', '/workspace/CZII/proc/yolo11_baseline_cv/images/TS_5_4_1020.png', '/workspace/CZII/proc/yolo11_baseline_cv/images/TS_5_4_1030.png', '/workspace/CZII/proc/yolo11_baseline_cv/images/TS_5_4_1040.png', '/workspace/CZII/proc/yolo11_baseline_cv/images/TS_5_4_1050.png', '/workspace/CZII/proc/yolo11_baseline_cv/images/TS_5_4_1060.png', '/workspace/CZII/proc/yolo11_baseline_cv/images/TS_5_4_1070.png', '/workspace/CZII/proc/yolo11_baseline_cv/images/TS_5_4_1080.png', '/workspace/CZII/proc/yolo11_baseline_cv/images/TS_5_4_1090.png', '/workspace/CZII/proc/yolo11_baseline_cv/images/TS_5_4_110.png', '/workspace/CZII/proc/yolo11_baseline_cv/images/TS_5_4_1100.png', '/workspace/CZII/proc/yolo11_baseline_cv/images/TS_5_4_1110.png', '/workspace/CZII/proc/yolo11_baseline_cv/images/TS_5_4_1120.png', '/workspace/CZII/proc/yolo11_baseline_cv/images/TS_5_4_1130.png', '/workspace/CZII/proc/yolo11_baseline_cv/images/TS_5_4_1140.png', '/workspace/CZII/proc/yolo11_baseline_cv/images/TS_5_4_1150.png', '/workspace/CZII/proc/yolo11_baseline_cv/images/TS_5_4_1160.png', '/workspace/CZII/proc/yolo11_baseline_cv/images/TS_5_4_1170.png', '/workspace/CZII/proc/yolo11_baseline_cv/images/TS_5_4_1180.png', '/workspace/CZII/proc/yolo11_baseline_cv/images/TS_5_4_1190.png', '/workspace/CZII/proc/yolo11_baseline_cv/images/TS_5_4_120.png', '/workspace/CZII/proc/yolo11_baseline_cv/images/TS_5_4_1200.png', '/workspace/CZII/proc/yolo11_baseline_cv/images/TS_5_4_1210.png', '/workspace/CZII/proc/yolo11_baseline_cv/images/TS_5_4_1220.png', '/workspace/CZII/proc/yolo11_baseline_cv/images/TS_5_4_1230.png', '/workspace/CZII/proc/yolo11_baseline_cv/images/TS_5_4_1240.png', '/workspace/CZII/proc/yolo11_baseline_cv/images/TS_5_4_1250.png', '/workspace/CZII/proc/yolo11_baseline_cv/images/TS_5_4_1260.png', '/workspace/CZII/proc/yolo11_baseline_cv/images/TS_5_4_1270.png', '/workspace/CZII/proc/yolo11_baseline_cv/images/TS_5_4_1280.png', '/workspace/CZII/proc/yolo11_baseline_cv/images/TS_5_4_1290.png', '/workspace/CZII/proc/yolo11_baseline_cv/images/TS_5_4_130.png', '/workspace/CZII/proc/yolo11_baseline_cv/images/TS_5_4_1300.png', '/workspace/CZII/proc/yolo11_baseline_cv/images/TS_5_4_1310.png', '/workspace/CZII/proc/yolo11_baseline_cv/images/TS_5_4_1320.png', '/workspace/CZII/proc/yolo11_baseline_cv/images/TS_5_4_1330.png', '/workspace/CZII/proc/yolo11_baseline_cv/images/TS_5_4_1340.png', '/workspace/CZII/proc/yolo11_baseline_cv/images/TS_5_4_1350.png', '/workspace/CZII/proc/yolo11_baseline_cv/images/TS_5_4_1360.png', '/workspace/CZII/proc/yolo11_baseline_cv/images/TS_5_4_1370.png', '/workspace/CZII/proc/yolo11_baseline_cv/images/TS_5_4_1380.png', '/workspace/CZII/proc/yolo11_baseline_cv/images/TS_5_4_1390.png', '/workspace/CZII/proc/yolo11_baseline_cv/images/TS_5_4_140.png', '/workspace/CZII/proc/yolo11_baseline_cv/images/TS_5_4_1400.png', '/workspace/CZII/proc/yolo11_baseline_cv/images/TS_5_4_1410.png', '/workspace/CZII/proc/yolo11_baseline_cv/images/TS_5_4_1420.png', '/workspace/CZII/proc/yolo11_baseline_cv/images/TS_5_4_1430.png', '/workspace/CZII/proc/yolo11_baseline_cv/images/TS_5_4_1440.png', '/workspace/CZII/proc/yolo11_baseline_cv/images/TS_5_4_1450.png', '/workspace/CZII/proc/yolo11_baseline_cv/images/TS_5_4_1460.png', '/workspace/CZII/proc/yolo11_baseline_cv/images/TS_5_4_1470.png', '/workspace/CZII/proc/yolo11_baseline_cv/images/TS_5_4_1480.png', '/workspace/CZII/proc/yolo11_baseline_cv/images/TS_5_4_1490.png', '/workspace/CZII/proc/yolo11_baseline_cv/images/TS_5_4_150.png', '/workspace/CZII/proc/yolo11_baseline_cv/images/TS_5_4_1500.png', '/workspace/CZII/proc/yolo11_baseline_cv/images/TS_5_4_1510.png', '/workspace/CZII/proc/yolo11_baseline_cv/images/TS_5_4_1520.png', '/workspace/CZII/proc/yolo11_baseline_cv/images/TS_5_4_1530.png', '/workspace/CZII/proc/yolo11_baseline_cv/images/TS_5_4_1540.png', '/workspace/CZII/proc/yolo11_baseline_cv/images/TS_5_4_1550.png', '/workspace/CZII/proc/yolo11_baseline_cv/images/TS_5_4_1560.png', '/workspace/CZII/proc/yolo11_baseline_cv/images/TS_5_4_1570.png', '/workspace/CZII/proc/yolo11_baseline_cv/images/TS_5_4_1580.png', '/workspace/CZII/proc/yolo11_baseline_cv/images/TS_5_4_1590.png', '/workspace/CZII/proc/yolo11_baseline_cv/images/TS_5_4_160.png', '/workspace/CZII/proc/yolo11_baseline_cv/images/TS_5_4_1600.png', '/workspace/CZII/proc/yolo11_baseline_cv/images/TS_5_4_1610.png', '/workspace/CZII/proc/yolo11_baseline_cv/images/TS_5_4_1620.png', '/workspace/CZII/proc/yolo11_baseline_cv/images/TS_5_4_1630.png', '/workspace/CZII/proc/yolo11_baseline_cv/images/TS_5_4_1640.png', '/workspace/CZII/proc/yolo11_baseline_cv/images/TS_5_4_1650.png', '/workspace/CZII/proc/yolo11_baseline_cv/images/TS_5_4_1660.png', '/workspace/CZII/proc/yolo11_baseline_cv/images/TS_5_4_1670.png', '/workspace/CZII/proc/yolo11_baseline_cv/images/TS_5_4_1680.png', '/workspace/CZII/proc/yolo11_baseline_cv/images/TS_5_4_1690.png', '/workspace/CZII/proc/yolo11_baseline_cv/images/TS_5_4_170.png', '/workspace/CZII/proc/yolo11_baseline_cv/images/TS_5_4_1700.png', '/workspace/CZII/proc/yolo11_baseline_cv/images/TS_5_4_1710.png', '/workspace/CZII/proc/yolo11_baseline_cv/images/TS_5_4_1720.png', '/workspace/CZII/proc/yolo11_baseline_cv/images/TS_5_4_1730.png', '/workspace/CZII/proc/yolo11_baseline_cv/images/TS_5_4_1740.png', '/workspace/CZII/proc/yolo11_baseline_cv/images/TS_5_4_1750.png', '/workspace/CZII/proc/yolo11_baseline_cv/images/TS_5_4_1760.png', '/workspace/CZII/proc/yolo11_baseline_cv/images/TS_5_4_1770.png', '/workspace/CZII/proc/yolo11_baseline_cv/images/TS_5_4_1780.png', '/workspace/CZII/proc/yolo11_baseline_cv/images/TS_5_4_1790.png', '/workspace/CZII/proc/yolo11_baseline_cv/images/TS_5_4_180.png', '/workspace/CZII/proc/yolo11_baseline_cv/images/TS_5_4_1800.png', '/workspace/CZII/proc/yolo11_baseline_cv/images/TS_5_4_1810.png', '/workspace/CZII/proc/yolo11_baseline_cv/images/TS_5_4_1820.png', '/workspace/CZII/proc/yolo11_baseline_cv/images/TS_5_4_1830.png', '/workspace/CZII/proc/yolo11_baseline_cv/images/TS_5_4_190.png', '/workspace/CZII/proc/yolo11_baseline_cv/images/TS_5_4_20.png', '/workspace/CZII/proc/yolo11_baseline_cv/images/TS_5_4_200.png', '/workspace/CZII/proc/yolo11_baseline_cv/images/TS_5_4_210.png', '/workspace/CZII/proc/yolo11_baseline_cv/images/TS_5_4_220.png', '/workspace/CZII/proc/yolo11_baseline_cv/images/TS_5_4_230.png', '/workspace/CZII/proc/yolo11_baseline_cv/images/TS_5_4_240.png', '/workspace/CZII/proc/yolo11_baseline_cv/images/TS_5_4_250.png', '/workspace/CZII/proc/yolo11_baseline_cv/images/TS_5_4_260.png', '/workspace/CZII/proc/yolo11_baseline_cv/images/TS_5_4_270.png', '/workspace/CZII/proc/yolo11_baseline_cv/images/TS_5_4_280.png', '/workspace/CZII/proc/yolo11_baseline_cv/images/TS_5_4_290.png', '/workspace/CZII/proc/yolo11_baseline_cv/images/TS_5_4_30.png', '/workspace/CZII/proc/yolo11_baseline_cv/images/TS_5_4_300.png', '/workspace/CZII/proc/yolo11_baseline_cv/images/TS_5_4_310.png', '/workspace/CZII/proc/yolo11_baseline_cv/images/TS_5_4_320.png', '/workspace/CZII/proc/yolo11_baseline_cv/images/TS_5_4_330.png', '/workspace/CZII/proc/yolo11_baseline_cv/images/TS_5_4_340.png', '/workspace/CZII/proc/yolo11_baseline_cv/images/TS_5_4_350.png', '/workspace/CZII/proc/yolo11_baseline_cv/images/TS_5_4_360.png', '/workspace/CZII/proc/yolo11_baseline_cv/images/TS_5_4_370.png', '/workspace/CZII/proc/yolo11_baseline_cv/images/TS_5_4_380.png', '/workspace/CZII/proc/yolo11_baseline_cv/images/TS_5_4_390.png', '/workspace/CZII/proc/yolo11_baseline_cv/images/TS_5_4_40.png', '/workspace/CZII/proc/yolo11_baseline_cv/images/TS_5_4_400.png', '/workspace/CZII/proc/yolo11_baseline_cv/images/TS_5_4_410.png', '/workspace/CZII/proc/yolo11_baseline_cv/images/TS_5_4_420.png', '/workspace/CZII/proc/yolo11_baseline_cv/images/TS_5_4_430.png', '/workspace/CZII/proc/yolo11_baseline_cv/images/TS_5_4_440.png', '/workspace/CZII/proc/yolo11_baseline_cv/images/TS_5_4_450.png', '/workspace/CZII/proc/yolo11_baseline_cv/images/TS_5_4_460.png', '/workspace/CZII/proc/yolo11_baseline_cv/images/TS_5_4_470.png', '/workspace/CZII/proc/yolo11_baseline_cv/images/TS_5_4_480.png', '/workspace/CZII/proc/yolo11_baseline_cv/images/TS_5_4_490.png', '/workspace/CZII/proc/yolo11_baseline_cv/images/TS_5_4_50.png', '/workspace/CZII/proc/yolo11_baseline_cv/images/TS_5_4_500.png', '/workspace/CZII/proc/yolo11_baseline_cv/images/TS_5_4_510.png', '/workspace/CZII/proc/yolo11_baseline_cv/images/TS_5_4_520.png', '/workspace/CZII/proc/yolo11_baseline_cv/images/TS_5_4_530.png', '/workspace/CZII/proc/yolo11_baseline_cv/images/TS_5_4_540.png', '/workspace/CZII/proc/yolo11_baseline_cv/images/TS_5_4_550.png', '/workspace/CZII/proc/yolo11_baseline_cv/images/TS_5_4_560.png', '/workspace/CZII/proc/yolo11_baseline_cv/images/TS_5_4_570.png', '/workspace/CZII/proc/yolo11_baseline_cv/images/TS_5_4_580.png', '/workspace/CZII/proc/yolo11_baseline_cv/images/TS_5_4_590.png', '/workspace/CZII/proc/yolo11_baseline_cv/images/TS_5_4_60.png', '/workspace/CZII/proc/yolo11_baseline_cv/images/TS_5_4_600.png', '/workspace/CZII/proc/yolo11_baseline_cv/images/TS_5_4_610.png', '/workspace/CZII/proc/yolo11_baseline_cv/images/TS_5_4_620.png', '/workspace/CZII/proc/yolo11_baseline_cv/images/TS_5_4_630.png', '/workspace/CZII/proc/yolo11_baseline_cv/images/TS_5_4_640.png', '/workspace/CZII/proc/yolo11_baseline_cv/images/TS_5_4_650.png', '/workspace/CZII/proc/yolo11_baseline_cv/images/TS_5_4_660.png', '/workspace/CZII/proc/yolo11_baseline_cv/images/TS_5_4_670.png', '/workspace/CZII/proc/yolo11_baseline_cv/images/TS_5_4_680.png', '/workspace/CZII/proc/yolo11_baseline_cv/images/TS_5_4_690.png', '/workspace/CZII/proc/yolo11_baseline_cv/images/TS_5_4_70.png', '/workspace/CZII/proc/yolo11_baseline_cv/images/TS_5_4_700.png', '/workspace/CZII/proc/yolo11_baseline_cv/images/TS_5_4_710.png', '/workspace/CZII/proc/yolo11_baseline_cv/images/TS_5_4_720.png', '/workspace/CZII/proc/yolo11_baseline_cv/images/TS_5_4_730.png', '/workspace/CZII/proc/yolo11_baseline_cv/images/TS_5_4_740.png', '/workspace/CZII/proc/yolo11_baseline_cv/images/TS_5_4_750.png', '/workspace/CZII/proc/yolo11_baseline_cv/images/TS_5_4_760.png', '/workspace/CZII/proc/yolo11_baseline_cv/images/TS_5_4_770.png', '/workspace/CZII/proc/yolo11_baseline_cv/images/TS_5_4_780.png', '/workspace/CZII/proc/yolo11_baseline_cv/images/TS_5_4_790.png', '/workspace/CZII/proc/yolo11_baseline_cv/images/TS_5_4_80.png', '/workspace/CZII/proc/yolo11_baseline_cv/images/TS_5_4_800.png', '/workspace/CZII/proc/yolo11_baseline_cv/images/TS_5_4_810.png', '/workspace/CZII/proc/yolo11_baseline_cv/images/TS_5_4_820.png', '/workspace/CZII/proc/yolo11_baseline_cv/images/TS_5_4_830.png', '/workspace/CZII/proc/yolo11_baseline_cv/images/TS_5_4_840.png', '/workspace/CZII/proc/yolo11_baseline_cv/images/TS_5_4_850.png', '/workspace/CZII/proc/yolo11_baseline_cv/images/TS_5_4_860.png', '/workspace/CZII/proc/yolo11_baseline_cv/images/TS_5_4_870.png', '/workspace/CZII/proc/yolo11_baseline_cv/images/TS_5_4_880.png', '/workspace/CZII/proc/yolo11_baseline_cv/images/TS_5_4_890.png', '/workspace/CZII/proc/yolo11_baseline_cv/images/TS_5_4_90.png', '/workspace/CZII/proc/yolo11_baseline_cv/images/TS_5_4_900.png', '/workspace/CZII/proc/yolo11_baseline_cv/images/TS_5_4_910.png', '/workspace/CZII/proc/yolo11_baseline_cv/images/TS_5_4_920.png', '/workspace/CZII/proc/yolo11_baseline_cv/images/TS_5_4_930.png', '/workspace/CZII/proc/yolo11_baseline_cv/images/TS_5_4_940.png', '/workspace/CZII/proc/yolo11_baseline_cv/images/TS_5_4_950.png', '/workspace/CZII/proc/yolo11_baseline_cv/images/TS_5_4_960.png', '/workspace/CZII/proc/yolo11_baseline_cv/images/TS_5_4_970.png', '/workspace/CZII/proc/yolo11_baseline_cv/images/TS_5_4_980.png', '/workspace/CZII/proc/yolo11_baseline_cv/images/TS_5_4_990.png', '/workspace/CZII/proc/yolo11_baseline_cv/images/TS_69_2_0.png', '/workspace/CZII/proc/yolo11_baseline_cv/images/TS_69_2_10.png', '/workspace/CZII/proc/yolo11_baseline_cv/images/TS_69_2_100.png', '/workspace/CZII/proc/yolo11_baseline_cv/images/TS_69_2_1000.png', '/workspace/CZII/proc/yolo11_baseline_cv/images/TS_69_2_1010.png', '/workspace/CZII/proc/yolo11_baseline_cv/images/TS_69_2_1020.png', '/workspace/CZII/proc/yolo11_baseline_cv/images/TS_69_2_1030.png', '/workspace/CZII/proc/yolo11_baseline_cv/images/TS_69_2_1040.png', '/workspace/CZII/proc/yolo11_baseline_cv/images/TS_69_2_1050.png', '/workspace/CZII/proc/yolo11_baseline_cv/images/TS_69_2_1060.png', '/workspace/CZII/proc/yolo11_baseline_cv/images/TS_69_2_1070.png', '/workspace/CZII/proc/yolo11_baseline_cv/images/TS_69_2_1080.png', '/workspace/CZII/proc/yolo11_baseline_cv/images/TS_69_2_1090.png', '/workspace/CZII/proc/yolo11_baseline_cv/images/TS_69_2_110.png', '/workspace/CZII/proc/yolo11_baseline_cv/images/TS_69_2_1100.png', '/workspace/CZII/proc/yolo11_baseline_cv/images/TS_69_2_1110.png', '/workspace/CZII/proc/yolo11_baseline_cv/images/TS_69_2_1120.png', '/workspace/CZII/proc/yolo11_baseline_cv/images/TS_69_2_1130.png', '/workspace/CZII/proc/yolo11_baseline_cv/images/TS_69_2_1140.png', '/workspace/CZII/proc/yolo11_baseline_cv/images/TS_69_2_1150.png', '/workspace/CZII/proc/yolo11_baseline_cv/images/TS_69_2_1160.png', '/workspace/CZII/proc/yolo11_baseline_cv/images/TS_69_2_1170.png', '/workspace/CZII/proc/yolo11_baseline_cv/images/TS_69_2_1180.png', '/workspace/CZII/proc/yolo11_baseline_cv/images/TS_69_2_1190.png', '/workspace/CZII/proc/yolo11_baseline_cv/images/TS_69_2_120.png', '/workspace/CZII/proc/yolo11_baseline_cv/images/TS_69_2_1200.png', '/workspace/CZII/proc/yolo11_baseline_cv/images/TS_69_2_1210.png', '/workspace/CZII/proc/yolo11_baseline_cv/images/TS_69_2_1220.png', '/workspace/CZII/proc/yolo11_baseline_cv/images/TS_69_2_1230.png', '/workspace/CZII/proc/yolo11_baseline_cv/images/TS_69_2_1240.png', '/workspace/CZII/proc/yolo11_baseline_cv/images/TS_69_2_1250.png', '/workspace/CZII/proc/yolo11_baseline_cv/images/TS_69_2_1260.png', '/workspace/CZII/proc/yolo11_baseline_cv/images/TS_69_2_1270.png', '/workspace/CZII/proc/yolo11_baseline_cv/images/TS_69_2_1280.png', '/workspace/CZII/proc/yolo11_baseline_cv/images/TS_69_2_1290.png', '/workspace/CZII/proc/yolo11_baseline_cv/images/TS_69_2_130.png', '/workspace/CZII/proc/yolo11_baseline_cv/images/TS_69_2_1300.png', '/workspace/CZII/proc/yolo11_baseline_cv/images/TS_69_2_1310.png', '/workspace/CZII/proc/yolo11_baseline_cv/images/TS_69_2_1320.png', '/workspace/CZII/proc/yolo11_baseline_cv/images/TS_69_2_1330.png', '/workspace/CZII/proc/yolo11_baseline_cv/images/TS_69_2_1340.png', '/workspace/CZII/proc/yolo11_baseline_cv/images/TS_69_2_1350.png', '/workspace/CZII/proc/yolo11_baseline_cv/images/TS_69_2_1360.png', '/workspace/CZII/proc/yolo11_baseline_cv/images/TS_69_2_1370.png', '/workspace/CZII/proc/yolo11_baseline_cv/images/TS_69_2_1380.png', '/workspace/CZII/proc/yolo11_baseline_cv/images/TS_69_2_1390.png', '/workspace/CZII/proc/yolo11_baseline_cv/images/TS_69_2_140.png', '/workspace/CZII/proc/yolo11_baseline_cv/images/TS_69_2_1400.png', '/workspace/CZII/proc/yolo11_baseline_cv/images/TS_69_2_1410.png', '/workspace/CZII/proc/yolo11_baseline_cv/images/TS_69_2_1420.png', '/workspace/CZII/proc/yolo11_baseline_cv/images/TS_69_2_1430.png', '/workspace/CZII/proc/yolo11_baseline_cv/images/TS_69_2_1440.png', '/workspace/CZII/proc/yolo11_baseline_cv/images/TS_69_2_1450.png', '/workspace/CZII/proc/yolo11_baseline_cv/images/TS_69_2_1460.png', '/workspace/CZII/proc/yolo11_baseline_cv/images/TS_69_2_1470.png', '/workspace/CZII/proc/yolo11_baseline_cv/images/TS_69_2_1480.png', '/workspace/CZII/proc/yolo11_baseline_cv/images/TS_69_2_1490.png', '/workspace/CZII/proc/yolo11_baseline_cv/images/TS_69_2_150.png', '/workspace/CZII/proc/yolo11_baseline_cv/images/TS_69_2_1500.png', '/workspace/CZII/proc/yolo11_baseline_cv/images/TS_69_2_1510.png', '/workspace/CZII/proc/yolo11_baseline_cv/images/TS_69_2_1520.png', '/workspace/CZII/proc/yolo11_baseline_cv/images/TS_69_2_1530.png', '/workspace/CZII/proc/yolo11_baseline_cv/images/TS_69_2_1540.png', '/workspace/CZII/proc/yolo11_baseline_cv/images/TS_69_2_1550.png', '/workspace/CZII/proc/yolo11_baseline_cv/images/TS_69_2_1560.png', '/workspace/CZII/proc/yolo11_baseline_cv/images/TS_69_2_1570.png', '/workspace/CZII/proc/yolo11_baseline_cv/images/TS_69_2_1580.png', '/workspace/CZII/proc/yolo11_baseline_cv/images/TS_69_2_1590.png', '/workspace/CZII/proc/yolo11_baseline_cv/images/TS_69_2_160.png', '/workspace/CZII/proc/yolo11_baseline_cv/images/TS_69_2_1600.png', '/workspace/CZII/proc/yolo11_baseline_cv/images/TS_69_2_1610.png', '/workspace/CZII/proc/yolo11_baseline_cv/images/TS_69_2_1620.png', '/workspace/CZII/proc/yolo11_baseline_cv/images/TS_69_2_1630.png', '/workspace/CZII/proc/yolo11_baseline_cv/images/TS_69_2_1640.png', '/workspace/CZII/proc/yolo11_baseline_cv/images/TS_69_2_1650.png', '/workspace/CZII/proc/yolo11_baseline_cv/images/TS_69_2_1660.png', '/workspace/CZII/proc/yolo11_baseline_cv/images/TS_69_2_1670.png', '/workspace/CZII/proc/yolo11_baseline_cv/images/TS_69_2_1680.png', '/workspace/CZII/proc/yolo11_baseline_cv/images/TS_69_2_1690.png', '/workspace/CZII/proc/yolo11_baseline_cv/images/TS_69_2_170.png', '/workspace/CZII/proc/yolo11_baseline_cv/images/TS_69_2_1700.png', '/workspace/CZII/proc/yolo11_baseline_cv/images/TS_69_2_1710.png', '/workspace/CZII/proc/yolo11_baseline_cv/images/TS_69_2_1720.png', '/workspace/CZII/proc/yolo11_baseline_cv/images/TS_69_2_1730.png', '/workspace/CZII/proc/yolo11_baseline_cv/images/TS_69_2_1740.png', '/workspace/CZII/proc/yolo11_baseline_cv/images/TS_69_2_1750.png', '/workspace/CZII/proc/yolo11_baseline_cv/images/TS_69_2_1760.png', '/workspace/CZII/proc/yolo11_baseline_cv/images/TS_69_2_1770.png', '/workspace/CZII/proc/yolo11_baseline_cv/images/TS_69_2_1780.png', '/workspace/CZII/proc/yolo11_baseline_cv/images/TS_69_2_1790.png', '/workspace/CZII/proc/yolo11_baseline_cv/images/TS_69_2_180.png', '/workspace/CZII/proc/yolo11_baseline_cv/images/TS_69_2_1800.png', '/workspace/CZII/proc/yolo11_baseline_cv/images/TS_69_2_1810.png', '/workspace/CZII/proc/yolo11_baseline_cv/images/TS_69_2_1820.png', '/workspace/CZII/proc/yolo11_baseline_cv/images/TS_69_2_1830.png', '/workspace/CZII/proc/yolo11_baseline_cv/images/TS_69_2_190.png', '/workspace/CZII/proc/yolo11_baseline_cv/images/TS_69_2_20.png', '/workspace/CZII/proc/yolo11_baseline_cv/images/TS_69_2_200.png', '/workspace/CZII/proc/yolo11_baseline_cv/images/TS_69_2_210.png', '/workspace/CZII/proc/yolo11_baseline_cv/images/TS_69_2_220.png', '/workspace/CZII/proc/yolo11_baseline_cv/images/TS_69_2_230.png', '/workspace/CZII/proc/yolo11_baseline_cv/images/TS_69_2_240.png', '/workspace/CZII/proc/yolo11_baseline_cv/images/TS_69_2_250.png', '/workspace/CZII/proc/yolo11_baseline_cv/images/TS_69_2_260.png', '/workspace/CZII/proc/yolo11_baseline_cv/images/TS_69_2_270.png', '/workspace/CZII/proc/yolo11_baseline_cv/images/TS_69_2_280.png', '/workspace/CZII/proc/yolo11_baseline_cv/images/TS_69_2_290.png', '/workspace/CZII/proc/yolo11_baseline_cv/images/TS_69_2_30.png', '/workspace/CZII/proc/yolo11_baseline_cv/images/TS_69_2_300.png', '/workspace/CZII/proc/yolo11_baseline_cv/images/TS_69_2_310.png', '/workspace/CZII/proc/yolo11_baseline_cv/images/TS_69_2_320.png', '/workspace/CZII/proc/yolo11_baseline_cv/images/TS_69_2_330.png', '/workspace/CZII/proc/yolo11_baseline_cv/images/TS_69_2_340.png', '/workspace/CZII/proc/yolo11_baseline_cv/images/TS_69_2_350.png', '/workspace/CZII/proc/yolo11_baseline_cv/images/TS_69_2_360.png', '/workspace/CZII/proc/yolo11_baseline_cv/images/TS_69_2_370.png', '/workspace/CZII/proc/yolo11_baseline_cv/images/TS_69_2_380.png', '/workspace/CZII/proc/yolo11_baseline_cv/images/TS_69_2_390.png', '/workspace/CZII/proc/yolo11_baseline_cv/images/TS_69_2_40.png', '/workspace/CZII/proc/yolo11_baseline_cv/images/TS_69_2_400.png', '/workspace/CZII/proc/yolo11_baseline_cv/images/TS_69_2_410.png', '/workspace/CZII/proc/yolo11_baseline_cv/images/TS_69_2_420.png', '/workspace/CZII/proc/yolo11_baseline_cv/images/TS_69_2_430.png', '/workspace/CZII/proc/yolo11_baseline_cv/images/TS_69_2_440.png', '/workspace/CZII/proc/yolo11_baseline_cv/images/TS_69_2_450.png', '/workspace/CZII/proc/yolo11_baseline_cv/images/TS_69_2_460.png', '/workspace/CZII/proc/yolo11_baseline_cv/images/TS_69_2_470.png', '/workspace/CZII/proc/yolo11_baseline_cv/images/TS_69_2_480.png', '/workspace/CZII/proc/yolo11_baseline_cv/images/TS_69_2_490.png', '/workspace/CZII/proc/yolo11_baseline_cv/images/TS_69_2_50.png', '/workspace/CZII/proc/yolo11_baseline_cv/images/TS_69_2_500.png', '/workspace/CZII/proc/yolo11_baseline_cv/images/TS_69_2_510.png', '/workspace/CZII/proc/yolo11_baseline_cv/images/TS_69_2_520.png', '/workspace/CZII/proc/yolo11_baseline_cv/images/TS_69_2_530.png', '/workspace/CZII/proc/yolo11_baseline_cv/images/TS_69_2_540.png', '/workspace/CZII/proc/yolo11_baseline_cv/images/TS_69_2_550.png', '/workspace/CZII/proc/yolo11_baseline_cv/images/TS_69_2_560.png', '/workspace/CZII/proc/yolo11_baseline_cv/images/TS_69_2_570.png', '/workspace/CZII/proc/yolo11_baseline_cv/images/TS_69_2_580.png', '/workspace/CZII/proc/yolo11_baseline_cv/images/TS_69_2_590.png', '/workspace/CZII/proc/yolo11_baseline_cv/images/TS_69_2_60.png', '/workspace/CZII/proc/yolo11_baseline_cv/images/TS_69_2_600.png', '/workspace/CZII/proc/yolo11_baseline_cv/images/TS_69_2_610.png', '/workspace/CZII/proc/yolo11_baseline_cv/images/TS_69_2_620.png', '/workspace/CZII/proc/yolo11_baseline_cv/images/TS_69_2_630.png', '/workspace/CZII/proc/yolo11_baseline_cv/images/TS_69_2_640.png', '/workspace/CZII/proc/yolo11_baseline_cv/images/TS_69_2_650.png', '/workspace/CZII/proc/yolo11_baseline_cv/images/TS_69_2_660.png', '/workspace/CZII/proc/yolo11_baseline_cv/images/TS_69_2_670.png', '/workspace/CZII/proc/yolo11_baseline_cv/images/TS_69_2_680.png', '/workspace/CZII/proc/yolo11_baseline_cv/images/TS_69_2_690.png', '/workspace/CZII/proc/yolo11_baseline_cv/images/TS_69_2_70.png', '/workspace/CZII/proc/yolo11_baseline_cv/images/TS_69_2_700.png', '/workspace/CZII/proc/yolo11_baseline_cv/images/TS_69_2_710.png', '/workspace/CZII/proc/yolo11_baseline_cv/images/TS_69_2_720.png', '/workspace/CZII/proc/yolo11_baseline_cv/images/TS_69_2_730.png', '/workspace/CZII/proc/yolo11_baseline_cv/images/TS_69_2_740.png', '/workspace/CZII/proc/yolo11_baseline_cv/images/TS_69_2_750.png', '/workspace/CZII/proc/yolo11_baseline_cv/images/TS_69_2_760.png', '/workspace/CZII/proc/yolo11_baseline_cv/images/TS_69_2_770.png', '/workspace/CZII/proc/yolo11_baseline_cv/images/TS_69_2_780.png', '/workspace/CZII/proc/yolo11_baseline_cv/images/TS_69_2_790.png', '/workspace/CZII/proc/yolo11_baseline_cv/images/TS_69_2_80.png', '/workspace/CZII/proc/yolo11_baseline_cv/images/TS_69_2_800.png', '/workspace/CZII/proc/yolo11_baseline_cv/images/TS_69_2_810.png', '/workspace/CZII/proc/yolo11_baseline_cv/images/TS_69_2_820.png', '/workspace/CZII/proc/yolo11_baseline_cv/images/TS_69_2_830.png', '/workspace/CZII/proc/yolo11_baseline_cv/images/TS_69_2_840.png', '/workspace/CZII/proc/yolo11_baseline_cv/images/TS_69_2_850.png', '/workspace/CZII/proc/yolo11_baseline_cv/images/TS_69_2_860.png', '/workspace/CZII/proc/yolo11_baseline_cv/images/TS_69_2_870.png', '/workspace/CZII/proc/yolo11_baseline_cv/images/TS_69_2_880.png', '/workspace/CZII/proc/yolo11_baseline_cv/images/TS_69_2_890.png', '/workspace/CZII/proc/yolo11_baseline_cv/images/TS_69_2_90.png', '/workspace/CZII/proc/yolo11_baseline_cv/images/TS_69_2_900.png', '/workspace/CZII/proc/yolo11_baseline_cv/images/TS_69_2_910.png', '/workspace/CZII/proc/yolo11_baseline_cv/images/TS_69_2_920.png', '/workspace/CZII/proc/yolo11_baseline_cv/images/TS_69_2_930.png', '/workspace/CZII/proc/yolo11_baseline_cv/images/TS_69_2_940.png', '/workspace/CZII/proc/yolo11_baseline_cv/images/TS_69_2_950.png', '/workspace/CZII/proc/yolo11_baseline_cv/images/TS_69_2_960.png', '/workspace/CZII/proc/yolo11_baseline_cv/images/TS_69_2_970.png', '/workspace/CZII/proc/yolo11_baseline_cv/images/TS_69_2_980.png', '/workspace/CZII/proc/yolo11_baseline_cv/images/TS_69_2_990.png', '/workspace/CZII/proc/yolo11_baseline_cv/images/TS_6_4_0.png', '/workspace/CZII/proc/yolo11_baseline_cv/images/TS_6_4_10.png', '/workspace/CZII/proc/yolo11_baseline_cv/images/TS_6_4_100.png', '/workspace/CZII/proc/yolo11_baseline_cv/images/TS_6_4_1000.png', '/workspace/CZII/proc/yolo11_baseline_cv/images/TS_6_4_1010.png', '/workspace/CZII/proc/yolo11_baseline_cv/images/TS_6_4_1020.png', '/workspace/CZII/proc/yolo11_baseline_cv/images/TS_6_4_1030.png', '/workspace/CZII/proc/yolo11_baseline_cv/images/TS_6_4_1040.png', '/workspace/CZII/proc/yolo11_baseline_cv/images/TS_6_4_1050.png', '/workspace/CZII/proc/yolo11_baseline_cv/images/TS_6_4_1060.png', '/workspace/CZII/proc/yolo11_baseline_cv/images/TS_6_4_1070.png', '/workspace/CZII/proc/yolo11_baseline_cv/images/TS_6_4_1080.png', '/workspace/CZII/proc/yolo11_baseline_cv/images/TS_6_4_1090.png', '/workspace/CZII/proc/yolo11_baseline_cv/images/TS_6_4_110.png', '/workspace/CZII/proc/yolo11_baseline_cv/images/TS_6_4_1100.png', '/workspace/CZII/proc/yolo11_baseline_cv/images/TS_6_4_1110.png', '/workspace/CZII/proc/yolo11_baseline_cv/images/TS_6_4_1120.png', '/workspace/CZII/proc/yolo11_baseline_cv/images/TS_6_4_1130.png', '/workspace/CZII/proc/yolo11_baseline_cv/images/TS_6_4_1140.png', '/workspace/CZII/proc/yolo11_baseline_cv/images/TS_6_4_1150.png', '/workspace/CZII/proc/yolo11_baseline_cv/images/TS_6_4_1160.png', '/workspace/CZII/proc/yolo11_baseline_cv/images/TS_6_4_1170.png', '/workspace/CZII/proc/yolo11_baseline_cv/images/TS_6_4_1180.png', '/workspace/CZII/proc/yolo11_baseline_cv/images/TS_6_4_1190.png', '/workspace/CZII/proc/yolo11_baseline_cv/images/TS_6_4_120.png', '/workspace/CZII/proc/yolo11_baseline_cv/images/TS_6_4_1200.png', '/workspace/CZII/proc/yolo11_baseline_cv/images/TS_6_4_1210.png', '/workspace/CZII/proc/yolo11_baseline_cv/images/TS_6_4_1220.png', '/workspace/CZII/proc/yolo11_baseline_cv/images/TS_6_4_1230.png', '/workspace/CZII/proc/yolo11_baseline_cv/images/TS_6_4_1240.png', '/workspace/CZII/proc/yolo11_baseline_cv/images/TS_6_4_1250.png', '/workspace/CZII/proc/yolo11_baseline_cv/images/TS_6_4_1260.png', '/workspace/CZII/proc/yolo11_baseline_cv/images/TS_6_4_1270.png', '/workspace/CZII/proc/yolo11_baseline_cv/images/TS_6_4_1280.png', '/workspace/CZII/proc/yolo11_baseline_cv/images/TS_6_4_1290.png', '/workspace/CZII/proc/yolo11_baseline_cv/images/TS_6_4_130.png', '/workspace/CZII/proc/yolo11_baseline_cv/images/TS_6_4_1300.png', '/workspace/CZII/proc/yolo11_baseline_cv/images/TS_6_4_1310.png', '/workspace/CZII/proc/yolo11_baseline_cv/images/TS_6_4_1320.png', '/workspace/CZII/proc/yolo11_baseline_cv/images/TS_6_4_1330.png', '/workspace/CZII/proc/yolo11_baseline_cv/images/TS_6_4_1340.png', '/workspace/CZII/proc/yolo11_baseline_cv/images/TS_6_4_1350.png', '/workspace/CZII/proc/yolo11_baseline_cv/images/TS_6_4_1360.png', '/workspace/CZII/proc/yolo11_baseline_cv/images/TS_6_4_1370.png', '/workspace/CZII/proc/yolo11_baseline_cv/images/TS_6_4_1380.png', '/workspace/CZII/proc/yolo11_baseline_cv/images/TS_6_4_1390.png', '/workspace/CZII/proc/yolo11_baseline_cv/images/TS_6_4_140.png', '/workspace/CZII/proc/yolo11_baseline_cv/images/TS_6_4_1400.png', '/workspace/CZII/proc/yolo11_baseline_cv/images/TS_6_4_1410.png', '/workspace/CZII/proc/yolo11_baseline_cv/images/TS_6_4_1420.png', '/workspace/CZII/proc/yolo11_baseline_cv/images/TS_6_4_1430.png', '/workspace/CZII/proc/yolo11_baseline_cv/images/TS_6_4_1440.png', '/workspace/CZII/proc/yolo11_baseline_cv/images/TS_6_4_1450.png', '/workspace/CZII/proc/yolo11_baseline_cv/images/TS_6_4_1460.png', '/workspace/CZII/proc/yolo11_baseline_cv/images/TS_6_4_1470.png', '/workspace/CZII/proc/yolo11_baseline_cv/images/TS_6_4_1480.png', '/workspace/CZII/proc/yolo11_baseline_cv/images/TS_6_4_1490.png', '/workspace/CZII/proc/yolo11_baseline_cv/images/TS_6_4_150.png', '/workspace/CZII/proc/yolo11_baseline_cv/images/TS_6_4_1500.png', '/workspace/CZII/proc/yolo11_baseline_cv/images/TS_6_4_1510.png', '/workspace/CZII/proc/yolo11_baseline_cv/images/TS_6_4_1520.png', '/workspace/CZII/proc/yolo11_baseline_cv/images/TS_6_4_1530.png', '/workspace/CZII/proc/yolo11_baseline_cv/images/TS_6_4_1540.png', '/workspace/CZII/proc/yolo11_baseline_cv/images/TS_6_4_1550.png', '/workspace/CZII/proc/yolo11_baseline_cv/images/TS_6_4_1560.png', '/workspace/CZII/proc/yolo11_baseline_cv/images/TS_6_4_1570.png', '/workspace/CZII/proc/yolo11_baseline_cv/images/TS_6_4_1580.png', '/workspace/CZII/proc/yolo11_baseline_cv/images/TS_6_4_1590.png', '/workspace/CZII/proc/yolo11_baseline_cv/images/TS_6_4_160.png', '/workspace/CZII/proc/yolo11_baseline_cv/images/TS_6_4_1600.png', '/workspace/CZII/proc/yolo11_baseline_cv/images/TS_6_4_1610.png', '/workspace/CZII/proc/yolo11_baseline_cv/images/TS_6_4_1620.png', '/workspace/CZII/proc/yolo11_baseline_cv/images/TS_6_4_1630.png', '/workspace/CZII/proc/yolo11_baseline_cv/images/TS_6_4_1640.png', '/workspace/CZII/proc/yolo11_baseline_cv/images/TS_6_4_1650.png', '/workspace/CZII/proc/yolo11_baseline_cv/images/TS_6_4_1660.png', '/workspace/CZII/proc/yolo11_baseline_cv/images/TS_6_4_1670.png', '/workspace/CZII/proc/yolo11_baseline_cv/images/TS_6_4_1680.png', '/workspace/CZII/proc/yolo11_baseline_cv/images/TS_6_4_1690.png', '/workspace/CZII/proc/yolo11_baseline_cv/images/TS_6_4_170.png', '/workspace/CZII/proc/yolo11_baseline_cv/images/TS_6_4_1700.png', '/workspace/CZII/proc/yolo11_baseline_cv/images/TS_6_4_1710.png', '/workspace/CZII/proc/yolo11_baseline_cv/images/TS_6_4_1720.png', '/workspace/CZII/proc/yolo11_baseline_cv/images/TS_6_4_1730.png', '/workspace/CZII/proc/yolo11_baseline_cv/images/TS_6_4_1740.png', '/workspace/CZII/proc/yolo11_baseline_cv/images/TS_6_4_1750.png', '/workspace/CZII/proc/yolo11_baseline_cv/images/TS_6_4_1760.png', '/workspace/CZII/proc/yolo11_baseline_cv/images/TS_6_4_1770.png', '/workspace/CZII/proc/yolo11_baseline_cv/images/TS_6_4_1780.png', '/workspace/CZII/proc/yolo11_baseline_cv/images/TS_6_4_1790.png', '/workspace/CZII/proc/yolo11_baseline_cv/images/TS_6_4_180.png', '/workspace/CZII/proc/yolo11_baseline_cv/images/TS_6_4_1800.png', '/workspace/CZII/proc/yolo11_baseline_cv/images/TS_6_4_1810.png', '/workspace/CZII/proc/yolo11_baseline_cv/images/TS_6_4_1820.png', '/workspace/CZII/proc/yolo11_baseline_cv/images/TS_6_4_1830.png', '/workspace/CZII/proc/yolo11_baseline_cv/images/TS_6_4_190.png', '/workspace/CZII/proc/yolo11_baseline_cv/images/TS_6_4_20.png', '/workspace/CZII/proc/yolo11_baseline_cv/images/TS_6_4_200.png', '/workspace/CZII/proc/yolo11_baseline_cv/images/TS_6_4_210.png', '/workspace/CZII/proc/yolo11_baseline_cv/images/TS_6_4_220.png', '/workspace/CZII/proc/yolo11_baseline_cv/images/TS_6_4_230.png', '/workspace/CZII/proc/yolo11_baseline_cv/images/TS_6_4_240.png', '/workspace/CZII/proc/yolo11_baseline_cv/images/TS_6_4_250.png', '/workspace/CZII/proc/yolo11_baseline_cv/images/TS_6_4_260.png', '/workspace/CZII/proc/yolo11_baseline_cv/images/TS_6_4_270.png', '/workspace/CZII/proc/yolo11_baseline_cv/images/TS_6_4_280.png', '/workspace/CZII/proc/yolo11_baseline_cv/images/TS_6_4_290.png', '/workspace/CZII/proc/yolo11_baseline_cv/images/TS_6_4_30.png', '/workspace/CZII/proc/yolo11_baseline_cv/images/TS_6_4_300.png', '/workspace/CZII/proc/yolo11_baseline_cv/images/TS_6_4_310.png', '/workspace/CZII/proc/yolo11_baseline_cv/images/TS_6_4_320.png', '/workspace/CZII/proc/yolo11_baseline_cv/images/TS_6_4_330.png', '/workspace/CZII/proc/yolo11_baseline_cv/images/TS_6_4_340.png', '/workspace/CZII/proc/yolo11_baseline_cv/images/TS_6_4_350.png', '/workspace/CZII/proc/yolo11_baseline_cv/images/TS_6_4_360.png', '/workspace/CZII/proc/yolo11_baseline_cv/images/TS_6_4_370.png', '/workspace/CZII/proc/yolo11_baseline_cv/images/TS_6_4_380.png', '/workspace/CZII/proc/yolo11_baseline_cv/images/TS_6_4_390.png', '/workspace/CZII/proc/yolo11_baseline_cv/images/TS_6_4_40.png', '/workspace/CZII/proc/yolo11_baseline_cv/images/TS_6_4_400.png', '/workspace/CZII/proc/yolo11_baseline_cv/images/TS_6_4_410.png', '/workspace/CZII/proc/yolo11_baseline_cv/images/TS_6_4_420.png', '/workspace/CZII/proc/yolo11_baseline_cv/images/TS_6_4_430.png', '/workspace/CZII/proc/yolo11_baseline_cv/images/TS_6_4_440.png', '/workspace/CZII/proc/yolo11_baseline_cv/images/TS_6_4_450.png', '/workspace/CZII/proc/yolo11_baseline_cv/images/TS_6_4_460.png', '/workspace/CZII/proc/yolo11_baseline_cv/images/TS_6_4_470.png', '/workspace/CZII/proc/yolo11_baseline_cv/images/TS_6_4_480.png', '/workspace/CZII/proc/yolo11_baseline_cv/images/TS_6_4_490.png', '/workspace/CZII/proc/yolo11_baseline_cv/images/TS_6_4_50.png', '/workspace/CZII/proc/yolo11_baseline_cv/images/TS_6_4_500.png', '/workspace/CZII/proc/yolo11_baseline_cv/images/TS_6_4_510.png', '/workspace/CZII/proc/yolo11_baseline_cv/images/TS_6_4_520.png', '/workspace/CZII/proc/yolo11_baseline_cv/images/TS_6_4_530.png', '/workspace/CZII/proc/yolo11_baseline_cv/images/TS_6_4_540.png', '/workspace/CZII/proc/yolo11_baseline_cv/images/TS_6_4_550.png', '/workspace/CZII/proc/yolo11_baseline_cv/images/TS_6_4_560.png', '/workspace/CZII/proc/yolo11_baseline_cv/images/TS_6_4_570.png', '/workspace/CZII/proc/yolo11_baseline_cv/images/TS_6_4_580.png', '/workspace/CZII/proc/yolo11_baseline_cv/images/TS_6_4_590.png', '/workspace/CZII/proc/yolo11_baseline_cv/images/TS_6_4_60.png', '/workspace/CZII/proc/yolo11_baseline_cv/images/TS_6_4_600.png', '/workspace/CZII/proc/yolo11_baseline_cv/images/TS_6_4_610.png', '/workspace/CZII/proc/yolo11_baseline_cv/images/TS_6_4_620.png', '/workspace/CZII/proc/yolo11_baseline_cv/images/TS_6_4_630.png', '/workspace/CZII/proc/yolo11_baseline_cv/images/TS_6_4_640.png', '/workspace/CZII/proc/yolo11_baseline_cv/images/TS_6_4_650.png', '/workspace/CZII/proc/yolo11_baseline_cv/images/TS_6_4_660.png', '/workspace/CZII/proc/yolo11_baseline_cv/images/TS_6_4_670.png', '/workspace/CZII/proc/yolo11_baseline_cv/images/TS_6_4_680.png', '/workspace/CZII/proc/yolo11_baseline_cv/images/TS_6_4_690.png', '/workspace/CZII/proc/yolo11_baseline_cv/images/TS_6_4_70.png', '/workspace/CZII/proc/yolo11_baseline_cv/images/TS_6_4_700.png', '/workspace/CZII/proc/yolo11_baseline_cv/images/TS_6_4_710.png', '/workspace/CZII/proc/yolo11_baseline_cv/images/TS_6_4_720.png', '/workspace/CZII/proc/yolo11_baseline_cv/images/TS_6_4_730.png', '/workspace/CZII/proc/yolo11_baseline_cv/images/TS_6_4_740.png', '/workspace/CZII/proc/yolo11_baseline_cv/images/TS_6_4_750.png', '/workspace/CZII/proc/yolo11_baseline_cv/images/TS_6_4_760.png', '/workspace/CZII/proc/yolo11_baseline_cv/images/TS_6_4_770.png', '/workspace/CZII/proc/yolo11_baseline_cv/images/TS_6_4_780.png', '/workspace/CZII/proc/yolo11_baseline_cv/images/TS_6_4_790.png', '/workspace/CZII/proc/yolo11_baseline_cv/images/TS_6_4_80.png', '/workspace/CZII/proc/yolo11_baseline_cv/images/TS_6_4_800.png', '/workspace/CZII/proc/yolo11_baseline_cv/images/TS_6_4_810.png', '/workspace/CZII/proc/yolo11_baseline_cv/images/TS_6_4_820.png', '/workspace/CZII/proc/yolo11_baseline_cv/images/TS_6_4_830.png', '/workspace/CZII/proc/yolo11_baseline_cv/images/TS_6_4_840.png', '/workspace/CZII/proc/yolo11_baseline_cv/images/TS_6_4_850.png', '/workspace/CZII/proc/yolo11_baseline_cv/images/TS_6_4_860.png', '/workspace/CZII/proc/yolo11_baseline_cv/images/TS_6_4_870.png', '/workspace/CZII/proc/yolo11_baseline_cv/images/TS_6_4_880.png', '/workspace/CZII/proc/yolo11_baseline_cv/images/TS_6_4_890.png', '/workspace/CZII/proc/yolo11_baseline_cv/images/TS_6_4_90.png', '/workspace/CZII/proc/yolo11_baseline_cv/images/TS_6_4_900.png', '/workspace/CZII/proc/yolo11_baseline_cv/images/TS_6_4_910.png', '/workspace/CZII/proc/yolo11_baseline_cv/images/TS_6_4_920.png', '/workspace/CZII/proc/yolo11_baseline_cv/images/TS_6_4_930.png', '/workspace/CZII/proc/yolo11_baseline_cv/images/TS_6_4_940.png', '/workspace/CZII/proc/yolo11_baseline_cv/images/TS_6_4_950.png', '/workspace/CZII/proc/yolo11_baseline_cv/images/TS_6_4_960.png', '/workspace/CZII/proc/yolo11_baseline_cv/images/TS_6_4_970.png', '/workspace/CZII/proc/yolo11_baseline_cv/images/TS_6_4_980.png', '/workspace/CZII/proc/yolo11_baseline_cv/images/TS_6_4_990.png', '/workspace/CZII/proc/yolo11_baseline_cv/images/TS_6_6_0.png', '/workspace/CZII/proc/yolo11_baseline_cv/images/TS_6_6_10.png', '/workspace/CZII/proc/yolo11_baseline_cv/images/TS_6_6_100.png', '/workspace/CZII/proc/yolo11_baseline_cv/images/TS_6_6_1000.png', '/workspace/CZII/proc/yolo11_baseline_cv/images/TS_6_6_1010.png', '/workspace/CZII/proc/yolo11_baseline_cv/images/TS_6_6_1020.png', '/workspace/CZII/proc/yolo11_baseline_cv/images/TS_6_6_1030.png', '/workspace/CZII/proc/yolo11_baseline_cv/images/TS_6_6_1040.png', '/workspace/CZII/proc/yolo11_baseline_cv/images/TS_6_6_1050.png', '/workspace/CZII/proc/yolo11_baseline_cv/images/TS_6_6_1060.png', '/workspace/CZII/proc/yolo11_baseline_cv/images/TS_6_6_1070.png', '/workspace/CZII/proc/yolo11_baseline_cv/images/TS_6_6_1080.png', '/workspace/CZII/proc/yolo11_baseline_cv/images/TS_6_6_1090.png', '/workspace/CZII/proc/yolo11_baseline_cv/images/TS_6_6_110.png', '/workspace/CZII/proc/yolo11_baseline_cv/images/TS_6_6_1100.png', '/workspace/CZII/proc/yolo11_baseline_cv/images/TS_6_6_1110.png', '/workspace/CZII/proc/yolo11_baseline_cv/images/TS_6_6_1120.png', '/workspace/CZII/proc/yolo11_baseline_cv/images/TS_6_6_1130.png', '/workspace/CZII/proc/yolo11_baseline_cv/images/TS_6_6_1140.png', '/workspace/CZII/proc/yolo11_baseline_cv/images/TS_6_6_1150.png', '/workspace/CZII/proc/yolo11_baseline_cv/images/TS_6_6_1160.png', '/workspace/CZII/proc/yolo11_baseline_cv/images/TS_6_6_1170.png', '/workspace/CZII/proc/yolo11_baseline_cv/images/TS_6_6_1180.png', '/workspace/CZII/proc/yolo11_baseline_cv/images/TS_6_6_1190.png', '/workspace/CZII/proc/yolo11_baseline_cv/images/TS_6_6_120.png', '/workspace/CZII/proc/yolo11_baseline_cv/images/TS_6_6_1200.png', '/workspace/CZII/proc/yolo11_baseline_cv/images/TS_6_6_1210.png', '/workspace/CZII/proc/yolo11_baseline_cv/images/TS_6_6_1220.png', '/workspace/CZII/proc/yolo11_baseline_cv/images/TS_6_6_1230.png', '/workspace/CZII/proc/yolo11_baseline_cv/images/TS_6_6_1240.png', '/workspace/CZII/proc/yolo11_baseline_cv/images/TS_6_6_1250.png', '/workspace/CZII/proc/yolo11_baseline_cv/images/TS_6_6_1260.png', '/workspace/CZII/proc/yolo11_baseline_cv/images/TS_6_6_1270.png', '/workspace/CZII/proc/yolo11_baseline_cv/images/TS_6_6_1280.png', '/workspace/CZII/proc/yolo11_baseline_cv/images/TS_6_6_1290.png', '/workspace/CZII/proc/yolo11_baseline_cv/images/TS_6_6_130.png', '/workspace/CZII/proc/yolo11_baseline_cv/images/TS_6_6_1300.png', '/workspace/CZII/proc/yolo11_baseline_cv/images/TS_6_6_1310.png', '/workspace/CZII/proc/yolo11_baseline_cv/images/TS_6_6_1320.png', '/workspace/CZII/proc/yolo11_baseline_cv/images/TS_6_6_1330.png', '/workspace/CZII/proc/yolo11_baseline_cv/images/TS_6_6_1340.png', '/workspace/CZII/proc/yolo11_baseline_cv/images/TS_6_6_1350.png', '/workspace/CZII/proc/yolo11_baseline_cv/images/TS_6_6_1360.png', '/workspace/CZII/proc/yolo11_baseline_cv/images/TS_6_6_1370.png', '/workspace/CZII/proc/yolo11_baseline_cv/images/TS_6_6_1380.png', '/workspace/CZII/proc/yolo11_baseline_cv/images/TS_6_6_1390.png', '/workspace/CZII/proc/yolo11_baseline_cv/images/TS_6_6_140.png', '/workspace/CZII/proc/yolo11_baseline_cv/images/TS_6_6_1400.png', '/workspace/CZII/proc/yolo11_baseline_cv/images/TS_6_6_1410.png', '/workspace/CZII/proc/yolo11_baseline_cv/images/TS_6_6_1420.png', '/workspace/CZII/proc/yolo11_baseline_cv/images/TS_6_6_1430.png', '/workspace/CZII/proc/yolo11_baseline_cv/images/TS_6_6_1440.png', '/workspace/CZII/proc/yolo11_baseline_cv/images/TS_6_6_1450.png', '/workspace/CZII/proc/yolo11_baseline_cv/images/TS_6_6_1460.png', '/workspace/CZII/proc/yolo11_baseline_cv/images/TS_6_6_1470.png', '/workspace/CZII/proc/yolo11_baseline_cv/images/TS_6_6_1480.png', '/workspace/CZII/proc/yolo11_baseline_cv/images/TS_6_6_1490.png', '/workspace/CZII/proc/yolo11_baseline_cv/images/TS_6_6_150.png', '/workspace/CZII/proc/yolo11_baseline_cv/images/TS_6_6_1500.png', '/workspace/CZII/proc/yolo11_baseline_cv/images/TS_6_6_1510.png', '/workspace/CZII/proc/yolo11_baseline_cv/images/TS_6_6_1520.png', '/workspace/CZII/proc/yolo11_baseline_cv/images/TS_6_6_1530.png', '/workspace/CZII/proc/yolo11_baseline_cv/images/TS_6_6_1540.png', '/workspace/CZII/proc/yolo11_baseline_cv/images/TS_6_6_1550.png', '/workspace/CZII/proc/yolo11_baseline_cv/images/TS_6_6_1560.png', '/workspace/CZII/proc/yolo11_baseline_cv/images/TS_6_6_1570.png', '/workspace/CZII/proc/yolo11_baseline_cv/images/TS_6_6_1580.png', '/workspace/CZII/proc/yolo11_baseline_cv/images/TS_6_6_1590.png', '/workspace/CZII/proc/yolo11_baseline_cv/images/TS_6_6_160.png', '/workspace/CZII/proc/yolo11_baseline_cv/images/TS_6_6_1600.png', '/workspace/CZII/proc/yolo11_baseline_cv/images/TS_6_6_1610.png', '/workspace/CZII/proc/yolo11_baseline_cv/images/TS_6_6_1620.png', '/workspace/CZII/proc/yolo11_baseline_cv/images/TS_6_6_1630.png', '/workspace/CZII/proc/yolo11_baseline_cv/images/TS_6_6_1640.png', '/workspace/CZII/proc/yolo11_baseline_cv/images/TS_6_6_1650.png', '/workspace/CZII/proc/yolo11_baseline_cv/images/TS_6_6_1660.png', '/workspace/CZII/proc/yolo11_baseline_cv/images/TS_6_6_1670.png', '/workspace/CZII/proc/yolo11_baseline_cv/images/TS_6_6_1680.png', '/workspace/CZII/proc/yolo11_baseline_cv/images/TS_6_6_1690.png', '/workspace/CZII/proc/yolo11_baseline_cv/images/TS_6_6_170.png', '/workspace/CZII/proc/yolo11_baseline_cv/images/TS_6_6_1700.png', '/workspace/CZII/proc/yolo11_baseline_cv/images/TS_6_6_1710.png', '/workspace/CZII/proc/yolo11_baseline_cv/images/TS_6_6_1720.png', '/workspace/CZII/proc/yolo11_baseline_cv/images/TS_6_6_1730.png', '/workspace/CZII/proc/yolo11_baseline_cv/images/TS_6_6_1740.png', '/workspace/CZII/proc/yolo11_baseline_cv/images/TS_6_6_1750.png', '/workspace/CZII/proc/yolo11_baseline_cv/images/TS_6_6_1760.png', '/workspace/CZII/proc/yolo11_baseline_cv/images/TS_6_6_1770.png', '/workspace/CZII/proc/yolo11_baseline_cv/images/TS_6_6_1780.png', '/workspace/CZII/proc/yolo11_baseline_cv/images/TS_6_6_1790.png', '/workspace/CZII/proc/yolo11_baseline_cv/images/TS_6_6_180.png', '/workspace/CZII/proc/yolo11_baseline_cv/images/TS_6_6_1800.png', '/workspace/CZII/proc/yolo11_baseline_cv/images/TS_6_6_1810.png', '/workspace/CZII/proc/yolo11_baseline_cv/images/TS_6_6_1820.png', '/workspace/CZII/proc/yolo11_baseline_cv/images/TS_6_6_1830.png', '/workspace/CZII/proc/yolo11_baseline_cv/images/TS_6_6_190.png', '/workspace/CZII/proc/yolo11_baseline_cv/images/TS_6_6_20.png', '/workspace/CZII/proc/yolo11_baseline_cv/images/TS_6_6_200.png', '/workspace/CZII/proc/yolo11_baseline_cv/images/TS_6_6_210.png', '/workspace/CZII/proc/yolo11_baseline_cv/images/TS_6_6_220.png', '/workspace/CZII/proc/yolo11_baseline_cv/images/TS_6_6_230.png', '/workspace/CZII/proc/yolo11_baseline_cv/images/TS_6_6_240.png', '/workspace/CZII/proc/yolo11_baseline_cv/images/TS_6_6_250.png', '/workspace/CZII/proc/yolo11_baseline_cv/images/TS_6_6_260.png', '/workspace/CZII/proc/yolo11_baseline_cv/images/TS_6_6_270.png', '/workspace/CZII/proc/yolo11_baseline_cv/images/TS_6_6_280.png', '/workspace/CZII/proc/yolo11_baseline_cv/images/TS_6_6_290.png', '/workspace/CZII/proc/yolo11_baseline_cv/images/TS_6_6_30.png', '/workspace/CZII/proc/yolo11_baseline_cv/images/TS_6_6_300.png', '/workspace/CZII/proc/yolo11_baseline_cv/images/TS_6_6_310.png', '/workspace/CZII/proc/yolo11_baseline_cv/images/TS_6_6_320.png', '/workspace/CZII/proc/yolo11_baseline_cv/images/TS_6_6_330.png', '/workspace/CZII/proc/yolo11_baseline_cv/images/TS_6_6_340.png', '/workspace/CZII/proc/yolo11_baseline_cv/images/TS_6_6_350.png', '/workspace/CZII/proc/yolo11_baseline_cv/images/TS_6_6_360.png', '/workspace/CZII/proc/yolo11_baseline_cv/images/TS_6_6_370.png', '/workspace/CZII/proc/yolo11_baseline_cv/images/TS_6_6_380.png', '/workspace/CZII/proc/yolo11_baseline_cv/images/TS_6_6_390.png', '/workspace/CZII/proc/yolo11_baseline_cv/images/TS_6_6_40.png', '/workspace/CZII/proc/yolo11_baseline_cv/images/TS_6_6_400.png', '/workspace/CZII/proc/yolo11_baseline_cv/images/TS_6_6_410.png', '/workspace/CZII/proc/yolo11_baseline_cv/images/TS_6_6_420.png', '/workspace/CZII/proc/yolo11_baseline_cv/images/TS_6_6_430.png', '/workspace/CZII/proc/yolo11_baseline_cv/images/TS_6_6_440.png', '/workspace/CZII/proc/yolo11_baseline_cv/images/TS_6_6_450.png', '/workspace/CZII/proc/yolo11_baseline_cv/images/TS_6_6_460.png', '/workspace/CZII/proc/yolo11_baseline_cv/images/TS_6_6_470.png', '/workspace/CZII/proc/yolo11_baseline_cv/images/TS_6_6_480.png', '/workspace/CZII/proc/yolo11_baseline_cv/images/TS_6_6_490.png', '/workspace/CZII/proc/yolo11_baseline_cv/images/TS_6_6_50.png', '/workspace/CZII/proc/yolo11_baseline_cv/images/TS_6_6_500.png', '/workspace/CZII/proc/yolo11_baseline_cv/images/TS_6_6_510.png', '/workspace/CZII/proc/yolo11_baseline_cv/images/TS_6_6_520.png', '/workspace/CZII/proc/yolo11_baseline_cv/images/TS_6_6_530.png', '/workspace/CZII/proc/yolo11_baseline_cv/images/TS_6_6_540.png', '/workspace/CZII/proc/yolo11_baseline_cv/images/TS_6_6_550.png', '/workspace/CZII/proc/yolo11_baseline_cv/images/TS_6_6_560.png', '/workspace/CZII/proc/yolo11_baseline_cv/images/TS_6_6_570.png', '/workspace/CZII/proc/yolo11_baseline_cv/images/TS_6_6_580.png', '/workspace/CZII/proc/yolo11_baseline_cv/images/TS_6_6_590.png', '/workspace/CZII/proc/yolo11_baseline_cv/images/TS_6_6_60.png', '/workspace/CZII/proc/yolo11_baseline_cv/images/TS_6_6_600.png', '/workspace/CZII/proc/yolo11_baseline_cv/images/TS_6_6_610.png', '/workspace/CZII/proc/yolo11_baseline_cv/images/TS_6_6_620.png', '/workspace/CZII/proc/yolo11_baseline_cv/images/TS_6_6_630.png', '/workspace/CZII/proc/yolo11_baseline_cv/images/TS_6_6_640.png', '/workspace/CZII/proc/yolo11_baseline_cv/images/TS_6_6_650.png', '/workspace/CZII/proc/yolo11_baseline_cv/images/TS_6_6_660.png', '/workspace/CZII/proc/yolo11_baseline_cv/images/TS_6_6_670.png', '/workspace/CZII/proc/yolo11_baseline_cv/images/TS_6_6_680.png', '/workspace/CZII/proc/yolo11_baseline_cv/images/TS_6_6_690.png', '/workspace/CZII/proc/yolo11_baseline_cv/images/TS_6_6_70.png', '/workspace/CZII/proc/yolo11_baseline_cv/images/TS_6_6_700.png', '/workspace/CZII/proc/yolo11_baseline_cv/images/TS_6_6_710.png', '/workspace/CZII/proc/yolo11_baseline_cv/images/TS_6_6_720.png', '/workspace/CZII/proc/yolo11_baseline_cv/images/TS_6_6_730.png', '/workspace/CZII/proc/yolo11_baseline_cv/images/TS_6_6_740.png', '/workspace/CZII/proc/yolo11_baseline_cv/images/TS_6_6_750.png', '/workspace/CZII/proc/yolo11_baseline_cv/images/TS_6_6_760.png', '/workspace/CZII/proc/yolo11_baseline_cv/images/TS_6_6_770.png', '/workspace/CZII/proc/yolo11_baseline_cv/images/TS_6_6_780.png', '/workspace/CZII/proc/yolo11_baseline_cv/images/TS_6_6_790.png', '/workspace/CZII/proc/yolo11_baseline_cv/images/TS_6_6_80.png', '/workspace/CZII/proc/yolo11_baseline_cv/images/TS_6_6_800.png', '/workspace/CZII/proc/yolo11_baseline_cv/images/TS_6_6_810.png', '/workspace/CZII/proc/yolo11_baseline_cv/images/TS_6_6_820.png', '/workspace/CZII/proc/yolo11_baseline_cv/images/TS_6_6_830.png', '/workspace/CZII/proc/yolo11_baseline_cv/images/TS_6_6_840.png', '/workspace/CZII/proc/yolo11_baseline_cv/images/TS_6_6_850.png', '/workspace/CZII/proc/yolo11_baseline_cv/images/TS_6_6_860.png', '/workspace/CZII/proc/yolo11_baseline_cv/images/TS_6_6_870.png', '/workspace/CZII/proc/yolo11_baseline_cv/images/TS_6_6_880.png', '/workspace/CZII/proc/yolo11_baseline_cv/images/TS_6_6_890.png', '/workspace/CZII/proc/yolo11_baseline_cv/images/TS_6_6_90.png', '/workspace/CZII/proc/yolo11_baseline_cv/images/TS_6_6_900.png', '/workspace/CZII/proc/yolo11_baseline_cv/images/TS_6_6_910.png', '/workspace/CZII/proc/yolo11_baseline_cv/images/TS_6_6_920.png', '/workspace/CZII/proc/yolo11_baseline_cv/images/TS_6_6_930.png', '/workspace/CZII/proc/yolo11_baseline_cv/images/TS_6_6_940.png', '/workspace/CZII/proc/yolo11_baseline_cv/images/TS_6_6_950.png', '/workspace/CZII/proc/yolo11_baseline_cv/images/TS_6_6_960.png', '/workspace/CZII/proc/yolo11_baseline_cv/images/TS_6_6_970.png', '/workspace/CZII/proc/yolo11_baseline_cv/images/TS_6_6_980.png', '/workspace/CZII/proc/yolo11_baseline_cv/images/TS_6_6_990.png', '/workspace/CZII/proc/yolo11_baseline_cv/images/TS_73_6_0.png', '/workspace/CZII/proc/yolo11_baseline_cv/images/TS_73_6_10.png', '/workspace/CZII/proc/yolo11_baseline_cv/images/TS_73_6_100.png', '/workspace/CZII/proc/yolo11_baseline_cv/images/TS_73_6_1000.png', '/workspace/CZII/proc/yolo11_baseline_cv/images/TS_73_6_1010.png', '/workspace/CZII/proc/yolo11_baseline_cv/images/TS_73_6_1020.png', '/workspace/CZII/proc/yolo11_baseline_cv/images/TS_73_6_1030.png', '/workspace/CZII/proc/yolo11_baseline_cv/images/TS_73_6_1040.png', '/workspace/CZII/proc/yolo11_baseline_cv/images/TS_73_6_1050.png', '/workspace/CZII/proc/yolo11_baseline_cv/images/TS_73_6_1060.png', '/workspace/CZII/proc/yolo11_baseline_cv/images/TS_73_6_1070.png', '/workspace/CZII/proc/yolo11_baseline_cv/images/TS_73_6_1080.png', '/workspace/CZII/proc/yolo11_baseline_cv/images/TS_73_6_1090.png', '/workspace/CZII/proc/yolo11_baseline_cv/images/TS_73_6_110.png', '/workspace/CZII/proc/yolo11_baseline_cv/images/TS_73_6_1100.png', '/workspace/CZII/proc/yolo11_baseline_cv/images/TS_73_6_1110.png', '/workspace/CZII/proc/yolo11_baseline_cv/images/TS_73_6_1120.png', '/workspace/CZII/proc/yolo11_baseline_cv/images/TS_73_6_1130.png', '/workspace/CZII/proc/yolo11_baseline_cv/images/TS_73_6_1140.png', '/workspace/CZII/proc/yolo11_baseline_cv/images/TS_73_6_1150.png', '/workspace/CZII/proc/yolo11_baseline_cv/images/TS_73_6_1160.png', '/workspace/CZII/proc/yolo11_baseline_cv/images/TS_73_6_1170.png', '/workspace/CZII/proc/yolo11_baseline_cv/images/TS_73_6_1180.png', '/workspace/CZII/proc/yolo11_baseline_cv/images/TS_73_6_1190.png', '/workspace/CZII/proc/yolo11_baseline_cv/images/TS_73_6_120.png', '/workspace/CZII/proc/yolo11_baseline_cv/images/TS_73_6_1200.png', '/workspace/CZII/proc/yolo11_baseline_cv/images/TS_73_6_1210.png', '/workspace/CZII/proc/yolo11_baseline_cv/images/TS_73_6_1220.png', '/workspace/CZII/proc/yolo11_baseline_cv/images/TS_73_6_1230.png', '/workspace/CZII/proc/yolo11_baseline_cv/images/TS_73_6_1240.png', '/workspace/CZII/proc/yolo11_baseline_cv/images/TS_73_6_1250.png', '/workspace/CZII/proc/yolo11_baseline_cv/images/TS_73_6_1260.png', '/workspace/CZII/proc/yolo11_baseline_cv/images/TS_73_6_1270.png', '/workspace/CZII/proc/yolo11_baseline_cv/images/TS_73_6_1280.png', '/workspace/CZII/proc/yolo11_baseline_cv/images/TS_73_6_1290.png', '/workspace/CZII/proc/yolo11_baseline_cv/images/TS_73_6_130.png', '/workspace/CZII/proc/yolo11_baseline_cv/images/TS_73_6_1300.png', '/workspace/CZII/proc/yolo11_baseline_cv/images/TS_73_6_1310.png', '/workspace/CZII/proc/yolo11_baseline_cv/images/TS_73_6_1320.png', '/workspace/CZII/proc/yolo11_baseline_cv/images/TS_73_6_1330.png', '/workspace/CZII/proc/yolo11_baseline_cv/images/TS_73_6_1340.png', '/workspace/CZII/proc/yolo11_baseline_cv/images/TS_73_6_1350.png', '/workspace/CZII/proc/yolo11_baseline_cv/images/TS_73_6_1360.png', '/workspace/CZII/proc/yolo11_baseline_cv/images/TS_73_6_1370.png', '/workspace/CZII/proc/yolo11_baseline_cv/images/TS_73_6_1380.png', '/workspace/CZII/proc/yolo11_baseline_cv/images/TS_73_6_1390.png', '/workspace/CZII/proc/yolo11_baseline_cv/images/TS_73_6_140.png', '/workspace/CZII/proc/yolo11_baseline_cv/images/TS_73_6_1400.png', '/workspace/CZII/proc/yolo11_baseline_cv/images/TS_73_6_1410.png', '/workspace/CZII/proc/yolo11_baseline_cv/images/TS_73_6_1420.png', '/workspace/CZII/proc/yolo11_baseline_cv/images/TS_73_6_1430.png', '/workspace/CZII/proc/yolo11_baseline_cv/images/TS_73_6_1440.png', '/workspace/CZII/proc/yolo11_baseline_cv/images/TS_73_6_1450.png', '/workspace/CZII/proc/yolo11_baseline_cv/images/TS_73_6_1460.png', '/workspace/CZII/proc/yolo11_baseline_cv/images/TS_73_6_1470.png', '/workspace/CZII/proc/yolo11_baseline_cv/images/TS_73_6_1480.png', '/workspace/CZII/proc/yolo11_baseline_cv/images/TS_73_6_1490.png', '/workspace/CZII/proc/yolo11_baseline_cv/images/TS_73_6_150.png', '/workspace/CZII/proc/yolo11_baseline_cv/images/TS_73_6_1500.png', '/workspace/CZII/proc/yolo11_baseline_cv/images/TS_73_6_1510.png', '/workspace/CZII/proc/yolo11_baseline_cv/images/TS_73_6_1520.png', '/workspace/CZII/proc/yolo11_baseline_cv/images/TS_73_6_1530.png', '/workspace/CZII/proc/yolo11_baseline_cv/images/TS_73_6_1540.png', '/workspace/CZII/proc/yolo11_baseline_cv/images/TS_73_6_1550.png', '/workspace/CZII/proc/yolo11_baseline_cv/images/TS_73_6_1560.png', '/workspace/CZII/proc/yolo11_baseline_cv/images/TS_73_6_1570.png', '/workspace/CZII/proc/yolo11_baseline_cv/images/TS_73_6_1580.png', '/workspace/CZII/proc/yolo11_baseline_cv/images/TS_73_6_1590.png', '/workspace/CZII/proc/yolo11_baseline_cv/images/TS_73_6_160.png', '/workspace/CZII/proc/yolo11_baseline_cv/images/TS_73_6_1600.png', '/workspace/CZII/proc/yolo11_baseline_cv/images/TS_73_6_1610.png', '/workspace/CZII/proc/yolo11_baseline_cv/images/TS_73_6_1620.png', '/workspace/CZII/proc/yolo11_baseline_cv/images/TS_73_6_1630.png', '/workspace/CZII/proc/yolo11_baseline_cv/images/TS_73_6_1640.png', '/workspace/CZII/proc/yolo11_baseline_cv/images/TS_73_6_1650.png', '/workspace/CZII/proc/yolo11_baseline_cv/images/TS_73_6_1660.png', '/workspace/CZII/proc/yolo11_baseline_cv/images/TS_73_6_1670.png', '/workspace/CZII/proc/yolo11_baseline_cv/images/TS_73_6_1680.png', '/workspace/CZII/proc/yolo11_baseline_cv/images/TS_73_6_1690.png', '/workspace/CZII/proc/yolo11_baseline_cv/images/TS_73_6_170.png', '/workspace/CZII/proc/yolo11_baseline_cv/images/TS_73_6_1700.png', '/workspace/CZII/proc/yolo11_baseline_cv/images/TS_73_6_1710.png', '/workspace/CZII/proc/yolo11_baseline_cv/images/TS_73_6_1720.png', '/workspace/CZII/proc/yolo11_baseline_cv/images/TS_73_6_1730.png', '/workspace/CZII/proc/yolo11_baseline_cv/images/TS_73_6_1740.png', '/workspace/CZII/proc/yolo11_baseline_cv/images/TS_73_6_1750.png', '/workspace/CZII/proc/yolo11_baseline_cv/images/TS_73_6_1760.png', '/workspace/CZII/proc/yolo11_baseline_cv/images/TS_73_6_1770.png', '/workspace/CZII/proc/yolo11_baseline_cv/images/TS_73_6_1780.png', '/workspace/CZII/proc/yolo11_baseline_cv/images/TS_73_6_1790.png', '/workspace/CZII/proc/yolo11_baseline_cv/images/TS_73_6_180.png', '/workspace/CZII/proc/yolo11_baseline_cv/images/TS_73_6_1800.png', '/workspace/CZII/proc/yolo11_baseline_cv/images/TS_73_6_1810.png', '/workspace/CZII/proc/yolo11_baseline_cv/images/TS_73_6_1820.png', '/workspace/CZII/proc/yolo11_baseline_cv/images/TS_73_6_1830.png', '/workspace/CZII/proc/yolo11_baseline_cv/images/TS_73_6_190.png', '/workspace/CZII/proc/yolo11_baseline_cv/images/TS_73_6_20.png', '/workspace/CZII/proc/yolo11_baseline_cv/images/TS_73_6_200.png', '/workspace/CZII/proc/yolo11_baseline_cv/images/TS_73_6_210.png', '/workspace/CZII/proc/yolo11_baseline_cv/images/TS_73_6_220.png', '/workspace/CZII/proc/yolo11_baseline_cv/images/TS_73_6_230.png', '/workspace/CZII/proc/yolo11_baseline_cv/images/TS_73_6_240.png', '/workspace/CZII/proc/yolo11_baseline_cv/images/TS_73_6_250.png', '/workspace/CZII/proc/yolo11_baseline_cv/images/TS_73_6_260.png', '/workspace/CZII/proc/yolo11_baseline_cv/images/TS_73_6_270.png', '/workspace/CZII/proc/yolo11_baseline_cv/images/TS_73_6_280.png', '/workspace/CZII/proc/yolo11_baseline_cv/images/TS_73_6_290.png', '/workspace/CZII/proc/yolo11_baseline_cv/images/TS_73_6_30.png', '/workspace/CZII/proc/yolo11_baseline_cv/images/TS_73_6_300.png', '/workspace/CZII/proc/yolo11_baseline_cv/images/TS_73_6_310.png', '/workspace/CZII/proc/yolo11_baseline_cv/images/TS_73_6_320.png', '/workspace/CZII/proc/yolo11_baseline_cv/images/TS_73_6_330.png', '/workspace/CZII/proc/yolo11_baseline_cv/images/TS_73_6_340.png', '/workspace/CZII/proc/yolo11_baseline_cv/images/TS_73_6_350.png', '/workspace/CZII/proc/yolo11_baseline_cv/images/TS_73_6_360.png', '/workspace/CZII/proc/yolo11_baseline_cv/images/TS_73_6_370.png', '/workspace/CZII/proc/yolo11_baseline_cv/images/TS_73_6_380.png', '/workspace/CZII/proc/yolo11_baseline_cv/images/TS_73_6_390.png', '/workspace/CZII/proc/yolo11_baseline_cv/images/TS_73_6_40.png', '/workspace/CZII/proc/yolo11_baseline_cv/images/TS_73_6_400.png', '/workspace/CZII/proc/yolo11_baseline_cv/images/TS_73_6_410.png', '/workspace/CZII/proc/yolo11_baseline_cv/images/TS_73_6_420.png', '/workspace/CZII/proc/yolo11_baseline_cv/images/TS_73_6_430.png', '/workspace/CZII/proc/yolo11_baseline_cv/images/TS_73_6_440.png', '/workspace/CZII/proc/yolo11_baseline_cv/images/TS_73_6_450.png', '/workspace/CZII/proc/yolo11_baseline_cv/images/TS_73_6_460.png', '/workspace/CZII/proc/yolo11_baseline_cv/images/TS_73_6_470.png', '/workspace/CZII/proc/yolo11_baseline_cv/images/TS_73_6_480.png', '/workspace/CZII/proc/yolo11_baseline_cv/images/TS_73_6_490.png', '/workspace/CZII/proc/yolo11_baseline_cv/images/TS_73_6_50.png', '/workspace/CZII/proc/yolo11_baseline_cv/images/TS_73_6_500.png', '/workspace/CZII/proc/yolo11_baseline_cv/images/TS_73_6_510.png', '/workspace/CZII/proc/yolo11_baseline_cv/images/TS_73_6_520.png', '/workspace/CZII/proc/yolo11_baseline_cv/images/TS_73_6_530.png', '/workspace/CZII/proc/yolo11_baseline_cv/images/TS_73_6_540.png', '/workspace/CZII/proc/yolo11_baseline_cv/images/TS_73_6_550.png', '/workspace/CZII/proc/yolo11_baseline_cv/images/TS_73_6_560.png', '/workspace/CZII/proc/yolo11_baseline_cv/images/TS_73_6_570.png', '/workspace/CZII/proc/yolo11_baseline_cv/images/TS_73_6_580.png', '/workspace/CZII/proc/yolo11_baseline_cv/images/TS_73_6_590.png', '/workspace/CZII/proc/yolo11_baseline_cv/images/TS_73_6_60.png', '/workspace/CZII/proc/yolo11_baseline_cv/images/TS_73_6_600.png', '/workspace/CZII/proc/yolo11_baseline_cv/images/TS_73_6_610.png', '/workspace/CZII/proc/yolo11_baseline_cv/images/TS_73_6_620.png', '/workspace/CZII/proc/yolo11_baseline_cv/images/TS_73_6_630.png', '/workspace/CZII/proc/yolo11_baseline_cv/images/TS_73_6_640.png', '/workspace/CZII/proc/yolo11_baseline_cv/images/TS_73_6_650.png', '/workspace/CZII/proc/yolo11_baseline_cv/images/TS_73_6_660.png', '/workspace/CZII/proc/yolo11_baseline_cv/images/TS_73_6_670.png', '/workspace/CZII/proc/yolo11_baseline_cv/images/TS_73_6_680.png', '/workspace/CZII/proc/yolo11_baseline_cv/images/TS_73_6_690.png', '/workspace/CZII/proc/yolo11_baseline_cv/images/TS_73_6_70.png', '/workspace/CZII/proc/yolo11_baseline_cv/images/TS_73_6_700.png', '/workspace/CZII/proc/yolo11_baseline_cv/images/TS_73_6_710.png', '/workspace/CZII/proc/yolo11_baseline_cv/images/TS_73_6_720.png', '/workspace/CZII/proc/yolo11_baseline_cv/images/TS_73_6_730.png', '/workspace/CZII/proc/yolo11_baseline_cv/images/TS_73_6_740.png', '/workspace/CZII/proc/yolo11_baseline_cv/images/TS_73_6_750.png', '/workspace/CZII/proc/yolo11_baseline_cv/images/TS_73_6_760.png', '/workspace/CZII/proc/yolo11_baseline_cv/images/TS_73_6_770.png', '/workspace/CZII/proc/yolo11_baseline_cv/images/TS_73_6_780.png', '/workspace/CZII/proc/yolo11_baseline_cv/images/TS_73_6_790.png', '/workspace/CZII/proc/yolo11_baseline_cv/images/TS_73_6_80.png', '/workspace/CZII/proc/yolo11_baseline_cv/images/TS_73_6_800.png', '/workspace/CZII/proc/yolo11_baseline_cv/images/TS_73_6_810.png', '/workspace/CZII/proc/yolo11_baseline_cv/images/TS_73_6_820.png', '/workspace/CZII/proc/yolo11_baseline_cv/images/TS_73_6_830.png', '/workspace/CZII/proc/yolo11_baseline_cv/images/TS_73_6_840.png', '/workspace/CZII/proc/yolo11_baseline_cv/images/TS_73_6_850.png', '/workspace/CZII/proc/yolo11_baseline_cv/images/TS_73_6_860.png', '/workspace/CZII/proc/yolo11_baseline_cv/images/TS_73_6_870.png', '/workspace/CZII/proc/yolo11_baseline_cv/images/TS_73_6_880.png', '/workspace/CZII/proc/yolo11_baseline_cv/images/TS_73_6_890.png', '/workspace/CZII/proc/yolo11_baseline_cv/images/TS_73_6_90.png', '/workspace/CZII/proc/yolo11_baseline_cv/images/TS_73_6_900.png', '/workspace/CZII/proc/yolo11_baseline_cv/images/TS_73_6_910.png', '/workspace/CZII/proc/yolo11_baseline_cv/images/TS_73_6_920.png', '/workspace/CZII/proc/yolo11_baseline_cv/images/TS_73_6_930.png', '/workspace/CZII/proc/yolo11_baseline_cv/images/TS_73_6_940.png', '/workspace/CZII/proc/yolo11_baseline_cv/images/TS_73_6_950.png', '/workspace/CZII/proc/yolo11_baseline_cv/images/TS_73_6_960.png', '/workspace/CZII/proc/yolo11_baseline_cv/images/TS_73_6_970.png', '/workspace/CZII/proc/yolo11_baseline_cv/images/TS_73_6_980.png', '/workspace/CZII/proc/yolo11_baseline_cv/images/TS_73_6_990.png', '/workspace/CZII/proc/yolo11_baseline_cv/images/TS_86_3_0.png', '/workspace/CZII/proc/yolo11_baseline_cv/images/TS_86_3_10.png', '/workspace/CZII/proc/yolo11_baseline_cv/images/TS_86_3_100.png', '/workspace/CZII/proc/yolo11_baseline_cv/images/TS_86_3_1000.png', '/workspace/CZII/proc/yolo11_baseline_cv/images/TS_86_3_1010.png', '/workspace/CZII/proc/yolo11_baseline_cv/images/TS_86_3_1020.png', '/workspace/CZII/proc/yolo11_baseline_cv/images/TS_86_3_1030.png', '/workspace/CZII/proc/yolo11_baseline_cv/images/TS_86_3_1040.png', '/workspace/CZII/proc/yolo11_baseline_cv/images/TS_86_3_1050.png', '/workspace/CZII/proc/yolo11_baseline_cv/images/TS_86_3_1060.png', '/workspace/CZII/proc/yolo11_baseline_cv/images/TS_86_3_1070.png', '/workspace/CZII/proc/yolo11_baseline_cv/images/TS_86_3_1080.png', '/workspace/CZII/proc/yolo11_baseline_cv/images/TS_86_3_1090.png', '/workspace/CZII/proc/yolo11_baseline_cv/images/TS_86_3_110.png', '/workspace/CZII/proc/yolo11_baseline_cv/images/TS_86_3_1100.png', '/workspace/CZII/proc/yolo11_baseline_cv/images/TS_86_3_1110.png', '/workspace/CZII/proc/yolo11_baseline_cv/images/TS_86_3_1120.png', '/workspace/CZII/proc/yolo11_baseline_cv/images/TS_86_3_1130.png', '/workspace/CZII/proc/yolo11_baseline_cv/images/TS_86_3_1140.png', '/workspace/CZII/proc/yolo11_baseline_cv/images/TS_86_3_1150.png', '/workspace/CZII/proc/yolo11_baseline_cv/images/TS_86_3_1160.png', '/workspace/CZII/proc/yolo11_baseline_cv/images/TS_86_3_1170.png', '/workspace/CZII/proc/yolo11_baseline_cv/images/TS_86_3_1180.png', '/workspace/CZII/proc/yolo11_baseline_cv/images/TS_86_3_1190.png', '/workspace/CZII/proc/yolo11_baseline_cv/images/TS_86_3_120.png', '/workspace/CZII/proc/yolo11_baseline_cv/images/TS_86_3_1200.png', '/workspace/CZII/proc/yolo11_baseline_cv/images/TS_86_3_1210.png', '/workspace/CZII/proc/yolo11_baseline_cv/images/TS_86_3_1220.png', '/workspace/CZII/proc/yolo11_baseline_cv/images/TS_86_3_1230.png', '/workspace/CZII/proc/yolo11_baseline_cv/images/TS_86_3_1240.png', '/workspace/CZII/proc/yolo11_baseline_cv/images/TS_86_3_1250.png', '/workspace/CZII/proc/yolo11_baseline_cv/images/TS_86_3_1260.png', '/workspace/CZII/proc/yolo11_baseline_cv/images/TS_86_3_1270.png', '/workspace/CZII/proc/yolo11_baseline_cv/images/TS_86_3_1280.png', '/workspace/CZII/proc/yolo11_baseline_cv/images/TS_86_3_1290.png', '/workspace/CZII/proc/yolo11_baseline_cv/images/TS_86_3_130.png', '/workspace/CZII/proc/yolo11_baseline_cv/images/TS_86_3_1300.png', '/workspace/CZII/proc/yolo11_baseline_cv/images/TS_86_3_1310.png', '/workspace/CZII/proc/yolo11_baseline_cv/images/TS_86_3_1320.png', '/workspace/CZII/proc/yolo11_baseline_cv/images/TS_86_3_1330.png', '/workspace/CZII/proc/yolo11_baseline_cv/images/TS_86_3_1340.png', '/workspace/CZII/proc/yolo11_baseline_cv/images/TS_86_3_1350.png', '/workspace/CZII/proc/yolo11_baseline_cv/images/TS_86_3_1360.png', '/workspace/CZII/proc/yolo11_baseline_cv/images/TS_86_3_1370.png', '/workspace/CZII/proc/yolo11_baseline_cv/images/TS_86_3_1380.png', '/workspace/CZII/proc/yolo11_baseline_cv/images/TS_86_3_1390.png', '/workspace/CZII/proc/yolo11_baseline_cv/images/TS_86_3_140.png', '/workspace/CZII/proc/yolo11_baseline_cv/images/TS_86_3_1400.png', '/workspace/CZII/proc/yolo11_baseline_cv/images/TS_86_3_1410.png', '/workspace/CZII/proc/yolo11_baseline_cv/images/TS_86_3_1420.png', '/workspace/CZII/proc/yolo11_baseline_cv/images/TS_86_3_1430.png', '/workspace/CZII/proc/yolo11_baseline_cv/images/TS_86_3_1440.png', '/workspace/CZII/proc/yolo11_baseline_cv/images/TS_86_3_1450.png', '/workspace/CZII/proc/yolo11_baseline_cv/images/TS_86_3_1460.png', '/workspace/CZII/proc/yolo11_baseline_cv/images/TS_86_3_1470.png', '/workspace/CZII/proc/yolo11_baseline_cv/images/TS_86_3_1480.png', '/workspace/CZII/proc/yolo11_baseline_cv/images/TS_86_3_1490.png', '/workspace/CZII/proc/yolo11_baseline_cv/images/TS_86_3_150.png', '/workspace/CZII/proc/yolo11_baseline_cv/images/TS_86_3_1500.png', '/workspace/CZII/proc/yolo11_baseline_cv/images/TS_86_3_1510.png', '/workspace/CZII/proc/yolo11_baseline_cv/images/TS_86_3_1520.png', '/workspace/CZII/proc/yolo11_baseline_cv/images/TS_86_3_1530.png', '/workspace/CZII/proc/yolo11_baseline_cv/images/TS_86_3_1540.png', '/workspace/CZII/proc/yolo11_baseline_cv/images/TS_86_3_1550.png', '/workspace/CZII/proc/yolo11_baseline_cv/images/TS_86_3_1560.png', '/workspace/CZII/proc/yolo11_baseline_cv/images/TS_86_3_1570.png', '/workspace/CZII/proc/yolo11_baseline_cv/images/TS_86_3_1580.png', '/workspace/CZII/proc/yolo11_baseline_cv/images/TS_86_3_1590.png', '/workspace/CZII/proc/yolo11_baseline_cv/images/TS_86_3_160.png', '/workspace/CZII/proc/yolo11_baseline_cv/images/TS_86_3_1600.png', '/workspace/CZII/proc/yolo11_baseline_cv/images/TS_86_3_1610.png', '/workspace/CZII/proc/yolo11_baseline_cv/images/TS_86_3_1620.png', '/workspace/CZII/proc/yolo11_baseline_cv/images/TS_86_3_1630.png', '/workspace/CZII/proc/yolo11_baseline_cv/images/TS_86_3_1640.png', '/workspace/CZII/proc/yolo11_baseline_cv/images/TS_86_3_1650.png', '/workspace/CZII/proc/yolo11_baseline_cv/images/TS_86_3_1660.png', '/workspace/CZII/proc/yolo11_baseline_cv/images/TS_86_3_1670.png', '/workspace/CZII/proc/yolo11_baseline_cv/images/TS_86_3_1680.png', '/workspace/CZII/proc/yolo11_baseline_cv/images/TS_86_3_1690.png', '/workspace/CZII/proc/yolo11_baseline_cv/images/TS_86_3_170.png', '/workspace/CZII/proc/yolo11_baseline_cv/images/TS_86_3_1700.png', '/workspace/CZII/proc/yolo11_baseline_cv/images/TS_86_3_1710.png', '/workspace/CZII/proc/yolo11_baseline_cv/images/TS_86_3_1720.png', '/workspace/CZII/proc/yolo11_baseline_cv/images/TS_86_3_1730.png', '/workspace/CZII/proc/yolo11_baseline_cv/images/TS_86_3_1740.png', '/workspace/CZII/proc/yolo11_baseline_cv/images/TS_86_3_1750.png', '/workspace/CZII/proc/yolo11_baseline_cv/images/TS_86_3_1760.png', '/workspace/CZII/proc/yolo11_baseline_cv/images/TS_86_3_1770.png', '/workspace/CZII/proc/yolo11_baseline_cv/images/TS_86_3_1780.png', '/workspace/CZII/proc/yolo11_baseline_cv/images/TS_86_3_1790.png', '/workspace/CZII/proc/yolo11_baseline_cv/images/TS_86_3_180.png', '/workspace/CZII/proc/yolo11_baseline_cv/images/TS_86_3_1800.png', '/workspace/CZII/proc/yolo11_baseline_cv/images/TS_86_3_1810.png', '/workspace/CZII/proc/yolo11_baseline_cv/images/TS_86_3_1820.png', '/workspace/CZII/proc/yolo11_baseline_cv/images/TS_86_3_1830.png', '/workspace/CZII/proc/yolo11_baseline_cv/images/TS_86_3_190.png', '/workspace/CZII/proc/yolo11_baseline_cv/images/TS_86_3_20.png', '/workspace/CZII/proc/yolo11_baseline_cv/images/TS_86_3_200.png', '/workspace/CZII/proc/yolo11_baseline_cv/images/TS_86_3_210.png', '/workspace/CZII/proc/yolo11_baseline_cv/images/TS_86_3_220.png', '/workspace/CZII/proc/yolo11_baseline_cv/images/TS_86_3_230.png', '/workspace/CZII/proc/yolo11_baseline_cv/images/TS_86_3_240.png', '/workspace/CZII/proc/yolo11_baseline_cv/images/TS_86_3_250.png', '/workspace/CZII/proc/yolo11_baseline_cv/images/TS_86_3_260.png', '/workspace/CZII/proc/yolo11_baseline_cv/images/TS_86_3_270.png', '/workspace/CZII/proc/yolo11_baseline_cv/images/TS_86_3_280.png', '/workspace/CZII/proc/yolo11_baseline_cv/images/TS_86_3_290.png', '/workspace/CZII/proc/yolo11_baseline_cv/images/TS_86_3_30.png', '/workspace/CZII/proc/yolo11_baseline_cv/images/TS_86_3_300.png', '/workspace/CZII/proc/yolo11_baseline_cv/images/TS_86_3_310.png', '/workspace/CZII/proc/yolo11_baseline_cv/images/TS_86_3_320.png', '/workspace/CZII/proc/yolo11_baseline_cv/images/TS_86_3_330.png', '/workspace/CZII/proc/yolo11_baseline_cv/images/TS_86_3_340.png', '/workspace/CZII/proc/yolo11_baseline_cv/images/TS_86_3_350.png', '/workspace/CZII/proc/yolo11_baseline_cv/images/TS_86_3_360.png', '/workspace/CZII/proc/yolo11_baseline_cv/images/TS_86_3_370.png', '/workspace/CZII/proc/yolo11_baseline_cv/images/TS_86_3_380.png', '/workspace/CZII/proc/yolo11_baseline_cv/images/TS_86_3_390.png', '/workspace/CZII/proc/yolo11_baseline_cv/images/TS_86_3_40.png', '/workspace/CZII/proc/yolo11_baseline_cv/images/TS_86_3_400.png', '/workspace/CZII/proc/yolo11_baseline_cv/images/TS_86_3_410.png', '/workspace/CZII/proc/yolo11_baseline_cv/images/TS_86_3_420.png', '/workspace/CZII/proc/yolo11_baseline_cv/images/TS_86_3_430.png', '/workspace/CZII/proc/yolo11_baseline_cv/images/TS_86_3_440.png', '/workspace/CZII/proc/yolo11_baseline_cv/images/TS_86_3_450.png', '/workspace/CZII/proc/yolo11_baseline_cv/images/TS_86_3_460.png', '/workspace/CZII/proc/yolo11_baseline_cv/images/TS_86_3_470.png', '/workspace/CZII/proc/yolo11_baseline_cv/images/TS_86_3_480.png', '/workspace/CZII/proc/yolo11_baseline_cv/images/TS_86_3_490.png', '/workspace/CZII/proc/yolo11_baseline_cv/images/TS_86_3_50.png', '/workspace/CZII/proc/yolo11_baseline_cv/images/TS_86_3_500.png', '/workspace/CZII/proc/yolo11_baseline_cv/images/TS_86_3_510.png', '/workspace/CZII/proc/yolo11_baseline_cv/images/TS_86_3_520.png', '/workspace/CZII/proc/yolo11_baseline_cv/images/TS_86_3_530.png', '/workspace/CZII/proc/yolo11_baseline_cv/images/TS_86_3_540.png', '/workspace/CZII/proc/yolo11_baseline_cv/images/TS_86_3_550.png', '/workspace/CZII/proc/yolo11_baseline_cv/images/TS_86_3_560.png', '/workspace/CZII/proc/yolo11_baseline_cv/images/TS_86_3_570.png', '/workspace/CZII/proc/yolo11_baseline_cv/images/TS_86_3_580.png', '/workspace/CZII/proc/yolo11_baseline_cv/images/TS_86_3_590.png', '/workspace/CZII/proc/yolo11_baseline_cv/images/TS_86_3_60.png', '/workspace/CZII/proc/yolo11_baseline_cv/images/TS_86_3_600.png', '/workspace/CZII/proc/yolo11_baseline_cv/images/TS_86_3_610.png', '/workspace/CZII/proc/yolo11_baseline_cv/images/TS_86_3_620.png', '/workspace/CZII/proc/yolo11_baseline_cv/images/TS_86_3_630.png', '/workspace/CZII/proc/yolo11_baseline_cv/images/TS_86_3_640.png', '/workspace/CZII/proc/yolo11_baseline_cv/images/TS_86_3_650.png', '/workspace/CZII/proc/yolo11_baseline_cv/images/TS_86_3_660.png', '/workspace/CZII/proc/yolo11_baseline_cv/images/TS_86_3_670.png', '/workspace/CZII/proc/yolo11_baseline_cv/images/TS_86_3_680.png', '/workspace/CZII/proc/yolo11_baseline_cv/images/TS_86_3_690.png', '/workspace/CZII/proc/yolo11_baseline_cv/images/TS_86_3_70.png', '/workspace/CZII/proc/yolo11_baseline_cv/images/TS_86_3_700.png', '/workspace/CZII/proc/yolo11_baseline_cv/images/TS_86_3_710.png', '/workspace/CZII/proc/yolo11_baseline_cv/images/TS_86_3_720.png', '/workspace/CZII/proc/yolo11_baseline_cv/images/TS_86_3_730.png', '/workspace/CZII/proc/yolo11_baseline_cv/images/TS_86_3_740.png', '/workspace/CZII/proc/yolo11_baseline_cv/images/TS_86_3_750.png', '/workspace/CZII/proc/yolo11_baseline_cv/images/TS_86_3_760.png', '/workspace/CZII/proc/yolo11_baseline_cv/images/TS_86_3_770.png', '/workspace/CZII/proc/yolo11_baseline_cv/images/TS_86_3_780.png', '/workspace/CZII/proc/yolo11_baseline_cv/images/TS_86_3_790.png', '/workspace/CZII/proc/yolo11_baseline_cv/images/TS_86_3_80.png', '/workspace/CZII/proc/yolo11_baseline_cv/images/TS_86_3_800.png', '/workspace/CZII/proc/yolo11_baseline_cv/images/TS_86_3_810.png', '/workspace/CZII/proc/yolo11_baseline_cv/images/TS_86_3_820.png', '/workspace/CZII/proc/yolo11_baseline_cv/images/TS_86_3_830.png', '/workspace/CZII/proc/yolo11_baseline_cv/images/TS_86_3_840.png', '/workspace/CZII/proc/yolo11_baseline_cv/images/TS_86_3_850.png', '/workspace/CZII/proc/yolo11_baseline_cv/images/TS_86_3_860.png', '/workspace/CZII/proc/yolo11_baseline_cv/images/TS_86_3_870.png', '/workspace/CZII/proc/yolo11_baseline_cv/images/TS_86_3_880.png', '/workspace/CZII/proc/yolo11_baseline_cv/images/TS_86_3_890.png', '/workspace/CZII/proc/yolo11_baseline_cv/images/TS_86_3_90.png', '/workspace/CZII/proc/yolo11_baseline_cv/images/TS_86_3_900.png', '/workspace/CZII/proc/yolo11_baseline_cv/images/TS_86_3_910.png', '/workspace/CZII/proc/yolo11_baseline_cv/images/TS_86_3_920.png', '/workspace/CZII/proc/yolo11_baseline_cv/images/TS_86_3_930.png', '/workspace/CZII/proc/yolo11_baseline_cv/images/TS_86_3_940.png', '/workspace/CZII/proc/yolo11_baseline_cv/images/TS_86_3_950.png', '/workspace/CZII/proc/yolo11_baseline_cv/images/TS_86_3_960.png', '/workspace/CZII/proc/yolo11_baseline_cv/images/TS_86_3_970.png', '/workspace/CZII/proc/yolo11_baseline_cv/images/TS_86_3_980.png', '/workspace/CZII/proc/yolo11_baseline_cv/images/TS_86_3_990.png', '/workspace/CZII/proc/yolo11_baseline_cv/images/TS_99_9_0.png', '/workspace/CZII/proc/yolo11_baseline_cv/images/TS_99_9_10.png', '/workspace/CZII/proc/yolo11_baseline_cv/images/TS_99_9_100.png', '/workspace/CZII/proc/yolo11_baseline_cv/images/TS_99_9_1000.png', '/workspace/CZII/proc/yolo11_baseline_cv/images/TS_99_9_1010.png', '/workspace/CZII/proc/yolo11_baseline_cv/images/TS_99_9_1020.png', '/workspace/CZII/proc/yolo11_baseline_cv/images/TS_99_9_1030.png', '/workspace/CZII/proc/yolo11_baseline_cv/images/TS_99_9_1040.png', '/workspace/CZII/proc/yolo11_baseline_cv/images/TS_99_9_1050.png', '/workspace/CZII/proc/yolo11_baseline_cv/images/TS_99_9_1060.png', '/workspace/CZII/proc/yolo11_baseline_cv/images/TS_99_9_1070.png', '/workspace/CZII/proc/yolo11_baseline_cv/images/TS_99_9_1080.png', '/workspace/CZII/proc/yolo11_baseline_cv/images/TS_99_9_1090.png', '/workspace/CZII/proc/yolo11_baseline_cv/images/TS_99_9_110.png', '/workspace/CZII/proc/yolo11_baseline_cv/images/TS_99_9_1100.png', '/workspace/CZII/proc/yolo11_baseline_cv/images/TS_99_9_1110.png', '/workspace/CZII/proc/yolo11_baseline_cv/images/TS_99_9_1120.png', '/workspace/CZII/proc/yolo11_baseline_cv/images/TS_99_9_1130.png', '/workspace/CZII/proc/yolo11_baseline_cv/images/TS_99_9_1140.png', '/workspace/CZII/proc/yolo11_baseline_cv/images/TS_99_9_1150.png', '/workspace/CZII/proc/yolo11_baseline_cv/images/TS_99_9_1160.png', '/workspace/CZII/proc/yolo11_baseline_cv/images/TS_99_9_1170.png', '/workspace/CZII/proc/yolo11_baseline_cv/images/TS_99_9_1180.png', '/workspace/CZII/proc/yolo11_baseline_cv/images/TS_99_9_1190.png', '/workspace/CZII/proc/yolo11_baseline_cv/images/TS_99_9_120.png', '/workspace/CZII/proc/yolo11_baseline_cv/images/TS_99_9_1200.png', '/workspace/CZII/proc/yolo11_baseline_cv/images/TS_99_9_1210.png', '/workspace/CZII/proc/yolo11_baseline_cv/images/TS_99_9_1220.png', '/workspace/CZII/proc/yolo11_baseline_cv/images/TS_99_9_1230.png', '/workspace/CZII/proc/yolo11_baseline_cv/images/TS_99_9_1240.png', '/workspace/CZII/proc/yolo11_baseline_cv/images/TS_99_9_1250.png', '/workspace/CZII/proc/yolo11_baseline_cv/images/TS_99_9_1260.png', '/workspace/CZII/proc/yolo11_baseline_cv/images/TS_99_9_1270.png', '/workspace/CZII/proc/yolo11_baseline_cv/images/TS_99_9_1280.png', '/workspace/CZII/proc/yolo11_baseline_cv/images/TS_99_9_1290.png', '/workspace/CZII/proc/yolo11_baseline_cv/images/TS_99_9_130.png', '/workspace/CZII/proc/yolo11_baseline_cv/images/TS_99_9_1300.png', '/workspace/CZII/proc/yolo11_baseline_cv/images/TS_99_9_1310.png', '/workspace/CZII/proc/yolo11_baseline_cv/images/TS_99_9_1320.png', '/workspace/CZII/proc/yolo11_baseline_cv/images/TS_99_9_1330.png', '/workspace/CZII/proc/yolo11_baseline_cv/images/TS_99_9_1340.png', '/workspace/CZII/proc/yolo11_baseline_cv/images/TS_99_9_1350.png', '/workspace/CZII/proc/yolo11_baseline_cv/images/TS_99_9_1360.png', '/workspace/CZII/proc/yolo11_baseline_cv/images/TS_99_9_1370.png', '/workspace/CZII/proc/yolo11_baseline_cv/images/TS_99_9_1380.png', '/workspace/CZII/proc/yolo11_baseline_cv/images/TS_99_9_1390.png', '/workspace/CZII/proc/yolo11_baseline_cv/images/TS_99_9_140.png', '/workspace/CZII/proc/yolo11_baseline_cv/images/TS_99_9_1400.png', '/workspace/CZII/proc/yolo11_baseline_cv/images/TS_99_9_1410.png', '/workspace/CZII/proc/yolo11_baseline_cv/images/TS_99_9_1420.png', '/workspace/CZII/proc/yolo11_baseline_cv/images/TS_99_9_1430.png', '/workspace/CZII/proc/yolo11_baseline_cv/images/TS_99_9_1440.png', '/workspace/CZII/proc/yolo11_baseline_cv/images/TS_99_9_1450.png', '/workspace/CZII/proc/yolo11_baseline_cv/images/TS_99_9_1460.png', '/workspace/CZII/proc/yolo11_baseline_cv/images/TS_99_9_1470.png', '/workspace/CZII/proc/yolo11_baseline_cv/images/TS_99_9_1480.png', '/workspace/CZII/proc/yolo11_baseline_cv/images/TS_99_9_1490.png', '/workspace/CZII/proc/yolo11_baseline_cv/images/TS_99_9_150.png', '/workspace/CZII/proc/yolo11_baseline_cv/images/TS_99_9_1500.png', '/workspace/CZII/proc/yolo11_baseline_cv/images/TS_99_9_1510.png', '/workspace/CZII/proc/yolo11_baseline_cv/images/TS_99_9_1520.png', '/workspace/CZII/proc/yolo11_baseline_cv/images/TS_99_9_1530.png', '/workspace/CZII/proc/yolo11_baseline_cv/images/TS_99_9_1540.png', '/workspace/CZII/proc/yolo11_baseline_cv/images/TS_99_9_1550.png', '/workspace/CZII/proc/yolo11_baseline_cv/images/TS_99_9_1560.png', '/workspace/CZII/proc/yolo11_baseline_cv/images/TS_99_9_1570.png', '/workspace/CZII/proc/yolo11_baseline_cv/images/TS_99_9_1580.png', '/workspace/CZII/proc/yolo11_baseline_cv/images/TS_99_9_1590.png', '/workspace/CZII/proc/yolo11_baseline_cv/images/TS_99_9_160.png', '/workspace/CZII/proc/yolo11_baseline_cv/images/TS_99_9_1600.png', '/workspace/CZII/proc/yolo11_baseline_cv/images/TS_99_9_1610.png', '/workspace/CZII/proc/yolo11_baseline_cv/images/TS_99_9_1620.png', '/workspace/CZII/proc/yolo11_baseline_cv/images/TS_99_9_1630.png', '/workspace/CZII/proc/yolo11_baseline_cv/images/TS_99_9_1640.png', '/workspace/CZII/proc/yolo11_baseline_cv/images/TS_99_9_1650.png', '/workspace/CZII/proc/yolo11_baseline_cv/images/TS_99_9_1660.png', '/workspace/CZII/proc/yolo11_baseline_cv/images/TS_99_9_1670.png', '/workspace/CZII/proc/yolo11_baseline_cv/images/TS_99_9_1680.png', '/workspace/CZII/proc/yolo11_baseline_cv/images/TS_99_9_1690.png', '/workspace/CZII/proc/yolo11_baseline_cv/images/TS_99_9_170.png', '/workspace/CZII/proc/yolo11_baseline_cv/images/TS_99_9_1700.png', '/workspace/CZII/proc/yolo11_baseline_cv/images/TS_99_9_1710.png', '/workspace/CZII/proc/yolo11_baseline_cv/images/TS_99_9_1720.png', '/workspace/CZII/proc/yolo11_baseline_cv/images/TS_99_9_1730.png', '/workspace/CZII/proc/yolo11_baseline_cv/images/TS_99_9_1740.png', '/workspace/CZII/proc/yolo11_baseline_cv/images/TS_99_9_1750.png', '/workspace/CZII/proc/yolo11_baseline_cv/images/TS_99_9_1760.png', '/workspace/CZII/proc/yolo11_baseline_cv/images/TS_99_9_1770.png', '/workspace/CZII/proc/yolo11_baseline_cv/images/TS_99_9_1780.png', '/workspace/CZII/proc/yolo11_baseline_cv/images/TS_99_9_1790.png', '/workspace/CZII/proc/yolo11_baseline_cv/images/TS_99_9_180.png', '/workspace/CZII/proc/yolo11_baseline_cv/images/TS_99_9_1800.png', '/workspace/CZII/proc/yolo11_baseline_cv/images/TS_99_9_1810.png', '/workspace/CZII/proc/yolo11_baseline_cv/images/TS_99_9_1820.png', '/workspace/CZII/proc/yolo11_baseline_cv/images/TS_99_9_1830.png', '/workspace/CZII/proc/yolo11_baseline_cv/images/TS_99_9_190.png', '/workspace/CZII/proc/yolo11_baseline_cv/images/TS_99_9_20.png', '/workspace/CZII/proc/yolo11_baseline_cv/images/TS_99_9_200.png', '/workspace/CZII/proc/yolo11_baseline_cv/images/TS_99_9_210.png', '/workspace/CZII/proc/yolo11_baseline_cv/images/TS_99_9_220.png', '/workspace/CZII/proc/yolo11_baseline_cv/images/TS_99_9_230.png', '/workspace/CZII/proc/yolo11_baseline_cv/images/TS_99_9_240.png', '/workspace/CZII/proc/yolo11_baseline_cv/images/TS_99_9_250.png', '/workspace/CZII/proc/yolo11_baseline_cv/images/TS_99_9_260.png', '/workspace/CZII/proc/yolo11_baseline_cv/images/TS_99_9_270.png', '/workspace/CZII/proc/yolo11_baseline_cv/images/TS_99_9_280.png', '/workspace/CZII/proc/yolo11_baseline_cv/images/TS_99_9_290.png', '/workspace/CZII/proc/yolo11_baseline_cv/images/TS_99_9_30.png', '/workspace/CZII/proc/yolo11_baseline_cv/images/TS_99_9_300.png', '/workspace/CZII/proc/yolo11_baseline_cv/images/TS_99_9_310.png', '/workspace/CZII/proc/yolo11_baseline_cv/images/TS_99_9_320.png', '/workspace/CZII/proc/yolo11_baseline_cv/images/TS_99_9_330.png', '/workspace/CZII/proc/yolo11_baseline_cv/images/TS_99_9_340.png', '/workspace/CZII/proc/yolo11_baseline_cv/images/TS_99_9_350.png', '/workspace/CZII/proc/yolo11_baseline_cv/images/TS_99_9_360.png', '/workspace/CZII/proc/yolo11_baseline_cv/images/TS_99_9_370.png', '/workspace/CZII/proc/yolo11_baseline_cv/images/TS_99_9_380.png', '/workspace/CZII/proc/yolo11_baseline_cv/images/TS_99_9_390.png', '/workspace/CZII/proc/yolo11_baseline_cv/images/TS_99_9_40.png', '/workspace/CZII/proc/yolo11_baseline_cv/images/TS_99_9_400.png', '/workspace/CZII/proc/yolo11_baseline_cv/images/TS_99_9_410.png', '/workspace/CZII/proc/yolo11_baseline_cv/images/TS_99_9_420.png', '/workspace/CZII/proc/yolo11_baseline_cv/images/TS_99_9_430.png', '/workspace/CZII/proc/yolo11_baseline_cv/images/TS_99_9_440.png', '/workspace/CZII/proc/yolo11_baseline_cv/images/TS_99_9_450.png', '/workspace/CZII/proc/yolo11_baseline_cv/images/TS_99_9_460.png', '/workspace/CZII/proc/yolo11_baseline_cv/images/TS_99_9_470.png', '/workspace/CZII/proc/yolo11_baseline_cv/images/TS_99_9_480.png', '/workspace/CZII/proc/yolo11_baseline_cv/images/TS_99_9_490.png', '/workspace/CZII/proc/yolo11_baseline_cv/images/TS_99_9_50.png', '/workspace/CZII/proc/yolo11_baseline_cv/images/TS_99_9_500.png', '/workspace/CZII/proc/yolo11_baseline_cv/images/TS_99_9_510.png', '/workspace/CZII/proc/yolo11_baseline_cv/images/TS_99_9_520.png', '/workspace/CZII/proc/yolo11_baseline_cv/images/TS_99_9_530.png', '/workspace/CZII/proc/yolo11_baseline_cv/images/TS_99_9_540.png', '/workspace/CZII/proc/yolo11_baseline_cv/images/TS_99_9_550.png', '/workspace/CZII/proc/yolo11_baseline_cv/images/TS_99_9_560.png', '/workspace/CZII/proc/yolo11_baseline_cv/images/TS_99_9_570.png', '/workspace/CZII/proc/yolo11_baseline_cv/images/TS_99_9_580.png', '/workspace/CZII/proc/yolo11_baseline_cv/images/TS_99_9_590.png', '/workspace/CZII/proc/yolo11_baseline_cv/images/TS_99_9_60.png', '/workspace/CZII/proc/yolo11_baseline_cv/images/TS_99_9_600.png', '/workspace/CZII/proc/yolo11_baseline_cv/images/TS_99_9_610.png', '/workspace/CZII/proc/yolo11_baseline_cv/images/TS_99_9_620.png', '/workspace/CZII/proc/yolo11_baseline_cv/images/TS_99_9_630.png', '/workspace/CZII/proc/yolo11_baseline_cv/images/TS_99_9_640.png', '/workspace/CZII/proc/yolo11_baseline_cv/images/TS_99_9_650.png', '/workspace/CZII/proc/yolo11_baseline_cv/images/TS_99_9_660.png', '/workspace/CZII/proc/yolo11_baseline_cv/images/TS_99_9_670.png', '/workspace/CZII/proc/yolo11_baseline_cv/images/TS_99_9_680.png', '/workspace/CZII/proc/yolo11_baseline_cv/images/TS_99_9_690.png', '/workspace/CZII/proc/yolo11_baseline_cv/images/TS_99_9_70.png', '/workspace/CZII/proc/yolo11_baseline_cv/images/TS_99_9_700.png', '/workspace/CZII/proc/yolo11_baseline_cv/images/TS_99_9_710.png', '/workspace/CZII/proc/yolo11_baseline_cv/images/TS_99_9_720.png', '/workspace/CZII/proc/yolo11_baseline_cv/images/TS_99_9_730.png', '/workspace/CZII/proc/yolo11_baseline_cv/images/TS_99_9_740.png', '/workspace/CZII/proc/yolo11_baseline_cv/images/TS_99_9_750.png', '/workspace/CZII/proc/yolo11_baseline_cv/images/TS_99_9_760.png', '/workspace/CZII/proc/yolo11_baseline_cv/images/TS_99_9_770.png', '/workspace/CZII/proc/yolo11_baseline_cv/images/TS_99_9_780.png', '/workspace/CZII/proc/yolo11_baseline_cv/images/TS_99_9_790.png', '/workspace/CZII/proc/yolo11_baseline_cv/images/TS_99_9_80.png', '/workspace/CZII/proc/yolo11_baseline_cv/images/TS_99_9_800.png', '/workspace/CZII/proc/yolo11_baseline_cv/images/TS_99_9_810.png', '/workspace/CZII/proc/yolo11_baseline_cv/images/TS_99_9_820.png', '/workspace/CZII/proc/yolo11_baseline_cv/images/TS_99_9_830.png', '/workspace/CZII/proc/yolo11_baseline_cv/images/TS_99_9_840.png', '/workspace/CZII/proc/yolo11_baseline_cv/images/TS_99_9_850.png', '/workspace/CZII/proc/yolo11_baseline_cv/images/TS_99_9_860.png', '/workspace/CZII/proc/yolo11_baseline_cv/images/TS_99_9_870.png', '/workspace/CZII/proc/yolo11_baseline_cv/images/TS_99_9_880.png', '/workspace/CZII/proc/yolo11_baseline_cv/images/TS_99_9_890.png', '/workspace/CZII/proc/yolo11_baseline_cv/images/TS_99_9_90.png', '/workspace/CZII/proc/yolo11_baseline_cv/images/TS_99_9_900.png', '/workspace/CZII/proc/yolo11_baseline_cv/images/TS_99_9_910.png', '/workspace/CZII/proc/yolo11_baseline_cv/images/TS_99_9_920.png', '/workspace/CZII/proc/yolo11_baseline_cv/images/TS_99_9_930.png', '/workspace/CZII/proc/yolo11_baseline_cv/images/TS_99_9_940.png', '/workspace/CZII/proc/yolo11_baseline_cv/images/TS_99_9_950.png', '/workspace/CZII/proc/yolo11_baseline_cv/images/TS_99_9_960.png', '/workspace/CZII/proc/yolo11_baseline_cv/images/TS_99_9_970.png', '/workspace/CZII/proc/yolo11_baseline_cv/images/TS_99_9_980.png', '/workspace/CZII/proc/yolo11_baseline_cv/images/TS_99_9_990.png']\n",
      "Found 1104 train images.\n",
      "Found 184 val images.\n",
      "Train list saved to ../../proc/yolo11_baseline_cv/train.txt\n",
      "Val list saved to ../../proc/yolo11_baseline_cv/val.txt\n",
      "New https://pypi.org/project/ultralytics/8.3.70 available 😃 Update with 'pip install -U ultralytics'\n",
      "Ultralytics 8.3.53 🚀 Python-3.12.8 torch-2.5.1+cu124 CUDA:0 (NVIDIA RTX A4000, 16102MiB)\n",
      "\u001b[34m\u001b[1mengine/trainer: \u001b[0mtask=detect, mode=train, model=yolo11l.pt, data=../../proc/yolo11_baseline_cv/cv_conf.yaml, epochs=25, time=None, patience=100, batch=16, imgsz=640, save=True, save_period=-1, cache=False, device=0, workers=8, project=None, name=baseline_cv3, exist_ok=False, pretrained=True, optimizer=AdamW, verbose=True, seed=8620, deterministic=True, single_cls=False, rect=False, cos_lr=True, close_mosaic=10, resume=False, amp=True, fraction=1.0, profile=False, freeze=None, multi_scale=False, overlap_mask=True, mask_ratio=4, dropout=0.0, val=True, split=val, save_json=False, save_hybrid=False, conf=None, iou=0.7, max_det=300, half=False, dnn=False, plots=True, source=None, vid_stride=1, stream_buffer=False, visualize=False, augment=False, agnostic_nms=False, classes=None, retina_masks=False, embed=None, show=False, save_frames=False, save_txt=False, save_conf=False, save_crop=False, show_labels=True, show_conf=True, show_boxes=True, line_width=None, format=torchscript, keras=False, optimize=False, int8=False, dynamic=False, simplify=True, opset=None, workspace=None, nms=False, lr0=5e-05, lrf=0.01, momentum=0.937, weight_decay=0.01, warmup_epochs=3, warmup_momentum=0.8, warmup_bias_lr=0.1, box=7.5, cls=0.5, dfl=1.5, pose=12.0, kobj=1.0, nbs=64, hsv_h=0.015, hsv_s=0.7, hsv_v=0.4, degrees=90, translate=0.1, scale=0, shear=5, perspective=0.0, flipud=0.5, fliplr=0.5, bgr=0.0, mosaic=1.0, mixup=0.2, copy_paste=0.25, copy_paste_mode=flip, auto_augment=randaugment, erasing=0.4, crop_fraction=1.0, cfg=None, tracker=botsort.yaml, save_dir=/workspace/CZII/runs/detect/baseline_cv3\n",
      "Overriding model.yaml nc=80 with nc=6\n",
      "\n",
      "                   from  n    params  module                                       arguments                     \n",
      "  0                  -1  1      1856  ultralytics.nn.modules.conv.Conv             [3, 64, 3, 2]                 \n",
      "  1                  -1  1     73984  ultralytics.nn.modules.conv.Conv             [64, 128, 3, 2]               \n",
      "  2                  -1  2    173824  ultralytics.nn.modules.block.C3k2            [128, 256, 2, True, 0.25]     \n",
      "  3                  -1  1    590336  ultralytics.nn.modules.conv.Conv             [256, 256, 3, 2]              \n",
      "  4                  -1  2    691712  ultralytics.nn.modules.block.C3k2            [256, 512, 2, True, 0.25]     \n",
      "  5                  -1  1   2360320  ultralytics.nn.modules.conv.Conv             [512, 512, 3, 2]              \n",
      "  6                  -1  2   2234368  ultralytics.nn.modules.block.C3k2            [512, 512, 2, True]           \n",
      "  7                  -1  1   2360320  ultralytics.nn.modules.conv.Conv             [512, 512, 3, 2]              \n",
      "  8                  -1  2   2234368  ultralytics.nn.modules.block.C3k2            [512, 512, 2, True]           \n",
      "  9                  -1  1    656896  ultralytics.nn.modules.block.SPPF            [512, 512, 5]                 \n",
      " 10                  -1  2   1455616  ultralytics.nn.modules.block.C2PSA           [512, 512, 2]                 \n",
      " 11                  -1  1         0  torch.nn.modules.upsampling.Upsample         [None, 2, 'nearest']          \n",
      " 12             [-1, 6]  1         0  ultralytics.nn.modules.conv.Concat           [1]                           \n",
      " 13                  -1  2   2496512  ultralytics.nn.modules.block.C3k2            [1024, 512, 2, True]          \n",
      " 14                  -1  1         0  torch.nn.modules.upsampling.Upsample         [None, 2, 'nearest']          \n",
      " 15             [-1, 4]  1         0  ultralytics.nn.modules.conv.Concat           [1]                           \n",
      " 16                  -1  2    756736  ultralytics.nn.modules.block.C3k2            [1024, 256, 2, True]          \n",
      " 17                  -1  1    590336  ultralytics.nn.modules.conv.Conv             [256, 256, 3, 2]              \n",
      " 18            [-1, 13]  1         0  ultralytics.nn.modules.conv.Concat           [1]                           \n",
      " 19                  -1  2   2365440  ultralytics.nn.modules.block.C3k2            [768, 512, 2, True]           \n",
      " 20                  -1  1   2360320  ultralytics.nn.modules.conv.Conv             [512, 512, 3, 2]              \n",
      " 21            [-1, 10]  1         0  ultralytics.nn.modules.conv.Concat           [1]                           \n",
      " 22                  -1  2   2496512  ultralytics.nn.modules.block.C3k2            [1024, 512, 2, True]          \n",
      " 23        [16, 19, 22]  1   1415650  ultralytics.nn.modules.head.Detect           [6, [256, 512, 512]]          \n",
      "YOLO11l summary: 631 layers, 25,315,106 parameters, 25,315,090 gradients, 87.3 GFLOPs\n",
      "\n",
      "Transferred 1009/1015 items from pretrained weights\n",
      "WARNING ⚠️ ClearML installed but not initialized correctly, not logging this run. It seems ClearML is not configured on this machine!\n",
      "To get started with ClearML, setup your own 'clearml-server' or create a free account at https://app.clear.ml\n",
      "Setup instructions can be found here: https://clear.ml/docs\n",
      "\u001b[34m\u001b[1mTensorBoard: \u001b[0mStart with 'tensorboard --logdir /workspace/CZII/runs/detect/baseline_cv3', view at http://localhost:6006/\n",
      "Freezing layer 'model.23.dfl.conv.weight'\n",
      "\u001b[34m\u001b[1mAMP: \u001b[0mrunning Automatic Mixed Precision (AMP) checks...\n",
      "\u001b[34m\u001b[1mAMP: \u001b[0mchecks passed ✅\n"
     ]
    },
    {
     "name": "stderr",
     "output_type": "stream",
     "text": [
      "\u001b[34m\u001b[1mtrain: \u001b[0mScanning /workspace/CZII/proc/yolo11_baseline_cv/labels... 1104 images, 263 backgrounds, 0 corrupt: 100%|██████████| 1104/1104 [00:05<00:00, 196.67it/s]\n"
     ]
    },
    {
     "name": "stdout",
     "output_type": "stream",
     "text": [
      "\u001b[34m\u001b[1mtrain: \u001b[0mNew cache created: /workspace/CZII/proc/yolo11_baseline_cv/labels.cache\n",
      "\u001b[34m\u001b[1malbumentations: \u001b[0mBlur(p=0.01, blur_limit=(3, 7)), MedianBlur(p=0.01, blur_limit=(3, 7)), ToGray(p=0.01, num_output_channels=3, method='weighted_average'), CLAHE(p=0.01, clip_limit=(1.0, 4.0), tile_grid_size=(8, 8))\n"
     ]
    },
    {
     "name": "stderr",
     "output_type": "stream",
     "text": [
      "/workspace/CZII/.venv/lib/python3.12/site-packages/ultralytics/data/augment.py:1850: UserWarning: Argument 'quality_lower' is not valid and will be ignored.\n",
      "  A.ImageCompression(quality_lower=75, p=0.0),\n",
      "\u001b[34m\u001b[1mval: \u001b[0mScanning /workspace/CZII/proc/yolo11_baseline_cv/labels... 184 images, 39 backgrounds, 0 corrupt: 100%|██████████| 184/184 [00:01<00:00, 178.79it/s]"
     ]
    },
    {
     "name": "stdout",
     "output_type": "stream",
     "text": [
      "\u001b[34m\u001b[1mval: \u001b[0mNew cache created: /workspace/CZII/proc/yolo11_baseline_cv/labels.cache\n"
     ]
    },
    {
     "name": "stderr",
     "output_type": "stream",
     "text": [
      "\n"
     ]
    },
    {
     "name": "stdout",
     "output_type": "stream",
     "text": [
      "Plotting labels to /workspace/CZII/runs/detect/baseline_cv3/labels.jpg... \n",
      "\u001b[34m\u001b[1moptimizer:\u001b[0m AdamW(lr=5e-05, momentum=0.937) with parameter groups 167 weight(decay=0.0), 174 weight(decay=0.01), 173 bias(decay=0.0)\n",
      "\u001b[34m\u001b[1mMLflow: \u001b[0mlogging run_id(20e090bb1586406ea5b18cbf4fcd7ad4) to /workspace/CZII/runs/mlflow\n",
      "\u001b[34m\u001b[1mMLflow: \u001b[0mview at http://127.0.0.1:5000 with 'mlflow server --backend-store-uri /workspace/CZII/runs/mlflow'\n",
      "\u001b[34m\u001b[1mMLflow: \u001b[0mdisable with 'yolo settings mlflow=False'\n",
      "\u001b[34m\u001b[1mTensorBoard: \u001b[0mmodel graph visualization added ✅\n",
      "Image sizes 640 train, 640 val\n",
      "Using 8 dataloader workers\n",
      "Logging results to \u001b[1m/workspace/CZII/runs/detect/baseline_cv3\u001b[0m\n",
      "Starting training for 25 epochs...\n",
      "\n",
      "      Epoch    GPU_mem   box_loss   cls_loss   dfl_loss  Instances       Size\n"
     ]
    },
    {
     "name": "stderr",
     "output_type": "stream",
     "text": [
      "       1/25      11.6G      1.975      2.342       1.43        461        640: 100%|██████████| 69/69 [00:30<00:00,  2.29it/s]\n",
      "                 Class     Images  Instances      Box(P          R      mAP50  mAP50-95): 100%|██████████| 6/6 [00:04<00:00,  1.47it/s]"
     ]
    },
    {
     "name": "stdout",
     "output_type": "stream",
     "text": [
      "                   all        184       3998       0.33      0.344      0.272     0.0927\n"
     ]
    },
    {
     "name": "stderr",
     "output_type": "stream",
     "text": [
      "\n"
     ]
    },
    {
     "name": "stdout",
     "output_type": "stream",
     "text": [
      "\n",
      "      Epoch    GPU_mem   box_loss   cls_loss   dfl_loss  Instances       Size\n"
     ]
    },
    {
     "name": "stderr",
     "output_type": "stream",
     "text": [
      "       2/25      11.7G      1.397      1.474      1.114        472        640: 100%|██████████| 69/69 [00:28<00:00,  2.39it/s]\n",
      "                 Class     Images  Instances      Box(P          R      mAP50  mAP50-95): 100%|██████████| 6/6 [00:02<00:00,  2.53it/s]"
     ]
    },
    {
     "name": "stdout",
     "output_type": "stream",
     "text": [
      "                   all        184       3998      0.681      0.445      0.453      0.227\n"
     ]
    },
    {
     "name": "stderr",
     "output_type": "stream",
     "text": [
      "\n"
     ]
    },
    {
     "name": "stdout",
     "output_type": "stream",
     "text": [
      "\n",
      "      Epoch    GPU_mem   box_loss   cls_loss   dfl_loss  Instances       Size\n"
     ]
    },
    {
     "name": "stderr",
     "output_type": "stream",
     "text": [
      "       3/25      11.5G      1.277      1.335      1.071        258        640: 100%|██████████| 69/69 [00:28<00:00,  2.46it/s]\n",
      "                 Class     Images  Instances      Box(P          R      mAP50  mAP50-95): 100%|██████████| 6/6 [00:02<00:00,  2.83it/s]"
     ]
    },
    {
     "name": "stdout",
     "output_type": "stream",
     "text": [
      "                   all        184       3998      0.485      0.498      0.481      0.258\n"
     ]
    },
    {
     "name": "stderr",
     "output_type": "stream",
     "text": [
      "\n"
     ]
    },
    {
     "name": "stdout",
     "output_type": "stream",
     "text": [
      "\n",
      "      Epoch    GPU_mem   box_loss   cls_loss   dfl_loss  Instances       Size\n"
     ]
    },
    {
     "name": "stderr",
     "output_type": "stream",
     "text": [
      "       4/25      11.6G      1.256      1.292      1.058        446        640: 100%|██████████| 69/69 [00:27<00:00,  2.47it/s]\n",
      "                 Class     Images  Instances      Box(P          R      mAP50  mAP50-95): 100%|██████████| 6/6 [00:02<00:00,  2.83it/s]"
     ]
    },
    {
     "name": "stdout",
     "output_type": "stream",
     "text": [
      "                   all        184       3998      0.559      0.532      0.512      0.306\n"
     ]
    },
    {
     "name": "stderr",
     "output_type": "stream",
     "text": [
      "\n"
     ]
    },
    {
     "name": "stdout",
     "output_type": "stream",
     "text": [
      "\n",
      "      Epoch    GPU_mem   box_loss   cls_loss   dfl_loss  Instances       Size\n"
     ]
    },
    {
     "name": "stderr",
     "output_type": "stream",
     "text": [
      "       5/25      11.5G       1.21       1.24      1.042        512        640: 100%|██████████| 69/69 [00:27<00:00,  2.49it/s]\n",
      "                 Class     Images  Instances      Box(P          R      mAP50  mAP50-95): 100%|██████████| 6/6 [00:02<00:00,  2.79it/s]"
     ]
    },
    {
     "name": "stdout",
     "output_type": "stream",
     "text": [
      "                   all        184       3998       0.54      0.597      0.543      0.343\n"
     ]
    },
    {
     "name": "stderr",
     "output_type": "stream",
     "text": [
      "\n"
     ]
    },
    {
     "name": "stdout",
     "output_type": "stream",
     "text": [
      "\n",
      "      Epoch    GPU_mem   box_loss   cls_loss   dfl_loss  Instances       Size\n"
     ]
    },
    {
     "name": "stderr",
     "output_type": "stream",
     "text": [
      "       6/25      11.6G      1.198       1.23      1.042        439        640: 100%|██████████| 69/69 [00:27<00:00,  2.49it/s]\n",
      "                 Class     Images  Instances      Box(P          R      mAP50  mAP50-95): 100%|██████████| 6/6 [00:02<00:00,  2.82it/s]"
     ]
    },
    {
     "name": "stdout",
     "output_type": "stream",
     "text": [
      "                   all        184       3998      0.551      0.569      0.546      0.348\n"
     ]
    },
    {
     "name": "stderr",
     "output_type": "stream",
     "text": [
      "\n"
     ]
    },
    {
     "name": "stdout",
     "output_type": "stream",
     "text": [
      "\n",
      "      Epoch    GPU_mem   box_loss   cls_loss   dfl_loss  Instances       Size\n"
     ]
    },
    {
     "name": "stderr",
     "output_type": "stream",
     "text": [
      "       7/25      11.6G      1.171      1.201      1.031        206        640: 100%|██████████| 69/69 [00:27<00:00,  2.49it/s]\n",
      "                 Class     Images  Instances      Box(P          R      mAP50  mAP50-95): 100%|██████████| 6/6 [00:02<00:00,  2.79it/s]"
     ]
    },
    {
     "name": "stdout",
     "output_type": "stream",
     "text": [
      "                   all        184       3998      0.496      0.596      0.538      0.354\n"
     ]
    },
    {
     "name": "stderr",
     "output_type": "stream",
     "text": [
      "\n"
     ]
    },
    {
     "name": "stdout",
     "output_type": "stream",
     "text": [
      "\n",
      "      Epoch    GPU_mem   box_loss   cls_loss   dfl_loss  Instances       Size\n"
     ]
    },
    {
     "name": "stderr",
     "output_type": "stream",
     "text": [
      "       8/25      11.6G      1.154      1.168      1.022        313        640: 100%|██████████| 69/69 [00:27<00:00,  2.47it/s]\n",
      "                 Class     Images  Instances      Box(P          R      mAP50  mAP50-95): 100%|██████████| 6/6 [00:02<00:00,  2.80it/s]"
     ]
    },
    {
     "name": "stdout",
     "output_type": "stream",
     "text": [
      "                   all        184       3998      0.495      0.595      0.546      0.368\n"
     ]
    },
    {
     "name": "stderr",
     "output_type": "stream",
     "text": [
      "\n"
     ]
    },
    {
     "name": "stdout",
     "output_type": "stream",
     "text": [
      "\n",
      "      Epoch    GPU_mem   box_loss   cls_loss   dfl_loss  Instances       Size\n"
     ]
    },
    {
     "name": "stderr",
     "output_type": "stream",
     "text": [
      "       9/25      11.6G      1.144      1.164      1.018        308        640: 100%|██████████| 69/69 [00:27<00:00,  2.48it/s]\n",
      "                 Class     Images  Instances      Box(P          R      mAP50  mAP50-95): 100%|██████████| 6/6 [00:02<00:00,  2.81it/s]"
     ]
    },
    {
     "name": "stdout",
     "output_type": "stream",
     "text": [
      "                   all        184       3998      0.497      0.569      0.546      0.341\n"
     ]
    },
    {
     "name": "stderr",
     "output_type": "stream",
     "text": [
      "\n"
     ]
    },
    {
     "name": "stdout",
     "output_type": "stream",
     "text": [
      "\n",
      "      Epoch    GPU_mem   box_loss   cls_loss   dfl_loss  Instances       Size\n"
     ]
    },
    {
     "name": "stderr",
     "output_type": "stream",
     "text": [
      "      10/25      11.7G      1.125      1.135      1.012        376        640: 100%|██████████| 69/69 [00:27<00:00,  2.49it/s]\n",
      "                 Class     Images  Instances      Box(P          R      mAP50  mAP50-95): 100%|██████████| 6/6 [00:02<00:00,  2.80it/s]"
     ]
    },
    {
     "name": "stdout",
     "output_type": "stream",
     "text": [
      "                   all        184       3998      0.532      0.583      0.545       0.36\n"
     ]
    },
    {
     "name": "stderr",
     "output_type": "stream",
     "text": [
      "\n"
     ]
    },
    {
     "name": "stdout",
     "output_type": "stream",
     "text": [
      "\n",
      "      Epoch    GPU_mem   box_loss   cls_loss   dfl_loss  Instances       Size\n"
     ]
    },
    {
     "name": "stderr",
     "output_type": "stream",
     "text": [
      "      11/25      11.6G      1.092       1.13      1.004        429        640: 100%|██████████| 69/69 [00:27<00:00,  2.49it/s]\n",
      "                 Class     Images  Instances      Box(P          R      mAP50  mAP50-95): 100%|██████████| 6/6 [00:02<00:00,  2.79it/s]"
     ]
    },
    {
     "name": "stdout",
     "output_type": "stream",
     "text": [
      "                   all        184       3998      0.538      0.601      0.557      0.363\n"
     ]
    },
    {
     "name": "stderr",
     "output_type": "stream",
     "text": [
      "\n"
     ]
    },
    {
     "name": "stdout",
     "output_type": "stream",
     "text": [
      "\n",
      "      Epoch    GPU_mem   box_loss   cls_loss   dfl_loss  Instances       Size\n"
     ]
    },
    {
     "name": "stderr",
     "output_type": "stream",
     "text": [
      "      12/25      11.6G      1.103       1.15      1.004        385        640: 100%|██████████| 69/69 [00:27<00:00,  2.49it/s]\n",
      "                 Class     Images  Instances      Box(P          R      mAP50  mAP50-95): 100%|██████████| 6/6 [00:02<00:00,  2.80it/s]"
     ]
    },
    {
     "name": "stdout",
     "output_type": "stream",
     "text": [
      "                   all        184       3998      0.536      0.605      0.562      0.372\n"
     ]
    },
    {
     "name": "stderr",
     "output_type": "stream",
     "text": [
      "\n"
     ]
    },
    {
     "name": "stdout",
     "output_type": "stream",
     "text": [
      "\n",
      "      Epoch    GPU_mem   box_loss   cls_loss   dfl_loss  Instances       Size\n"
     ]
    },
    {
     "name": "stderr",
     "output_type": "stream",
     "text": [
      "      13/25      11.6G       1.11      1.104      1.005        584        640: 100%|██████████| 69/69 [00:27<00:00,  2.48it/s]\n",
      "                 Class     Images  Instances      Box(P          R      mAP50  mAP50-95): 100%|██████████| 6/6 [00:02<00:00,  2.84it/s]"
     ]
    },
    {
     "name": "stdout",
     "output_type": "stream",
     "text": [
      "                   all        184       3998      0.556      0.591      0.567      0.385\n"
     ]
    },
    {
     "name": "stderr",
     "output_type": "stream",
     "text": [
      "\n"
     ]
    },
    {
     "name": "stdout",
     "output_type": "stream",
     "text": [
      "\n",
      "      Epoch    GPU_mem   box_loss   cls_loss   dfl_loss  Instances       Size\n"
     ]
    },
    {
     "name": "stderr",
     "output_type": "stream",
     "text": [
      "      14/25      11.6G      1.076      1.102     0.9983        435        640: 100%|██████████| 69/69 [00:27<00:00,  2.48it/s]\n",
      "                 Class     Images  Instances      Box(P          R      mAP50  mAP50-95): 100%|██████████| 6/6 [00:02<00:00,  2.83it/s]"
     ]
    },
    {
     "name": "stdout",
     "output_type": "stream",
     "text": [
      "                   all        184       3998      0.543      0.592      0.564       0.37\n"
     ]
    },
    {
     "name": "stderr",
     "output_type": "stream",
     "text": [
      "\n"
     ]
    },
    {
     "name": "stdout",
     "output_type": "stream",
     "text": [
      "\n",
      "      Epoch    GPU_mem   box_loss   cls_loss   dfl_loss  Instances       Size\n"
     ]
    },
    {
     "name": "stderr",
     "output_type": "stream",
     "text": [
      "      15/25      11.7G      1.081      1.096     0.9972        334        640: 100%|██████████| 69/69 [00:27<00:00,  2.48it/s]\n",
      "                 Class     Images  Instances      Box(P          R      mAP50  mAP50-95): 100%|██████████| 6/6 [00:02<00:00,  2.80it/s]"
     ]
    },
    {
     "name": "stdout",
     "output_type": "stream",
     "text": [
      "                   all        184       3998      0.528      0.592      0.566      0.391\n"
     ]
    },
    {
     "name": "stderr",
     "output_type": "stream",
     "text": [
      "\n"
     ]
    },
    {
     "name": "stdout",
     "output_type": "stream",
     "text": [
      "Closing dataloader mosaic\n",
      "\u001b[34m\u001b[1malbumentations: \u001b[0mBlur(p=0.01, blur_limit=(3, 7)), MedianBlur(p=0.01, blur_limit=(3, 7)), ToGray(p=0.01, num_output_channels=3, method='weighted_average'), CLAHE(p=0.01, clip_limit=(1.0, 4.0), tile_grid_size=(8, 8))\n"
     ]
    },
    {
     "name": "stderr",
     "output_type": "stream",
     "text": [
      "/workspace/CZII/.venv/lib/python3.12/site-packages/ultralytics/data/augment.py:1850: UserWarning: Argument 'quality_lower' is not valid and will be ignored.\n",
      "  A.ImageCompression(quality_lower=75, p=0.0),\n"
     ]
    },
    {
     "name": "stdout",
     "output_type": "stream",
     "text": [
      "\n",
      "      Epoch    GPU_mem   box_loss   cls_loss   dfl_loss  Instances       Size\n"
     ]
    },
    {
     "name": "stderr",
     "output_type": "stream",
     "text": [
      "      16/25      11.5G     0.9776      1.036     0.9547        326        640: 100%|██████████| 69/69 [00:28<00:00,  2.44it/s]\n",
      "                 Class     Images  Instances      Box(P          R      mAP50  mAP50-95): 100%|██████████| 6/6 [00:02<00:00,  2.66it/s]"
     ]
    },
    {
     "name": "stdout",
     "output_type": "stream",
     "text": [
      "                   all        184       3998      0.547      0.603      0.574      0.384\n"
     ]
    },
    {
     "name": "stderr",
     "output_type": "stream",
     "text": [
      "\n"
     ]
    },
    {
     "name": "stdout",
     "output_type": "stream",
     "text": [
      "\n",
      "      Epoch    GPU_mem   box_loss   cls_loss   dfl_loss  Instances       Size\n"
     ]
    },
    {
     "name": "stderr",
     "output_type": "stream",
     "text": [
      "      17/25      11.4G     0.9566      1.006     0.9475        370        640: 100%|██████████| 69/69 [00:27<00:00,  2.50it/s]\n",
      "                 Class     Images  Instances      Box(P          R      mAP50  mAP50-95): 100%|██████████| 6/6 [00:02<00:00,  2.80it/s]"
     ]
    },
    {
     "name": "stdout",
     "output_type": "stream",
     "text": [
      "                   all        184       3998      0.542      0.572      0.573      0.377\n"
     ]
    },
    {
     "name": "stderr",
     "output_type": "stream",
     "text": [
      "\n"
     ]
    },
    {
     "name": "stdout",
     "output_type": "stream",
     "text": [
      "\n",
      "      Epoch    GPU_mem   box_loss   cls_loss   dfl_loss  Instances       Size\n"
     ]
    },
    {
     "name": "stderr",
     "output_type": "stream",
     "text": [
      "      18/25      11.5G     0.9487      0.998     0.9454        441        640: 100%|██████████| 69/69 [00:27<00:00,  2.51it/s]\n",
      "                 Class     Images  Instances      Box(P          R      mAP50  mAP50-95): 100%|██████████| 6/6 [00:02<00:00,  2.83it/s]"
     ]
    },
    {
     "name": "stdout",
     "output_type": "stream",
     "text": [
      "                   all        184       3998      0.552      0.588      0.567      0.389\n"
     ]
    },
    {
     "name": "stderr",
     "output_type": "stream",
     "text": [
      "\n"
     ]
    },
    {
     "name": "stdout",
     "output_type": "stream",
     "text": [
      "\n",
      "      Epoch    GPU_mem   box_loss   cls_loss   dfl_loss  Instances       Size\n"
     ]
    },
    {
     "name": "stderr",
     "output_type": "stream",
     "text": [
      "      19/25      11.6G      0.945     0.9817     0.9452        260        640: 100%|██████████| 69/69 [00:27<00:00,  2.51it/s]\n",
      "                 Class     Images  Instances      Box(P          R      mAP50  mAP50-95): 100%|██████████| 6/6 [00:02<00:00,  2.82it/s]"
     ]
    },
    {
     "name": "stdout",
     "output_type": "stream",
     "text": [
      "                   all        184       3998      0.558      0.589      0.574      0.391\n"
     ]
    },
    {
     "name": "stderr",
     "output_type": "stream",
     "text": [
      "\n"
     ]
    },
    {
     "name": "stdout",
     "output_type": "stream",
     "text": [
      "\n",
      "      Epoch    GPU_mem   box_loss   cls_loss   dfl_loss  Instances       Size\n"
     ]
    },
    {
     "name": "stderr",
     "output_type": "stream",
     "text": [
      "      20/25      11.6G     0.9372     0.9832     0.9411        339        640: 100%|██████████| 69/69 [00:27<00:00,  2.50it/s]\n",
      "                 Class     Images  Instances      Box(P          R      mAP50  mAP50-95): 100%|██████████| 6/6 [00:02<00:00,  2.84it/s]"
     ]
    },
    {
     "name": "stdout",
     "output_type": "stream",
     "text": [
      "                   all        184       3998      0.553      0.593      0.569      0.387\n"
     ]
    },
    {
     "name": "stderr",
     "output_type": "stream",
     "text": [
      "\n"
     ]
    },
    {
     "name": "stdout",
     "output_type": "stream",
     "text": [
      "\n",
      "      Epoch    GPU_mem   box_loss   cls_loss   dfl_loss  Instances       Size\n"
     ]
    },
    {
     "name": "stderr",
     "output_type": "stream",
     "text": [
      "      21/25      11.5G     0.9248      0.966     0.9399        335        640: 100%|██████████| 69/69 [00:27<00:00,  2.51it/s]\n",
      "                 Class     Images  Instances      Box(P          R      mAP50  mAP50-95): 100%|██████████| 6/6 [00:02<00:00,  2.82it/s]"
     ]
    },
    {
     "name": "stdout",
     "output_type": "stream",
     "text": [
      "                   all        184       3998      0.559      0.593      0.573      0.394\n"
     ]
    },
    {
     "name": "stderr",
     "output_type": "stream",
     "text": [
      "\n"
     ]
    },
    {
     "name": "stdout",
     "output_type": "stream",
     "text": [
      "\n",
      "      Epoch    GPU_mem   box_loss   cls_loss   dfl_loss  Instances       Size\n"
     ]
    },
    {
     "name": "stderr",
     "output_type": "stream",
     "text": [
      "      22/25      11.7G     0.9236     0.9615     0.9369        361        640: 100%|██████████| 69/69 [00:27<00:00,  2.51it/s]\n",
      "                 Class     Images  Instances      Box(P          R      mAP50  mAP50-95): 100%|██████████| 6/6 [00:02<00:00,  2.83it/s]"
     ]
    },
    {
     "name": "stdout",
     "output_type": "stream",
     "text": [
      "                   all        184       3998      0.548      0.595      0.572      0.393\n"
     ]
    },
    {
     "name": "stderr",
     "output_type": "stream",
     "text": [
      "\n"
     ]
    },
    {
     "name": "stdout",
     "output_type": "stream",
     "text": [
      "\n",
      "      Epoch    GPU_mem   box_loss   cls_loss   dfl_loss  Instances       Size\n"
     ]
    },
    {
     "name": "stderr",
     "output_type": "stream",
     "text": [
      "      23/25      11.6G     0.9257     0.9642     0.9379        226        640: 100%|██████████| 69/69 [00:27<00:00,  2.50it/s]\n",
      "                 Class     Images  Instances      Box(P          R      mAP50  mAP50-95): 100%|██████████| 6/6 [00:02<00:00,  2.83it/s]"
     ]
    },
    {
     "name": "stdout",
     "output_type": "stream",
     "text": [
      "                   all        184       3998      0.556      0.602      0.575      0.391\n"
     ]
    },
    {
     "name": "stderr",
     "output_type": "stream",
     "text": [
      "\n"
     ]
    },
    {
     "name": "stdout",
     "output_type": "stream",
     "text": [
      "\n",
      "      Epoch    GPU_mem   box_loss   cls_loss   dfl_loss  Instances       Size\n"
     ]
    },
    {
     "name": "stderr",
     "output_type": "stream",
     "text": [
      "      24/25      11.5G     0.9215     0.9548     0.9376        190        640: 100%|██████████| 69/69 [00:28<00:00,  2.45it/s]\n",
      "                 Class     Images  Instances      Box(P          R      mAP50  mAP50-95): 100%|██████████| 6/6 [00:02<00:00,  2.59it/s]"
     ]
    },
    {
     "name": "stdout",
     "output_type": "stream",
     "text": [
      "                   all        184       3998      0.558      0.597      0.575      0.391\n"
     ]
    },
    {
     "name": "stderr",
     "output_type": "stream",
     "text": [
      "\n"
     ]
    },
    {
     "name": "stdout",
     "output_type": "stream",
     "text": [
      "\n",
      "      Epoch    GPU_mem   box_loss   cls_loss   dfl_loss  Instances       Size\n"
     ]
    },
    {
     "name": "stderr",
     "output_type": "stream",
     "text": [
      "      25/25      11.5G     0.9166     0.9486     0.9354        362        640: 100%|██████████| 69/69 [00:29<00:00,  2.37it/s]\n",
      "                 Class     Images  Instances      Box(P          R      mAP50  mAP50-95): 100%|██████████| 6/6 [00:02<00:00,  2.53it/s]"
     ]
    },
    {
     "name": "stdout",
     "output_type": "stream",
     "text": [
      "                   all        184       3998      0.554        0.6      0.575      0.392\n"
     ]
    },
    {
     "name": "stderr",
     "output_type": "stream",
     "text": [
      "\n"
     ]
    },
    {
     "name": "stdout",
     "output_type": "stream",
     "text": [
      "\n",
      "25 epochs completed in 0.228 hours.\n",
      "Optimizer stripped from /workspace/CZII/runs/detect/baseline_cv3/weights/last.pt, 51.2MB\n",
      "Optimizer stripped from /workspace/CZII/runs/detect/baseline_cv3/weights/best.pt, 51.2MB\n",
      "\n",
      "Validating /workspace/CZII/runs/detect/baseline_cv3/weights/best.pt...\n",
      "Ultralytics 8.3.53 🚀 Python-3.12.8 torch-2.5.1+cu124 CUDA:0 (NVIDIA RTX A4000, 16102MiB)\n",
      "YOLO11l summary (fused): 464 layers, 25,283,938 parameters, 0 gradients, 86.6 GFLOPs\n"
     ]
    },
    {
     "name": "stderr",
     "output_type": "stream",
     "text": [
      "                 Class     Images  Instances      Box(P          R      mAP50  mAP50-95): 100%|██████████| 6/6 [00:11<00:00,  1.95s/it]\n"
     ]
    },
    {
     "name": "stdout",
     "output_type": "stream",
     "text": [
      "                   all        184       3998      0.555      0.595      0.573      0.394\n",
      "          apo-ferritin        121        638      0.649      0.774      0.773      0.517\n",
      "    beta-galactosidase         89        204      0.368      0.216      0.232      0.104\n",
      "              ribosome        129       2146      0.645      0.868      0.777       0.54\n",
      "         thyroglobulin        125        750      0.362      0.401       0.33      0.194\n",
      "   virus-like-particle         75        260      0.752      0.715      0.754      0.618\n",
      "Speed: 0.2ms preprocess, 6.9ms inference, 0.0ms loss, 1.7ms postprocess per image\n",
      "Results saved to \u001b[1m/workspace/CZII/runs/detect/baseline_cv3\u001b[0m\n",
      "\u001b[34m\u001b[1mMLflow: \u001b[0mresults logged to /workspace/CZII/runs/mlflow\n",
      "\u001b[34m\u001b[1mMLflow: \u001b[0mdisable with 'yolo settings mlflow=False'\n",
      "====================================================================================================\n",
      "Processing TS_6_6...\n",
      "['/workspace/CZII/proc/yolo11_baseline_cv/images/TS_5_4_0.png', '/workspace/CZII/proc/yolo11_baseline_cv/images/TS_5_4_10.png', '/workspace/CZII/proc/yolo11_baseline_cv/images/TS_5_4_100.png', '/workspace/CZII/proc/yolo11_baseline_cv/images/TS_5_4_1000.png', '/workspace/CZII/proc/yolo11_baseline_cv/images/TS_5_4_1010.png', '/workspace/CZII/proc/yolo11_baseline_cv/images/TS_5_4_1020.png', '/workspace/CZII/proc/yolo11_baseline_cv/images/TS_5_4_1030.png', '/workspace/CZII/proc/yolo11_baseline_cv/images/TS_5_4_1040.png', '/workspace/CZII/proc/yolo11_baseline_cv/images/TS_5_4_1050.png', '/workspace/CZII/proc/yolo11_baseline_cv/images/TS_5_4_1060.png', '/workspace/CZII/proc/yolo11_baseline_cv/images/TS_5_4_1070.png', '/workspace/CZII/proc/yolo11_baseline_cv/images/TS_5_4_1080.png', '/workspace/CZII/proc/yolo11_baseline_cv/images/TS_5_4_1090.png', '/workspace/CZII/proc/yolo11_baseline_cv/images/TS_5_4_110.png', '/workspace/CZII/proc/yolo11_baseline_cv/images/TS_5_4_1100.png', '/workspace/CZII/proc/yolo11_baseline_cv/images/TS_5_4_1110.png', '/workspace/CZII/proc/yolo11_baseline_cv/images/TS_5_4_1120.png', '/workspace/CZII/proc/yolo11_baseline_cv/images/TS_5_4_1130.png', '/workspace/CZII/proc/yolo11_baseline_cv/images/TS_5_4_1140.png', '/workspace/CZII/proc/yolo11_baseline_cv/images/TS_5_4_1150.png', '/workspace/CZII/proc/yolo11_baseline_cv/images/TS_5_4_1160.png', '/workspace/CZII/proc/yolo11_baseline_cv/images/TS_5_4_1170.png', '/workspace/CZII/proc/yolo11_baseline_cv/images/TS_5_4_1180.png', '/workspace/CZII/proc/yolo11_baseline_cv/images/TS_5_4_1190.png', '/workspace/CZII/proc/yolo11_baseline_cv/images/TS_5_4_120.png', '/workspace/CZII/proc/yolo11_baseline_cv/images/TS_5_4_1200.png', '/workspace/CZII/proc/yolo11_baseline_cv/images/TS_5_4_1210.png', '/workspace/CZII/proc/yolo11_baseline_cv/images/TS_5_4_1220.png', '/workspace/CZII/proc/yolo11_baseline_cv/images/TS_5_4_1230.png', '/workspace/CZII/proc/yolo11_baseline_cv/images/TS_5_4_1240.png', '/workspace/CZII/proc/yolo11_baseline_cv/images/TS_5_4_1250.png', '/workspace/CZII/proc/yolo11_baseline_cv/images/TS_5_4_1260.png', '/workspace/CZII/proc/yolo11_baseline_cv/images/TS_5_4_1270.png', '/workspace/CZII/proc/yolo11_baseline_cv/images/TS_5_4_1280.png', '/workspace/CZII/proc/yolo11_baseline_cv/images/TS_5_4_1290.png', '/workspace/CZII/proc/yolo11_baseline_cv/images/TS_5_4_130.png', '/workspace/CZII/proc/yolo11_baseline_cv/images/TS_5_4_1300.png', '/workspace/CZII/proc/yolo11_baseline_cv/images/TS_5_4_1310.png', '/workspace/CZII/proc/yolo11_baseline_cv/images/TS_5_4_1320.png', '/workspace/CZII/proc/yolo11_baseline_cv/images/TS_5_4_1330.png', '/workspace/CZII/proc/yolo11_baseline_cv/images/TS_5_4_1340.png', '/workspace/CZII/proc/yolo11_baseline_cv/images/TS_5_4_1350.png', '/workspace/CZII/proc/yolo11_baseline_cv/images/TS_5_4_1360.png', '/workspace/CZII/proc/yolo11_baseline_cv/images/TS_5_4_1370.png', '/workspace/CZII/proc/yolo11_baseline_cv/images/TS_5_4_1380.png', '/workspace/CZII/proc/yolo11_baseline_cv/images/TS_5_4_1390.png', '/workspace/CZII/proc/yolo11_baseline_cv/images/TS_5_4_140.png', '/workspace/CZII/proc/yolo11_baseline_cv/images/TS_5_4_1400.png', '/workspace/CZII/proc/yolo11_baseline_cv/images/TS_5_4_1410.png', '/workspace/CZII/proc/yolo11_baseline_cv/images/TS_5_4_1420.png', '/workspace/CZII/proc/yolo11_baseline_cv/images/TS_5_4_1430.png', '/workspace/CZII/proc/yolo11_baseline_cv/images/TS_5_4_1440.png', '/workspace/CZII/proc/yolo11_baseline_cv/images/TS_5_4_1450.png', '/workspace/CZII/proc/yolo11_baseline_cv/images/TS_5_4_1460.png', '/workspace/CZII/proc/yolo11_baseline_cv/images/TS_5_4_1470.png', '/workspace/CZII/proc/yolo11_baseline_cv/images/TS_5_4_1480.png', '/workspace/CZII/proc/yolo11_baseline_cv/images/TS_5_4_1490.png', '/workspace/CZII/proc/yolo11_baseline_cv/images/TS_5_4_150.png', '/workspace/CZII/proc/yolo11_baseline_cv/images/TS_5_4_1500.png', '/workspace/CZII/proc/yolo11_baseline_cv/images/TS_5_4_1510.png', '/workspace/CZII/proc/yolo11_baseline_cv/images/TS_5_4_1520.png', '/workspace/CZII/proc/yolo11_baseline_cv/images/TS_5_4_1530.png', '/workspace/CZII/proc/yolo11_baseline_cv/images/TS_5_4_1540.png', '/workspace/CZII/proc/yolo11_baseline_cv/images/TS_5_4_1550.png', '/workspace/CZII/proc/yolo11_baseline_cv/images/TS_5_4_1560.png', '/workspace/CZII/proc/yolo11_baseline_cv/images/TS_5_4_1570.png', '/workspace/CZII/proc/yolo11_baseline_cv/images/TS_5_4_1580.png', '/workspace/CZII/proc/yolo11_baseline_cv/images/TS_5_4_1590.png', '/workspace/CZII/proc/yolo11_baseline_cv/images/TS_5_4_160.png', '/workspace/CZII/proc/yolo11_baseline_cv/images/TS_5_4_1600.png', '/workspace/CZII/proc/yolo11_baseline_cv/images/TS_5_4_1610.png', '/workspace/CZII/proc/yolo11_baseline_cv/images/TS_5_4_1620.png', '/workspace/CZII/proc/yolo11_baseline_cv/images/TS_5_4_1630.png', '/workspace/CZII/proc/yolo11_baseline_cv/images/TS_5_4_1640.png', '/workspace/CZII/proc/yolo11_baseline_cv/images/TS_5_4_1650.png', '/workspace/CZII/proc/yolo11_baseline_cv/images/TS_5_4_1660.png', '/workspace/CZII/proc/yolo11_baseline_cv/images/TS_5_4_1670.png', '/workspace/CZII/proc/yolo11_baseline_cv/images/TS_5_4_1680.png', '/workspace/CZII/proc/yolo11_baseline_cv/images/TS_5_4_1690.png', '/workspace/CZII/proc/yolo11_baseline_cv/images/TS_5_4_170.png', '/workspace/CZII/proc/yolo11_baseline_cv/images/TS_5_4_1700.png', '/workspace/CZII/proc/yolo11_baseline_cv/images/TS_5_4_1710.png', '/workspace/CZII/proc/yolo11_baseline_cv/images/TS_5_4_1720.png', '/workspace/CZII/proc/yolo11_baseline_cv/images/TS_5_4_1730.png', '/workspace/CZII/proc/yolo11_baseline_cv/images/TS_5_4_1740.png', '/workspace/CZII/proc/yolo11_baseline_cv/images/TS_5_4_1750.png', '/workspace/CZII/proc/yolo11_baseline_cv/images/TS_5_4_1760.png', '/workspace/CZII/proc/yolo11_baseline_cv/images/TS_5_4_1770.png', '/workspace/CZII/proc/yolo11_baseline_cv/images/TS_5_4_1780.png', '/workspace/CZII/proc/yolo11_baseline_cv/images/TS_5_4_1790.png', '/workspace/CZII/proc/yolo11_baseline_cv/images/TS_5_4_180.png', '/workspace/CZII/proc/yolo11_baseline_cv/images/TS_5_4_1800.png', '/workspace/CZII/proc/yolo11_baseline_cv/images/TS_5_4_1810.png', '/workspace/CZII/proc/yolo11_baseline_cv/images/TS_5_4_1820.png', '/workspace/CZII/proc/yolo11_baseline_cv/images/TS_5_4_1830.png', '/workspace/CZII/proc/yolo11_baseline_cv/images/TS_5_4_190.png', '/workspace/CZII/proc/yolo11_baseline_cv/images/TS_5_4_20.png', '/workspace/CZII/proc/yolo11_baseline_cv/images/TS_5_4_200.png', '/workspace/CZII/proc/yolo11_baseline_cv/images/TS_5_4_210.png', '/workspace/CZII/proc/yolo11_baseline_cv/images/TS_5_4_220.png', '/workspace/CZII/proc/yolo11_baseline_cv/images/TS_5_4_230.png', '/workspace/CZII/proc/yolo11_baseline_cv/images/TS_5_4_240.png', '/workspace/CZII/proc/yolo11_baseline_cv/images/TS_5_4_250.png', '/workspace/CZII/proc/yolo11_baseline_cv/images/TS_5_4_260.png', '/workspace/CZII/proc/yolo11_baseline_cv/images/TS_5_4_270.png', '/workspace/CZII/proc/yolo11_baseline_cv/images/TS_5_4_280.png', '/workspace/CZII/proc/yolo11_baseline_cv/images/TS_5_4_290.png', '/workspace/CZII/proc/yolo11_baseline_cv/images/TS_5_4_30.png', '/workspace/CZII/proc/yolo11_baseline_cv/images/TS_5_4_300.png', '/workspace/CZII/proc/yolo11_baseline_cv/images/TS_5_4_310.png', '/workspace/CZII/proc/yolo11_baseline_cv/images/TS_5_4_320.png', '/workspace/CZII/proc/yolo11_baseline_cv/images/TS_5_4_330.png', '/workspace/CZII/proc/yolo11_baseline_cv/images/TS_5_4_340.png', '/workspace/CZII/proc/yolo11_baseline_cv/images/TS_5_4_350.png', '/workspace/CZII/proc/yolo11_baseline_cv/images/TS_5_4_360.png', '/workspace/CZII/proc/yolo11_baseline_cv/images/TS_5_4_370.png', '/workspace/CZII/proc/yolo11_baseline_cv/images/TS_5_4_380.png', '/workspace/CZII/proc/yolo11_baseline_cv/images/TS_5_4_390.png', '/workspace/CZII/proc/yolo11_baseline_cv/images/TS_5_4_40.png', '/workspace/CZII/proc/yolo11_baseline_cv/images/TS_5_4_400.png', '/workspace/CZII/proc/yolo11_baseline_cv/images/TS_5_4_410.png', '/workspace/CZII/proc/yolo11_baseline_cv/images/TS_5_4_420.png', '/workspace/CZII/proc/yolo11_baseline_cv/images/TS_5_4_430.png', '/workspace/CZII/proc/yolo11_baseline_cv/images/TS_5_4_440.png', '/workspace/CZII/proc/yolo11_baseline_cv/images/TS_5_4_450.png', '/workspace/CZII/proc/yolo11_baseline_cv/images/TS_5_4_460.png', '/workspace/CZII/proc/yolo11_baseline_cv/images/TS_5_4_470.png', '/workspace/CZII/proc/yolo11_baseline_cv/images/TS_5_4_480.png', '/workspace/CZII/proc/yolo11_baseline_cv/images/TS_5_4_490.png', '/workspace/CZII/proc/yolo11_baseline_cv/images/TS_5_4_50.png', '/workspace/CZII/proc/yolo11_baseline_cv/images/TS_5_4_500.png', '/workspace/CZII/proc/yolo11_baseline_cv/images/TS_5_4_510.png', '/workspace/CZII/proc/yolo11_baseline_cv/images/TS_5_4_520.png', '/workspace/CZII/proc/yolo11_baseline_cv/images/TS_5_4_530.png', '/workspace/CZII/proc/yolo11_baseline_cv/images/TS_5_4_540.png', '/workspace/CZII/proc/yolo11_baseline_cv/images/TS_5_4_550.png', '/workspace/CZII/proc/yolo11_baseline_cv/images/TS_5_4_560.png', '/workspace/CZII/proc/yolo11_baseline_cv/images/TS_5_4_570.png', '/workspace/CZII/proc/yolo11_baseline_cv/images/TS_5_4_580.png', '/workspace/CZII/proc/yolo11_baseline_cv/images/TS_5_4_590.png', '/workspace/CZII/proc/yolo11_baseline_cv/images/TS_5_4_60.png', '/workspace/CZII/proc/yolo11_baseline_cv/images/TS_5_4_600.png', '/workspace/CZII/proc/yolo11_baseline_cv/images/TS_5_4_610.png', '/workspace/CZII/proc/yolo11_baseline_cv/images/TS_5_4_620.png', '/workspace/CZII/proc/yolo11_baseline_cv/images/TS_5_4_630.png', '/workspace/CZII/proc/yolo11_baseline_cv/images/TS_5_4_640.png', '/workspace/CZII/proc/yolo11_baseline_cv/images/TS_5_4_650.png', '/workspace/CZII/proc/yolo11_baseline_cv/images/TS_5_4_660.png', '/workspace/CZII/proc/yolo11_baseline_cv/images/TS_5_4_670.png', '/workspace/CZII/proc/yolo11_baseline_cv/images/TS_5_4_680.png', '/workspace/CZII/proc/yolo11_baseline_cv/images/TS_5_4_690.png', '/workspace/CZII/proc/yolo11_baseline_cv/images/TS_5_4_70.png', '/workspace/CZII/proc/yolo11_baseline_cv/images/TS_5_4_700.png', '/workspace/CZII/proc/yolo11_baseline_cv/images/TS_5_4_710.png', '/workspace/CZII/proc/yolo11_baseline_cv/images/TS_5_4_720.png', '/workspace/CZII/proc/yolo11_baseline_cv/images/TS_5_4_730.png', '/workspace/CZII/proc/yolo11_baseline_cv/images/TS_5_4_740.png', '/workspace/CZII/proc/yolo11_baseline_cv/images/TS_5_4_750.png', '/workspace/CZII/proc/yolo11_baseline_cv/images/TS_5_4_760.png', '/workspace/CZII/proc/yolo11_baseline_cv/images/TS_5_4_770.png', '/workspace/CZII/proc/yolo11_baseline_cv/images/TS_5_4_780.png', '/workspace/CZII/proc/yolo11_baseline_cv/images/TS_5_4_790.png', '/workspace/CZII/proc/yolo11_baseline_cv/images/TS_5_4_80.png', '/workspace/CZII/proc/yolo11_baseline_cv/images/TS_5_4_800.png', '/workspace/CZII/proc/yolo11_baseline_cv/images/TS_5_4_810.png', '/workspace/CZII/proc/yolo11_baseline_cv/images/TS_5_4_820.png', '/workspace/CZII/proc/yolo11_baseline_cv/images/TS_5_4_830.png', '/workspace/CZII/proc/yolo11_baseline_cv/images/TS_5_4_840.png', '/workspace/CZII/proc/yolo11_baseline_cv/images/TS_5_4_850.png', '/workspace/CZII/proc/yolo11_baseline_cv/images/TS_5_4_860.png', '/workspace/CZII/proc/yolo11_baseline_cv/images/TS_5_4_870.png', '/workspace/CZII/proc/yolo11_baseline_cv/images/TS_5_4_880.png', '/workspace/CZII/proc/yolo11_baseline_cv/images/TS_5_4_890.png', '/workspace/CZII/proc/yolo11_baseline_cv/images/TS_5_4_90.png', '/workspace/CZII/proc/yolo11_baseline_cv/images/TS_5_4_900.png', '/workspace/CZII/proc/yolo11_baseline_cv/images/TS_5_4_910.png', '/workspace/CZII/proc/yolo11_baseline_cv/images/TS_5_4_920.png', '/workspace/CZII/proc/yolo11_baseline_cv/images/TS_5_4_930.png', '/workspace/CZII/proc/yolo11_baseline_cv/images/TS_5_4_940.png', '/workspace/CZII/proc/yolo11_baseline_cv/images/TS_5_4_950.png', '/workspace/CZII/proc/yolo11_baseline_cv/images/TS_5_4_960.png', '/workspace/CZII/proc/yolo11_baseline_cv/images/TS_5_4_970.png', '/workspace/CZII/proc/yolo11_baseline_cv/images/TS_5_4_980.png', '/workspace/CZII/proc/yolo11_baseline_cv/images/TS_5_4_990.png', '/workspace/CZII/proc/yolo11_baseline_cv/images/TS_69_2_0.png', '/workspace/CZII/proc/yolo11_baseline_cv/images/TS_69_2_10.png', '/workspace/CZII/proc/yolo11_baseline_cv/images/TS_69_2_100.png', '/workspace/CZII/proc/yolo11_baseline_cv/images/TS_69_2_1000.png', '/workspace/CZII/proc/yolo11_baseline_cv/images/TS_69_2_1010.png', '/workspace/CZII/proc/yolo11_baseline_cv/images/TS_69_2_1020.png', '/workspace/CZII/proc/yolo11_baseline_cv/images/TS_69_2_1030.png', '/workspace/CZII/proc/yolo11_baseline_cv/images/TS_69_2_1040.png', '/workspace/CZII/proc/yolo11_baseline_cv/images/TS_69_2_1050.png', '/workspace/CZII/proc/yolo11_baseline_cv/images/TS_69_2_1060.png', '/workspace/CZII/proc/yolo11_baseline_cv/images/TS_69_2_1070.png', '/workspace/CZII/proc/yolo11_baseline_cv/images/TS_69_2_1080.png', '/workspace/CZII/proc/yolo11_baseline_cv/images/TS_69_2_1090.png', '/workspace/CZII/proc/yolo11_baseline_cv/images/TS_69_2_110.png', '/workspace/CZII/proc/yolo11_baseline_cv/images/TS_69_2_1100.png', '/workspace/CZII/proc/yolo11_baseline_cv/images/TS_69_2_1110.png', '/workspace/CZII/proc/yolo11_baseline_cv/images/TS_69_2_1120.png', '/workspace/CZII/proc/yolo11_baseline_cv/images/TS_69_2_1130.png', '/workspace/CZII/proc/yolo11_baseline_cv/images/TS_69_2_1140.png', '/workspace/CZII/proc/yolo11_baseline_cv/images/TS_69_2_1150.png', '/workspace/CZII/proc/yolo11_baseline_cv/images/TS_69_2_1160.png', '/workspace/CZII/proc/yolo11_baseline_cv/images/TS_69_2_1170.png', '/workspace/CZII/proc/yolo11_baseline_cv/images/TS_69_2_1180.png', '/workspace/CZII/proc/yolo11_baseline_cv/images/TS_69_2_1190.png', '/workspace/CZII/proc/yolo11_baseline_cv/images/TS_69_2_120.png', '/workspace/CZII/proc/yolo11_baseline_cv/images/TS_69_2_1200.png', '/workspace/CZII/proc/yolo11_baseline_cv/images/TS_69_2_1210.png', '/workspace/CZII/proc/yolo11_baseline_cv/images/TS_69_2_1220.png', '/workspace/CZII/proc/yolo11_baseline_cv/images/TS_69_2_1230.png', '/workspace/CZII/proc/yolo11_baseline_cv/images/TS_69_2_1240.png', '/workspace/CZII/proc/yolo11_baseline_cv/images/TS_69_2_1250.png', '/workspace/CZII/proc/yolo11_baseline_cv/images/TS_69_2_1260.png', '/workspace/CZII/proc/yolo11_baseline_cv/images/TS_69_2_1270.png', '/workspace/CZII/proc/yolo11_baseline_cv/images/TS_69_2_1280.png', '/workspace/CZII/proc/yolo11_baseline_cv/images/TS_69_2_1290.png', '/workspace/CZII/proc/yolo11_baseline_cv/images/TS_69_2_130.png', '/workspace/CZII/proc/yolo11_baseline_cv/images/TS_69_2_1300.png', '/workspace/CZII/proc/yolo11_baseline_cv/images/TS_69_2_1310.png', '/workspace/CZII/proc/yolo11_baseline_cv/images/TS_69_2_1320.png', '/workspace/CZII/proc/yolo11_baseline_cv/images/TS_69_2_1330.png', '/workspace/CZII/proc/yolo11_baseline_cv/images/TS_69_2_1340.png', '/workspace/CZII/proc/yolo11_baseline_cv/images/TS_69_2_1350.png', '/workspace/CZII/proc/yolo11_baseline_cv/images/TS_69_2_1360.png', '/workspace/CZII/proc/yolo11_baseline_cv/images/TS_69_2_1370.png', '/workspace/CZII/proc/yolo11_baseline_cv/images/TS_69_2_1380.png', '/workspace/CZII/proc/yolo11_baseline_cv/images/TS_69_2_1390.png', '/workspace/CZII/proc/yolo11_baseline_cv/images/TS_69_2_140.png', '/workspace/CZII/proc/yolo11_baseline_cv/images/TS_69_2_1400.png', '/workspace/CZII/proc/yolo11_baseline_cv/images/TS_69_2_1410.png', '/workspace/CZII/proc/yolo11_baseline_cv/images/TS_69_2_1420.png', '/workspace/CZII/proc/yolo11_baseline_cv/images/TS_69_2_1430.png', '/workspace/CZII/proc/yolo11_baseline_cv/images/TS_69_2_1440.png', '/workspace/CZII/proc/yolo11_baseline_cv/images/TS_69_2_1450.png', '/workspace/CZII/proc/yolo11_baseline_cv/images/TS_69_2_1460.png', '/workspace/CZII/proc/yolo11_baseline_cv/images/TS_69_2_1470.png', '/workspace/CZII/proc/yolo11_baseline_cv/images/TS_69_2_1480.png', '/workspace/CZII/proc/yolo11_baseline_cv/images/TS_69_2_1490.png', '/workspace/CZII/proc/yolo11_baseline_cv/images/TS_69_2_150.png', '/workspace/CZII/proc/yolo11_baseline_cv/images/TS_69_2_1500.png', '/workspace/CZII/proc/yolo11_baseline_cv/images/TS_69_2_1510.png', '/workspace/CZII/proc/yolo11_baseline_cv/images/TS_69_2_1520.png', '/workspace/CZII/proc/yolo11_baseline_cv/images/TS_69_2_1530.png', '/workspace/CZII/proc/yolo11_baseline_cv/images/TS_69_2_1540.png', '/workspace/CZII/proc/yolo11_baseline_cv/images/TS_69_2_1550.png', '/workspace/CZII/proc/yolo11_baseline_cv/images/TS_69_2_1560.png', '/workspace/CZII/proc/yolo11_baseline_cv/images/TS_69_2_1570.png', '/workspace/CZII/proc/yolo11_baseline_cv/images/TS_69_2_1580.png', '/workspace/CZII/proc/yolo11_baseline_cv/images/TS_69_2_1590.png', '/workspace/CZII/proc/yolo11_baseline_cv/images/TS_69_2_160.png', '/workspace/CZII/proc/yolo11_baseline_cv/images/TS_69_2_1600.png', '/workspace/CZII/proc/yolo11_baseline_cv/images/TS_69_2_1610.png', '/workspace/CZII/proc/yolo11_baseline_cv/images/TS_69_2_1620.png', '/workspace/CZII/proc/yolo11_baseline_cv/images/TS_69_2_1630.png', '/workspace/CZII/proc/yolo11_baseline_cv/images/TS_69_2_1640.png', '/workspace/CZII/proc/yolo11_baseline_cv/images/TS_69_2_1650.png', '/workspace/CZII/proc/yolo11_baseline_cv/images/TS_69_2_1660.png', '/workspace/CZII/proc/yolo11_baseline_cv/images/TS_69_2_1670.png', '/workspace/CZII/proc/yolo11_baseline_cv/images/TS_69_2_1680.png', '/workspace/CZII/proc/yolo11_baseline_cv/images/TS_69_2_1690.png', '/workspace/CZII/proc/yolo11_baseline_cv/images/TS_69_2_170.png', '/workspace/CZII/proc/yolo11_baseline_cv/images/TS_69_2_1700.png', '/workspace/CZII/proc/yolo11_baseline_cv/images/TS_69_2_1710.png', '/workspace/CZII/proc/yolo11_baseline_cv/images/TS_69_2_1720.png', '/workspace/CZII/proc/yolo11_baseline_cv/images/TS_69_2_1730.png', '/workspace/CZII/proc/yolo11_baseline_cv/images/TS_69_2_1740.png', '/workspace/CZII/proc/yolo11_baseline_cv/images/TS_69_2_1750.png', '/workspace/CZII/proc/yolo11_baseline_cv/images/TS_69_2_1760.png', '/workspace/CZII/proc/yolo11_baseline_cv/images/TS_69_2_1770.png', '/workspace/CZII/proc/yolo11_baseline_cv/images/TS_69_2_1780.png', '/workspace/CZII/proc/yolo11_baseline_cv/images/TS_69_2_1790.png', '/workspace/CZII/proc/yolo11_baseline_cv/images/TS_69_2_180.png', '/workspace/CZII/proc/yolo11_baseline_cv/images/TS_69_2_1800.png', '/workspace/CZII/proc/yolo11_baseline_cv/images/TS_69_2_1810.png', '/workspace/CZII/proc/yolo11_baseline_cv/images/TS_69_2_1820.png', '/workspace/CZII/proc/yolo11_baseline_cv/images/TS_69_2_1830.png', '/workspace/CZII/proc/yolo11_baseline_cv/images/TS_69_2_190.png', '/workspace/CZII/proc/yolo11_baseline_cv/images/TS_69_2_20.png', '/workspace/CZII/proc/yolo11_baseline_cv/images/TS_69_2_200.png', '/workspace/CZII/proc/yolo11_baseline_cv/images/TS_69_2_210.png', '/workspace/CZII/proc/yolo11_baseline_cv/images/TS_69_2_220.png', '/workspace/CZII/proc/yolo11_baseline_cv/images/TS_69_2_230.png', '/workspace/CZII/proc/yolo11_baseline_cv/images/TS_69_2_240.png', '/workspace/CZII/proc/yolo11_baseline_cv/images/TS_69_2_250.png', '/workspace/CZII/proc/yolo11_baseline_cv/images/TS_69_2_260.png', '/workspace/CZII/proc/yolo11_baseline_cv/images/TS_69_2_270.png', '/workspace/CZII/proc/yolo11_baseline_cv/images/TS_69_2_280.png', '/workspace/CZII/proc/yolo11_baseline_cv/images/TS_69_2_290.png', '/workspace/CZII/proc/yolo11_baseline_cv/images/TS_69_2_30.png', '/workspace/CZII/proc/yolo11_baseline_cv/images/TS_69_2_300.png', '/workspace/CZII/proc/yolo11_baseline_cv/images/TS_69_2_310.png', '/workspace/CZII/proc/yolo11_baseline_cv/images/TS_69_2_320.png', '/workspace/CZII/proc/yolo11_baseline_cv/images/TS_69_2_330.png', '/workspace/CZII/proc/yolo11_baseline_cv/images/TS_69_2_340.png', '/workspace/CZII/proc/yolo11_baseline_cv/images/TS_69_2_350.png', '/workspace/CZII/proc/yolo11_baseline_cv/images/TS_69_2_360.png', '/workspace/CZII/proc/yolo11_baseline_cv/images/TS_69_2_370.png', '/workspace/CZII/proc/yolo11_baseline_cv/images/TS_69_2_380.png', '/workspace/CZII/proc/yolo11_baseline_cv/images/TS_69_2_390.png', '/workspace/CZII/proc/yolo11_baseline_cv/images/TS_69_2_40.png', '/workspace/CZII/proc/yolo11_baseline_cv/images/TS_69_2_400.png', '/workspace/CZII/proc/yolo11_baseline_cv/images/TS_69_2_410.png', '/workspace/CZII/proc/yolo11_baseline_cv/images/TS_69_2_420.png', '/workspace/CZII/proc/yolo11_baseline_cv/images/TS_69_2_430.png', '/workspace/CZII/proc/yolo11_baseline_cv/images/TS_69_2_440.png', '/workspace/CZII/proc/yolo11_baseline_cv/images/TS_69_2_450.png', '/workspace/CZII/proc/yolo11_baseline_cv/images/TS_69_2_460.png', '/workspace/CZII/proc/yolo11_baseline_cv/images/TS_69_2_470.png', '/workspace/CZII/proc/yolo11_baseline_cv/images/TS_69_2_480.png', '/workspace/CZII/proc/yolo11_baseline_cv/images/TS_69_2_490.png', '/workspace/CZII/proc/yolo11_baseline_cv/images/TS_69_2_50.png', '/workspace/CZII/proc/yolo11_baseline_cv/images/TS_69_2_500.png', '/workspace/CZII/proc/yolo11_baseline_cv/images/TS_69_2_510.png', '/workspace/CZII/proc/yolo11_baseline_cv/images/TS_69_2_520.png', '/workspace/CZII/proc/yolo11_baseline_cv/images/TS_69_2_530.png', '/workspace/CZII/proc/yolo11_baseline_cv/images/TS_69_2_540.png', '/workspace/CZII/proc/yolo11_baseline_cv/images/TS_69_2_550.png', '/workspace/CZII/proc/yolo11_baseline_cv/images/TS_69_2_560.png', '/workspace/CZII/proc/yolo11_baseline_cv/images/TS_69_2_570.png', '/workspace/CZII/proc/yolo11_baseline_cv/images/TS_69_2_580.png', '/workspace/CZII/proc/yolo11_baseline_cv/images/TS_69_2_590.png', '/workspace/CZII/proc/yolo11_baseline_cv/images/TS_69_2_60.png', '/workspace/CZII/proc/yolo11_baseline_cv/images/TS_69_2_600.png', '/workspace/CZII/proc/yolo11_baseline_cv/images/TS_69_2_610.png', '/workspace/CZII/proc/yolo11_baseline_cv/images/TS_69_2_620.png', '/workspace/CZII/proc/yolo11_baseline_cv/images/TS_69_2_630.png', '/workspace/CZII/proc/yolo11_baseline_cv/images/TS_69_2_640.png', '/workspace/CZII/proc/yolo11_baseline_cv/images/TS_69_2_650.png', '/workspace/CZII/proc/yolo11_baseline_cv/images/TS_69_2_660.png', '/workspace/CZII/proc/yolo11_baseline_cv/images/TS_69_2_670.png', '/workspace/CZII/proc/yolo11_baseline_cv/images/TS_69_2_680.png', '/workspace/CZII/proc/yolo11_baseline_cv/images/TS_69_2_690.png', '/workspace/CZII/proc/yolo11_baseline_cv/images/TS_69_2_70.png', '/workspace/CZII/proc/yolo11_baseline_cv/images/TS_69_2_700.png', '/workspace/CZII/proc/yolo11_baseline_cv/images/TS_69_2_710.png', '/workspace/CZII/proc/yolo11_baseline_cv/images/TS_69_2_720.png', '/workspace/CZII/proc/yolo11_baseline_cv/images/TS_69_2_730.png', '/workspace/CZII/proc/yolo11_baseline_cv/images/TS_69_2_740.png', '/workspace/CZII/proc/yolo11_baseline_cv/images/TS_69_2_750.png', '/workspace/CZII/proc/yolo11_baseline_cv/images/TS_69_2_760.png', '/workspace/CZII/proc/yolo11_baseline_cv/images/TS_69_2_770.png', '/workspace/CZII/proc/yolo11_baseline_cv/images/TS_69_2_780.png', '/workspace/CZII/proc/yolo11_baseline_cv/images/TS_69_2_790.png', '/workspace/CZII/proc/yolo11_baseline_cv/images/TS_69_2_80.png', '/workspace/CZII/proc/yolo11_baseline_cv/images/TS_69_2_800.png', '/workspace/CZII/proc/yolo11_baseline_cv/images/TS_69_2_810.png', '/workspace/CZII/proc/yolo11_baseline_cv/images/TS_69_2_820.png', '/workspace/CZII/proc/yolo11_baseline_cv/images/TS_69_2_830.png', '/workspace/CZII/proc/yolo11_baseline_cv/images/TS_69_2_840.png', '/workspace/CZII/proc/yolo11_baseline_cv/images/TS_69_2_850.png', '/workspace/CZII/proc/yolo11_baseline_cv/images/TS_69_2_860.png', '/workspace/CZII/proc/yolo11_baseline_cv/images/TS_69_2_870.png', '/workspace/CZII/proc/yolo11_baseline_cv/images/TS_69_2_880.png', '/workspace/CZII/proc/yolo11_baseline_cv/images/TS_69_2_890.png', '/workspace/CZII/proc/yolo11_baseline_cv/images/TS_69_2_90.png', '/workspace/CZII/proc/yolo11_baseline_cv/images/TS_69_2_900.png', '/workspace/CZII/proc/yolo11_baseline_cv/images/TS_69_2_910.png', '/workspace/CZII/proc/yolo11_baseline_cv/images/TS_69_2_920.png', '/workspace/CZII/proc/yolo11_baseline_cv/images/TS_69_2_930.png', '/workspace/CZII/proc/yolo11_baseline_cv/images/TS_69_2_940.png', '/workspace/CZII/proc/yolo11_baseline_cv/images/TS_69_2_950.png', '/workspace/CZII/proc/yolo11_baseline_cv/images/TS_69_2_960.png', '/workspace/CZII/proc/yolo11_baseline_cv/images/TS_69_2_970.png', '/workspace/CZII/proc/yolo11_baseline_cv/images/TS_69_2_980.png', '/workspace/CZII/proc/yolo11_baseline_cv/images/TS_69_2_990.png', '/workspace/CZII/proc/yolo11_baseline_cv/images/TS_6_4_0.png', '/workspace/CZII/proc/yolo11_baseline_cv/images/TS_6_4_10.png', '/workspace/CZII/proc/yolo11_baseline_cv/images/TS_6_4_100.png', '/workspace/CZII/proc/yolo11_baseline_cv/images/TS_6_4_1000.png', '/workspace/CZII/proc/yolo11_baseline_cv/images/TS_6_4_1010.png', '/workspace/CZII/proc/yolo11_baseline_cv/images/TS_6_4_1020.png', '/workspace/CZII/proc/yolo11_baseline_cv/images/TS_6_4_1030.png', '/workspace/CZII/proc/yolo11_baseline_cv/images/TS_6_4_1040.png', '/workspace/CZII/proc/yolo11_baseline_cv/images/TS_6_4_1050.png', '/workspace/CZII/proc/yolo11_baseline_cv/images/TS_6_4_1060.png', '/workspace/CZII/proc/yolo11_baseline_cv/images/TS_6_4_1070.png', '/workspace/CZII/proc/yolo11_baseline_cv/images/TS_6_4_1080.png', '/workspace/CZII/proc/yolo11_baseline_cv/images/TS_6_4_1090.png', '/workspace/CZII/proc/yolo11_baseline_cv/images/TS_6_4_110.png', '/workspace/CZII/proc/yolo11_baseline_cv/images/TS_6_4_1100.png', '/workspace/CZII/proc/yolo11_baseline_cv/images/TS_6_4_1110.png', '/workspace/CZII/proc/yolo11_baseline_cv/images/TS_6_4_1120.png', '/workspace/CZII/proc/yolo11_baseline_cv/images/TS_6_4_1130.png', '/workspace/CZII/proc/yolo11_baseline_cv/images/TS_6_4_1140.png', '/workspace/CZII/proc/yolo11_baseline_cv/images/TS_6_4_1150.png', '/workspace/CZII/proc/yolo11_baseline_cv/images/TS_6_4_1160.png', '/workspace/CZII/proc/yolo11_baseline_cv/images/TS_6_4_1170.png', '/workspace/CZII/proc/yolo11_baseline_cv/images/TS_6_4_1180.png', '/workspace/CZII/proc/yolo11_baseline_cv/images/TS_6_4_1190.png', '/workspace/CZII/proc/yolo11_baseline_cv/images/TS_6_4_120.png', '/workspace/CZII/proc/yolo11_baseline_cv/images/TS_6_4_1200.png', '/workspace/CZII/proc/yolo11_baseline_cv/images/TS_6_4_1210.png', '/workspace/CZII/proc/yolo11_baseline_cv/images/TS_6_4_1220.png', '/workspace/CZII/proc/yolo11_baseline_cv/images/TS_6_4_1230.png', '/workspace/CZII/proc/yolo11_baseline_cv/images/TS_6_4_1240.png', '/workspace/CZII/proc/yolo11_baseline_cv/images/TS_6_4_1250.png', '/workspace/CZII/proc/yolo11_baseline_cv/images/TS_6_4_1260.png', '/workspace/CZII/proc/yolo11_baseline_cv/images/TS_6_4_1270.png', '/workspace/CZII/proc/yolo11_baseline_cv/images/TS_6_4_1280.png', '/workspace/CZII/proc/yolo11_baseline_cv/images/TS_6_4_1290.png', '/workspace/CZII/proc/yolo11_baseline_cv/images/TS_6_4_130.png', '/workspace/CZII/proc/yolo11_baseline_cv/images/TS_6_4_1300.png', '/workspace/CZII/proc/yolo11_baseline_cv/images/TS_6_4_1310.png', '/workspace/CZII/proc/yolo11_baseline_cv/images/TS_6_4_1320.png', '/workspace/CZII/proc/yolo11_baseline_cv/images/TS_6_4_1330.png', '/workspace/CZII/proc/yolo11_baseline_cv/images/TS_6_4_1340.png', '/workspace/CZII/proc/yolo11_baseline_cv/images/TS_6_4_1350.png', '/workspace/CZII/proc/yolo11_baseline_cv/images/TS_6_4_1360.png', '/workspace/CZII/proc/yolo11_baseline_cv/images/TS_6_4_1370.png', '/workspace/CZII/proc/yolo11_baseline_cv/images/TS_6_4_1380.png', '/workspace/CZII/proc/yolo11_baseline_cv/images/TS_6_4_1390.png', '/workspace/CZII/proc/yolo11_baseline_cv/images/TS_6_4_140.png', '/workspace/CZII/proc/yolo11_baseline_cv/images/TS_6_4_1400.png', '/workspace/CZII/proc/yolo11_baseline_cv/images/TS_6_4_1410.png', '/workspace/CZII/proc/yolo11_baseline_cv/images/TS_6_4_1420.png', '/workspace/CZII/proc/yolo11_baseline_cv/images/TS_6_4_1430.png', '/workspace/CZII/proc/yolo11_baseline_cv/images/TS_6_4_1440.png', '/workspace/CZII/proc/yolo11_baseline_cv/images/TS_6_4_1450.png', '/workspace/CZII/proc/yolo11_baseline_cv/images/TS_6_4_1460.png', '/workspace/CZII/proc/yolo11_baseline_cv/images/TS_6_4_1470.png', '/workspace/CZII/proc/yolo11_baseline_cv/images/TS_6_4_1480.png', '/workspace/CZII/proc/yolo11_baseline_cv/images/TS_6_4_1490.png', '/workspace/CZII/proc/yolo11_baseline_cv/images/TS_6_4_150.png', '/workspace/CZII/proc/yolo11_baseline_cv/images/TS_6_4_1500.png', '/workspace/CZII/proc/yolo11_baseline_cv/images/TS_6_4_1510.png', '/workspace/CZII/proc/yolo11_baseline_cv/images/TS_6_4_1520.png', '/workspace/CZII/proc/yolo11_baseline_cv/images/TS_6_4_1530.png', '/workspace/CZII/proc/yolo11_baseline_cv/images/TS_6_4_1540.png', '/workspace/CZII/proc/yolo11_baseline_cv/images/TS_6_4_1550.png', '/workspace/CZII/proc/yolo11_baseline_cv/images/TS_6_4_1560.png', '/workspace/CZII/proc/yolo11_baseline_cv/images/TS_6_4_1570.png', '/workspace/CZII/proc/yolo11_baseline_cv/images/TS_6_4_1580.png', '/workspace/CZII/proc/yolo11_baseline_cv/images/TS_6_4_1590.png', '/workspace/CZII/proc/yolo11_baseline_cv/images/TS_6_4_160.png', '/workspace/CZII/proc/yolo11_baseline_cv/images/TS_6_4_1600.png', '/workspace/CZII/proc/yolo11_baseline_cv/images/TS_6_4_1610.png', '/workspace/CZII/proc/yolo11_baseline_cv/images/TS_6_4_1620.png', '/workspace/CZII/proc/yolo11_baseline_cv/images/TS_6_4_1630.png', '/workspace/CZII/proc/yolo11_baseline_cv/images/TS_6_4_1640.png', '/workspace/CZII/proc/yolo11_baseline_cv/images/TS_6_4_1650.png', '/workspace/CZII/proc/yolo11_baseline_cv/images/TS_6_4_1660.png', '/workspace/CZII/proc/yolo11_baseline_cv/images/TS_6_4_1670.png', '/workspace/CZII/proc/yolo11_baseline_cv/images/TS_6_4_1680.png', '/workspace/CZII/proc/yolo11_baseline_cv/images/TS_6_4_1690.png', '/workspace/CZII/proc/yolo11_baseline_cv/images/TS_6_4_170.png', '/workspace/CZII/proc/yolo11_baseline_cv/images/TS_6_4_1700.png', '/workspace/CZII/proc/yolo11_baseline_cv/images/TS_6_4_1710.png', '/workspace/CZII/proc/yolo11_baseline_cv/images/TS_6_4_1720.png', '/workspace/CZII/proc/yolo11_baseline_cv/images/TS_6_4_1730.png', '/workspace/CZII/proc/yolo11_baseline_cv/images/TS_6_4_1740.png', '/workspace/CZII/proc/yolo11_baseline_cv/images/TS_6_4_1750.png', '/workspace/CZII/proc/yolo11_baseline_cv/images/TS_6_4_1760.png', '/workspace/CZII/proc/yolo11_baseline_cv/images/TS_6_4_1770.png', '/workspace/CZII/proc/yolo11_baseline_cv/images/TS_6_4_1780.png', '/workspace/CZII/proc/yolo11_baseline_cv/images/TS_6_4_1790.png', '/workspace/CZII/proc/yolo11_baseline_cv/images/TS_6_4_180.png', '/workspace/CZII/proc/yolo11_baseline_cv/images/TS_6_4_1800.png', '/workspace/CZII/proc/yolo11_baseline_cv/images/TS_6_4_1810.png', '/workspace/CZII/proc/yolo11_baseline_cv/images/TS_6_4_1820.png', '/workspace/CZII/proc/yolo11_baseline_cv/images/TS_6_4_1830.png', '/workspace/CZII/proc/yolo11_baseline_cv/images/TS_6_4_190.png', '/workspace/CZII/proc/yolo11_baseline_cv/images/TS_6_4_20.png', '/workspace/CZII/proc/yolo11_baseline_cv/images/TS_6_4_200.png', '/workspace/CZII/proc/yolo11_baseline_cv/images/TS_6_4_210.png', '/workspace/CZII/proc/yolo11_baseline_cv/images/TS_6_4_220.png', '/workspace/CZII/proc/yolo11_baseline_cv/images/TS_6_4_230.png', '/workspace/CZII/proc/yolo11_baseline_cv/images/TS_6_4_240.png', '/workspace/CZII/proc/yolo11_baseline_cv/images/TS_6_4_250.png', '/workspace/CZII/proc/yolo11_baseline_cv/images/TS_6_4_260.png', '/workspace/CZII/proc/yolo11_baseline_cv/images/TS_6_4_270.png', '/workspace/CZII/proc/yolo11_baseline_cv/images/TS_6_4_280.png', '/workspace/CZII/proc/yolo11_baseline_cv/images/TS_6_4_290.png', '/workspace/CZII/proc/yolo11_baseline_cv/images/TS_6_4_30.png', '/workspace/CZII/proc/yolo11_baseline_cv/images/TS_6_4_300.png', '/workspace/CZII/proc/yolo11_baseline_cv/images/TS_6_4_310.png', '/workspace/CZII/proc/yolo11_baseline_cv/images/TS_6_4_320.png', '/workspace/CZII/proc/yolo11_baseline_cv/images/TS_6_4_330.png', '/workspace/CZII/proc/yolo11_baseline_cv/images/TS_6_4_340.png', '/workspace/CZII/proc/yolo11_baseline_cv/images/TS_6_4_350.png', '/workspace/CZII/proc/yolo11_baseline_cv/images/TS_6_4_360.png', '/workspace/CZII/proc/yolo11_baseline_cv/images/TS_6_4_370.png', '/workspace/CZII/proc/yolo11_baseline_cv/images/TS_6_4_380.png', '/workspace/CZII/proc/yolo11_baseline_cv/images/TS_6_4_390.png', '/workspace/CZII/proc/yolo11_baseline_cv/images/TS_6_4_40.png', '/workspace/CZII/proc/yolo11_baseline_cv/images/TS_6_4_400.png', '/workspace/CZII/proc/yolo11_baseline_cv/images/TS_6_4_410.png', '/workspace/CZII/proc/yolo11_baseline_cv/images/TS_6_4_420.png', '/workspace/CZII/proc/yolo11_baseline_cv/images/TS_6_4_430.png', '/workspace/CZII/proc/yolo11_baseline_cv/images/TS_6_4_440.png', '/workspace/CZII/proc/yolo11_baseline_cv/images/TS_6_4_450.png', '/workspace/CZII/proc/yolo11_baseline_cv/images/TS_6_4_460.png', '/workspace/CZII/proc/yolo11_baseline_cv/images/TS_6_4_470.png', '/workspace/CZII/proc/yolo11_baseline_cv/images/TS_6_4_480.png', '/workspace/CZII/proc/yolo11_baseline_cv/images/TS_6_4_490.png', '/workspace/CZII/proc/yolo11_baseline_cv/images/TS_6_4_50.png', '/workspace/CZII/proc/yolo11_baseline_cv/images/TS_6_4_500.png', '/workspace/CZII/proc/yolo11_baseline_cv/images/TS_6_4_510.png', '/workspace/CZII/proc/yolo11_baseline_cv/images/TS_6_4_520.png', '/workspace/CZII/proc/yolo11_baseline_cv/images/TS_6_4_530.png', '/workspace/CZII/proc/yolo11_baseline_cv/images/TS_6_4_540.png', '/workspace/CZII/proc/yolo11_baseline_cv/images/TS_6_4_550.png', '/workspace/CZII/proc/yolo11_baseline_cv/images/TS_6_4_560.png', '/workspace/CZII/proc/yolo11_baseline_cv/images/TS_6_4_570.png', '/workspace/CZII/proc/yolo11_baseline_cv/images/TS_6_4_580.png', '/workspace/CZII/proc/yolo11_baseline_cv/images/TS_6_4_590.png', '/workspace/CZII/proc/yolo11_baseline_cv/images/TS_6_4_60.png', '/workspace/CZII/proc/yolo11_baseline_cv/images/TS_6_4_600.png', '/workspace/CZII/proc/yolo11_baseline_cv/images/TS_6_4_610.png', '/workspace/CZII/proc/yolo11_baseline_cv/images/TS_6_4_620.png', '/workspace/CZII/proc/yolo11_baseline_cv/images/TS_6_4_630.png', '/workspace/CZII/proc/yolo11_baseline_cv/images/TS_6_4_640.png', '/workspace/CZII/proc/yolo11_baseline_cv/images/TS_6_4_650.png', '/workspace/CZII/proc/yolo11_baseline_cv/images/TS_6_4_660.png', '/workspace/CZII/proc/yolo11_baseline_cv/images/TS_6_4_670.png', '/workspace/CZII/proc/yolo11_baseline_cv/images/TS_6_4_680.png', '/workspace/CZII/proc/yolo11_baseline_cv/images/TS_6_4_690.png', '/workspace/CZII/proc/yolo11_baseline_cv/images/TS_6_4_70.png', '/workspace/CZII/proc/yolo11_baseline_cv/images/TS_6_4_700.png', '/workspace/CZII/proc/yolo11_baseline_cv/images/TS_6_4_710.png', '/workspace/CZII/proc/yolo11_baseline_cv/images/TS_6_4_720.png', '/workspace/CZII/proc/yolo11_baseline_cv/images/TS_6_4_730.png', '/workspace/CZII/proc/yolo11_baseline_cv/images/TS_6_4_740.png', '/workspace/CZII/proc/yolo11_baseline_cv/images/TS_6_4_750.png', '/workspace/CZII/proc/yolo11_baseline_cv/images/TS_6_4_760.png', '/workspace/CZII/proc/yolo11_baseline_cv/images/TS_6_4_770.png', '/workspace/CZII/proc/yolo11_baseline_cv/images/TS_6_4_780.png', '/workspace/CZII/proc/yolo11_baseline_cv/images/TS_6_4_790.png', '/workspace/CZII/proc/yolo11_baseline_cv/images/TS_6_4_80.png', '/workspace/CZII/proc/yolo11_baseline_cv/images/TS_6_4_800.png', '/workspace/CZII/proc/yolo11_baseline_cv/images/TS_6_4_810.png', '/workspace/CZII/proc/yolo11_baseline_cv/images/TS_6_4_820.png', '/workspace/CZII/proc/yolo11_baseline_cv/images/TS_6_4_830.png', '/workspace/CZII/proc/yolo11_baseline_cv/images/TS_6_4_840.png', '/workspace/CZII/proc/yolo11_baseline_cv/images/TS_6_4_850.png', '/workspace/CZII/proc/yolo11_baseline_cv/images/TS_6_4_860.png', '/workspace/CZII/proc/yolo11_baseline_cv/images/TS_6_4_870.png', '/workspace/CZII/proc/yolo11_baseline_cv/images/TS_6_4_880.png', '/workspace/CZII/proc/yolo11_baseline_cv/images/TS_6_4_890.png', '/workspace/CZII/proc/yolo11_baseline_cv/images/TS_6_4_90.png', '/workspace/CZII/proc/yolo11_baseline_cv/images/TS_6_4_900.png', '/workspace/CZII/proc/yolo11_baseline_cv/images/TS_6_4_910.png', '/workspace/CZII/proc/yolo11_baseline_cv/images/TS_6_4_920.png', '/workspace/CZII/proc/yolo11_baseline_cv/images/TS_6_4_930.png', '/workspace/CZII/proc/yolo11_baseline_cv/images/TS_6_4_940.png', '/workspace/CZII/proc/yolo11_baseline_cv/images/TS_6_4_950.png', '/workspace/CZII/proc/yolo11_baseline_cv/images/TS_6_4_960.png', '/workspace/CZII/proc/yolo11_baseline_cv/images/TS_6_4_970.png', '/workspace/CZII/proc/yolo11_baseline_cv/images/TS_6_4_980.png', '/workspace/CZII/proc/yolo11_baseline_cv/images/TS_6_4_990.png', '/workspace/CZII/proc/yolo11_baseline_cv/images/TS_6_6_0.png', '/workspace/CZII/proc/yolo11_baseline_cv/images/TS_6_6_10.png', '/workspace/CZII/proc/yolo11_baseline_cv/images/TS_6_6_100.png', '/workspace/CZII/proc/yolo11_baseline_cv/images/TS_6_6_1000.png', '/workspace/CZII/proc/yolo11_baseline_cv/images/TS_6_6_1010.png', '/workspace/CZII/proc/yolo11_baseline_cv/images/TS_6_6_1020.png', '/workspace/CZII/proc/yolo11_baseline_cv/images/TS_6_6_1030.png', '/workspace/CZII/proc/yolo11_baseline_cv/images/TS_6_6_1040.png', '/workspace/CZII/proc/yolo11_baseline_cv/images/TS_6_6_1050.png', '/workspace/CZII/proc/yolo11_baseline_cv/images/TS_6_6_1060.png', '/workspace/CZII/proc/yolo11_baseline_cv/images/TS_6_6_1070.png', '/workspace/CZII/proc/yolo11_baseline_cv/images/TS_6_6_1080.png', '/workspace/CZII/proc/yolo11_baseline_cv/images/TS_6_6_1090.png', '/workspace/CZII/proc/yolo11_baseline_cv/images/TS_6_6_110.png', '/workspace/CZII/proc/yolo11_baseline_cv/images/TS_6_6_1100.png', '/workspace/CZII/proc/yolo11_baseline_cv/images/TS_6_6_1110.png', '/workspace/CZII/proc/yolo11_baseline_cv/images/TS_6_6_1120.png', '/workspace/CZII/proc/yolo11_baseline_cv/images/TS_6_6_1130.png', '/workspace/CZII/proc/yolo11_baseline_cv/images/TS_6_6_1140.png', '/workspace/CZII/proc/yolo11_baseline_cv/images/TS_6_6_1150.png', '/workspace/CZII/proc/yolo11_baseline_cv/images/TS_6_6_1160.png', '/workspace/CZII/proc/yolo11_baseline_cv/images/TS_6_6_1170.png', '/workspace/CZII/proc/yolo11_baseline_cv/images/TS_6_6_1180.png', '/workspace/CZII/proc/yolo11_baseline_cv/images/TS_6_6_1190.png', '/workspace/CZII/proc/yolo11_baseline_cv/images/TS_6_6_120.png', '/workspace/CZII/proc/yolo11_baseline_cv/images/TS_6_6_1200.png', '/workspace/CZII/proc/yolo11_baseline_cv/images/TS_6_6_1210.png', '/workspace/CZII/proc/yolo11_baseline_cv/images/TS_6_6_1220.png', '/workspace/CZII/proc/yolo11_baseline_cv/images/TS_6_6_1230.png', '/workspace/CZII/proc/yolo11_baseline_cv/images/TS_6_6_1240.png', '/workspace/CZII/proc/yolo11_baseline_cv/images/TS_6_6_1250.png', '/workspace/CZII/proc/yolo11_baseline_cv/images/TS_6_6_1260.png', '/workspace/CZII/proc/yolo11_baseline_cv/images/TS_6_6_1270.png', '/workspace/CZII/proc/yolo11_baseline_cv/images/TS_6_6_1280.png', '/workspace/CZII/proc/yolo11_baseline_cv/images/TS_6_6_1290.png', '/workspace/CZII/proc/yolo11_baseline_cv/images/TS_6_6_130.png', '/workspace/CZII/proc/yolo11_baseline_cv/images/TS_6_6_1300.png', '/workspace/CZII/proc/yolo11_baseline_cv/images/TS_6_6_1310.png', '/workspace/CZII/proc/yolo11_baseline_cv/images/TS_6_6_1320.png', '/workspace/CZII/proc/yolo11_baseline_cv/images/TS_6_6_1330.png', '/workspace/CZII/proc/yolo11_baseline_cv/images/TS_6_6_1340.png', '/workspace/CZII/proc/yolo11_baseline_cv/images/TS_6_6_1350.png', '/workspace/CZII/proc/yolo11_baseline_cv/images/TS_6_6_1360.png', '/workspace/CZII/proc/yolo11_baseline_cv/images/TS_6_6_1370.png', '/workspace/CZII/proc/yolo11_baseline_cv/images/TS_6_6_1380.png', '/workspace/CZII/proc/yolo11_baseline_cv/images/TS_6_6_1390.png', '/workspace/CZII/proc/yolo11_baseline_cv/images/TS_6_6_140.png', '/workspace/CZII/proc/yolo11_baseline_cv/images/TS_6_6_1400.png', '/workspace/CZII/proc/yolo11_baseline_cv/images/TS_6_6_1410.png', '/workspace/CZII/proc/yolo11_baseline_cv/images/TS_6_6_1420.png', '/workspace/CZII/proc/yolo11_baseline_cv/images/TS_6_6_1430.png', '/workspace/CZII/proc/yolo11_baseline_cv/images/TS_6_6_1440.png', '/workspace/CZII/proc/yolo11_baseline_cv/images/TS_6_6_1450.png', '/workspace/CZII/proc/yolo11_baseline_cv/images/TS_6_6_1460.png', '/workspace/CZII/proc/yolo11_baseline_cv/images/TS_6_6_1470.png', '/workspace/CZII/proc/yolo11_baseline_cv/images/TS_6_6_1480.png', '/workspace/CZII/proc/yolo11_baseline_cv/images/TS_6_6_1490.png', '/workspace/CZII/proc/yolo11_baseline_cv/images/TS_6_6_150.png', '/workspace/CZII/proc/yolo11_baseline_cv/images/TS_6_6_1500.png', '/workspace/CZII/proc/yolo11_baseline_cv/images/TS_6_6_1510.png', '/workspace/CZII/proc/yolo11_baseline_cv/images/TS_6_6_1520.png', '/workspace/CZII/proc/yolo11_baseline_cv/images/TS_6_6_1530.png', '/workspace/CZII/proc/yolo11_baseline_cv/images/TS_6_6_1540.png', '/workspace/CZII/proc/yolo11_baseline_cv/images/TS_6_6_1550.png', '/workspace/CZII/proc/yolo11_baseline_cv/images/TS_6_6_1560.png', '/workspace/CZII/proc/yolo11_baseline_cv/images/TS_6_6_1570.png', '/workspace/CZII/proc/yolo11_baseline_cv/images/TS_6_6_1580.png', '/workspace/CZII/proc/yolo11_baseline_cv/images/TS_6_6_1590.png', '/workspace/CZII/proc/yolo11_baseline_cv/images/TS_6_6_160.png', '/workspace/CZII/proc/yolo11_baseline_cv/images/TS_6_6_1600.png', '/workspace/CZII/proc/yolo11_baseline_cv/images/TS_6_6_1610.png', '/workspace/CZII/proc/yolo11_baseline_cv/images/TS_6_6_1620.png', '/workspace/CZII/proc/yolo11_baseline_cv/images/TS_6_6_1630.png', '/workspace/CZII/proc/yolo11_baseline_cv/images/TS_6_6_1640.png', '/workspace/CZII/proc/yolo11_baseline_cv/images/TS_6_6_1650.png', '/workspace/CZII/proc/yolo11_baseline_cv/images/TS_6_6_1660.png', '/workspace/CZII/proc/yolo11_baseline_cv/images/TS_6_6_1670.png', '/workspace/CZII/proc/yolo11_baseline_cv/images/TS_6_6_1680.png', '/workspace/CZII/proc/yolo11_baseline_cv/images/TS_6_6_1690.png', '/workspace/CZII/proc/yolo11_baseline_cv/images/TS_6_6_170.png', '/workspace/CZII/proc/yolo11_baseline_cv/images/TS_6_6_1700.png', '/workspace/CZII/proc/yolo11_baseline_cv/images/TS_6_6_1710.png', '/workspace/CZII/proc/yolo11_baseline_cv/images/TS_6_6_1720.png', '/workspace/CZII/proc/yolo11_baseline_cv/images/TS_6_6_1730.png', '/workspace/CZII/proc/yolo11_baseline_cv/images/TS_6_6_1740.png', '/workspace/CZII/proc/yolo11_baseline_cv/images/TS_6_6_1750.png', '/workspace/CZII/proc/yolo11_baseline_cv/images/TS_6_6_1760.png', '/workspace/CZII/proc/yolo11_baseline_cv/images/TS_6_6_1770.png', '/workspace/CZII/proc/yolo11_baseline_cv/images/TS_6_6_1780.png', '/workspace/CZII/proc/yolo11_baseline_cv/images/TS_6_6_1790.png', '/workspace/CZII/proc/yolo11_baseline_cv/images/TS_6_6_180.png', '/workspace/CZII/proc/yolo11_baseline_cv/images/TS_6_6_1800.png', '/workspace/CZII/proc/yolo11_baseline_cv/images/TS_6_6_1810.png', '/workspace/CZII/proc/yolo11_baseline_cv/images/TS_6_6_1820.png', '/workspace/CZII/proc/yolo11_baseline_cv/images/TS_6_6_1830.png', '/workspace/CZII/proc/yolo11_baseline_cv/images/TS_6_6_190.png', '/workspace/CZII/proc/yolo11_baseline_cv/images/TS_6_6_20.png', '/workspace/CZII/proc/yolo11_baseline_cv/images/TS_6_6_200.png', '/workspace/CZII/proc/yolo11_baseline_cv/images/TS_6_6_210.png', '/workspace/CZII/proc/yolo11_baseline_cv/images/TS_6_6_220.png', '/workspace/CZII/proc/yolo11_baseline_cv/images/TS_6_6_230.png', '/workspace/CZII/proc/yolo11_baseline_cv/images/TS_6_6_240.png', '/workspace/CZII/proc/yolo11_baseline_cv/images/TS_6_6_250.png', '/workspace/CZII/proc/yolo11_baseline_cv/images/TS_6_6_260.png', '/workspace/CZII/proc/yolo11_baseline_cv/images/TS_6_6_270.png', '/workspace/CZII/proc/yolo11_baseline_cv/images/TS_6_6_280.png', '/workspace/CZII/proc/yolo11_baseline_cv/images/TS_6_6_290.png', '/workspace/CZII/proc/yolo11_baseline_cv/images/TS_6_6_30.png', '/workspace/CZII/proc/yolo11_baseline_cv/images/TS_6_6_300.png', '/workspace/CZII/proc/yolo11_baseline_cv/images/TS_6_6_310.png', '/workspace/CZII/proc/yolo11_baseline_cv/images/TS_6_6_320.png', '/workspace/CZII/proc/yolo11_baseline_cv/images/TS_6_6_330.png', '/workspace/CZII/proc/yolo11_baseline_cv/images/TS_6_6_340.png', '/workspace/CZII/proc/yolo11_baseline_cv/images/TS_6_6_350.png', '/workspace/CZII/proc/yolo11_baseline_cv/images/TS_6_6_360.png', '/workspace/CZII/proc/yolo11_baseline_cv/images/TS_6_6_370.png', '/workspace/CZII/proc/yolo11_baseline_cv/images/TS_6_6_380.png', '/workspace/CZII/proc/yolo11_baseline_cv/images/TS_6_6_390.png', '/workspace/CZII/proc/yolo11_baseline_cv/images/TS_6_6_40.png', '/workspace/CZII/proc/yolo11_baseline_cv/images/TS_6_6_400.png', '/workspace/CZII/proc/yolo11_baseline_cv/images/TS_6_6_410.png', '/workspace/CZII/proc/yolo11_baseline_cv/images/TS_6_6_420.png', '/workspace/CZII/proc/yolo11_baseline_cv/images/TS_6_6_430.png', '/workspace/CZII/proc/yolo11_baseline_cv/images/TS_6_6_440.png', '/workspace/CZII/proc/yolo11_baseline_cv/images/TS_6_6_450.png', '/workspace/CZII/proc/yolo11_baseline_cv/images/TS_6_6_460.png', '/workspace/CZII/proc/yolo11_baseline_cv/images/TS_6_6_470.png', '/workspace/CZII/proc/yolo11_baseline_cv/images/TS_6_6_480.png', '/workspace/CZII/proc/yolo11_baseline_cv/images/TS_6_6_490.png', '/workspace/CZII/proc/yolo11_baseline_cv/images/TS_6_6_50.png', '/workspace/CZII/proc/yolo11_baseline_cv/images/TS_6_6_500.png', '/workspace/CZII/proc/yolo11_baseline_cv/images/TS_6_6_510.png', '/workspace/CZII/proc/yolo11_baseline_cv/images/TS_6_6_520.png', '/workspace/CZII/proc/yolo11_baseline_cv/images/TS_6_6_530.png', '/workspace/CZII/proc/yolo11_baseline_cv/images/TS_6_6_540.png', '/workspace/CZII/proc/yolo11_baseline_cv/images/TS_6_6_550.png', '/workspace/CZII/proc/yolo11_baseline_cv/images/TS_6_6_560.png', '/workspace/CZII/proc/yolo11_baseline_cv/images/TS_6_6_570.png', '/workspace/CZII/proc/yolo11_baseline_cv/images/TS_6_6_580.png', '/workspace/CZII/proc/yolo11_baseline_cv/images/TS_6_6_590.png', '/workspace/CZII/proc/yolo11_baseline_cv/images/TS_6_6_60.png', '/workspace/CZII/proc/yolo11_baseline_cv/images/TS_6_6_600.png', '/workspace/CZII/proc/yolo11_baseline_cv/images/TS_6_6_610.png', '/workspace/CZII/proc/yolo11_baseline_cv/images/TS_6_6_620.png', '/workspace/CZII/proc/yolo11_baseline_cv/images/TS_6_6_630.png', '/workspace/CZII/proc/yolo11_baseline_cv/images/TS_6_6_640.png', '/workspace/CZII/proc/yolo11_baseline_cv/images/TS_6_6_650.png', '/workspace/CZII/proc/yolo11_baseline_cv/images/TS_6_6_660.png', '/workspace/CZII/proc/yolo11_baseline_cv/images/TS_6_6_670.png', '/workspace/CZII/proc/yolo11_baseline_cv/images/TS_6_6_680.png', '/workspace/CZII/proc/yolo11_baseline_cv/images/TS_6_6_690.png', '/workspace/CZII/proc/yolo11_baseline_cv/images/TS_6_6_70.png', '/workspace/CZII/proc/yolo11_baseline_cv/images/TS_6_6_700.png', '/workspace/CZII/proc/yolo11_baseline_cv/images/TS_6_6_710.png', '/workspace/CZII/proc/yolo11_baseline_cv/images/TS_6_6_720.png', '/workspace/CZII/proc/yolo11_baseline_cv/images/TS_6_6_730.png', '/workspace/CZII/proc/yolo11_baseline_cv/images/TS_6_6_740.png', '/workspace/CZII/proc/yolo11_baseline_cv/images/TS_6_6_750.png', '/workspace/CZII/proc/yolo11_baseline_cv/images/TS_6_6_760.png', '/workspace/CZII/proc/yolo11_baseline_cv/images/TS_6_6_770.png', '/workspace/CZII/proc/yolo11_baseline_cv/images/TS_6_6_780.png', '/workspace/CZII/proc/yolo11_baseline_cv/images/TS_6_6_790.png', '/workspace/CZII/proc/yolo11_baseline_cv/images/TS_6_6_80.png', '/workspace/CZII/proc/yolo11_baseline_cv/images/TS_6_6_800.png', '/workspace/CZII/proc/yolo11_baseline_cv/images/TS_6_6_810.png', '/workspace/CZII/proc/yolo11_baseline_cv/images/TS_6_6_820.png', '/workspace/CZII/proc/yolo11_baseline_cv/images/TS_6_6_830.png', '/workspace/CZII/proc/yolo11_baseline_cv/images/TS_6_6_840.png', '/workspace/CZII/proc/yolo11_baseline_cv/images/TS_6_6_850.png', '/workspace/CZII/proc/yolo11_baseline_cv/images/TS_6_6_860.png', '/workspace/CZII/proc/yolo11_baseline_cv/images/TS_6_6_870.png', '/workspace/CZII/proc/yolo11_baseline_cv/images/TS_6_6_880.png', '/workspace/CZII/proc/yolo11_baseline_cv/images/TS_6_6_890.png', '/workspace/CZII/proc/yolo11_baseline_cv/images/TS_6_6_90.png', '/workspace/CZII/proc/yolo11_baseline_cv/images/TS_6_6_900.png', '/workspace/CZII/proc/yolo11_baseline_cv/images/TS_6_6_910.png', '/workspace/CZII/proc/yolo11_baseline_cv/images/TS_6_6_920.png', '/workspace/CZII/proc/yolo11_baseline_cv/images/TS_6_6_930.png', '/workspace/CZII/proc/yolo11_baseline_cv/images/TS_6_6_940.png', '/workspace/CZII/proc/yolo11_baseline_cv/images/TS_6_6_950.png', '/workspace/CZII/proc/yolo11_baseline_cv/images/TS_6_6_960.png', '/workspace/CZII/proc/yolo11_baseline_cv/images/TS_6_6_970.png', '/workspace/CZII/proc/yolo11_baseline_cv/images/TS_6_6_980.png', '/workspace/CZII/proc/yolo11_baseline_cv/images/TS_6_6_990.png', '/workspace/CZII/proc/yolo11_baseline_cv/images/TS_73_6_0.png', '/workspace/CZII/proc/yolo11_baseline_cv/images/TS_73_6_10.png', '/workspace/CZII/proc/yolo11_baseline_cv/images/TS_73_6_100.png', '/workspace/CZII/proc/yolo11_baseline_cv/images/TS_73_6_1000.png', '/workspace/CZII/proc/yolo11_baseline_cv/images/TS_73_6_1010.png', '/workspace/CZII/proc/yolo11_baseline_cv/images/TS_73_6_1020.png', '/workspace/CZII/proc/yolo11_baseline_cv/images/TS_73_6_1030.png', '/workspace/CZII/proc/yolo11_baseline_cv/images/TS_73_6_1040.png', '/workspace/CZII/proc/yolo11_baseline_cv/images/TS_73_6_1050.png', '/workspace/CZII/proc/yolo11_baseline_cv/images/TS_73_6_1060.png', '/workspace/CZII/proc/yolo11_baseline_cv/images/TS_73_6_1070.png', '/workspace/CZII/proc/yolo11_baseline_cv/images/TS_73_6_1080.png', '/workspace/CZII/proc/yolo11_baseline_cv/images/TS_73_6_1090.png', '/workspace/CZII/proc/yolo11_baseline_cv/images/TS_73_6_110.png', '/workspace/CZII/proc/yolo11_baseline_cv/images/TS_73_6_1100.png', '/workspace/CZII/proc/yolo11_baseline_cv/images/TS_73_6_1110.png', '/workspace/CZII/proc/yolo11_baseline_cv/images/TS_73_6_1120.png', '/workspace/CZII/proc/yolo11_baseline_cv/images/TS_73_6_1130.png', '/workspace/CZII/proc/yolo11_baseline_cv/images/TS_73_6_1140.png', '/workspace/CZII/proc/yolo11_baseline_cv/images/TS_73_6_1150.png', '/workspace/CZII/proc/yolo11_baseline_cv/images/TS_73_6_1160.png', '/workspace/CZII/proc/yolo11_baseline_cv/images/TS_73_6_1170.png', '/workspace/CZII/proc/yolo11_baseline_cv/images/TS_73_6_1180.png', '/workspace/CZII/proc/yolo11_baseline_cv/images/TS_73_6_1190.png', '/workspace/CZII/proc/yolo11_baseline_cv/images/TS_73_6_120.png', '/workspace/CZII/proc/yolo11_baseline_cv/images/TS_73_6_1200.png', '/workspace/CZII/proc/yolo11_baseline_cv/images/TS_73_6_1210.png', '/workspace/CZII/proc/yolo11_baseline_cv/images/TS_73_6_1220.png', '/workspace/CZII/proc/yolo11_baseline_cv/images/TS_73_6_1230.png', '/workspace/CZII/proc/yolo11_baseline_cv/images/TS_73_6_1240.png', '/workspace/CZII/proc/yolo11_baseline_cv/images/TS_73_6_1250.png', '/workspace/CZII/proc/yolo11_baseline_cv/images/TS_73_6_1260.png', '/workspace/CZII/proc/yolo11_baseline_cv/images/TS_73_6_1270.png', '/workspace/CZII/proc/yolo11_baseline_cv/images/TS_73_6_1280.png', '/workspace/CZII/proc/yolo11_baseline_cv/images/TS_73_6_1290.png', '/workspace/CZII/proc/yolo11_baseline_cv/images/TS_73_6_130.png', '/workspace/CZII/proc/yolo11_baseline_cv/images/TS_73_6_1300.png', '/workspace/CZII/proc/yolo11_baseline_cv/images/TS_73_6_1310.png', '/workspace/CZII/proc/yolo11_baseline_cv/images/TS_73_6_1320.png', '/workspace/CZII/proc/yolo11_baseline_cv/images/TS_73_6_1330.png', '/workspace/CZII/proc/yolo11_baseline_cv/images/TS_73_6_1340.png', '/workspace/CZII/proc/yolo11_baseline_cv/images/TS_73_6_1350.png', '/workspace/CZII/proc/yolo11_baseline_cv/images/TS_73_6_1360.png', '/workspace/CZII/proc/yolo11_baseline_cv/images/TS_73_6_1370.png', '/workspace/CZII/proc/yolo11_baseline_cv/images/TS_73_6_1380.png', '/workspace/CZII/proc/yolo11_baseline_cv/images/TS_73_6_1390.png', '/workspace/CZII/proc/yolo11_baseline_cv/images/TS_73_6_140.png', '/workspace/CZII/proc/yolo11_baseline_cv/images/TS_73_6_1400.png', '/workspace/CZII/proc/yolo11_baseline_cv/images/TS_73_6_1410.png', '/workspace/CZII/proc/yolo11_baseline_cv/images/TS_73_6_1420.png', '/workspace/CZII/proc/yolo11_baseline_cv/images/TS_73_6_1430.png', '/workspace/CZII/proc/yolo11_baseline_cv/images/TS_73_6_1440.png', '/workspace/CZII/proc/yolo11_baseline_cv/images/TS_73_6_1450.png', '/workspace/CZII/proc/yolo11_baseline_cv/images/TS_73_6_1460.png', '/workspace/CZII/proc/yolo11_baseline_cv/images/TS_73_6_1470.png', '/workspace/CZII/proc/yolo11_baseline_cv/images/TS_73_6_1480.png', '/workspace/CZII/proc/yolo11_baseline_cv/images/TS_73_6_1490.png', '/workspace/CZII/proc/yolo11_baseline_cv/images/TS_73_6_150.png', '/workspace/CZII/proc/yolo11_baseline_cv/images/TS_73_6_1500.png', '/workspace/CZII/proc/yolo11_baseline_cv/images/TS_73_6_1510.png', '/workspace/CZII/proc/yolo11_baseline_cv/images/TS_73_6_1520.png', '/workspace/CZII/proc/yolo11_baseline_cv/images/TS_73_6_1530.png', '/workspace/CZII/proc/yolo11_baseline_cv/images/TS_73_6_1540.png', '/workspace/CZII/proc/yolo11_baseline_cv/images/TS_73_6_1550.png', '/workspace/CZII/proc/yolo11_baseline_cv/images/TS_73_6_1560.png', '/workspace/CZII/proc/yolo11_baseline_cv/images/TS_73_6_1570.png', '/workspace/CZII/proc/yolo11_baseline_cv/images/TS_73_6_1580.png', '/workspace/CZII/proc/yolo11_baseline_cv/images/TS_73_6_1590.png', '/workspace/CZII/proc/yolo11_baseline_cv/images/TS_73_6_160.png', '/workspace/CZII/proc/yolo11_baseline_cv/images/TS_73_6_1600.png', '/workspace/CZII/proc/yolo11_baseline_cv/images/TS_73_6_1610.png', '/workspace/CZII/proc/yolo11_baseline_cv/images/TS_73_6_1620.png', '/workspace/CZII/proc/yolo11_baseline_cv/images/TS_73_6_1630.png', '/workspace/CZII/proc/yolo11_baseline_cv/images/TS_73_6_1640.png', '/workspace/CZII/proc/yolo11_baseline_cv/images/TS_73_6_1650.png', '/workspace/CZII/proc/yolo11_baseline_cv/images/TS_73_6_1660.png', '/workspace/CZII/proc/yolo11_baseline_cv/images/TS_73_6_1670.png', '/workspace/CZII/proc/yolo11_baseline_cv/images/TS_73_6_1680.png', '/workspace/CZII/proc/yolo11_baseline_cv/images/TS_73_6_1690.png', '/workspace/CZII/proc/yolo11_baseline_cv/images/TS_73_6_170.png', '/workspace/CZII/proc/yolo11_baseline_cv/images/TS_73_6_1700.png', '/workspace/CZII/proc/yolo11_baseline_cv/images/TS_73_6_1710.png', '/workspace/CZII/proc/yolo11_baseline_cv/images/TS_73_6_1720.png', '/workspace/CZII/proc/yolo11_baseline_cv/images/TS_73_6_1730.png', '/workspace/CZII/proc/yolo11_baseline_cv/images/TS_73_6_1740.png', '/workspace/CZII/proc/yolo11_baseline_cv/images/TS_73_6_1750.png', '/workspace/CZII/proc/yolo11_baseline_cv/images/TS_73_6_1760.png', '/workspace/CZII/proc/yolo11_baseline_cv/images/TS_73_6_1770.png', '/workspace/CZII/proc/yolo11_baseline_cv/images/TS_73_6_1780.png', '/workspace/CZII/proc/yolo11_baseline_cv/images/TS_73_6_1790.png', '/workspace/CZII/proc/yolo11_baseline_cv/images/TS_73_6_180.png', '/workspace/CZII/proc/yolo11_baseline_cv/images/TS_73_6_1800.png', '/workspace/CZII/proc/yolo11_baseline_cv/images/TS_73_6_1810.png', '/workspace/CZII/proc/yolo11_baseline_cv/images/TS_73_6_1820.png', '/workspace/CZII/proc/yolo11_baseline_cv/images/TS_73_6_1830.png', '/workspace/CZII/proc/yolo11_baseline_cv/images/TS_73_6_190.png', '/workspace/CZII/proc/yolo11_baseline_cv/images/TS_73_6_20.png', '/workspace/CZII/proc/yolo11_baseline_cv/images/TS_73_6_200.png', '/workspace/CZII/proc/yolo11_baseline_cv/images/TS_73_6_210.png', '/workspace/CZII/proc/yolo11_baseline_cv/images/TS_73_6_220.png', '/workspace/CZII/proc/yolo11_baseline_cv/images/TS_73_6_230.png', '/workspace/CZII/proc/yolo11_baseline_cv/images/TS_73_6_240.png', '/workspace/CZII/proc/yolo11_baseline_cv/images/TS_73_6_250.png', '/workspace/CZII/proc/yolo11_baseline_cv/images/TS_73_6_260.png', '/workspace/CZII/proc/yolo11_baseline_cv/images/TS_73_6_270.png', '/workspace/CZII/proc/yolo11_baseline_cv/images/TS_73_6_280.png', '/workspace/CZII/proc/yolo11_baseline_cv/images/TS_73_6_290.png', '/workspace/CZII/proc/yolo11_baseline_cv/images/TS_73_6_30.png', '/workspace/CZII/proc/yolo11_baseline_cv/images/TS_73_6_300.png', '/workspace/CZII/proc/yolo11_baseline_cv/images/TS_73_6_310.png', '/workspace/CZII/proc/yolo11_baseline_cv/images/TS_73_6_320.png', '/workspace/CZII/proc/yolo11_baseline_cv/images/TS_73_6_330.png', '/workspace/CZII/proc/yolo11_baseline_cv/images/TS_73_6_340.png', '/workspace/CZII/proc/yolo11_baseline_cv/images/TS_73_6_350.png', '/workspace/CZII/proc/yolo11_baseline_cv/images/TS_73_6_360.png', '/workspace/CZII/proc/yolo11_baseline_cv/images/TS_73_6_370.png', '/workspace/CZII/proc/yolo11_baseline_cv/images/TS_73_6_380.png', '/workspace/CZII/proc/yolo11_baseline_cv/images/TS_73_6_390.png', '/workspace/CZII/proc/yolo11_baseline_cv/images/TS_73_6_40.png', '/workspace/CZII/proc/yolo11_baseline_cv/images/TS_73_6_400.png', '/workspace/CZII/proc/yolo11_baseline_cv/images/TS_73_6_410.png', '/workspace/CZII/proc/yolo11_baseline_cv/images/TS_73_6_420.png', '/workspace/CZII/proc/yolo11_baseline_cv/images/TS_73_6_430.png', '/workspace/CZII/proc/yolo11_baseline_cv/images/TS_73_6_440.png', '/workspace/CZII/proc/yolo11_baseline_cv/images/TS_73_6_450.png', '/workspace/CZII/proc/yolo11_baseline_cv/images/TS_73_6_460.png', '/workspace/CZII/proc/yolo11_baseline_cv/images/TS_73_6_470.png', '/workspace/CZII/proc/yolo11_baseline_cv/images/TS_73_6_480.png', '/workspace/CZII/proc/yolo11_baseline_cv/images/TS_73_6_490.png', '/workspace/CZII/proc/yolo11_baseline_cv/images/TS_73_6_50.png', '/workspace/CZII/proc/yolo11_baseline_cv/images/TS_73_6_500.png', '/workspace/CZII/proc/yolo11_baseline_cv/images/TS_73_6_510.png', '/workspace/CZII/proc/yolo11_baseline_cv/images/TS_73_6_520.png', '/workspace/CZII/proc/yolo11_baseline_cv/images/TS_73_6_530.png', '/workspace/CZII/proc/yolo11_baseline_cv/images/TS_73_6_540.png', '/workspace/CZII/proc/yolo11_baseline_cv/images/TS_73_6_550.png', '/workspace/CZII/proc/yolo11_baseline_cv/images/TS_73_6_560.png', '/workspace/CZII/proc/yolo11_baseline_cv/images/TS_73_6_570.png', '/workspace/CZII/proc/yolo11_baseline_cv/images/TS_73_6_580.png', '/workspace/CZII/proc/yolo11_baseline_cv/images/TS_73_6_590.png', '/workspace/CZII/proc/yolo11_baseline_cv/images/TS_73_6_60.png', '/workspace/CZII/proc/yolo11_baseline_cv/images/TS_73_6_600.png', '/workspace/CZII/proc/yolo11_baseline_cv/images/TS_73_6_610.png', '/workspace/CZII/proc/yolo11_baseline_cv/images/TS_73_6_620.png', '/workspace/CZII/proc/yolo11_baseline_cv/images/TS_73_6_630.png', '/workspace/CZII/proc/yolo11_baseline_cv/images/TS_73_6_640.png', '/workspace/CZII/proc/yolo11_baseline_cv/images/TS_73_6_650.png', '/workspace/CZII/proc/yolo11_baseline_cv/images/TS_73_6_660.png', '/workspace/CZII/proc/yolo11_baseline_cv/images/TS_73_6_670.png', '/workspace/CZII/proc/yolo11_baseline_cv/images/TS_73_6_680.png', '/workspace/CZII/proc/yolo11_baseline_cv/images/TS_73_6_690.png', '/workspace/CZII/proc/yolo11_baseline_cv/images/TS_73_6_70.png', '/workspace/CZII/proc/yolo11_baseline_cv/images/TS_73_6_700.png', '/workspace/CZII/proc/yolo11_baseline_cv/images/TS_73_6_710.png', '/workspace/CZII/proc/yolo11_baseline_cv/images/TS_73_6_720.png', '/workspace/CZII/proc/yolo11_baseline_cv/images/TS_73_6_730.png', '/workspace/CZII/proc/yolo11_baseline_cv/images/TS_73_6_740.png', '/workspace/CZII/proc/yolo11_baseline_cv/images/TS_73_6_750.png', '/workspace/CZII/proc/yolo11_baseline_cv/images/TS_73_6_760.png', '/workspace/CZII/proc/yolo11_baseline_cv/images/TS_73_6_770.png', '/workspace/CZII/proc/yolo11_baseline_cv/images/TS_73_6_780.png', '/workspace/CZII/proc/yolo11_baseline_cv/images/TS_73_6_790.png', '/workspace/CZII/proc/yolo11_baseline_cv/images/TS_73_6_80.png', '/workspace/CZII/proc/yolo11_baseline_cv/images/TS_73_6_800.png', '/workspace/CZII/proc/yolo11_baseline_cv/images/TS_73_6_810.png', '/workspace/CZII/proc/yolo11_baseline_cv/images/TS_73_6_820.png', '/workspace/CZII/proc/yolo11_baseline_cv/images/TS_73_6_830.png', '/workspace/CZII/proc/yolo11_baseline_cv/images/TS_73_6_840.png', '/workspace/CZII/proc/yolo11_baseline_cv/images/TS_73_6_850.png', '/workspace/CZII/proc/yolo11_baseline_cv/images/TS_73_6_860.png', '/workspace/CZII/proc/yolo11_baseline_cv/images/TS_73_6_870.png', '/workspace/CZII/proc/yolo11_baseline_cv/images/TS_73_6_880.png', '/workspace/CZII/proc/yolo11_baseline_cv/images/TS_73_6_890.png', '/workspace/CZII/proc/yolo11_baseline_cv/images/TS_73_6_90.png', '/workspace/CZII/proc/yolo11_baseline_cv/images/TS_73_6_900.png', '/workspace/CZII/proc/yolo11_baseline_cv/images/TS_73_6_910.png', '/workspace/CZII/proc/yolo11_baseline_cv/images/TS_73_6_920.png', '/workspace/CZII/proc/yolo11_baseline_cv/images/TS_73_6_930.png', '/workspace/CZII/proc/yolo11_baseline_cv/images/TS_73_6_940.png', '/workspace/CZII/proc/yolo11_baseline_cv/images/TS_73_6_950.png', '/workspace/CZII/proc/yolo11_baseline_cv/images/TS_73_6_960.png', '/workspace/CZII/proc/yolo11_baseline_cv/images/TS_73_6_970.png', '/workspace/CZII/proc/yolo11_baseline_cv/images/TS_73_6_980.png', '/workspace/CZII/proc/yolo11_baseline_cv/images/TS_73_6_990.png', '/workspace/CZII/proc/yolo11_baseline_cv/images/TS_86_3_0.png', '/workspace/CZII/proc/yolo11_baseline_cv/images/TS_86_3_10.png', '/workspace/CZII/proc/yolo11_baseline_cv/images/TS_86_3_100.png', '/workspace/CZII/proc/yolo11_baseline_cv/images/TS_86_3_1000.png', '/workspace/CZII/proc/yolo11_baseline_cv/images/TS_86_3_1010.png', '/workspace/CZII/proc/yolo11_baseline_cv/images/TS_86_3_1020.png', '/workspace/CZII/proc/yolo11_baseline_cv/images/TS_86_3_1030.png', '/workspace/CZII/proc/yolo11_baseline_cv/images/TS_86_3_1040.png', '/workspace/CZII/proc/yolo11_baseline_cv/images/TS_86_3_1050.png', '/workspace/CZII/proc/yolo11_baseline_cv/images/TS_86_3_1060.png', '/workspace/CZII/proc/yolo11_baseline_cv/images/TS_86_3_1070.png', '/workspace/CZII/proc/yolo11_baseline_cv/images/TS_86_3_1080.png', '/workspace/CZII/proc/yolo11_baseline_cv/images/TS_86_3_1090.png', '/workspace/CZII/proc/yolo11_baseline_cv/images/TS_86_3_110.png', '/workspace/CZII/proc/yolo11_baseline_cv/images/TS_86_3_1100.png', '/workspace/CZII/proc/yolo11_baseline_cv/images/TS_86_3_1110.png', '/workspace/CZII/proc/yolo11_baseline_cv/images/TS_86_3_1120.png', '/workspace/CZII/proc/yolo11_baseline_cv/images/TS_86_3_1130.png', '/workspace/CZII/proc/yolo11_baseline_cv/images/TS_86_3_1140.png', '/workspace/CZII/proc/yolo11_baseline_cv/images/TS_86_3_1150.png', '/workspace/CZII/proc/yolo11_baseline_cv/images/TS_86_3_1160.png', '/workspace/CZII/proc/yolo11_baseline_cv/images/TS_86_3_1170.png', '/workspace/CZII/proc/yolo11_baseline_cv/images/TS_86_3_1180.png', '/workspace/CZII/proc/yolo11_baseline_cv/images/TS_86_3_1190.png', '/workspace/CZII/proc/yolo11_baseline_cv/images/TS_86_3_120.png', '/workspace/CZII/proc/yolo11_baseline_cv/images/TS_86_3_1200.png', '/workspace/CZII/proc/yolo11_baseline_cv/images/TS_86_3_1210.png', '/workspace/CZII/proc/yolo11_baseline_cv/images/TS_86_3_1220.png', '/workspace/CZII/proc/yolo11_baseline_cv/images/TS_86_3_1230.png', '/workspace/CZII/proc/yolo11_baseline_cv/images/TS_86_3_1240.png', '/workspace/CZII/proc/yolo11_baseline_cv/images/TS_86_3_1250.png', '/workspace/CZII/proc/yolo11_baseline_cv/images/TS_86_3_1260.png', '/workspace/CZII/proc/yolo11_baseline_cv/images/TS_86_3_1270.png', '/workspace/CZII/proc/yolo11_baseline_cv/images/TS_86_3_1280.png', '/workspace/CZII/proc/yolo11_baseline_cv/images/TS_86_3_1290.png', '/workspace/CZII/proc/yolo11_baseline_cv/images/TS_86_3_130.png', '/workspace/CZII/proc/yolo11_baseline_cv/images/TS_86_3_1300.png', '/workspace/CZII/proc/yolo11_baseline_cv/images/TS_86_3_1310.png', '/workspace/CZII/proc/yolo11_baseline_cv/images/TS_86_3_1320.png', '/workspace/CZII/proc/yolo11_baseline_cv/images/TS_86_3_1330.png', '/workspace/CZII/proc/yolo11_baseline_cv/images/TS_86_3_1340.png', '/workspace/CZII/proc/yolo11_baseline_cv/images/TS_86_3_1350.png', '/workspace/CZII/proc/yolo11_baseline_cv/images/TS_86_3_1360.png', '/workspace/CZII/proc/yolo11_baseline_cv/images/TS_86_3_1370.png', '/workspace/CZII/proc/yolo11_baseline_cv/images/TS_86_3_1380.png', '/workspace/CZII/proc/yolo11_baseline_cv/images/TS_86_3_1390.png', '/workspace/CZII/proc/yolo11_baseline_cv/images/TS_86_3_140.png', '/workspace/CZII/proc/yolo11_baseline_cv/images/TS_86_3_1400.png', '/workspace/CZII/proc/yolo11_baseline_cv/images/TS_86_3_1410.png', '/workspace/CZII/proc/yolo11_baseline_cv/images/TS_86_3_1420.png', '/workspace/CZII/proc/yolo11_baseline_cv/images/TS_86_3_1430.png', '/workspace/CZII/proc/yolo11_baseline_cv/images/TS_86_3_1440.png', '/workspace/CZII/proc/yolo11_baseline_cv/images/TS_86_3_1450.png', '/workspace/CZII/proc/yolo11_baseline_cv/images/TS_86_3_1460.png', '/workspace/CZII/proc/yolo11_baseline_cv/images/TS_86_3_1470.png', '/workspace/CZII/proc/yolo11_baseline_cv/images/TS_86_3_1480.png', '/workspace/CZII/proc/yolo11_baseline_cv/images/TS_86_3_1490.png', '/workspace/CZII/proc/yolo11_baseline_cv/images/TS_86_3_150.png', '/workspace/CZII/proc/yolo11_baseline_cv/images/TS_86_3_1500.png', '/workspace/CZII/proc/yolo11_baseline_cv/images/TS_86_3_1510.png', '/workspace/CZII/proc/yolo11_baseline_cv/images/TS_86_3_1520.png', '/workspace/CZII/proc/yolo11_baseline_cv/images/TS_86_3_1530.png', '/workspace/CZII/proc/yolo11_baseline_cv/images/TS_86_3_1540.png', '/workspace/CZII/proc/yolo11_baseline_cv/images/TS_86_3_1550.png', '/workspace/CZII/proc/yolo11_baseline_cv/images/TS_86_3_1560.png', '/workspace/CZII/proc/yolo11_baseline_cv/images/TS_86_3_1570.png', '/workspace/CZII/proc/yolo11_baseline_cv/images/TS_86_3_1580.png', '/workspace/CZII/proc/yolo11_baseline_cv/images/TS_86_3_1590.png', '/workspace/CZII/proc/yolo11_baseline_cv/images/TS_86_3_160.png', '/workspace/CZII/proc/yolo11_baseline_cv/images/TS_86_3_1600.png', '/workspace/CZII/proc/yolo11_baseline_cv/images/TS_86_3_1610.png', '/workspace/CZII/proc/yolo11_baseline_cv/images/TS_86_3_1620.png', '/workspace/CZII/proc/yolo11_baseline_cv/images/TS_86_3_1630.png', '/workspace/CZII/proc/yolo11_baseline_cv/images/TS_86_3_1640.png', '/workspace/CZII/proc/yolo11_baseline_cv/images/TS_86_3_1650.png', '/workspace/CZII/proc/yolo11_baseline_cv/images/TS_86_3_1660.png', '/workspace/CZII/proc/yolo11_baseline_cv/images/TS_86_3_1670.png', '/workspace/CZII/proc/yolo11_baseline_cv/images/TS_86_3_1680.png', '/workspace/CZII/proc/yolo11_baseline_cv/images/TS_86_3_1690.png', '/workspace/CZII/proc/yolo11_baseline_cv/images/TS_86_3_170.png', '/workspace/CZII/proc/yolo11_baseline_cv/images/TS_86_3_1700.png', '/workspace/CZII/proc/yolo11_baseline_cv/images/TS_86_3_1710.png', '/workspace/CZII/proc/yolo11_baseline_cv/images/TS_86_3_1720.png', '/workspace/CZII/proc/yolo11_baseline_cv/images/TS_86_3_1730.png', '/workspace/CZII/proc/yolo11_baseline_cv/images/TS_86_3_1740.png', '/workspace/CZII/proc/yolo11_baseline_cv/images/TS_86_3_1750.png', '/workspace/CZII/proc/yolo11_baseline_cv/images/TS_86_3_1760.png', '/workspace/CZII/proc/yolo11_baseline_cv/images/TS_86_3_1770.png', '/workspace/CZII/proc/yolo11_baseline_cv/images/TS_86_3_1780.png', '/workspace/CZII/proc/yolo11_baseline_cv/images/TS_86_3_1790.png', '/workspace/CZII/proc/yolo11_baseline_cv/images/TS_86_3_180.png', '/workspace/CZII/proc/yolo11_baseline_cv/images/TS_86_3_1800.png', '/workspace/CZII/proc/yolo11_baseline_cv/images/TS_86_3_1810.png', '/workspace/CZII/proc/yolo11_baseline_cv/images/TS_86_3_1820.png', '/workspace/CZII/proc/yolo11_baseline_cv/images/TS_86_3_1830.png', '/workspace/CZII/proc/yolo11_baseline_cv/images/TS_86_3_190.png', '/workspace/CZII/proc/yolo11_baseline_cv/images/TS_86_3_20.png', '/workspace/CZII/proc/yolo11_baseline_cv/images/TS_86_3_200.png', '/workspace/CZII/proc/yolo11_baseline_cv/images/TS_86_3_210.png', '/workspace/CZII/proc/yolo11_baseline_cv/images/TS_86_3_220.png', '/workspace/CZII/proc/yolo11_baseline_cv/images/TS_86_3_230.png', '/workspace/CZII/proc/yolo11_baseline_cv/images/TS_86_3_240.png', '/workspace/CZII/proc/yolo11_baseline_cv/images/TS_86_3_250.png', '/workspace/CZII/proc/yolo11_baseline_cv/images/TS_86_3_260.png', '/workspace/CZII/proc/yolo11_baseline_cv/images/TS_86_3_270.png', '/workspace/CZII/proc/yolo11_baseline_cv/images/TS_86_3_280.png', '/workspace/CZII/proc/yolo11_baseline_cv/images/TS_86_3_290.png', '/workspace/CZII/proc/yolo11_baseline_cv/images/TS_86_3_30.png', '/workspace/CZII/proc/yolo11_baseline_cv/images/TS_86_3_300.png', '/workspace/CZII/proc/yolo11_baseline_cv/images/TS_86_3_310.png', '/workspace/CZII/proc/yolo11_baseline_cv/images/TS_86_3_320.png', '/workspace/CZII/proc/yolo11_baseline_cv/images/TS_86_3_330.png', '/workspace/CZII/proc/yolo11_baseline_cv/images/TS_86_3_340.png', '/workspace/CZII/proc/yolo11_baseline_cv/images/TS_86_3_350.png', '/workspace/CZII/proc/yolo11_baseline_cv/images/TS_86_3_360.png', '/workspace/CZII/proc/yolo11_baseline_cv/images/TS_86_3_370.png', '/workspace/CZII/proc/yolo11_baseline_cv/images/TS_86_3_380.png', '/workspace/CZII/proc/yolo11_baseline_cv/images/TS_86_3_390.png', '/workspace/CZII/proc/yolo11_baseline_cv/images/TS_86_3_40.png', '/workspace/CZII/proc/yolo11_baseline_cv/images/TS_86_3_400.png', '/workspace/CZII/proc/yolo11_baseline_cv/images/TS_86_3_410.png', '/workspace/CZII/proc/yolo11_baseline_cv/images/TS_86_3_420.png', '/workspace/CZII/proc/yolo11_baseline_cv/images/TS_86_3_430.png', '/workspace/CZII/proc/yolo11_baseline_cv/images/TS_86_3_440.png', '/workspace/CZII/proc/yolo11_baseline_cv/images/TS_86_3_450.png', '/workspace/CZII/proc/yolo11_baseline_cv/images/TS_86_3_460.png', '/workspace/CZII/proc/yolo11_baseline_cv/images/TS_86_3_470.png', '/workspace/CZII/proc/yolo11_baseline_cv/images/TS_86_3_480.png', '/workspace/CZII/proc/yolo11_baseline_cv/images/TS_86_3_490.png', '/workspace/CZII/proc/yolo11_baseline_cv/images/TS_86_3_50.png', '/workspace/CZII/proc/yolo11_baseline_cv/images/TS_86_3_500.png', '/workspace/CZII/proc/yolo11_baseline_cv/images/TS_86_3_510.png', '/workspace/CZII/proc/yolo11_baseline_cv/images/TS_86_3_520.png', '/workspace/CZII/proc/yolo11_baseline_cv/images/TS_86_3_530.png', '/workspace/CZII/proc/yolo11_baseline_cv/images/TS_86_3_540.png', '/workspace/CZII/proc/yolo11_baseline_cv/images/TS_86_3_550.png', '/workspace/CZII/proc/yolo11_baseline_cv/images/TS_86_3_560.png', '/workspace/CZII/proc/yolo11_baseline_cv/images/TS_86_3_570.png', '/workspace/CZII/proc/yolo11_baseline_cv/images/TS_86_3_580.png', '/workspace/CZII/proc/yolo11_baseline_cv/images/TS_86_3_590.png', '/workspace/CZII/proc/yolo11_baseline_cv/images/TS_86_3_60.png', '/workspace/CZII/proc/yolo11_baseline_cv/images/TS_86_3_600.png', '/workspace/CZII/proc/yolo11_baseline_cv/images/TS_86_3_610.png', '/workspace/CZII/proc/yolo11_baseline_cv/images/TS_86_3_620.png', '/workspace/CZII/proc/yolo11_baseline_cv/images/TS_86_3_630.png', '/workspace/CZII/proc/yolo11_baseline_cv/images/TS_86_3_640.png', '/workspace/CZII/proc/yolo11_baseline_cv/images/TS_86_3_650.png', '/workspace/CZII/proc/yolo11_baseline_cv/images/TS_86_3_660.png', '/workspace/CZII/proc/yolo11_baseline_cv/images/TS_86_3_670.png', '/workspace/CZII/proc/yolo11_baseline_cv/images/TS_86_3_680.png', '/workspace/CZII/proc/yolo11_baseline_cv/images/TS_86_3_690.png', '/workspace/CZII/proc/yolo11_baseline_cv/images/TS_86_3_70.png', '/workspace/CZII/proc/yolo11_baseline_cv/images/TS_86_3_700.png', '/workspace/CZII/proc/yolo11_baseline_cv/images/TS_86_3_710.png', '/workspace/CZII/proc/yolo11_baseline_cv/images/TS_86_3_720.png', '/workspace/CZII/proc/yolo11_baseline_cv/images/TS_86_3_730.png', '/workspace/CZII/proc/yolo11_baseline_cv/images/TS_86_3_740.png', '/workspace/CZII/proc/yolo11_baseline_cv/images/TS_86_3_750.png', '/workspace/CZII/proc/yolo11_baseline_cv/images/TS_86_3_760.png', '/workspace/CZII/proc/yolo11_baseline_cv/images/TS_86_3_770.png', '/workspace/CZII/proc/yolo11_baseline_cv/images/TS_86_3_780.png', '/workspace/CZII/proc/yolo11_baseline_cv/images/TS_86_3_790.png', '/workspace/CZII/proc/yolo11_baseline_cv/images/TS_86_3_80.png', '/workspace/CZII/proc/yolo11_baseline_cv/images/TS_86_3_800.png', '/workspace/CZII/proc/yolo11_baseline_cv/images/TS_86_3_810.png', '/workspace/CZII/proc/yolo11_baseline_cv/images/TS_86_3_820.png', '/workspace/CZII/proc/yolo11_baseline_cv/images/TS_86_3_830.png', '/workspace/CZII/proc/yolo11_baseline_cv/images/TS_86_3_840.png', '/workspace/CZII/proc/yolo11_baseline_cv/images/TS_86_3_850.png', '/workspace/CZII/proc/yolo11_baseline_cv/images/TS_86_3_860.png', '/workspace/CZII/proc/yolo11_baseline_cv/images/TS_86_3_870.png', '/workspace/CZII/proc/yolo11_baseline_cv/images/TS_86_3_880.png', '/workspace/CZII/proc/yolo11_baseline_cv/images/TS_86_3_890.png', '/workspace/CZII/proc/yolo11_baseline_cv/images/TS_86_3_90.png', '/workspace/CZII/proc/yolo11_baseline_cv/images/TS_86_3_900.png', '/workspace/CZII/proc/yolo11_baseline_cv/images/TS_86_3_910.png', '/workspace/CZII/proc/yolo11_baseline_cv/images/TS_86_3_920.png', '/workspace/CZII/proc/yolo11_baseline_cv/images/TS_86_3_930.png', '/workspace/CZII/proc/yolo11_baseline_cv/images/TS_86_3_940.png', '/workspace/CZII/proc/yolo11_baseline_cv/images/TS_86_3_950.png', '/workspace/CZII/proc/yolo11_baseline_cv/images/TS_86_3_960.png', '/workspace/CZII/proc/yolo11_baseline_cv/images/TS_86_3_970.png', '/workspace/CZII/proc/yolo11_baseline_cv/images/TS_86_3_980.png', '/workspace/CZII/proc/yolo11_baseline_cv/images/TS_86_3_990.png', '/workspace/CZII/proc/yolo11_baseline_cv/images/TS_99_9_0.png', '/workspace/CZII/proc/yolo11_baseline_cv/images/TS_99_9_10.png', '/workspace/CZII/proc/yolo11_baseline_cv/images/TS_99_9_100.png', '/workspace/CZII/proc/yolo11_baseline_cv/images/TS_99_9_1000.png', '/workspace/CZII/proc/yolo11_baseline_cv/images/TS_99_9_1010.png', '/workspace/CZII/proc/yolo11_baseline_cv/images/TS_99_9_1020.png', '/workspace/CZII/proc/yolo11_baseline_cv/images/TS_99_9_1030.png', '/workspace/CZII/proc/yolo11_baseline_cv/images/TS_99_9_1040.png', '/workspace/CZII/proc/yolo11_baseline_cv/images/TS_99_9_1050.png', '/workspace/CZII/proc/yolo11_baseline_cv/images/TS_99_9_1060.png', '/workspace/CZII/proc/yolo11_baseline_cv/images/TS_99_9_1070.png', '/workspace/CZII/proc/yolo11_baseline_cv/images/TS_99_9_1080.png', '/workspace/CZII/proc/yolo11_baseline_cv/images/TS_99_9_1090.png', '/workspace/CZII/proc/yolo11_baseline_cv/images/TS_99_9_110.png', '/workspace/CZII/proc/yolo11_baseline_cv/images/TS_99_9_1100.png', '/workspace/CZII/proc/yolo11_baseline_cv/images/TS_99_9_1110.png', '/workspace/CZII/proc/yolo11_baseline_cv/images/TS_99_9_1120.png', '/workspace/CZII/proc/yolo11_baseline_cv/images/TS_99_9_1130.png', '/workspace/CZII/proc/yolo11_baseline_cv/images/TS_99_9_1140.png', '/workspace/CZII/proc/yolo11_baseline_cv/images/TS_99_9_1150.png', '/workspace/CZII/proc/yolo11_baseline_cv/images/TS_99_9_1160.png', '/workspace/CZII/proc/yolo11_baseline_cv/images/TS_99_9_1170.png', '/workspace/CZII/proc/yolo11_baseline_cv/images/TS_99_9_1180.png', '/workspace/CZII/proc/yolo11_baseline_cv/images/TS_99_9_1190.png', '/workspace/CZII/proc/yolo11_baseline_cv/images/TS_99_9_120.png', '/workspace/CZII/proc/yolo11_baseline_cv/images/TS_99_9_1200.png', '/workspace/CZII/proc/yolo11_baseline_cv/images/TS_99_9_1210.png', '/workspace/CZII/proc/yolo11_baseline_cv/images/TS_99_9_1220.png', '/workspace/CZII/proc/yolo11_baseline_cv/images/TS_99_9_1230.png', '/workspace/CZII/proc/yolo11_baseline_cv/images/TS_99_9_1240.png', '/workspace/CZII/proc/yolo11_baseline_cv/images/TS_99_9_1250.png', '/workspace/CZII/proc/yolo11_baseline_cv/images/TS_99_9_1260.png', '/workspace/CZII/proc/yolo11_baseline_cv/images/TS_99_9_1270.png', '/workspace/CZII/proc/yolo11_baseline_cv/images/TS_99_9_1280.png', '/workspace/CZII/proc/yolo11_baseline_cv/images/TS_99_9_1290.png', '/workspace/CZII/proc/yolo11_baseline_cv/images/TS_99_9_130.png', '/workspace/CZII/proc/yolo11_baseline_cv/images/TS_99_9_1300.png', '/workspace/CZII/proc/yolo11_baseline_cv/images/TS_99_9_1310.png', '/workspace/CZII/proc/yolo11_baseline_cv/images/TS_99_9_1320.png', '/workspace/CZII/proc/yolo11_baseline_cv/images/TS_99_9_1330.png', '/workspace/CZII/proc/yolo11_baseline_cv/images/TS_99_9_1340.png', '/workspace/CZII/proc/yolo11_baseline_cv/images/TS_99_9_1350.png', '/workspace/CZII/proc/yolo11_baseline_cv/images/TS_99_9_1360.png', '/workspace/CZII/proc/yolo11_baseline_cv/images/TS_99_9_1370.png', '/workspace/CZII/proc/yolo11_baseline_cv/images/TS_99_9_1380.png', '/workspace/CZII/proc/yolo11_baseline_cv/images/TS_99_9_1390.png', '/workspace/CZII/proc/yolo11_baseline_cv/images/TS_99_9_140.png', '/workspace/CZII/proc/yolo11_baseline_cv/images/TS_99_9_1400.png', '/workspace/CZII/proc/yolo11_baseline_cv/images/TS_99_9_1410.png', '/workspace/CZII/proc/yolo11_baseline_cv/images/TS_99_9_1420.png', '/workspace/CZII/proc/yolo11_baseline_cv/images/TS_99_9_1430.png', '/workspace/CZII/proc/yolo11_baseline_cv/images/TS_99_9_1440.png', '/workspace/CZII/proc/yolo11_baseline_cv/images/TS_99_9_1450.png', '/workspace/CZII/proc/yolo11_baseline_cv/images/TS_99_9_1460.png', '/workspace/CZII/proc/yolo11_baseline_cv/images/TS_99_9_1470.png', '/workspace/CZII/proc/yolo11_baseline_cv/images/TS_99_9_1480.png', '/workspace/CZII/proc/yolo11_baseline_cv/images/TS_99_9_1490.png', '/workspace/CZII/proc/yolo11_baseline_cv/images/TS_99_9_150.png', '/workspace/CZII/proc/yolo11_baseline_cv/images/TS_99_9_1500.png', '/workspace/CZII/proc/yolo11_baseline_cv/images/TS_99_9_1510.png', '/workspace/CZII/proc/yolo11_baseline_cv/images/TS_99_9_1520.png', '/workspace/CZII/proc/yolo11_baseline_cv/images/TS_99_9_1530.png', '/workspace/CZII/proc/yolo11_baseline_cv/images/TS_99_9_1540.png', '/workspace/CZII/proc/yolo11_baseline_cv/images/TS_99_9_1550.png', '/workspace/CZII/proc/yolo11_baseline_cv/images/TS_99_9_1560.png', '/workspace/CZII/proc/yolo11_baseline_cv/images/TS_99_9_1570.png', '/workspace/CZII/proc/yolo11_baseline_cv/images/TS_99_9_1580.png', '/workspace/CZII/proc/yolo11_baseline_cv/images/TS_99_9_1590.png', '/workspace/CZII/proc/yolo11_baseline_cv/images/TS_99_9_160.png', '/workspace/CZII/proc/yolo11_baseline_cv/images/TS_99_9_1600.png', '/workspace/CZII/proc/yolo11_baseline_cv/images/TS_99_9_1610.png', '/workspace/CZII/proc/yolo11_baseline_cv/images/TS_99_9_1620.png', '/workspace/CZII/proc/yolo11_baseline_cv/images/TS_99_9_1630.png', '/workspace/CZII/proc/yolo11_baseline_cv/images/TS_99_9_1640.png', '/workspace/CZII/proc/yolo11_baseline_cv/images/TS_99_9_1650.png', '/workspace/CZII/proc/yolo11_baseline_cv/images/TS_99_9_1660.png', '/workspace/CZII/proc/yolo11_baseline_cv/images/TS_99_9_1670.png', '/workspace/CZII/proc/yolo11_baseline_cv/images/TS_99_9_1680.png', '/workspace/CZII/proc/yolo11_baseline_cv/images/TS_99_9_1690.png', '/workspace/CZII/proc/yolo11_baseline_cv/images/TS_99_9_170.png', '/workspace/CZII/proc/yolo11_baseline_cv/images/TS_99_9_1700.png', '/workspace/CZII/proc/yolo11_baseline_cv/images/TS_99_9_1710.png', '/workspace/CZII/proc/yolo11_baseline_cv/images/TS_99_9_1720.png', '/workspace/CZII/proc/yolo11_baseline_cv/images/TS_99_9_1730.png', '/workspace/CZII/proc/yolo11_baseline_cv/images/TS_99_9_1740.png', '/workspace/CZII/proc/yolo11_baseline_cv/images/TS_99_9_1750.png', '/workspace/CZII/proc/yolo11_baseline_cv/images/TS_99_9_1760.png', '/workspace/CZII/proc/yolo11_baseline_cv/images/TS_99_9_1770.png', '/workspace/CZII/proc/yolo11_baseline_cv/images/TS_99_9_1780.png', '/workspace/CZII/proc/yolo11_baseline_cv/images/TS_99_9_1790.png', '/workspace/CZII/proc/yolo11_baseline_cv/images/TS_99_9_180.png', '/workspace/CZII/proc/yolo11_baseline_cv/images/TS_99_9_1800.png', '/workspace/CZII/proc/yolo11_baseline_cv/images/TS_99_9_1810.png', '/workspace/CZII/proc/yolo11_baseline_cv/images/TS_99_9_1820.png', '/workspace/CZII/proc/yolo11_baseline_cv/images/TS_99_9_1830.png', '/workspace/CZII/proc/yolo11_baseline_cv/images/TS_99_9_190.png', '/workspace/CZII/proc/yolo11_baseline_cv/images/TS_99_9_20.png', '/workspace/CZII/proc/yolo11_baseline_cv/images/TS_99_9_200.png', '/workspace/CZII/proc/yolo11_baseline_cv/images/TS_99_9_210.png', '/workspace/CZII/proc/yolo11_baseline_cv/images/TS_99_9_220.png', '/workspace/CZII/proc/yolo11_baseline_cv/images/TS_99_9_230.png', '/workspace/CZII/proc/yolo11_baseline_cv/images/TS_99_9_240.png', '/workspace/CZII/proc/yolo11_baseline_cv/images/TS_99_9_250.png', '/workspace/CZII/proc/yolo11_baseline_cv/images/TS_99_9_260.png', '/workspace/CZII/proc/yolo11_baseline_cv/images/TS_99_9_270.png', '/workspace/CZII/proc/yolo11_baseline_cv/images/TS_99_9_280.png', '/workspace/CZII/proc/yolo11_baseline_cv/images/TS_99_9_290.png', '/workspace/CZII/proc/yolo11_baseline_cv/images/TS_99_9_30.png', '/workspace/CZII/proc/yolo11_baseline_cv/images/TS_99_9_300.png', '/workspace/CZII/proc/yolo11_baseline_cv/images/TS_99_9_310.png', '/workspace/CZII/proc/yolo11_baseline_cv/images/TS_99_9_320.png', '/workspace/CZII/proc/yolo11_baseline_cv/images/TS_99_9_330.png', '/workspace/CZII/proc/yolo11_baseline_cv/images/TS_99_9_340.png', '/workspace/CZII/proc/yolo11_baseline_cv/images/TS_99_9_350.png', '/workspace/CZII/proc/yolo11_baseline_cv/images/TS_99_9_360.png', '/workspace/CZII/proc/yolo11_baseline_cv/images/TS_99_9_370.png', '/workspace/CZII/proc/yolo11_baseline_cv/images/TS_99_9_380.png', '/workspace/CZII/proc/yolo11_baseline_cv/images/TS_99_9_390.png', '/workspace/CZII/proc/yolo11_baseline_cv/images/TS_99_9_40.png', '/workspace/CZII/proc/yolo11_baseline_cv/images/TS_99_9_400.png', '/workspace/CZII/proc/yolo11_baseline_cv/images/TS_99_9_410.png', '/workspace/CZII/proc/yolo11_baseline_cv/images/TS_99_9_420.png', '/workspace/CZII/proc/yolo11_baseline_cv/images/TS_99_9_430.png', '/workspace/CZII/proc/yolo11_baseline_cv/images/TS_99_9_440.png', '/workspace/CZII/proc/yolo11_baseline_cv/images/TS_99_9_450.png', '/workspace/CZII/proc/yolo11_baseline_cv/images/TS_99_9_460.png', '/workspace/CZII/proc/yolo11_baseline_cv/images/TS_99_9_470.png', '/workspace/CZII/proc/yolo11_baseline_cv/images/TS_99_9_480.png', '/workspace/CZII/proc/yolo11_baseline_cv/images/TS_99_9_490.png', '/workspace/CZII/proc/yolo11_baseline_cv/images/TS_99_9_50.png', '/workspace/CZII/proc/yolo11_baseline_cv/images/TS_99_9_500.png', '/workspace/CZII/proc/yolo11_baseline_cv/images/TS_99_9_510.png', '/workspace/CZII/proc/yolo11_baseline_cv/images/TS_99_9_520.png', '/workspace/CZII/proc/yolo11_baseline_cv/images/TS_99_9_530.png', '/workspace/CZII/proc/yolo11_baseline_cv/images/TS_99_9_540.png', '/workspace/CZII/proc/yolo11_baseline_cv/images/TS_99_9_550.png', '/workspace/CZII/proc/yolo11_baseline_cv/images/TS_99_9_560.png', '/workspace/CZII/proc/yolo11_baseline_cv/images/TS_99_9_570.png', '/workspace/CZII/proc/yolo11_baseline_cv/images/TS_99_9_580.png', '/workspace/CZII/proc/yolo11_baseline_cv/images/TS_99_9_590.png', '/workspace/CZII/proc/yolo11_baseline_cv/images/TS_99_9_60.png', '/workspace/CZII/proc/yolo11_baseline_cv/images/TS_99_9_600.png', '/workspace/CZII/proc/yolo11_baseline_cv/images/TS_99_9_610.png', '/workspace/CZII/proc/yolo11_baseline_cv/images/TS_99_9_620.png', '/workspace/CZII/proc/yolo11_baseline_cv/images/TS_99_9_630.png', '/workspace/CZII/proc/yolo11_baseline_cv/images/TS_99_9_640.png', '/workspace/CZII/proc/yolo11_baseline_cv/images/TS_99_9_650.png', '/workspace/CZII/proc/yolo11_baseline_cv/images/TS_99_9_660.png', '/workspace/CZII/proc/yolo11_baseline_cv/images/TS_99_9_670.png', '/workspace/CZII/proc/yolo11_baseline_cv/images/TS_99_9_680.png', '/workspace/CZII/proc/yolo11_baseline_cv/images/TS_99_9_690.png', '/workspace/CZII/proc/yolo11_baseline_cv/images/TS_99_9_70.png', '/workspace/CZII/proc/yolo11_baseline_cv/images/TS_99_9_700.png', '/workspace/CZII/proc/yolo11_baseline_cv/images/TS_99_9_710.png', '/workspace/CZII/proc/yolo11_baseline_cv/images/TS_99_9_720.png', '/workspace/CZII/proc/yolo11_baseline_cv/images/TS_99_9_730.png', '/workspace/CZII/proc/yolo11_baseline_cv/images/TS_99_9_740.png', '/workspace/CZII/proc/yolo11_baseline_cv/images/TS_99_9_750.png', '/workspace/CZII/proc/yolo11_baseline_cv/images/TS_99_9_760.png', '/workspace/CZII/proc/yolo11_baseline_cv/images/TS_99_9_770.png', '/workspace/CZII/proc/yolo11_baseline_cv/images/TS_99_9_780.png', '/workspace/CZII/proc/yolo11_baseline_cv/images/TS_99_9_790.png', '/workspace/CZII/proc/yolo11_baseline_cv/images/TS_99_9_80.png', '/workspace/CZII/proc/yolo11_baseline_cv/images/TS_99_9_800.png', '/workspace/CZII/proc/yolo11_baseline_cv/images/TS_99_9_810.png', '/workspace/CZII/proc/yolo11_baseline_cv/images/TS_99_9_820.png', '/workspace/CZII/proc/yolo11_baseline_cv/images/TS_99_9_830.png', '/workspace/CZII/proc/yolo11_baseline_cv/images/TS_99_9_840.png', '/workspace/CZII/proc/yolo11_baseline_cv/images/TS_99_9_850.png', '/workspace/CZII/proc/yolo11_baseline_cv/images/TS_99_9_860.png', '/workspace/CZII/proc/yolo11_baseline_cv/images/TS_99_9_870.png', '/workspace/CZII/proc/yolo11_baseline_cv/images/TS_99_9_880.png', '/workspace/CZII/proc/yolo11_baseline_cv/images/TS_99_9_890.png', '/workspace/CZII/proc/yolo11_baseline_cv/images/TS_99_9_90.png', '/workspace/CZII/proc/yolo11_baseline_cv/images/TS_99_9_900.png', '/workspace/CZII/proc/yolo11_baseline_cv/images/TS_99_9_910.png', '/workspace/CZII/proc/yolo11_baseline_cv/images/TS_99_9_920.png', '/workspace/CZII/proc/yolo11_baseline_cv/images/TS_99_9_930.png', '/workspace/CZII/proc/yolo11_baseline_cv/images/TS_99_9_940.png', '/workspace/CZII/proc/yolo11_baseline_cv/images/TS_99_9_950.png', '/workspace/CZII/proc/yolo11_baseline_cv/images/TS_99_9_960.png', '/workspace/CZII/proc/yolo11_baseline_cv/images/TS_99_9_970.png', '/workspace/CZII/proc/yolo11_baseline_cv/images/TS_99_9_980.png', '/workspace/CZII/proc/yolo11_baseline_cv/images/TS_99_9_990.png']\n",
      "Found 1104 train images.\n",
      "Found 184 val images.\n",
      "Train list saved to ../../proc/yolo11_baseline_cv/train.txt\n",
      "Val list saved to ../../proc/yolo11_baseline_cv/val.txt\n",
      "New https://pypi.org/project/ultralytics/8.3.70 available 😃 Update with 'pip install -U ultralytics'\n",
      "Ultralytics 8.3.53 🚀 Python-3.12.8 torch-2.5.1+cu124 CUDA:0 (NVIDIA RTX A4000, 16102MiB)\n",
      "\u001b[34m\u001b[1mengine/trainer: \u001b[0mtask=detect, mode=train, model=yolo11l.pt, data=../../proc/yolo11_baseline_cv/cv_conf.yaml, epochs=25, time=None, patience=100, batch=16, imgsz=640, save=True, save_period=-1, cache=False, device=0, workers=8, project=None, name=baseline_cv4, exist_ok=False, pretrained=True, optimizer=AdamW, verbose=True, seed=8620, deterministic=True, single_cls=False, rect=False, cos_lr=True, close_mosaic=10, resume=False, amp=True, fraction=1.0, profile=False, freeze=None, multi_scale=False, overlap_mask=True, mask_ratio=4, dropout=0.0, val=True, split=val, save_json=False, save_hybrid=False, conf=None, iou=0.7, max_det=300, half=False, dnn=False, plots=True, source=None, vid_stride=1, stream_buffer=False, visualize=False, augment=False, agnostic_nms=False, classes=None, retina_masks=False, embed=None, show=False, save_frames=False, save_txt=False, save_conf=False, save_crop=False, show_labels=True, show_conf=True, show_boxes=True, line_width=None, format=torchscript, keras=False, optimize=False, int8=False, dynamic=False, simplify=True, opset=None, workspace=None, nms=False, lr0=5e-05, lrf=0.01, momentum=0.937, weight_decay=0.01, warmup_epochs=3, warmup_momentum=0.8, warmup_bias_lr=0.1, box=7.5, cls=0.5, dfl=1.5, pose=12.0, kobj=1.0, nbs=64, hsv_h=0.015, hsv_s=0.7, hsv_v=0.4, degrees=90, translate=0.1, scale=0, shear=5, perspective=0.0, flipud=0.5, fliplr=0.5, bgr=0.0, mosaic=1.0, mixup=0.2, copy_paste=0.25, copy_paste_mode=flip, auto_augment=randaugment, erasing=0.4, crop_fraction=1.0, cfg=None, tracker=botsort.yaml, save_dir=/workspace/CZII/runs/detect/baseline_cv4\n",
      "Overriding model.yaml nc=80 with nc=6\n",
      "\n",
      "                   from  n    params  module                                       arguments                     \n",
      "  0                  -1  1      1856  ultralytics.nn.modules.conv.Conv             [3, 64, 3, 2]                 \n",
      "  1                  -1  1     73984  ultralytics.nn.modules.conv.Conv             [64, 128, 3, 2]               \n",
      "  2                  -1  2    173824  ultralytics.nn.modules.block.C3k2            [128, 256, 2, True, 0.25]     \n",
      "  3                  -1  1    590336  ultralytics.nn.modules.conv.Conv             [256, 256, 3, 2]              \n",
      "  4                  -1  2    691712  ultralytics.nn.modules.block.C3k2            [256, 512, 2, True, 0.25]     \n",
      "  5                  -1  1   2360320  ultralytics.nn.modules.conv.Conv             [512, 512, 3, 2]              \n",
      "  6                  -1  2   2234368  ultralytics.nn.modules.block.C3k2            [512, 512, 2, True]           \n",
      "  7                  -1  1   2360320  ultralytics.nn.modules.conv.Conv             [512, 512, 3, 2]              \n",
      "  8                  -1  2   2234368  ultralytics.nn.modules.block.C3k2            [512, 512, 2, True]           \n",
      "  9                  -1  1    656896  ultralytics.nn.modules.block.SPPF            [512, 512, 5]                 \n",
      " 10                  -1  2   1455616  ultralytics.nn.modules.block.C2PSA           [512, 512, 2]                 \n",
      " 11                  -1  1         0  torch.nn.modules.upsampling.Upsample         [None, 2, 'nearest']          \n",
      " 12             [-1, 6]  1         0  ultralytics.nn.modules.conv.Concat           [1]                           \n",
      " 13                  -1  2   2496512  ultralytics.nn.modules.block.C3k2            [1024, 512, 2, True]          \n",
      " 14                  -1  1         0  torch.nn.modules.upsampling.Upsample         [None, 2, 'nearest']          \n",
      " 15             [-1, 4]  1         0  ultralytics.nn.modules.conv.Concat           [1]                           \n",
      " 16                  -1  2    756736  ultralytics.nn.modules.block.C3k2            [1024, 256, 2, True]          \n",
      " 17                  -1  1    590336  ultralytics.nn.modules.conv.Conv             [256, 256, 3, 2]              \n",
      " 18            [-1, 13]  1         0  ultralytics.nn.modules.conv.Concat           [1]                           \n",
      " 19                  -1  2   2365440  ultralytics.nn.modules.block.C3k2            [768, 512, 2, True]           \n",
      " 20                  -1  1   2360320  ultralytics.nn.modules.conv.Conv             [512, 512, 3, 2]              \n",
      " 21            [-1, 10]  1         0  ultralytics.nn.modules.conv.Concat           [1]                           \n",
      " 22                  -1  2   2496512  ultralytics.nn.modules.block.C3k2            [1024, 512, 2, True]          \n",
      " 23        [16, 19, 22]  1   1415650  ultralytics.nn.modules.head.Detect           [6, [256, 512, 512]]          \n",
      "YOLO11l summary: 631 layers, 25,315,106 parameters, 25,315,090 gradients, 87.3 GFLOPs\n",
      "\n",
      "Transferred 1009/1015 items from pretrained weights\n",
      "WARNING ⚠️ ClearML installed but not initialized correctly, not logging this run. It seems ClearML is not configured on this machine!\n",
      "To get started with ClearML, setup your own 'clearml-server' or create a free account at https://app.clear.ml\n",
      "Setup instructions can be found here: https://clear.ml/docs\n",
      "\u001b[34m\u001b[1mTensorBoard: \u001b[0mStart with 'tensorboard --logdir /workspace/CZII/runs/detect/baseline_cv4', view at http://localhost:6006/\n",
      "Freezing layer 'model.23.dfl.conv.weight'\n",
      "\u001b[34m\u001b[1mAMP: \u001b[0mrunning Automatic Mixed Precision (AMP) checks...\n",
      "\u001b[34m\u001b[1mAMP: \u001b[0mchecks passed ✅\n"
     ]
    },
    {
     "name": "stderr",
     "output_type": "stream",
     "text": [
      "\u001b[34m\u001b[1mtrain: \u001b[0mScanning /workspace/CZII/proc/yolo11_baseline_cv/labels... 1104 images, 278 backgrounds, 0 corrupt: 100%|██████████| 1104/1104 [00:05<00:00, 193.92it/s]\n"
     ]
    },
    {
     "name": "stdout",
     "output_type": "stream",
     "text": [
      "\u001b[34m\u001b[1mtrain: \u001b[0mNew cache created: /workspace/CZII/proc/yolo11_baseline_cv/labels.cache\n",
      "\u001b[34m\u001b[1malbumentations: \u001b[0mBlur(p=0.01, blur_limit=(3, 7)), MedianBlur(p=0.01, blur_limit=(3, 7)), ToGray(p=0.01, num_output_channels=3, method='weighted_average'), CLAHE(p=0.01, clip_limit=(1.0, 4.0), tile_grid_size=(8, 8))\n"
     ]
    },
    {
     "name": "stderr",
     "output_type": "stream",
     "text": [
      "/workspace/CZII/.venv/lib/python3.12/site-packages/ultralytics/data/augment.py:1850: UserWarning: Argument 'quality_lower' is not valid and will be ignored.\n",
      "  A.ImageCompression(quality_lower=75, p=0.0),\n",
      "\u001b[34m\u001b[1mval: \u001b[0mScanning /workspace/CZII/proc/yolo11_baseline_cv/labels... 184 images, 24 backgrounds, 0 corrupt: 100%|██████████| 184/184 [00:01<00:00, 173.11it/s]"
     ]
    },
    {
     "name": "stdout",
     "output_type": "stream",
     "text": [
      "\u001b[34m\u001b[1mval: \u001b[0mNew cache created: /workspace/CZII/proc/yolo11_baseline_cv/labels.cache\n"
     ]
    },
    {
     "name": "stderr",
     "output_type": "stream",
     "text": [
      "\n"
     ]
    },
    {
     "name": "stdout",
     "output_type": "stream",
     "text": [
      "Plotting labels to /workspace/CZII/runs/detect/baseline_cv4/labels.jpg... \n",
      "\u001b[34m\u001b[1moptimizer:\u001b[0m AdamW(lr=5e-05, momentum=0.937) with parameter groups 167 weight(decay=0.0), 174 weight(decay=0.01), 173 bias(decay=0.0)\n",
      "\u001b[34m\u001b[1mMLflow: \u001b[0mlogging run_id(ef52b3f5748f443ebd2050124cea0c63) to /workspace/CZII/runs/mlflow\n",
      "\u001b[34m\u001b[1mMLflow: \u001b[0mview at http://127.0.0.1:5000 with 'mlflow server --backend-store-uri /workspace/CZII/runs/mlflow'\n",
      "\u001b[34m\u001b[1mMLflow: \u001b[0mdisable with 'yolo settings mlflow=False'\n",
      "\u001b[34m\u001b[1mTensorBoard: \u001b[0mmodel graph visualization added ✅\n",
      "Image sizes 640 train, 640 val\n",
      "Using 8 dataloader workers\n",
      "Logging results to \u001b[1m/workspace/CZII/runs/detect/baseline_cv4\u001b[0m\n",
      "Starting training for 25 epochs...\n",
      "\n",
      "      Epoch    GPU_mem   box_loss   cls_loss   dfl_loss  Instances       Size\n"
     ]
    },
    {
     "name": "stderr",
     "output_type": "stream",
     "text": [
      "       1/25      11.6G      1.956      2.358      1.433        529        640: 100%|██████████| 69/69 [00:30<00:00,  2.24it/s]\n",
      "                 Class     Images  Instances      Box(P          R      mAP50  mAP50-95): 100%|██████████| 6/6 [00:05<00:00,  1.07it/s]"
     ]
    },
    {
     "name": "stdout",
     "output_type": "stream",
     "text": [
      "                   all        184       2674      0.357      0.444      0.333      0.167\n"
     ]
    },
    {
     "name": "stderr",
     "output_type": "stream",
     "text": [
      "\n"
     ]
    },
    {
     "name": "stdout",
     "output_type": "stream",
     "text": [
      "\n",
      "      Epoch    GPU_mem   box_loss   cls_loss   dfl_loss  Instances       Size\n"
     ]
    },
    {
     "name": "stderr",
     "output_type": "stream",
     "text": [
      "       2/25      11.8G      1.362      1.417      1.108        491        640: 100%|██████████| 69/69 [00:29<00:00,  2.32it/s]\n",
      "                 Class     Images  Instances      Box(P          R      mAP50  mAP50-95): 100%|██████████| 6/6 [00:02<00:00,  2.70it/s]"
     ]
    },
    {
     "name": "stdout",
     "output_type": "stream",
     "text": [
      "                   all        184       2674      0.521      0.535      0.506      0.232\n"
     ]
    },
    {
     "name": "stderr",
     "output_type": "stream",
     "text": [
      "\n"
     ]
    },
    {
     "name": "stdout",
     "output_type": "stream",
     "text": [
      "\n",
      "      Epoch    GPU_mem   box_loss   cls_loss   dfl_loss  Instances       Size\n"
     ]
    },
    {
     "name": "stderr",
     "output_type": "stream",
     "text": [
      "       3/25      11.6G      1.256      1.317      1.067        261        640: 100%|██████████| 69/69 [00:28<00:00,  2.43it/s]\n",
      "                 Class     Images  Instances      Box(P          R      mAP50  mAP50-95): 100%|██████████| 6/6 [00:02<00:00,  2.50it/s]"
     ]
    },
    {
     "name": "stdout",
     "output_type": "stream",
     "text": [
      "                   all        184       2674      0.525      0.557      0.541      0.291\n"
     ]
    },
    {
     "name": "stderr",
     "output_type": "stream",
     "text": [
      "\n"
     ]
    },
    {
     "name": "stdout",
     "output_type": "stream",
     "text": [
      "\n",
      "      Epoch    GPU_mem   box_loss   cls_loss   dfl_loss  Instances       Size\n"
     ]
    },
    {
     "name": "stderr",
     "output_type": "stream",
     "text": [
      "       4/25      11.6G       1.25      1.278       1.06        459        640: 100%|██████████| 69/69 [00:28<00:00,  2.45it/s]\n",
      "                 Class     Images  Instances      Box(P          R      mAP50  mAP50-95): 100%|██████████| 6/6 [00:02<00:00,  2.85it/s]"
     ]
    },
    {
     "name": "stdout",
     "output_type": "stream",
     "text": [
      "                   all        184       2674      0.497       0.58      0.553      0.349\n"
     ]
    },
    {
     "name": "stderr",
     "output_type": "stream",
     "text": [
      "\n"
     ]
    },
    {
     "name": "stdout",
     "output_type": "stream",
     "text": [
      "\n",
      "      Epoch    GPU_mem   box_loss   cls_loss   dfl_loss  Instances       Size\n"
     ]
    },
    {
     "name": "stderr",
     "output_type": "stream",
     "text": [
      "       5/25      11.6G      1.224      1.212       1.05        537        640: 100%|██████████| 69/69 [00:28<00:00,  2.38it/s]\n",
      "                 Class     Images  Instances      Box(P          R      mAP50  mAP50-95): 100%|██████████| 6/6 [00:02<00:00,  2.85it/s]"
     ]
    },
    {
     "name": "stdout",
     "output_type": "stream",
     "text": [
      "                   all        184       2674      0.529      0.601      0.569      0.371\n"
     ]
    },
    {
     "name": "stderr",
     "output_type": "stream",
     "text": [
      "\n"
     ]
    },
    {
     "name": "stdout",
     "output_type": "stream",
     "text": [
      "\n",
      "      Epoch    GPU_mem   box_loss   cls_loss   dfl_loss  Instances       Size\n"
     ]
    },
    {
     "name": "stderr",
     "output_type": "stream",
     "text": [
      "       6/25      11.6G      1.194      1.221      1.042        476        640: 100%|██████████| 69/69 [00:27<00:00,  2.48it/s]\n",
      "                 Class     Images  Instances      Box(P          R      mAP50  mAP50-95): 100%|██████████| 6/6 [00:02<00:00,  2.51it/s]"
     ]
    },
    {
     "name": "stdout",
     "output_type": "stream",
     "text": [
      "                   all        184       2674      0.535      0.596      0.571      0.381\n"
     ]
    },
    {
     "name": "stderr",
     "output_type": "stream",
     "text": [
      "\n"
     ]
    },
    {
     "name": "stdout",
     "output_type": "stream",
     "text": [
      "\n",
      "      Epoch    GPU_mem   box_loss   cls_loss   dfl_loss  Instances       Size\n"
     ]
    },
    {
     "name": "stderr",
     "output_type": "stream",
     "text": [
      "       7/25      11.6G      1.155      1.187      1.026        222        640: 100%|██████████| 69/69 [00:28<00:00,  2.42it/s]\n",
      "                 Class     Images  Instances      Box(P          R      mAP50  mAP50-95): 100%|██████████| 6/6 [00:02<00:00,  2.91it/s]"
     ]
    },
    {
     "name": "stdout",
     "output_type": "stream",
     "text": [
      "                   all        184       2674      0.519      0.562      0.565       0.38\n"
     ]
    },
    {
     "name": "stderr",
     "output_type": "stream",
     "text": [
      "\n"
     ]
    },
    {
     "name": "stdout",
     "output_type": "stream",
     "text": [
      "\n",
      "      Epoch    GPU_mem   box_loss   cls_loss   dfl_loss  Instances       Size\n"
     ]
    },
    {
     "name": "stderr",
     "output_type": "stream",
     "text": [
      "       8/25      11.6G      1.161      1.164      1.026        315        640: 100%|██████████| 69/69 [00:28<00:00,  2.41it/s]\n",
      "                 Class     Images  Instances      Box(P          R      mAP50  mAP50-95): 100%|██████████| 6/6 [00:02<00:00,  2.55it/s]"
     ]
    },
    {
     "name": "stdout",
     "output_type": "stream",
     "text": [
      "                   all        184       2674      0.547      0.593      0.582        0.4\n"
     ]
    },
    {
     "name": "stderr",
     "output_type": "stream",
     "text": [
      "\n"
     ]
    },
    {
     "name": "stdout",
     "output_type": "stream",
     "text": [
      "\n",
      "      Epoch    GPU_mem   box_loss   cls_loss   dfl_loss  Instances       Size\n"
     ]
    },
    {
     "name": "stderr",
     "output_type": "stream",
     "text": [
      "       9/25      11.7G      1.151      1.165      1.021        384        640: 100%|██████████| 69/69 [00:27<00:00,  2.47it/s]\n",
      "                 Class     Images  Instances      Box(P          R      mAP50  mAP50-95): 100%|██████████| 6/6 [00:02<00:00,  2.83it/s]"
     ]
    },
    {
     "name": "stdout",
     "output_type": "stream",
     "text": [
      "                   all        184       2674      0.469       0.59      0.568      0.362\n"
     ]
    },
    {
     "name": "stderr",
     "output_type": "stream",
     "text": [
      "\n"
     ]
    },
    {
     "name": "stdout",
     "output_type": "stream",
     "text": [
      "\n",
      "      Epoch    GPU_mem   box_loss   cls_loss   dfl_loss  Instances       Size\n"
     ]
    },
    {
     "name": "stderr",
     "output_type": "stream",
     "text": [
      "      10/25      11.8G      1.109      1.122       1.01        386        640: 100%|██████████| 69/69 [00:29<00:00,  2.37it/s]\n",
      "                 Class     Images  Instances      Box(P          R      mAP50  mAP50-95): 100%|██████████| 6/6 [00:02<00:00,  2.83it/s]"
     ]
    },
    {
     "name": "stdout",
     "output_type": "stream",
     "text": [
      "                   all        184       2674      0.529       0.61      0.576      0.394\n"
     ]
    },
    {
     "name": "stderr",
     "output_type": "stream",
     "text": [
      "\n"
     ]
    },
    {
     "name": "stdout",
     "output_type": "stream",
     "text": [
      "\n",
      "      Epoch    GPU_mem   box_loss   cls_loss   dfl_loss  Instances       Size\n"
     ]
    },
    {
     "name": "stderr",
     "output_type": "stream",
     "text": [
      "      11/25      11.6G      1.099       1.12      1.007        469        640: 100%|██████████| 69/69 [00:28<00:00,  2.44it/s]\n",
      "                 Class     Images  Instances      Box(P          R      mAP50  mAP50-95): 100%|██████████| 6/6 [00:02<00:00,  2.38it/s]"
     ]
    },
    {
     "name": "stdout",
     "output_type": "stream",
     "text": [
      "                   all        184       2674      0.548      0.606       0.59      0.395\n"
     ]
    },
    {
     "name": "stderr",
     "output_type": "stream",
     "text": [
      "\n"
     ]
    },
    {
     "name": "stdout",
     "output_type": "stream",
     "text": [
      "\n",
      "      Epoch    GPU_mem   box_loss   cls_loss   dfl_loss  Instances       Size\n"
     ]
    },
    {
     "name": "stderr",
     "output_type": "stream",
     "text": [
      "      12/25      11.6G      1.106      1.134      1.005        423        640: 100%|██████████| 69/69 [00:28<00:00,  2.42it/s]\n",
      "                 Class     Images  Instances      Box(P          R      mAP50  mAP50-95): 100%|██████████| 6/6 [00:02<00:00,  2.84it/s]"
     ]
    },
    {
     "name": "stdout",
     "output_type": "stream",
     "text": [
      "                   all        184       2674       0.52      0.608      0.582      0.394\n"
     ]
    },
    {
     "name": "stderr",
     "output_type": "stream",
     "text": [
      "\n"
     ]
    },
    {
     "name": "stdout",
     "output_type": "stream",
     "text": [
      "\n",
      "      Epoch    GPU_mem   box_loss   cls_loss   dfl_loss  Instances       Size\n"
     ]
    },
    {
     "name": "stderr",
     "output_type": "stream",
     "text": [
      "      13/25      11.7G      1.111      1.102      1.006        612        640: 100%|██████████| 69/69 [00:28<00:00,  2.39it/s]\n",
      "                 Class     Images  Instances      Box(P          R      mAP50  mAP50-95): 100%|██████████| 6/6 [00:02<00:00,  2.79it/s]"
     ]
    },
    {
     "name": "stdout",
     "output_type": "stream",
     "text": [
      "                   all        184       2674      0.562      0.592      0.589      0.417\n"
     ]
    },
    {
     "name": "stderr",
     "output_type": "stream",
     "text": [
      "\n"
     ]
    },
    {
     "name": "stdout",
     "output_type": "stream",
     "text": [
      "\n",
      "      Epoch    GPU_mem   box_loss   cls_loss   dfl_loss  Instances       Size\n"
     ]
    },
    {
     "name": "stderr",
     "output_type": "stream",
     "text": [
      "      14/25      11.6G       1.08      1.096     0.9999        480        640: 100%|██████████| 69/69 [00:29<00:00,  2.35it/s]\n",
      "                 Class     Images  Instances      Box(P          R      mAP50  mAP50-95): 100%|██████████| 6/6 [00:02<00:00,  2.82it/s]"
     ]
    },
    {
     "name": "stdout",
     "output_type": "stream",
     "text": [
      "                   all        184       2674      0.555        0.6      0.587      0.395\n"
     ]
    },
    {
     "name": "stderr",
     "output_type": "stream",
     "text": [
      "\n"
     ]
    },
    {
     "name": "stdout",
     "output_type": "stream",
     "text": [
      "\n",
      "      Epoch    GPU_mem   box_loss   cls_loss   dfl_loss  Instances       Size\n"
     ]
    },
    {
     "name": "stderr",
     "output_type": "stream",
     "text": [
      "      15/25      11.7G       1.08       1.09     0.9971        332        640: 100%|██████████| 69/69 [00:28<00:00,  2.40it/s]\n",
      "                 Class     Images  Instances      Box(P          R      mAP50  mAP50-95): 100%|██████████| 6/6 [00:02<00:00,  2.18it/s]"
     ]
    },
    {
     "name": "stdout",
     "output_type": "stream",
     "text": [
      "                   all        184       2674      0.546      0.597      0.585      0.417\n"
     ]
    },
    {
     "name": "stderr",
     "output_type": "stream",
     "text": [
      "\n"
     ]
    },
    {
     "name": "stdout",
     "output_type": "stream",
     "text": [
      "Closing dataloader mosaic\n",
      "\u001b[34m\u001b[1malbumentations: \u001b[0mBlur(p=0.01, blur_limit=(3, 7)), MedianBlur(p=0.01, blur_limit=(3, 7)), ToGray(p=0.01, num_output_channels=3, method='weighted_average'), CLAHE(p=0.01, clip_limit=(1.0, 4.0), tile_grid_size=(8, 8))\n"
     ]
    },
    {
     "name": "stderr",
     "output_type": "stream",
     "text": [
      "/workspace/CZII/.venv/lib/python3.12/site-packages/ultralytics/data/augment.py:1850: UserWarning: Argument 'quality_lower' is not valid and will be ignored.\n",
      "  A.ImageCompression(quality_lower=75, p=0.0),\n"
     ]
    },
    {
     "name": "stdout",
     "output_type": "stream",
     "text": [
      "\n",
      "      Epoch    GPU_mem   box_loss   cls_loss   dfl_loss  Instances       Size\n"
     ]
    },
    {
     "name": "stderr",
     "output_type": "stream",
     "text": [
      "      16/25      11.5G     0.9796      1.032     0.9541        326        640: 100%|██████████| 69/69 [00:31<00:00,  2.20it/s]\n",
      "                 Class     Images  Instances      Box(P          R      mAP50  mAP50-95): 100%|██████████| 6/6 [00:02<00:00,  2.49it/s]"
     ]
    },
    {
     "name": "stdout",
     "output_type": "stream",
     "text": [
      "                   all        184       2674      0.554      0.613      0.594      0.414\n"
     ]
    },
    {
     "name": "stderr",
     "output_type": "stream",
     "text": [
      "\n"
     ]
    },
    {
     "name": "stdout",
     "output_type": "stream",
     "text": [
      "\n",
      "      Epoch    GPU_mem   box_loss   cls_loss   dfl_loss  Instances       Size\n"
     ]
    },
    {
     "name": "stderr",
     "output_type": "stream",
     "text": [
      "      17/25      11.5G     0.9636      1.003     0.9501        363        640: 100%|██████████| 69/69 [00:28<00:00,  2.45it/s]\n",
      "                 Class     Images  Instances      Box(P          R      mAP50  mAP50-95): 100%|██████████| 6/6 [00:02<00:00,  2.69it/s]"
     ]
    },
    {
     "name": "stdout",
     "output_type": "stream",
     "text": [
      "                   all        184       2674      0.585      0.592        0.6      0.419\n"
     ]
    },
    {
     "name": "stderr",
     "output_type": "stream",
     "text": [
      "\n"
     ]
    },
    {
     "name": "stdout",
     "output_type": "stream",
     "text": [
      "\n",
      "      Epoch    GPU_mem   box_loss   cls_loss   dfl_loss  Instances       Size\n"
     ]
    },
    {
     "name": "stderr",
     "output_type": "stream",
     "text": [
      "      18/25      11.6G      0.958     0.9993      0.947        438        640: 100%|██████████| 69/69 [00:27<00:00,  2.52it/s]\n",
      "                 Class     Images  Instances      Box(P          R      mAP50  mAP50-95): 100%|██████████| 6/6 [00:02<00:00,  2.88it/s]"
     ]
    },
    {
     "name": "stdout",
     "output_type": "stream",
     "text": [
      "                   all        184       2674      0.603      0.606      0.604      0.422\n"
     ]
    },
    {
     "name": "stderr",
     "output_type": "stream",
     "text": [
      "\n"
     ]
    },
    {
     "name": "stdout",
     "output_type": "stream",
     "text": [
      "\n",
      "      Epoch    GPU_mem   box_loss   cls_loss   dfl_loss  Instances       Size\n"
     ]
    },
    {
     "name": "stderr",
     "output_type": "stream",
     "text": [
      "      19/25      11.6G     0.9532     0.9753     0.9469        260        640: 100%|██████████| 69/69 [00:28<00:00,  2.46it/s]\n",
      "                 Class     Images  Instances      Box(P          R      mAP50  mAP50-95): 100%|██████████| 6/6 [00:02<00:00,  2.86it/s]"
     ]
    },
    {
     "name": "stdout",
     "output_type": "stream",
     "text": [
      "                   all        184       2674      0.601      0.604      0.594      0.418\n"
     ]
    },
    {
     "name": "stderr",
     "output_type": "stream",
     "text": [
      "\n"
     ]
    },
    {
     "name": "stdout",
     "output_type": "stream",
     "text": [
      "\n",
      "      Epoch    GPU_mem   box_loss   cls_loss   dfl_loss  Instances       Size\n"
     ]
    },
    {
     "name": "stderr",
     "output_type": "stream",
     "text": [
      "      20/25      11.6G     0.9385     0.9701     0.9421        363        640: 100%|██████████| 69/69 [00:27<00:00,  2.47it/s]\n",
      "                 Class     Images  Instances      Box(P          R      mAP50  mAP50-95): 100%|██████████| 6/6 [00:02<00:00,  2.73it/s]"
     ]
    },
    {
     "name": "stdout",
     "output_type": "stream",
     "text": [
      "                   all        184       2674      0.567        0.6      0.588      0.415\n"
     ]
    },
    {
     "name": "stderr",
     "output_type": "stream",
     "text": [
      "\n"
     ]
    },
    {
     "name": "stdout",
     "output_type": "stream",
     "text": [
      "\n",
      "      Epoch    GPU_mem   box_loss   cls_loss   dfl_loss  Instances       Size\n"
     ]
    },
    {
     "name": "stderr",
     "output_type": "stream",
     "text": [
      "      21/25      11.6G     0.9341     0.9542     0.9432        331        640: 100%|██████████| 69/69 [00:27<00:00,  2.52it/s]\n",
      "                 Class     Images  Instances      Box(P          R      mAP50  mAP50-95): 100%|██████████| 6/6 [00:02<00:00,  2.88it/s]"
     ]
    },
    {
     "name": "stdout",
     "output_type": "stream",
     "text": [
      "                   all        184       2674      0.571      0.613      0.592      0.418\n"
     ]
    },
    {
     "name": "stderr",
     "output_type": "stream",
     "text": [
      "\n"
     ]
    },
    {
     "name": "stdout",
     "output_type": "stream",
     "text": [
      "\n",
      "      Epoch    GPU_mem   box_loss   cls_loss   dfl_loss  Instances       Size\n"
     ]
    },
    {
     "name": "stderr",
     "output_type": "stream",
     "text": [
      "      22/25      11.7G     0.9308     0.9532     0.9387        365        640: 100%|██████████| 69/69 [00:27<00:00,  2.49it/s]\n",
      "                 Class     Images  Instances      Box(P          R      mAP50  mAP50-95): 100%|██████████| 6/6 [00:02<00:00,  2.89it/s]"
     ]
    },
    {
     "name": "stdout",
     "output_type": "stream",
     "text": [
      "                   all        184       2674      0.571       0.61       0.59       0.42\n"
     ]
    },
    {
     "name": "stderr",
     "output_type": "stream",
     "text": [
      "\n"
     ]
    },
    {
     "name": "stdout",
     "output_type": "stream",
     "text": [
      "\n",
      "      Epoch    GPU_mem   box_loss   cls_loss   dfl_loss  Instances       Size\n"
     ]
    },
    {
     "name": "stderr",
     "output_type": "stream",
     "text": [
      "      23/25      11.6G     0.9236     0.9437      0.937        226        640: 100%|██████████| 69/69 [00:27<00:00,  2.49it/s]\n",
      "                 Class     Images  Instances      Box(P          R      mAP50  mAP50-95): 100%|██████████| 6/6 [00:02<00:00,  2.69it/s]"
     ]
    },
    {
     "name": "stdout",
     "output_type": "stream",
     "text": [
      "                   all        184       2674      0.559      0.612      0.589      0.418\n"
     ]
    },
    {
     "name": "stderr",
     "output_type": "stream",
     "text": [
      "\n"
     ]
    },
    {
     "name": "stdout",
     "output_type": "stream",
     "text": [
      "\n",
      "      Epoch    GPU_mem   box_loss   cls_loss   dfl_loss  Instances       Size\n"
     ]
    },
    {
     "name": "stderr",
     "output_type": "stream",
     "text": [
      "      24/25      11.5G     0.9304     0.9441     0.9413        214        640: 100%|██████████| 69/69 [00:27<00:00,  2.52it/s]\n",
      "                 Class     Images  Instances      Box(P          R      mAP50  mAP50-95): 100%|██████████| 6/6 [00:02<00:00,  2.89it/s]"
     ]
    },
    {
     "name": "stdout",
     "output_type": "stream",
     "text": [
      "                   all        184       2674      0.555      0.611       0.59      0.419\n"
     ]
    },
    {
     "name": "stderr",
     "output_type": "stream",
     "text": [
      "\n"
     ]
    },
    {
     "name": "stdout",
     "output_type": "stream",
     "text": [
      "\n",
      "      Epoch    GPU_mem   box_loss   cls_loss   dfl_loss  Instances       Size\n"
     ]
    },
    {
     "name": "stderr",
     "output_type": "stream",
     "text": [
      "      25/25      11.5G      0.926     0.9384     0.9386        395        640: 100%|██████████| 69/69 [00:27<00:00,  2.50it/s]\n",
      "                 Class     Images  Instances      Box(P          R      mAP50  mAP50-95): 100%|██████████| 6/6 [00:02<00:00,  2.88it/s]"
     ]
    },
    {
     "name": "stdout",
     "output_type": "stream",
     "text": [
      "                   all        184       2674      0.562      0.616      0.591      0.419\n"
     ]
    },
    {
     "name": "stderr",
     "output_type": "stream",
     "text": [
      "\n"
     ]
    },
    {
     "name": "stdout",
     "output_type": "stream",
     "text": [
      "\n",
      "25 epochs completed in 0.258 hours.\n",
      "Optimizer stripped from /workspace/CZII/runs/detect/baseline_cv4/weights/last.pt, 51.2MB\n",
      "Optimizer stripped from /workspace/CZII/runs/detect/baseline_cv4/weights/best.pt, 51.2MB\n",
      "\n",
      "Validating /workspace/CZII/runs/detect/baseline_cv4/weights/best.pt...\n",
      "Ultralytics 8.3.53 🚀 Python-3.12.8 torch-2.5.1+cu124 CUDA:0 (NVIDIA RTX A4000, 16102MiB)\n",
      "YOLO11l summary (fused): 464 layers, 25,283,938 parameters, 0 gradients, 86.6 GFLOPs\n"
     ]
    },
    {
     "name": "stderr",
     "output_type": "stream",
     "text": [
      "                 Class     Images  Instances      Box(P          R      mAP50  mAP50-95): 100%|██████████| 6/6 [00:06<00:00,  1.14s/it]\n"
     ]
    },
    {
     "name": "stdout",
     "output_type": "stream",
     "text": [
      "                   all        184       2674      0.605      0.606      0.604      0.422\n",
      "          apo-ferritin        149        451      0.646      0.713      0.693      0.495\n",
      "    beta-galactosidase         84        187      0.416      0.164      0.191      0.122\n",
      "              ribosome        106        667      0.833      0.853      0.916      0.568\n",
      "         thyroglobulin        144        875      0.346      0.377      0.272      0.171\n",
      "   virus-like-particle        127        494      0.783      0.921      0.949      0.752\n",
      "Speed: 0.2ms preprocess, 11.6ms inference, 0.0ms loss, 9.5ms postprocess per image\n",
      "Results saved to \u001b[1m/workspace/CZII/runs/detect/baseline_cv4\u001b[0m\n",
      "\u001b[34m\u001b[1mMLflow: \u001b[0mresults logged to /workspace/CZII/runs/mlflow\n",
      "\u001b[34m\u001b[1mMLflow: \u001b[0mdisable with 'yolo settings mlflow=False'\n"
     ]
    }
   ],
   "source": [
    "for cv_name in LIST_CV:\n",
    "    print(\"=\"*100)\n",
    "    print(f\"Processing {cv_name}...\")\n",
    "    extract_train_val_paths(cv_name)\n",
    "\n",
    "    # Load a pretrained model\n",
    "    model = YOLO(\"yolo11l.pt\")  # load a pretrained model (recommended for training)\n",
    "\n",
    "    # Train the model\n",
    "    _ = model.train(\n",
    "        data=f\"{PROC}/cv_conf.yaml\",\n",
    "        name=EXP_NAME,\n",
    "        epochs=25,\n",
    "        warmup_epochs=3,\n",
    "        optimizer='AdamW',\n",
    "        cos_lr=True,\n",
    "        lr0=5e-5,\n",
    "        lrf=0.01,\n",
    "        imgsz=640,\n",
    "        device=\"0\",\n",
    "        weight_decay=0.01,\n",
    "        batch=16,\n",
    "        scale=0,\n",
    "        flipud=0.5,\n",
    "        fliplr=0.5,\n",
    "        degrees=90,\n",
    "        shear=5,\n",
    "        mixup=0.2,\n",
    "        copy_paste=0.25,\n",
    "        seed=8620, # (｡•◡•｡)\n",
    "    )"
   ]
  },
  {
   "cell_type": "code",
   "execution_count": 7,
   "id": "262d510a",
   "metadata": {
    "execution": {
     "iopub.execute_input": "2024-12-07T10:19:23.229983Z",
     "iopub.status.busy": "2024-12-07T10:19:23.229139Z",
     "iopub.status.idle": "2024-12-07T10:19:39.696921Z",
     "shell.execute_reply": "2024-12-07T10:19:39.695688Z"
    },
    "papermill": {
     "duration": 16.737488,
     "end_time": "2024-12-07T10:19:39.699039",
     "exception": false,
     "start_time": "2024-12-07T10:19:22.961551",
     "status": "completed"
    },
    "tags": []
   },
   "outputs": [],
   "source": [
    "# model = YOLO(f\"../../runs/detect/{EXP_NAME}/weights/best.pt\")\n",
    "# metrics = model.val(data=f\"{PROC}/czii_conf.yaml\", imgsz=640, batch=16, conf=0.25, iou=0.6, device=\"0\", save_json=True)  # no arguments needed, dataset and settings remembered\n",
    "# print(metrics.box.map)  # map50-95\n",
    "# print(metrics.box.map50)  # map50\n",
    "# print(metrics.box.map75)  # map75\n",
    "# print(metrics.box.maps)"
   ]
  },
  {
   "cell_type": "markdown",
   "id": "b6f11fd6",
   "metadata": {
    "papermill": {
     "duration": 0.243765,
     "end_time": "2024-12-07T10:19:40.172597",
     "exception": false,
     "start_time": "2024-12-07T10:19:39.928832",
     "status": "completed"
    },
    "tags": []
   },
   "source": [
    "# Prediction example"
   ]
  },
  {
   "cell_type": "code",
   "execution_count": 8,
   "id": "0a058b37",
   "metadata": {},
   "outputs": [
    {
     "data": {
      "text/html": [
       "<div>\n",
       "<style scoped>\n",
       "    .dataframe tbody tr th:only-of-type {\n",
       "        vertical-align: middle;\n",
       "    }\n",
       "\n",
       "    .dataframe tbody tr th {\n",
       "        vertical-align: top;\n",
       "    }\n",
       "\n",
       "    .dataframe thead th {\n",
       "        text-align: right;\n",
       "    }\n",
       "</style>\n",
       "<table border=\"1\" class=\"dataframe\">\n",
       "  <thead>\n",
       "    <tr style=\"text-align: right;\">\n",
       "      <th></th>\n",
       "      <th>metrics/precision(B)</th>\n",
       "      <th>metrics/recall(B)</th>\n",
       "      <th>metrics/mAP50(B)</th>\n",
       "      <th>metrics/mAP50-95(B)</th>\n",
       "    </tr>\n",
       "  </thead>\n",
       "  <tbody>\n",
       "    <tr>\n",
       "      <th>val_TS_5_4</th>\n",
       "      <td>0.591</td>\n",
       "      <td>0.578</td>\n",
       "      <td>0.601</td>\n",
       "      <td>0.410</td>\n",
       "    </tr>\n",
       "    <tr>\n",
       "      <th>val_TS_69_2</th>\n",
       "      <td>0.591</td>\n",
       "      <td>0.589</td>\n",
       "      <td>0.592</td>\n",
       "      <td>0.431</td>\n",
       "    </tr>\n",
       "    <tr>\n",
       "      <th>val_TS_6_4</th>\n",
       "      <td>0.554</td>\n",
       "      <td>0.600</td>\n",
       "      <td>0.575</td>\n",
       "      <td>0.392</td>\n",
       "    </tr>\n",
       "    <tr>\n",
       "      <th>val_TS_6_6</th>\n",
       "      <td>0.562</td>\n",
       "      <td>0.616</td>\n",
       "      <td>0.591</td>\n",
       "      <td>0.419</td>\n",
       "    </tr>\n",
       "    <tr>\n",
       "      <th>mean</th>\n",
       "      <td>0.574</td>\n",
       "      <td>0.596</td>\n",
       "      <td>0.590</td>\n",
       "      <td>0.413</td>\n",
       "    </tr>\n",
       "  </tbody>\n",
       "</table>\n",
       "</div>"
      ],
      "text/plain": [
       "             metrics/precision(B)  metrics/recall(B)  metrics/mAP50(B)  \\\n",
       "val_TS_5_4                  0.591              0.578             0.601   \n",
       "val_TS_69_2                 0.591              0.589             0.592   \n",
       "val_TS_6_4                  0.554              0.600             0.575   \n",
       "val_TS_6_6                  0.562              0.616             0.591   \n",
       "mean                        0.574              0.596             0.590   \n",
       "\n",
       "             metrics/mAP50-95(B)  \n",
       "val_TS_5_4                 0.410  \n",
       "val_TS_69_2                0.431  \n",
       "val_TS_6_4                 0.392  \n",
       "val_TS_6_6                 0.419  \n",
       "mean                       0.413  "
      ]
     },
     "execution_count": 8,
     "metadata": {},
     "output_type": "execute_result"
    }
   ],
   "source": [
    "import pandas as pd\n",
    "from IPython.display import display, HTML\n",
    "from IPython.display import Image as IPyImage\n",
    "pd.options.display.precision = 3\n",
    "\n",
    "columns = [\n",
    "    \"metrics/precision(B)\",\n",
    "    \"metrics/recall(B)\",\n",
    "    \"metrics/mAP50(B)\",\n",
    "    \"metrics/mAP50-95(B)\",\n",
    "]\n",
    "df_result = pd.DataFrame(columns=columns)\n",
    "for i in range(len(LIST_CV)):\n",
    "    if i == 0:\n",
    "        df = pd.read_csv(f\"../../runs/detect/{EXP_NAME}/results.csv\")\n",
    "    else:\n",
    "        df = pd.read_csv(f\"../../runs/detect/{EXP_NAME}{i+1}/results.csv\")\n",
    "    \n",
    "    list_results = [\n",
    "        df.iloc[-1][\"metrics/precision(B)\"],\n",
    "        df.iloc[-1][\"metrics/recall(B)\"],\n",
    "        df.iloc[-1][\"metrics/mAP50(B)\"],\n",
    "        df.iloc[-1][\"metrics/mAP50-95(B)\"],\n",
    "    ]\n",
    "    df_result.loc[f\"val_{LIST_CV[i]}\"] = list_results\n",
    "df_result.loc[\"mean\"] = df_result.mean()\n",
    "df_result"
   ]
  },
  {
   "cell_type": "code",
   "execution_count": 9,
   "id": "479cc6aa",
   "metadata": {},
   "outputs": [
    {
     "data": {
      "text/html": [
       "\n",
       "<div style=\"display: grid; grid-template-columns: 1fr 1fr; gap: 10px;\">\n",
       "    <img src=\"../../runs/detect/baseline_cv/PR_curve.png\" style=\"width: 80%;\">\n",
       "    <img src=\"../../runs/detect/baseline_cv2/PR_curve.png\" style=\"width: 80%;\">\n",
       "    <img src=\"../../runs/detect/baseline_cv3/PR_curve.png\" style=\"width: 80%;\">\n",
       "    <img src=\"../../runs/detect/baseline_cv4/PR_curve.png\" style=\"width: 80%;\">\n",
       "</div>\n"
      ],
      "text/plain": [
       "<IPython.core.display.HTML object>"
      ]
     },
     "metadata": {},
     "output_type": "display_data"
    }
   ],
   "source": [
    "# 画像を2x2のグリッドで表示\n",
    "html_content = '''\n",
    "<div style=\"display: grid; grid-template-columns: 1fr 1fr; gap: 10px;\">\n",
    "    <img src=\"../../runs/detect/{}/PR_curve.png\" style=\"width: 80%;\">\n",
    "    <img src=\"../../runs/detect/{}/PR_curve.png\" style=\"width: 80%;\">\n",
    "    <img src=\"../../runs/detect/{}/PR_curve.png\" style=\"width: 80%;\">\n",
    "    <img src=\"../../runs/detect/{}/PR_curve.png\" style=\"width: 80%;\">\n",
    "</div>\n",
    "'''.format(\n",
    "    EXP_NAME,\n",
    "    f\"{EXP_NAME}2\",\n",
    "    f\"{EXP_NAME}3\",\n",
    "    f\"{EXP_NAME}4\"\n",
    ")\n",
    "\n",
    "display(HTML(html_content))"
   ]
  },
  {
   "cell_type": "code",
   "execution_count": 10,
   "id": "91ee67d2",
   "metadata": {},
   "outputs": [
    {
     "data": {
      "image/png": "[encoded data removed]",
      "text/plain": [
       "<IPython.core.display.Image object>"
      ]
     },
     "execution_count": 10,
     "metadata": {
      "image/png": {
       "width": 800
      }
     },
     "output_type": "execute_result"
    }
   ],
   "source": [
    "IPyImage(filename=f'../../runs/detect/{EXP_NAME}/results.png', width=800)"
   ]
  },
  {
   "cell_type": "code",
   "execution_count": null,
   "id": "b3509176",
   "metadata": {},
   "outputs": [],
   "source": []
  }
 ],
 "metadata": {
  "kaggle": {
   "accelerator": "nvidiaTeslaT4",
   "dataSources": [
    {
     "databundleVersionId": 10033515,
     "sourceId": 84969,
     "sourceType": "competition"
    },
    {
     "datasetId": 6240276,
     "sourceId": 10126976,
     "sourceType": "datasetVersion"
    },
    {
     "sourceId": 211097053,
     "sourceType": "kernelVersion"
    },
    {
     "sourceId": 211531582,
     "sourceType": "kernelVersion"
    },
    {
     "modelId": 141350,
     "modelInstanceId": 118113,
     "sourceId": 139474,
     "sourceType": "modelInstanceVersion"
    }
   ],
   "dockerImageVersionId": 30805,
   "isGpuEnabled": true,
   "isInternetEnabled": true,
   "language": "python",
   "sourceType": "notebook"
  },
  "kernelspec": {
   "display_name": "Python 3",
   "language": "python",
   "name": "python3"
  },
  "language_info": {
   "codemirror_mode": {
    "name": "ipython",
    "version": 3
   },
   "file_extension": ".py",
   "mimetype": "text/x-python",
   "name": "python",
   "nbconvert_exporter": "python",
   "pygments_lexer": "ipython3",
   "version": "3.12.8"
  },
  "papermill": {
   "default_parameters": {},
   "duration": 3981.698602,
   "end_time": "2024-12-07T10:19:44.417644",
   "environment_variables": {},
   "exception": null,
   "input_path": "__notebook__.ipynb",
   "output_path": "__notebook__.ipynb",
   "parameters": {},
   "start_time": "2024-12-07T09:13:22.719042",
   "version": "2.6.0"
  }
 },
 "nbformat": 4,
 "nbformat_minor": 5
}
