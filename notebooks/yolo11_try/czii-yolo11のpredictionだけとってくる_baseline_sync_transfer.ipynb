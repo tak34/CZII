{
 "cells": [
  {
   "cell_type": "markdown",
   "id": "1ffbac67",
   "metadata": {
    "papermill": {
     "duration": 0.005854,
     "end_time": "2024-12-28T13:50:56.936938",
     "exception": false,
     "start_time": "2024-12-28T13:50:56.931084",
     "status": "completed"
    },
    "tags": []
   },
   "source": [
    "# Install and Import modules"
   ]
  },
  {
   "cell_type": "code",
   "execution_count": 47,
   "id": "e9488e8e",
   "metadata": {
    "execution": {
     "iopub.execute_input": "2024-12-28T13:50:56.949259Z",
     "iopub.status.busy": "2024-12-28T13:50:56.949002Z",
     "iopub.status.idle": "2024-12-28T13:51:52.752309Z",
     "shell.execute_reply": "2024-12-28T13:51:52.751353Z"
    },
    "papermill": {
     "duration": 55.811301,
     "end_time": "2024-12-28T13:51:52.754542",
     "exception": false,
     "start_time": "2024-12-28T13:50:56.943241",
     "status": "completed"
    },
    "tags": []
   },
   "outputs": [],
   "source": [
    "# !tar xfvz /kaggle/input/ultralytics-for-offline-install/archive.tar.gz\n",
    "# !pip install --no-index --find-links=./packages ultralytics\n",
    "# !rm -rf ./packages"
   ]
  },
  {
   "cell_type": "code",
   "execution_count": 48,
   "id": "bf109feb",
   "metadata": {
    "execution": {
     "iopub.execute_input": "2024-12-28T13:51:52.769693Z",
     "iopub.status.busy": "2024-12-28T13:51:52.769433Z",
     "iopub.status.idle": "2024-12-28T13:52:44.646175Z",
     "shell.execute_reply": "2024-12-28T13:52:44.645306Z"
    },
    "papermill": {
     "duration": 51.886757,
     "end_time": "2024-12-28T13:52:44.648360",
     "exception": false,
     "start_time": "2024-12-28T13:51:52.761603",
     "status": "completed"
    },
    "tags": []
   },
   "outputs": [],
   "source": [
    "# !cp -r '/kaggle/input/hengck-czii-cryo-et-01/wheel_file' '/kaggle/working/'\n",
    "# !pip install /kaggle/working/wheel_file/asciitree-0.3.3/asciitree-0.3.3\n",
    "# !pip install --no-index --find-links=/kaggle/working/wheel_file zarr"
   ]
  },
  {
   "cell_type": "code",
   "execution_count": 49,
   "id": "ea033289",
   "metadata": {
    "execution": {
     "iopub.execute_input": "2024-12-28T13:52:44.665032Z",
     "iopub.status.busy": "2024-12-28T13:52:44.664720Z",
     "iopub.status.idle": "2024-12-28T13:52:50.880505Z",
     "shell.execute_reply": "2024-12-28T13:52:50.879768Z"
    },
    "papermill": {
     "duration": 6.226218,
     "end_time": "2024-12-28T13:52:50.882460",
     "exception": false,
     "start_time": "2024-12-28T13:52:44.656242",
     "status": "completed"
    },
    "tags": []
   },
   "outputs": [],
   "source": [
    "import zarr\n",
    "from ultralytics import YOLO\n",
    "from tqdm import tqdm\n",
    "import glob, os\n",
    "import torch"
   ]
  },
  {
   "cell_type": "code",
   "execution_count": 50,
   "id": "23607970",
   "metadata": {
    "execution": {
     "iopub.execute_input": "2024-12-28T13:52:50.898970Z",
     "iopub.status.busy": "2024-12-28T13:52:50.898492Z",
     "iopub.status.idle": "2024-12-28T13:52:51.543991Z",
     "shell.execute_reply": "2024-12-28T13:52:51.543273Z"
    },
    "papermill": {
     "duration": 0.655791,
     "end_time": "2024-12-28T13:52:51.546000",
     "exception": false,
     "start_time": "2024-12-28T13:52:50.890209",
     "status": "completed"
    },
    "tags": []
   },
   "outputs": [],
   "source": [
    "import numpy as np\n",
    "import pandas as pd\n",
    "import matplotlib.pyplot as plt\n",
    "import cv2"
   ]
  },
  {
   "cell_type": "code",
   "execution_count": 51,
   "id": "a5713382",
   "metadata": {},
   "outputs": [],
   "source": [
    "DATA_KAGGLE_DIR = '../../raw'\n",
    "EXP_NAME = \"baseline_cv_syn_data_transfer_mod\"\n",
    "LIST_CV = [\n",
    "    'TS_5_4',\n",
    "    'TS_69_2',\n",
    "    'TS_6_4',\n",
    "    'TS_6_6',\n",
    "    'TS_73_6',\n",
    "    'TS_86_3',\n",
    "    'TS_99_9',\n",
    "]"
   ]
  },
  {
   "cell_type": "code",
   "execution_count": 52,
   "id": "e33a38f2",
   "metadata": {},
   "outputs": [],
   "source": [
    "# WANDB = True\n",
    "# WANDB_EXP_NAME = f\"{EXP_NAME}\"\n",
    "# # EXP_NAME = \"try\"\n",
    "\n",
    "# if WANDB:\n",
    "#     # !pip install wandb\n",
    "#     import wandb\n",
    "#     import os\n",
    "#     from dotenv import load_dotenv\n",
    "#     load_dotenv()\n",
    "#     wandb.login(key=os.environ.get(\"WANDB_API_KEY\"))"
   ]
  },
  {
   "cell_type": "markdown",
   "id": "70884c31",
   "metadata": {
    "papermill": {
     "duration": 0.007347,
     "end_time": "2024-12-28T13:52:51.584326",
     "exception": false,
     "start_time": "2024-12-28T13:52:51.576979",
     "status": "completed"
    },
    "tags": []
   },
   "source": [
    "We use a recursive function in this notebook, and we change the settings to explore the graph deep enough."
   ]
  },
  {
   "cell_type": "code",
   "execution_count": 53,
   "id": "21014ab4",
   "metadata": {
    "execution": {
     "iopub.execute_input": "2024-12-28T13:52:51.600204Z",
     "iopub.status.busy": "2024-12-28T13:52:51.599974Z",
     "iopub.status.idle": "2024-12-28T13:52:51.603467Z",
     "shell.execute_reply": "2024-12-28T13:52:51.602826Z"
    },
    "papermill": {
     "duration": 0.013256,
     "end_time": "2024-12-28T13:52:51.604987",
     "exception": false,
     "start_time": "2024-12-28T13:52:51.591731",
     "status": "completed"
    },
    "tags": []
   },
   "outputs": [],
   "source": [
    "import sys\n",
    "sys.setrecursionlimit(10000)"
   ]
  },
  {
   "cell_type": "code",
   "execution_count": 54,
   "id": "8fe921b1",
   "metadata": {
    "execution": {
     "iopub.execute_input": "2024-12-28T13:52:51.620732Z",
     "iopub.status.busy": "2024-12-28T13:52:51.620489Z",
     "iopub.status.idle": "2024-12-28T13:52:51.624056Z",
     "shell.execute_reply": "2024-12-28T13:52:51.623253Z"
    },
    "papermill": {
     "duration": 0.013302,
     "end_time": "2024-12-28T13:52:51.625610",
     "exception": false,
     "start_time": "2024-12-28T13:52:51.612308",
     "status": "completed"
    },
    "tags": []
   },
   "outputs": [],
   "source": [
    "import warnings\n",
    "warnings.simplefilter('ignore')\n",
    "np.warnings = warnings"
   ]
  },
  {
   "cell_type": "markdown",
   "id": "0fafcefc",
   "metadata": {
    "papermill": {
     "duration": 0.007464,
     "end_time": "2024-12-28T13:52:51.640389",
     "exception": false,
     "start_time": "2024-12-28T13:52:51.632925",
     "status": "completed"
    },
    "tags": []
   },
   "source": [
    "# Prepare trained YOLO model"
   ]
  },
  {
   "cell_type": "code",
   "execution_count": 55,
   "id": "25e079b9",
   "metadata": {
    "execution": {
     "iopub.execute_input": "2024-12-28T13:52:52.758917Z",
     "iopub.status.busy": "2024-12-28T13:52:52.758639Z",
     "iopub.status.idle": "2024-12-28T13:52:52.786496Z",
     "shell.execute_reply": "2024-12-28T13:52:52.785918Z"
    },
    "papermill": {
     "duration": 0.037849,
     "end_time": "2024-12-28T13:52:52.788116",
     "exception": false,
     "start_time": "2024-12-28T13:52:52.750267",
     "status": "completed"
    },
    "tags": []
   },
   "outputs": [],
   "source": [
    "#add by @minfuka\n",
    "assert torch.cuda.device_count() == 1"
   ]
  },
  {
   "cell_type": "code",
   "execution_count": 56,
   "id": "82303360",
   "metadata": {
    "execution": {
     "iopub.execute_input": "2024-12-28T13:52:52.824897Z",
     "iopub.status.busy": "2024-12-28T13:52:52.824633Z",
     "iopub.status.idle": "2024-12-28T13:52:52.828052Z",
     "shell.execute_reply": "2024-12-28T13:52:52.827354Z"
    },
    "papermill": {
     "duration": 0.013433,
     "end_time": "2024-12-28T13:52:52.829686",
     "exception": false,
     "start_time": "2024-12-28T13:52:52.816253",
     "status": "completed"
    },
    "tags": []
   },
   "outputs": [],
   "source": [
    "particle_names = ['apo-ferritin', 'beta-amylase', 'beta-galactosidase', 'ribosome', 'thyroglobulin', 'virus-like-particle']"
   ]
  },
  {
   "cell_type": "code",
   "execution_count": 57,
   "id": "5d07d838",
   "metadata": {
    "execution": {
     "iopub.execute_input": "2024-12-28T13:52:52.845973Z",
     "iopub.status.busy": "2024-12-28T13:52:52.845699Z",
     "iopub.status.idle": "2024-12-28T13:52:52.849573Z",
     "shell.execute_reply": "2024-12-28T13:52:52.848874Z"
    },
    "papermill": {
     "duration": 0.013798,
     "end_time": "2024-12-28T13:52:52.850993",
     "exception": false,
     "start_time": "2024-12-28T13:52:52.837195",
     "status": "completed"
    },
    "tags": []
   },
   "outputs": [],
   "source": [
    "p2i_dict = {\n",
    "        'apo-ferritin': 0,\n",
    "        'beta-amylase': 1,\n",
    "        'beta-galactosidase': 2,\n",
    "        'ribosome': 3,\n",
    "        'thyroglobulin': 4,\n",
    "        'virus-like-particle': 5\n",
    "    }\n",
    "\n",
    "i2p = {v:k for k, v in p2i_dict.items()}"
   ]
  },
  {
   "cell_type": "code",
   "execution_count": 58,
   "id": "eae85cdc",
   "metadata": {
    "execution": {
     "iopub.execute_input": "2024-12-28T13:52:52.866833Z",
     "iopub.status.busy": "2024-12-28T13:52:52.866593Z",
     "iopub.status.idle": "2024-12-28T13:52:52.870153Z",
     "shell.execute_reply": "2024-12-28T13:52:52.869416Z"
    },
    "papermill": {
     "duration": 0.013306,
     "end_time": "2024-12-28T13:52:52.871707",
     "exception": false,
     "start_time": "2024-12-28T13:52:52.858401",
     "status": "completed"
    },
    "tags": []
   },
   "outputs": [],
   "source": [
    "particle_radius = {\n",
    "        'apo-ferritin': 60,\n",
    "        'beta-amylase': 65,\n",
    "        'beta-galactosidase': 90,\n",
    "        'ribosome': 150,\n",
    "        'thyroglobulin': 130,\n",
    "        'virus-like-particle': 135,\n",
    "    }"
   ]
  },
  {
   "cell_type": "markdown",
   "id": "18e3575d",
   "metadata": {
    "papermill": {
     "duration": 0.007308,
     "end_time": "2024-12-28T13:52:52.886688",
     "exception": false,
     "start_time": "2024-12-28T13:52:52.879380",
     "status": "completed"
    },
    "tags": []
   },
   "source": [
    "# define Main process class\n",
    "There are many variables and functions going back and forth. We can easily manage variables by defining classes."
   ]
  },
  {
   "cell_type": "code",
   "execution_count": 59,
   "id": "e42efbe9",
   "metadata": {
    "execution": {
     "iopub.execute_input": "2024-12-28T13:52:52.902990Z",
     "iopub.status.busy": "2024-12-28T13:52:52.902726Z",
     "iopub.status.idle": "2024-12-28T13:52:52.921460Z",
     "shell.execute_reply": "2024-12-28T13:52:52.920852Z"
    },
    "papermill": {
     "duration": 0.028882,
     "end_time": "2024-12-28T13:52:52.922977",
     "exception": false,
     "start_time": "2024-12-28T13:52:52.894095",
     "status": "completed"
    },
    "tags": []
   },
   "outputs": [],
   "source": [
    "class PredAggForYOLO:\n",
    "    def __init__(self, first_conf=0.2, final_conf=0.3, conf_coef=0.75):\n",
    "        self.first_conf = first_conf # threshold of confidence yolo\n",
    "        self.final_conf = final_conf # final threshold score (not be used in version 14)\n",
    "        self.conf_coef = conf_coef # if found many points, give bonus\n",
    "        self.particle_confs = [0.5, 0.0, 0.2, 0.5, 0.2, 0.5] # be strict to easy labels \n",
    "\n",
    "    def convert_to_8bit(self, x):\n",
    "        lower, upper = np.percentile(x, (0.5, 99.5))\n",
    "        x = np.clip(x, lower, upper)\n",
    "        x = (x - x.min()) / (x.max() - x.min() + 1e-12) * 255\n",
    "        return x.round().astype(\"uint8\")\n",
    "\n",
    "    # depth first search.\n",
    "    # aggregate the coordinates and confidence scores of connected graphs.\n",
    "    def dfs(self, v):\n",
    "        self.passed[v] = True\n",
    "        self.conf_sum += self.pdf.iloc[v].confidence\n",
    "        self.cx += self.pdf.iloc[v].x\n",
    "        self.cy += self.pdf.iloc[v].y\n",
    "        self.cz += self.pdf.iloc[v].z\n",
    "        self.nv += 1\n",
    "        for next_v in self.adjacency_list[v]:\n",
    "            if (self.passed[next_v]): continue\n",
    "            self.dfs(next_v)\n",
    "\n",
    "    # main routine.\n",
    "    # change by @minfuka\n",
    "    # def make_predict_yolo(self, r, model):\n",
    "    def make_predict_yolo(self, r, model, device_no):\n",
    "        vol = zarr.open(f'{valid_dir}/static/ExperimentRuns/{r}/VoxelSpacing10.000/denoised.zarr', mode='r')\n",
    "        vol = vol[0]\n",
    "        vol2 = self.convert_to_8bit(vol)\n",
    "        n_imgs = vol2.shape[0]\n",
    "    \n",
    "        df = pd.DataFrame()\n",
    "    \n",
    "        pts = []\n",
    "        confs = []\n",
    "        xs = []\n",
    "        ys = []\n",
    "        zs = []\n",
    "        \n",
    "        for i in range(n_imgs):\n",
    "            # Unfortunately the image size needs to be a multiple of 32.\n",
    "            tmp_img = np.zeros((630, 630))\n",
    "            tmp_img[:] = vol2[i]\n",
    "    \n",
    "            inp_arr = np.stack([tmp_img]*3,axis=-1)\n",
    "            inp_arr = cv2.resize(inp_arr, (640,640))\n",
    "\n",
    "            # change by @minfuka\n",
    "            # res = model.predict(inp_arr, save=False, imgsz=640, conf=self.first_conf, device=\"0\", batch=1, verbose=False)\n",
    "            res = model.predict(inp_arr, save=False, imgsz=640, conf=self.first_conf, device=device_no, batch=1, verbose=False)\n",
    "            for j, result in enumerate(res):\n",
    "                boxes = result.boxes # Boxes object for bounding box outputs    \n",
    "                for k in range(len(boxes.cls)):\n",
    "                    ptype = i2p[boxes.cls.cpu().numpy()[k]] # particle type\n",
    "                    conf = boxes.conf.cpu().numpy()[k] # confidence score\n",
    "                    # YOLO can infer (start_x, end_x, start_y, end_y)\n",
    "                    xc = (boxes.xyxy[k,0] + boxes.xyxy[k,2]) / 2.0 * 10 * (63/64)\n",
    "                    yc = (boxes.xyxy[k,1] + boxes.xyxy[k,3]) / 2.0 * 10 * (63/64)\n",
    "                    zc = i * 10 + 5\n",
    "    \n",
    "                    pts.append(ptype)\n",
    "                    confs.append(conf)\n",
    "                    xs.append(xc.cpu().numpy())\n",
    "                    ys.append(yc.cpu().numpy())\n",
    "                    zs.append(zc)           \n",
    "                \n",
    "        df['experiment'] = [r] * len(xs)\n",
    "        df['particle_type'] = pts\n",
    "        df['confidence'] = confs\n",
    "        df['x'] = xs\n",
    "        df['y'] = ys\n",
    "        df['z'] = zs\n",
    "\n",
    "        # df includes overall canditate of CIRCLE. \n",
    "        df = df.sort_values(['particle_type', 'z'], ascending=[True, True])\n",
    "\n",
    "        return df"
   ]
  },
  {
   "cell_type": "code",
   "execution_count": 60,
   "id": "e8df31e0",
   "metadata": {
    "execution": {
     "iopub.execute_input": "2024-12-28T13:52:52.939414Z",
     "iopub.status.busy": "2024-12-28T13:52:52.939160Z",
     "iopub.status.idle": "2024-12-28T13:52:52.942630Z",
     "shell.execute_reply": "2024-12-28T13:52:52.941998Z"
    },
    "papermill": {
     "duration": 0.013362,
     "end_time": "2024-12-28T13:52:52.944208",
     "exception": false,
     "start_time": "2024-12-28T13:52:52.930846",
     "status": "completed"
    },
    "tags": []
   },
   "outputs": [],
   "source": [
    "# instance main class\n",
    "agent = PredAggForYOLO(first_conf=0.01, final_conf=0.2, conf_coef=0.5) # final_conf is not used after version 14\n",
    "# subs = []"
   ]
  },
  {
   "cell_type": "code",
   "execution_count": 61,
   "id": "b84a0e0e",
   "metadata": {
    "execution": {
     "iopub.execute_input": "2024-12-28T13:52:52.960091Z",
     "iopub.status.busy": "2024-12-28T13:52:52.959829Z",
     "iopub.status.idle": "2024-12-28T13:52:52.963038Z",
     "shell.execute_reply": "2024-12-28T13:52:52.962297Z"
    },
    "papermill": {
     "duration": 0.012998,
     "end_time": "2024-12-28T13:52:52.964581",
     "exception": false,
     "start_time": "2024-12-28T13:52:52.951583",
     "status": "completed"
    },
    "tags": []
   },
   "outputs": [],
   "source": [
    "# subs = []"
   ]
  },
  {
   "cell_type": "code",
   "execution_count": 62,
   "id": "99235435",
   "metadata": {
    "execution": {
     "iopub.execute_input": "2024-12-28T13:52:52.980852Z",
     "iopub.status.busy": "2024-12-28T13:52:52.980609Z",
     "iopub.status.idle": "2024-12-28T13:52:52.986684Z",
     "shell.execute_reply": "2024-12-28T13:52:52.985905Z"
    },
    "papermill": {
     "duration": 0.015826,
     "end_time": "2024-12-28T13:52:52.988264",
     "exception": false,
     "start_time": "2024-12-28T13:52:52.972438",
     "status": "completed"
    },
    "tags": []
   },
   "outputs": [],
   "source": [
    "import time\n",
    "#add by @minfuka\n",
    "from concurrent.futures import ProcessPoolExecutor #add by @minfuka"
   ]
  },
  {
   "cell_type": "markdown",
   "id": "9287dbdd",
   "metadata": {
    "papermill": {
     "duration": 0.007627,
     "end_time": "2024-12-28T13:52:53.003428",
     "exception": false,
     "start_time": "2024-12-28T13:52:52.995801",
     "status": "completed"
    },
    "tags": []
   },
   "source": [
    "# main loop of inference"
   ]
  },
  {
   "cell_type": "code",
   "execution_count": 63,
   "id": "71d8e57d",
   "metadata": {},
   "outputs": [],
   "source": [
    "valid_dir =f'{DATA_KAGGLE_DIR}/train'\n",
    "list_model_path = [\n",
    "    f\"../../runs/detect/{EXP_NAME}/weights/best.pt\",\n",
    "    f\"../../runs/detect/{EXP_NAME}2/weights/best.pt\",\n",
    "    f\"../../runs/detect/{EXP_NAME}3/weights/best.pt\",\n",
    "    f\"../../runs/detect/{EXP_NAME}4/weights/best.pt\",\n",
    "    f\"../../runs/detect/{EXP_NAME}5/weights/best.pt\",\n",
    "    f\"../../runs/detect/{EXP_NAME}6/weights/best.pt\",\n",
    "    f\"../../runs/detect/{EXP_NAME}7/weights/best.pt\",\n",
    "]"
   ]
  },
  {
   "cell_type": "code",
   "execution_count": 64,
   "id": "336f4278",
   "metadata": {
    "execution": {
     "iopub.execute_input": "2024-12-28T13:52:53.019383Z",
     "iopub.status.busy": "2024-12-28T13:52:53.019168Z",
     "iopub.status.idle": "2024-12-28T13:52:53.023022Z",
     "shell.execute_reply": "2024-12-28T13:52:53.022309Z"
    },
    "papermill": {
     "duration": 0.013677,
     "end_time": "2024-12-28T13:52:53.024636",
     "exception": false,
     "start_time": "2024-12-28T13:52:53.010959",
     "status": "completed"
    },
    "tags": []
   },
   "outputs": [],
   "source": [
    "#add by @minfuka\n",
    "def inference(runs, model, device_no):\n",
    "    subs = []\n",
    "    for r in tqdm(runs, total=len(runs)):\n",
    "        df = agent.make_predict_yolo(r, model, device_no)\n",
    "        subs.append(df)\n",
    "    \n",
    "    return subs"
   ]
  },
  {
   "cell_type": "code",
   "execution_count": 65,
   "id": "7642fff0",
   "metadata": {
    "execution": {
     "iopub.execute_input": "2024-12-28T13:52:53.040477Z",
     "iopub.status.busy": "2024-12-28T13:52:53.040228Z",
     "iopub.status.idle": "2024-12-28T13:53:16.256524Z",
     "shell.execute_reply": "2024-12-28T13:53:16.255349Z"
    },
    "papermill": {
     "duration": 23.226372,
     "end_time": "2024-12-28T13:53:16.258448",
     "exception": false,
     "start_time": "2024-12-28T13:52:53.032076",
     "status": "completed"
    },
    "tags": []
   },
   "outputs": [
    {
     "name": "stderr",
     "output_type": "stream",
     "text": [
      "100%|██████████| 7/7 [02:20<00:00, 20.06s/it]\n"
     ]
    }
   ],
   "source": [
    "\n",
    "# tick = time.time()\n",
    "#change by @minfuka\n",
    "subs = []\n",
    "for r, model_path in tqdm(zip(LIST_CV, list_model_path), total=len(LIST_CV)):\n",
    "    model = YOLO(model_path)\n",
    "    df = agent.make_predict_yolo(r, model, \"0\")\n",
    "    subs.append(df)\n",
    "# with ProcessPoolExecutor(max_workers=2) as executor:\n",
    "#     results = list(executor.map(inference, (runs1, runs2), (model, model), (\"0\", \"1\")))\n",
    "# tock = time.time()"
   ]
  },
  {
   "cell_type": "code",
   "execution_count": 66,
   "id": "29af665b",
   "metadata": {
    "execution": {
     "iopub.execute_input": "2024-12-28T13:53:16.276026Z",
     "iopub.status.busy": "2024-12-28T13:53:16.275703Z",
     "iopub.status.idle": "2024-12-28T13:53:16.280337Z",
     "shell.execute_reply": "2024-12-28T13:53:16.279457Z"
    },
    "papermill": {
     "duration": 0.015427,
     "end_time": "2024-12-28T13:53:16.282128",
     "exception": false,
     "start_time": "2024-12-28T13:53:16.266701",
     "status": "completed"
    },
    "tags": []
   },
   "outputs": [
    {
     "data": {
      "text/html": [
       "<div>\n",
       "<style scoped>\n",
       "    .dataframe tbody tr th:only-of-type {\n",
       "        vertical-align: middle;\n",
       "    }\n",
       "\n",
       "    .dataframe tbody tr th {\n",
       "        vertical-align: top;\n",
       "    }\n",
       "\n",
       "    .dataframe thead th {\n",
       "        text-align: right;\n",
       "    }\n",
       "</style>\n",
       "<table border=\"1\" class=\"dataframe\">\n",
       "  <thead>\n",
       "    <tr style=\"text-align: right;\">\n",
       "      <th></th>\n",
       "      <th>experiment</th>\n",
       "      <th>particle_type</th>\n",
       "      <th>confidence</th>\n",
       "      <th>x</th>\n",
       "      <th>y</th>\n",
       "      <th>z</th>\n",
       "    </tr>\n",
       "  </thead>\n",
       "  <tbody>\n",
       "    <tr>\n",
       "      <th>0</th>\n",
       "      <td>TS_99_9</td>\n",
       "      <td>apo-ferritin</td>\n",
       "      <td>0.056937</td>\n",
       "      <td>334.58252</td>\n",
       "      <td>770.4638</td>\n",
       "      <td>5</td>\n",
       "    </tr>\n",
       "    <tr>\n",
       "      <th>1</th>\n",
       "      <td>TS_99_9</td>\n",
       "      <td>apo-ferritin</td>\n",
       "      <td>0.039369</td>\n",
       "      <td>1748.5933</td>\n",
       "      <td>1216.0859</td>\n",
       "      <td>5</td>\n",
       "    </tr>\n",
       "    <tr>\n",
       "      <th>2</th>\n",
       "      <td>TS_99_9</td>\n",
       "      <td>apo-ferritin</td>\n",
       "      <td>0.023246</td>\n",
       "      <td>658.88586</td>\n",
       "      <td>839.3009</td>\n",
       "      <td>5</td>\n",
       "    </tr>\n",
       "    <tr>\n",
       "      <th>3</th>\n",
       "      <td>TS_99_9</td>\n",
       "      <td>apo-ferritin</td>\n",
       "      <td>0.018570</td>\n",
       "      <td>440.79077</td>\n",
       "      <td>618.9655</td>\n",
       "      <td>5</td>\n",
       "    </tr>\n",
       "    <tr>\n",
       "      <th>6</th>\n",
       "      <td>TS_99_9</td>\n",
       "      <td>apo-ferritin</td>\n",
       "      <td>0.051313</td>\n",
       "      <td>411.9216</td>\n",
       "      <td>65.310455</td>\n",
       "      <td>25</td>\n",
       "    </tr>\n",
       "  </tbody>\n",
       "</table>\n",
       "</div>"
      ],
      "text/plain": [
       "  experiment particle_type  confidence          x          y   z\n",
       "0    TS_99_9  apo-ferritin    0.056937  334.58252   770.4638   5\n",
       "1    TS_99_9  apo-ferritin    0.039369  1748.5933  1216.0859   5\n",
       "2    TS_99_9  apo-ferritin    0.023246  658.88586   839.3009   5\n",
       "3    TS_99_9  apo-ferritin    0.018570  440.79077   618.9655   5\n",
       "6    TS_99_9  apo-ferritin    0.051313   411.9216  65.310455  25"
      ]
     },
     "execution_count": 66,
     "metadata": {},
     "output_type": "execute_result"
    }
   ],
   "source": [
    "df.head()"
   ]
  },
  {
   "cell_type": "code",
   "execution_count": 67,
   "id": "57f059a8",
   "metadata": {
    "execution": {
     "iopub.execute_input": "2024-12-28T13:53:16.323587Z",
     "iopub.status.busy": "2024-12-28T13:53:16.322884Z",
     "iopub.status.idle": "2024-12-28T13:53:16.330575Z",
     "shell.execute_reply": "2024-12-28T13:53:16.329691Z"
    },
    "papermill": {
     "duration": 0.01832,
     "end_time": "2024-12-28T13:53:16.332330",
     "exception": false,
     "start_time": "2024-12-28T13:53:16.314010",
     "status": "completed"
    },
    "tags": []
   },
   "outputs": [],
   "source": [
    "#submission = pd.concat(subs).reset_index(drop=True)\n",
    "#change by @minfuka\n",
    "# submission1 = pd.concat(results[1])\n",
    "# if len(valid_id) == 1:\n",
    "#     submission = submission1.copy()\n",
    "# else:\n",
    "#     submission0 = pd.concat(results[0])\n",
    "#     submission = pd.concat([submission0, submission1]).reset_index(drop=True)\n",
    "submission = pd.concat(subs).reset_index(drop=True)\n",
    "# submission.insert(0, 'id', range(len(submission)))"
   ]
  },
  {
   "cell_type": "code",
   "execution_count": 68,
   "id": "28a24102",
   "metadata": {
    "execution": {
     "iopub.execute_input": "2024-12-28T13:53:16.349372Z",
     "iopub.status.busy": "2024-12-28T13:53:16.349114Z",
     "iopub.status.idle": "2024-12-28T13:53:16.367307Z",
     "shell.execute_reply": "2024-12-28T13:53:16.366513Z"
    },
    "papermill": {
     "duration": 0.028586,
     "end_time": "2024-12-28T13:53:16.368800",
     "exception": false,
     "start_time": "2024-12-28T13:53:16.340214",
     "status": "completed"
    },
    "tags": []
   },
   "outputs": [
    {
     "data": {
      "text/html": [
       "<div>\n",
       "<style scoped>\n",
       "    .dataframe tbody tr th:only-of-type {\n",
       "        vertical-align: middle;\n",
       "    }\n",
       "\n",
       "    .dataframe tbody tr th {\n",
       "        vertical-align: top;\n",
       "    }\n",
       "\n",
       "    .dataframe thead th {\n",
       "        text-align: right;\n",
       "    }\n",
       "</style>\n",
       "<table border=\"1\" class=\"dataframe\">\n",
       "  <thead>\n",
       "    <tr style=\"text-align: right;\">\n",
       "      <th></th>\n",
       "      <th>experiment</th>\n",
       "      <th>particle_type</th>\n",
       "      <th>confidence</th>\n",
       "      <th>x</th>\n",
       "      <th>y</th>\n",
       "      <th>z</th>\n",
       "    </tr>\n",
       "  </thead>\n",
       "  <tbody>\n",
       "    <tr>\n",
       "      <th>0</th>\n",
       "      <td>TS_5_4</td>\n",
       "      <td>apo-ferritin</td>\n",
       "      <td>0.150403</td>\n",
       "      <td>5464.939</td>\n",
       "      <td>1967.273</td>\n",
       "      <td>5</td>\n",
       "    </tr>\n",
       "    <tr>\n",
       "      <th>1</th>\n",
       "      <td>TS_5_4</td>\n",
       "      <td>apo-ferritin</td>\n",
       "      <td>0.127206</td>\n",
       "      <td>4143.2324</td>\n",
       "      <td>278.86343</td>\n",
       "      <td>5</td>\n",
       "    </tr>\n",
       "    <tr>\n",
       "      <th>2</th>\n",
       "      <td>TS_5_4</td>\n",
       "      <td>apo-ferritin</td>\n",
       "      <td>0.114715</td>\n",
       "      <td>5384.1123</td>\n",
       "      <td>5010.9272</td>\n",
       "      <td>5</td>\n",
       "    </tr>\n",
       "    <tr>\n",
       "      <th>3</th>\n",
       "      <td>TS_5_4</td>\n",
       "      <td>apo-ferritin</td>\n",
       "      <td>0.092003</td>\n",
       "      <td>5524.3286</td>\n",
       "      <td>6233.701</td>\n",
       "      <td>5</td>\n",
       "    </tr>\n",
       "    <tr>\n",
       "      <th>4</th>\n",
       "      <td>TS_5_4</td>\n",
       "      <td>apo-ferritin</td>\n",
       "      <td>0.043141</td>\n",
       "      <td>4973.415</td>\n",
       "      <td>4839.5684</td>\n",
       "      <td>5</td>\n",
       "    </tr>\n",
       "  </tbody>\n",
       "</table>\n",
       "</div>"
      ],
      "text/plain": [
       "  experiment particle_type  confidence          x          y  z\n",
       "0     TS_5_4  apo-ferritin    0.150403   5464.939   1967.273  5\n",
       "1     TS_5_4  apo-ferritin    0.127206  4143.2324  278.86343  5\n",
       "2     TS_5_4  apo-ferritin    0.114715  5384.1123  5010.9272  5\n",
       "3     TS_5_4  apo-ferritin    0.092003  5524.3286   6233.701  5\n",
       "4     TS_5_4  apo-ferritin    0.043141   4973.415  4839.5684  5"
      ]
     },
     "execution_count": 68,
     "metadata": {},
     "output_type": "execute_result"
    }
   ],
   "source": [
    "submission.to_csv(f\"../../proc/pred_yolo/pred_yolo_{EXP_NAME}.csv\", index=False)\n",
    "submission.head()"
   ]
  },
  {
   "cell_type": "code",
   "execution_count": 69,
   "id": "c0464d0c",
   "metadata": {},
   "outputs": [
    {
     "data": {
      "text/plain": [
       "(104732, 6)"
      ]
     },
     "execution_count": 69,
     "metadata": {},
     "output_type": "execute_result"
    }
   ],
   "source": [
    "submission.shape"
   ]
  },
  {
   "cell_type": "code",
   "execution_count": null,
   "id": "8ded6581",
   "metadata": {},
   "outputs": [],
   "source": []
  }
 ],
 "metadata": {
  "kaggle": {
   "accelerator": "nvidiaTeslaT4",
   "dataSources": [
    {
     "databundleVersionId": 10033515,
     "sourceId": 84969,
     "sourceType": "competition"
    },
    {
     "datasetId": 6040935,
     "sourceId": 9867543,
     "sourceType": "datasetVersion"
    },
    {
     "datasetId": 6240616,
     "sourceId": 10127593,
     "sourceType": "datasetVersion"
    },
    {
     "sourceId": 211097053,
     "sourceType": "kernelVersion"
    },
    {
     "sourceId": 215114343,
     "sourceType": "kernelVersion"
    }
   ],
   "dockerImageVersionId": 30805,
   "isGpuEnabled": true,
   "isInternetEnabled": false,
   "language": "python",
   "sourceType": "notebook"
  },
  "kernelspec": {
   "display_name": "Python 3",
   "language": "python",
   "name": "python3"
  },
  "language_info": {
   "codemirror_mode": {
    "name": "ipython",
    "version": 3
   },
   "file_extension": ".py",
   "mimetype": "text/x-python",
   "name": "python",
   "nbconvert_exporter": "python",
   "pygments_lexer": "ipython3",
   "version": "3.12.8"
  },
  "papermill": {
   "default_parameters": {},
   "duration": 147.06916,
   "end_time": "2024-12-28T13:53:21.717540",
   "environment_variables": {},
   "exception": null,
   "input_path": "__notebook__.ipynb",
   "output_path": "__notebook__.ipynb",
   "parameters": {},
   "start_time": "2024-12-28T13:50:54.648380",
   "version": "2.6.0"
  }
 },
 "nbformat": 4,
 "nbformat_minor": 5
}
