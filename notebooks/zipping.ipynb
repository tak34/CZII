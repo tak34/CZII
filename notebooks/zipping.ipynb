{
 "cells": [
  {
   "cell_type": "code",
   "execution_count": 2,
   "metadata": {},
   "outputs": [],
   "source": [
    "import os\n",
    "import shutil\n",
    "import zipfile\n",
    "\n",
    "# フォルダ作成\n",
    "output_dir = \"../sending\"\n",
    "if not os.path.exists(output_dir):\n",
    "    os.makedirs(output_dir)\n",
    "\n",
    "# ファイルをコピー\n",
    "source_files = [\n",
    "    \"../runs/detect/baseline_cv_syn_data_transfer_mod2/weights/best.pt\",\n",
    "    \"../runs/detect/baseline_cv_syn_data_transfer_mod3/weights/best.pt\",\n",
    "    \"../runs/detect/baseline_cv_syn_data_transfer_mod4/weights/best.pt\",\n",
    "    \"../runs/detect/baseline_cv_syn_data_transfer_mod5/weights/best.pt\",\n",
    "    \"../runs/detect/baseline_cv_syn_data_transfer_mod6/weights/best.pt\",\n",
    "    \"../runs/detect/baseline_cv_syn_data_transfer_mod7/weights/best.pt\",\n",
    "]\n",
    "for i, source_file in enumerate(source_files):\n",
    "    dest_file = os.path.join(output_dir, f\"best_{i+1}.pt\")\n",
    "    shutil.copy2(source_file, dest_file)\n",
    "\n",
    "# フォルダを圧縮\n",
    "with zipfile.ZipFile(\"../sending.zip\", \"w\", zipfile.ZIP_DEFLATED) as zf:\n",
    "    for file in os.listdir(output_dir):\n",
    "        file_path = os.path.join(output_dir, file)\n",
    "        zf.write(file_path, file)  # アーカイブ内のパスを相対パスに\n"
   ]
  },
  {
   "cell_type": "code",
   "execution_count": null,
   "metadata": {},
   "outputs": [],
   "source": []
  }
 ],
 "metadata": {
  "kernelspec": {
   "display_name": ".venv",
   "language": "python",
   "name": "python3"
  },
  "language_info": {
   "codemirror_mode": {
    "name": "ipython",
    "version": 3
   },
   "file_extension": ".py",
   "mimetype": "text/x-python",
   "name": "python",
   "nbconvert_exporter": "python",
   "pygments_lexer": "ipython3",
   "version": "3.12.8"
  }
 },
 "nbformat": 4,
 "nbformat_minor": 2
}
