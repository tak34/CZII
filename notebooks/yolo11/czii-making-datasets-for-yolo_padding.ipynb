{
 "cells": [
  {
   "cell_type": "markdown",
   "id": "3bc69ac8",
   "metadata": {
    "_cell_guid": "b1076dfc-b9ad-4769-8c92-a6c4dae69d19",
    "_uuid": "8f2839f25d086af736a60e9eeb907d3b93b6e0e5",
    "execution": {
     "iopub.execute_input": "2024-12-05T21:23:37.317946Z",
     "iopub.status.busy": "2024-12-05T21:23:37.316944Z",
     "iopub.status.idle": "2024-12-05T21:23:54.039570Z",
     "shell.execute_reply": "2024-12-05T21:23:54.038202Z",
     "shell.execute_reply.started": "2024-12-05T21:23:37.317856Z"
    },
    "papermill": {
     "duration": 0.004783,
     "end_time": "2024-12-07T08:59:00.095384",
     "exception": false,
     "start_time": "2024-12-07T08:59:00.090601",
     "status": "completed"
    },
    "tags": []
   },
   "source": [
    "# CZII making datasets for YOLO\n",
    "\n",
    "This is a challenging competition in which participants must identify the location of particles contained in a 3D volumetric image.\n",
    "\n",
    "There are already some great baselines published, but most of them focus on 3D volumetric images.\n",
    "\n",
    "However, using 3D images directly is difficult: for example, we always have to be careful about VRAM consumption: even a small 3D image uses a lot of memory.\n",
    "\n",
    "Therefore, I propose to decompose the 3D data provided by the host into 2D image slices and reduce it to an object detection problem.\n",
    "\n",
    "This method allows us to treat just 7 3D images as more than 1k 2D images, mitigating the data scarcity problem."
   ]
  },
  {
   "cell_type": "markdown",
   "id": "9f23f4f8",
   "metadata": {
    "papermill": {
     "duration": 0.003686,
     "end_time": "2024-12-07T08:59:00.103282",
     "exception": false,
     "start_time": "2024-12-07T08:59:00.099596",
     "status": "completed"
    },
    "tags": []
   },
   "source": [
    "# Install and Import modules"
   ]
  },
  {
   "cell_type": "code",
   "execution_count": 4,
   "id": "61002bae",
   "metadata": {
    "execution": {
     "iopub.execute_input": "2024-12-07T08:59:00.112720Z",
     "iopub.status.busy": "2024-12-07T08:59:00.112301Z",
     "iopub.status.idle": "2024-12-07T08:59:15.010995Z",
     "shell.execute_reply": "2024-12-07T08:59:15.009830Z"
    },
    "papermill": {
     "duration": 14.906332,
     "end_time": "2024-12-07T08:59:15.013529",
     "exception": false,
     "start_time": "2024-12-07T08:59:00.107197",
     "status": "completed"
    },
    "tags": []
   },
   "outputs": [],
   "source": [
    "# !pip install zarr"
   ]
  },
  {
   "cell_type": "code",
   "execution_count": 5,
   "id": "e3933c53",
   "metadata": {
    "execution": {
     "iopub.execute_input": "2024-12-07T08:59:15.027200Z",
     "iopub.status.busy": "2024-12-07T08:59:15.026796Z",
     "iopub.status.idle": "2024-12-07T08:59:16.186627Z",
     "shell.execute_reply": "2024-12-07T08:59:16.185729Z"
    },
    "papermill": {
     "duration": 1.168816,
     "end_time": "2024-12-07T08:59:16.188924",
     "exception": false,
     "start_time": "2024-12-07T08:59:15.020108",
     "status": "completed"
    },
    "tags": []
   },
   "outputs": [],
   "source": [
    "import json\n",
    "import numpy as np\n",
    "import pandas as pd\n",
    "import matplotlib.pyplot as plt\n",
    "import zarr\n",
    "from tqdm import tqdm\n",
    "import glob, os\n",
    "import cv2"
   ]
  },
  {
   "cell_type": "code",
   "execution_count": 6,
   "id": "964c8ed8",
   "metadata": {
    "execution": {
     "iopub.execute_input": "2024-12-07T08:59:16.201457Z",
     "iopub.status.busy": "2024-12-07T08:59:16.200818Z",
     "iopub.status.idle": "2024-12-07T08:59:16.214629Z",
     "shell.execute_reply": "2024-12-07T08:59:16.213630Z"
    },
    "papermill": {
     "duration": 0.022585,
     "end_time": "2024-12-07T08:59:16.216843",
     "exception": false,
     "start_time": "2024-12-07T08:59:16.194258",
     "status": "completed"
    },
    "tags": []
   },
   "outputs": [
    {
     "data": {
      "text/plain": [
       "{0: 'TS_5_4',\n",
       " 1: 'TS_69_2',\n",
       " 2: 'TS_6_4',\n",
       " 3: 'TS_6_6',\n",
       " 4: 'TS_73_6',\n",
       " 5: 'TS_86_3',\n",
       " 6: 'TS_99_9'}"
      ]
     },
     "execution_count": 6,
     "metadata": {},
     "output_type": "execute_result"
    }
   ],
   "source": [
    "runs = sorted(glob.glob('../../raw/train/overlay/ExperimentRuns/*'))\n",
    "runs = [os.path.basename(x) for x in runs]\n",
    "i2r_dict = {i:r for i, r in zip(range(len(runs)), runs)}\n",
    "r2t_dict = {r:i for i, r in zip(range(len(runs)), runs)}\n",
    "i2r_dict"
   ]
  },
  {
   "cell_type": "markdown",
   "id": "c9f21c89",
   "metadata": {
    "papermill": {
     "duration": 0.006288,
     "end_time": "2024-12-07T08:59:16.228571",
     "exception": false,
     "start_time": "2024-12-07T08:59:16.222283",
     "status": "completed"
    },
    "tags": []
   },
   "source": [
    "# Normalize Function\n",
    "To treat it as an image, normalize it to a value between 0 and 255.\n",
    "\n",
    "1e-12 is very small and has the meaning of epsilon."
   ]
  },
  {
   "cell_type": "code",
   "execution_count": 7,
   "id": "4953ae27",
   "metadata": {
    "execution": {
     "iopub.execute_input": "2024-12-07T08:59:16.241253Z",
     "iopub.status.busy": "2024-12-07T08:59:16.240507Z",
     "iopub.status.idle": "2024-12-07T08:59:16.246301Z",
     "shell.execute_reply": "2024-12-07T08:59:16.245226Z"
    },
    "papermill": {
     "duration": 0.014272,
     "end_time": "2024-12-07T08:59:16.248320",
     "exception": false,
     "start_time": "2024-12-07T08:59:16.234048",
     "status": "completed"
    },
    "tags": []
   },
   "outputs": [],
   "source": [
    "def convert_to_8bit(x):\n",
    "    lower, upper = np.percentile(x, (0.5, 99.5))\n",
    "    x = np.clip(x, lower, upper)\n",
    "    x = (x - x.min()) / (x.max() - x.min() + 1e-12) * 255\n",
    "    return x.round().astype(\"uint8\")"
   ]
  },
  {
   "cell_type": "markdown",
   "id": "ebb54635",
   "metadata": {
    "papermill": {
     "duration": 0.004978,
     "end_time": "2024-12-07T08:59:16.258542",
     "exception": false,
     "start_time": "2024-12-07T08:59:16.253564",
     "status": "completed"
    },
    "tags": []
   },
   "source": [
    "# Information about labels"
   ]
  },
  {
   "cell_type": "code",
   "execution_count": 8,
   "id": "68590488",
   "metadata": {
    "execution": {
     "iopub.execute_input": "2024-12-07T08:59:16.270366Z",
     "iopub.status.busy": "2024-12-07T08:59:16.269997Z",
     "iopub.status.idle": "2024-12-07T08:59:16.275809Z",
     "shell.execute_reply": "2024-12-07T08:59:16.274737Z"
    },
    "papermill": {
     "duration": 0.014234,
     "end_time": "2024-12-07T08:59:16.277915",
     "exception": false,
     "start_time": "2024-12-07T08:59:16.263681",
     "status": "completed"
    },
    "tags": []
   },
   "outputs": [],
   "source": [
    "p2i_dict = {\n",
    "        'apo-ferritin': 0,\n",
    "        'beta-amylase': 1,\n",
    "        'beta-galactosidase': 2,\n",
    "        'ribosome': 3,\n",
    "        'thyroglobulin': 4,\n",
    "        'virus-like-particle': 5\n",
    "    }\n",
    "\n",
    "i2p = {v:k for k, v in p2i_dict.items()}\n",
    "\n",
    "particle_radius = {\n",
    "        'apo-ferritin': 60,\n",
    "        'beta-amylase': 65,\n",
    "        'beta-galactosidase': 90,\n",
    "        'ribosome': 150,\n",
    "        'thyroglobulin': 130,\n",
    "        'virus-like-particle': 135,\n",
    "    }"
   ]
  },
  {
   "cell_type": "code",
   "execution_count": 9,
   "id": "f9cb99b3",
   "metadata": {
    "execution": {
     "iopub.execute_input": "2024-12-07T08:59:16.291896Z",
     "iopub.status.busy": "2024-12-07T08:59:16.291319Z",
     "iopub.status.idle": "2024-12-07T08:59:16.297267Z",
     "shell.execute_reply": "2024-12-07T08:59:16.295982Z"
    },
    "papermill": {
     "duration": 0.01669,
     "end_time": "2024-12-07T08:59:16.300074",
     "exception": false,
     "start_time": "2024-12-07T08:59:16.283384",
     "status": "completed"
    },
    "tags": []
   },
   "outputs": [],
   "source": [
    "particle_names = ['apo-ferritin', 'beta-amylase', 'beta-galactosidase', 'ribosome', 'thyroglobulin', 'virus-like-particle']"
   ]
  },
  {
   "cell_type": "code",
   "execution_count": 10,
   "id": "ad01557c",
   "metadata": {},
   "outputs": [
    {
     "data": {
      "text/html": [
       "<div>\n",
       "<style scoped>\n",
       "    .dataframe tbody tr th:only-of-type {\n",
       "        vertical-align: middle;\n",
       "    }\n",
       "\n",
       "    .dataframe tbody tr th {\n",
       "        vertical-align: top;\n",
       "    }\n",
       "\n",
       "    .dataframe thead th {\n",
       "        text-align: right;\n",
       "    }\n",
       "</style>\n",
       "<table border=\"1\" class=\"dataframe\">\n",
       "  <thead>\n",
       "    <tr style=\"text-align: right;\">\n",
       "      <th></th>\n",
       "      <th>pickable_object_name</th>\n",
       "      <th>user_id</th>\n",
       "      <th>session_id</th>\n",
       "      <th>run_name</th>\n",
       "      <th>voxel_spacing</th>\n",
       "      <th>unit</th>\n",
       "      <th>points</th>\n",
       "      <th>trust_orientation</th>\n",
       "      <th>x</th>\n",
       "      <th>y</th>\n",
       "      <th>z</th>\n",
       "    </tr>\n",
       "  </thead>\n",
       "  <tbody>\n",
       "    <tr>\n",
       "      <th>0</th>\n",
       "      <td>apo-ferritin</td>\n",
       "      <td>curation</td>\n",
       "      <td>0</td>\n",
       "      <td>TS_5_4</td>\n",
       "      <td>NaN</td>\n",
       "      <td>angstrom</td>\n",
       "      <td>{'location': {'x': 468.514, 'y': 5915.906, 'z'...</td>\n",
       "      <td>True</td>\n",
       "      <td>468.514</td>\n",
       "      <td>5915.906</td>\n",
       "      <td>604.167</td>\n",
       "    </tr>\n",
       "    <tr>\n",
       "      <th>1</th>\n",
       "      <td>apo-ferritin</td>\n",
       "      <td>curation</td>\n",
       "      <td>0</td>\n",
       "      <td>TS_5_4</td>\n",
       "      <td>NaN</td>\n",
       "      <td>angstrom</td>\n",
       "      <td>{'location': {'x': 5674.694, 'y': 1114.354, 'z...</td>\n",
       "      <td>True</td>\n",
       "      <td>5674.694</td>\n",
       "      <td>1114.354</td>\n",
       "      <td>565.068</td>\n",
       "    </tr>\n",
       "  </tbody>\n",
       "</table>\n",
       "</div>"
      ],
      "text/plain": [
       "  pickable_object_name   user_id  session_id run_name  voxel_spacing  \\\n",
       "0         apo-ferritin  curation           0   TS_5_4            NaN   \n",
       "1         apo-ferritin  curation           0   TS_5_4            NaN   \n",
       "\n",
       "       unit                                             points  \\\n",
       "0  angstrom  {'location': {'x': 468.514, 'y': 5915.906, 'z'...   \n",
       "1  angstrom  {'location': {'x': 5674.694, 'y': 1114.354, 'z...   \n",
       "\n",
       "   trust_orientation         x         y        z  \n",
       "0               True   468.514  5915.906  604.167  \n",
       "1               True  5674.694  1114.354  565.068  "
      ]
     },
     "execution_count": 10,
     "metadata": {},
     "output_type": "execute_result"
    }
   ],
   "source": [
    "json_each_paticle = f\"../../raw/train/overlay/ExperimentRuns/TS_5_4/Picks/apo-ferritin.json\"\n",
    "df = pd.read_json(json_each_paticle) \n",
    "for axis in \"x\", \"y\", \"z\":\n",
    "    df[axis] = df.points.apply(lambda x: x[\"location\"][axis])\n",
    "df.head(2)"
   ]
  },
  {
   "cell_type": "markdown",
   "id": "6ab59a00",
   "metadata": {
    "papermill": {
     "duration": 0.007529,
     "end_time": "2024-12-07T08:59:16.315435",
     "exception": false,
     "start_time": "2024-12-07T08:59:16.307906",
     "status": "completed"
    },
    "tags": []
   },
   "source": [
    "# Main function for making datasets for YOLO\n",
    "This is the main function.\n",
    "\n",
    "Watch that YOLO annotation requires normalized 0 to 1 value range and (center_x, center_y, width, height) coordinate format."
   ]
  },
  {
   "cell_type": "code",
   "execution_count": 11,
   "id": "357ffc26",
   "metadata": {
    "execution": {
     "iopub.execute_input": "2024-12-07T08:59:16.337279Z",
     "iopub.status.busy": "2024-12-07T08:59:16.336872Z",
     "iopub.status.idle": "2024-12-07T08:59:16.349982Z",
     "shell.execute_reply": "2024-12-07T08:59:16.348677Z"
    },
    "papermill": {
     "duration": 0.027644,
     "end_time": "2024-12-07T08:59:16.352215",
     "exception": false,
     "start_time": "2024-12-07T08:59:16.324571",
     "status": "completed"
    },
    "tags": []
   },
   "outputs": [],
   "source": [
    "def make_annotate_yolo(run_name, is_train_path=True):\n",
    "    use_cols = ['exp_name', 'frame', 'x', 'y', 'height', 'width', 'label']\n",
    "    df_result = pd.DataFrame(columns=use_cols)\n",
    "    # to split validation\n",
    "    is_train_path = 'train' if is_train_path else 'val'\n",
    "\n",
    "    # read a volume\n",
    "    vol = zarr.open(f'../../raw/train/static/ExperimentRuns/{r}/VoxelSpacing10.000/denoised.zarr', mode='r')\n",
    "    # use largest images\n",
    "    vol = vol[0]\n",
    "    # normalize [0, 255]\n",
    "    vol2 = convert_to_8bit(vol)\n",
    "    \n",
    "    n_imgs = vol2.shape[0]\n",
    "    # process each slices\n",
    "    for j in range(n_imgs):\n",
    "        newvol = vol2[j]\n",
    "        newvolf = np.stack([newvol]*3, axis=-1)\n",
    "        # YOLO requires image_size is multiple of 32\n",
    "        # 元画像のサイズを確認\n",
    "        h, w = newvolf.shape[:2]\n",
    "\n",
    "        # 必要なパディング量を計算 (左右と上下に均等に追加)\n",
    "        padding = (640 - max(h, w)) // 2  # 10ピクセルのパディング\n",
    "\n",
    "        # パディングを適用\n",
    "        padded_image = cv2.copyMakeBorder(\n",
    "            newvolf,\n",
    "            top=padding,\n",
    "            bottom=padding,\n",
    "            left=padding,\n",
    "            right=padding,\n",
    "            borderType=cv2.BORDER_CONSTANT,\n",
    "            value=(0, 0, 0)  # 黒背景（RGB画像の場合）\n",
    "        )\n",
    "\n",
    "        # 結果を確認\n",
    "        # print(f\"Original size: {h}x{w}\")\n",
    "        # print(f\"Padded size: {padded_image.shape[:2]}\")\n",
    "        \n",
    "        # newvolf = cv2.resize(newvolf, (640,640))\n",
    "        # save as 1 slice\n",
    "        cv2.imwrite(f'../../proc/yolo11_padding/images/{is_train_path}/{run_name}_{j*10}.png', padded_image)\n",
    "        # make txt file for annotation\n",
    "        with open(f'../../proc/yolo11_padding/labels/{is_train_path}/{run_name}_{j*10}.txt', 'w'):\n",
    "            pass # make empty file\n",
    "            \n",
    "    # process each paticle types\n",
    "    for p, particle in enumerate(tqdm(particle_names)):\n",
    "        # we do not have to detect beta-amylase which weight is 0\n",
    "        if particle==\"beta-amylase\":\n",
    "            continue\n",
    "        json_each_paticle = f\"../../raw/train/overlay/ExperimentRuns/{run_name}/Picks/{particle}.json\"\n",
    "        df = pd.read_json(json_each_paticle) \n",
    "        # pick each coordinate of particles\n",
    "        for axis in \"x\", \"y\", \"z\":\n",
    "            df[axis] = df.points.apply(lambda x: x[\"location\"][axis])\n",
    "\n",
    "        \n",
    "        radius = particle_radius[particle]\n",
    "        for i, row in df.iterrows():\n",
    "            # The radius from the center of the particle is used to determine the slices present.\n",
    "            start_z = np.round(row['z'] - radius).astype(np.int32)\n",
    "            start_z = max(0, start_z//10) # 10 means pixelspacing\n",
    "            end_z = np.round(row['z'] + radius).astype(np.int32)\n",
    "            end_z = min(n_imgs, end_z//10) # 10 means pixelspacing\n",
    "            \n",
    "            for j in range(start_z+1, end_z+1-1, 1):\n",
    "                # 可視化用\n",
    "                data = [\n",
    "                    run_name, \n",
    "                    j*10, \n",
    "                    (row[\"x\"]/10+padding)/640, \n",
    "                    (row[\"y\"]/10+padding)/640, \n",
    "                    radius/10/640*2, \n",
    "                    radius/10/640*2, \n",
    "                    p2i_dict[particle]\n",
    "                ]\n",
    "                df_result.loc[len(df_result)] = data\n",
    "                # white the results of annotation\n",
    "                with open(f'../../proc/yolo11_padding/labels/{is_train_path}/{run_name}_{j*10}.txt', 'a') as f:\n",
    "                    f.write(f'{p2i_dict[particle]} {(row[\"x\"]/10+padding)/640} {(row[\"y\"]/10+padding)/640} {radius/10/640*2} {radius/10/640*2} \\n')\n",
    "    \n",
    "    return df_result"
   ]
  },
  {
   "cell_type": "markdown",
   "id": "c5934bdc",
   "metadata": {
    "papermill": {
     "duration": 0.005622,
     "end_time": "2024-12-07T08:59:16.363176",
     "exception": false,
     "start_time": "2024-12-07T08:59:16.357554",
     "status": "completed"
    },
    "tags": []
   },
   "source": [
    "# Prepare Folders"
   ]
  },
  {
   "cell_type": "code",
   "execution_count": 12,
   "id": "fab12149",
   "metadata": {
    "execution": {
     "iopub.execute_input": "2024-12-07T08:59:16.383151Z",
     "iopub.status.busy": "2024-12-07T08:59:16.382569Z",
     "iopub.status.idle": "2024-12-07T08:59:16.388341Z",
     "shell.execute_reply": "2024-12-07T08:59:16.387499Z"
    },
    "papermill": {
     "duration": 0.017474,
     "end_time": "2024-12-07T08:59:16.390241",
     "exception": false,
     "start_time": "2024-12-07T08:59:16.372767",
     "status": "completed"
    },
    "tags": []
   },
   "outputs": [],
   "source": [
    "os.makedirs(\"../../proc/yolo11_padding/images/train\", exist_ok=True)\n",
    "os.makedirs(\"../../proc/yolo11_padding/images/val\", exist_ok=True)\n",
    "os.makedirs(\"../../proc/yolo11_padding/labels/val\", exist_ok=True)\n",
    "os.makedirs(\"../../proc/yolo11_padding/labels/train\", exist_ok=True)"
   ]
  },
  {
   "cell_type": "markdown",
   "id": "6fa023a5",
   "metadata": {
    "papermill": {
     "duration": 0.004852,
     "end_time": "2024-12-07T08:59:16.400276",
     "exception": false,
     "start_time": "2024-12-07T08:59:16.395424",
     "status": "completed"
    },
    "tags": []
   },
   "source": [
    "# Main loop to make slice images and annotations"
   ]
  },
  {
   "cell_type": "code",
   "execution_count": 13,
   "id": "06f494d9",
   "metadata": {
    "execution": {
     "iopub.execute_input": "2024-12-07T08:59:16.412365Z",
     "iopub.status.busy": "2024-12-07T08:59:16.411615Z",
     "iopub.status.idle": "2024-12-07T09:00:37.492184Z",
     "shell.execute_reply": "2024-12-07T09:00:37.491007Z"
    },
    "papermill": {
     "duration": 81.089202,
     "end_time": "2024-12-07T09:00:37.494559",
     "exception": false,
     "start_time": "2024-12-07T08:59:16.405357",
     "status": "completed"
    },
    "tags": []
   },
   "outputs": [
    {
     "name": "stderr",
     "output_type": "stream",
     "text": [
      "100%|██████████| 6/6 [00:03<00:00,  1.76it/s]\n",
      "100%|██████████| 6/6 [00:03<00:00,  1.67it/s]\n",
      "100%|██████████| 6/6 [00:05<00:00,  1.15it/s]\n",
      "100%|██████████| 6/6 [00:03<00:00,  1.75it/s]\n",
      "100%|██████████| 6/6 [00:04<00:00,  1.20it/s]\n",
      "100%|██████████| 6/6 [00:05<00:00,  1.01it/s]\n",
      "100%|██████████| 6/6 [00:05<00:00,  1.10it/s]\n"
     ]
    }
   ],
   "source": [
    "# {0: 'TS_5_4',\n",
    "#  1: 'TS_69_2',\n",
    "#  2: 'TS_6_4',\n",
    "#  3: 'TS_6_6',\n",
    "#  4: 'TS_73_6',\n",
    "#  5: 'TS_86_3',\n",
    "#  6: 'TS_99_9'}\n",
    "list_df_result = []\n",
    "for i, r in enumerate(runs):\n",
    "    list_df_result.append(make_annotate_yolo(r, is_train_path=False if i==0 else True))"
   ]
  },
  {
   "cell_type": "code",
   "execution_count": 14,
   "id": "e9b3a608",
   "metadata": {},
   "outputs": [
    {
     "data": {
      "text/html": [
       "<div>\n",
       "<style scoped>\n",
       "    .dataframe tbody tr th:only-of-type {\n",
       "        vertical-align: middle;\n",
       "    }\n",
       "\n",
       "    .dataframe tbody tr th {\n",
       "        vertical-align: top;\n",
       "    }\n",
       "\n",
       "    .dataframe thead th {\n",
       "        text-align: right;\n",
       "    }\n",
       "</style>\n",
       "<table border=\"1\" class=\"dataframe\">\n",
       "  <thead>\n",
       "    <tr style=\"text-align: right;\">\n",
       "      <th></th>\n",
       "      <th>exp_name</th>\n",
       "      <th>frame</th>\n",
       "      <th>x</th>\n",
       "      <th>y</th>\n",
       "      <th>height</th>\n",
       "      <th>width</th>\n",
       "      <th>label</th>\n",
       "    </tr>\n",
       "  </thead>\n",
       "  <tbody>\n",
       "    <tr>\n",
       "      <th>0</th>\n",
       "      <td>TS_5_4</td>\n",
       "      <td>10</td>\n",
       "      <td>0.561035</td>\n",
       "      <td>0.297070</td>\n",
       "      <td>0.028125</td>\n",
       "      <td>0.028125</td>\n",
       "      <td>2</td>\n",
       "    </tr>\n",
       "    <tr>\n",
       "      <th>1</th>\n",
       "      <td>TS_5_4</td>\n",
       "      <td>10</td>\n",
       "      <td>0.803125</td>\n",
       "      <td>0.097418</td>\n",
       "      <td>0.040625</td>\n",
       "      <td>0.040625</td>\n",
       "      <td>4</td>\n",
       "    </tr>\n",
       "    <tr>\n",
       "      <th>2</th>\n",
       "      <td>TS_5_4</td>\n",
       "      <td>20</td>\n",
       "      <td>0.925042</td>\n",
       "      <td>0.809548</td>\n",
       "      <td>0.018750</td>\n",
       "      <td>0.018750</td>\n",
       "      <td>0</td>\n",
       "    </tr>\n",
       "    <tr>\n",
       "      <th>3</th>\n",
       "      <td>TS_5_4</td>\n",
       "      <td>20</td>\n",
       "      <td>0.561035</td>\n",
       "      <td>0.297070</td>\n",
       "      <td>0.028125</td>\n",
       "      <td>0.028125</td>\n",
       "      <td>2</td>\n",
       "    </tr>\n",
       "    <tr>\n",
       "      <th>4</th>\n",
       "      <td>TS_5_4</td>\n",
       "      <td>20</td>\n",
       "      <td>0.803125</td>\n",
       "      <td>0.097418</td>\n",
       "      <td>0.040625</td>\n",
       "      <td>0.040625</td>\n",
       "      <td>4</td>\n",
       "    </tr>\n",
       "    <tr>\n",
       "      <th>...</th>\n",
       "      <td>...</td>\n",
       "      <td>...</td>\n",
       "      <td>...</td>\n",
       "      <td>...</td>\n",
       "      <td>...</td>\n",
       "      <td>...</td>\n",
       "      <td>...</td>\n",
       "    </tr>\n",
       "    <tr>\n",
       "      <th>24794</th>\n",
       "      <td>TS_99_9</td>\n",
       "      <td>1430</td>\n",
       "      <td>0.241967</td>\n",
       "      <td>0.667303</td>\n",
       "      <td>0.040625</td>\n",
       "      <td>0.040625</td>\n",
       "      <td>4</td>\n",
       "    </tr>\n",
       "    <tr>\n",
       "      <th>24795</th>\n",
       "      <td>TS_99_9</td>\n",
       "      <td>1440</td>\n",
       "      <td>0.312185</td>\n",
       "      <td>0.850267</td>\n",
       "      <td>0.046875</td>\n",
       "      <td>0.046875</td>\n",
       "      <td>3</td>\n",
       "    </tr>\n",
       "    <tr>\n",
       "      <th>24796</th>\n",
       "      <td>TS_99_9</td>\n",
       "      <td>1440</td>\n",
       "      <td>0.145738</td>\n",
       "      <td>0.810348</td>\n",
       "      <td>0.046875</td>\n",
       "      <td>0.046875</td>\n",
       "      <td>3</td>\n",
       "    </tr>\n",
       "    <tr>\n",
       "      <th>24797</th>\n",
       "      <td>TS_99_9</td>\n",
       "      <td>1440</td>\n",
       "      <td>0.241967</td>\n",
       "      <td>0.667303</td>\n",
       "      <td>0.040625</td>\n",
       "      <td>0.040625</td>\n",
       "      <td>4</td>\n",
       "    </tr>\n",
       "    <tr>\n",
       "      <th>24798</th>\n",
       "      <td>TS_99_9</td>\n",
       "      <td>1450</td>\n",
       "      <td>0.312185</td>\n",
       "      <td>0.850267</td>\n",
       "      <td>0.046875</td>\n",
       "      <td>0.046875</td>\n",
       "      <td>3</td>\n",
       "    </tr>\n",
       "  </tbody>\n",
       "</table>\n",
       "<p>24799 rows × 7 columns</p>\n",
       "</div>"
      ],
      "text/plain": [
       "      exp_name  frame         x         y    height     width  label\n",
       "0       TS_5_4     10  0.561035  0.297070  0.028125  0.028125      2\n",
       "1       TS_5_4     10  0.803125  0.097418  0.040625  0.040625      4\n",
       "2       TS_5_4     20  0.925042  0.809548  0.018750  0.018750      0\n",
       "3       TS_5_4     20  0.561035  0.297070  0.028125  0.028125      2\n",
       "4       TS_5_4     20  0.803125  0.097418  0.040625  0.040625      4\n",
       "...        ...    ...       ...       ...       ...       ...    ...\n",
       "24794  TS_99_9   1430  0.241967  0.667303  0.040625  0.040625      4\n",
       "24795  TS_99_9   1440  0.312185  0.850267  0.046875  0.046875      3\n",
       "24796  TS_99_9   1440  0.145738  0.810348  0.046875  0.046875      3\n",
       "24797  TS_99_9   1440  0.241967  0.667303  0.040625  0.040625      4\n",
       "24798  TS_99_9   1450  0.312185  0.850267  0.046875  0.046875      3\n",
       "\n",
       "[24799 rows x 7 columns]"
      ]
     },
     "execution_count": 14,
     "metadata": {},
     "output_type": "execute_result"
    }
   ],
   "source": [
    "df_result = pd.concat(list_df_result).sort_values(by=[\"exp_name\", \"frame\"]).reset_index(drop=True)\n",
    "df_result"
   ]
  },
  {
   "cell_type": "code",
   "execution_count": 15,
   "id": "9eab6778",
   "metadata": {},
   "outputs": [],
   "source": [
    "df_result.to_csv(\"df_labels_padding.csv\", index=False)"
   ]
  },
  {
   "cell_type": "markdown",
   "id": "707ea10e",
   "metadata": {
    "papermill": {
     "duration": 0.006568,
     "end_time": "2024-12-07T09:00:37.508368",
     "exception": false,
     "start_time": "2024-12-07T09:00:37.501800",
     "status": "completed"
    },
    "tags": []
   },
   "source": [
    "Put them all in one folder."
   ]
  },
  {
   "cell_type": "code",
   "execution_count": 16,
   "id": "c52547e5",
   "metadata": {
    "execution": {
     "iopub.execute_input": "2024-12-07T09:00:37.524463Z",
     "iopub.status.busy": "2024-12-07T09:00:37.523527Z",
     "iopub.status.idle": "2024-12-07T09:00:39.148699Z",
     "shell.execute_reply": "2024-12-07T09:00:39.147521Z"
    },
    "papermill": {
     "duration": 1.635747,
     "end_time": "2024-12-07T09:00:39.151115",
     "exception": false,
     "start_time": "2024-12-07T09:00:37.515368",
     "status": "completed"
    },
    "tags": []
   },
   "outputs": [
    {
     "data": {
      "text/plain": [
       "'../../proc/yolo11_padding/datasets/czii_det2d/labels/val'"
      ]
     },
     "execution_count": 16,
     "metadata": {},
     "output_type": "execute_result"
    }
   ],
   "source": [
    "import shutil\n",
    "os.makedirs('../../proc/yolo11_padding/datasets/czii_det2d', exist_ok=True)\n",
    "shutil.move('../../proc/yolo11_padding/images/train', '../../proc/yolo11_padding/datasets/czii_det2d/images/train')\n",
    "shutil.move('../../proc/yolo11_padding/images/val', '../../proc/yolo11_padding/datasets/czii_det2d/images')\n",
    "shutil.move('../../proc/yolo11_padding/labels/train', '../../proc/yolo11_padding/datasets/czii_det2d/labels/train')\n",
    "shutil.move('../../proc/yolo11_padding/labels/val', '../../proc/yolo11_padding/datasets/czii_det2d/labels')"
   ]
  },
  {
   "cell_type": "markdown",
   "id": "4be912ec",
   "metadata": {
    "papermill": {
     "duration": 0.007981,
     "end_time": "2024-12-07T09:00:39.167973",
     "exception": false,
     "start_time": "2024-12-07T09:00:39.159992",
     "status": "completed"
    },
    "tags": []
   },
   "source": [
    "# make yaml file for Training \n",
    "We need to create a yaml configuration file for training, the format of which will not be detailed here."
   ]
  },
  {
   "cell_type": "code",
   "execution_count": 17,
   "id": "571479a4",
   "metadata": {
    "execution": {
     "iopub.execute_input": "2024-12-07T09:00:39.184448Z",
     "iopub.status.busy": "2024-12-07T09:00:39.184047Z",
     "iopub.status.idle": "2024-12-07T09:00:39.192579Z",
     "shell.execute_reply": "2024-12-07T09:00:39.190493Z"
    },
    "papermill": {
     "duration": 0.019806,
     "end_time": "2024-12-07T09:00:39.194752",
     "exception": false,
     "start_time": "2024-12-07T09:00:39.174946",
     "status": "completed"
    },
    "tags": []
   },
   "outputs": [
    {
     "name": "stdout",
     "output_type": "stream",
     "text": [
      "Writing ../../proc/yolo11_padding/czii_conf.yaml\n"
     ]
    }
   ],
   "source": [
    "%%writefile ../../proc/yolo11_padding/czii_conf.yaml\n",
    "\n",
    "path: /workspace/CZII/proc/yolo11_padding/datasets/czii_det2d # dataset root dir\n",
    "train: images/train # train images (relative to 'path') \n",
    "val: images/val # val images (relative to 'path') \n",
    "\n",
    "# Classes\n",
    "names:\n",
    "  0: apo-ferritin\n",
    "  1: beta-amylase\n",
    "  2: beta-galactosidase\n",
    "  3: ribosome\n",
    "  4: thyroglobulin\n",
    "  5: virus-like-particle"
   ]
  },
  {
   "cell_type": "code",
   "execution_count": null,
   "id": "1c67c358",
   "metadata": {},
   "outputs": [],
   "source": []
  }
 ],
 "metadata": {
  "kaggle": {
   "accelerator": "none",
   "dataSources": [
    {
     "databundleVersionId": 10033515,
     "sourceId": 84969,
     "sourceType": "competition"
    }
   ],
   "dockerImageVersionId": 30804,
   "isGpuEnabled": false,
   "isInternetEnabled": true,
   "language": "python",
   "sourceType": "notebook"
  },
  "kernelspec": {
   "display_name": "Python 3",
   "language": "python",
   "name": "python3"
  },
  "language_info": {
   "codemirror_mode": {
    "name": "ipython",
    "version": 3
   },
   "file_extension": ".py",
   "mimetype": "text/x-python",
   "name": "python",
   "nbconvert_exporter": "python",
   "pygments_lexer": "ipython3",
   "version": "3.12.8"
  },
  "papermill": {
   "default_parameters": {},
   "duration": 102.288778,
   "end_time": "2024-12-07T09:00:39.739722",
   "environment_variables": {},
   "exception": null,
   "input_path": "__notebook__.ipynb",
   "output_path": "__notebook__.ipynb",
   "parameters": {},
   "start_time": "2024-12-07T08:58:57.450944",
   "version": "2.6.0"
  }
 },
 "nbformat": 4,
 "nbformat_minor": 5
}
