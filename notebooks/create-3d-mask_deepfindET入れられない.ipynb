{
 "cells": [
  {
   "cell_type": "code",
   "execution_count": 6,
   "id": "37555c6d",
   "metadata": {
    "execution": {
     "iopub.execute_input": "2025-01-08T11:11:41.298353Z",
     "iopub.status.busy": "2025-01-08T11:11:41.297889Z",
     "iopub.status.idle": "2025-01-08T11:11:45.815649Z",
     "shell.execute_reply": "2025-01-08T11:11:45.814244Z"
    },
    "papermill": {
     "duration": 4.574292,
     "end_time": "2025-01-08T11:11:45.818351",
     "exception": false,
     "start_time": "2025-01-08T11:11:41.244059",
     "status": "completed"
    },
    "tags": []
   },
   "outputs": [],
   "source": [
    "import sys\n",
    "sys.path.append('yolo11_try/hengck')\n",
    "from dataset import *\n",
    "\n",
    "overlay_dir = \"../raw/train/overlay/ExperimentRuns\"\n",
    "static_dir = \"../raw/train/static/ExperimentRuns\"\n",
    "_id = \"TS_5_4\"\n",
    "label = read_one_truth(_id, overlay_dir)\n",
    "volume = read_one_data(_id, static_dir)"
   ]
  },
  {
   "cell_type": "code",
   "execution_count": 8,
   "id": "2dfd66ae",
   "metadata": {
    "execution": {
     "iopub.execute_input": "2025-01-08T11:11:45.915589Z",
     "iopub.status.busy": "2025-01-08T11:11:45.914860Z",
     "iopub.status.idle": "2025-01-08T11:11:45.921975Z",
     "shell.execute_reply": "2025-01-08T11:11:45.920763Z"
    },
    "papermill": {
     "duration": 0.053228,
     "end_time": "2025-01-08T11:11:45.923871",
     "exception": false,
     "start_time": "2025-01-08T11:11:45.870643",
     "status": "completed"
    },
    "tags": []
   },
   "outputs": [],
   "source": [
    "# https://www.kaggle.com/competitions/czii-cryo-et-object-identification/discussion/547350#3056534\n",
    "# 粒子が重なり合わないように半径を調整する必要がありそう。オリジナルの1/10に調整\n",
    "config_blob = \"\"\"{\n",
    "    \"name\": \"czii_cryoet_mlchallenge_2024\",\n",
    "    \"description\": \"2024 CZII CryoET ML Challenge training data.\",\n",
    "    \"version\": \"1.0.0\",\n",
    "\n",
    "    \"pickable_objects\": [\n",
    "        {\n",
    "            \"name\": \"apo-ferritin\",\n",
    "            \"is_particle\": true,\n",
    "            \"pdb_id\": \"4V1W\",\n",
    "            \"label\": 1,\n",
    "            \"color\": [0, 255, 0, 0],\n",
    "            \"radius\": 10,\n",
    "            \"map_threshold\": 0.0418\n",
    "        },\n",
    "        {\n",
    "            \"name\": \"beta-amylase\",\n",
    "            \"is_particle\": true,\n",
    "            \"pdb_id\": \"1FA2\",\n",
    "            \"label\": 2,\n",
    "            \"color\":[0, 0, 255, 255],\n",
    "            \"radius\": 10,\n",
    "            \"map_threshold\": 0.035\n",
    "        },\n",
    "        {\n",
    "            \"name\": \"beta-galactosidase\",\n",
    "            \"is_particle\": true,\n",
    "            \"pdb_id\": \"6X1Q\",\n",
    "            \"label\": 3,\n",
    "            \"color\": [0, 255, 0, 255],\n",
    "            \"radius\": 10,\n",
    "            \"map_threshold\": 0.0578\n",
    "        },\n",
    "        {\n",
    "            \"name\": \"ribosome\",\n",
    "            \"is_particle\": true,\n",
    "            \"pdb_id\": \"6EK0\",\n",
    "            \"label\": 4,\n",
    "            \"color\": [0, 0, 255, 0],\n",
    "            \"radius\": 10,\n",
    "            \"map_threshold\": 0.0374\n",
    "        },\n",
    "        {\n",
    "            \"name\": \"thyroglobulin\",\n",
    "            \"is_particle\": true,\n",
    "            \"pdb_id\": \"6SCJ\",\n",
    "            \"label\": 5,\n",
    "            \"color\": [0, 255, 255, 0],\n",
    "            \"radius\": 10,\n",
    "            \"map_threshold\": 0.0278\n",
    "        },\n",
    "        {\n",
    "            \"name\": \"virus-like-particle\",\n",
    "            \"is_particle\": true,\n",
    "            \"label\": 6,\n",
    "            \"color\": [0, 0, 0, 255],\n",
    "            \"radius\": 10,\n",
    "            \"map_threshold\": 0.201\n",
    "        }\n",
    "    ],\n",
    "\n",
    "    \"overlay_root\": \"/kaggle/working/overlay\",\n",
    "\n",
    "    \"overlay_fs_args\": {\n",
    "        \"auto_mkdir\": true\n",
    "    },\n",
    "\n",
    "    \"static_root\": \"/kaggle/input/czii-cryo-et-object-identification/train/static\"\n",
    "}\"\"\"\n",
    "\n",
    "copick_config_path = \"../proc/create_3d_mask/copick.config\"\n",
    "output_overlay = \"../proc/create_3d_mask/overlay\"\n",
    "\n",
    "with open(copick_config_path, \"w\") as f:\n",
    "    f.write(config_blob)\n",
    "    "
   ]
  },
  {
   "cell_type": "code",
   "execution_count": 9,
   "id": "5e33a159",
   "metadata": {
    "execution": {
     "iopub.execute_input": "2025-01-08T11:11:46.117611Z",
     "iopub.status.busy": "2025-01-08T11:11:46.117223Z",
     "iopub.status.idle": "2025-01-08T11:11:46.378105Z",
     "shell.execute_reply": "2025-01-08T11:11:46.376754Z"
    },
    "papermill": {
     "duration": 0.315076,
     "end_time": "2025-01-08T11:11:46.379892",
     "exception": false,
     "start_time": "2025-01-08T11:11:46.064816",
     "status": "completed"
    },
    "tags": []
   },
   "outputs": [
    {
     "name": "stdout",
     "output_type": "stream",
     "text": [
      "Copied ../raw/train/overlay/ExperimentRuns/TS_5_4/Picks/apo-ferritin.json to ../proc/create_3d_mask/overlay/TS_5_4/Picks/curation_0_apo-ferritin.json\n",
      "Copied ../raw/train/overlay/ExperimentRuns/TS_5_4/Picks/beta-amylase.json to ../proc/create_3d_mask/overlay/TS_5_4/Picks/curation_0_beta-amylase.json\n",
      "Copied ../raw/train/overlay/ExperimentRuns/TS_5_4/Picks/beta-galactosidase.json to ../proc/create_3d_mask/overlay/TS_5_4/Picks/curation_0_beta-galactosidase.json\n",
      "Copied ../raw/train/overlay/ExperimentRuns/TS_5_4/Picks/ribosome.json to ../proc/create_3d_mask/overlay/TS_5_4/Picks/curation_0_ribosome.json\n",
      "Copied ../raw/train/overlay/ExperimentRuns/TS_5_4/Picks/thyroglobulin.json to ../proc/create_3d_mask/overlay/TS_5_4/Picks/curation_0_thyroglobulin.json\n",
      "Copied ../raw/train/overlay/ExperimentRuns/TS_5_4/Picks/virus-like-particle.json to ../proc/create_3d_mask/overlay/TS_5_4/Picks/curation_0_virus-like-particle.json\n",
      "Copied ../raw/train/overlay/ExperimentRuns/TS_69_2/Picks/apo-ferritin.json to ../proc/create_3d_mask/overlay/TS_69_2/Picks/curation_0_apo-ferritin.json\n",
      "Copied ../raw/train/overlay/ExperimentRuns/TS_69_2/Picks/beta-amylase.json to ../proc/create_3d_mask/overlay/TS_69_2/Picks/curation_0_beta-amylase.json\n",
      "Copied ../raw/train/overlay/ExperimentRuns/TS_69_2/Picks/beta-galactosidase.json to ../proc/create_3d_mask/overlay/TS_69_2/Picks/curation_0_beta-galactosidase.json\n",
      "Copied ../raw/train/overlay/ExperimentRuns/TS_69_2/Picks/ribosome.json to ../proc/create_3d_mask/overlay/TS_69_2/Picks/curation_0_ribosome.json\n",
      "Copied ../raw/train/overlay/ExperimentRuns/TS_69_2/Picks/thyroglobulin.json to ../proc/create_3d_mask/overlay/TS_69_2/Picks/curation_0_thyroglobulin.json\n",
      "Copied ../raw/train/overlay/ExperimentRuns/TS_69_2/Picks/virus-like-particle.json to ../proc/create_3d_mask/overlay/TS_69_2/Picks/curation_0_virus-like-particle.json\n",
      "Copied ../raw/train/overlay/ExperimentRuns/TS_6_4/Picks/apo-ferritin.json to ../proc/create_3d_mask/overlay/TS_6_4/Picks/curation_0_apo-ferritin.json\n",
      "Copied ../raw/train/overlay/ExperimentRuns/TS_6_4/Picks/beta-amylase.json to ../proc/create_3d_mask/overlay/TS_6_4/Picks/curation_0_beta-amylase.json\n",
      "Copied ../raw/train/overlay/ExperimentRuns/TS_6_4/Picks/beta-galactosidase.json to ../proc/create_3d_mask/overlay/TS_6_4/Picks/curation_0_beta-galactosidase.json\n",
      "Copied ../raw/train/overlay/ExperimentRuns/TS_6_4/Picks/ribosome.json to ../proc/create_3d_mask/overlay/TS_6_4/Picks/curation_0_ribosome.json\n",
      "Copied ../raw/train/overlay/ExperimentRuns/TS_6_4/Picks/thyroglobulin.json to ../proc/create_3d_mask/overlay/TS_6_4/Picks/curation_0_thyroglobulin.json\n",
      "Copied ../raw/train/overlay/ExperimentRuns/TS_6_4/Picks/virus-like-particle.json to ../proc/create_3d_mask/overlay/TS_6_4/Picks/curation_0_virus-like-particle.json\n",
      "Copied ../raw/train/overlay/ExperimentRuns/TS_6_6/Picks/apo-ferritin.json to ../proc/create_3d_mask/overlay/TS_6_6/Picks/curation_0_apo-ferritin.json\n",
      "Copied ../raw/train/overlay/ExperimentRuns/TS_6_6/Picks/beta-amylase.json to ../proc/create_3d_mask/overlay/TS_6_6/Picks/curation_0_beta-amylase.json\n",
      "Copied ../raw/train/overlay/ExperimentRuns/TS_6_6/Picks/beta-galactosidase.json to ../proc/create_3d_mask/overlay/TS_6_6/Picks/curation_0_beta-galactosidase.json\n",
      "Copied ../raw/train/overlay/ExperimentRuns/TS_6_6/Picks/ribosome.json to ../proc/create_3d_mask/overlay/TS_6_6/Picks/curation_0_ribosome.json\n",
      "Copied ../raw/train/overlay/ExperimentRuns/TS_6_6/Picks/thyroglobulin.json to ../proc/create_3d_mask/overlay/TS_6_6/Picks/curation_0_thyroglobulin.json\n",
      "Copied ../raw/train/overlay/ExperimentRuns/TS_6_6/Picks/virus-like-particle.json to ../proc/create_3d_mask/overlay/TS_6_6/Picks/curation_0_virus-like-particle.json\n",
      "Copied ../raw/train/overlay/ExperimentRuns/TS_73_6/Picks/apo-ferritin.json to ../proc/create_3d_mask/overlay/TS_73_6/Picks/curation_0_apo-ferritin.json\n",
      "Copied ../raw/train/overlay/ExperimentRuns/TS_73_6/Picks/beta-amylase.json to ../proc/create_3d_mask/overlay/TS_73_6/Picks/curation_0_beta-amylase.json\n",
      "Copied ../raw/train/overlay/ExperimentRuns/TS_73_6/Picks/beta-galactosidase.json to ../proc/create_3d_mask/overlay/TS_73_6/Picks/curation_0_beta-galactosidase.json\n",
      "Copied ../raw/train/overlay/ExperimentRuns/TS_73_6/Picks/ribosome.json to ../proc/create_3d_mask/overlay/TS_73_6/Picks/curation_0_ribosome.json\n",
      "Copied ../raw/train/overlay/ExperimentRuns/TS_73_6/Picks/thyroglobulin.json to ../proc/create_3d_mask/overlay/TS_73_6/Picks/curation_0_thyroglobulin.json\n",
      "Copied ../raw/train/overlay/ExperimentRuns/TS_73_6/Picks/virus-like-particle.json to ../proc/create_3d_mask/overlay/TS_73_6/Picks/curation_0_virus-like-particle.json\n",
      "Copied ../raw/train/overlay/ExperimentRuns/TS_86_3/Picks/apo-ferritin.json to ../proc/create_3d_mask/overlay/TS_86_3/Picks/curation_0_apo-ferritin.json\n",
      "Copied ../raw/train/overlay/ExperimentRuns/TS_86_3/Picks/beta-amylase.json to ../proc/create_3d_mask/overlay/TS_86_3/Picks/curation_0_beta-amylase.json\n",
      "Copied ../raw/train/overlay/ExperimentRuns/TS_86_3/Picks/beta-galactosidase.json to ../proc/create_3d_mask/overlay/TS_86_3/Picks/curation_0_beta-galactosidase.json\n",
      "Copied ../raw/train/overlay/ExperimentRuns/TS_86_3/Picks/ribosome.json to ../proc/create_3d_mask/overlay/TS_86_3/Picks/curation_0_ribosome.json\n",
      "Copied ../raw/train/overlay/ExperimentRuns/TS_86_3/Picks/thyroglobulin.json to ../proc/create_3d_mask/overlay/TS_86_3/Picks/curation_0_thyroglobulin.json\n",
      "Copied ../raw/train/overlay/ExperimentRuns/TS_86_3/Picks/virus-like-particle.json to ../proc/create_3d_mask/overlay/TS_86_3/Picks/curation_0_virus-like-particle.json\n",
      "Copied ../raw/train/overlay/ExperimentRuns/TS_99_9/Picks/apo-ferritin.json to ../proc/create_3d_mask/overlay/TS_99_9/Picks/curation_0_apo-ferritin.json\n",
      "Copied ../raw/train/overlay/ExperimentRuns/TS_99_9/Picks/beta-amylase.json to ../proc/create_3d_mask/overlay/TS_99_9/Picks/curation_0_beta-amylase.json\n",
      "Copied ../raw/train/overlay/ExperimentRuns/TS_99_9/Picks/beta-galactosidase.json to ../proc/create_3d_mask/overlay/TS_99_9/Picks/curation_0_beta-galactosidase.json\n",
      "Copied ../raw/train/overlay/ExperimentRuns/TS_99_9/Picks/ribosome.json to ../proc/create_3d_mask/overlay/TS_99_9/Picks/curation_0_ribosome.json\n",
      "Copied ../raw/train/overlay/ExperimentRuns/TS_99_9/Picks/thyroglobulin.json to ../proc/create_3d_mask/overlay/TS_99_9/Picks/curation_0_thyroglobulin.json\n",
      "Copied ../raw/train/overlay/ExperimentRuns/TS_99_9/Picks/virus-like-particle.json to ../proc/create_3d_mask/overlay/TS_99_9/Picks/curation_0_virus-like-particle.json\n"
     ]
    }
   ],
   "source": [
    "import os\n",
    "import shutil\n",
    "\n",
    "# Define source and destination directories\n",
    "source_dir = '../raw/train/overlay/ExperimentRuns'\n",
    "destination_dir = '../proc/create_3d_mask/overlay'\n",
    "\n",
    "# Walk through the source directory\n",
    "for root, dirs, files in os.walk(source_dir):\n",
    "    # Create corresponding subdirectories in the destination\n",
    "    relative_path = os.path.relpath(root, source_dir)\n",
    "    target_dir = os.path.join(destination_dir, relative_path)\n",
    "    os.makedirs(target_dir, exist_ok=True)\n",
    "    \n",
    "    # Copy and rename each file\n",
    "    for file in files:\n",
    "        if file.startswith(\"curation_0_\"):\n",
    "            new_filename = file\n",
    "        else:\n",
    "            new_filename = f\"curation_0_{file}\"\n",
    "            \n",
    "        \n",
    "        # Define full paths for the source and destination files\n",
    "        source_file = os.path.join(root, file)\n",
    "        destination_file = os.path.join(target_dir, new_filename)\n",
    "        \n",
    "        # Copy the file with the new name\n",
    "        shutil.copy2(source_file, destination_file)\n",
    "        print(f\"Copied {source_file} to {destination_file}\")"
   ]
  },
  {
   "cell_type": "code",
   "execution_count": 10,
   "id": "cff7feda",
   "metadata": {
    "execution": {
     "iopub.execute_input": "2025-01-08T11:11:46.468686Z",
     "iopub.status.busy": "2025-01-08T11:11:46.468313Z",
     "iopub.status.idle": "2025-01-08T11:11:50.682853Z",
     "shell.execute_reply": "2025-01-08T11:11:50.681560Z"
    },
    "papermill": {
     "duration": 4.26156,
     "end_time": "2025-01-08T11:11:50.685159",
     "exception": false,
     "start_time": "2025-01-08T11:11:46.423599",
     "status": "completed"
    },
    "tags": []
   },
   "outputs": [
    {
     "ename": "ModuleNotFoundError",
     "evalue": "No module named 'deepfindET'",
     "output_type": "error",
     "traceback": [
      "\u001b[0;31m---------------------------------------------------------------------------\u001b[0m",
      "\u001b[0;31mModuleNotFoundError\u001b[0m                       Traceback (most recent call last)",
      "Cell \u001b[0;32mIn[10], line 2\u001b[0m\n\u001b[1;32m      1\u001b[0m \u001b[38;5;28;01mimport\u001b[39;00m \u001b[38;5;21;01mcopick\u001b[39;00m\n\u001b[0;32m----> 2\u001b[0m \u001b[38;5;28;01mfrom\u001b[39;00m \u001b[38;5;21;01mdeepfindET\u001b[39;00m\u001b[38;5;21;01m.\u001b[39;00m\u001b[38;5;21;01mentry_points\u001b[39;00m \u001b[38;5;28;01mimport\u001b[39;00m step1\n\u001b[1;32m      3\u001b[0m \u001b[38;5;28;01mfrom\u001b[39;00m \u001b[38;5;21;01mdeepfindET\u001b[39;00m\u001b[38;5;21;01m.\u001b[39;00m\u001b[38;5;21;01mutils\u001b[39;00m \u001b[38;5;28;01mimport\u001b[39;00m copick_tools\n\u001b[1;32m      4\u001b[0m config \u001b[38;5;241m=\u001b[39m \u001b[38;5;124m'\u001b[39m\u001b[38;5;124m/kaggle/working/copick.config\u001b[39m\u001b[38;5;124m'\u001b[39m\n",
      "\u001b[0;31mModuleNotFoundError\u001b[0m: No module named 'deepfindET'"
     ]
    }
   ],
   "source": [
    "import copick\n",
    "from deepfindET.entry_points import step1\n",
    "from deepfindET.utils import copick_tools\n",
    "config = '/kaggle/working/copick.config'\n",
    "\n",
    "# Query Tomogram\n",
    "voxel_size = 10 \n",
    "tomogram_algorithm = 'denoised'\n",
    "\n",
    "# Output Name for the Segmentation Targets\n",
    "out_name = 'remotetargets'\n",
    "out_user_id = 'deepfindET'\n",
    "out_session_id = '0'\n",
    "\n",
    "# Read Copick Directory\n",
    "copickRoot = copick.from_file(config)"
   ]
  },
  {
   "cell_type": "code",
   "execution_count": 10,
   "id": "481f8778",
   "metadata": {
    "execution": {
     "iopub.execute_input": "2025-01-08T11:11:50.776485Z",
     "iopub.status.busy": "2025-01-08T11:11:50.775411Z",
     "iopub.status.idle": "2025-01-08T11:11:50.784994Z",
     "shell.execute_reply": "2025-01-08T11:11:50.783968Z"
    },
    "papermill": {
     "duration": 0.057216,
     "end_time": "2025-01-08T11:11:50.786906",
     "exception": false,
     "start_time": "2025-01-08T11:11:50.729690",
     "status": "completed"
    },
    "tags": []
   },
   "outputs": [
    {
     "data": {
      "text/plain": [
       "[('apo-ferritin', None, None, 1.0),\n",
       " ('beta-amylase', None, None, 1.0),\n",
       " ('beta-galactosidase', None, None, 1.0),\n",
       " ('ribosome', None, None, 1.0),\n",
       " ('thyroglobulin', None, None, 1.0),\n",
       " ('virus-like-particle', None, None, 1.0)]"
      ]
     },
     "execution_count": 10,
     "metadata": {},
     "output_type": "execute_result"
    }
   ],
   "source": [
    "[(obj.name, None, None, (obj.radius / voxel_size)) for obj in copickRoot.pickable_objects if obj.is_particle]"
   ]
  },
  {
   "cell_type": "code",
   "execution_count": 11,
   "id": "191d84b9",
   "metadata": {
    "execution": {
     "iopub.execute_input": "2025-01-08T11:11:50.977952Z",
     "iopub.status.busy": "2025-01-08T11:11:50.977571Z",
     "iopub.status.idle": "2025-01-08T11:11:50.982548Z",
     "shell.execute_reply": "2025-01-08T11:11:50.981556Z"
    },
    "papermill": {
     "duration": 0.153331,
     "end_time": "2025-01-08T11:11:50.984452",
     "exception": false,
     "start_time": "2025-01-08T11:11:50.831121",
     "status": "completed"
    },
    "tags": []
   },
   "outputs": [],
   "source": [
    "# Query Train Protein Coordiantes and any Associated Segmentations\n",
    "train_targets = {}\n",
    "\n",
    "# Define protein targets with their respective radii\n",
    "# We can Provide two forms of inputs, either \n",
    "# ('protein-name',radius) or ('protein-name', 'user-id', 'session-id', 'radius')\n",
    "targets = [(obj.name, None, None, (obj.radius / voxel_size)) for obj in copickRoot.pickable_objects if obj.is_particle]\n",
    "\n",
    "# Set run_ids to None, indicating that targets will be generated for the entire CoPick project by default.\n",
    "# If specific Run-IDs were provided, this variable would contain a list of those IDs.\n",
    "run_ids = None"
   ]
  },
  {
   "cell_type": "code",
   "execution_count": 12,
   "id": "8277e69c",
   "metadata": {
    "execution": {
     "iopub.execute_input": "2025-01-08T11:11:51.078557Z",
     "iopub.status.busy": "2025-01-08T11:11:51.078195Z",
     "iopub.status.idle": "2025-01-08T11:11:52.497376Z",
     "shell.execute_reply": "2025-01-08T11:11:52.495804Z"
    },
    "papermill": {
     "duration": 1.469556,
     "end_time": "2025-01-08T11:11:52.499968",
     "exception": false,
     "start_time": "2025-01-08T11:11:51.030412",
     "status": "completed"
    },
    "tags": []
   },
   "outputs": [
    {
     "name": "stdout",
     "output_type": "stream",
     "text": [
      "Processing Run: TS_5_4\n",
      "Annotating 140 objects ...\n",
      "\n",
      "Processing Run: TS_69_2\n",
      "Annotating 143 objects ...\n",
      "\n",
      "Processing Run: TS_6_4\n",
      "Annotating 193 objects ...\n",
      "\n",
      "Processing Run: TS_6_6\n",
      "Annotating 143 objects ...\n",
      "\n",
      "Processing Run: TS_73_6\n",
      "Annotating 217 objects ...\n",
      "\n",
      "Processing Run: TS_86_3\n",
      "Annotating 225 objects ...\n",
      "\n",
      "Processing Run: TS_99_9\n",
      "Annotating 208 objects ...\n",
      "\n"
     ]
    }
   ],
   "source": [
    "for t in targets:\n",
    "    obj_name, user_id, session_id, radius = t\n",
    "    info = {\n",
    "        \"label\": copickRoot.get_object(obj_name).label,\n",
    "        \"user_id\": user_id,\n",
    "        \"session_id\": session_id,\n",
    "        \"radius\": radius,\n",
    "        \"is_particle_target\": True,\n",
    "    }\n",
    "    train_targets[obj_name] = info\n",
    "\n",
    "\n",
    "# Define segmentation target (e.g., membrane)\n",
    "#seg_targets = [('membrane', None, None)]\n",
    "\n",
    "# Generate segmentation target information\n",
    "#for s in seg_targets:\n",
    "#    obj_name, user_id, session_id = s\n",
    "#    info = {\n",
    "#        \"label\": copickRoot.get_object(obj_name).label,\n",
    "#        \"user_id\": user_id,\n",
    "#        \"session_id\": session_id,\n",
    "#        \"radius\": None,       \n",
    "#        \"is_particle_target\": False,                 \n",
    "#    }\n",
    "#    train_targets[obj_name] = info\n",
    "\n",
    "# Call the create_train_targets function from step1 to generate the training targets for the 3D U-Net model.\n",
    "# The function will use the parameters defined in the previous cells and the following inputs:\n",
    "step1.create_train_targets(\n",
    "    config,              # The configuration file path specifying various settings and parameters for the project.\n",
    "    train_targets,       # A dictionary containing the target information for each protein or object to be segmented.\n",
    "    run_ids,             # The list of Run-IDs for which to generate targets. None means targets for the entire project.\n",
    "    voxel_size,          # The voxel size to be used in the tomogram data.\n",
    "    tomogram_algorithm,  # The reconstruction algorithm used for the tomograms, e.g., 'wbp' (weighted back projection).\n",
    "    out_name,            # The output name for the generated segmentation targets.\n",
    "    out_user_id,         # The user ID under which the output targets will be saved.\n",
    "    out_session_id,      # The session ID associated with the output, typically used for tracking purposes.\n",
    ")"
   ]
  },
  {
   "cell_type": "code",
   "execution_count": 13,
   "id": "ae876077",
   "metadata": {
    "execution": {
     "iopub.execute_input": "2025-01-08T11:11:52.590705Z",
     "iopub.status.busy": "2025-01-08T11:11:52.590319Z",
     "iopub.status.idle": "2025-01-08T11:11:52.597382Z",
     "shell.execute_reply": "2025-01-08T11:11:52.596324Z"
    },
    "papermill": {
     "duration": 0.053836,
     "end_time": "2025-01-08T11:11:52.599022",
     "exception": false,
     "start_time": "2025-01-08T11:11:52.545186",
     "status": "completed"
    },
    "tags": []
   },
   "outputs": [
    {
     "data": {
      "text/plain": [
       "{'apo-ferritin': {'label': 1,\n",
       "  'user_id': None,\n",
       "  'session_id': None,\n",
       "  'radius': 1.0,\n",
       "  'is_particle_target': True},\n",
       " 'beta-amylase': {'label': 2,\n",
       "  'user_id': None,\n",
       "  'session_id': None,\n",
       "  'radius': 1.0,\n",
       "  'is_particle_target': True},\n",
       " 'beta-galactosidase': {'label': 3,\n",
       "  'user_id': None,\n",
       "  'session_id': None,\n",
       "  'radius': 1.0,\n",
       "  'is_particle_target': True},\n",
       " 'ribosome': {'label': 4,\n",
       "  'user_id': None,\n",
       "  'session_id': None,\n",
       "  'radius': 1.0,\n",
       "  'is_particle_target': True},\n",
       " 'thyroglobulin': {'label': 5,\n",
       "  'user_id': None,\n",
       "  'session_id': None,\n",
       "  'radius': 1.0,\n",
       "  'is_particle_target': True},\n",
       " 'virus-like-particle': {'label': 6,\n",
       "  'user_id': None,\n",
       "  'session_id': None,\n",
       "  'radius': 1.0,\n",
       "  'is_particle_target': True}}"
      ]
     },
     "execution_count": 13,
     "metadata": {},
     "output_type": "execute_result"
    }
   ],
   "source": [
    "train_targets"
   ]
  },
  {
   "cell_type": "code",
   "execution_count": 14,
   "id": "0be1261f",
   "metadata": {
    "execution": {
     "iopub.execute_input": "2025-01-08T11:11:52.689559Z",
     "iopub.status.busy": "2025-01-08T11:11:52.689193Z",
     "iopub.status.idle": "2025-01-08T11:11:52.742152Z",
     "shell.execute_reply": "2025-01-08T11:11:52.740886Z"
    },
    "papermill": {
     "duration": 0.100824,
     "end_time": "2025-01-08T11:11:52.744120",
     "exception": false,
     "start_time": "2025-01-08T11:11:52.643296",
     "status": "completed"
    },
    "tags": []
   },
   "outputs": [],
   "source": [
    "# Option 1: Query All RunIDs\n",
    "# Retrieve all available Run-IDs from the CoPick project. This generates a list of Run-IDs by iterating over all runs in copickRoot.\n",
    "run_ids = [run.name for run in copickRoot.runs]\n",
    "\n",
    "# Option 2: Manually Specify Specific Run\n",
    "# Define a specific Run-ID manually. This is useful for extracting volumes for a specific run.\n",
    "runID = 'TS_6_4'\n",
    "\n",
    "# Retrieve the specific run object from CoPick using the manually specified Run-ID.\n",
    "copick_run = copickRoot.get_run(runID)\n",
    "\n",
    "# Extract the segmentation target associated with the specified run.\n",
    "# The function get_copick_segmentation retrieves the segmentation data (e.g., target volume) based on the run object,\n",
    "# segmentation name, user ID, and session ID.\n",
    "train_target = copick_tools.get_copick_segmentation(\n",
    "    copick_run,                 # The run object obtained from CoPick for the specific Run-ID.\n",
    "    segmentationName='remotetargets',  # The name of the segmentation target to retrieve.\n",
    "    userID='deepfindET',        # The user ID under which the segmentation data is saved.\n",
    "    sessionID='0'               # The session ID associated with the segmentation data.\n",
    ")\n",
    "\n",
    "# Retrieve the tomogram associated with the specified Run-ID from the CoPick project.\n",
    "# The function get_copick_tomogram extracts the tomogram data, using the voxel size, algorithm, and Run-ID.\n",
    "train_tomogram = copick_tools.get_copick_tomogram(\n",
    "    copickRoot,                 # The root object for the CoPick project, containing all runs and associated data.\n",
    "    voxelSize=voxel_size,       # The voxel size to be used for retrieving the tomogram.\n",
    "    tomoAlgorithm='wbp',        # The reconstruction algorithm used for the tomogram, e.g., 'wbp' (weighted back projection).\n",
    "    tomoID=runID                # The specific Run-ID for which the tomogram is being retrieved.\n",
    ")"
   ]
  },
  {
   "cell_type": "code",
   "execution_count": 15,
   "id": "5f1215c9",
   "metadata": {
    "execution": {
     "iopub.execute_input": "2025-01-08T11:11:52.837132Z",
     "iopub.status.busy": "2025-01-08T11:11:52.836705Z",
     "iopub.status.idle": "2025-01-08T11:11:54.492143Z",
     "shell.execute_reply": "2025-01-08T11:11:54.490872Z"
    },
    "papermill": {
     "duration": 1.705172,
     "end_time": "2025-01-08T11:11:54.494339",
     "exception": false,
     "start_time": "2025-01-08T11:11:52.789167",
     "status": "completed"
    },
    "tags": []
   },
   "outputs": [],
   "source": [
    "run_ids = [run.name for run in copickRoot.runs]\n",
    "\n",
    "\n",
    "for runID in run_ids:\n",
    "    copick_run = copickRoot.get_run(runID)\n",
    "\n",
    "\n",
    "    train_target = copick_tools.get_copick_segmentation(\n",
    "        copick_run,                 # The run object obtained from CoPick for the specific Run-ID.\n",
    "        segmentationName='remotetargets',  # The name of the segmentation target to retrieve.\n",
    "        userID='deepfindET',        # The user ID under which the segmentation data is saved.\n",
    "        sessionID='0'               # The session ID associated with the segmentation data.\n",
    "    )\n",
    "    volume = np.stack(train_target)\n",
    "    D, H, W = volume.shape\n",
    "    # pad to 640x640\n",
    "    volume = np.pad(\n",
    "        volume,\n",
    "        [[0, 0], [0, 640 - H], [0, 640 - W]],\n",
    "        mode=\"constant\",\n",
    "        constant_values=0,\n",
    "    )\n",
    "    np.save(f\"{runID}.npy\", volume)"
   ]
  },
  {
   "cell_type": "code",
   "execution_count": 16,
   "id": "425f39db",
   "metadata": {
    "execution": {
     "iopub.execute_input": "2025-01-08T11:11:54.587925Z",
     "iopub.status.busy": "2025-01-08T11:11:54.587584Z",
     "iopub.status.idle": "2025-01-08T11:11:55.393907Z",
     "shell.execute_reply": "2025-01-08T11:11:55.392315Z"
    },
    "papermill": {
     "duration": 0.854151,
     "end_time": "2025-01-08T11:11:55.396195",
     "exception": false,
     "start_time": "2025-01-08T11:11:54.542044",
     "status": "completed"
    },
    "tags": []
   },
   "outputs": [],
   "source": [
    "# for download\n",
    "!find ./ -name \"*.npy\" | tar -cf labels.tar -T -"
   ]
  }
 ],
 "metadata": {
  "kaggle": {
   "accelerator": "none",
   "dataSources": [
    {
     "databundleVersionId": 10033515,
     "sourceId": 84969,
     "sourceType": "competition"
    },
    {
     "datasetId": 6040935,
     "sourceId": 9867543,
     "sourceType": "datasetVersion"
    }
   ],
   "dockerImageVersionId": 30822,
   "isGpuEnabled": false,
   "isInternetEnabled": true,
   "language": "python",
   "sourceType": "notebook"
  },
  "kernelspec": {
   "display_name": "Python 3",
   "language": "python",
   "name": "python3"
  },
  "language_info": {
   "codemirror_mode": {
    "name": "ipython",
    "version": 3
   },
   "file_extension": ".py",
   "mimetype": "text/x-python",
   "name": "python",
   "nbconvert_exporter": "python",
   "pygments_lexer": "ipython3",
   "version": "3.12.8"
  },
  "papermill": {
   "default_parameters": {},
   "duration": 168.885928,
   "end_time": "2025-01-08T11:11:56.666358",
   "environment_variables": {},
   "exception": null,
   "input_path": "__notebook__.ipynb",
   "output_path": "__notebook__.ipynb",
   "parameters": {},
   "start_time": "2025-01-08T11:09:07.780430",
   "version": "2.6.0"
  }
 },
 "nbformat": 4,
 "nbformat_minor": 5
}
