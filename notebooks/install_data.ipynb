{
 "cells": [
  {
   "cell_type": "code",
   "execution_count": 1,
   "metadata": {},
   "outputs": [],
   "source": [
    "# kaggle.jsonから取得\n",
    "import os\n",
    "os.environ['KAGGLE_USERNAME'] = \"aaaaaa\"\n",
    "os.environ['KAGGLE_KEY'] = \"aaaaaaaaaaaa\""
   ]
  },
  {
   "cell_type": "code",
   "execution_count": 3,
   "metadata": {},
   "outputs": [
    {
     "name": "stdout",
     "output_type": "stream",
     "text": [
      "Downloading czii-cryo-et-object-identification.zip to /workspace/CZII/notebooks\n",
      "100%|█████████████████████████████████████▉| 8.45G/8.46G [04:01<00:00, 38.2MB/s]\n",
      "100%|██████████████████████████████████████| 8.46G/8.46G [04:01<00:00, 37.6MB/s]\n"
     ]
    }
   ],
   "source": [
    "!kaggle competitions download -c czii-cryo-et-object-identification"
   ]
  },
  {
   "cell_type": "code",
   "execution_count": 4,
   "metadata": {},
   "outputs": [],
   "source": [
    "import zipfile\n",
    "import os\n",
    "\n",
    "# 解凍するZIPファイルのパス\n",
    "zip_file_path = 'czii-cryo-et-object-identification.zip'\n",
    "# 解凍先のディレクトリ\n",
    "extract_to = '../raw'\n",
    "# ディレクトリが存在しない場合は作成\n",
    "# os.makedirs(extract_to, exist_ok=True)\n",
    "# ZIPファイルを解凍\n",
    "with zipfile.ZipFile(zip_file_path, 'r') as zip_ref:\n",
    "    zip_ref.extractall(extract_to)"
   ]
  },
  {
   "cell_type": "code",
   "execution_count": null,
   "metadata": {},
   "outputs": [],
   "source": []
  }
 ],
 "metadata": {
  "kernelspec": {
   "display_name": ".venv",
   "language": "python",
   "name": "python3"
  },
  "language_info": {
   "codemirror_mode": {
    "name": "ipython",
    "version": 3
   },
   "file_extension": ".py",
   "mimetype": "text/x-python",
   "name": "python",
   "nbconvert_exporter": "python",
   "pygments_lexer": "ipython3",
   "version": "3.11.10"
  }
 },
 "nbformat": 4,
 "nbformat_minor": 2
}
