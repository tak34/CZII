{
 "cells": [
  {
   "cell_type": "code",
   "execution_count": 1,
   "metadata": {},
   "outputs": [],
   "source": [
    "# kaggle.jsonから取得\n",
    "import os\n",
    "os.environ['KAGGLE_USERNAME'] = \"takeshimorimura\"\n",
    "os.environ['KAGGLE_KEY'] = \"7eaec4261b184e7a009189955f0b85f4\""
   ]
  },
  {
   "cell_type": "code",
   "execution_count": 2,
   "metadata": {},
   "outputs": [
    {
     "name": "stdout",
     "output_type": "stream",
     "text": [
      "Dataset URL: https://www.kaggle.com/datasets/bobfromjapan/training-ready-cryoet-10441\n",
      "License(s): unknown\n",
      "Downloading training-ready-cryoet-10441.zip to ../raw_synthesis\n",
      "100%|█████████████████████████████████████▉| 8.16G/8.16G [07:42<00:00, 25.6MB/s]\n",
      "100%|██████████████████████████████████████| 8.16G/8.16G [07:42<00:00, 18.9MB/s]\n"
     ]
    }
   ],
   "source": [
    "!kaggle datasets download bobfromjapan/training-ready-cryoet-10441 -p ../raw_synthesis"
   ]
  },
  {
   "cell_type": "code",
   "execution_count": 3,
   "metadata": {},
   "outputs": [],
   "source": [
    "import zipfile\n",
    "import os\n",
    "\n",
    "# 解凍するZIPファイルのパス\n",
    "zip_file_path = '../raw_synthesis/training-ready-cryoet-10441.zip'\n",
    "# 解凍先のディレクトリ\n",
    "extract_to = '../raw_synthesis'\n",
    "# ディレクトリが存在しない場合は作成\n",
    "# os.makedirs(extract_to, exist_ok=True)\n",
    "# ZIPファイルを解凍\n",
    "with zipfile.ZipFile(zip_file_path, 'r') as zip_ref:\n",
    "    zip_ref.extractall(extract_to)"
   ]
  },
  {
   "cell_type": "code",
   "execution_count": null,
   "metadata": {},
   "outputs": [],
   "source": []
  }
 ],
 "metadata": {
  "kernelspec": {
   "display_name": ".venv",
   "language": "python",
   "name": "python3"
  },
  "language_info": {
   "codemirror_mode": {
    "name": "ipython",
    "version": 3
   },
   "file_extension": ".py",
   "mimetype": "text/x-python",
   "name": "python",
   "nbconvert_exporter": "python",
   "pygments_lexer": "ipython3",
   "version": "3.12.8"
  }
 },
 "nbformat": 4,
 "nbformat_minor": 2
}
